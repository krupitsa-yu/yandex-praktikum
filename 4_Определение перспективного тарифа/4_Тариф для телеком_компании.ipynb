{
 "cells": [
  {
   "cell_type": "markdown",
   "metadata": {
    "toc": true
   },
   "source": [
    "<h1>Содержание<span class=\"tocSkip\"></span></h1>\n",
    "<div class=\"toc\"><ul class=\"toc-item\"><li><span><a href=\"#Знакомство-с-данными,-изучение-общей-информации\" data-toc-modified-id=\"Знакомство-с-данными,-изучение-общей-информации-1\"><span class=\"toc-item-num\">1&nbsp;&nbsp;</span>Знакомство с данными, изучение общей информации</a></span></li><li><span><a href=\"#Предобработка-и-подготовка-данных\" data-toc-modified-id=\"Предобработка-и-подготовка-данных-2\"><span class=\"toc-item-num\">2&nbsp;&nbsp;</span>Предобработка и подготовка данных</a></span><ul class=\"toc-item\"><li><span><a href=\"#Приведение-данных-к-нужным-типам\" data-toc-modified-id=\"Приведение-данных-к-нужным-типам-2.1\"><span class=\"toc-item-num\">2.1&nbsp;&nbsp;</span>Приведение данных к нужным типам</a></span></li><li><span><a href=\"#Исправление-ошибок-в-данных\" data-toc-modified-id=\"Исправление-ошибок-в-данных-2.2\"><span class=\"toc-item-num\">2.2&nbsp;&nbsp;</span>Исправление ошибок в данных</a></span></li><li><span><a href=\"#Расчет-для-каждого-пользователя:\" data-toc-modified-id=\"Расчет-для-каждого-пользователя:-2.3\"><span class=\"toc-item-num\">2.3&nbsp;&nbsp;</span>Расчет для каждого пользователя:</a></span></li></ul></li><li><span><a href=\"#Анализ-данных\" data-toc-modified-id=\"Анализ-данных-3\"><span class=\"toc-item-num\">3&nbsp;&nbsp;</span>Анализ данных</a></span><ul class=\"toc-item\"><li><span><a href=\"#Ответы-на-вопросы,-сколько-минут-разговора,-сколько-сообщений-и-какой-объём-интернет-трафика-требуется-пользователям-каждого-тарифа-в-месяц?\" data-toc-modified-id=\"Ответы-на-вопросы,-сколько-минут-разговора,-сколько-сообщений-и-какой-объём-интернет-трафика-требуется-пользователям-каждого-тарифа-в-месяц?-3.1\"><span class=\"toc-item-num\">3.1&nbsp;&nbsp;</span>Ответы на вопросы, сколько минут разговора, сколько сообщений и какой объём интернет-трафика требуется пользователям каждого тарифа в месяц?</a></span></li><li><span><a href=\"#Строим-гистограммы\" data-toc-modified-id=\"Строим-гистограммы-3.2\"><span class=\"toc-item-num\">3.2&nbsp;&nbsp;</span>Строим гистограммы</a></span></li><li><span><a href=\"#Применяем-правило-3-сигм\" data-toc-modified-id=\"Применяем-правило-3-сигм-3.3\"><span class=\"toc-item-num\">3.3&nbsp;&nbsp;</span>Применяем правило 3 сигм</a></span></li></ul></li><li><span><a href=\"#Проверка-гипотез\" data-toc-modified-id=\"Проверка-гипотез-4\"><span class=\"toc-item-num\">4&nbsp;&nbsp;</span>Проверка гипотез</a></span><ul class=\"toc-item\"><li><span><a href=\"#Гипотеза-&quot;Средняя-выручка-пользователей-тарифов-«Ультра»-и-«Смарт»-различаются&quot;\" data-toc-modified-id=\"Гипотеза-&quot;Средняя-выручка-пользователей-тарифов-«Ультра»-и-«Смарт»-различаются&quot;-4.1\"><span class=\"toc-item-num\">4.1&nbsp;&nbsp;</span>Гипотеза \"Средняя выручка пользователей тарифов «Ультра» и «Смарт» различаются\"</a></span></li><li><span><a href=\"#Гипотеза-&quot;Средняя-выручка-пользователей-из-Москвы-отличается-от-выручки-пользователей-из-других-регионов&quot;\" data-toc-modified-id=\"Гипотеза-&quot;Средняя-выручка-пользователей-из-Москвы-отличается-от-выручки-пользователей-из-других-регионов&quot;-4.2\"><span class=\"toc-item-num\">4.2&nbsp;&nbsp;</span>Гипотеза \"Средняя выручка пользователей из Москвы отличается от выручки пользователей из других регионов\"</a></span></li></ul></li><li><span><a href=\"#Общий-вывод\" data-toc-modified-id=\"Общий-вывод-5\"><span class=\"toc-item-num\">5&nbsp;&nbsp;</span>Общий вывод</a></span></li></ul></div>"
   ]
  },
  {
   "cell_type": "markdown",
   "metadata": {},
   "source": [
    "# Определение перспективного тарифа для телеком-компании\n",
    "\n",
    "**Задача проекта**:\n",
    "\n",
    "Компания «Мегалайн» — федеральный оператора сотовой связи. Клиентам предлагают два тарифных плана: «Смарт» и «Ультра». Чтобы скорректировать рекламный бюджет, коммерческий департамент хочет понять, какой тариф приносит больше денег.\n",
    "Нам необходимо сделать предварительный анализ тарифов на небольшой выборке клиентов. В нашем распоряжении данные 500 пользователей «Мегалайна»: кто они, откуда, каким тарифом пользуются, сколько звонков и сообщений каждый отправил за 2018 год. Проанализируем поведение клиентов и сделаем вывод — какой тариф лучше.\n",
    "\n",
    "*Описание тарифов*:\n",
    "\n",
    "Тариф «Смарт»\n",
    "\n",
    "Ежемесячная плата: 550 рублей\n",
    "Включено 500 минут разговора, 50 сообщений и 15 Гб интернет-трафика\n",
    "Стоимость услуг сверх тарифного пакета: 1. минута разговора: 3 рубля («Мегалайн» всегда округляет вверх значения минут и мегабайтов. Если пользователь проговорил всего 1 секунду, в тарифе засчитывается целая минута); 2. сообщение: 3 рубля; 3. 1 Гб интернет-трафика: 200 рублей.\n",
    "\n",
    "Тариф «Ультра»\n",
    "\n",
    "Ежемесячная плата: 1950 рублей\n",
    "Включено 3000 минут разговора, 1000 сообщений и 30 Гб интернет-трафика\n",
    "Стоимость услуг сверх тарифного пакета: 1. минута разговора: 1 рубль; 2. сообщение: 1 рубль; 3. 1 Гб интернет-трафика: 150 рублей.\n",
    "\n",
    "Примечание:\n",
    "«Мегалайн» всегда округляет секунды до минут, а мегабайты — до гигабайт. Каждый звонок округляется отдельно: даже если он длился всего 1 секунду, будет засчитан как 1 минута.\n",
    "Для веб-трафика отдельные сессии не считаются. Вместо этого общая сумма за месяц округляется в бо́льшую сторону. Если абонент использует 1025 мегабайт в этом месяце, с него возьмут плату за 2 гигабайта.\n",
    "\n",
    "В рамках проекта мы проведем следующие  **этапы исследования**: \n",
    "\n",
    "1) Знакомство с данными, изучение общей информации\n",
    "\n",
    "2) Предобработка и подготовка данных, включающие:\n",
    "\n",
    "- Приведение данных к нужным типам;\n",
    "- Исправление ошибок в данных с пояснением, какие ошибки нашли  как исправили;\n",
    "- Расчет для каждого пользователя: количества сделанных звонков и израсходованных минут разговора по месяцам; количества отправленных сообщений по месяцам; объема израсходованного интернет-трафика по месяцам; помесячной выручки с каждого пользователя\n",
    "\n",
    "3) Анализ данных, состоящий из: \n",
    "\n",
    "- Ответов на вопросы, сколько минут разговора, сколько сообщений и какой объём интернет-трафика требуется пользователям каждого тарифа в месяц? Расчетов среднего количества, дисперсии и стандартного отклонения;\n",
    "- Построения гистограмм;\n",
    "- Применение правила 3 сигм\n",
    "\n",
    "4) Проверка гипотез, а именно:\n",
    "- Средняя выручка пользователей тарифов «Ультра» и «Смарт» различаются;\n",
    "- Средняя выручка пользователей из Москвы отличается от выручки пользователей из других регионов\n",
    "\n",
    "5) Общий вывод"
   ]
  },
  {
   "cell_type": "markdown",
   "metadata": {},
   "source": [
    "## Знакомство с данными, изучение общей информации"
   ]
  },
  {
   "cell_type": "code",
   "execution_count": 1,
   "metadata": {},
   "outputs": [],
   "source": [
    "#импортируем необходимые для проекта библиотеки:\n",
    "import pandas as pd\n",
    "import matplotlib.pyplot as plt\n",
    "import numpy as np\n",
    "from scipy import stats as st"
   ]
  },
  {
   "cell_type": "code",
   "execution_count": 2,
   "metadata": {},
   "outputs": [
    {
     "name": "stdout",
     "output_type": "stream",
     "text": [
      "Таблица users\n",
      "\n",
      "<class 'pandas.core.frame.DataFrame'>\n",
      "RangeIndex: 500 entries, 0 to 499\n",
      "Data columns (total 8 columns):\n",
      "user_id       500 non-null int64\n",
      "age           500 non-null int64\n",
      "churn_date    38 non-null object\n",
      "city          500 non-null object\n",
      "first_name    500 non-null object\n",
      "last_name     500 non-null object\n",
      "reg_date      500 non-null object\n",
      "tariff        500 non-null object\n",
      "dtypes: int64(2), object(6)\n",
      "memory usage: 31.4+ KB\n"
     ]
    },
    {
     "data": {
      "text/plain": [
       "None"
      ]
     },
     "metadata": {},
     "output_type": "display_data"
    },
    {
     "data": {
      "text/html": [
       "<div>\n",
       "<style scoped>\n",
       "    .dataframe tbody tr th:only-of-type {\n",
       "        vertical-align: middle;\n",
       "    }\n",
       "\n",
       "    .dataframe tbody tr th {\n",
       "        vertical-align: top;\n",
       "    }\n",
       "\n",
       "    .dataframe thead th {\n",
       "        text-align: right;\n",
       "    }\n",
       "</style>\n",
       "<table border=\"1\" class=\"dataframe\">\n",
       "  <thead>\n",
       "    <tr style=\"text-align: right;\">\n",
       "      <th></th>\n",
       "      <th>user_id</th>\n",
       "      <th>age</th>\n",
       "      <th>churn_date</th>\n",
       "      <th>city</th>\n",
       "      <th>first_name</th>\n",
       "      <th>last_name</th>\n",
       "      <th>reg_date</th>\n",
       "      <th>tariff</th>\n",
       "    </tr>\n",
       "  </thead>\n",
       "  <tbody>\n",
       "    <tr>\n",
       "      <td>0</td>\n",
       "      <td>1000</td>\n",
       "      <td>52</td>\n",
       "      <td>NaN</td>\n",
       "      <td>Краснодар</td>\n",
       "      <td>Рафаил</td>\n",
       "      <td>Верещагин</td>\n",
       "      <td>2018-05-25</td>\n",
       "      <td>ultra</td>\n",
       "    </tr>\n",
       "    <tr>\n",
       "      <td>1</td>\n",
       "      <td>1001</td>\n",
       "      <td>41</td>\n",
       "      <td>NaN</td>\n",
       "      <td>Москва</td>\n",
       "      <td>Иван</td>\n",
       "      <td>Ежов</td>\n",
       "      <td>2018-11-01</td>\n",
       "      <td>smart</td>\n",
       "    </tr>\n",
       "    <tr>\n",
       "      <td>2</td>\n",
       "      <td>1002</td>\n",
       "      <td>59</td>\n",
       "      <td>NaN</td>\n",
       "      <td>Стерлитамак</td>\n",
       "      <td>Евгений</td>\n",
       "      <td>Абрамович</td>\n",
       "      <td>2018-06-17</td>\n",
       "      <td>smart</td>\n",
       "    </tr>\n",
       "    <tr>\n",
       "      <td>3</td>\n",
       "      <td>1003</td>\n",
       "      <td>23</td>\n",
       "      <td>NaN</td>\n",
       "      <td>Москва</td>\n",
       "      <td>Белла</td>\n",
       "      <td>Белякова</td>\n",
       "      <td>2018-08-17</td>\n",
       "      <td>ultra</td>\n",
       "    </tr>\n",
       "    <tr>\n",
       "      <td>4</td>\n",
       "      <td>1004</td>\n",
       "      <td>68</td>\n",
       "      <td>NaN</td>\n",
       "      <td>Новокузнецк</td>\n",
       "      <td>Татьяна</td>\n",
       "      <td>Авдеенко</td>\n",
       "      <td>2018-05-14</td>\n",
       "      <td>ultra</td>\n",
       "    </tr>\n",
       "  </tbody>\n",
       "</table>\n",
       "</div>"
      ],
      "text/plain": [
       "   user_id  age churn_date         city first_name  last_name    reg_date  \\\n",
       "0     1000   52        NaN    Краснодар     Рафаил  Верещагин  2018-05-25   \n",
       "1     1001   41        NaN       Москва       Иван       Ежов  2018-11-01   \n",
       "2     1002   59        NaN  Стерлитамак    Евгений  Абрамович  2018-06-17   \n",
       "3     1003   23        NaN       Москва      Белла   Белякова  2018-08-17   \n",
       "4     1004   68        NaN  Новокузнецк    Татьяна   Авдеенко  2018-05-14   \n",
       "\n",
       "  tariff  \n",
       "0  ultra  \n",
       "1  smart  \n",
       "2  smart  \n",
       "3  ultra  \n",
       "4  ultra  "
      ]
     },
     "metadata": {},
     "output_type": "display_data"
    },
    {
     "name": "stdout",
     "output_type": "stream",
     "text": [
      "\n",
      "Таблица calls\n",
      "\n",
      "<class 'pandas.core.frame.DataFrame'>\n",
      "RangeIndex: 202607 entries, 0 to 202606\n",
      "Data columns (total 4 columns):\n",
      "id           202607 non-null object\n",
      "call_date    202607 non-null object\n",
      "duration     202607 non-null float64\n",
      "user_id      202607 non-null int64\n",
      "dtypes: float64(1), int64(1), object(2)\n",
      "memory usage: 6.2+ MB\n"
     ]
    },
    {
     "data": {
      "text/plain": [
       "None"
      ]
     },
     "metadata": {},
     "output_type": "display_data"
    },
    {
     "data": {
      "text/html": [
       "<div>\n",
       "<style scoped>\n",
       "    .dataframe tbody tr th:only-of-type {\n",
       "        vertical-align: middle;\n",
       "    }\n",
       "\n",
       "    .dataframe tbody tr th {\n",
       "        vertical-align: top;\n",
       "    }\n",
       "\n",
       "    .dataframe thead th {\n",
       "        text-align: right;\n",
       "    }\n",
       "</style>\n",
       "<table border=\"1\" class=\"dataframe\">\n",
       "  <thead>\n",
       "    <tr style=\"text-align: right;\">\n",
       "      <th></th>\n",
       "      <th>id</th>\n",
       "      <th>call_date</th>\n",
       "      <th>duration</th>\n",
       "      <th>user_id</th>\n",
       "    </tr>\n",
       "  </thead>\n",
       "  <tbody>\n",
       "    <tr>\n",
       "      <td>0</td>\n",
       "      <td>1000_0</td>\n",
       "      <td>2018-07-25</td>\n",
       "      <td>0.00</td>\n",
       "      <td>1000</td>\n",
       "    </tr>\n",
       "    <tr>\n",
       "      <td>1</td>\n",
       "      <td>1000_1</td>\n",
       "      <td>2018-08-17</td>\n",
       "      <td>0.00</td>\n",
       "      <td>1000</td>\n",
       "    </tr>\n",
       "    <tr>\n",
       "      <td>2</td>\n",
       "      <td>1000_2</td>\n",
       "      <td>2018-06-11</td>\n",
       "      <td>2.85</td>\n",
       "      <td>1000</td>\n",
       "    </tr>\n",
       "    <tr>\n",
       "      <td>3</td>\n",
       "      <td>1000_3</td>\n",
       "      <td>2018-09-21</td>\n",
       "      <td>13.80</td>\n",
       "      <td>1000</td>\n",
       "    </tr>\n",
       "    <tr>\n",
       "      <td>4</td>\n",
       "      <td>1000_4</td>\n",
       "      <td>2018-12-15</td>\n",
       "      <td>5.18</td>\n",
       "      <td>1000</td>\n",
       "    </tr>\n",
       "  </tbody>\n",
       "</table>\n",
       "</div>"
      ],
      "text/plain": [
       "       id   call_date  duration  user_id\n",
       "0  1000_0  2018-07-25      0.00     1000\n",
       "1  1000_1  2018-08-17      0.00     1000\n",
       "2  1000_2  2018-06-11      2.85     1000\n",
       "3  1000_3  2018-09-21     13.80     1000\n",
       "4  1000_4  2018-12-15      5.18     1000"
      ]
     },
     "metadata": {},
     "output_type": "display_data"
    },
    {
     "name": "stdout",
     "output_type": "stream",
     "text": [
      "\n",
      "Таблица messages\n",
      "\n",
      "<class 'pandas.core.frame.DataFrame'>\n",
      "RangeIndex: 123036 entries, 0 to 123035\n",
      "Data columns (total 3 columns):\n",
      "id              123036 non-null object\n",
      "message_date    123036 non-null object\n",
      "user_id         123036 non-null int64\n",
      "dtypes: int64(1), object(2)\n",
      "memory usage: 2.8+ MB\n"
     ]
    },
    {
     "data": {
      "text/plain": [
       "None"
      ]
     },
     "metadata": {},
     "output_type": "display_data"
    },
    {
     "data": {
      "text/html": [
       "<div>\n",
       "<style scoped>\n",
       "    .dataframe tbody tr th:only-of-type {\n",
       "        vertical-align: middle;\n",
       "    }\n",
       "\n",
       "    .dataframe tbody tr th {\n",
       "        vertical-align: top;\n",
       "    }\n",
       "\n",
       "    .dataframe thead th {\n",
       "        text-align: right;\n",
       "    }\n",
       "</style>\n",
       "<table border=\"1\" class=\"dataframe\">\n",
       "  <thead>\n",
       "    <tr style=\"text-align: right;\">\n",
       "      <th></th>\n",
       "      <th>id</th>\n",
       "      <th>message_date</th>\n",
       "      <th>user_id</th>\n",
       "    </tr>\n",
       "  </thead>\n",
       "  <tbody>\n",
       "    <tr>\n",
       "      <td>0</td>\n",
       "      <td>1000_0</td>\n",
       "      <td>2018-06-27</td>\n",
       "      <td>1000</td>\n",
       "    </tr>\n",
       "    <tr>\n",
       "      <td>1</td>\n",
       "      <td>1000_1</td>\n",
       "      <td>2018-10-08</td>\n",
       "      <td>1000</td>\n",
       "    </tr>\n",
       "    <tr>\n",
       "      <td>2</td>\n",
       "      <td>1000_2</td>\n",
       "      <td>2018-08-04</td>\n",
       "      <td>1000</td>\n",
       "    </tr>\n",
       "    <tr>\n",
       "      <td>3</td>\n",
       "      <td>1000_3</td>\n",
       "      <td>2018-06-16</td>\n",
       "      <td>1000</td>\n",
       "    </tr>\n",
       "    <tr>\n",
       "      <td>4</td>\n",
       "      <td>1000_4</td>\n",
       "      <td>2018-12-05</td>\n",
       "      <td>1000</td>\n",
       "    </tr>\n",
       "  </tbody>\n",
       "</table>\n",
       "</div>"
      ],
      "text/plain": [
       "       id message_date  user_id\n",
       "0  1000_0   2018-06-27     1000\n",
       "1  1000_1   2018-10-08     1000\n",
       "2  1000_2   2018-08-04     1000\n",
       "3  1000_3   2018-06-16     1000\n",
       "4  1000_4   2018-12-05     1000"
      ]
     },
     "metadata": {},
     "output_type": "display_data"
    },
    {
     "name": "stdout",
     "output_type": "stream",
     "text": [
      "\n",
      "Таблица internet\n",
      "\n",
      "<class 'pandas.core.frame.DataFrame'>\n",
      "RangeIndex: 149396 entries, 0 to 149395\n",
      "Data columns (total 5 columns):\n",
      "Unnamed: 0      149396 non-null int64\n",
      "id              149396 non-null object\n",
      "mb_used         149396 non-null float64\n",
      "session_date    149396 non-null object\n",
      "user_id         149396 non-null int64\n",
      "dtypes: float64(1), int64(2), object(2)\n",
      "memory usage: 5.7+ MB\n"
     ]
    },
    {
     "data": {
      "text/plain": [
       "None"
      ]
     },
     "metadata": {},
     "output_type": "display_data"
    },
    {
     "data": {
      "text/html": [
       "<div>\n",
       "<style scoped>\n",
       "    .dataframe tbody tr th:only-of-type {\n",
       "        vertical-align: middle;\n",
       "    }\n",
       "\n",
       "    .dataframe tbody tr th {\n",
       "        vertical-align: top;\n",
       "    }\n",
       "\n",
       "    .dataframe thead th {\n",
       "        text-align: right;\n",
       "    }\n",
       "</style>\n",
       "<table border=\"1\" class=\"dataframe\">\n",
       "  <thead>\n",
       "    <tr style=\"text-align: right;\">\n",
       "      <th></th>\n",
       "      <th>Unnamed: 0</th>\n",
       "      <th>id</th>\n",
       "      <th>mb_used</th>\n",
       "      <th>session_date</th>\n",
       "      <th>user_id</th>\n",
       "    </tr>\n",
       "  </thead>\n",
       "  <tbody>\n",
       "    <tr>\n",
       "      <td>0</td>\n",
       "      <td>0</td>\n",
       "      <td>1000_0</td>\n",
       "      <td>112.95</td>\n",
       "      <td>2018-11-25</td>\n",
       "      <td>1000</td>\n",
       "    </tr>\n",
       "    <tr>\n",
       "      <td>1</td>\n",
       "      <td>1</td>\n",
       "      <td>1000_1</td>\n",
       "      <td>1052.81</td>\n",
       "      <td>2018-09-07</td>\n",
       "      <td>1000</td>\n",
       "    </tr>\n",
       "    <tr>\n",
       "      <td>2</td>\n",
       "      <td>2</td>\n",
       "      <td>1000_2</td>\n",
       "      <td>1197.26</td>\n",
       "      <td>2018-06-25</td>\n",
       "      <td>1000</td>\n",
       "    </tr>\n",
       "    <tr>\n",
       "      <td>3</td>\n",
       "      <td>3</td>\n",
       "      <td>1000_3</td>\n",
       "      <td>550.27</td>\n",
       "      <td>2018-08-22</td>\n",
       "      <td>1000</td>\n",
       "    </tr>\n",
       "    <tr>\n",
       "      <td>4</td>\n",
       "      <td>4</td>\n",
       "      <td>1000_4</td>\n",
       "      <td>302.56</td>\n",
       "      <td>2018-09-24</td>\n",
       "      <td>1000</td>\n",
       "    </tr>\n",
       "  </tbody>\n",
       "</table>\n",
       "</div>"
      ],
      "text/plain": [
       "   Unnamed: 0      id  mb_used session_date  user_id\n",
       "0           0  1000_0   112.95   2018-11-25     1000\n",
       "1           1  1000_1  1052.81   2018-09-07     1000\n",
       "2           2  1000_2  1197.26   2018-06-25     1000\n",
       "3           3  1000_3   550.27   2018-08-22     1000\n",
       "4           4  1000_4   302.56   2018-09-24     1000"
      ]
     },
     "metadata": {},
     "output_type": "display_data"
    },
    {
     "name": "stdout",
     "output_type": "stream",
     "text": [
      "\n",
      "Таблица tariffs\n",
      "\n",
      "<class 'pandas.core.frame.DataFrame'>\n",
      "RangeIndex: 2 entries, 0 to 1\n",
      "Data columns (total 8 columns):\n",
      "messages_included        2 non-null int64\n",
      "mb_per_month_included    2 non-null int64\n",
      "minutes_included         2 non-null int64\n",
      "rub_monthly_fee          2 non-null int64\n",
      "rub_per_gb               2 non-null int64\n",
      "rub_per_message          2 non-null int64\n",
      "rub_per_minute           2 non-null int64\n",
      "tariff_name              2 non-null object\n",
      "dtypes: int64(7), object(1)\n",
      "memory usage: 256.0+ bytes\n"
     ]
    },
    {
     "data": {
      "text/plain": [
       "None"
      ]
     },
     "metadata": {},
     "output_type": "display_data"
    },
    {
     "data": {
      "text/html": [
       "<div>\n",
       "<style scoped>\n",
       "    .dataframe tbody tr th:only-of-type {\n",
       "        vertical-align: middle;\n",
       "    }\n",
       "\n",
       "    .dataframe tbody tr th {\n",
       "        vertical-align: top;\n",
       "    }\n",
       "\n",
       "    .dataframe thead th {\n",
       "        text-align: right;\n",
       "    }\n",
       "</style>\n",
       "<table border=\"1\" class=\"dataframe\">\n",
       "  <thead>\n",
       "    <tr style=\"text-align: right;\">\n",
       "      <th></th>\n",
       "      <th>messages_included</th>\n",
       "      <th>mb_per_month_included</th>\n",
       "      <th>minutes_included</th>\n",
       "      <th>rub_monthly_fee</th>\n",
       "      <th>rub_per_gb</th>\n",
       "      <th>rub_per_message</th>\n",
       "      <th>rub_per_minute</th>\n",
       "      <th>tariff_name</th>\n",
       "    </tr>\n",
       "  </thead>\n",
       "  <tbody>\n",
       "    <tr>\n",
       "      <td>0</td>\n",
       "      <td>50</td>\n",
       "      <td>15360</td>\n",
       "      <td>500</td>\n",
       "      <td>550</td>\n",
       "      <td>200</td>\n",
       "      <td>3</td>\n",
       "      <td>3</td>\n",
       "      <td>smart</td>\n",
       "    </tr>\n",
       "    <tr>\n",
       "      <td>1</td>\n",
       "      <td>1000</td>\n",
       "      <td>30720</td>\n",
       "      <td>3000</td>\n",
       "      <td>1950</td>\n",
       "      <td>150</td>\n",
       "      <td>1</td>\n",
       "      <td>1</td>\n",
       "      <td>ultra</td>\n",
       "    </tr>\n",
       "  </tbody>\n",
       "</table>\n",
       "</div>"
      ],
      "text/plain": [
       "   messages_included  mb_per_month_included  minutes_included  \\\n",
       "0                 50                  15360               500   \n",
       "1               1000                  30720              3000   \n",
       "\n",
       "   rub_monthly_fee  rub_per_gb  rub_per_message  rub_per_minute tariff_name  \n",
       "0              550         200                3               3       smart  \n",
       "1             1950         150                1               1       ultra  "
      ]
     },
     "metadata": {},
     "output_type": "display_data"
    },
    {
     "name": "stdout",
     "output_type": "stream",
     "text": [
      "\n"
     ]
    }
   ],
   "source": [
    "#прочтем файлы: \n",
    "calls = pd.read_csv('/datasets/calls.csv')\n",
    "internet = pd.read_csv('/datasets/internet.csv')\n",
    "messages = pd.read_csv('/datasets/messages.csv')\n",
    "tariffs = pd.read_csv('/datasets/tariffs.csv')\n",
    "users = pd.read_csv('/datasets/users.csv')\n",
    "#выведем на экран первые 5 строк каждого файла для ознакомдения, а также общую информацию о таблицах:\n",
    "tables = [users, calls, messages,internet, tariffs]\n",
    "name_tables = ['users', 'calls', 'messages','internet', 'tariffs']\n",
    "for index in range(len(tables)):\n",
    "    print('Таблица', name_tables[index])\n",
    "    print()\n",
    "    display(tables[index].info())\n",
    "    display(tables[index].head())\n",
    "    print()\n",
    "    "
   ]
  },
  {
   "cell_type": "markdown",
   "metadata": {},
   "source": [
    "*Для удобства дальнейшего исследования дадим пояснения названиям столбцов*: \n",
    "\n",
    "**Таблица users (информация о пользователях)**:\n",
    "- user_id — уникальный идентификатор пользователя\n",
    "- first_name — имя пользователя\n",
    "- last_name — фамилия пользователя\n",
    "- age — возраст пользователя (годы)\n",
    "- reg_date — дата подключения тарифа (день, месяц, год)\n",
    "- churn_date — дата прекращения пользования тарифом (если значение пропущено, то тариф ещё действовал на момент выгрузки данных)\n",
    "- city — город проживания пользователя\n",
    "- tarif — название тарифного плана\n",
    "\n",
    "**Таблица calls (информация о звонках)**:\n",
    "- id — уникальный номер звонка\n",
    "- call_date — дата звонка\n",
    "- duration — длительность звонка в минутах\n",
    "- user_id — идентификатор пользователя, сделавшего звонок\n",
    "\n",
    "**Таблица messages (информация о сообщениях)**:\n",
    "- id — уникальный номер сообщения\n",
    "- message_date — дата сообщения\n",
    "- user_id — идентификатор пользователя, отправившего сообщение\n",
    "\n",
    "**Таблица internet (информация об интернет-сессиях)**:\n",
    "- id — уникальный номер сессии\n",
    "- mb_used — объём потраченного за сессию интернет-трафика (в мегабайтах)\n",
    "- session_date — дата интернет-сессии\n",
    "- user_id — идентификатор пользователя\n",
    "\n",
    "**Таблица tariffs (информация о тарифах)**:\n",
    "- tariff_name — название тарифа\n",
    "- rub_monthly_fee — ежемесячная абонентская плата в рублях\n",
    "- minutes_included — количество минут разговора в месяц, включённых в абонентскую плату\n",
    "- messages_included — количество сообщений в месяц, включённых в абонентскую плату\n",
    "- mb_per_month_included — объём интернет-трафика, включённого в абонентскую плату (в мегабайтах)\n",
    "- rub_per_minute — стоимость минуты разговора сверх тарифного пакета (например, если в тарифе 100 минут разговора в месяц, то со 101 минуты будет взиматься плата)\n",
    "- rub_per_message — стоимость отправки сообщения сверх тарифного пакета\n",
    "- rub_per_gb — стоимость дополнительного гигабайта интернет-трафика сверх тарифного пакета (1 гигабайт = 1024 мегабайта)\n"
   ]
  },
  {
   "cell_type": "markdown",
   "metadata": {},
   "source": [
    "Какие **выводы** можем сделать после ознакомления с общей информацией о данных? \n",
    "\n",
    "1. Выявлены пропуски в таблице users в столбце churn_date — дата прекращения пользования тарифом. В описании данных указано, что если значение в этом столбце пропущено, то тариф ещё действовал на момент выгрузки данных. Оставляем этот  столбец как есть. \n",
    "2. Выявлен неверный тип данных в столбцах с датами (столбцы churn_date и reg_date  таблицы users, call_date таблицы calls, message_date - messages, session_date - internet). На этапе предобработки данных исправим тип данных в этих столбцах на datetime. \n",
    "3. В столбце duration — длительность звонка в минутах таблицы calls выявлены нулевые значения. Нулями обозначены пропущенные звонки, поэтому их не нужно удалять. Оставляем этот столбец как есть. \n",
    "4. Также в столбце duration значения длительности звонка указаны с дробной частью, то есть минуты и секунды. «Мегалайн» всегда округляет секунды до минут. Каждый звонок округляется отдельно: даже если он длился всего 1 секунду, будет засчитан как 1 минута. Поэтому на этапе предобработки данных необходимо будет округлить значения в большую сторону.\n",
    "5. В таблицу internet закрался загадочный столбец \"Unnamed:0\", судя по всему, повторяющий индексы таблицы. В описании проекта об этом столбце ничего не сказано. Удалим его.  \n",
    "\n",
    "Теперь приступим к предобработке и подготовке данных для дальнейшего анализа."
   ]
  },
  {
   "cell_type": "markdown",
   "metadata": {},
   "source": [
    "## Предобработка и подготовка данных"
   ]
  },
  {
   "cell_type": "markdown",
   "metadata": {},
   "source": [
    "###  Приведение данных к нужным типам\n",
    "Ранее мы выявили, что в столбцах с датами (столбцы churn_date и reg_date таблицы users, call_date таблицы calls, message_date - messages, session_date - internet) выявлен неверный тип данных. Необходимо исправить тип данных на datetime. "
   ]
  },
  {
   "cell_type": "code",
   "execution_count": 3,
   "metadata": {},
   "outputs": [
    {
     "name": "stdout",
     "output_type": "stream",
     "text": [
      "<class 'pandas.core.frame.DataFrame'>\n",
      "RangeIndex: 500 entries, 0 to 499\n",
      "Data columns (total 8 columns):\n",
      "user_id       500 non-null int64\n",
      "age           500 non-null int64\n",
      "churn_date    38 non-null datetime64[ns]\n",
      "city          500 non-null object\n",
      "first_name    500 non-null object\n",
      "last_name     500 non-null object\n",
      "reg_date      500 non-null datetime64[ns]\n",
      "tariff        500 non-null object\n",
      "dtypes: datetime64[ns](2), int64(2), object(4)\n",
      "memory usage: 31.4+ KB\n"
     ]
    }
   ],
   "source": [
    "#чтобы поменять тип данных на \"datetime\", воспользуемся методом to_datetime() и напишем цикл:\n",
    "tables = [users, users, calls, messages, internet]\n",
    "columns = ['churn_date', 'reg_date', 'call_date', 'message_date', 'session_date']\n",
    "for index in range(len(tables)):\n",
    "    tables[index][columns[index]] = pd.to_datetime(tables[index][columns[index]], format = '%Y-%m-%d')\n",
    "#для проверки еще раз выведем общую информацию о данных таблицы users методом info()\n",
    "users.info()"
   ]
  },
  {
   "cell_type": "markdown",
   "metadata": {},
   "source": [
    "### Исправление ошибок в данных\n",
    "Для того чтобы найти ошибки в данных, для начала посмотрим список характерных значений для таблиц. "
   ]
  },
  {
   "cell_type": "code",
   "execution_count": 4,
   "metadata": {},
   "outputs": [
    {
     "name": "stdout",
     "output_type": "stream",
     "text": [
      "users\n",
      "\n"
     ]
    },
    {
     "data": {
      "text/html": [
       "<div>\n",
       "<style scoped>\n",
       "    .dataframe tbody tr th:only-of-type {\n",
       "        vertical-align: middle;\n",
       "    }\n",
       "\n",
       "    .dataframe tbody tr th {\n",
       "        vertical-align: top;\n",
       "    }\n",
       "\n",
       "    .dataframe thead th {\n",
       "        text-align: right;\n",
       "    }\n",
       "</style>\n",
       "<table border=\"1\" class=\"dataframe\">\n",
       "  <thead>\n",
       "    <tr style=\"text-align: right;\">\n",
       "      <th></th>\n",
       "      <th>user_id</th>\n",
       "      <th>age</th>\n",
       "    </tr>\n",
       "  </thead>\n",
       "  <tbody>\n",
       "    <tr>\n",
       "      <td>count</td>\n",
       "      <td>500.000000</td>\n",
       "      <td>500.00000</td>\n",
       "    </tr>\n",
       "    <tr>\n",
       "      <td>mean</td>\n",
       "      <td>1249.500000</td>\n",
       "      <td>46.58800</td>\n",
       "    </tr>\n",
       "    <tr>\n",
       "      <td>std</td>\n",
       "      <td>144.481833</td>\n",
       "      <td>16.66763</td>\n",
       "    </tr>\n",
       "    <tr>\n",
       "      <td>min</td>\n",
       "      <td>1000.000000</td>\n",
       "      <td>18.00000</td>\n",
       "    </tr>\n",
       "    <tr>\n",
       "      <td>25%</td>\n",
       "      <td>1124.750000</td>\n",
       "      <td>32.00000</td>\n",
       "    </tr>\n",
       "    <tr>\n",
       "      <td>50%</td>\n",
       "      <td>1249.500000</td>\n",
       "      <td>46.00000</td>\n",
       "    </tr>\n",
       "    <tr>\n",
       "      <td>75%</td>\n",
       "      <td>1374.250000</td>\n",
       "      <td>62.00000</td>\n",
       "    </tr>\n",
       "    <tr>\n",
       "      <td>max</td>\n",
       "      <td>1499.000000</td>\n",
       "      <td>75.00000</td>\n",
       "    </tr>\n",
       "  </tbody>\n",
       "</table>\n",
       "</div>"
      ],
      "text/plain": [
       "           user_id        age\n",
       "count   500.000000  500.00000\n",
       "mean   1249.500000   46.58800\n",
       "std     144.481833   16.66763\n",
       "min    1000.000000   18.00000\n",
       "25%    1124.750000   32.00000\n",
       "50%    1249.500000   46.00000\n",
       "75%    1374.250000   62.00000\n",
       "max    1499.000000   75.00000"
      ]
     },
     "metadata": {},
     "output_type": "display_data"
    },
    {
     "name": "stdout",
     "output_type": "stream",
     "text": [
      "calls\n",
      "\n"
     ]
    },
    {
     "data": {
      "text/html": [
       "<div>\n",
       "<style scoped>\n",
       "    .dataframe tbody tr th:only-of-type {\n",
       "        vertical-align: middle;\n",
       "    }\n",
       "\n",
       "    .dataframe tbody tr th {\n",
       "        vertical-align: top;\n",
       "    }\n",
       "\n",
       "    .dataframe thead th {\n",
       "        text-align: right;\n",
       "    }\n",
       "</style>\n",
       "<table border=\"1\" class=\"dataframe\">\n",
       "  <thead>\n",
       "    <tr style=\"text-align: right;\">\n",
       "      <th></th>\n",
       "      <th>duration</th>\n",
       "      <th>user_id</th>\n",
       "    </tr>\n",
       "  </thead>\n",
       "  <tbody>\n",
       "    <tr>\n",
       "      <td>count</td>\n",
       "      <td>202607.000000</td>\n",
       "      <td>202607.000000</td>\n",
       "    </tr>\n",
       "    <tr>\n",
       "      <td>mean</td>\n",
       "      <td>6.755887</td>\n",
       "      <td>1253.940619</td>\n",
       "    </tr>\n",
       "    <tr>\n",
       "      <td>std</td>\n",
       "      <td>5.843365</td>\n",
       "      <td>144.722751</td>\n",
       "    </tr>\n",
       "    <tr>\n",
       "      <td>min</td>\n",
       "      <td>0.000000</td>\n",
       "      <td>1000.000000</td>\n",
       "    </tr>\n",
       "    <tr>\n",
       "      <td>25%</td>\n",
       "      <td>1.300000</td>\n",
       "      <td>1126.000000</td>\n",
       "    </tr>\n",
       "    <tr>\n",
       "      <td>50%</td>\n",
       "      <td>6.000000</td>\n",
       "      <td>1260.000000</td>\n",
       "    </tr>\n",
       "    <tr>\n",
       "      <td>75%</td>\n",
       "      <td>10.700000</td>\n",
       "      <td>1379.000000</td>\n",
       "    </tr>\n",
       "    <tr>\n",
       "      <td>max</td>\n",
       "      <td>38.000000</td>\n",
       "      <td>1499.000000</td>\n",
       "    </tr>\n",
       "  </tbody>\n",
       "</table>\n",
       "</div>"
      ],
      "text/plain": [
       "            duration        user_id\n",
       "count  202607.000000  202607.000000\n",
       "mean        6.755887    1253.940619\n",
       "std         5.843365     144.722751\n",
       "min         0.000000    1000.000000\n",
       "25%         1.300000    1126.000000\n",
       "50%         6.000000    1260.000000\n",
       "75%        10.700000    1379.000000\n",
       "max        38.000000    1499.000000"
      ]
     },
     "metadata": {},
     "output_type": "display_data"
    },
    {
     "name": "stdout",
     "output_type": "stream",
     "text": [
      "messages\n",
      "\n"
     ]
    },
    {
     "data": {
      "text/html": [
       "<div>\n",
       "<style scoped>\n",
       "    .dataframe tbody tr th:only-of-type {\n",
       "        vertical-align: middle;\n",
       "    }\n",
       "\n",
       "    .dataframe tbody tr th {\n",
       "        vertical-align: top;\n",
       "    }\n",
       "\n",
       "    .dataframe thead th {\n",
       "        text-align: right;\n",
       "    }\n",
       "</style>\n",
       "<table border=\"1\" class=\"dataframe\">\n",
       "  <thead>\n",
       "    <tr style=\"text-align: right;\">\n",
       "      <th></th>\n",
       "      <th>user_id</th>\n",
       "    </tr>\n",
       "  </thead>\n",
       "  <tbody>\n",
       "    <tr>\n",
       "      <td>count</td>\n",
       "      <td>123036.000000</td>\n",
       "    </tr>\n",
       "    <tr>\n",
       "      <td>mean</td>\n",
       "      <td>1256.989410</td>\n",
       "    </tr>\n",
       "    <tr>\n",
       "      <td>std</td>\n",
       "      <td>143.523967</td>\n",
       "    </tr>\n",
       "    <tr>\n",
       "      <td>min</td>\n",
       "      <td>1000.000000</td>\n",
       "    </tr>\n",
       "    <tr>\n",
       "      <td>25%</td>\n",
       "      <td>1134.000000</td>\n",
       "    </tr>\n",
       "    <tr>\n",
       "      <td>50%</td>\n",
       "      <td>1271.000000</td>\n",
       "    </tr>\n",
       "    <tr>\n",
       "      <td>75%</td>\n",
       "      <td>1381.000000</td>\n",
       "    </tr>\n",
       "    <tr>\n",
       "      <td>max</td>\n",
       "      <td>1499.000000</td>\n",
       "    </tr>\n",
       "  </tbody>\n",
       "</table>\n",
       "</div>"
      ],
      "text/plain": [
       "             user_id\n",
       "count  123036.000000\n",
       "mean     1256.989410\n",
       "std       143.523967\n",
       "min      1000.000000\n",
       "25%      1134.000000\n",
       "50%      1271.000000\n",
       "75%      1381.000000\n",
       "max      1499.000000"
      ]
     },
     "metadata": {},
     "output_type": "display_data"
    },
    {
     "name": "stdout",
     "output_type": "stream",
     "text": [
      "internet\n",
      "\n"
     ]
    },
    {
     "data": {
      "text/html": [
       "<div>\n",
       "<style scoped>\n",
       "    .dataframe tbody tr th:only-of-type {\n",
       "        vertical-align: middle;\n",
       "    }\n",
       "\n",
       "    .dataframe tbody tr th {\n",
       "        vertical-align: top;\n",
       "    }\n",
       "\n",
       "    .dataframe thead th {\n",
       "        text-align: right;\n",
       "    }\n",
       "</style>\n",
       "<table border=\"1\" class=\"dataframe\">\n",
       "  <thead>\n",
       "    <tr style=\"text-align: right;\">\n",
       "      <th></th>\n",
       "      <th>Unnamed: 0</th>\n",
       "      <th>mb_used</th>\n",
       "      <th>user_id</th>\n",
       "    </tr>\n",
       "  </thead>\n",
       "  <tbody>\n",
       "    <tr>\n",
       "      <td>count</td>\n",
       "      <td>149396.000000</td>\n",
       "      <td>149396.000000</td>\n",
       "      <td>149396.000000</td>\n",
       "    </tr>\n",
       "    <tr>\n",
       "      <td>mean</td>\n",
       "      <td>74697.500000</td>\n",
       "      <td>370.192426</td>\n",
       "      <td>1252.099842</td>\n",
       "    </tr>\n",
       "    <tr>\n",
       "      <td>std</td>\n",
       "      <td>43127.054745</td>\n",
       "      <td>278.300951</td>\n",
       "      <td>144.050823</td>\n",
       "    </tr>\n",
       "    <tr>\n",
       "      <td>min</td>\n",
       "      <td>0.000000</td>\n",
       "      <td>0.000000</td>\n",
       "      <td>1000.000000</td>\n",
       "    </tr>\n",
       "    <tr>\n",
       "      <td>25%</td>\n",
       "      <td>37348.750000</td>\n",
       "      <td>138.187500</td>\n",
       "      <td>1130.000000</td>\n",
       "    </tr>\n",
       "    <tr>\n",
       "      <td>50%</td>\n",
       "      <td>74697.500000</td>\n",
       "      <td>348.015000</td>\n",
       "      <td>1251.000000</td>\n",
       "    </tr>\n",
       "    <tr>\n",
       "      <td>75%</td>\n",
       "      <td>112046.250000</td>\n",
       "      <td>559.552500</td>\n",
       "      <td>1380.000000</td>\n",
       "    </tr>\n",
       "    <tr>\n",
       "      <td>max</td>\n",
       "      <td>149395.000000</td>\n",
       "      <td>1724.830000</td>\n",
       "      <td>1499.000000</td>\n",
       "    </tr>\n",
       "  </tbody>\n",
       "</table>\n",
       "</div>"
      ],
      "text/plain": [
       "          Unnamed: 0        mb_used        user_id\n",
       "count  149396.000000  149396.000000  149396.000000\n",
       "mean    74697.500000     370.192426    1252.099842\n",
       "std     43127.054745     278.300951     144.050823\n",
       "min         0.000000       0.000000    1000.000000\n",
       "25%     37348.750000     138.187500    1130.000000\n",
       "50%     74697.500000     348.015000    1251.000000\n",
       "75%    112046.250000     559.552500    1380.000000\n",
       "max    149395.000000    1724.830000    1499.000000"
      ]
     },
     "metadata": {},
     "output_type": "display_data"
    }
   ],
   "source": [
    "#посмотрим список характерных значений для таблиц users, calls, messages, internet с помощью метода describe и цикла for:\n",
    "tables = [users, calls, messages, internet]\n",
    "name_tables = ['users', 'calls', 'messages','internet']\n",
    "for index in range(len(tables)):\n",
    "    print(name_tables[index])\n",
    "    print()\n",
    "    display(tables[index].describe())\n",
    "    display()"
   ]
  },
  {
   "cell_type": "markdown",
   "metadata": {},
   "source": [
    "После ознакомления со списком характерных значений у нас вызвали интерес нули в столбце duration - длительность звонка и mb_used- объем интернет- трафика. Ранее мы оговорили, что нулями в столбце duration обозначены пропущенные звонки, поэтому их не нужно удалять.\n",
    "\n",
    "А вот нулевой объем интернет- трафика - возможно, это сессия, при которой не было никакой онлайн- активности, то есть интернет у абонента был подключён, но трафика по нему не шло. Проверим, сколько нулевых значений в таблице и удалим их, так как они искажают данные. "
   ]
  },
  {
   "cell_type": "code",
   "execution_count": 5,
   "metadata": {},
   "outputs": [
    {
     "data": {
      "text/plain": [
       "0.00      19598\n",
       "197.56        9\n",
       "447.30        9\n",
       "335.91        9\n",
       "108.95        8\n",
       "          ...  \n",
       "72.49         1\n",
       "846.22        1\n",
       "429.17        1\n",
       "899.03        1\n",
       "483.87        1\n",
       "Name: mb_used, Length: 70003, dtype: int64"
      ]
     },
     "execution_count": 5,
     "metadata": {},
     "output_type": "execute_result"
    }
   ],
   "source": [
    "#посчитаем количество нулевых значений в столбце mb_used\n",
    "internet['mb_used'].value_counts()"
   ]
  },
  {
   "cell_type": "markdown",
   "metadata": {},
   "source": [
    "Выявлено 13 % нулевых интернет-сессий из всего массива данных. Необходимо удалить эти значения, так как они явно будут влиять на статистику.  Перезапишем переменную internet, заодно удалим столбец Unnamed: 0, информации о котором не было в описании данных. "
   ]
  },
  {
   "cell_type": "code",
   "execution_count": 6,
   "metadata": {},
   "outputs": [
    {
     "data": {
      "text/html": [
       "<div>\n",
       "<style scoped>\n",
       "    .dataframe tbody tr th:only-of-type {\n",
       "        vertical-align: middle;\n",
       "    }\n",
       "\n",
       "    .dataframe tbody tr th {\n",
       "        vertical-align: top;\n",
       "    }\n",
       "\n",
       "    .dataframe thead th {\n",
       "        text-align: right;\n",
       "    }\n",
       "</style>\n",
       "<table border=\"1\" class=\"dataframe\">\n",
       "  <thead>\n",
       "    <tr style=\"text-align: right;\">\n",
       "      <th></th>\n",
       "      <th>mb_used</th>\n",
       "      <th>user_id</th>\n",
       "    </tr>\n",
       "  </thead>\n",
       "  <tbody>\n",
       "    <tr>\n",
       "      <td>count</td>\n",
       "      <td>129798.000000</td>\n",
       "      <td>129798.000000</td>\n",
       "    </tr>\n",
       "    <tr>\n",
       "      <td>mean</td>\n",
       "      <td>426.087210</td>\n",
       "      <td>1253.046318</td>\n",
       "    </tr>\n",
       "    <tr>\n",
       "      <td>std</td>\n",
       "      <td>255.596447</td>\n",
       "      <td>143.782672</td>\n",
       "    </tr>\n",
       "    <tr>\n",
       "      <td>min</td>\n",
       "      <td>0.030000</td>\n",
       "      <td>1000.000000</td>\n",
       "    </tr>\n",
       "    <tr>\n",
       "      <td>25%</td>\n",
       "      <td>227.460000</td>\n",
       "      <td>1132.000000</td>\n",
       "    </tr>\n",
       "    <tr>\n",
       "      <td>50%</td>\n",
       "      <td>400.540000</td>\n",
       "      <td>1252.000000</td>\n",
       "    </tr>\n",
       "    <tr>\n",
       "      <td>75%</td>\n",
       "      <td>592.947500</td>\n",
       "      <td>1380.000000</td>\n",
       "    </tr>\n",
       "    <tr>\n",
       "      <td>max</td>\n",
       "      <td>1724.830000</td>\n",
       "      <td>1499.000000</td>\n",
       "    </tr>\n",
       "  </tbody>\n",
       "</table>\n",
       "</div>"
      ],
      "text/plain": [
       "             mb_used        user_id\n",
       "count  129798.000000  129798.000000\n",
       "mean      426.087210    1253.046318\n",
       "std       255.596447     143.782672\n",
       "min         0.030000    1000.000000\n",
       "25%       227.460000    1132.000000\n",
       "50%       400.540000    1252.000000\n",
       "75%       592.947500    1380.000000\n",
       "max      1724.830000    1499.000000"
      ]
     },
     "execution_count": 6,
     "metadata": {},
     "output_type": "execute_result"
    }
   ],
   "source": [
    "#перезапишем переменную internet:\n",
    "internet = internet[['id','mb_used','session_date','user_id']].query('mb_used!=0')\n",
    "#для проверки применим еше раз метод describe() к таблице internet:\n",
    "internet.describe()"
   ]
  },
  {
   "cell_type": "markdown",
   "metadata": {},
   "source": [
    "Нам осталось округлить значения столбца duration в большую сторону, так как значения указаны с секундами, а каждый звонок должен быть округлен до целых минут. "
   ]
  },
  {
   "cell_type": "code",
   "execution_count": 7,
   "metadata": {},
   "outputs": [
    {
     "data": {
      "text/html": [
       "<div>\n",
       "<style scoped>\n",
       "    .dataframe tbody tr th:only-of-type {\n",
       "        vertical-align: middle;\n",
       "    }\n",
       "\n",
       "    .dataframe tbody tr th {\n",
       "        vertical-align: top;\n",
       "    }\n",
       "\n",
       "    .dataframe thead th {\n",
       "        text-align: right;\n",
       "    }\n",
       "</style>\n",
       "<table border=\"1\" class=\"dataframe\">\n",
       "  <thead>\n",
       "    <tr style=\"text-align: right;\">\n",
       "      <th></th>\n",
       "      <th>id</th>\n",
       "      <th>call_date</th>\n",
       "      <th>duration</th>\n",
       "      <th>user_id</th>\n",
       "    </tr>\n",
       "  </thead>\n",
       "  <tbody>\n",
       "    <tr>\n",
       "      <td>0</td>\n",
       "      <td>1000_0</td>\n",
       "      <td>2018-07-25</td>\n",
       "      <td>0.0</td>\n",
       "      <td>1000</td>\n",
       "    </tr>\n",
       "    <tr>\n",
       "      <td>1</td>\n",
       "      <td>1000_1</td>\n",
       "      <td>2018-08-17</td>\n",
       "      <td>0.0</td>\n",
       "      <td>1000</td>\n",
       "    </tr>\n",
       "    <tr>\n",
       "      <td>2</td>\n",
       "      <td>1000_2</td>\n",
       "      <td>2018-06-11</td>\n",
       "      <td>3.0</td>\n",
       "      <td>1000</td>\n",
       "    </tr>\n",
       "    <tr>\n",
       "      <td>3</td>\n",
       "      <td>1000_3</td>\n",
       "      <td>2018-09-21</td>\n",
       "      <td>14.0</td>\n",
       "      <td>1000</td>\n",
       "    </tr>\n",
       "    <tr>\n",
       "      <td>4</td>\n",
       "      <td>1000_4</td>\n",
       "      <td>2018-12-15</td>\n",
       "      <td>6.0</td>\n",
       "      <td>1000</td>\n",
       "    </tr>\n",
       "  </tbody>\n",
       "</table>\n",
       "</div>"
      ],
      "text/plain": [
       "       id  call_date  duration  user_id\n",
       "0  1000_0 2018-07-25       0.0     1000\n",
       "1  1000_1 2018-08-17       0.0     1000\n",
       "2  1000_2 2018-06-11       3.0     1000\n",
       "3  1000_3 2018-09-21      14.0     1000\n",
       "4  1000_4 2018-12-15       6.0     1000"
      ]
     },
     "execution_count": 7,
     "metadata": {},
     "output_type": "execute_result"
    }
   ],
   "source": [
    "#округлим значения столбца duration с помощью функции ceil():\n",
    "calls['duration'] = np.ceil(calls['duration'])\n",
    "#для проверки выведем на экран первые 5 строк таблицы calls:\n",
    "calls.head()"
   ]
  },
  {
   "cell_type": "markdown",
   "metadata": {},
   "source": [
    "### Расчет для каждого пользователя:\n",
    "\n",
    "* количества сделанных звонков и израсходованных минут разговора по месяцам;\n",
    "* количества отправленных сообщений по месяцам;\n",
    "* объема израсходованного интернет-трафика по месяцам;\n",
    "* помесячной выручки с каждого пользователя"
   ]
  },
  {
   "cell_type": "markdown",
   "metadata": {},
   "source": [
    "Для того чтобы группировать данные по месяцам, добавим в каждую таблицу столбец month."
   ]
  },
  {
   "cell_type": "code",
   "execution_count": 8,
   "metadata": {},
   "outputs": [
    {
     "data": {
      "text/html": [
       "<div>\n",
       "<style scoped>\n",
       "    .dataframe tbody tr th:only-of-type {\n",
       "        vertical-align: middle;\n",
       "    }\n",
       "\n",
       "    .dataframe tbody tr th {\n",
       "        vertical-align: top;\n",
       "    }\n",
       "\n",
       "    .dataframe thead th {\n",
       "        text-align: right;\n",
       "    }\n",
       "</style>\n",
       "<table border=\"1\" class=\"dataframe\">\n",
       "  <thead>\n",
       "    <tr style=\"text-align: right;\">\n",
       "      <th></th>\n",
       "      <th>id</th>\n",
       "      <th>mb_used</th>\n",
       "      <th>session_date</th>\n",
       "      <th>user_id</th>\n",
       "      <th>month</th>\n",
       "    </tr>\n",
       "  </thead>\n",
       "  <tbody>\n",
       "    <tr>\n",
       "      <td>0</td>\n",
       "      <td>1000_0</td>\n",
       "      <td>112.95</td>\n",
       "      <td>2018-11-25</td>\n",
       "      <td>1000</td>\n",
       "      <td>11</td>\n",
       "    </tr>\n",
       "    <tr>\n",
       "      <td>1</td>\n",
       "      <td>1000_1</td>\n",
       "      <td>1052.81</td>\n",
       "      <td>2018-09-07</td>\n",
       "      <td>1000</td>\n",
       "      <td>9</td>\n",
       "    </tr>\n",
       "    <tr>\n",
       "      <td>2</td>\n",
       "      <td>1000_2</td>\n",
       "      <td>1197.26</td>\n",
       "      <td>2018-06-25</td>\n",
       "      <td>1000</td>\n",
       "      <td>6</td>\n",
       "    </tr>\n",
       "    <tr>\n",
       "      <td>3</td>\n",
       "      <td>1000_3</td>\n",
       "      <td>550.27</td>\n",
       "      <td>2018-08-22</td>\n",
       "      <td>1000</td>\n",
       "      <td>8</td>\n",
       "    </tr>\n",
       "    <tr>\n",
       "      <td>4</td>\n",
       "      <td>1000_4</td>\n",
       "      <td>302.56</td>\n",
       "      <td>2018-09-24</td>\n",
       "      <td>1000</td>\n",
       "      <td>9</td>\n",
       "    </tr>\n",
       "  </tbody>\n",
       "</table>\n",
       "</div>"
      ],
      "text/plain": [
       "       id  mb_used session_date  user_id  month\n",
       "0  1000_0   112.95   2018-11-25     1000     11\n",
       "1  1000_1  1052.81   2018-09-07     1000      9\n",
       "2  1000_2  1197.26   2018-06-25     1000      6\n",
       "3  1000_3   550.27   2018-08-22     1000      8\n",
       "4  1000_4   302.56   2018-09-24     1000      9"
      ]
     },
     "execution_count": 8,
     "metadata": {},
     "output_type": "execute_result"
    }
   ],
   "source": [
    "#добавим в таблицы столбец month:\n",
    "tables = [users, calls, messages, internet]\n",
    "name_tables = ['users', 'calls', 'messages','internet']\n",
    "columns = ['reg_date', 'call_date', 'message_date', 'session_date']\n",
    "for index in range(len(tables)):\n",
    "    tables[index]['month'] = tables[index][columns[index]].dt.month\n",
    "#для проверки выведем на экран первые 5 строк таблицы internet:\n",
    "internet.head()"
   ]
  },
  {
   "cell_type": "markdown",
   "metadata": {},
   "source": [
    "Рассчитаем **количество сделанных звонков и израсходованных минут разговора для каждого пользователя по месяцам**:"
   ]
  },
  {
   "cell_type": "code",
   "execution_count": 9,
   "metadata": {},
   "outputs": [
    {
     "data": {
      "text/html": [
       "<div>\n",
       "<style scoped>\n",
       "    .dataframe tbody tr th:only-of-type {\n",
       "        vertical-align: middle;\n",
       "    }\n",
       "\n",
       "    .dataframe tbody tr th {\n",
       "        vertical-align: top;\n",
       "    }\n",
       "\n",
       "    .dataframe thead th {\n",
       "        text-align: right;\n",
       "    }\n",
       "</style>\n",
       "<table border=\"1\" class=\"dataframe\">\n",
       "  <thead>\n",
       "    <tr style=\"text-align: right;\">\n",
       "      <th></th>\n",
       "      <th></th>\n",
       "      <th>count_calls</th>\n",
       "      <th>sum_calls</th>\n",
       "    </tr>\n",
       "    <tr>\n",
       "      <th>user_id</th>\n",
       "      <th>month</th>\n",
       "      <th></th>\n",
       "      <th></th>\n",
       "    </tr>\n",
       "  </thead>\n",
       "  <tbody>\n",
       "    <tr>\n",
       "      <td rowspan=\"5\" valign=\"top\">1000</td>\n",
       "      <td>5</td>\n",
       "      <td>22</td>\n",
       "      <td>159.0</td>\n",
       "    </tr>\n",
       "    <tr>\n",
       "      <td>6</td>\n",
       "      <td>43</td>\n",
       "      <td>172.0</td>\n",
       "    </tr>\n",
       "    <tr>\n",
       "      <td>7</td>\n",
       "      <td>47</td>\n",
       "      <td>340.0</td>\n",
       "    </tr>\n",
       "    <tr>\n",
       "      <td>8</td>\n",
       "      <td>52</td>\n",
       "      <td>408.0</td>\n",
       "    </tr>\n",
       "    <tr>\n",
       "      <td>9</td>\n",
       "      <td>58</td>\n",
       "      <td>466.0</td>\n",
       "    </tr>\n",
       "  </tbody>\n",
       "</table>\n",
       "</div>"
      ],
      "text/plain": [
       "               count_calls  sum_calls\n",
       "user_id month                        \n",
       "1000    5               22      159.0\n",
       "        6               43      172.0\n",
       "        7               47      340.0\n",
       "        8               52      408.0\n",
       "        9               58      466.0"
      ]
     },
     "execution_count": 9,
     "metadata": {},
     "output_type": "execute_result"
    }
   ],
   "source": [
    "#сгруппируем данные таблицы calls методом pivot_table():\n",
    "calls_grouped = calls.pivot_table(index =['user_id', 'month'], values = ['duration'], aggfunc =['count', 'sum'])\n",
    "#переименуем названия столбцов таблицы:\n",
    "calls_grouped.columns = ['count_calls', 'sum_calls']\n",
    "#для проверки выведем первые 5 строк таблицы calls_grouped на экран: \n",
    "calls_grouped.head()"
   ]
  },
  {
   "cell_type": "markdown",
   "metadata": {},
   "source": [
    "Рассчитаем **количество отправленных сообщений для каждого пользователя по месяцам**:"
   ]
  },
  {
   "cell_type": "code",
   "execution_count": 10,
   "metadata": {},
   "outputs": [
    {
     "data": {
      "text/html": [
       "<div>\n",
       "<style scoped>\n",
       "    .dataframe tbody tr th:only-of-type {\n",
       "        vertical-align: middle;\n",
       "    }\n",
       "\n",
       "    .dataframe tbody tr th {\n",
       "        vertical-align: top;\n",
       "    }\n",
       "\n",
       "    .dataframe thead th {\n",
       "        text-align: right;\n",
       "    }\n",
       "</style>\n",
       "<table border=\"1\" class=\"dataframe\">\n",
       "  <thead>\n",
       "    <tr style=\"text-align: right;\">\n",
       "      <th></th>\n",
       "      <th></th>\n",
       "      <th>count_messages</th>\n",
       "    </tr>\n",
       "    <tr>\n",
       "      <th>user_id</th>\n",
       "      <th>month</th>\n",
       "      <th></th>\n",
       "    </tr>\n",
       "  </thead>\n",
       "  <tbody>\n",
       "    <tr>\n",
       "      <td rowspan=\"5\" valign=\"top\">1000</td>\n",
       "      <td>5</td>\n",
       "      <td>22</td>\n",
       "    </tr>\n",
       "    <tr>\n",
       "      <td>6</td>\n",
       "      <td>60</td>\n",
       "    </tr>\n",
       "    <tr>\n",
       "      <td>7</td>\n",
       "      <td>75</td>\n",
       "    </tr>\n",
       "    <tr>\n",
       "      <td>8</td>\n",
       "      <td>81</td>\n",
       "    </tr>\n",
       "    <tr>\n",
       "      <td>9</td>\n",
       "      <td>57</td>\n",
       "    </tr>\n",
       "  </tbody>\n",
       "</table>\n",
       "</div>"
      ],
      "text/plain": [
       "               count_messages\n",
       "user_id month                \n",
       "1000    5                  22\n",
       "        6                  60\n",
       "        7                  75\n",
       "        8                  81\n",
       "        9                  57"
      ]
     },
     "execution_count": 10,
     "metadata": {},
     "output_type": "execute_result"
    }
   ],
   "source": [
    "#сгруппируем данные таблицы messages методом pivot_table():\n",
    "messages_grouped = messages.pivot_table(index=['user_id', 'month'], values = 'id', aggfunc = 'count')\n",
    "#переименуем названия столбцов таблицы:\n",
    "messages_grouped.columns = ['count_messages']\n",
    "#для проверки выведем первые 5 строк таблицы messages_grouped на экран: \n",
    "messages_grouped.head()"
   ]
  },
  {
   "cell_type": "markdown",
   "metadata": {},
   "source": [
    "Рассчитаем **объем израсходованного интернет-трафика для каждого пользователя по месяцам**:"
   ]
  },
  {
   "cell_type": "code",
   "execution_count": 11,
   "metadata": {},
   "outputs": [
    {
     "data": {
      "text/html": [
       "<div>\n",
       "<style scoped>\n",
       "    .dataframe tbody tr th:only-of-type {\n",
       "        vertical-align: middle;\n",
       "    }\n",
       "\n",
       "    .dataframe tbody tr th {\n",
       "        vertical-align: top;\n",
       "    }\n",
       "\n",
       "    .dataframe thead th {\n",
       "        text-align: right;\n",
       "    }\n",
       "</style>\n",
       "<table border=\"1\" class=\"dataframe\">\n",
       "  <thead>\n",
       "    <tr style=\"text-align: right;\">\n",
       "      <th></th>\n",
       "      <th></th>\n",
       "      <th>sum_internet</th>\n",
       "    </tr>\n",
       "    <tr>\n",
       "      <th>user_id</th>\n",
       "      <th>month</th>\n",
       "      <th></th>\n",
       "    </tr>\n",
       "  </thead>\n",
       "  <tbody>\n",
       "    <tr>\n",
       "      <td rowspan=\"5\" valign=\"top\">1000</td>\n",
       "      <td>5</td>\n",
       "      <td>2253.49</td>\n",
       "    </tr>\n",
       "    <tr>\n",
       "      <td>6</td>\n",
       "      <td>23233.77</td>\n",
       "    </tr>\n",
       "    <tr>\n",
       "      <td>7</td>\n",
       "      <td>14003.64</td>\n",
       "    </tr>\n",
       "    <tr>\n",
       "      <td>8</td>\n",
       "      <td>14055.93</td>\n",
       "    </tr>\n",
       "    <tr>\n",
       "      <td>9</td>\n",
       "      <td>14568.91</td>\n",
       "    </tr>\n",
       "  </tbody>\n",
       "</table>\n",
       "</div>"
      ],
      "text/plain": [
       "               sum_internet\n",
       "user_id month              \n",
       "1000    5           2253.49\n",
       "        6          23233.77\n",
       "        7          14003.64\n",
       "        8          14055.93\n",
       "        9          14568.91"
      ]
     },
     "execution_count": 11,
     "metadata": {},
     "output_type": "execute_result"
    }
   ],
   "source": [
    "#сгруппируем данные таблицы internet методом pivot_table():\n",
    "internet_grouped = internet.pivot_table(index=['user_id', 'month'], values = 'mb_used', aggfunc = 'sum')\n",
    "#переименуем названия столбцов таблицы:\n",
    "internet_grouped.columns = ['sum_internet']\n",
    "#для проверки выведем первые 5 строк таблицы internet_grouped на экран: \n",
    "internet_grouped.head()"
   ]
  },
  {
   "cell_type": "markdown",
   "metadata": {},
   "source": [
    "Для того, чтобы  **рассчитать помесячную выручку с каждого пользователя** необходимо объединить 3 ранее сгруппированные таблицы в одну и добавить данные о тарифах."
   ]
  },
  {
   "cell_type": "code",
   "execution_count": 12,
   "metadata": {},
   "outputs": [
    {
     "data": {
      "text/html": [
       "<div>\n",
       "<style scoped>\n",
       "    .dataframe tbody tr th:only-of-type {\n",
       "        vertical-align: middle;\n",
       "    }\n",
       "\n",
       "    .dataframe tbody tr th {\n",
       "        vertical-align: top;\n",
       "    }\n",
       "\n",
       "    .dataframe thead th {\n",
       "        text-align: right;\n",
       "    }\n",
       "</style>\n",
       "<table border=\"1\" class=\"dataframe\">\n",
       "  <thead>\n",
       "    <tr style=\"text-align: right;\">\n",
       "      <th></th>\n",
       "      <th></th>\n",
       "      <th>count_calls</th>\n",
       "      <th>sum_calls</th>\n",
       "      <th>count_messages</th>\n",
       "      <th>sum_internet</th>\n",
       "    </tr>\n",
       "    <tr>\n",
       "      <th>user_id</th>\n",
       "      <th>month</th>\n",
       "      <th></th>\n",
       "      <th></th>\n",
       "      <th></th>\n",
       "      <th></th>\n",
       "    </tr>\n",
       "  </thead>\n",
       "  <tbody>\n",
       "    <tr>\n",
       "      <td rowspan=\"5\" valign=\"top\">1000</td>\n",
       "      <td>5</td>\n",
       "      <td>22.0</td>\n",
       "      <td>159.0</td>\n",
       "      <td>22.0</td>\n",
       "      <td>2253.49</td>\n",
       "    </tr>\n",
       "    <tr>\n",
       "      <td>6</td>\n",
       "      <td>43.0</td>\n",
       "      <td>172.0</td>\n",
       "      <td>60.0</td>\n",
       "      <td>23233.77</td>\n",
       "    </tr>\n",
       "    <tr>\n",
       "      <td>7</td>\n",
       "      <td>47.0</td>\n",
       "      <td>340.0</td>\n",
       "      <td>75.0</td>\n",
       "      <td>14003.64</td>\n",
       "    </tr>\n",
       "    <tr>\n",
       "      <td>8</td>\n",
       "      <td>52.0</td>\n",
       "      <td>408.0</td>\n",
       "      <td>81.0</td>\n",
       "      <td>14055.93</td>\n",
       "    </tr>\n",
       "    <tr>\n",
       "      <td>9</td>\n",
       "      <td>58.0</td>\n",
       "      <td>466.0</td>\n",
       "      <td>57.0</td>\n",
       "      <td>14568.91</td>\n",
       "    </tr>\n",
       "  </tbody>\n",
       "</table>\n",
       "</div>"
      ],
      "text/plain": [
       "               count_calls  sum_calls  count_messages  sum_internet\n",
       "user_id month                                                      \n",
       "1000    5             22.0      159.0            22.0       2253.49\n",
       "        6             43.0      172.0            60.0      23233.77\n",
       "        7             47.0      340.0            75.0      14003.64\n",
       "        8             52.0      408.0            81.0      14055.93\n",
       "        9             58.0      466.0            57.0      14568.91"
      ]
     },
     "execution_count": 12,
     "metadata": {},
     "output_type": "execute_result"
    }
   ],
   "source": [
    "#Объединим 3 ранее сгруппированных таблицы в одну методом join():\n",
    "grouped_data = calls_grouped.join([messages_grouped, internet_grouped], how = 'outer')\n",
    "#для проверки выведем первые 5 строк таблицы grouped_data на экран: \n",
    "grouped_data.head()"
   ]
  },
  {
   "cell_type": "code",
   "execution_count": 13,
   "metadata": {},
   "outputs": [
    {
     "data": {
      "text/html": [
       "<div>\n",
       "<style scoped>\n",
       "    .dataframe tbody tr th:only-of-type {\n",
       "        vertical-align: middle;\n",
       "    }\n",
       "\n",
       "    .dataframe tbody tr th {\n",
       "        vertical-align: top;\n",
       "    }\n",
       "\n",
       "    .dataframe thead th {\n",
       "        text-align: right;\n",
       "    }\n",
       "</style>\n",
       "<table border=\"1\" class=\"dataframe\">\n",
       "  <thead>\n",
       "    <tr style=\"text-align: right;\">\n",
       "      <th></th>\n",
       "      <th>tariff</th>\n",
       "      <th>city</th>\n",
       "    </tr>\n",
       "    <tr>\n",
       "      <th>user_id</th>\n",
       "      <th></th>\n",
       "      <th></th>\n",
       "    </tr>\n",
       "  </thead>\n",
       "  <tbody>\n",
       "    <tr>\n",
       "      <td>1000</td>\n",
       "      <td>ultra</td>\n",
       "      <td>Краснодар</td>\n",
       "    </tr>\n",
       "    <tr>\n",
       "      <td>1001</td>\n",
       "      <td>smart</td>\n",
       "      <td>Москва</td>\n",
       "    </tr>\n",
       "    <tr>\n",
       "      <td>1002</td>\n",
       "      <td>smart</td>\n",
       "      <td>Стерлитамак</td>\n",
       "    </tr>\n",
       "    <tr>\n",
       "      <td>1003</td>\n",
       "      <td>ultra</td>\n",
       "      <td>Москва</td>\n",
       "    </tr>\n",
       "    <tr>\n",
       "      <td>1004</td>\n",
       "      <td>ultra</td>\n",
       "      <td>Новокузнецк</td>\n",
       "    </tr>\n",
       "  </tbody>\n",
       "</table>\n",
       "</div>"
      ],
      "text/plain": [
       "        tariff         city\n",
       "user_id                    \n",
       "1000     ultra    Краснодар\n",
       "1001     smart       Москва\n",
       "1002     smart  Стерлитамак\n",
       "1003     ultra       Москва\n",
       "1004     ultra  Новокузнецк"
      ]
     },
     "execution_count": 13,
     "metadata": {},
     "output_type": "execute_result"
    }
   ],
   "source": [
    "#создадим таблицу из данных таблицы users, где индексами будут user_id, а значениями столбцы tariff и city:\n",
    "tariff_and_city = users[['user_id', 'tariff', 'city']]\n",
    "tariff_and_city.set_index('user_id', inplace = True)\n",
    "#для проверки выведем первые 5 строк таблицы tariff_and_city:\n",
    "tariff_and_city.head()"
   ]
  },
  {
   "cell_type": "code",
   "execution_count": 14,
   "metadata": {
    "scrolled": true
   },
   "outputs": [
    {
     "data": {
      "text/html": [
       "<div>\n",
       "<style scoped>\n",
       "    .dataframe tbody tr th:only-of-type {\n",
       "        vertical-align: middle;\n",
       "    }\n",
       "\n",
       "    .dataframe tbody tr th {\n",
       "        vertical-align: top;\n",
       "    }\n",
       "\n",
       "    .dataframe thead th {\n",
       "        text-align: right;\n",
       "    }\n",
       "</style>\n",
       "<table border=\"1\" class=\"dataframe\">\n",
       "  <thead>\n",
       "    <tr style=\"text-align: right;\">\n",
       "      <th></th>\n",
       "      <th></th>\n",
       "      <th>count_calls</th>\n",
       "      <th>sum_calls</th>\n",
       "      <th>count_messages</th>\n",
       "      <th>sum_internet</th>\n",
       "      <th>tariff</th>\n",
       "      <th>city</th>\n",
       "    </tr>\n",
       "    <tr>\n",
       "      <th>user_id</th>\n",
       "      <th>month</th>\n",
       "      <th></th>\n",
       "      <th></th>\n",
       "      <th></th>\n",
       "      <th></th>\n",
       "      <th></th>\n",
       "      <th></th>\n",
       "    </tr>\n",
       "  </thead>\n",
       "  <tbody>\n",
       "    <tr>\n",
       "      <td rowspan=\"8\" valign=\"top\">1000</td>\n",
       "      <td>5</td>\n",
       "      <td>22.0</td>\n",
       "      <td>159.0</td>\n",
       "      <td>22.0</td>\n",
       "      <td>2253.49</td>\n",
       "      <td>ultra</td>\n",
       "      <td>Краснодар</td>\n",
       "    </tr>\n",
       "    <tr>\n",
       "      <td>6</td>\n",
       "      <td>43.0</td>\n",
       "      <td>172.0</td>\n",
       "      <td>60.0</td>\n",
       "      <td>23233.77</td>\n",
       "      <td>ultra</td>\n",
       "      <td>Краснодар</td>\n",
       "    </tr>\n",
       "    <tr>\n",
       "      <td>7</td>\n",
       "      <td>47.0</td>\n",
       "      <td>340.0</td>\n",
       "      <td>75.0</td>\n",
       "      <td>14003.64</td>\n",
       "      <td>ultra</td>\n",
       "      <td>Краснодар</td>\n",
       "    </tr>\n",
       "    <tr>\n",
       "      <td>8</td>\n",
       "      <td>52.0</td>\n",
       "      <td>408.0</td>\n",
       "      <td>81.0</td>\n",
       "      <td>14055.93</td>\n",
       "      <td>ultra</td>\n",
       "      <td>Краснодар</td>\n",
       "    </tr>\n",
       "    <tr>\n",
       "      <td>9</td>\n",
       "      <td>58.0</td>\n",
       "      <td>466.0</td>\n",
       "      <td>57.0</td>\n",
       "      <td>14568.91</td>\n",
       "      <td>ultra</td>\n",
       "      <td>Краснодар</td>\n",
       "    </tr>\n",
       "    <tr>\n",
       "      <td>10</td>\n",
       "      <td>57.0</td>\n",
       "      <td>350.0</td>\n",
       "      <td>73.0</td>\n",
       "      <td>14702.49</td>\n",
       "      <td>ultra</td>\n",
       "      <td>Краснодар</td>\n",
       "    </tr>\n",
       "    <tr>\n",
       "      <td>11</td>\n",
       "      <td>43.0</td>\n",
       "      <td>338.0</td>\n",
       "      <td>58.0</td>\n",
       "      <td>14756.47</td>\n",
       "      <td>ultra</td>\n",
       "      <td>Краснодар</td>\n",
       "    </tr>\n",
       "    <tr>\n",
       "      <td>12</td>\n",
       "      <td>46.0</td>\n",
       "      <td>333.0</td>\n",
       "      <td>70.0</td>\n",
       "      <td>9817.61</td>\n",
       "      <td>ultra</td>\n",
       "      <td>Краснодар</td>\n",
       "    </tr>\n",
       "    <tr>\n",
       "      <td rowspan=\"2\" valign=\"top\">1001</td>\n",
       "      <td>11</td>\n",
       "      <td>59.0</td>\n",
       "      <td>430.0</td>\n",
       "      <td>NaN</td>\n",
       "      <td>18429.34</td>\n",
       "      <td>smart</td>\n",
       "      <td>Москва</td>\n",
       "    </tr>\n",
       "    <tr>\n",
       "      <td>12</td>\n",
       "      <td>63.0</td>\n",
       "      <td>414.0</td>\n",
       "      <td>NaN</td>\n",
       "      <td>14036.66</td>\n",
       "      <td>smart</td>\n",
       "      <td>Москва</td>\n",
       "    </tr>\n",
       "  </tbody>\n",
       "</table>\n",
       "</div>"
      ],
      "text/plain": [
       "               count_calls  sum_calls  count_messages  sum_internet tariff  \\\n",
       "user_id month                                                                \n",
       "1000    5             22.0      159.0            22.0       2253.49  ultra   \n",
       "        6             43.0      172.0            60.0      23233.77  ultra   \n",
       "        7             47.0      340.0            75.0      14003.64  ultra   \n",
       "        8             52.0      408.0            81.0      14055.93  ultra   \n",
       "        9             58.0      466.0            57.0      14568.91  ultra   \n",
       "        10            57.0      350.0            73.0      14702.49  ultra   \n",
       "        11            43.0      338.0            58.0      14756.47  ultra   \n",
       "        12            46.0      333.0            70.0       9817.61  ultra   \n",
       "1001    11            59.0      430.0             NaN      18429.34  smart   \n",
       "        12            63.0      414.0             NaN      14036.66  smart   \n",
       "\n",
       "                    city  \n",
       "user_id month             \n",
       "1000    5      Краснодар  \n",
       "        6      Краснодар  \n",
       "        7      Краснодар  \n",
       "        8      Краснодар  \n",
       "        9      Краснодар  \n",
       "        10     Краснодар  \n",
       "        11     Краснодар  \n",
       "        12     Краснодар  \n",
       "1001    11        Москва  \n",
       "        12        Москва  "
      ]
     },
     "execution_count": 14,
     "metadata": {},
     "output_type": "execute_result"
    }
   ],
   "source": [
    "#создадим новую переменную data, добавив в grouped_data данные о тарифе и городе пользователей с помощью join():\n",
    "data = grouped_data.join(tariff_and_city)\n",
    "#для проверки выведем первые 10 строк таблицы data:\n",
    "data.head(10)"
   ]
  },
  {
   "cell_type": "code",
   "execution_count": 15,
   "metadata": {},
   "outputs": [
    {
     "data": {
      "text/html": [
       "<div>\n",
       "<style scoped>\n",
       "    .dataframe tbody tr th:only-of-type {\n",
       "        vertical-align: middle;\n",
       "    }\n",
       "\n",
       "    .dataframe tbody tr th {\n",
       "        vertical-align: top;\n",
       "    }\n",
       "\n",
       "    .dataframe thead th {\n",
       "        text-align: right;\n",
       "    }\n",
       "</style>\n",
       "<table border=\"1\" class=\"dataframe\">\n",
       "  <thead>\n",
       "    <tr style=\"text-align: right;\">\n",
       "      <th></th>\n",
       "      <th></th>\n",
       "      <th>count_calls</th>\n",
       "      <th>sum_calls</th>\n",
       "      <th>count_messages</th>\n",
       "      <th>sum_internet</th>\n",
       "      <th>tariff</th>\n",
       "      <th>city</th>\n",
       "      <th>calls_above_limit</th>\n",
       "      <th>mes_above_limit</th>\n",
       "      <th>int_above_limit</th>\n",
       "    </tr>\n",
       "    <tr>\n",
       "      <th>user_id</th>\n",
       "      <th>month</th>\n",
       "      <th></th>\n",
       "      <th></th>\n",
       "      <th></th>\n",
       "      <th></th>\n",
       "      <th></th>\n",
       "      <th></th>\n",
       "      <th></th>\n",
       "      <th></th>\n",
       "      <th></th>\n",
       "    </tr>\n",
       "  </thead>\n",
       "  <tbody>\n",
       "    <tr>\n",
       "      <td rowspan=\"2\" valign=\"top\">1024</td>\n",
       "      <td>11</td>\n",
       "      <td>157.0</td>\n",
       "      <td>1146.0</td>\n",
       "      <td>NaN</td>\n",
       "      <td>43107.47</td>\n",
       "      <td>ultra</td>\n",
       "      <td>Санкт-Петербург</td>\n",
       "      <td>NaN</td>\n",
       "      <td>NaN</td>\n",
       "      <td>13.0</td>\n",
       "    </tr>\n",
       "    <tr>\n",
       "      <td>12</td>\n",
       "      <td>136.0</td>\n",
       "      <td>949.0</td>\n",
       "      <td>NaN</td>\n",
       "      <td>35948.13</td>\n",
       "      <td>ultra</td>\n",
       "      <td>Санкт-Петербург</td>\n",
       "      <td>NaN</td>\n",
       "      <td>NaN</td>\n",
       "      <td>6.0</td>\n",
       "    </tr>\n",
       "    <tr>\n",
       "      <td>1050</td>\n",
       "      <td>7</td>\n",
       "      <td>35.0</td>\n",
       "      <td>209.0</td>\n",
       "      <td>52.0</td>\n",
       "      <td>35177.91</td>\n",
       "      <td>ultra</td>\n",
       "      <td>Тюмень</td>\n",
       "      <td>NaN</td>\n",
       "      <td>NaN</td>\n",
       "      <td>5.0</td>\n",
       "    </tr>\n",
       "    <tr>\n",
       "      <td>1060</td>\n",
       "      <td>12</td>\n",
       "      <td>184.0</td>\n",
       "      <td>1233.0</td>\n",
       "      <td>52.0</td>\n",
       "      <td>43931.36</td>\n",
       "      <td>ultra</td>\n",
       "      <td>Калуга</td>\n",
       "      <td>NaN</td>\n",
       "      <td>NaN</td>\n",
       "      <td>13.0</td>\n",
       "    </tr>\n",
       "    <tr>\n",
       "      <td>1124</td>\n",
       "      <td>10</td>\n",
       "      <td>152.0</td>\n",
       "      <td>1225.0</td>\n",
       "      <td>121.0</td>\n",
       "      <td>49745.69</td>\n",
       "      <td>ultra</td>\n",
       "      <td>Махачкала</td>\n",
       "      <td>NaN</td>\n",
       "      <td>NaN</td>\n",
       "      <td>19.0</td>\n",
       "    </tr>\n",
       "  </tbody>\n",
       "</table>\n",
       "</div>"
      ],
      "text/plain": [
       "               count_calls  sum_calls  count_messages  sum_internet tariff  \\\n",
       "user_id month                                                                \n",
       "1024    11           157.0     1146.0             NaN      43107.47  ultra   \n",
       "        12           136.0      949.0             NaN      35948.13  ultra   \n",
       "1050    7             35.0      209.0            52.0      35177.91  ultra   \n",
       "1060    12           184.0     1233.0            52.0      43931.36  ultra   \n",
       "1124    10           152.0     1225.0           121.0      49745.69  ultra   \n",
       "\n",
       "                          city  calls_above_limit  mes_above_limit  \\\n",
       "user_id month                                                        \n",
       "1024    11     Санкт-Петербург                NaN              NaN   \n",
       "        12     Санкт-Петербург                NaN              NaN   \n",
       "1050    7               Тюмень                NaN              NaN   \n",
       "1060    12              Калуга                NaN              NaN   \n",
       "1124    10           Махачкала                NaN              NaN   \n",
       "\n",
       "               int_above_limit  \n",
       "user_id month                   \n",
       "1024    11                13.0  \n",
       "        12                 6.0  \n",
       "1050    7                  5.0  \n",
       "1060    12                13.0  \n",
       "1124    10                19.0  "
      ]
     },
     "execution_count": 15,
     "metadata": {},
     "output_type": "execute_result"
    }
   ],
   "source": [
    "#добавим с помощью функций в data столбцы calls_above_limit, mes_above_limit, int_above_limit для расчета выручки:\n",
    "def calls_above_limit(row):#функция для добавления количества минут звонков сверх лимита в столбец alls_above_limit\n",
    "    if row['tariff']=='smart':\n",
    "        if row['sum_calls']>500:\n",
    "            return (row['sum_calls']-500)\n",
    "    if row['tariff']=='ultra':\n",
    "        if row['sum_calls']>3000:\n",
    "            return (row['sum_calls']-3000)\n",
    "data['calls_above_limit'] = data.apply(calls_above_limit, axis=1)\n",
    "def mes_above_limit(row):#функция для добавления количества смс сверх лимита в столбец mes_above_limit\n",
    "    if row['tariff']=='smart':\n",
    "        if row['count_messages']>50:\n",
    "            return (row['count_messages']-50)\n",
    "    if row['tariff']=='ultra':\n",
    "        if row['count_messages']>1000:\n",
    "            return (row['count_messages']-1000)\n",
    "data['mes_above_limit'] = data.apply(mes_above_limit, axis=1)\n",
    "def int_above_limit(row):#функция для добавления гигабайт интернета сверх лимита в столбец int_above_limit\n",
    "    if row['tariff']=='smart':\n",
    "        if row['sum_internet']>15360:\n",
    "            return (np.ceil((row['sum_internet']-15360)/1024))\n",
    "    if row['tariff']=='ultra':\n",
    "        if row['sum_internet']>30720:\n",
    "            return (np.ceil((row['sum_internet']-30720)/1024))\n",
    "data['int_above_limit'] = data.apply(int_above_limit, axis=1)\n",
    "#для проверки выведем на экран строки таблицы с условием, что тариф ультра и объем интернет-трафика свыше 30720:\n",
    "data.query('tariff==\"ultra\" and sum_internet>30720').head()"
   ]
  },
  {
   "cell_type": "code",
   "execution_count": 16,
   "metadata": {},
   "outputs": [
    {
     "data": {
      "text/html": [
       "<div>\n",
       "<style scoped>\n",
       "    .dataframe tbody tr th:only-of-type {\n",
       "        vertical-align: middle;\n",
       "    }\n",
       "\n",
       "    .dataframe tbody tr th {\n",
       "        vertical-align: top;\n",
       "    }\n",
       "\n",
       "    .dataframe thead th {\n",
       "        text-align: right;\n",
       "    }\n",
       "</style>\n",
       "<table border=\"1\" class=\"dataframe\">\n",
       "  <thead>\n",
       "    <tr style=\"text-align: right;\">\n",
       "      <th></th>\n",
       "      <th></th>\n",
       "      <th>count_calls</th>\n",
       "      <th>sum_calls</th>\n",
       "      <th>count_messages</th>\n",
       "      <th>sum_internet</th>\n",
       "      <th>tariff</th>\n",
       "      <th>city</th>\n",
       "      <th>calls_above_limit</th>\n",
       "      <th>mes_above_limit</th>\n",
       "      <th>int_above_limit</th>\n",
       "    </tr>\n",
       "    <tr>\n",
       "      <th>user_id</th>\n",
       "      <th>month</th>\n",
       "      <th></th>\n",
       "      <th></th>\n",
       "      <th></th>\n",
       "      <th></th>\n",
       "      <th></th>\n",
       "      <th></th>\n",
       "      <th></th>\n",
       "      <th></th>\n",
       "      <th></th>\n",
       "    </tr>\n",
       "  </thead>\n",
       "  <tbody>\n",
       "    <tr>\n",
       "      <td rowspan=\"5\" valign=\"top\">1000</td>\n",
       "      <td>5</td>\n",
       "      <td>22.0</td>\n",
       "      <td>159.0</td>\n",
       "      <td>22.0</td>\n",
       "      <td>2253.49</td>\n",
       "      <td>ultra</td>\n",
       "      <td>Краснодар</td>\n",
       "      <td>0.0</td>\n",
       "      <td>0.0</td>\n",
       "      <td>0.0</td>\n",
       "    </tr>\n",
       "    <tr>\n",
       "      <td>6</td>\n",
       "      <td>43.0</td>\n",
       "      <td>172.0</td>\n",
       "      <td>60.0</td>\n",
       "      <td>23233.77</td>\n",
       "      <td>ultra</td>\n",
       "      <td>Краснодар</td>\n",
       "      <td>0.0</td>\n",
       "      <td>0.0</td>\n",
       "      <td>0.0</td>\n",
       "    </tr>\n",
       "    <tr>\n",
       "      <td>7</td>\n",
       "      <td>47.0</td>\n",
       "      <td>340.0</td>\n",
       "      <td>75.0</td>\n",
       "      <td>14003.64</td>\n",
       "      <td>ultra</td>\n",
       "      <td>Краснодар</td>\n",
       "      <td>0.0</td>\n",
       "      <td>0.0</td>\n",
       "      <td>0.0</td>\n",
       "    </tr>\n",
       "    <tr>\n",
       "      <td>8</td>\n",
       "      <td>52.0</td>\n",
       "      <td>408.0</td>\n",
       "      <td>81.0</td>\n",
       "      <td>14055.93</td>\n",
       "      <td>ultra</td>\n",
       "      <td>Краснодар</td>\n",
       "      <td>0.0</td>\n",
       "      <td>0.0</td>\n",
       "      <td>0.0</td>\n",
       "    </tr>\n",
       "    <tr>\n",
       "      <td>9</td>\n",
       "      <td>58.0</td>\n",
       "      <td>466.0</td>\n",
       "      <td>57.0</td>\n",
       "      <td>14568.91</td>\n",
       "      <td>ultra</td>\n",
       "      <td>Краснодар</td>\n",
       "      <td>0.0</td>\n",
       "      <td>0.0</td>\n",
       "      <td>0.0</td>\n",
       "    </tr>\n",
       "  </tbody>\n",
       "</table>\n",
       "</div>"
      ],
      "text/plain": [
       "               count_calls  sum_calls  count_messages  sum_internet tariff  \\\n",
       "user_id month                                                                \n",
       "1000    5             22.0      159.0            22.0       2253.49  ultra   \n",
       "        6             43.0      172.0            60.0      23233.77  ultra   \n",
       "        7             47.0      340.0            75.0      14003.64  ultra   \n",
       "        8             52.0      408.0            81.0      14055.93  ultra   \n",
       "        9             58.0      466.0            57.0      14568.91  ultra   \n",
       "\n",
       "                    city  calls_above_limit  mes_above_limit  int_above_limit  \n",
       "user_id month                                                                  \n",
       "1000    5      Краснодар                0.0              0.0              0.0  \n",
       "        6      Краснодар                0.0              0.0              0.0  \n",
       "        7      Краснодар                0.0              0.0              0.0  \n",
       "        8      Краснодар                0.0              0.0              0.0  \n",
       "        9      Краснодар                0.0              0.0              0.0  "
      ]
     },
     "execution_count": 16,
     "metadata": {},
     "output_type": "execute_result"
    }
   ],
   "source": [
    "#заменим все NaN на 0:\n",
    "data = data.fillna(0)\n",
    "#для проверки выведем на экран первые 5 строк таблицы:\n",
    "data.head()"
   ]
  },
  {
   "cell_type": "markdown",
   "metadata": {},
   "source": [
    "Теперь все готово для расчета выручки. Добавим столбец revenue, в котором рассчитаем помесячную выручку с каждого пользователя:"
   ]
  },
  {
   "cell_type": "code",
   "execution_count": 17,
   "metadata": {},
   "outputs": [
    {
     "data": {
      "text/plain": [
       "1950.0    905\n",
       "550.0     567\n",
       "950.0      87\n",
       "1150.0     80\n",
       "1350.0     78\n",
       "         ... \n",
       "2247.0      1\n",
       "4200.0      1\n",
       "3759.0      1\n",
       "2589.0      1\n",
       "2055.0      1\n",
       "Name: revenue, Length: 778, dtype: int64"
      ]
     },
     "execution_count": 17,
     "metadata": {},
     "output_type": "execute_result"
    }
   ],
   "source": [
    "#добавим столбец revenue с выручкой с помощью функции: \n",
    "def calculation(row):\n",
    "    revenue = 0\n",
    "    if row['tariff']=='smart':\n",
    "        revenue = 550 + (3 * row['calls_above_limit']) + (3 * row['mes_above_limit']) + (200 * row['int_above_limit'])\n",
    "        return revenue\n",
    "    if row['tariff']=='ultra':\n",
    "        revenue = 1950 + (1*row['calls_above_limit']) + (1*row['mes_above_limit']) + (150*row['int_above_limit'])\n",
    "        return revenue\n",
    "data['revenue'] = data.apply(calculation, axis=1)\n",
    "#для проверки выведем значения столбца revenue с помощью метода value_counts():\n",
    "data['revenue'].value_counts()"
   ]
  },
  {
   "cell_type": "markdown",
   "metadata": {},
   "source": [
    "**Вывод**\n",
    "\n",
    "Давайте подытожим, что было сделано на этапе предобработки данных: \n",
    "- в столбцах с датами (столбцы churn_date и reg_date таблицы users, call_date таблицы calls, message_date - messages, session_date - internet) изменен тип данных на datetime;\n",
    "- удалены нулевые значения в столбце mb_used- объем интернет- трафика таблицы internet;\n",
    "- удален столбец Unnamed: 0 таблицы internet;\n",
    "- округлены значения столбца duration таблицы calls в большую сторону, так как значения указаны с секундами, а каждый звонок должен быть округлен до целых минут. \n",
    "\n",
    "А также были посчитаны и добавлены в новую таблицу data следующие значения:\n",
    "* количество сделанных звонков и израсходованных минут разговора по месяцам;\n",
    "* количество отправленных сообщений по месяцам;\n",
    "* объем израсходованного интернет-трафика по месяцам;\n",
    "* количество минут разговора, смс и объем интернет-трафика сверх установленного тарифом лимита;\n",
    "* помесячная выручки с каждого пользователя. \n",
    "\n",
    "Итак, наши данные готовы к анализу. Приступаем к анализу данных. "
   ]
  },
  {
   "cell_type": "markdown",
   "metadata": {},
   "source": [
    "## Анализ данных"
   ]
  },
  {
   "cell_type": "markdown",
   "metadata": {},
   "source": [
    "### Ответы на вопросы, сколько минут разговора, сколько сообщений и какой объём интернет-трафика требуется пользователям каждого тарифа в месяц?\n",
    "**Необходимо посчитать среднее, дисперсию и стандартное отклонение**"
   ]
  },
  {
   "cell_type": "markdown",
   "metadata": {},
   "source": [
    "Так как нам нужно смотреть данные в разрезе каждого тарифа введем 2 новые переменные ultra и smart, где будут данные отдельно по тарифам:"
   ]
  },
  {
   "cell_type": "code",
   "execution_count": 18,
   "metadata": {},
   "outputs": [],
   "source": [
    "#введем 2 новые переменные ultra и smart:\n",
    "ultra = data.query('tariff==\"ultra\"')\n",
    "smart = data.query('tariff==\"smart\"')"
   ]
  },
  {
   "cell_type": "markdown",
   "metadata": {},
   "source": [
    " Выведем результат работы метода describe() для ultra и smart, чтобы **ознакомиться со средним, медианой, максимальным и минимальным значениями**. Дисперсию и стандартное отклонение мы будем рассчитывать отдельно, так как эти параметры необходимо рассчитывать с учетом того, что мы рассматриваем выборку, а не генеральную совокупность. "
   ]
  },
  {
   "cell_type": "code",
   "execution_count": 19,
   "metadata": {},
   "outputs": [
    {
     "data": {
      "text/plain": [
       "'ultra'"
      ]
     },
     "metadata": {},
     "output_type": "display_data"
    },
    {
     "data": {
      "text/html": [
       "<div>\n",
       "<style scoped>\n",
       "    .dataframe tbody tr th:only-of-type {\n",
       "        vertical-align: middle;\n",
       "    }\n",
       "\n",
       "    .dataframe tbody tr th {\n",
       "        vertical-align: top;\n",
       "    }\n",
       "\n",
       "    .dataframe thead th {\n",
       "        text-align: right;\n",
       "    }\n",
       "</style>\n",
       "<table border=\"1\" class=\"dataframe\">\n",
       "  <thead>\n",
       "    <tr style=\"text-align: right;\">\n",
       "      <th></th>\n",
       "      <th>count_calls</th>\n",
       "      <th>sum_calls</th>\n",
       "      <th>count_messages</th>\n",
       "      <th>sum_internet</th>\n",
       "      <th>calls_above_limit</th>\n",
       "      <th>mes_above_limit</th>\n",
       "      <th>int_above_limit</th>\n",
       "      <th>revenue</th>\n",
       "    </tr>\n",
       "  </thead>\n",
       "  <tbody>\n",
       "    <tr>\n",
       "      <td>count</td>\n",
       "      <td>985.000000</td>\n",
       "      <td>985.000000</td>\n",
       "      <td>985.000000</td>\n",
       "      <td>985.000000</td>\n",
       "      <td>985.0</td>\n",
       "      <td>985.0</td>\n",
       "      <td>985.000000</td>\n",
       "      <td>985.000000</td>\n",
       "    </tr>\n",
       "    <tr>\n",
       "      <td>mean</td>\n",
       "      <td>73.392893</td>\n",
       "      <td>526.623350</td>\n",
       "      <td>49.363452</td>\n",
       "      <td>19468.805208</td>\n",
       "      <td>0.0</td>\n",
       "      <td>0.0</td>\n",
       "      <td>0.801015</td>\n",
       "      <td>2070.152284</td>\n",
       "    </tr>\n",
       "    <tr>\n",
       "      <td>std</td>\n",
       "      <td>43.916853</td>\n",
       "      <td>317.606098</td>\n",
       "      <td>47.804457</td>\n",
       "      <td>10087.170752</td>\n",
       "      <td>0.0</td>\n",
       "      <td>0.0</td>\n",
       "      <td>2.507914</td>\n",
       "      <td>376.187114</td>\n",
       "    </tr>\n",
       "    <tr>\n",
       "      <td>min</td>\n",
       "      <td>0.000000</td>\n",
       "      <td>0.000000</td>\n",
       "      <td>0.000000</td>\n",
       "      <td>0.000000</td>\n",
       "      <td>0.0</td>\n",
       "      <td>0.0</td>\n",
       "      <td>0.000000</td>\n",
       "      <td>1950.000000</td>\n",
       "    </tr>\n",
       "    <tr>\n",
       "      <td>25%</td>\n",
       "      <td>41.000000</td>\n",
       "      <td>284.000000</td>\n",
       "      <td>6.000000</td>\n",
       "      <td>11770.260000</td>\n",
       "      <td>0.0</td>\n",
       "      <td>0.0</td>\n",
       "      <td>0.000000</td>\n",
       "      <td>1950.000000</td>\n",
       "    </tr>\n",
       "    <tr>\n",
       "      <td>50%</td>\n",
       "      <td>74.000000</td>\n",
       "      <td>518.000000</td>\n",
       "      <td>38.000000</td>\n",
       "      <td>19308.010000</td>\n",
       "      <td>0.0</td>\n",
       "      <td>0.0</td>\n",
       "      <td>0.000000</td>\n",
       "      <td>1950.000000</td>\n",
       "    </tr>\n",
       "    <tr>\n",
       "      <td>75%</td>\n",
       "      <td>104.000000</td>\n",
       "      <td>752.000000</td>\n",
       "      <td>79.000000</td>\n",
       "      <td>26837.690000</td>\n",
       "      <td>0.0</td>\n",
       "      <td>0.0</td>\n",
       "      <td>0.000000</td>\n",
       "      <td>1950.000000</td>\n",
       "    </tr>\n",
       "    <tr>\n",
       "      <td>max</td>\n",
       "      <td>244.000000</td>\n",
       "      <td>1673.000000</td>\n",
       "      <td>224.000000</td>\n",
       "      <td>49745.690000</td>\n",
       "      <td>0.0</td>\n",
       "      <td>0.0</td>\n",
       "      <td>19.000000</td>\n",
       "      <td>4800.000000</td>\n",
       "    </tr>\n",
       "  </tbody>\n",
       "</table>\n",
       "</div>"
      ],
      "text/plain": [
       "       count_calls    sum_calls  count_messages  sum_internet  \\\n",
       "count   985.000000   985.000000      985.000000    985.000000   \n",
       "mean     73.392893   526.623350       49.363452  19468.805208   \n",
       "std      43.916853   317.606098       47.804457  10087.170752   \n",
       "min       0.000000     0.000000        0.000000      0.000000   \n",
       "25%      41.000000   284.000000        6.000000  11770.260000   \n",
       "50%      74.000000   518.000000       38.000000  19308.010000   \n",
       "75%     104.000000   752.000000       79.000000  26837.690000   \n",
       "max     244.000000  1673.000000      224.000000  49745.690000   \n",
       "\n",
       "       calls_above_limit  mes_above_limit  int_above_limit      revenue  \n",
       "count              985.0            985.0       985.000000   985.000000  \n",
       "mean                 0.0              0.0         0.801015  2070.152284  \n",
       "std                  0.0              0.0         2.507914   376.187114  \n",
       "min                  0.0              0.0         0.000000  1950.000000  \n",
       "25%                  0.0              0.0         0.000000  1950.000000  \n",
       "50%                  0.0              0.0         0.000000  1950.000000  \n",
       "75%                  0.0              0.0         0.000000  1950.000000  \n",
       "max                  0.0              0.0        19.000000  4800.000000  "
      ]
     },
     "metadata": {},
     "output_type": "display_data"
    },
    {
     "data": {
      "text/plain": [
       "'smart'"
      ]
     },
     "metadata": {},
     "output_type": "display_data"
    },
    {
     "data": {
      "text/html": [
       "<div>\n",
       "<style scoped>\n",
       "    .dataframe tbody tr th:only-of-type {\n",
       "        vertical-align: middle;\n",
       "    }\n",
       "\n",
       "    .dataframe tbody tr th {\n",
       "        vertical-align: top;\n",
       "    }\n",
       "\n",
       "    .dataframe thead th {\n",
       "        text-align: right;\n",
       "    }\n",
       "</style>\n",
       "<table border=\"1\" class=\"dataframe\">\n",
       "  <thead>\n",
       "    <tr style=\"text-align: right;\">\n",
       "      <th></th>\n",
       "      <th>count_calls</th>\n",
       "      <th>sum_calls</th>\n",
       "      <th>count_messages</th>\n",
       "      <th>sum_internet</th>\n",
       "      <th>calls_above_limit</th>\n",
       "      <th>mes_above_limit</th>\n",
       "      <th>int_above_limit</th>\n",
       "      <th>revenue</th>\n",
       "    </tr>\n",
       "  </thead>\n",
       "  <tbody>\n",
       "    <tr>\n",
       "      <td>count</td>\n",
       "      <td>2229.000000</td>\n",
       "      <td>2229.000000</td>\n",
       "      <td>2229.000000</td>\n",
       "      <td>2229.000000</td>\n",
       "      <td>2229.000000</td>\n",
       "      <td>2229.000000</td>\n",
       "      <td>2229.000000</td>\n",
       "      <td>2229.000000</td>\n",
       "    </tr>\n",
       "    <tr>\n",
       "      <td>mean</td>\n",
       "      <td>58.463437</td>\n",
       "      <td>417.934948</td>\n",
       "      <td>33.384029</td>\n",
       "      <td>16208.386990</td>\n",
       "      <td>41.605653</td>\n",
       "      <td>5.799910</td>\n",
       "      <td>2.988784</td>\n",
       "      <td>1289.973531</td>\n",
       "    </tr>\n",
       "    <tr>\n",
       "      <td>std</td>\n",
       "      <td>25.939858</td>\n",
       "      <td>190.313730</td>\n",
       "      <td>28.227876</td>\n",
       "      <td>5870.476681</td>\n",
       "      <td>84.678573</td>\n",
       "      <td>13.442456</td>\n",
       "      <td>3.682820</td>\n",
       "      <td>818.404367</td>\n",
       "    </tr>\n",
       "    <tr>\n",
       "      <td>min</td>\n",
       "      <td>0.000000</td>\n",
       "      <td>0.000000</td>\n",
       "      <td>0.000000</td>\n",
       "      <td>0.000000</td>\n",
       "      <td>0.000000</td>\n",
       "      <td>0.000000</td>\n",
       "      <td>0.000000</td>\n",
       "      <td>550.000000</td>\n",
       "    </tr>\n",
       "    <tr>\n",
       "      <td>25%</td>\n",
       "      <td>40.000000</td>\n",
       "      <td>282.000000</td>\n",
       "      <td>10.000000</td>\n",
       "      <td>12643.010000</td>\n",
       "      <td>0.000000</td>\n",
       "      <td>0.000000</td>\n",
       "      <td>0.000000</td>\n",
       "      <td>550.000000</td>\n",
       "    </tr>\n",
       "    <tr>\n",
       "      <td>50%</td>\n",
       "      <td>60.000000</td>\n",
       "      <td>422.000000</td>\n",
       "      <td>28.000000</td>\n",
       "      <td>16506.840000</td>\n",
       "      <td>0.000000</td>\n",
       "      <td>0.000000</td>\n",
       "      <td>2.000000</td>\n",
       "      <td>1023.000000</td>\n",
       "    </tr>\n",
       "    <tr>\n",
       "      <td>75%</td>\n",
       "      <td>76.000000</td>\n",
       "      <td>545.000000</td>\n",
       "      <td>51.000000</td>\n",
       "      <td>20042.930000</td>\n",
       "      <td>45.000000</td>\n",
       "      <td>1.000000</td>\n",
       "      <td>5.000000</td>\n",
       "      <td>1750.000000</td>\n",
       "    </tr>\n",
       "    <tr>\n",
       "      <td>max</td>\n",
       "      <td>198.000000</td>\n",
       "      <td>1435.000000</td>\n",
       "      <td>143.000000</td>\n",
       "      <td>38552.450000</td>\n",
       "      <td>935.000000</td>\n",
       "      <td>93.000000</td>\n",
       "      <td>23.000000</td>\n",
       "      <td>6770.000000</td>\n",
       "    </tr>\n",
       "  </tbody>\n",
       "</table>\n",
       "</div>"
      ],
      "text/plain": [
       "       count_calls    sum_calls  count_messages  sum_internet  \\\n",
       "count  2229.000000  2229.000000     2229.000000   2229.000000   \n",
       "mean     58.463437   417.934948       33.384029  16208.386990   \n",
       "std      25.939858   190.313730       28.227876   5870.476681   \n",
       "min       0.000000     0.000000        0.000000      0.000000   \n",
       "25%      40.000000   282.000000       10.000000  12643.010000   \n",
       "50%      60.000000   422.000000       28.000000  16506.840000   \n",
       "75%      76.000000   545.000000       51.000000  20042.930000   \n",
       "max     198.000000  1435.000000      143.000000  38552.450000   \n",
       "\n",
       "       calls_above_limit  mes_above_limit  int_above_limit      revenue  \n",
       "count        2229.000000      2229.000000      2229.000000  2229.000000  \n",
       "mean           41.605653         5.799910         2.988784  1289.973531  \n",
       "std            84.678573        13.442456         3.682820   818.404367  \n",
       "min             0.000000         0.000000         0.000000   550.000000  \n",
       "25%             0.000000         0.000000         0.000000   550.000000  \n",
       "50%             0.000000         0.000000         2.000000  1023.000000  \n",
       "75%            45.000000         1.000000         5.000000  1750.000000  \n",
       "max           935.000000        93.000000        23.000000  6770.000000  "
      ]
     },
     "execution_count": 19,
     "metadata": {},
     "output_type": "execute_result"
    }
   ],
   "source": [
    "#выведем результат работы метода describe() для ultra и smart:\n",
    "display('ultra')\n",
    "display(ultra.describe())\n",
    "display()\n",
    "display('smart')\n",
    "smart.describe()"
   ]
  },
  {
   "cell_type": "markdown",
   "metadata": {},
   "source": [
    "Что мы можем сказать по этим статистикам?\n",
    "\n",
    "Количество ежемесячного использования тарифа 'smart' гораздо больше количества ежемесячного использования тарифа 'ultra' - 2229 против 985. Что логично: тариф 'smart' дешевле почти в 4 раза (550 против 1950 рублей в месяц). \n",
    "\n",
    "Посмотрим параметры тарифа 'ultra':\n",
    "- количество минут: среднее (527 мин), медиана (518 мин) и даже максимальное значение (1673 мин) укладываются в лимит по количеству минут разговора тарифа 'ultra' - 3000 минут. И здесь сразу возникает вопрос: а зачем такой большой лимит, если Клиенты его не используют? \n",
    "- количество смс: ситуация аналогичная. Максимальное значение (224) меньше, чем лимит (1000) в 4 раза. Зачем такой лимит?\n",
    "- объем интернет-трафика: среднее (19468), медиана (19308) и даже третий квартиль (26837) не превышают лимит, установленный тарифом (30 Гб или 30720 Мб). Однако есть пользователи, и их довольно много, которые переплачивают за интернет, хотя пользуются итак самым дорогим тарифом. \n",
    "\n",
    "Посмотрим параметры тарифа 'smart':\n",
    "- количество минут: среднее (418) и медиана (422) укладываются в лимит по количеству минут разговора тарифа 'smart'- 500 минут, а вот третий квартиль (545 мин) уже превышает это значение. То есть, более чем в 25 % случаях пользователи платят дополнительно сверх абонентский платы за звонки. Возможно, им просто не подходит тариф. Нужно посмотреть долю платежей свыше 1950. Возможно, было бы выгодно перейти на тариф 'ultra'? \n",
    "- количество смс: ситуация аналогичная. Третий квартиль (51) уже больше, чем лимит сообщений по тарифу (50). То есть, более чем в 25 % случаев пользователи платят дополнительно сверх абонентский платы за смс. \n",
    "- объем интернет-трафика: среднее (16208) и медиана (16507) уже превышают допустимый лимит интернет-трафика (15 Гб ли 15360 Мб). \n",
    "\n",
    "Таким образом, в более половине случаев пользователи тарифа 'smart' переплачивают за услуги, и при этом не переходят на более дорогой тариф 'ultra'. **Необходимо найти долю долю платежей свыше 1950 в месяц и посмотреть, возможно выгоднее перейти на'ultra'**? Однако и у тарифа 'ultra' есть достаточно случаев, когда пользователи переплачивают за интернет, так как им не хватает лимита, при этом лимит звонков и смс не расходуется. **Давайте посчитаем % таких случаев**. "
   ]
  },
  {
   "cell_type": "code",
   "execution_count": 20,
   "metadata": {},
   "outputs": [
    {
     "name": "stdout",
     "output_type": "stream",
     "text": [
      "В скольки случаях пользователи тарифа smart ежемесячно платят свыше 1950 рублей: 417\n",
      "Доля этих случаев: 0.18707940780619112\n"
     ]
    }
   ],
   "source": [
    "#посмотрим, сколько в скольки случаях пользователи тарифа 'smart' ежемесячно платят свыше 1950 рублей:\n",
    "print('В скольки случаях пользователи тарифа smart ежемесячно платят свыше 1950 рублей:', len(smart.query('revenue>1950')))\n",
    "print('Доля этих случаев:', (len(smart.query('revenue>1950'))/ len(smart)))"
   ]
  },
  {
   "cell_type": "markdown",
   "metadata": {},
   "source": [
    "Почти в 20% случаев пользователи тарифа smart платят в месяц свыше 1950 рублей. Проверим, в скольки случаях было бы выгодно перейти на'ultra':"
   ]
  },
  {
   "cell_type": "code",
   "execution_count": 21,
   "metadata": {},
   "outputs": [
    {
     "data": {
      "text/plain": [
       "399"
      ]
     },
     "execution_count": 21,
     "metadata": {},
     "output_type": "execute_result"
    }
   ],
   "source": [
    "#найдем в скольки случаях было бы выгодно перейти на'ultra':\n",
    "len(smart.query('(revenue>1950) and (int_above_limit<=15)'))"
   ]
  },
  {
   "cell_type": "markdown",
   "metadata": {},
   "source": [
    "В 399 случаях из 417 найденных переплат свыше 1950 рублей пользователям тарифа 'smart' было бы выгодно перейти на 'ultra'."
   ]
  },
  {
   "cell_type": "markdown",
   "metadata": {},
   "source": [
    "Теперь посчитаем долю случаев, когда пользователи тарифа 'ultra' платят свыше 1950 рублей в месяц, так как им не хватает объема интернет-трафика, а также долю случаев, когда пользователи тарифа 'smart' платят свыше 550 рублей в месяц:"
   ]
  },
  {
   "cell_type": "code",
   "execution_count": 22,
   "metadata": {},
   "outputs": [
    {
     "name": "stdout",
     "output_type": "stream",
     "text": [
      "Доля случаев, когда пользователи тарифа ultra переплачивают, так как им не хватает объема интернет-трафика: 0.13604060913705585\n",
      "Доля случаев, когда пользователи тарифа smart платят свыше 550 рублей в месяц: 0.7456258411843876\n"
     ]
    }
   ],
   "source": [
    "print('Доля случаев, когда пользователи тарифа ultra переплачивают, так как им не хватает объема интернет-трафика:', (len(ultra.query('revenue>1950'))/ len(ultra)))\n",
    "print('Доля случаев, когда пользователи тарифа smart платят свыше 550 рублей в месяц:', (len(smart.query('revenue>550'))/ len(smart)))"
   ]
  },
  {
   "cell_type": "markdown",
   "metadata": {},
   "source": [
    "**Подытожим**:\n",
    "\n",
    "Пользователи тарифа 'smart' вносят дополнительную плату сверх тарифа 550 руб. в 75 % случаев, при этом, практически в 20% случаев пользователи платят даже сверх более дорогого тарифа 'ultra' стоимостью 1950 руб, хотя могли бы перейти на тариф 'ultra' и экономить на переплатах. Пользователям тарифа 'smart' больше всего не хватает объема интернет- трафика, но также и лимитов смс и минут разговора. \n",
    "\n",
    "В 14 % случаев переплачивают и пользователи тарифа 'ultra', им не хватает лимита интернет - трафика, при этом лимит по минутам и смс не расходуется в полном объеме, эти показатели значительно превышают даже максимальные значения использования в месяц."
   ]
  },
  {
   "cell_type": "markdown",
   "metadata": {},
   "source": [
    "Теперь **рассчитаем дисперсию и стандартное отклонение**:"
   ]
  },
  {
   "cell_type": "code",
   "execution_count": 23,
   "metadata": {},
   "outputs": [
    {
     "name": "stdout",
     "output_type": "stream",
     "text": [
      "Дисперcия для столбцов sum_calls, count_messages, sum_internet таблицы smart: [36219.32, 796.81, 34462496.46]\n",
      "Стд.отклонение для столбцов sum_calls, count_messages, sum_internet таблицы smart: [ 190.31   28.23 5870.48]\n"
     ]
    }
   ],
   "source": [
    "#рассчитаем дисперсию и стд.отклонение для параметров таблицы smart:\n",
    "columns = ['sum_calls', 'count_messages', 'sum_internet']\n",
    "variance_smart = []#переменная для добавления значений дисперсии\n",
    "for column in columns:\n",
    "    variance_smart.append(np.var(smart[column], ddof =1).round(2))\n",
    "print('Дисперcия для столбцов sum_calls, count_messages, sum_internet таблицы smart:',variance_smart)\n",
    "std_smart = np.sqrt(variance_smart).round(2)#переменная со значениями стандартного отклонения\n",
    "print('Стд.отклонение для столбцов sum_calls, count_messages, sum_internet таблицы smart:', std_smart)"
   ]
  },
  {
   "cell_type": "code",
   "execution_count": 24,
   "metadata": {},
   "outputs": [
    {
     "name": "stdout",
     "output_type": "stream",
     "text": [
      "Дисперcия для столбцов sum_calls, count_messages, sum_internet таблицы ultra: [100873.63, 2285.27, 101751013.78]\n",
      "Стд.отклонение для столбцов sum_calls, count_messages, sum_internet таблицы ultra: [  317.61    47.8  10087.17]\n"
     ]
    }
   ],
   "source": [
    "#рассчитаем дисперсию и стд.отклонение для параметров таблицы ultra:\n",
    "columns = ['sum_calls', 'count_messages', 'sum_internet']\n",
    "variance_ultra = []#переменная для добавления значений дисперсии\n",
    "for column in columns:\n",
    "    variance_ultra.append(np.var(ultra[column], ddof =1).round(2))\n",
    "print('Дисперcия для столбцов sum_calls, count_messages, sum_internet таблицы ultra:',variance_ultra)\n",
    "std_ultra = np.sqrt(variance_ultra).round(2)#переменная со значениями стандартного отклонения\n",
    "print('Стд.отклонение для столбцов sum_calls, count_messages, sum_internet таблицы ultra:', std_ultra)"
   ]
  },
  {
   "cell_type": "markdown",
   "metadata": {},
   "source": [
    "### Строим гистограммы"
   ]
  },
  {
   "cell_type": "markdown",
   "metadata": {},
   "source": [
    "Построим **гистограммы для столбцов sum_calls, count_messages, sum_internet таблицы smart**:"
   ]
  },
  {
   "cell_type": "code",
   "execution_count": 25,
   "metadata": {},
   "outputs": [
    {
     "data": {
      "image/png": "[encoded data removed]",
      "text/plain": [
       "<Figure size 432x288 with 1 Axes>"
      ]
     },
     "metadata": {
      "needs_background": "light"
     },
     "output_type": "display_data"
    },
    {
     "data": {
      "image/png": "[encoded data removed]",
      "text/plain": [
       "<Figure size 432x288 with 1 Axes>"
      ]
     },
     "metadata": {
      "needs_background": "light"
     },
     "output_type": "display_data"
    },
    {
     "data": {
      "image/png": "[encoded data removed]",
      "text/plain": [
       "<Figure size 432x288 with 1 Axes>"
      ]
     },
     "metadata": {
      "needs_background": "light"
     },
     "output_type": "display_data"
    }
   ],
   "source": [
    "#построим гистограммы с помощью цикла for для параметров таблицы smart:\n",
    "columns = ['sum_calls', 'count_messages', 'sum_internet']\n",
    "for index in range(len(columns)):\n",
    "    Q1 = smart[columns[index]].quantile(0.25)\n",
    "    Q3 = smart[columns[index]].quantile(0.75)\n",
    "    IQR = Q3 - Q1\n",
    "    a = Q1-1.5*IQR\n",
    "    b = Q3+1.5*IQR\n",
    "    smart.hist(columns[index], bins= 25 , range = (a,b))"
   ]
  },
  {
   "cell_type": "markdown",
   "metadata": {},
   "source": [
    "Гистограммы распределения количества звонков и объема интернет-трафика тарифа 'smart' близки к нормальному распределению, имеют лишь небольшую отрицательную скошенность (влево). А вот гистограмма распределения количества отправляемых сообщений тарифа 'smart' очень явно скошенна вправо. О чем это говорит? В последнее время пользователи стали все реже отправлять смс. В большинстве случаев (более 300) - сообщения не отправляются вообще, а больше 100 сообщений в месяц отправляется менее чем в 50 случаях. "
   ]
  },
  {
   "cell_type": "markdown",
   "metadata": {},
   "source": [
    "Построим **гистограммы для столбцов sum_calls, count_messages, sum_internet таблицы ultra**:"
   ]
  },
  {
   "cell_type": "code",
   "execution_count": 26,
   "metadata": {},
   "outputs": [
    {
     "data": {
      "image/png": "[encoded data removed]",
      "text/plain": [
       "<Figure size 432x288 with 1 Axes>"
      ]
     },
     "metadata": {
      "needs_background": "light"
     },
     "output_type": "display_data"
    },
    {
     "data": {
      "image/png": "[encoded data removed]",
      "text/plain": [
       "<Figure size 432x288 with 1 Axes>"
      ]
     },
     "metadata": {
      "needs_background": "light"
     },
     "output_type": "display_data"
    },
    {
     "data": {
      "image/png": "[encoded data removed]",
      "text/plain": [
       "<Figure size 432x288 with 1 Axes>"
      ]
     },
     "metadata": {
      "needs_background": "light"
     },
     "output_type": "display_data"
    }
   ],
   "source": [
    "#построим гистограммы с помощью цикла for для параметров таблицы ultra:\n",
    "columns = ['sum_calls', 'count_messages', 'sum_internet']\n",
    "for index in range(len(columns)):\n",
    "    Q1 = ultra[columns[index]].quantile(0.25)\n",
    "    Q3 = ultra[columns[index]].quantile(0.75)\n",
    "    IQR = Q3 - Q1\n",
    "    a = Q1-1.5*IQR\n",
    "    b = Q3+1.5*IQR\n",
    "    ultra.hist(columns[index], bins= 20 , range = (a,b))"
   ]
  },
  {
   "cell_type": "markdown",
   "metadata": {},
   "source": [
    "Гистограммы распределения количества звонков и объема интернет-трафика тарифа 'ultra' имеют лишь небольшую положительную скошенность (вправо). Гистограмма распределения количества отправляемых сообщений тарифа 'ultra', также, как и тарифа 'smart', очень явно скошенна вправо."
   ]
  },
  {
   "cell_type": "markdown",
   "metadata": {},
   "source": [
    "### Применяем правило 3 сигм"
   ]
  },
  {
   "cell_type": "markdown",
   "metadata": {},
   "source": [
    "Чтобы посчитать, какое количество минут разговора, сообщений и объёма интернет-трафика **требуется** для пользователей тарифа smart и ultra, применим правило 3 сигм, найдем верхние границы значений количества минут, смс и объема интернет-трафика. \n",
    "\n",
    "Графики распределения количества сообщений далеки от нормального распределения, но для нахождения верхней границы мы можем здесь применить правило 3 сигм. "
   ]
  },
  {
   "cell_type": "code",
   "execution_count": 27,
   "metadata": {},
   "outputs": [
    {
     "name": "stdout",
     "output_type": "stream",
     "text": [
      "Пользователям тарифа smart требуется: [  989.   119. 33821.] -количество минут разговора, сообщений и объёма интернет-трафика, соответственно.\n"
     ]
    }
   ],
   "source": [
    "#найдем верхние границы значений для столбцов sum_calls, count_messages, sum_internet таблицы smart:\n",
    "mean_smart = [418, 34, 16209]#введем переменную с указанием средних для столбцов sum_calls, count_messages, sum_internet\n",
    "upper_bound_smart = mean_smart + (std_smart*3)#верхние границы\n",
    "print('Пользователям тарифа smart требуется:', np.ceil(upper_bound_smart), '-количество минут разговора, сообщений и объёма интернет-трафика, соответственно.')"
   ]
  },
  {
   "cell_type": "code",
   "execution_count": 28,
   "metadata": {},
   "outputs": [
    {
     "name": "stdout",
     "output_type": "stream",
     "text": [
      "Пользователям тарифа ultra требуется: [ 1480.   194. 49731.] -количество минут разговора, сообщений и объёма интернет- трафика, соответственно.\n"
     ]
    }
   ],
   "source": [
    "#найдем верхние границы значений для столбцов sum_calls, count_messages, sum_internet таблицы ultra:\n",
    "mean_ultra = [527, 50, 19469]#введем переменную с указанием средних для столбцов sum_calls, count_messages, sum_internet\n",
    "upper_bound_ultra = mean_ultra + (std_ultra*3)#верхние границы\n",
    "print('Пользователям тарифа ultra требуется:', np.ceil(upper_bound_ultra), '-количество минут разговора, сообщений и объёма интернет- трафика, соответственно.')"
   ]
  },
  {
   "cell_type": "markdown",
   "metadata": {},
   "source": [
    "**Вывод**\n",
    "\n",
    "Еще раз перечислим, что же мы выяснили в рамках анализа данных? \n",
    "\n",
    "Количество ежемесячного использования тарифа 'smart' гораздо больше количества ежемесячного использования тарифа 'ultra' - 2229 против 985. Что логично: на первый взгляд, тариф 'smart' дешевле тарифа 'ultra' почти в 4 раза (550 против 1950 рублей в месяц).\n",
    "\n",
    "Но если посмотреть глубже, пользователи часто переплачивают за услуги, так как им не хватает лимитов, предусмотренных тарифами. \n",
    "\n",
    "Пользователи тарифа 'smart' вносят дополнительную плату сверх тарифа 550 руб. в 75 % случаев, при этом, практически в 20% случаев пользователи платят даже сверх более дорогого тарифа 'ultra' стоимостью 1950 руб, хотя могли бы перейти на тариф 'ultra' и экономить на переплатах. Пользователям тарифа 'smart' больше всего не хватает объема интернет- трафика, но также и лимитов смс и минут разговора.\n",
    "\n",
    "В 14 % случаев переплачивают и пользователи тарифа 'ultra', им не хватает лимита интернет - трафика, при этом лимит по минутам и смс не расходуется в полном объеме, лимиты значительно превышают даже максимальные значения использования за месяц.\n",
    "\n",
    "Для Клиентов оптимальными были бы следующие условия: \n",
    "- для пользователей тарифа smart: 1000 минут разговора, 120 смс и 33 Гб интернета;\n",
    "- для пользователей тарифа ultra: 1500 минут разговора, 200 смс и 49 Гб интернета.\n",
    "\n",
    "В этом случае количество пользователей, переплачивающих за услуги, было бы минимальным. "
   ]
  },
  {
   "cell_type": "markdown",
   "metadata": {},
   "source": [
    "## Проверка гипотез"
   ]
  },
  {
   "cell_type": "markdown",
   "metadata": {},
   "source": [
    "### Гипотеза \"Средняя выручка пользователей тарифов «Ультра» и «Смарт» различаются\""
   ]
  },
  {
   "cell_type": "markdown",
   "metadata": {},
   "source": [
    "Нам необходимо сформулировать нулевую гипотезу так, чтобы использовать знак равенства. \n",
    "\n",
    "Тогда нулевая гипотеза **Но звучит следующим образом**: \"Средняя выручка пользователей тарифа \"Ультра\" равна средней выручке пользователей тарифа \"Смарт\".\n",
    "\n",
    "**Альтернативная гипотеза Н1**: \"Средняя выручка пользователей тарифа \"Ультра\" не равна средней выручке пользователей тарифа \"Смарт\".\n",
    "\n",
    "Пороговое значение альфа зададим равным 0.05. \n",
    "\n",
    "Осталось найти среднюю выручку от каждого пользователя тарифов «Ультра» и «Смарт»:"
   ]
  },
  {
   "cell_type": "code",
   "execution_count": 29,
   "metadata": {},
   "outputs": [
    {
     "data": {
      "text/plain": [
       "user_id\n",
       "1001     850.000000\n",
       "1002    1035.714286\n",
       "1005     827.000000\n",
       "1006     931.818182\n",
       "1007     913.444444\n",
       "           ...     \n",
       "1494     990.600000\n",
       "1496    2362.583333\n",
       "1497     928.333333\n",
       "1498    1659.000000\n",
       "1499     952.750000\n",
       "Length: 350, dtype: float64"
      ]
     },
     "execution_count": 29,
     "metadata": {},
     "output_type": "execute_result"
    }
   ],
   "source": [
    "#найдем среднюю выручку от каждого пользователя тарифа smart:\n",
    "mean_revenue_smart = smart['revenue'].unstack().mean(1)\n",
    "mean_revenue_smart"
   ]
  },
  {
   "cell_type": "code",
   "execution_count": 30,
   "metadata": {},
   "outputs": [
    {
     "data": {
      "text/plain": [
       "user_id\n",
       "1000    1950.0\n",
       "1003    1950.0\n",
       "1004    1950.0\n",
       "1013    1950.0\n",
       "1016    1950.0\n",
       "         ...  \n",
       "1476    1950.0\n",
       "1485    1950.0\n",
       "1491    1950.0\n",
       "1493    2850.0\n",
       "1495    2310.0\n",
       "Length: 148, dtype: float64"
      ]
     },
     "execution_count": 30,
     "metadata": {},
     "output_type": "execute_result"
    }
   ],
   "source": [
    "#найдем среднюю выручку от каждого пользователя тарифа ultra:\n",
    "mean_revenue_ultra = ultra['revenue'].unstack().mean(1)\n",
    "mean_revenue_ultra"
   ]
  },
  {
   "cell_type": "code",
   "execution_count": 31,
   "metadata": {},
   "outputs": [
    {
     "name": "stdout",
     "output_type": "stream",
     "text": [
      "р-значение: 2.983728825353049e-40\n",
      "Отвергаем нулевую гипотезу\n"
     ]
    }
   ],
   "source": [
    "#проверим гипотезу:\n",
    "alpha = 0.05\n",
    "results = st. ttest_ind(mean_revenue_smart, mean_revenue_ultra)\n",
    "print('р-значение:', results.pvalue)\n",
    "if results.pvalue < alpha:\n",
    "    print('Отвергаем нулевую гипотезу')\n",
    "else:\n",
    "    print('Не получилось отвергнуть нулевую гипотезу')"
   ]
  },
  {
   "cell_type": "markdown",
   "metadata": {},
   "source": [
    "Для выбранного уровня значимости мы отвергаем нулевую гипотезу. р-значение получилось крайне низким, а значит вероятность того, что  средняя выручка пользователей тарифа \"Ультра\" генеральной совокупности может быть равна средней выручке пользователей тарифа \"Смарт\" ничтожно мала. \n",
    "\n",
    "Таким образом, эмпирически полученные данные не противоречат альтернативной гипотезе: \n",
    "\"Средняя выручка пользователей тарифа \"Ультра\" не равна средней выручке пользователей тарифа \"Смарт\"."
   ]
  },
  {
   "cell_type": "code",
   "execution_count": 32,
   "metadata": {},
   "outputs": [
    {
     "name": "stdout",
     "output_type": "stream",
     "text": [
      "Средняя выручка от 1 пользователя тарифа \"Ультра\": 2086.0\n",
      "Средняя выручка от 1 пользователя тарифа \"Смарт\": 1324.0\n"
     ]
    }
   ],
   "source": [
    "#сравним средние значения выручки для 1 пользователя тарифов ultra и smart:\n",
    "print('Средняя выручка от 1 пользователя тарифа \"Ультра\":', mean_revenue_ultra.mean().round())\n",
    "print('Средняя выручка от 1 пользователя тарифа \"Смарт\":', mean_revenue_smart.mean().round())"
   ]
  },
  {
   "cell_type": "markdown",
   "metadata": {},
   "source": [
    "### Гипотеза \"Средняя выручка пользователей из Москвы отличается от выручки пользователей из других регионов\""
   ]
  },
  {
   "cell_type": "markdown",
   "metadata": {},
   "source": [
    "Аналогичным образом проверим и 2 гипотезу. \n",
    "\n",
    "**Формулируем Но**: \"Средняя выручка от пользователей из Москвы равна средней выручке от пользователей из других регионов\".\n",
    "\n",
    "**Формулируем Н1**: \"Средняя выручка от пользователей из Москвы не равна средней выручке от пользователей из других регионов\".\n",
    "\n",
    "Пороговое значение альфа также зададим равным 0.05. \n",
    "\n",
    "Найдем среднюю выручку от каждого пользователя из Москвы и из других регионов:"
   ]
  },
  {
   "cell_type": "code",
   "execution_count": 33,
   "metadata": {},
   "outputs": [
    {
     "data": {
      "text/plain": [
       "user_id\n",
       "1001     850.000000\n",
       "1003    1950.000000\n",
       "1007     913.444444\n",
       "1031     890.500000\n",
       "1033    1914.000000\n",
       "           ...     \n",
       "1453    1950.000000\n",
       "1461    1950.000000\n",
       "1476    1950.000000\n",
       "1481    1150.000000\n",
       "1490    1087.333333\n",
       "Length: 99, dtype: float64"
      ]
     },
     "execution_count": 33,
     "metadata": {},
     "output_type": "execute_result"
    }
   ],
   "source": [
    "#найдем среднюю выручку от каждого пользователя из Москвы:\n",
    "mean_revenue_moscow = data.query('city==\"Москва\"')['revenue'].unstack().mean(1)\n",
    "mean_revenue_moscow"
   ]
  },
  {
   "cell_type": "code",
   "execution_count": 34,
   "metadata": {},
   "outputs": [
    {
     "data": {
      "text/plain": [
       "user_id\n",
       "1000    1950.000000\n",
       "1002    1035.714286\n",
       "1004    1950.000000\n",
       "1005     827.000000\n",
       "1006     931.818182\n",
       "           ...     \n",
       "1495    2310.000000\n",
       "1496    2362.583333\n",
       "1497     928.333333\n",
       "1498    1659.000000\n",
       "1499     952.750000\n",
       "Length: 399, dtype: float64"
      ]
     },
     "execution_count": 34,
     "metadata": {},
     "output_type": "execute_result"
    }
   ],
   "source": [
    "#найдем среднюю выручку от каждого пользователя из других регионов:\n",
    "mean_revenue_regions = data.query('city!=\"Москва\"')['revenue'].unstack().mean(1)\n",
    "mean_revenue_regions"
   ]
  },
  {
   "cell_type": "code",
   "execution_count": 35,
   "metadata": {},
   "outputs": [
    {
     "name": "stdout",
     "output_type": "stream",
     "text": [
      "р-значение: 0.36094633224451433\n",
      "Не получилось отвергнуть нулевую гипотезу\n"
     ]
    }
   ],
   "source": [
    "#проверим гипотезу:\n",
    "alpha = 0.05\n",
    "results = st. ttest_ind(mean_revenue_moscow, mean_revenue_regions)\n",
    "print('р-значение:', results.pvalue)\n",
    "if results.pvalue < alpha:\n",
    "    print('Отвергаем нулевую гипотезу')\n",
    "else:\n",
    "    print('Не получилось отвергнуть нулевую гипотезу')"
   ]
  },
  {
   "cell_type": "markdown",
   "metadata": {},
   "source": [
    "Полученное значение p-value говорит о том, с вероятностью в 36% средняя выручка от пользователей из Москвы, рассчитанная по данным генеральной совокупности, будет равна средней выручке от пользователей из других регионов. \n",
    "Эмпирически полученные данные не противоречат нулевой гипотезе. "
   ]
  },
  {
   "cell_type": "markdown",
   "metadata": {},
   "source": [
    "**Вывод**\n",
    "\n",
    "Мы проверили 2 гипотезы: \n",
    "- Средняя выручка пользователей тарифов «Ультра» и «Смарт» различаются;\n",
    "- Средняя выручка пользователей из Москвы отличается от выручки пользователей из других регионов.\n",
    "\n",
    "И выяснили следующее: \n",
    "- вероятность того, что средняя выручка пользователей тарифа \"Ультра\" генеральной совокупности может быть равна средней выручке пользователей тарифа \"Смарт\" ничтожно мала. Эмпирически полученные данные не противоречат альтернативной гипотезе: \"Средняя выручка пользователей тарифа \"Ультра\" не равна средней выручке пользователей тарифа \"Смарт\".\n",
    "- с вероятностью в 36% средняя выручка от пользователей из Москвы, рассчитанная по данным генеральной совокупности, будет равна средней выручке от пользователей из других регионов. \n",
    "\n",
    "Таким образом, мы не можем отвергнуть первую гипотезу в том виде, в котором она была дана изначально, и отвергаем вторую. "
   ]
  },
  {
   "cell_type": "markdown",
   "metadata": {},
   "source": [
    "## Общий вывод"
   ]
  },
  {
   "cell_type": "markdown",
   "metadata": {},
   "source": [
    "Для того, чтобы подвести итоги, давайте вспомним, какая задача стояла перед нами вначале исследования. \n",
    "\n",
    "**Задача проекта**:\n",
    "\n",
    "Компания «Мегалайн» — федеральный оператора сотовой связи. Клиентам предлагают два тарифных плана: «Смарт» и «Ультра». Чтобы скорректировать рекламный бюджет, коммерческий департамент хочет понять, какой тариф приносит больше денег.\n",
    "Нам необходимо сделать предварительный анализ тарифов на небольшой выборке клиентов. В нашем распоряжении данные 500 пользователей «Мегалайна»: кто они, откуда, каким тарифом пользуются, сколько звонков и сообщений каждый отправил за 2018 год. Проанализируем поведение клиентов и сделаем вывод — какой тариф лучше.\n",
    "\n",
    "Что же нам удалось выяснить? \n",
    "\n",
    "Количество ежемесячного использования тарифа \"Смарт\" гораздо больше количества ежемесячного использования тарифа \"Ультра\" - 2229 против 985. Что логично: на первый взгляд, тариф \"Смарт\" дешевле тарифа \"Ультра\" почти в 4 раза (550 против 1950 рублей в месяц).\n",
    "\n",
    "Но если посмотреть глубже, пользователи часто переплачивают за услуги, так как им не хватает лимитов, предусмотренных тарифами.\n",
    "\n",
    "Пользователи тарифа \"Смарт\" вносят дополнительную плату сверх тарифа 550 руб. в 75 % случаев. Пользователям тарифа \"Смарт\" больше всего не хватает объема интернет- трафика, а также и лимитов смс, и минут разговора.\n",
    "\n",
    "В 14 % случаев переплачивают и пользователи тарифа \"Ультра\", им не хватает лимита интернет - трафика, при этом лимит по минутам и смс не расходуется в полном объеме, лимиты значительно превышают даже максимальные значения использования за месяц.\n",
    "\n",
    "Для понимания, какой же тариф приносит больше денег, мы проверили 2 гипотезы:\n",
    "- Средняя выручка пользователей тарифов «Ультра» и «Смарт» различаются;\n",
    "- Средняя выручка пользователей из Москвы отличается от выручки пользователей из других регионов.\n",
    "\n",
    "В результате, мы не смогли отвергнуть первую гипотезу, и отвергли вторую. Таким образом, мы не будем давать рекомендации для коммерческого департамента, что необходимо делать упор, например, на московских клиентов. \n",
    "\n",
    "Давайте разбираться со средней выручкой от пользователей тарифов Ультра» и «Смарт». С одной стороны, средняя выручка от 1 пользователя тарифа \"Ультра\" гораздо больше средней выручки от 1 пользователя тарифа \"Смарт\"(2086 руб. против 1324 руб.), с другой стороны, тариф \"Смарт\" выбирают чаще. Здесь мы также не можем дать рекомендации делать упор на тот или иной тариф, посколько % переплат и по одному, и по другому тарифу очень высокий. Мы не можем исключать такой фактор, как клиентоориентированность. Рано или поздно постоянно переплачивающие клиенты начнут уходить к другим операторам связи. \n",
    "\n",
    "Было выявлено, что для Клиентов оптимальными были бы следующие условия:\n",
    "\n",
    "для пользователей тарифа \"Смарт\": 1000 минут разговора, 120 смс и 33 Гб интернета;\n",
    "для пользователей тарифа \"Ультра\": 1500 минут разговора, 200 смс и 49 Гб интернета.\n",
    "\n",
    "Таким образом, необходимо корректировать сами тарифы:\n",
    "- по тарифу \"Ультра\" необходимо убрать лишние минуты разговора и смс в пользу Гб интернета;\n",
    "- тариф \"Смарт\" оставить с теми лимитами, которые есть сейчас, для пользователей, которым сейчас хватает этих лимитов, и внедрить дополнительный тариф с лимитами порядка 1000 минут разговора, 120 смс и 33 Гб интернета с соответствующей стоимостью. \n",
    "\n",
    "И **только после разработки нового тарифа и корректировки старых мы можем рекомендовать коммерческому департаменту проводить рекламную компанию**."
   ]
  }
 ],
 "metadata": {
  "ExecuteTimeLog": [
   {
    "duration": 556,
    "start_time": "2021-12-23T08:39:14.881Z"
   },
   {
    "duration": 422,
    "start_time": "2021-12-23T08:46:48.836Z"
   },
   {
    "duration": 431,
    "start_time": "2021-12-23T08:47:47.492Z"
   },
   {
    "duration": 423,
    "start_time": "2021-12-23T08:48:23.354Z"
   },
   {
    "duration": 600,
    "start_time": "2021-12-23T08:51:05.267Z"
   },
   {
    "duration": 427,
    "start_time": "2021-12-23T08:52:00.627Z"
   },
   {
    "duration": 419,
    "start_time": "2021-12-23T08:54:05.767Z"
   },
   {
    "duration": 5,
    "start_time": "2021-12-23T12:55:25.194Z"
   },
   {
    "duration": 403978,
    "start_time": "2021-12-23T13:13:44.932Z"
   },
   {
    "duration": 89,
    "start_time": "2021-12-23T15:38:53.206Z"
   },
   {
    "duration": 733,
    "start_time": "2021-12-23T15:41:46.766Z"
   },
   {
    "duration": 80,
    "start_time": "2021-12-23T15:41:52.406Z"
   },
   {
    "duration": 87,
    "start_time": "2021-12-23T15:43:00.140Z"
   },
   {
    "duration": 80,
    "start_time": "2021-12-23T15:43:08.026Z"
   },
   {
    "duration": 88,
    "start_time": "2021-12-23T15:43:23.836Z"
   },
   {
    "duration": 82,
    "start_time": "2021-12-23T15:43:37.832Z"
   },
   {
    "duration": 863,
    "start_time": "2021-12-23T15:43:45.819Z"
   },
   {
    "duration": 542,
    "start_time": "2021-12-23T15:44:09.875Z"
   },
   {
    "duration": 774,
    "start_time": "2021-12-23T15:44:14.080Z"
   },
   {
    "duration": 535,
    "start_time": "2021-12-23T15:45:33.002Z"
   },
   {
    "duration": 551,
    "start_time": "2021-12-23T15:46:29.092Z"
   },
   {
    "duration": 564,
    "start_time": "2021-12-23T15:51:07.120Z"
   },
   {
    "duration": 608,
    "start_time": "2021-12-23T15:51:29.661Z"
   },
   {
    "duration": 82,
    "start_time": "2021-12-23T15:51:58.474Z"
   },
   {
    "duration": 6950,
    "start_time": "2021-12-23T15:57:51.810Z"
   },
   {
    "duration": 581,
    "start_time": "2021-12-23T15:59:05.151Z"
   },
   {
    "duration": 693,
    "start_time": "2021-12-23T15:59:28.694Z"
   },
   {
    "duration": 556,
    "start_time": "2021-12-23T15:59:34.488Z"
   },
   {
    "duration": 570,
    "start_time": "2021-12-23T16:00:14.354Z"
   },
   {
    "duration": 721,
    "start_time": "2021-12-23T16:04:02.287Z"
   },
   {
    "duration": 572,
    "start_time": "2021-12-23T16:05:16.585Z"
   },
   {
    "duration": 615,
    "start_time": "2021-12-23T16:11:28.698Z"
   },
   {
    "duration": 637,
    "start_time": "2021-12-23T16:11:37.006Z"
   },
   {
    "duration": 679,
    "start_time": "2021-12-23T16:12:01.941Z"
   },
   {
    "duration": 425,
    "start_time": "2021-12-23T17:04:49.513Z"
   },
   {
    "duration": 143,
    "start_time": "2021-12-23T17:05:02.952Z"
   },
   {
    "duration": 77,
    "start_time": "2021-12-23T17:07:03.634Z"
   },
   {
    "duration": 23,
    "start_time": "2021-12-23T17:08:21.250Z"
   },
   {
    "duration": 72,
    "start_time": "2021-12-23T17:09:38.070Z"
   },
   {
    "duration": 29,
    "start_time": "2021-12-23T17:10:39.409Z"
   },
   {
    "duration": 793,
    "start_time": "2021-12-23T17:16:44.832Z"
   },
   {
    "duration": 81,
    "start_time": "2021-12-23T17:20:43.670Z"
   },
   {
    "duration": 111,
    "start_time": "2021-12-23T17:21:02.926Z"
   },
   {
    "duration": 121,
    "start_time": "2021-12-23T17:25:58.594Z"
   },
   {
    "duration": 114,
    "start_time": "2021-12-23T17:26:09.529Z"
   },
   {
    "duration": 1991,
    "start_time": "2021-12-24T12:02:12.620Z"
   },
   {
    "duration": 1006,
    "start_time": "2021-12-24T12:02:14.615Z"
   },
   {
    "duration": 144,
    "start_time": "2021-12-24T12:02:15.625Z"
   },
   {
    "duration": 134,
    "start_time": "2021-12-24T12:02:15.772Z"
   },
   {
    "duration": 419,
    "start_time": "2021-12-24T12:12:58.006Z"
   },
   {
    "duration": 23,
    "start_time": "2021-12-24T12:13:25.318Z"
   },
   {
    "duration": 24,
    "start_time": "2021-12-24T12:14:30.983Z"
   },
   {
    "duration": 155,
    "start_time": "2021-12-24T12:42:25.827Z"
   },
   {
    "duration": 247,
    "start_time": "2021-12-24T13:49:31.811Z"
   },
   {
    "duration": 254,
    "start_time": "2021-12-24T13:52:13.487Z"
   },
   {
    "duration": 81,
    "start_time": "2021-12-24T13:52:28.428Z"
   },
   {
    "duration": 13,
    "start_time": "2021-12-24T13:52:32.205Z"
   },
   {
    "duration": 14,
    "start_time": "2021-12-24T13:53:02.299Z"
   },
   {
    "duration": 82,
    "start_time": "2021-12-24T14:05:51.739Z"
   },
   {
    "duration": 278,
    "start_time": "2021-12-24T14:42:06.708Z"
   },
   {
    "duration": 40,
    "start_time": "2021-12-24T14:43:17.830Z"
   },
   {
    "duration": 34,
    "start_time": "2021-12-24T14:45:50.186Z"
   },
   {
    "duration": 76,
    "start_time": "2021-12-24T14:48:08.308Z"
   },
   {
    "duration": 25,
    "start_time": "2021-12-24T14:49:33.195Z"
   },
   {
    "duration": 22,
    "start_time": "2021-12-24T14:50:17.349Z"
   },
   {
    "duration": 25,
    "start_time": "2021-12-24T14:50:55.741Z"
   },
   {
    "duration": 21,
    "start_time": "2021-12-24T14:51:17.220Z"
   },
   {
    "duration": 21,
    "start_time": "2021-12-24T14:51:46.329Z"
   },
   {
    "duration": 78,
    "start_time": "2021-12-24T14:53:15.126Z"
   },
   {
    "duration": 15,
    "start_time": "2021-12-24T14:54:53.749Z"
   },
   {
    "duration": 16,
    "start_time": "2021-12-24T14:55:16.305Z"
   },
   {
    "duration": 32,
    "start_time": "2021-12-24T14:56:06.143Z"
   },
   {
    "duration": 24,
    "start_time": "2021-12-24T14:56:34.417Z"
   },
   {
    "duration": 16,
    "start_time": "2021-12-24T14:56:53.547Z"
   },
   {
    "duration": 27,
    "start_time": "2021-12-24T14:57:32.796Z"
   },
   {
    "duration": 21,
    "start_time": "2021-12-24T14:57:35.719Z"
   },
   {
    "duration": 16,
    "start_time": "2021-12-24T14:57:38.270Z"
   },
   {
    "duration": 53,
    "start_time": "2021-12-24T14:59:00.157Z"
   },
   {
    "duration": 46,
    "start_time": "2021-12-24T14:59:17.338Z"
   },
   {
    "duration": 74,
    "start_time": "2021-12-24T15:00:14.423Z"
   },
   {
    "duration": 84,
    "start_time": "2021-12-24T15:02:00.361Z"
   },
   {
    "duration": 56,
    "start_time": "2021-12-24T15:04:04.296Z"
   },
   {
    "duration": 34,
    "start_time": "2021-12-24T15:06:07.618Z"
   },
   {
    "duration": 85,
    "start_time": "2021-12-24T15:42:01.252Z"
   },
   {
    "duration": 89,
    "start_time": "2021-12-24T15:42:13.175Z"
   },
   {
    "duration": 252,
    "start_time": "2021-12-24T15:42:19.413Z"
   },
   {
    "duration": 51,
    "start_time": "2021-12-24T15:57:05.084Z"
   },
   {
    "duration": 46,
    "start_time": "2021-12-24T15:57:36.903Z"
   },
   {
    "duration": 47,
    "start_time": "2021-12-24T15:57:55.969Z"
   },
   {
    "duration": 80,
    "start_time": "2021-12-24T15:58:19.852Z"
   },
   {
    "duration": 26,
    "start_time": "2021-12-24T15:58:34.604Z"
   },
   {
    "duration": 37,
    "start_time": "2021-12-24T15:58:47.156Z"
   },
   {
    "duration": 97,
    "start_time": "2021-12-24T15:58:59.249Z"
   },
   {
    "duration": 46,
    "start_time": "2021-12-24T15:59:49.934Z"
   },
   {
    "duration": 42,
    "start_time": "2021-12-24T16:07:30.081Z"
   },
   {
    "duration": 33,
    "start_time": "2021-12-24T16:07:33.913Z"
   },
   {
    "duration": 45,
    "start_time": "2021-12-24T16:07:37.700Z"
   },
   {
    "duration": 72,
    "start_time": "2021-12-24T16:07:48.710Z"
   },
   {
    "duration": 40,
    "start_time": "2021-12-24T16:10:07.074Z"
   },
   {
    "duration": 946,
    "start_time": "2021-12-25T08:41:46.366Z"
   },
   {
    "duration": 452,
    "start_time": "2021-12-25T08:41:47.314Z"
   },
   {
    "duration": 77,
    "start_time": "2021-12-25T08:41:47.768Z"
   },
   {
    "duration": 64,
    "start_time": "2021-12-25T08:41:47.846Z"
   },
   {
    "duration": 36,
    "start_time": "2021-12-25T08:41:47.912Z"
   },
   {
    "duration": 36,
    "start_time": "2021-12-25T08:41:47.949Z"
   },
   {
    "duration": 8,
    "start_time": "2021-12-25T08:41:47.986Z"
   },
   {
    "duration": 67,
    "start_time": "2021-12-25T08:41:47.996Z"
   },
   {
    "duration": 49,
    "start_time": "2021-12-25T08:41:48.064Z"
   },
   {
    "duration": 42,
    "start_time": "2021-12-25T08:41:48.115Z"
   },
   {
    "duration": 19,
    "start_time": "2021-12-25T08:41:48.158Z"
   },
   {
    "duration": 27,
    "start_time": "2021-12-25T08:41:48.178Z"
   },
   {
    "duration": 22,
    "start_time": "2021-12-25T08:49:01.430Z"
   },
   {
    "duration": 23,
    "start_time": "2021-12-25T08:49:05.737Z"
   },
   {
    "duration": 79,
    "start_time": "2021-12-25T08:49:23.766Z"
   },
   {
    "duration": 22,
    "start_time": "2021-12-25T08:49:40.866Z"
   },
   {
    "duration": 686,
    "start_time": "2021-12-25T08:50:35.652Z"
   },
   {
    "duration": 195,
    "start_time": "2021-12-25T08:50:51.020Z"
   },
   {
    "duration": 21,
    "start_time": "2021-12-25T08:51:11.634Z"
   },
   {
    "duration": 28,
    "start_time": "2021-12-25T08:55:30.186Z"
   },
   {
    "duration": 196,
    "start_time": "2021-12-25T09:03:56.328Z"
   },
   {
    "duration": 10,
    "start_time": "2021-12-25T09:04:36.924Z"
   },
   {
    "duration": 9,
    "start_time": "2021-12-25T09:05:27.939Z"
   },
   {
    "duration": 4,
    "start_time": "2021-12-25T09:07:11.469Z"
   },
   {
    "duration": 28,
    "start_time": "2021-12-25T09:07:22.315Z"
   },
   {
    "duration": 12,
    "start_time": "2021-12-25T09:07:30.255Z"
   },
   {
    "duration": 201,
    "start_time": "2021-12-25T09:07:36.157Z"
   },
   {
    "duration": 198,
    "start_time": "2021-12-25T09:07:49.389Z"
   },
   {
    "duration": 227,
    "start_time": "2021-12-25T09:08:03.759Z"
   },
   {
    "duration": 4,
    "start_time": "2021-12-25T09:09:19.173Z"
   },
   {
    "duration": 455,
    "start_time": "2021-12-25T09:09:19.178Z"
   },
   {
    "duration": 66,
    "start_time": "2021-12-25T09:09:19.635Z"
   },
   {
    "duration": 90,
    "start_time": "2021-12-25T09:09:19.702Z"
   },
   {
    "duration": 16,
    "start_time": "2021-12-25T09:09:19.794Z"
   },
   {
    "duration": 61,
    "start_time": "2021-12-25T09:09:19.812Z"
   },
   {
    "duration": 10,
    "start_time": "2021-12-25T09:09:19.875Z"
   },
   {
    "duration": 80,
    "start_time": "2021-12-25T09:09:19.887Z"
   },
   {
    "duration": 59,
    "start_time": "2021-12-25T09:09:19.969Z"
   },
   {
    "duration": 30,
    "start_time": "2021-12-25T09:09:20.042Z"
   },
   {
    "duration": 21,
    "start_time": "2021-12-25T09:09:20.074Z"
   },
   {
    "duration": 95,
    "start_time": "2021-12-25T09:09:20.097Z"
   },
   {
    "duration": 8,
    "start_time": "2021-12-25T09:09:20.194Z"
   },
   {
    "duration": 24,
    "start_time": "2021-12-25T09:09:20.203Z"
   },
   {
    "duration": 212,
    "start_time": "2021-12-25T09:09:29.430Z"
   },
   {
    "duration": 205,
    "start_time": "2021-12-25T09:10:36.395Z"
   },
   {
    "duration": 199,
    "start_time": "2021-12-25T09:10:39.778Z"
   },
   {
    "duration": 14,
    "start_time": "2021-12-25T09:12:39.241Z"
   },
   {
    "duration": 17,
    "start_time": "2021-12-25T09:12:46.088Z"
   },
   {
    "duration": 19,
    "start_time": "2021-12-25T09:13:20.007Z"
   },
   {
    "duration": 207,
    "start_time": "2021-12-25T09:13:38.513Z"
   },
   {
    "duration": 210,
    "start_time": "2021-12-25T09:14:13.278Z"
   },
   {
    "duration": 192,
    "start_time": "2021-12-25T09:15:08.272Z"
   },
   {
    "duration": 3,
    "start_time": "2021-12-25T09:16:52.318Z"
   },
   {
    "duration": 459,
    "start_time": "2021-12-25T09:16:52.323Z"
   },
   {
    "duration": 81,
    "start_time": "2021-12-25T09:16:52.784Z"
   },
   {
    "duration": 80,
    "start_time": "2021-12-25T09:16:52.867Z"
   },
   {
    "duration": 12,
    "start_time": "2021-12-25T09:16:52.949Z"
   },
   {
    "duration": 30,
    "start_time": "2021-12-25T09:16:52.963Z"
   },
   {
    "duration": 9,
    "start_time": "2021-12-25T09:16:52.996Z"
   },
   {
    "duration": 83,
    "start_time": "2021-12-25T09:16:53.006Z"
   },
   {
    "duration": 64,
    "start_time": "2021-12-25T09:16:53.091Z"
   },
   {
    "duration": 26,
    "start_time": "2021-12-25T09:16:53.157Z"
   },
   {
    "duration": 22,
    "start_time": "2021-12-25T09:16:53.185Z"
   },
   {
    "duration": 49,
    "start_time": "2021-12-25T09:16:53.209Z"
   },
   {
    "duration": 8,
    "start_time": "2021-12-25T09:16:53.260Z"
   },
   {
    "duration": 15,
    "start_time": "2021-12-25T09:16:53.270Z"
   },
   {
    "duration": 240,
    "start_time": "2021-12-25T09:32:28.653Z"
   },
   {
    "duration": 230,
    "start_time": "2021-12-25T09:32:46.430Z"
   },
   {
    "duration": 10,
    "start_time": "2021-12-25T09:32:58.232Z"
   },
   {
    "duration": 22,
    "start_time": "2021-12-25T09:33:24.547Z"
   },
   {
    "duration": 223,
    "start_time": "2021-12-25T09:33:39.082Z"
   },
   {
    "duration": 17,
    "start_time": "2021-12-25T09:33:44.104Z"
   },
   {
    "duration": 250,
    "start_time": "2021-12-25T09:55:30.074Z"
   },
   {
    "duration": 59,
    "start_time": "2021-12-25T09:58:36.632Z"
   },
   {
    "duration": 71,
    "start_time": "2021-12-25T09:59:28.275Z"
   },
   {
    "duration": 70,
    "start_time": "2021-12-25T10:00:24.373Z"
   },
   {
    "duration": 215,
    "start_time": "2021-12-25T10:00:45.677Z"
   },
   {
    "duration": 207,
    "start_time": "2021-12-25T10:01:28.663Z"
   },
   {
    "duration": 3,
    "start_time": "2021-12-25T10:02:13.881Z"
   },
   {
    "duration": 457,
    "start_time": "2021-12-25T10:02:13.886Z"
   },
   {
    "duration": 65,
    "start_time": "2021-12-25T10:02:14.345Z"
   },
   {
    "duration": 81,
    "start_time": "2021-12-25T10:02:14.411Z"
   },
   {
    "duration": 13,
    "start_time": "2021-12-25T10:02:14.493Z"
   },
   {
    "duration": 52,
    "start_time": "2021-12-25T10:02:14.507Z"
   },
   {
    "duration": 8,
    "start_time": "2021-12-25T10:02:14.561Z"
   },
   {
    "duration": 50,
    "start_time": "2021-12-25T10:02:14.571Z"
   },
   {
    "duration": 64,
    "start_time": "2021-12-25T10:02:14.622Z"
   },
   {
    "duration": 25,
    "start_time": "2021-12-25T10:02:14.688Z"
   },
   {
    "duration": 40,
    "start_time": "2021-12-25T10:02:14.715Z"
   },
   {
    "duration": 27,
    "start_time": "2021-12-25T10:02:14.756Z"
   },
   {
    "duration": 8,
    "start_time": "2021-12-25T10:02:14.784Z"
   },
   {
    "duration": 13,
    "start_time": "2021-12-25T10:02:14.794Z"
   },
   {
    "duration": 198,
    "start_time": "2021-12-25T10:02:14.808Z"
   },
   {
    "duration": 204,
    "start_time": "2021-12-25T10:08:19.552Z"
   },
   {
    "duration": 190,
    "start_time": "2021-12-25T10:08:40.758Z"
   },
   {
    "duration": 280,
    "start_time": "2021-12-25T10:10:01.717Z"
   },
   {
    "duration": 329,
    "start_time": "2021-12-25T10:12:29.261Z"
   },
   {
    "duration": 226,
    "start_time": "2021-12-25T10:23:53.483Z"
   },
   {
    "duration": 254,
    "start_time": "2021-12-25T10:24:58.397Z"
   },
   {
    "duration": 46,
    "start_time": "2021-12-25T10:26:20.911Z"
   },
   {
    "duration": 44,
    "start_time": "2021-12-25T10:26:46.374Z"
   },
   {
    "duration": 98,
    "start_time": "2021-12-25T10:27:28.654Z"
   },
   {
    "duration": 46,
    "start_time": "2021-12-25T10:27:44.378Z"
   },
   {
    "duration": 45,
    "start_time": "2021-12-25T10:29:06.101Z"
   },
   {
    "duration": 46,
    "start_time": "2021-12-25T10:29:23.193Z"
   },
   {
    "duration": 3,
    "start_time": "2021-12-25T10:30:11.943Z"
   },
   {
    "duration": 447,
    "start_time": "2021-12-25T10:30:11.948Z"
   },
   {
    "duration": 82,
    "start_time": "2021-12-25T10:30:12.397Z"
   },
   {
    "duration": 76,
    "start_time": "2021-12-25T10:30:12.482Z"
   },
   {
    "duration": 12,
    "start_time": "2021-12-25T10:30:12.560Z"
   },
   {
    "duration": 29,
    "start_time": "2021-12-25T10:30:12.574Z"
   },
   {
    "duration": 8,
    "start_time": "2021-12-25T10:30:12.605Z"
   },
   {
    "duration": 53,
    "start_time": "2021-12-25T10:30:12.641Z"
   },
   {
    "duration": 61,
    "start_time": "2021-12-25T10:30:12.697Z"
   },
   {
    "duration": 29,
    "start_time": "2021-12-25T10:30:12.759Z"
   },
   {
    "duration": 21,
    "start_time": "2021-12-25T10:30:12.790Z"
   },
   {
    "duration": 53,
    "start_time": "2021-12-25T10:30:12.813Z"
   },
   {
    "duration": 8,
    "start_time": "2021-12-25T10:30:12.868Z"
   },
   {
    "duration": 17,
    "start_time": "2021-12-25T10:30:12.878Z"
   },
   {
    "duration": 64,
    "start_time": "2021-12-25T10:30:12.896Z"
   },
   {
    "duration": 4,
    "start_time": "2021-12-25T10:31:51.905Z"
   },
   {
    "duration": 13,
    "start_time": "2021-12-25T10:32:11.845Z"
   },
   {
    "duration": 15,
    "start_time": "2021-12-25T10:32:18.026Z"
   },
   {
    "duration": 13,
    "start_time": "2021-12-25T10:32:24.642Z"
   },
   {
    "duration": 65,
    "start_time": "2021-12-25T10:47:38.142Z"
   },
   {
    "duration": 67,
    "start_time": "2021-12-25T10:48:41.305Z"
   },
   {
    "duration": 67,
    "start_time": "2021-12-25T10:51:50.297Z"
   },
   {
    "duration": 2,
    "start_time": "2021-12-25T10:53:35.325Z"
   },
   {
    "duration": 487,
    "start_time": "2021-12-25T10:53:35.329Z"
   },
   {
    "duration": 61,
    "start_time": "2021-12-25T10:53:35.841Z"
   },
   {
    "duration": 87,
    "start_time": "2021-12-25T10:53:35.904Z"
   },
   {
    "duration": 15,
    "start_time": "2021-12-25T10:53:35.994Z"
   },
   {
    "duration": 53,
    "start_time": "2021-12-25T10:53:36.011Z"
   },
   {
    "duration": 8,
    "start_time": "2021-12-25T10:53:36.066Z"
   },
   {
    "duration": 72,
    "start_time": "2021-12-25T10:53:36.076Z"
   },
   {
    "duration": 52,
    "start_time": "2021-12-25T10:53:36.150Z"
   },
   {
    "duration": 48,
    "start_time": "2021-12-25T10:53:36.204Z"
   },
   {
    "duration": 25,
    "start_time": "2021-12-25T10:53:36.254Z"
   },
   {
    "duration": 99,
    "start_time": "2021-12-25T10:53:36.281Z"
   },
   {
    "duration": 8,
    "start_time": "2021-12-25T10:53:36.383Z"
   },
   {
    "duration": 19,
    "start_time": "2021-12-25T10:53:36.393Z"
   },
   {
    "duration": 70,
    "start_time": "2021-12-25T10:53:36.413Z"
   },
   {
    "duration": 12,
    "start_time": "2021-12-25T10:53:36.484Z"
   },
   {
    "duration": 79,
    "start_time": "2021-12-25T10:53:36.497Z"
   },
   {
    "duration": 58,
    "start_time": "2021-12-25T10:56:39.065Z"
   },
   {
    "duration": 67,
    "start_time": "2021-12-25T10:56:51.858Z"
   },
   {
    "duration": 265,
    "start_time": "2021-12-25T10:56:57.915Z"
   },
   {
    "duration": 318,
    "start_time": "2021-12-25T10:58:11.231Z"
   },
   {
    "duration": 339,
    "start_time": "2021-12-25T10:58:22.940Z"
   },
   {
    "duration": 278,
    "start_time": "2021-12-25T10:58:42.106Z"
   },
   {
    "duration": 278,
    "start_time": "2021-12-25T10:59:28.064Z"
   },
   {
    "duration": 273,
    "start_time": "2021-12-25T10:59:48.149Z"
   },
   {
    "duration": 272,
    "start_time": "2021-12-25T11:00:25.170Z"
   },
   {
    "duration": 283,
    "start_time": "2021-12-25T11:02:02.023Z"
   },
   {
    "duration": 297,
    "start_time": "2021-12-25T11:04:04.708Z"
   },
   {
    "duration": 300,
    "start_time": "2021-12-25T11:04:52.295Z"
   },
   {
    "duration": 301,
    "start_time": "2021-12-25T11:06:47.563Z"
   },
   {
    "duration": 322,
    "start_time": "2021-12-25T11:15:20.574Z"
   },
   {
    "duration": 14,
    "start_time": "2021-12-25T12:07:53.143Z"
   },
   {
    "duration": 268,
    "start_time": "2021-12-25T12:11:54.892Z"
   },
   {
    "duration": 263,
    "start_time": "2021-12-25T12:12:33.788Z"
   },
   {
    "duration": 767,
    "start_time": "2021-12-25T12:21:47.003Z"
   },
   {
    "duration": 787,
    "start_time": "2021-12-25T12:22:03.783Z"
   },
   {
    "duration": 295,
    "start_time": "2021-12-25T12:24:03.369Z"
   },
   {
    "duration": 3,
    "start_time": "2021-12-25T12:24:42.810Z"
   },
   {
    "duration": 453,
    "start_time": "2021-12-25T12:24:42.815Z"
   },
   {
    "duration": 72,
    "start_time": "2021-12-25T12:24:43.270Z"
   },
   {
    "duration": 68,
    "start_time": "2021-12-25T12:24:43.344Z"
   },
   {
    "duration": 15,
    "start_time": "2021-12-25T12:24:43.442Z"
   },
   {
    "duration": 31,
    "start_time": "2021-12-25T12:24:43.459Z"
   },
   {
    "duration": 9,
    "start_time": "2021-12-25T12:24:43.492Z"
   },
   {
    "duration": 72,
    "start_time": "2021-12-25T12:24:43.503Z"
   },
   {
    "duration": 48,
    "start_time": "2021-12-25T12:24:43.577Z"
   },
   {
    "duration": 39,
    "start_time": "2021-12-25T12:24:43.627Z"
   },
   {
    "duration": 20,
    "start_time": "2021-12-25T12:24:43.667Z"
   },
   {
    "duration": 99,
    "start_time": "2021-12-25T12:24:43.689Z"
   },
   {
    "duration": 8,
    "start_time": "2021-12-25T12:24:43.790Z"
   },
   {
    "duration": 17,
    "start_time": "2021-12-25T12:24:43.799Z"
   },
   {
    "duration": 754,
    "start_time": "2021-12-25T12:24:43.817Z"
   },
   {
    "duration": 12,
    "start_time": "2021-12-25T12:24:44.573Z"
   },
   {
    "duration": 287,
    "start_time": "2021-12-25T12:24:44.586Z"
   },
   {
    "duration": 27,
    "start_time": "2021-12-25T12:26:48.103Z"
   },
   {
    "duration": 200,
    "start_time": "2021-12-25T13:11:52.713Z"
   },
   {
    "duration": 19,
    "start_time": "2021-12-25T13:13:09.976Z"
   },
   {
    "duration": 19,
    "start_time": "2021-12-25T13:13:21.182Z"
   },
   {
    "duration": 51,
    "start_time": "2021-12-25T13:37:37.418Z"
   },
   {
    "duration": 70,
    "start_time": "2021-12-25T13:38:00.313Z"
   },
   {
    "duration": 55,
    "start_time": "2021-12-25T13:38:31.093Z"
   },
   {
    "duration": 7,
    "start_time": "2021-12-25T14:34:38.908Z"
   },
   {
    "duration": 232,
    "start_time": "2021-12-25T14:37:00.279Z"
   },
   {
    "duration": 15,
    "start_time": "2021-12-25T14:38:56.437Z"
   },
   {
    "duration": 11,
    "start_time": "2021-12-25T14:39:14.897Z"
   },
   {
    "duration": 8,
    "start_time": "2021-12-25T14:39:21.113Z"
   },
   {
    "duration": 8,
    "start_time": "2021-12-25T14:46:00.562Z"
   },
   {
    "duration": 10,
    "start_time": "2021-12-25T14:59:45.272Z"
   },
   {
    "duration": 67,
    "start_time": "2021-12-25T15:05:54.327Z"
   },
   {
    "duration": 83,
    "start_time": "2021-12-25T15:06:05.549Z"
   },
   {
    "duration": 7,
    "start_time": "2021-12-25T15:06:13.848Z"
   },
   {
    "duration": 65,
    "start_time": "2021-12-25T15:22:49.706Z"
   },
   {
    "duration": 9,
    "start_time": "2021-12-25T15:22:57.989Z"
   },
   {
    "duration": 4,
    "start_time": "2021-12-25T15:44:23.956Z"
   },
   {
    "duration": 5,
    "start_time": "2021-12-25T15:44:32.140Z"
   },
   {
    "duration": 5,
    "start_time": "2021-12-25T15:49:22.821Z"
   },
   {
    "duration": 5,
    "start_time": "2021-12-25T15:50:30.691Z"
   },
   {
    "duration": 6,
    "start_time": "2021-12-25T15:51:42.057Z"
   },
   {
    "duration": 6,
    "start_time": "2021-12-25T15:51:59.142Z"
   },
   {
    "duration": 6,
    "start_time": "2021-12-25T15:54:59.823Z"
   },
   {
    "duration": 7,
    "start_time": "2021-12-25T15:58:33.924Z"
   },
   {
    "duration": 6,
    "start_time": "2021-12-25T15:58:36.146Z"
   },
   {
    "duration": 703,
    "start_time": "2021-12-25T16:09:58.554Z"
   },
   {
    "duration": 721,
    "start_time": "2021-12-25T16:10:13.385Z"
   },
   {
    "duration": 792,
    "start_time": "2021-12-25T16:10:32.057Z"
   },
   {
    "duration": 568,
    "start_time": "2021-12-25T16:11:55.650Z"
   },
   {
    "duration": 570,
    "start_time": "2021-12-25T16:12:24.915Z"
   },
   {
    "duration": 659,
    "start_time": "2021-12-25T16:13:39.183Z"
   },
   {
    "duration": 549,
    "start_time": "2021-12-25T16:13:58.677Z"
   },
   {
    "duration": 546,
    "start_time": "2021-12-25T16:39:25.890Z"
   },
   {
    "duration": 532,
    "start_time": "2021-12-25T16:54:17.018Z"
   },
   {
    "duration": 501,
    "start_time": "2021-12-25T16:55:05.384Z"
   },
   {
    "duration": 672,
    "start_time": "2021-12-25T16:55:33.942Z"
   },
   {
    "duration": 571,
    "start_time": "2021-12-25T16:55:44.219Z"
   },
   {
    "duration": 550,
    "start_time": "2021-12-25T16:55:53.740Z"
   },
   {
    "duration": 3,
    "start_time": "2021-12-25T17:18:17.967Z"
   },
   {
    "duration": 5,
    "start_time": "2021-12-25T17:18:25.385Z"
   },
   {
    "duration": 5,
    "start_time": "2021-12-25T17:21:49.813Z"
   },
   {
    "duration": 4,
    "start_time": "2021-12-25T17:21:56.874Z"
   },
   {
    "duration": 4,
    "start_time": "2021-12-25T17:22:07.703Z"
   },
   {
    "duration": 4,
    "start_time": "2021-12-25T17:24:15.888Z"
   },
   {
    "duration": 5,
    "start_time": "2021-12-25T17:26:17.281Z"
   },
   {
    "duration": 4,
    "start_time": "2021-12-25T18:01:48.276Z"
   },
   {
    "duration": 5,
    "start_time": "2021-12-25T18:02:01.124Z"
   },
   {
    "duration": 4,
    "start_time": "2021-12-25T18:02:07.612Z"
   },
   {
    "duration": 5,
    "start_time": "2021-12-25T18:07:00.257Z"
   },
   {
    "duration": 4,
    "start_time": "2021-12-25T18:07:05.994Z"
   },
   {
    "duration": 209,
    "start_time": "2021-12-25T18:31:02.147Z"
   },
   {
    "duration": 10,
    "start_time": "2021-12-25T18:31:48.609Z"
   },
   {
    "duration": 17,
    "start_time": "2021-12-25T18:31:54.767Z"
   },
   {
    "duration": 18,
    "start_time": "2021-12-25T18:32:49.679Z"
   },
   {
    "duration": 30,
    "start_time": "2021-12-25T18:36:56.355Z"
   },
   {
    "duration": 31,
    "start_time": "2021-12-25T18:37:17.006Z"
   },
   {
    "duration": 30,
    "start_time": "2021-12-25T18:40:04.594Z"
   },
   {
    "duration": 31,
    "start_time": "2021-12-25T18:40:07.079Z"
   },
   {
    "duration": 16,
    "start_time": "2021-12-25T18:40:58.112Z"
   },
   {
    "duration": 17,
    "start_time": "2021-12-25T18:44:24.857Z"
   },
   {
    "duration": 5,
    "start_time": "2021-12-25T18:51:43.020Z"
   },
   {
    "duration": 8,
    "start_time": "2021-12-25T18:51:49.948Z"
   },
   {
    "duration": 7,
    "start_time": "2021-12-25T18:53:06.724Z"
   },
   {
    "duration": 201,
    "start_time": "2021-12-25T19:02:05.698Z"
   },
   {
    "duration": 4,
    "start_time": "2021-12-25T19:02:37.245Z"
   },
   {
    "duration": 4,
    "start_time": "2021-12-25T19:14:51.189Z"
   },
   {
    "duration": 5,
    "start_time": "2021-12-25T19:14:57.475Z"
   },
   {
    "duration": 5,
    "start_time": "2021-12-25T19:15:03.580Z"
   },
   {
    "duration": 67,
    "start_time": "2021-12-25T19:22:41.224Z"
   },
   {
    "duration": 11,
    "start_time": "2021-12-25T19:22:53.089Z"
   },
   {
    "duration": 11,
    "start_time": "2021-12-25T19:24:15.072Z"
   },
   {
    "duration": 5,
    "start_time": "2021-12-25T19:25:03.705Z"
   },
   {
    "duration": 4,
    "start_time": "2021-12-25T19:36:50.087Z"
   },
   {
    "duration": 4,
    "start_time": "2021-12-25T19:37:10.438Z"
   },
   {
    "duration": 4,
    "start_time": "2021-12-25T19:39:17.170Z"
   },
   {
    "duration": 4,
    "start_time": "2021-12-25T19:39:38.742Z"
   },
   {
    "duration": 4,
    "start_time": "2021-12-25T19:39:44.611Z"
   },
   {
    "duration": 4,
    "start_time": "2021-12-25T19:39:55.485Z"
   },
   {
    "duration": 5,
    "start_time": "2021-12-25T19:40:28.447Z"
   },
   {
    "duration": 2,
    "start_time": "2021-12-25T20:00:54.024Z"
   },
   {
    "duration": 445,
    "start_time": "2021-12-25T20:00:54.029Z"
   },
   {
    "duration": 78,
    "start_time": "2021-12-25T20:00:54.476Z"
   },
   {
    "duration": 85,
    "start_time": "2021-12-25T20:00:54.556Z"
   },
   {
    "duration": 13,
    "start_time": "2021-12-25T20:00:54.643Z"
   },
   {
    "duration": 32,
    "start_time": "2021-12-25T20:00:54.657Z"
   },
   {
    "duration": 8,
    "start_time": "2021-12-25T20:00:54.690Z"
   },
   {
    "duration": 71,
    "start_time": "2021-12-25T20:00:54.699Z"
   },
   {
    "duration": 47,
    "start_time": "2021-12-25T20:00:54.773Z"
   },
   {
    "duration": 37,
    "start_time": "2021-12-25T20:00:54.822Z"
   },
   {
    "duration": 20,
    "start_time": "2021-12-25T20:00:54.861Z"
   },
   {
    "duration": 130,
    "start_time": "2021-12-25T20:00:54.882Z"
   },
   {
    "duration": 7,
    "start_time": "2021-12-25T20:00:55.014Z"
   },
   {
    "duration": 22,
    "start_time": "2021-12-25T20:00:55.023Z"
   },
   {
    "duration": 751,
    "start_time": "2021-12-25T20:00:55.046Z"
   },
   {
    "duration": 13,
    "start_time": "2021-12-25T20:00:55.798Z"
   },
   {
    "duration": 283,
    "start_time": "2021-12-25T20:00:55.813Z"
   },
   {
    "duration": 8,
    "start_time": "2021-12-25T20:00:56.098Z"
   },
   {
    "duration": 65,
    "start_time": "2021-12-25T20:00:56.108Z"
   },
   {
    "duration": 8,
    "start_time": "2021-12-25T20:00:56.174Z"
   },
   {
    "duration": 17,
    "start_time": "2021-12-25T20:00:56.184Z"
   },
   {
    "duration": 12,
    "start_time": "2021-12-25T20:00:56.203Z"
   },
   {
    "duration": 5,
    "start_time": "2021-12-25T20:00:56.217Z"
   },
   {
    "duration": 18,
    "start_time": "2021-12-25T20:00:56.225Z"
   },
   {
    "duration": 565,
    "start_time": "2021-12-25T20:00:56.245Z"
   },
   {
    "duration": 538,
    "start_time": "2021-12-25T20:00:56.811Z"
   },
   {
    "duration": 4,
    "start_time": "2021-12-25T20:00:57.350Z"
   },
   {
    "duration": 6,
    "start_time": "2021-12-25T20:00:57.355Z"
   },
   {
    "duration": 11,
    "start_time": "2021-12-25T20:00:57.363Z"
   },
   {
    "duration": 6,
    "start_time": "2021-12-25T20:00:57.376Z"
   },
   {
    "duration": 5,
    "start_time": "2021-12-25T20:00:57.383Z"
   },
   {
    "duration": 5,
    "start_time": "2021-12-25T20:00:57.389Z"
   },
   {
    "duration": 13,
    "start_time": "2021-12-25T20:00:57.395Z"
   },
   {
    "duration": 38,
    "start_time": "2021-12-25T20:00:57.409Z"
   },
   {
    "duration": 9,
    "start_time": "2021-12-25T20:00:57.449Z"
   },
   {
    "duration": 1504,
    "start_time": "2021-12-26T19:51:48.745Z"
   },
   {
    "duration": 919,
    "start_time": "2021-12-26T19:51:50.253Z"
   },
   {
    "duration": 124,
    "start_time": "2021-12-26T19:51:51.176Z"
   },
   {
    "duration": 162,
    "start_time": "2021-12-26T19:51:51.303Z"
   },
   {
    "duration": 25,
    "start_time": "2021-12-26T19:51:51.468Z"
   },
   {
    "duration": 85,
    "start_time": "2021-12-26T19:51:51.496Z"
   },
   {
    "duration": 14,
    "start_time": "2021-12-26T19:51:51.584Z"
   },
   {
    "duration": 120,
    "start_time": "2021-12-26T19:51:51.600Z"
   },
   {
    "duration": 94,
    "start_time": "2021-12-26T19:51:51.724Z"
   },
   {
    "duration": 59,
    "start_time": "2021-12-26T19:51:51.822Z"
   },
   {
    "duration": 31,
    "start_time": "2021-12-26T19:51:51.884Z"
   },
   {
    "duration": 67,
    "start_time": "2021-12-26T19:51:51.918Z"
   },
   {
    "duration": 13,
    "start_time": "2021-12-26T19:51:51.988Z"
   },
   {
    "duration": 23,
    "start_time": "2021-12-26T19:51:52.004Z"
   },
   {
    "duration": 2670,
    "start_time": "2021-12-26T19:51:52.030Z"
   },
   {
    "duration": 24,
    "start_time": "2021-12-26T19:51:54.703Z"
   },
   {
    "duration": 637,
    "start_time": "2021-12-26T19:51:54.730Z"
   },
   {
    "duration": 15,
    "start_time": "2021-12-26T19:51:55.370Z"
   },
   {
    "duration": 121,
    "start_time": "2021-12-26T19:51:55.387Z"
   },
   {
    "duration": 12,
    "start_time": "2021-12-26T19:51:55.511Z"
   },
   {
    "duration": 38,
    "start_time": "2021-12-26T19:51:55.525Z"
   },
   {
    "duration": 12,
    "start_time": "2021-12-26T19:51:55.566Z"
   },
   {
    "duration": 10,
    "start_time": "2021-12-26T19:51:55.581Z"
   },
   {
    "duration": 9,
    "start_time": "2021-12-26T19:51:55.593Z"
   },
   {
    "duration": 1081,
    "start_time": "2021-12-26T19:51:55.605Z"
   },
   {
    "duration": 1192,
    "start_time": "2021-12-26T19:51:56.689Z"
   },
   {
    "duration": 5,
    "start_time": "2021-12-26T19:51:57.886Z"
   },
   {
    "duration": 10,
    "start_time": "2021-12-26T19:51:57.894Z"
   },
   {
    "duration": 22,
    "start_time": "2021-12-26T19:51:57.906Z"
   },
   {
    "duration": 35,
    "start_time": "2021-12-26T19:51:57.930Z"
   },
   {
    "duration": 7,
    "start_time": "2021-12-26T19:51:57.968Z"
   },
   {
    "duration": 9,
    "start_time": "2021-12-26T19:51:57.978Z"
   },
   {
    "duration": 24,
    "start_time": "2021-12-26T19:51:57.989Z"
   },
   {
    "duration": 48,
    "start_time": "2021-12-26T19:51:58.016Z"
   },
   {
    "duration": 7,
    "start_time": "2021-12-26T19:51:58.067Z"
   },
   {
    "duration": 64,
    "start_time": "2021-12-26T19:59:11.292Z"
   }
  ],
  "kernelspec": {
   "display_name": "Python 3",
   "language": "python",
   "name": "python3"
  },
  "language_info": {
   "codemirror_mode": {
    "name": "ipython",
    "version": 3
   },
   "file_extension": ".py",
   "mimetype": "text/x-python",
   "name": "python",
   "nbconvert_exporter": "python",
   "pygments_lexer": "ipython3",
   "version": "3.8.8"
  },
  "toc": {
   "base_numbering": 1,
   "nav_menu": {
    "height": "98px",
    "width": "253px"
   },
   "number_sections": true,
   "sideBar": true,
   "skip_h1_title": true,
   "title_cell": "Содержание",
   "title_sidebar": "Содержание",
   "toc_cell": true,
   "toc_position": {},
   "toc_section_display": true,
   "toc_window_display": true
  }
 },
 "nbformat": 4,
 "nbformat_minor": 2
}
