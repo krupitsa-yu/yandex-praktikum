{
 "cells": [
  {
   "cell_type": "markdown",
   "metadata": {
    "toc": true
   },
   "source": [
    "<h1>Содержание<span class=\"tocSkip\"></span></h1>\n",
    "<div class=\"toc\"><ul class=\"toc-item\"><li><span><a href=\"#Загрузка-и-подготовка-данных\" data-toc-modified-id=\"Загрузка-и-подготовка-данных-1\"><span class=\"toc-item-num\">1&nbsp;&nbsp;</span>Загрузка и подготовка данных</a></span></li><li><span><a href=\"#Обучение-и-проверка-модели\" data-toc-modified-id=\"Обучение-и-проверка-модели-2\"><span class=\"toc-item-num\">2&nbsp;&nbsp;</span>Обучение и проверка модели</a></span><ul class=\"toc-item\"><li><span><a href=\"#Разбивка-на-выборки:-обучающую-и-валидационную\" data-toc-modified-id=\"Разбивка-на-выборки:-обучающую-и-валидационную-2.1\"><span class=\"toc-item-num\">2.1&nbsp;&nbsp;</span>Разбивка на выборки: обучающую и валидационную</a></span></li><li><span><a href=\"#Обучение-модели,-получение-предсказаний-на-валидационной-выборке\" data-toc-modified-id=\"Обучение-модели,-получение-предсказаний-на-валидационной-выборке-2.2\"><span class=\"toc-item-num\">2.2&nbsp;&nbsp;</span>Обучение модели, получение предсказаний на валидационной выборке</a></span></li><li><span><a href=\"#Расчет-среднего-запаса-предсказанного-сырья-и-RMSE-модели\" data-toc-modified-id=\"Расчет-среднего-запаса-предсказанного-сырья-и-RMSE-модели-2.3\"><span class=\"toc-item-num\">2.3&nbsp;&nbsp;</span>Расчет среднего запаса предсказанного сырья и RMSE модели</a></span></li></ul></li><li><span><a href=\"#Подготовка-к-расчёту-прибыли\" data-toc-modified-id=\"Подготовка-к-расчёту-прибыли-3\"><span class=\"toc-item-num\">3&nbsp;&nbsp;</span>Подготовка к расчёту прибыли</a></span></li><li><span><a href=\"#Расчёт-прибыли-и-рисков\" data-toc-modified-id=\"Расчёт-прибыли-и-рисков-4\"><span class=\"toc-item-num\">4&nbsp;&nbsp;</span>Расчёт прибыли и рисков</a></span></li></ul></div>"
   ]
  },
  {
   "cell_type": "markdown",
   "metadata": {},
   "source": [
    "# Проект: \"Выбор локации для скважины\""
   ]
  },
  {
   "cell_type": "markdown",
   "metadata": {},
   "source": [
    "**Задача проекта**: \n",
    "\n",
    "Допустим, вы работаете в добывающей компании «ГлавРосГосНефть». Нужно решить, где бурить новую скважину.\n",
    "\n",
    "Вам предоставлены пробы нефти в трёх регионах: в каждом 10 000 месторождений, где измерили качество нефти и объём её запасов. Постройте модель машинного обучения, которая поможет определить регион, где добыча принесёт наибольшую прибыль. Проанализируйте возможную прибыль и риски техникой *Bootstrap.*\n",
    "\n",
    "Шаги для выбора локации:\n",
    "\n",
    "- В избранном регионе ищут месторождения, для каждого определяют значения признаков;\n",
    "- Строят модель и оценивают объём запасов;\n",
    "- Выбирают месторождения с самым высокими оценками значений. Количество месторождений зависит от бюджета компании и стоимости разработки одной скважины;\n",
    "- Прибыль равна суммарной прибыли отобранных месторождений.\n",
    "\n",
    "Условия задачи:\n",
    "\n",
    "- Для обучения модели подходит только линейная регрессия (остальные — недостаточно предсказуемые).\n",
    "- При разведке региона исследуют 500 точек, из которых с помощью машинного обучения выбирают 200 лучших для разработки.\n",
    "- Бюджет на разработку скважин в регионе — 10 млрд рублей.\n",
    "- При нынешних ценах один баррель сырья приносит 450 рублей дохода. Доход с каждой единицы продукта составляет 450 тыс. рублей, поскольку объём указан в тысячах баррелей.\n",
    "- После оценки рисков нужно оставить лишь те регионы, в которых вероятность убытков меньше 2.5%. Среди них выбирают регион с наибольшей средней прибылью.\n",
    "\n",
    "Данные синтетические: детали контрактов и характеристики месторождений не разглашаются.\n",
    "\n",
    "В рамках проекта мы проведем следующие **этапы исследования**: \n",
    "\n",
    "1) Ознакомимся с данными и подготовим их для дальнейшего исследования;\n",
    "\n",
    "2) Обучим модель;\n",
    "\n",
    "3) Произведем расчеты прибыли и рисков;\n",
    "\n",
    "4) Выберем лучший регион для бурения новой скважины.\n",
    "\n",
    "Приступим к исследованию! "
   ]
  },
  {
   "cell_type": "markdown",
   "metadata": {},
   "source": [
    "## Загрузка и подготовка данных"
   ]
  },
  {
   "cell_type": "code",
   "execution_count": 13,
   "metadata": {},
   "outputs": [],
   "source": [
    "#импортируем необходимые для проекта библиотеки и алгоритмы:\n",
    "import pandas as pd\n",
    "import numpy as np\n",
    "from sklearn.metrics import mean_squared_error\n",
    "from sklearn.model_selection import train_test_split\n",
    "from sklearn.linear_model import LinearRegression"
   ]
  },
  {
   "cell_type": "code",
   "execution_count": 14,
   "metadata": {
    "scrolled": true
   },
   "outputs": [
    {
     "data": {
      "text/plain": [
       "'data_1:'"
      ]
     },
     "metadata": {},
     "output_type": "display_data"
    },
    {
     "data": {
      "text/html": [
       "<div>\n",
       "<style scoped>\n",
       "    .dataframe tbody tr th:only-of-type {\n",
       "        vertical-align: middle;\n",
       "    }\n",
       "\n",
       "    .dataframe tbody tr th {\n",
       "        vertical-align: top;\n",
       "    }\n",
       "\n",
       "    .dataframe thead th {\n",
       "        text-align: right;\n",
       "    }\n",
       "</style>\n",
       "<table border=\"1\" class=\"dataframe\">\n",
       "  <thead>\n",
       "    <tr style=\"text-align: right;\">\n",
       "      <th></th>\n",
       "      <th>id</th>\n",
       "      <th>f0</th>\n",
       "      <th>f1</th>\n",
       "      <th>f2</th>\n",
       "      <th>product</th>\n",
       "    </tr>\n",
       "  </thead>\n",
       "  <tbody>\n",
       "    <tr>\n",
       "      <th>0</th>\n",
       "      <td>txEyH</td>\n",
       "      <td>0.705745</td>\n",
       "      <td>-0.497823</td>\n",
       "      <td>1.221170</td>\n",
       "      <td>105.280062</td>\n",
       "    </tr>\n",
       "    <tr>\n",
       "      <th>1</th>\n",
       "      <td>2acmU</td>\n",
       "      <td>1.334711</td>\n",
       "      <td>-0.340164</td>\n",
       "      <td>4.365080</td>\n",
       "      <td>73.037750</td>\n",
       "    </tr>\n",
       "    <tr>\n",
       "      <th>2</th>\n",
       "      <td>409Wp</td>\n",
       "      <td>1.022732</td>\n",
       "      <td>0.151990</td>\n",
       "      <td>1.419926</td>\n",
       "      <td>85.265647</td>\n",
       "    </tr>\n",
       "    <tr>\n",
       "      <th>3</th>\n",
       "      <td>iJLyR</td>\n",
       "      <td>-0.032172</td>\n",
       "      <td>0.139033</td>\n",
       "      <td>2.978566</td>\n",
       "      <td>168.620776</td>\n",
       "    </tr>\n",
       "    <tr>\n",
       "      <th>4</th>\n",
       "      <td>Xdl7t</td>\n",
       "      <td>1.988431</td>\n",
       "      <td>0.155413</td>\n",
       "      <td>4.751769</td>\n",
       "      <td>154.036647</td>\n",
       "    </tr>\n",
       "  </tbody>\n",
       "</table>\n",
       "</div>"
      ],
      "text/plain": [
       "      id        f0        f1        f2     product\n",
       "0  txEyH  0.705745 -0.497823  1.221170  105.280062\n",
       "1  2acmU  1.334711 -0.340164  4.365080   73.037750\n",
       "2  409Wp  1.022732  0.151990  1.419926   85.265647\n",
       "3  iJLyR -0.032172  0.139033  2.978566  168.620776\n",
       "4  Xdl7t  1.988431  0.155413  4.751769  154.036647"
      ]
     },
     "metadata": {},
     "output_type": "display_data"
    },
    {
     "data": {
      "text/plain": [
       "'data_2:'"
      ]
     },
     "metadata": {},
     "output_type": "display_data"
    },
    {
     "data": {
      "text/html": [
       "<div>\n",
       "<style scoped>\n",
       "    .dataframe tbody tr th:only-of-type {\n",
       "        vertical-align: middle;\n",
       "    }\n",
       "\n",
       "    .dataframe tbody tr th {\n",
       "        vertical-align: top;\n",
       "    }\n",
       "\n",
       "    .dataframe thead th {\n",
       "        text-align: right;\n",
       "    }\n",
       "</style>\n",
       "<table border=\"1\" class=\"dataframe\">\n",
       "  <thead>\n",
       "    <tr style=\"text-align: right;\">\n",
       "      <th></th>\n",
       "      <th>id</th>\n",
       "      <th>f0</th>\n",
       "      <th>f1</th>\n",
       "      <th>f2</th>\n",
       "      <th>product</th>\n",
       "    </tr>\n",
       "  </thead>\n",
       "  <tbody>\n",
       "    <tr>\n",
       "      <th>0</th>\n",
       "      <td>kBEdx</td>\n",
       "      <td>-15.001348</td>\n",
       "      <td>-8.276000</td>\n",
       "      <td>-0.005876</td>\n",
       "      <td>3.179103</td>\n",
       "    </tr>\n",
       "    <tr>\n",
       "      <th>1</th>\n",
       "      <td>62mP7</td>\n",
       "      <td>14.272088</td>\n",
       "      <td>-3.475083</td>\n",
       "      <td>0.999183</td>\n",
       "      <td>26.953261</td>\n",
       "    </tr>\n",
       "    <tr>\n",
       "      <th>2</th>\n",
       "      <td>vyE1P</td>\n",
       "      <td>6.263187</td>\n",
       "      <td>-5.948386</td>\n",
       "      <td>5.001160</td>\n",
       "      <td>134.766305</td>\n",
       "    </tr>\n",
       "    <tr>\n",
       "      <th>3</th>\n",
       "      <td>KcrkZ</td>\n",
       "      <td>-13.081196</td>\n",
       "      <td>-11.506057</td>\n",
       "      <td>4.999415</td>\n",
       "      <td>137.945408</td>\n",
       "    </tr>\n",
       "    <tr>\n",
       "      <th>4</th>\n",
       "      <td>AHL4O</td>\n",
       "      <td>12.702195</td>\n",
       "      <td>-8.147433</td>\n",
       "      <td>5.004363</td>\n",
       "      <td>134.766305</td>\n",
       "    </tr>\n",
       "  </tbody>\n",
       "</table>\n",
       "</div>"
      ],
      "text/plain": [
       "      id         f0         f1        f2     product\n",
       "0  kBEdx -15.001348  -8.276000 -0.005876    3.179103\n",
       "1  62mP7  14.272088  -3.475083  0.999183   26.953261\n",
       "2  vyE1P   6.263187  -5.948386  5.001160  134.766305\n",
       "3  KcrkZ -13.081196 -11.506057  4.999415  137.945408\n",
       "4  AHL4O  12.702195  -8.147433  5.004363  134.766305"
      ]
     },
     "metadata": {},
     "output_type": "display_data"
    },
    {
     "data": {
      "text/plain": [
       "'data_3:'"
      ]
     },
     "metadata": {},
     "output_type": "display_data"
    },
    {
     "data": {
      "text/html": [
       "<div>\n",
       "<style scoped>\n",
       "    .dataframe tbody tr th:only-of-type {\n",
       "        vertical-align: middle;\n",
       "    }\n",
       "\n",
       "    .dataframe tbody tr th {\n",
       "        vertical-align: top;\n",
       "    }\n",
       "\n",
       "    .dataframe thead th {\n",
       "        text-align: right;\n",
       "    }\n",
       "</style>\n",
       "<table border=\"1\" class=\"dataframe\">\n",
       "  <thead>\n",
       "    <tr style=\"text-align: right;\">\n",
       "      <th></th>\n",
       "      <th>id</th>\n",
       "      <th>f0</th>\n",
       "      <th>f1</th>\n",
       "      <th>f2</th>\n",
       "      <th>product</th>\n",
       "    </tr>\n",
       "  </thead>\n",
       "  <tbody>\n",
       "    <tr>\n",
       "      <th>0</th>\n",
       "      <td>fwXo0</td>\n",
       "      <td>-1.146987</td>\n",
       "      <td>0.963328</td>\n",
       "      <td>-0.828965</td>\n",
       "      <td>27.758673</td>\n",
       "    </tr>\n",
       "    <tr>\n",
       "      <th>1</th>\n",
       "      <td>WJtFt</td>\n",
       "      <td>0.262778</td>\n",
       "      <td>0.269839</td>\n",
       "      <td>-2.530187</td>\n",
       "      <td>56.069697</td>\n",
       "    </tr>\n",
       "    <tr>\n",
       "      <th>2</th>\n",
       "      <td>ovLUW</td>\n",
       "      <td>0.194587</td>\n",
       "      <td>0.289035</td>\n",
       "      <td>-5.586433</td>\n",
       "      <td>62.871910</td>\n",
       "    </tr>\n",
       "    <tr>\n",
       "      <th>3</th>\n",
       "      <td>q6cA6</td>\n",
       "      <td>2.236060</td>\n",
       "      <td>-0.553760</td>\n",
       "      <td>0.930038</td>\n",
       "      <td>114.572842</td>\n",
       "    </tr>\n",
       "    <tr>\n",
       "      <th>4</th>\n",
       "      <td>WPMUX</td>\n",
       "      <td>-0.515993</td>\n",
       "      <td>1.716266</td>\n",
       "      <td>5.899011</td>\n",
       "      <td>149.600746</td>\n",
       "    </tr>\n",
       "  </tbody>\n",
       "</table>\n",
       "</div>"
      ],
      "text/plain": [
       "      id        f0        f1        f2     product\n",
       "0  fwXo0 -1.146987  0.963328 -0.828965   27.758673\n",
       "1  WJtFt  0.262778  0.269839 -2.530187   56.069697\n",
       "2  ovLUW  0.194587  0.289035 -5.586433   62.871910\n",
       "3  q6cA6  2.236060 -0.553760  0.930038  114.572842\n",
       "4  WPMUX -0.515993  1.716266  5.899011  149.600746"
      ]
     },
     "metadata": {},
     "output_type": "display_data"
    }
   ],
   "source": [
    "#прочтем файлы с данными геологоразведки трёх регионов, выведем на экран первые 5 строк каждой таблицы для ознакомления: \n",
    "data_1 = pd.read_csv('/datasets/geo_data_0.csv')\n",
    "data_2 = pd.read_csv('/datasets/geo_data_1.csv')\n",
    "data_3 = pd.read_csv('/datasets/geo_data_2.csv')\n",
    "display('data_1:', data_1.head())\n",
    "display('data_2:', data_2.head())\n",
    "display('data_3:', data_3.head())"
   ]
  },
  {
   "cell_type": "markdown",
   "metadata": {},
   "source": [
    "Поясним, какие данные содержатся в таблице.\n",
    "\n",
    "*Признаки*:\n",
    "\n",
    "f0, f1, f2 — три признака точек (значимые признаки);\n",
    "product — объём запасов в скважине (тыс. баррелей).\n",
    "\n",
    "*Целевой признак*: \n",
    "\n",
    "product — объём запасов в скважине (тыс. баррелей)."
   ]
  },
  {
   "cell_type": "code",
   "execution_count": 15,
   "metadata": {},
   "outputs": [
    {
     "name": "stdout",
     "output_type": "stream",
     "text": [
      "<class 'pandas.core.frame.DataFrame'>\n",
      "RangeIndex: 100000 entries, 0 to 99999\n",
      "Data columns (total 5 columns):\n",
      "id         100000 non-null object\n",
      "f0         100000 non-null float64\n",
      "f1         100000 non-null float64\n",
      "f2         100000 non-null float64\n",
      "product    100000 non-null float64\n",
      "dtypes: float64(4), object(1)\n",
      "memory usage: 3.8+ MB\n"
     ]
    },
    {
     "data": {
      "text/plain": [
       "'data_1'"
      ]
     },
     "metadata": {},
     "output_type": "display_data"
    },
    {
     "data": {
      "text/plain": [
       "None"
      ]
     },
     "metadata": {},
     "output_type": "display_data"
    },
    {
     "name": "stdout",
     "output_type": "stream",
     "text": [
      "<class 'pandas.core.frame.DataFrame'>\n",
      "RangeIndex: 100000 entries, 0 to 99999\n",
      "Data columns (total 5 columns):\n",
      "id         100000 non-null object\n",
      "f0         100000 non-null float64\n",
      "f1         100000 non-null float64\n",
      "f2         100000 non-null float64\n",
      "product    100000 non-null float64\n",
      "dtypes: float64(4), object(1)\n",
      "memory usage: 3.8+ MB\n"
     ]
    },
    {
     "data": {
      "text/plain": [
       "'data_2'"
      ]
     },
     "metadata": {},
     "output_type": "display_data"
    },
    {
     "data": {
      "text/plain": [
       "None"
      ]
     },
     "metadata": {},
     "output_type": "display_data"
    },
    {
     "name": "stdout",
     "output_type": "stream",
     "text": [
      "<class 'pandas.core.frame.DataFrame'>\n",
      "RangeIndex: 100000 entries, 0 to 99999\n",
      "Data columns (total 5 columns):\n",
      "id         100000 non-null object\n",
      "f0         100000 non-null float64\n",
      "f1         100000 non-null float64\n",
      "f2         100000 non-null float64\n",
      "product    100000 non-null float64\n",
      "dtypes: float64(4), object(1)\n",
      "memory usage: 3.8+ MB\n"
     ]
    },
    {
     "data": {
      "text/plain": [
       "'data_3'"
      ]
     },
     "metadata": {},
     "output_type": "display_data"
    },
    {
     "data": {
      "text/plain": [
       "None"
      ]
     },
     "metadata": {},
     "output_type": "display_data"
    }
   ],
   "source": [
    "#выведем на экран общую информацию о данных таблиц: \n",
    "display('data_1', data_1.info())\n",
    "display('data_2', data_2.info())\n",
    "display('data_3', data_3.info())"
   ]
  },
  {
   "cell_type": "markdown",
   "metadata": {},
   "source": [
    "Исходя из общей информации мы видим, что пропусков в данных нет, типы данных указаны верно. \n",
    "\n",
    "Таким образом, данные готовы к исследованию. "
   ]
  },
  {
   "cell_type": "code",
   "execution_count": 16,
   "metadata": {},
   "outputs": [],
   "source": [
    "!pip install pandas_profiling==1.4.1 -q\n",
    "!pip install -U scikit-learn -q"
   ]
  },
  {
   "cell_type": "code",
   "execution_count": 17,
   "metadata": {},
   "outputs": [
    {
     "name": "stderr",
     "output_type": "stream",
     "text": [
      "/home/jovyan/.local/lib/python3.7/site-packages/pandas_profiling/describe.py:392: FutureWarning: The join_axes-keyword is deprecated. Use .reindex or .reindex_like on the result to achieve the same functionality.\n",
      "  variable_stats = pd.concat(ldesc, join_axes=pd.Index([names]), axis=1)\n"
     ]
    },
    {
     "data": {
      "text/html": [
       "<meta charset=\"UTF-8\">\n",
       "\n",
       "<style>\n",
       "\n",
       "        .variablerow {\n",
       "            border: 1px solid #e1e1e8;\n",
       "            border-top: hidden;\n",
       "            padding-top: 2em;\n",
       "            padding-bottom: 2em;\n",
       "            padding-left: 1em;\n",
       "            padding-right: 1em;\n",
       "        }\n",
       "\n",
       "        .headerrow {\n",
       "            border: 1px solid #e1e1e8;\n",
       "            background-color: #f5f5f5;\n",
       "            padding: 2em;\n",
       "        }\n",
       "        .namecol {\n",
       "            margin-top: -1em;\n",
       "            overflow-x: auto;\n",
       "        }\n",
       "\n",
       "        .dl-horizontal dt {\n",
       "            text-align: left;\n",
       "            padding-right: 1em;\n",
       "            white-space: normal;\n",
       "        }\n",
       "\n",
       "        .dl-horizontal dd {\n",
       "            margin-left: 0;\n",
       "        }\n",
       "\n",
       "        .ignore {\n",
       "            opacity: 0.4;\n",
       "        }\n",
       "\n",
       "        .container.pandas-profiling {\n",
       "            max-width:975px;\n",
       "        }\n",
       "\n",
       "        .col-md-12 {\n",
       "            padding-left: 2em;\n",
       "        }\n",
       "\n",
       "        .indent {\n",
       "            margin-left: 1em;\n",
       "        }\n",
       "\n",
       "        .center-img {\n",
       "            margin-left: auto !important;\n",
       "            margin-right: auto !important;\n",
       "            display: block;\n",
       "        }\n",
       "\n",
       "        /* Table example_values */\n",
       "            table.example_values {\n",
       "                border: 0;\n",
       "            }\n",
       "\n",
       "            .example_values th {\n",
       "                border: 0;\n",
       "                padding: 0 ;\n",
       "                color: #555;\n",
       "                font-weight: 600;\n",
       "            }\n",
       "\n",
       "            .example_values tr, .example_values td{\n",
       "                border: 0;\n",
       "                padding: 0;\n",
       "                color: #555;\n",
       "            }\n",
       "\n",
       "        /* STATS */\n",
       "            table.stats {\n",
       "                border: 0;\n",
       "            }\n",
       "\n",
       "            .stats th {\n",
       "                border: 0;\n",
       "                padding: 0 2em 0 0;\n",
       "                color: #555;\n",
       "                font-weight: 600;\n",
       "            }\n",
       "\n",
       "            .stats tr {\n",
       "                border: 0;\n",
       "            }\n",
       "\n",
       "            .stats td{\n",
       "                color: #555;\n",
       "                padding: 1px;\n",
       "                border: 0;\n",
       "            }\n",
       "\n",
       "\n",
       "        /* Sample table */\n",
       "            table.sample {\n",
       "                border: 0;\n",
       "                margin-bottom: 2em;\n",
       "                margin-left:1em;\n",
       "            }\n",
       "            .sample tr {\n",
       "                border:0;\n",
       "            }\n",
       "            .sample td, .sample th{\n",
       "                padding: 0.5em;\n",
       "                white-space: nowrap;\n",
       "                border: none;\n",
       "\n",
       "            }\n",
       "\n",
       "            .sample thead {\n",
       "                border-top: 0;\n",
       "                border-bottom: 2px solid #ddd;\n",
       "            }\n",
       "\n",
       "            .sample td {\n",
       "                width:100%;\n",
       "            }\n",
       "\n",
       "\n",
       "        /* There is no good solution available to make the divs equal height and then center ... */\n",
       "            .histogram {\n",
       "                margin-top: 3em;\n",
       "            }\n",
       "        /* Freq table */\n",
       "\n",
       "            table.freq {\n",
       "                margin-bottom: 2em;\n",
       "                border: 0;\n",
       "            }\n",
       "            table.freq th, table.freq tr, table.freq td {\n",
       "                border: 0;\n",
       "                padding: 0;\n",
       "            }\n",
       "\n",
       "            .freq thead {\n",
       "                font-weight: 600;\n",
       "                white-space: nowrap;\n",
       "                overflow: hidden;\n",
       "                text-overflow: ellipsis;\n",
       "\n",
       "            }\n",
       "\n",
       "            td.fillremaining{\n",
       "                width:auto;\n",
       "                max-width: none;\n",
       "            }\n",
       "\n",
       "            td.number, th.number {\n",
       "                text-align:right ;\n",
       "            }\n",
       "\n",
       "        /* Freq mini */\n",
       "            .freq.mini td{\n",
       "                width: 50%;\n",
       "                padding: 1px;\n",
       "                font-size: 12px;\n",
       "\n",
       "            }\n",
       "            table.freq.mini {\n",
       "                 width:100%;\n",
       "            }\n",
       "            .freq.mini th {\n",
       "                overflow: hidden;\n",
       "                text-overflow: ellipsis;\n",
       "                white-space: nowrap;\n",
       "                max-width: 5em;\n",
       "                font-weight: 400;\n",
       "                text-align:right;\n",
       "                padding-right: 0.5em;\n",
       "            }\n",
       "\n",
       "            .missing {\n",
       "                color: #a94442;\n",
       "            }\n",
       "            .alert, .alert > th, .alert > td {\n",
       "                color: #a94442;\n",
       "            }\n",
       "\n",
       "\n",
       "        /* Bars in tables */\n",
       "            .freq .bar{\n",
       "                float: left;\n",
       "                width: 0;\n",
       "                height: 100%;\n",
       "                line-height: 20px;\n",
       "                color: #fff;\n",
       "                text-align: center;\n",
       "                background-color: #337ab7;\n",
       "                border-radius: 3px;\n",
       "                margin-right: 4px;\n",
       "            }\n",
       "            .other .bar {\n",
       "                background-color: #999;\n",
       "            }\n",
       "            .missing .bar{\n",
       "                background-color: #a94442;\n",
       "            }\n",
       "            .tooltip-inner {\n",
       "                width: 100%;\n",
       "                white-space: nowrap;\n",
       "                text-align:left;\n",
       "            }\n",
       "\n",
       "            .extrapadding{\n",
       "                padding: 2em;\n",
       "            }\n",
       "\n",
       "            .pp-anchor{\n",
       "\n",
       "            }\n",
       "\n",
       "</style>\n",
       "\n",
       "<div class=\"container pandas-profiling\">\n",
       "    <div class=\"row headerrow highlight\">\n",
       "        <h1>Overview</h1>\n",
       "    </div>\n",
       "    <div class=\"row variablerow\">\n",
       "    <div class=\"col-md-6 namecol\">\n",
       "        <p class=\"h4\">Dataset info</p>\n",
       "        <table class=\"stats\" style=\"margin-left: 1em;\">\n",
       "            <tbody>\n",
       "            <tr>\n",
       "                <th>Number of variables</th>\n",
       "                <td>5 </td>\n",
       "            </tr>\n",
       "            <tr>\n",
       "                <th>Number of observations</th>\n",
       "                <td>100000 </td>\n",
       "            </tr>\n",
       "            <tr>\n",
       "                <th>Total Missing (%)</th>\n",
       "                <td>0.0% </td>\n",
       "            </tr>\n",
       "            <tr>\n",
       "                <th>Total size in memory</th>\n",
       "                <td>3.8 MiB </td>\n",
       "            </tr>\n",
       "            <tr>\n",
       "                <th>Average record size in memory</th>\n",
       "                <td>40.0 B </td>\n",
       "            </tr>\n",
       "            </tbody>\n",
       "        </table>\n",
       "    </div>\n",
       "    <div class=\"col-md-6 namecol\">\n",
       "        <p class=\"h4\">Variables types</p>\n",
       "        <table class=\"stats\" style=\"margin-left: 1em;\">\n",
       "            <tbody>\n",
       "            <tr>\n",
       "                <th>Numeric</th>\n",
       "                <td>4 </td>\n",
       "            </tr>\n",
       "            <tr>\n",
       "                <th>Categorical</th>\n",
       "                <td>1 </td>\n",
       "            </tr>\n",
       "            <tr>\n",
       "                <th>Boolean</th>\n",
       "                <td>0 </td>\n",
       "            </tr>\n",
       "            <tr>\n",
       "                <th>Date</th>\n",
       "                <td>0 </td>\n",
       "            </tr>\n",
       "            <tr>\n",
       "                <th>Text (Unique)</th>\n",
       "                <td>0 </td>\n",
       "            </tr>\n",
       "            <tr>\n",
       "                <th>Rejected</th>\n",
       "                <td>0 </td>\n",
       "            </tr>\n",
       "            <tr>\n",
       "                <th>Unsupported</th>\n",
       "                <td>0 </td>\n",
       "            </tr>\n",
       "            </tbody>\n",
       "        </table>\n",
       "    </div>\n",
       "    <div class=\"col-md-12\" style=\"padding-left: 1em;\">\n",
       "        \n",
       "        <p class=\"h4\">Warnings</p>\n",
       "        <ul class=\"list-unstyled\"><li><a href=\"#pp_var_id\"><code>id</code></a> has a high cardinality: 99990 distinct values  <span class=\"label label-warning\">Warning</span></li> </ul>\n",
       "    </div>\n",
       "</div>\n",
       "    <div class=\"row headerrow highlight\">\n",
       "        <h1>Variables</h1>\n",
       "    </div>\n",
       "    <div class=\"row variablerow\">\n",
       "    <div class=\"col-md-3 namecol\">\n",
       "        <p class=\"h4 pp-anchor\" id=\"pp_var_id\">id<br/>\n",
       "            <small>Categorical</small>\n",
       "        </p>\n",
       "    </div><div class=\"col-md-3\">\n",
       "    <table class=\"stats \">\n",
       "        <tr class=\"alert\">\n",
       "            <th>Distinct count</th>\n",
       "            <td>99990</td>\n",
       "        </tr>\n",
       "        <tr>\n",
       "            <th>Unique (%)</th>\n",
       "            <td>100.0%</td>\n",
       "        </tr>\n",
       "        <tr class=\"ignore\">\n",
       "            <th>Missing (%)</th>\n",
       "            <td>0.0%</td>\n",
       "        </tr>\n",
       "        <tr class=\"ignore\">\n",
       "            <th>Missing (n)</th>\n",
       "            <td>0</td>\n",
       "        </tr>\n",
       "    </table>\n",
       "</div>\n",
       "<div class=\"col-md-6 collapse in\" id=\"minifreqtable-8159765816513475378\">\n",
       "    <table class=\"mini freq\">\n",
       "        <tr class=\"\">\n",
       "    <th>fiKDv</th>\n",
       "    <td>\n",
       "        <div class=\"bar\" style=\"width:1%\" data-toggle=\"tooltip\" data-placement=\"right\" data-html=\"true\"\n",
       "             data-delay=500 title=\"Percentage: 0.0%\">\n",
       "            &nbsp;\n",
       "        </div>\n",
       "        2\n",
       "    </td>\n",
       "</tr><tr class=\"\">\n",
       "    <th>HZww2</th>\n",
       "    <td>\n",
       "        <div class=\"bar\" style=\"width:1%\" data-toggle=\"tooltip\" data-placement=\"right\" data-html=\"true\"\n",
       "             data-delay=500 title=\"Percentage: 0.0%\">\n",
       "            &nbsp;\n",
       "        </div>\n",
       "        2\n",
       "    </td>\n",
       "</tr><tr class=\"\">\n",
       "    <th>Tdehs</th>\n",
       "    <td>\n",
       "        <div class=\"bar\" style=\"width:1%\" data-toggle=\"tooltip\" data-placement=\"right\" data-html=\"true\"\n",
       "             data-delay=500 title=\"Percentage: 0.0%\">\n",
       "            &nbsp;\n",
       "        </div>\n",
       "        2\n",
       "    </td>\n",
       "</tr><tr class=\"other\">\n",
       "    <th>Other values (99987)</th>\n",
       "    <td>\n",
       "        <div class=\"bar\" style=\"width:100%\" data-toggle=\"tooltip\" data-placement=\"right\" data-html=\"true\"\n",
       "             data-delay=500 title=\"Percentage: 100.0%\">\n",
       "            99994\n",
       "        </div>\n",
       "        \n",
       "    </td>\n",
       "</tr>\n",
       "    </table>\n",
       "</div>\n",
       "<div class=\"col-md-12 text-right\">\n",
       "    <a role=\"button\" data-toggle=\"collapse\" data-target=\"#freqtable-8159765816513475378, #minifreqtable-8159765816513475378\"\n",
       "       aria-expanded=\"true\" aria-controls=\"collapseExample\">\n",
       "        Toggle details\n",
       "    </a>\n",
       "</div>\n",
       "<div class=\"col-md-12 extrapadding collapse\" id=\"freqtable-8159765816513475378\">\n",
       "    \n",
       "<table class=\"freq table table-hover\">\n",
       "    <thead>\n",
       "    <tr>\n",
       "        <td class=\"fillremaining\">Value</td>\n",
       "        <td class=\"number\">Count</td>\n",
       "        <td class=\"number\">Frequency (%)</td>\n",
       "        <td style=\"min-width:200px\">&nbsp;</td>\n",
       "    </tr>\n",
       "    </thead>\n",
       "    <tr class=\"\">\n",
       "        <td class=\"fillremaining\">fiKDv</td>\n",
       "        <td class=\"number\">2</td>\n",
       "        <td class=\"number\">0.0%</td>\n",
       "        <td>\n",
       "            <div class=\"bar\" style=\"width:1%\">&nbsp;</div>\n",
       "        </td>\n",
       "</tr><tr class=\"\">\n",
       "        <td class=\"fillremaining\">HZww2</td>\n",
       "        <td class=\"number\">2</td>\n",
       "        <td class=\"number\">0.0%</td>\n",
       "        <td>\n",
       "            <div class=\"bar\" style=\"width:1%\">&nbsp;</div>\n",
       "        </td>\n",
       "</tr><tr class=\"\">\n",
       "        <td class=\"fillremaining\">Tdehs</td>\n",
       "        <td class=\"number\">2</td>\n",
       "        <td class=\"number\">0.0%</td>\n",
       "        <td>\n",
       "            <div class=\"bar\" style=\"width:1%\">&nbsp;</div>\n",
       "        </td>\n",
       "</tr><tr class=\"\">\n",
       "        <td class=\"fillremaining\">AGS9W</td>\n",
       "        <td class=\"number\">2</td>\n",
       "        <td class=\"number\">0.0%</td>\n",
       "        <td>\n",
       "            <div class=\"bar\" style=\"width:1%\">&nbsp;</div>\n",
       "        </td>\n",
       "</tr><tr class=\"\">\n",
       "        <td class=\"fillremaining\">bsk9y</td>\n",
       "        <td class=\"number\">2</td>\n",
       "        <td class=\"number\">0.0%</td>\n",
       "        <td>\n",
       "            <div class=\"bar\" style=\"width:1%\">&nbsp;</div>\n",
       "        </td>\n",
       "</tr><tr class=\"\">\n",
       "        <td class=\"fillremaining\">A5aEY</td>\n",
       "        <td class=\"number\">2</td>\n",
       "        <td class=\"number\">0.0%</td>\n",
       "        <td>\n",
       "            <div class=\"bar\" style=\"width:1%\">&nbsp;</div>\n",
       "        </td>\n",
       "</tr><tr class=\"\">\n",
       "        <td class=\"fillremaining\">QcMuo</td>\n",
       "        <td class=\"number\">2</td>\n",
       "        <td class=\"number\">0.0%</td>\n",
       "        <td>\n",
       "            <div class=\"bar\" style=\"width:1%\">&nbsp;</div>\n",
       "        </td>\n",
       "</tr><tr class=\"\">\n",
       "        <td class=\"fillremaining\">bxg6G</td>\n",
       "        <td class=\"number\">2</td>\n",
       "        <td class=\"number\">0.0%</td>\n",
       "        <td>\n",
       "            <div class=\"bar\" style=\"width:1%\">&nbsp;</div>\n",
       "        </td>\n",
       "</tr><tr class=\"\">\n",
       "        <td class=\"fillremaining\">74z30</td>\n",
       "        <td class=\"number\">2</td>\n",
       "        <td class=\"number\">0.0%</td>\n",
       "        <td>\n",
       "            <div class=\"bar\" style=\"width:1%\">&nbsp;</div>\n",
       "        </td>\n",
       "</tr><tr class=\"\">\n",
       "        <td class=\"fillremaining\">TtcGQ</td>\n",
       "        <td class=\"number\">2</td>\n",
       "        <td class=\"number\">0.0%</td>\n",
       "        <td>\n",
       "            <div class=\"bar\" style=\"width:1%\">&nbsp;</div>\n",
       "        </td>\n",
       "</tr><tr class=\"other\">\n",
       "        <td class=\"fillremaining\">Other values (99980)</td>\n",
       "        <td class=\"number\">99980</td>\n",
       "        <td class=\"number\">100.0%</td>\n",
       "        <td>\n",
       "            <div class=\"bar\" style=\"width:100%\">&nbsp;</div>\n",
       "        </td>\n",
       "</tr>\n",
       "</table>\n",
       "</div>\n",
       "</div><div class=\"row variablerow\">\n",
       "    <div class=\"col-md-3 namecol\">\n",
       "        <p class=\"h4 pp-anchor\" id=\"pp_var_f0\">f0<br/>\n",
       "            <small>Numeric</small>\n",
       "        </p>\n",
       "    </div><div class=\"col-md-6\">\n",
       "    <div class=\"row\">\n",
       "        <div class=\"col-sm-6\">\n",
       "            <table class=\"stats \">\n",
       "                <tr>\n",
       "                    <th>Distinct count</th>\n",
       "                    <td>100000</td>\n",
       "                </tr>\n",
       "                <tr>\n",
       "                    <th>Unique (%)</th>\n",
       "                    <td>100.0%</td>\n",
       "                </tr>\n",
       "                <tr class=\"ignore\">\n",
       "                    <th>Missing (%)</th>\n",
       "                    <td>0.0%</td>\n",
       "                </tr>\n",
       "                <tr class=\"ignore\">\n",
       "                    <th>Missing (n)</th>\n",
       "                    <td>0</td>\n",
       "                </tr>\n",
       "                <tr class=\"ignore\">\n",
       "                    <th>Infinite (%)</th>\n",
       "                    <td>0.0%</td>\n",
       "                </tr>\n",
       "                <tr class=\"ignore\">\n",
       "                    <th>Infinite (n)</th>\n",
       "                    <td>0</td>\n",
       "                </tr>\n",
       "            </table>\n",
       "\n",
       "        </div>\n",
       "        <div class=\"col-sm-6\">\n",
       "            <table class=\"stats \">\n",
       "\n",
       "                <tr>\n",
       "                    <th>Mean</th>\n",
       "                    <td>0.50042</td>\n",
       "                </tr>\n",
       "                <tr>\n",
       "                    <th>Minimum</th>\n",
       "                    <td>-1.4086</td>\n",
       "                </tr>\n",
       "                <tr>\n",
       "                    <th>Maximum</th>\n",
       "                    <td>2.3623</td>\n",
       "                </tr>\n",
       "                <tr class=\"ignore\">\n",
       "                    <th>Zeros (%)</th>\n",
       "                    <td>0.0%</td>\n",
       "                </tr>\n",
       "            </table>\n",
       "        </div>\n",
       "    </div>\n",
       "</div>\n",
       "<div class=\"col-md-3 collapse in\" id=\"minihistogram-1014860958384059923\">\n",
       "    <img src=\"data:image/png;base64,iVBORw0KGgoAAAANSUhEUgAAAMgAAABLCAYAAAA1fMjoAAAAOXRFWHRTb2Z0d2FyZQBNYXRwbG90bGliIHZlcnNpb24zLjUuMSwgaHR0cHM6Ly9tYXRwbG90bGliLm9yZy/YYfK9AAAACXBIWXMAAA9hAAAPYQGoP6dpAAABNUlEQVR4nO3cwW0CMRBA0RClpBSRnnKmpxRBT04D0VcWabXGfu%2BOZA6fYbSG2xhjvAF/er/6ADCzj6sPsLLP75/Dr3ncv044Cc8yQSCYIJMxdeZigkAQCASBQLCDLODo3mJn%2BT8TBIJAIAgEgkAgWNIPeOYhHq/NBIGwxARxPYOzLBEI59v1Q8hXLAgCgSAQCAKBIBAIAoEgEAgCgSAQCAKBIBAIAoGw7WXFnX/bsfN7P8oEgSAQCAKBIBAIAoEgEAgCgSAQCAKBsO2TdM63wl8FmSAQBAJBIBCm20HcNGUmJggEgUAQCASBQBAIhNsYY1x9CJiVCQJBIBAEAkEgEAQCQSAQBAJBIBAEAkEgEAQCQSAQBAJBIBAEAkEgEAQCQSAQBAJBIBAEAkEgEAQCQSAQBALhFyv9IDsjbS7fAAAAAElFTkSuQmCC\">\n",
       "\n",
       "</div>\n",
       "<div class=\"col-md-12 text-right\">\n",
       "    <a role=\"button\" data-toggle=\"collapse\" data-target=\"#descriptives-1014860958384059923,#minihistogram-1014860958384059923\"\n",
       "       aria-expanded=\"false\" aria-controls=\"collapseExample\">\n",
       "        Toggle details\n",
       "    </a>\n",
       "</div>\n",
       "<div class=\"row collapse col-md-12\" id=\"descriptives-1014860958384059923\">\n",
       "    <ul class=\"nav nav-tabs\" role=\"tablist\">\n",
       "        <li role=\"presentation\" class=\"active\"><a href=\"#quantiles-1014860958384059923\"\n",
       "                                                  aria-controls=\"quantiles-1014860958384059923\" role=\"tab\"\n",
       "                                                  data-toggle=\"tab\">Statistics</a></li>\n",
       "        <li role=\"presentation\"><a href=\"#histogram-1014860958384059923\" aria-controls=\"histogram-1014860958384059923\"\n",
       "                                   role=\"tab\" data-toggle=\"tab\">Histogram</a></li>\n",
       "        <li role=\"presentation\"><a href=\"#common-1014860958384059923\" aria-controls=\"common-1014860958384059923\"\n",
       "                                   role=\"tab\" data-toggle=\"tab\">Common Values</a></li>\n",
       "        <li role=\"presentation\"><a href=\"#extreme-1014860958384059923\" aria-controls=\"extreme-1014860958384059923\"\n",
       "                                   role=\"tab\" data-toggle=\"tab\">Extreme Values</a></li>\n",
       "\n",
       "    </ul>\n",
       "\n",
       "    <div class=\"tab-content\">\n",
       "        <div role=\"tabpanel\" class=\"tab-pane active row\" id=\"quantiles-1014860958384059923\">\n",
       "            <div class=\"col-md-4 col-md-offset-1\">\n",
       "                <p class=\"h4\">Quantile statistics</p>\n",
       "                <table class=\"stats indent\">\n",
       "                    <tr>\n",
       "                        <th>Minimum</th>\n",
       "                        <td>-1.4086</td>\n",
       "                    </tr>\n",
       "                    <tr>\n",
       "                        <th>5-th percentile</th>\n",
       "                        <td>-0.94043</td>\n",
       "                    </tr>\n",
       "                    <tr>\n",
       "                        <th>Q1</th>\n",
       "                        <td>-0.07258</td>\n",
       "                    </tr>\n",
       "                    <tr>\n",
       "                        <th>Median</th>\n",
       "                        <td>0.50236</td>\n",
       "                    </tr>\n",
       "                    <tr>\n",
       "                        <th>Q3</th>\n",
       "                        <td>1.0736</td>\n",
       "                    </tr>\n",
       "                    <tr>\n",
       "                        <th>95-th percentile</th>\n",
       "                        <td>1.9393</td>\n",
       "                    </tr>\n",
       "                    <tr>\n",
       "                        <th>Maximum</th>\n",
       "                        <td>2.3623</td>\n",
       "                    </tr>\n",
       "                    <tr>\n",
       "                        <th>Range</th>\n",
       "                        <td>3.7709</td>\n",
       "                    </tr>\n",
       "                    <tr>\n",
       "                        <th>Interquartile range</th>\n",
       "                        <td>1.1462</td>\n",
       "                    </tr>\n",
       "                </table>\n",
       "            </div>\n",
       "            <div class=\"col-md-4 col-md-offset-2\">\n",
       "                <p class=\"h4\">Descriptive statistics</p>\n",
       "                <table class=\"stats indent\">\n",
       "                    <tr>\n",
       "                        <th>Standard deviation</th>\n",
       "                        <td>0.87183</td>\n",
       "                    </tr>\n",
       "                    <tr>\n",
       "                        <th>Coef of variation</th>\n",
       "                        <td>1.7422</td>\n",
       "                    </tr>\n",
       "                    <tr>\n",
       "                        <th>Kurtosis</th>\n",
       "                        <td>-0.86891</td>\n",
       "                    </tr>\n",
       "                    <tr>\n",
       "                        <th>Mean</th>\n",
       "                        <td>0.50042</td>\n",
       "                    </tr>\n",
       "                    <tr>\n",
       "                        <th>MAD</th>\n",
       "                        <td>0.72186</td>\n",
       "                    </tr>\n",
       "                    <tr class=\"\">\n",
       "                        <th>Skewness</th>\n",
       "                        <td>-0.00033691</td>\n",
       "                    </tr>\n",
       "                    <tr>\n",
       "                        <th>Sum</th>\n",
       "                        <td>50042</td>\n",
       "                    </tr>\n",
       "                    <tr>\n",
       "                        <th>Variance</th>\n",
       "                        <td>0.76009</td>\n",
       "                    </tr>\n",
       "                    <tr>\n",
       "                        <th>Memory size</th>\n",
       "                        <td>781.4 KiB</td>\n",
       "                    </tr>\n",
       "                </table>\n",
       "            </div>\n",
       "        </div>\n",
       "        <div role=\"tabpanel\" class=\"tab-pane col-md-8 col-md-offset-2\" id=\"histogram-1014860958384059923\">\n",
       "            <img src=\"data:image/png;base64,iVBORw0KGgoAAAANSUhEUgAAAlgAAAGQCAYAAAByNR6YAAAAOXRFWHRTb2Z0d2FyZQBNYXRwbG90bGliIHZlcnNpb24zLjUuMSwgaHR0cHM6Ly9tYXRwbG90bGliLm9yZy/YYfK9AAAACXBIWXMAAA9hAAAPYQGoP6dpAAA8f0lEQVR4nO3de3xU1b3//3cukABhcgECHoqEcjM3U0AajZRwEbAqoMgtVmlaqVwikQgWKSLgQUEJxgocIHpAUR92DoGjQEUp5SIKeqpWOoygEuELUiARZggJCZBkfn/4Y9oxSCawYGaS1/Px4BGz1tp7r0/27Jm3e%2B/sBLlcLpcAAABgTLCvJwAAAFDfELAAAAAMI2ABAAAYRsACAAAwjIAFAABgGAELAADAMAIWAACAYQQsAAAAwwhYAAAAhhGwAAAADCNgAQAAGEbAAgAAMIyABQAAYBgBCwAAwDACFgAAgGEELAAAAMMIWAAAAIYRsAAAAAwjYAEAABhGwAIAADCMgAUAAGAYAQsAAMAwAhYAAIBhBCwAAADDCFgAAACGEbAAAAAMI2ABAAAYRsACAAAwjIAFAABgGAELAADAMAIWAACAYQQsAAAAwwhYAAAAhhGwAAAADCNgAQAAGEbAAgAAMIyABQAAYBgBCwAAwDACFgAAgGGhvp5AQ1FcfNqrccHBQYqJaaaTJ8tUXe26yrPyHeqsX6izfmkIdTaEGiXqlKRWrZr7Zk4%2B2Sp%2BVHBwkIKCghQcHOTrqVxV1Fm/UGf90hDqbAg1StTpSwQsAAAAwwhYAAAAhhGwAAAADCNgAQAAGEbAAgAAMIyABQAAYBgBCwAAwDACFgAAgGEELAAAAMMIWAAAAIb5dcDasWOH0tLSlJOTU6Pv%2BPHjmjBhgn72s58pLS1NCxcuVHV1tSSpurpaeXl56t%2B/v3r27KkHH3xQhw8fdi/rdDo1efJkpaWlqVevXpoxY4YqKirc/Xv37tX999%2BvHj16aODAgVqxYsXVLxYAANQbfhuwXnrpJc2dO1ft27ev0edyufTwww%2Brbdu2%2BuCDD/Taa69p165d%2BvjjjyVJb7zxhtavX6/8/Hxt3bpVcXFxysrKksv1/R%2BAnDlzpsrLy7VhwwatWbNGhYWFys3NlSRVVFRo3Lhxuvnmm7Vjxw7l5eVp%2BfLl2rRp07UrHgAABDS/DVhhYWEqKCi4aMD629/%2BpsOHD%2Bv3v/%2B9IiIi1LFjRxUUFOiWW26RJFmtVmVmZqpjx46KiIhQTk6OCgsLtXv3bn333XfavHmzcnJyFBMTo9atW2vixIlas2aNzp8/r23btun8%2BfOaMGGCmjZtqsTERI0YMUJWq/Va/wgAAECACvX1BH7MmDFjfrTv008/VZcuXZSXl6e1a9cqIiJCv/rVr/Tb3/5WFRUV2r9/vxISEtzjIyIi1L59e9lsNp0%2BfVohISHq2rWruz8xMVFnzpzRN998I7vdrq5duyokJMTdn5CQoNWrV3s996KiIhUXF3u0hYY2VWxsbK3LhoQEe3ytr6izfqlrnQNyd1zN6Rj3l6m/kMT%2BrE8aQo0SdfqS3wasSzl27Jg%2B//xz9e7dW9u2bdP//d//6eGHH9b111%2Bv5ORkuVwuRUZGeiwTGRkph8OhqKgoRUREKCgoyKNPkhwOh5xOpywWi8eyUVFRcjqdqq6uVnBw7TvParVq8eLFHm1ZWVnKzs72ukaLpYnXYwMZddYv9bXO6OhmHt/X1zp/qCHU2RBqlKjTFwIyYLlcLsXExGjs2LGSpPT0dA0YMEAbN25UcnKye8yllq%2Brfw9ktRk1apT69evn0RYa2lQOR1mty4aEBMtiaaKSknJVVVXXeZ6Bgjrrl/pe54Vjt77XeUFDqLMh1ChRp1Tzf5CulYAMWK1atVLz5s092tq2bavdu3crKipKwcHBcjqdHv1Op1MtWrRQTEyMSktLVVVV5b4MeGHshf6DBw/WWPbCer0RGxtb43JgcfFpVVZ6/%2BKuqqqu0/hARZ31S32t84c11dc6f6gh1NkQapSo0xf852JlHXTs2FGHDx9WWdm/zggdOXJEbdu2VVhYmDp37iy73e7uKykp0aFDh3TjjTcqPj5eLpdL%2B/btc/fbbDZZLBZ16NBBSUlJ%2BvLLL1VZWenRn5KScm2KAwAAAS8gA1a/fv1ksVj03HPP6cyZM9q1a5c2b96sYcOGSZIyMjK0atUqFRYWqrS0VLm5uYqPj1dycrJiYmI0aNAgvfDCCzp58qSOHTumJUuWaPjw4QoNDVV6eroiIiK0dOlSlZeXa/fu3SooKFBGRoaPqwYAAIHCby8RXriX6sKZpM2bN0v6/mxSeHi4Xn75Zc2aNUs333yzYmJiNGfOHPXs2VOSNHr0aBUXF%2BuBBx5QWVmZUlNTPW46f%2BqppzRr1iz1799fjRo10l133eV%2BmGnjxo21bNkyzZo1S/n5%2BWrZsqVycnLUp0%2Bfa1g9AAAIZEGuy7njG3VWXHzaq3GhocGKjm4mh6PMb64jXw3UWb/Utc5fvvDhNZiVORsn3yqJ/VmfNIQaJeqUpFatmv/IUldXQF4iBAAA8GcELAAAAMMIWAAAAIYRsAAAAAzz298iBAB/Eag35QPwHc5gAQAAGEbAAgAAMIyABQAAYBgBCwAAwDACFgAAgGEELAAAAMMIWAAAAIYRsAAAAAwjYAEAABhGwAIAADCMgAUAAGAYAQsAAMAwAhYAAIBhBCwAAADDCFgAAACGEbAAAAAMI2ABAAAYRsACAAAwjIAFAABgGAELAADAMAIWAACAYQQsAAAAw/w6YO3YsUNpaWnKycn50TFlZWXq06ePHn/8cXdbdXW18vLy1L9/f/Xs2VMPPvigDh8%2B7O53Op2aPHmy0tLS1KtXL82YMUMVFRXu/r179%2Br%2B%2B%2B9Xjx49NHDgQK1YseLqFAgAAOolvw1YL730kubOnav27dtfctyiRYtUWlrq0fbGG29o/fr1ys/P19atWxUXF6esrCy5XC5J0syZM1VeXq4NGzZozZo1KiwsVG5uriSpoqJC48aN080336wdO3YoLy9Py5cv16ZNm65OoQAAoN4J9fUEfkxYWJgKCgr09NNP6%2BzZsxcds2/fPm3YsEH33HOPTp8%2B7W63Wq3KzMxUx44dJUk5OTlKTU3V7t279ZOf/ESbN2/W//7v/yomJkaSNHHiRD3yyCOaNm2atm3bpvPnz2vChAkKCQlRYmKiRowYIavVqoEDB179wgHgCv3yhQ99PQWvbZx8q6%2BnAFwVfhuwxowZc8l%2Bl8ul2bNnKycnR//85z/dAauiokL79%2B9XQkKCe2xERITat28vm82m06dPKyQkRF27dnX3JyYm6syZM/rmm29kt9vVtWtXhYSEuPsTEhK0evVqr%2BdeVFSk4uJij7bQ0KaKjY2tddmQkGCPr/UVddYvDaVOmBca6pvXTEN5zVKn7/htwKqN1WpVUFCQhg0bpsWLF7vbT506JZfLpcjISI/xkZGRcjgcioqKUkREhIKCgjz6JMnhcMjpdMpisXgsGxUVJafTqerqagUH177zrFarx5wkKSsrS9nZ2V7XZ7E08XpsIKPO%2BqWh1AlzoqOb%2BXT7DeU1S53XXkAGrBMnTuiPf/yjXnnlFY%2Bg9O8u3G9V174f82PbuZhRo0apX79%2BHm2hoU3lcJTVumxISLAsliYqKSlXVVV1necZKKizfmkodcI8b94Xr4aG8pqlTt%2BF%2BIAMWPPnz9fdd9/tcZnvgqioKAUHB8vpdHq0O51OtWjRQjExMSotLVVVVZX7MuCFsRf6Dx48WGPZC%2Bv1RmxsbI3LgcXFp1VZ6f2Lu6qquk7jAxV11i8NpU6Y4%2BvXS0N5zVLntReQAWvdunWyWCxau3atpO/vu6qurtbWrVv18ccfq3PnzrLb7fr5z38uSSopKdGhQ4d04403qm3btnK5XNq3b58SExMlSTabTRaLRR06dFBSUpLefPNNVVZWKjQ01N2fkpLim2IBAEDACciAtX37do/vV65cqWPHjmn69OmSpIyMDOXn56t3795q3bq1cnNzFR8fr%2BTkZEnSoEGD9MILL%2BjZZ5/VuXPntGTJEg0fPlyhoaFKT09XRESEli5dqrFjx%2Bqrr75SQUGBFixYcM3rBAAAgclvA9aFMFRZWSlJ2rx5s6Tvzya1adPGY2xERISaNGnibh89erSKi4v1wAMPqKysTKmpqR43nT/11FOaNWuW%2Bvfvr0aNGumuu%2B5yP8y0cePGWrZsmWbNmqX8/Hy1bNlSOTk56tOnz9UuGQAA1BNBrsu54xt1Vlx8uvZB%2Bv5XlqOjm8nhKPOb68hXA3XWL3WtM5Ce04Sry1fPweLYrF8uVWerVs19Mif/eWAEAABAPUHAAgAAMIyABQAAYBgBCwAAwDACFgAAgGEELAAAAMMIWAAAAIYRsAAAAAwjYAEAABhGwAIAADCMgAUAAGAYAQsAAMAwAhYAAIBhBCwAAADDCFgAAACGEbAAAAAMI2ABAAAYRsACAAAwjIAFAABgGAELAADAMAIWAACAYQQsAAAAw0J9PQEAZvzyhQ99PQUAwP%2BPM1gAAACGEbAAAAAMI2ABAAAYRsACAAAwzK8D1o4dO5SWlqacnJwafZs2bdKQIUPUrVs3DRo0SP/zP//j0b9q1SoNGjRI3bt3V0ZGhvbs2ePuO3v2rJ588kn17t1bqampys7OlsPhcPcfOXJEDz30kFJTU9W3b18tWLBA1dXVV69QAABQr/htwHrppZc0d%2B5ctW/fvkbfP/7xD02dOlXZ2dn629/%2Bpj/84Q966qmn9Mknn0iStmzZokWLFum5557Tzp071bdvX40fP15nzpyRJOXl5clut8tqteq9996Ty%2BXS9OnT3eufNGmSWrdurc2bN2vlypXavHmzXn311WtTOAAACHh%2BG7DCwsJUUFBw0YDldDo1btw43XbbbQoNDVV6erq6dOniDlhWq1XDhg1TSkqKwsPDNXbsWEnS1q1bVVlZqYKCAk2cOFHXXXedoqKiNHnyZG3btk3Hjx%2BXzWbTvn37NHXqVDVv3lxxcXHKzMyU1Wq9pvUDAIDA5bfPwRozZsyP9vXu3Vu9e/d2f19ZWani4mK1bt1akmS323XHHXe4%2B4ODgxUfHy%2Bbzab4%2BHidPn1aiYmJ7v6OHTsqPDxcdrtdRUVFatu2rSIjI939iYmJOnDggEpLSxUREVHr3IuKilRcXOzRFhraVLGxsbUuGxIS7PG1vqJOAJIUGuqbY6OhHJvU6Tt%2BG7DqIjc3V02bNnWHKqfT6RGQJCkyMlIOh0NOp1OSZLFYPPotFou7/4d9F9blcDi8ClhWq1WLFy/2aMvKylJ2drbXNVksTbweG8ioE2jYoqOb%2BXT7DeXYpM5rL6ADlsvlUm5urjZs2KBVq1YpLCzMo6%2B2ZS%2BnzxujRo1Sv379PNpCQ5vK4SirddmQkGBZLE1UUlKuqqr6e2M9dQKQ5NX74tXQUI5N6vRdiA/YgFVdXa3p06frH//4h9588021a9fO3RcdHe0%2BU3WB0%2BlU586dFRMT4/6%2BWbN//dBPnTqlFi1aqKqq6qLLBgUFuZetTWxsbI3LgcXFp1VZ6f2Lu6qquk7jAxV1Ag2br4%2BLhnJsUue15z8XK%2BvomWee0ddff10jXElSUlKS7Ha7%2B/uqqip98cUXSklJUbt27RQZGenR/9VXX%2BncuXNKSkpSUlKSjh49qpMnT7r7bTabOnXq5BHIAAAAfkxABqxPP/1U69atU35%2BvqKiomr0Z2Rk6K233tLnn3%2Bu8vJyLV26VI0bN1afPn0UEhKikSNHatmyZTp69KgcDoeef/55DRgwQC1btlRCQoKSk5O1cOFClZaWqrCwUCtXrlRGRsa1LxQAAAQkv71EmJycLOn73xCUpM2bN0v6/mzSmjVrdPr0afXt29djmZ49e2rFihXq3bu3Hn30UU2ePFknTpxQcnKy8vPzFR4eLknKzs5WWVmZhg4dqsrKSvXt21ezZ892r%2BfFF1/UzJkzdeuttyoiIkKjR4/Wfffddw2qBgAA9UGQ60rv6IZXiotPezUuNDRY0dHN5HCU%2Bc115KuBOs375QsfXtX1A1fDxsm3%2BmS7vAfVL5eqs1Wr5j6ZU0BeIgQAAPBnBCwAAADD/PYeLNQ/gXYJy1eXLgAAgY8zWAAAAIYRsAAAAAwjYAEAABhGwAIAADCMgAUAAGAYAQsAAMAwHtMAAICXAu1xM3%2BZ%2BgtfT6HB4gwWAACAYQQsAAAAwwhYAAAAhhGwAAAADCNgAQAAGEbAAgAAMIyABQAAYBgBCwAAwDACFgAAgGEELAAAAMMIWAAAAIYRsAAAAAwjYAEAABhGwAIAADCMgAUAAGAYAQsAAMAwAhYAAIBhfh2wduzYobS0NOXk5NToe%2BeddzR48GB169ZNw4YN0wcffODuq66uVl5envr376%2BePXvqwQcf1OHDh939TqdTkydPVlpamnr16qUZM2aooqLC3b93717df//96tGjhwYOHKgVK1Zc3UIBAEC9Yjxg9evXT4sXL9bRo0evaD0vvfSS5s6dq/bt29fo27t3r6ZNm6apU6fqo48%2BUmZmph5%2B%2BGEdO3ZMkvTGG29o/fr1ys/P19atWxUXF6esrCy5XC5J0syZM1VeXq4NGzZozZo1KiwsVG5uriSpoqJC48aN080336wdO3YoLy9Py5cv16ZNm66oHgAA0HAYD1j33nuv3nnnHd12220aO3asNm3apMrKyjqvJywsTAUFBRcNWKtXr1Z6errS09MVFhamIUOGqEuXLlq3bp0kyWq1KjMzUx07dlRERIRycnJUWFio3bt367vvvtPmzZuVk5OjmJgYtW7dWhMnTtSaNWt0/vx5bdu2TefPn9eECRPUtGlTJSYmasSIEbJarVf8swEAAA1DqOkVZmVlKSsrS3a7XRs2bNAzzzyjOXPm6O6779bw4cPVoUMHr9YzZsyYH%2B2z2%2B1KT0/3aEtISJDNZlNFRYX279%2BvhIQEd19ERITat28vm82m06dPKyQkRF27dnX3JyYm6syZM/rmm29kt9vVtWtXhYSEeKx79erV3v4IVFRUpOLiYo%2B20NCmio2NrXXZkJBgj6/wndDQK98H7E/g0kwcZ5ejoRyb1Ok7xgPWBYmJiUpMTNTvf/97vfPOO5o9e7ZWrFihtLQ0PfLII7rxxhsve91Op1ORkZEebZGRkdq/f79OnToll8t10X6Hw6GoqChFREQoKCjIo0%2BSHA6HnE6nLBaLx7JRUVFyOp2qrq5WcHDtO89qtWrx4sUebVlZWcrOzva6RouliddjcXVERzczti72J3BxJo%2Bzy1Hfj80L9dX3Oi/wpzqvWsA6f/68/vKXv2jt2rX66KOPFBcXp0mTJqmoqEiZmZmaM2eOBg8efNnrv3A/1eX017bsxfx7IKvNqFGj1K9fP4%2B20NCmcjjKal02JCRYFksTlZSUq6qqus7zhDne7K/asD%2BBSzNxnF2OhnJslpSUN4g6L7U/fRXijQeswsJCFRQU6K233lJZWZkGDRqkV199VT169HCP6dmzp2bPnn3ZASs6OlpOp9Ojzel0KiYmRlFRUQoODr5of4sWLRQTE6PS0lJVVVW5LwNeGHuh/%2BDBgzWWvbBeb8TGxta4HFhcfFqVld6/uKuqqus0HuaZ/PmzP4GL8/VxUd%2BPzQtho77XeYE/1Wn8YuWdd96pbdu2ady4cXr//fe1YMECj3AlSenp6Tp58uRlbyMpKUl79uzxaLPZbEpJSVFYWJg6d%2B4su93u7ispKdGhQ4d04403Kj4%2BXi6XS/v27fNY1mKxqEOHDkpKStKXX37pcWP%2BhXUDAAB4w3jAWrVqlTZu3KjMzExFRUX96Ljdu3df9jZGjhypnTt3atu2bTp79qwKCgp08OBBDRkyRJKUkZGhVatWqbCwUKWlpcrNzVV8fLySk5MVExOjQYMG6YUXXtDJkyd17NgxLVmyRMOHD1doaKjS09MVERGhpUuXqry8XLt371ZBQYEyMjIue74AAKBhMX6JsGvXrho/fryGDx%2Bu2267TZL0yiuv6MMPP9SCBQsuGbr%2BXXJysiS5zyRt3rxZ0vdnk7p06aLc3FzNmzdPR44cUadOnbR8%2BXK1atVKkjR69GgVFxfrgQceUFlZmVJTUz1uOn/qqac0a9Ys9e/fX40aNdJdd93lfphp48aNtWzZMs2aNUv5%2Bflq2bKlcnJy1KdPHxM/HgAA0AAYD1jz5s3T6dOn1alTJ3dbnz59tGPHDs2fP1/z58/3aj02m%2B2S/QMHDtTAgQMv2hcUFKTs7Owf/a295s2b6/nnn//RdXfp0kVvvvmmV/MEAAD4IeMB64MPPtD69esVHR3tbouLi1Nubq7uuusu05sDAADwO8bvwaqoqFBYWFjNDQUHq7y83PTmAAAA/I7xgNWzZ0/Nnz9fp06dcrcdP35cc%2BbMqfHbhAAAAPWR8UuEf/jDH/Tb3/5Wt9xyiyIiIlRdXa2ysjK1a9dOr732munNAQAA%2BB3jAatdu3b685//rPfff1%2BHDh1ScHCwOnTooF69enn8fT8AAID66qr8qZzGjRu7H9EAAADQ0BgPWIcPH9bChQv19ddfq6Kiokb/X//6V9ObBAAA8CtX5R6soqIi9erVS02bNjW9egAAAL9nPGDt2bNHf/3rXxUTE2N61QAAAAHB%2BGMaWrRowZkrAADQoBkPWOPGjdPixYvlcrlMrxoAACAgGL9E%2BP777%2Buzzz7T2rVr9ZOf/ETBwZ4Z7k9/%2BpPpTQIAAPgV4wErIiJCvXv3Nr1aAACAgGE8YM2bN8/0KgEAAAKK8XuwJOmbb77RokWLNH36dHfb3//%2B96uxKQAAAL9jPGDt2rVLQ4YM0aZNm7RhwwZJ3z98dMyYMTxkFAAANAjGA1ZeXp4ee%2BwxrV%2B/XkFBQZK%2B//uE8%2BfP15IlS0xvDgAAwO8YD1hfffWVMjIyJMkdsCTp9ttvV2FhoenNAQAA%2BB3jAat58%2BYX/RuERUVFaty4senNAQAA%2BB3jAat79%2B565plnVFpa6m47cOCApk2bpltuucX05gAAAPyO8cc0TJ8%2BXb/%2B9a%2BVmpqqqqoqde/eXeXl5ercubPmz59venMAAAB%2Bx3jAatOmjTZs2KDt27frwIEDCg8PV4cOHXTrrbd63JMFAABQXxkPWJLUqFEj3XbbbVdj1QAAAH7PeMDq16/fJc9U8SwsAABQ3xkPWHfccYdHwKqqqtKBAwdks9n061//2vTmAAAA/I7xgDV16tSLtr/33nv6%2BOOPTW8OAADA71yVv0V4Mbfddpv%2B/Oc/X6vNAQAA%2BMw1C1hffPGFXC6X0fWNGTNGN910k2699VZNnTpVJ0%2BelPT930McPny4unfvrjvvvFPr1q3zWHbVqlUaNGiQunfvroyMDO3Zs8fdd/bsWT355JPq3bu3UlNTlZ2dLYfDYWzeAACg/jN%2BiXD06NE12srLy1VYWKiBAwca2UZlZaUeeughDRs2TC%2B//LLKyso0ZcoUzZ49W0888YQmTpyoGTNmaPDgwfr00081YcIEdejQQcnJydqyZYsWLVqkl19%2BWV27dtWqVas0fvx4bdq0SU2bNlVeXp7sdrusVquaNGmimTNnavr06Vq2bJmRuQMAgPrP%2BBmsuLg4dejQweNft27dNG3aND3zzDNGtlFcXKzi4mINHTpUjRs3VnR0tAYMGKC9e/dq/fr1iouL0/DhwxUWFqa0tDT169dPq1evliRZrVYNGzZMKSkpCg8P19ixYyVJW7duVWVlpQoKCjRx4kRdd911ioqK0uTJk7Vt2zYdP37cyNwBAED9Z/wM1rV4Wnvr1q0VHx8vq9WqRx55RBUVFdq0aZP69Okju92uhIQEj/EJCQnauHGjJMlut%2BuOO%2B5w9wUHBys%2BPl42m03x8fE6ffq0EhMT3f0dO3ZUeHi47Ha7Wrdu7dX8ioqKVFxc7NEWGtpUsbGxtS4bEhLs8RW%2BExp65fuA/Qlcmonj7HI0lGOTOn3HeMB66623vB579913X9Y2goODtWjRImVmZurVV1%2BVJP385z/XlClTNHHixBpBKCoqyn0fldPpVGRkpEd/ZGSkHA6HnE6nJMlisXj0WyyWOt2HZbVatXjxYo%2B2rKwsZWdne70Oi6WJ12NxdURHNzO2LvYncHEmj7PLUd%2BPzQv11fc6L/CnOo0HrBkzZqi6urrGDe1BQUEebUFBQZcdsM6dO6fx48fr9ttv1/jx43XmzBnNmTPnRx8R8UO13Wx/pTfjjxo1Sv369fNoCw1tKoejrNZlQ0KCZbE0UUlJuaqqqq9oHrgy3uyv2rA/gUszcZxdjoZybJaUlDeIOi%2B1P30V4o0HrJdfflkrVqzQ%2BPHj1bVrV7lcLn355Zd66aWXdP/99ys1NfWKt7Fr1y59%2B%2B23evTRRxUSEqLmzZsrOztbQ4cO1S9%2B8Qv3magLHA6HYmJiJEnR0dE1%2Bp1Opzp37uwe43Q61azZv3bIqVOn1KJFC6/nFxsbW%2BNyYHHxaVVWev/irqqqrtN4mGfy58/%2BBC7O18dFfT82L4SN%2Bl7nBf5Up/GLlfPnz9fcuXPVo0cPRUREqHnz5rrpppv01FNP6dlnn1Xjxo3d/y5XVVVVjbNk586dkySlpaV5PHZBkvbs2aOUlBRJUlJSkux2u8e6vvjiC6WkpKhdu3aKjIz06P/qq6907tw5JSUlXfZ8AQBAw2I8YB08eLDGPU7S9/cxHTlyxMg2unXrpqZNm2rRokUqLy%2BXw%2BHQ0qVL1bNnTw0dOlRHjhzR6tWrdfbsWW3fvl3bt2/XyJEjJUkZGRl666239Pnnn6u8vFxLly5V48aN1adPH4WEhGjkyJFatmyZjh49KofDoeeff14DBgxQy5YtjcwdAADUf8YDVtu2bTV//nyPm8JLSkq0cOFCXX/99Ua2ER0drf/%2B7//WZ599pt69e%2Buuu%2B5SeHi4Fi5cqBYtWmj58uV6/fXX1aNHDz3zzDNasGCBbrjhBklS79699eijj2ry5Mn6%2Bc9/rp07dyo/P1/h4eGSpOzsbKWkpGjo0KHq37%2B/mjVrpqefftrIvAEAQMMQ5DL5eHVJH3zwgaZMmaKSkhI1a9ZMwcHBKi0tVXh4uJYsWaJbbrnF5OYCRnHxaa/GhYYGKzq6mRyOMr%2B5jmzKL1/40NdTqJONk2%2B94nVcy/0ZaD9fQDJznF2Oyz02A%2B04%2B8vUX9Tbz5R/d6n92apVc9/MyfQKe/XqpW3btmn79u06duyYXC6XWrdurV/84hdq3tw3RQIAAFxLxgOWJDVp0kT9%2B/fXsWPH1K5du6uxCQAAAL9l/B6siooKTZs2Td26ddMvf/lLSd/fgzV27FiVlJSY3hwAAIDfMR6wFixYoL179yo3N1fBwf9afVVVlXJzc01vDgAAwO8YD1jvvfeeXnzxRd1%2B%2B%2B0KCgqS9P0jGubNm6dNmzaZ3hwAAIDfMR6wysrKFBcXV6M9JiZGZ86cMb05AAAAv2M8YF1//fX6%2BOOPJXn%2BTb93331X//Ef/2F6cwAAAH7H%2BG8R3nfffZo0aZLuvfdeVVdXa%2BXKldqzZ4/ee%2B89zZgxw/TmAAAA/I7xgDVq1CiFhobq9ddfV0hIiJYtW6YOHTooNzdXt99%2Bu%2BnNAQAA%2BB3jAevkyZO69957de%2B995peNQAAQEAwfg9W//79Zfiv7wAAAAQU4wErNTVVGzduNL1aAACAgGH8EuF1112np59%2BWvn5%2Bbr%2B%2BuvVqFEjj/6FCxea3iRwVQTaH3UFAPgP4wFr//79%2BulPfypJcjgcplcPAADg94wFrJycHOXl5em1115zty1ZskRZWVmmNgEAABAQjN2DtWXLlhpt%2Bfn5plYPAAAQMIydwbrYbw7y24QAgEvhXkfUV8bOYF34w861tQEAANR3xh/TAAAA0NARsAAAAAwzdg/W%2BfPnNWXKlFrbeA4WAACo74wFrB49eqioqKjWNgAAgPrOWMD69%2BdfAQAANGTcgwUAAGAYAQsAAMAwAhYAAIBhBCwAAADDAjpgLV26VL169dLPfvYzZWZm6ttvv5Uk7dq1S8OHD1f37t115513at26dR7LrVq1SoMGDVL37t2VkZGhPXv2uPvOnj2rJ598Ur1791Zqaqqys7PlcDiuaV0AACCwBWzAeuONN7Ru3TqtWrVKH3zwgTp16qRXXnlFRUVFmjhxokaPHq1du3ZpxowZmjlzpmw2m6Tv/yj1okWL9Nxzz2nnzp3q27evxo8frzNnzkiS8vLyZLfbZbVa9d5778nlcmn69Om%2BLBUAAASYgA1YK1asUE5Ojn76058qIiJCTzzxhJ544gmtX79ecXFxGj58uMLCwpSWlqZ%2B/fpp9erVkiSr1aphw4YpJSVF4eHhGjt2rCRp69atqqysVEFBgSZOnKjrrrtOUVFRmjx5srZt26bjx4/7slwAABBAjD0H61o6fvy4vv32W506dUp33HGHTpw4odTUVM2ePVt2u10JCQke4xMSErRx40ZJkt1u1x133OHuCw4OVnx8vGw2m%2BLj43X69GklJia6%2Bzt27Kjw8HDZ7Xa1bt3aq/kVFRWpuLjYoy00tKliY2NrXTYkJNjjKwAAl6uhfKb4Y50BGbCOHTsmSXr33Xe1cuVKuVwuZWdn64knnlBFRUWNIBQVFeW%2Bj8rpdCoyMtKjPzIyUg6HQ06nU5JksVg8%2Bi0WS53uw7JarVq8eLFHW1ZWlrKzs71eh8XSxOuxAABczIXPkobymeJPdQZkwHK5XJKksWPHusPUpEmT9Lvf/U5paWleL3%2B5/bUZNWqU%2BvXr59EWGtpUDkdZrcuGhATLYmmikpJyVVVVX9E8AAANW0lJeYP4TLnUZ2d0dDOfzCkgA1bLli0leZ5patu2rVwul86fP%2B8%2BE3WBw%2BFQTEyMJCk6OrpGv9PpVOfOnd1jnE6nmjX71w45deqUWrRo4fX8YmNja1wOLC4%2BrcpK71/cVVXVdRoPAMAPXQgbDeUzxZ/q9J%2BLlXXQpk0bRUREaO/eve62I0eOqFGjRkpPT/d47IIk7dmzRykpKZKkpKQk2e12d19VVZW%2B%2BOILpaSkqF27doqMjPTo/%2Bqrr3Tu3DklJSVd5aoAAEB9EZABKzQ0VMOHD9eyZcv0//7f/9OJEye0ZMkSDR48WPfcc4%2BOHDmi1atX6%2BzZs9q%2Bfbu2b9%2BukSNHSpIyMjL01ltv6fPPP1d5ebmWLl2qxo0bq0%2BfPgoJCdHIkSO1bNkyHT16VA6HQ88//7wGDBjgPmsGAABQm4C8RChJU6ZM0blz5zRixAidP39egwYN0hNPPKFmzZpp%2BfLlmjt3rubMmaO2bdtqwYIFuuGGGyRJvXv31qOPPqrJkyfrxIkTSk5OVn5%2BvsLDwyVJ2dnZKisr09ChQ1VZWam%2Bfftq9uzZPqwUAAAEmiDXld7RDa8UF5/2alxoaLCio5vJ4Sjzm%2BvIpvzyhQ99PQUAaFD%2BMvUX9fYz5d9d6rOzVavmPplTQF4iBAAA8GcELAAAAMMIWAAAAIYRsAAAAAwjYAEAABhGwAIAADCMgAUAAGAYAQsAAMAwAhYAAIBhBCwAAADDCFgAAACGEbAAAAAMI2ABAAAYRsACAAAwjIAFAABgGAELAADAMAIWAACAYQQsAAAAwwhYAAAAhhGwAAAADCNgAQAAGEbAAgAAMIyABQAAYBgBCwAAwDACFgAAgGEELAAAAMMIWAAAAIbVi4D1zDPPqGvXru7vd%2B3apeHDh6t79%2B668847tW7dOo/xq1at0qBBg9S9e3dlZGRoz5497r6zZ8/qySefVO/evZWamqrs7Gw5HI5rVgsAAAh8AR%2Bw9u7dq7ffftv9fVFRkSZOnKjRo0dr165dmjFjhmbOnCmbzSZJ2rJlixYtWqTnnntOO3fuVN%2B%2BfTV%2B/HidOXNGkpSXlye73S6r1ar33ntPLpdL06dP90ltAAAgMAV0wKqurtasWbOUmZnpblu/fr3i4uI0fPhwhYWFKS0tTf369dPq1aslSVarVcOGDVNKSorCw8M1duxYSdLWrVtVWVmpgoICTZw4Udddd52ioqI0efJkbdu2TcePH/dFiQAAIACF%2BnoCV%2BJPf/qTwsLCNHjwYL3wwguSJLvdroSEBI9xCQkJ2rhxo7v/jjvucPcFBwcrPj5eNptN8fHxOn36tBITE939HTt2VHh4uOx2u1q3bu3VvIqKilRcXOzRFhraVLGxsbUuGxIS7PEVAIDL1VA%2BU/yxzoANWN99950WLVqk1157zaPd6XTWCEJRUVHu%2B6icTqciIyM9%2BiMjI%2BVwOOR0OiVJFovFo99isdTpPiyr1arFixd7tGVlZSk7O9vrdVgsTbweCwDAxVz4LGkonyn%2BVGfABqx58%2BZp2LBh6tSpk7799ts6Letyua6ovzajRo1Sv379PNpCQ5vK4SirddmQkGBZLE1UUlKuqqrqK5oHAKBhKykpbxCfKZf67IyObuaTOQVkwNq1a5f%2B/ve/a8OGDTX6oqOj3WeiLnA4HIqJifnRfqfTqc6dO7vHOJ1ONWv2rx1y6tQptWjRwuv5xcbG1rgcWFx8WpWV3r%2B4q6qq6zQeAIAfuhA2Gspnij/V6T8XK%2Btg3bp1OnHihPr27avU1FQNGzZMkpSamqouXbp4PHZBkvbs2aOUlBRJUlJSkux2u7uvqqpKX3zxhVJSUtSuXTtFRkZ69H/11Vc6d%2B6ckpKSrkFlAACgPgjIgPX444/rvffe09tvv623335b%2Bfn5kqS3335bgwcP1pEjR7R69WqdPXtW27dv1/bt2zVy5EhJUkZGht566y19/vnnKi8v19KlS9W4cWP16dNHISEhGjlypJYtW6ajR4/K4XDo%2Beef14ABA9SyZUtflgwAAAJIQF4ijIyM9LhRvbKyUpLUpk0bSdLy5cs1d%2B5czZkzR23bttWCBQt0ww03SJJ69%2B6tRx99VJMnT9aJEyeUnJys/Px8hYeHS5Kys7NVVlamoUOHqrKyUn379tXs2bOvbYEAACCgBbmu9I5ueKW4%2BLRX40JDgxUd3UwOR5nfXEc25ZcvfOjrKQBAg/KXqb%2Bot58p/%2B5Sn52tWjX3yZwC8hIhAACAPyNgAQAAGEbAAgAAMIyABQAAYBgBCwAAwLCAfEwDAACo3YDcHb6egtc2Tr7V11MwijNYAAAAhhGwAAAADCNgAQAAGEbAAgAAMIyABQAAYBgBCwAAwDACFgAAgGEELAAAAMMIWAAAAIYRsAAAAAwjYAEAABhGwAIAADCMgAUAAGAYAQsAAMAwAhYAAIBhBCwAAADDCFgAAACGEbAAAAAMI2ABAAAYRsACAAAwjIAFAABgWMAGrCNHjigrK0upqalKS0vT448/rpKSEknS3r17df/996tHjx4aOHCgVqxY4bHsO%2B%2B8o8GDB6tbt24aNmyYPvjgA3dfdXW18vLy1L9/f/Xs2VMPPvigDh8%2BfE1rAwAAgS1gA9b48eNlsVi0ZcsWrV27Vl9//bWeffZZVVRUaNy4cbr55pu1Y8cO5eXlafny5dq0aZOk78PXtGnTNHXqVH300UfKzMzUww8/rGPHjkmS3njjDa1fv175%2BfnaunWr4uLilJWVJZfL5ctyAQBAAAnIgFVSUqKkpCRNmTJFzZo1U5s2bXTPPffok08%2B0bZt23T%2B/HlNmDBBTZs2VWJiokaMGCGr1SpJWr16tdLT05Wenq6wsDANGTJEXbp00bp16yRJVqtVmZmZ6tixoyIiIpSTk6PCwkLt3r3blyUDAIAAEurrCVwOi8WiefPmebQdPXpUsbGxstvt6tq1q0JCQtx9CQkJWr16tSTJbrcrPT3dY9mEhATZbDZVVFRo//79SkhIcPdFRESoffv2stls%2BtnPfubV/IqKilRcXOzRFhraVLGxsbUuGxIS7PG1NgNyd3g1DgAAfxYaevnnfOr62XktBGTA%2BiGbzabXX39dS5cu1caNG2WxWDz6o6Ki5HQ6VV1dLafTqcjISI/%2ByMhI7d%2B/X6dOnZLL5bpov8Ph8Ho%2BVqtVixcv9mjLyspSdna21%2BuwWJp4PRYAgEAXHd3sitfhT5%2BdAR%2BwPv30U02YMEFTpkxRWlqaNm7ceNFxQUFB7v%2Bu7X6qK73fatSoUerXr59HW2hoUzkcZbUuGxISLIuliUpKylVVVX1F8wAAIFB48xn5Yy712WkiuF2OgA5YW7Zs0WOPPaaZM2fq7rvvliTFxMTo4MGDHuOcTqeioqIUHBys6OhoOZ3OGv0xMTHuMRfrb9Gihdfzio2NrXE5sLj4tCorvQ9MVVXVdRoPAEAgM/GZ50%2Bfnf5zsbKOPvvsM02bNk1//OMf3eFKkpKSkvTll1%2BqsrLS3Waz2ZSSkuLu37Nnj8e6LvSHhYWpc%2BfOstvt7r6SkhIdOnRIN95449UtCAAA1BsBGbAqKyv1xBNPaOrUqerVq5dHX3p6uiIiIrR06VKVl5dr9%2B7dKigoUEZGhiRp5MiR2rlzp7Zt26azZ8%2BqoKBABw8e1JAhQyRJGRkZWrVqlQoLC1VaWqrc3FzFx8crOTn5mtcJAAACU5ArAB/w9Mknn%2BhXv/qVGjduXKPv3XffVVlZmWbNmqU9e/aoZcuW%2Bt3vfqf77rvPPWbTpk1auHChjhw5ok6dOmnGjBnq2bOnpO/vv1q0aJH%2B9Kc/qaysTKmpqXrqqafUpk2bK5pzcfFpr8aFhgYrOrqZHI4yr05z/vKFD69oXgAA%2BIONk2%2B97GUv9dnZqlXzK53aZQnIgBWICFgAAPy4%2BhawAvISIQAAgD8jYAEAABhGwAIAADCMgAUAAGAYAQsAAMAwAhYAAIBhBCwAAADDCFgAAACGEbAAAAAMI2ABAAAYRsACAAAwjIAFAABgGAELAADAMAIWAACAYQQsAAAAwwhYAAAAhhGwAAAADCNgAQAAGEbAAgAAMIyABQAAYBgBCwAAwDACFgAAgGEELAAAAMMIWAAAAIYRsAAAAAwjYAEAABhGwAIAADCMgHURR44c0UMPPaTU1FT17dtXCxYsUHV1ta%2BnBQAAAkSoryfgjyZNmqTExERt3rxZJ06c0Lhx49SyZUv95je/8fXUAABAAOAM1g/YbDbt27dPU6dOVfPmzRUXF6fMzExZrVZfTw0AAAQIzmD9gN1uV9u2bRUZGeluS0xM1IEDB1RaWqqIiIha11FUVKTi4mKPttDQpoqNja112ZCQYI%2BvAAA0BKGhl/%2B554%2BfnQSsH3A6nbJYLB5tF8KWw%2BHwKmBZrVYtXrzYo%2B3hhx/WpEmTal22qKhIr776skaNGuVVIPvk6dtrHeOPioqKZLVava4zUFFn/UKd9UdDqFFqWHXW5bPzWvCfqOdHXC7XFS0/atQorV271uPfqFGjvFq2uLhYixcvrnEGrL6hzvqFOuuXhlBnQ6hRok5f4gzWD8TExMjpdHq0OZ1OBQUFKSYmxqt1xMbG%2Bk2CBgAA1x5nsH4gKSlJR48e1cmTJ91tNptNnTp1UrNmzXw4MwAAECgIWD%2BQkJCg5ORkLVy4UKWlpSosLNTKlSuVkZHh66kBAIAAQcC6iBdffFFFRUW69dZbNWbMGN1999267777rsm2W7VqpYcfflitWrW6JtvzFeqsX6izfmkIdTaEGiXq9KUg15Xe0Q0AAAAPnMECAAAwjIAFAABgGAELAADAMAIWAACAYQQsAAAAwwhYAAAAhhGwAAAADCNgAQAAGEbAAgAAMIyA5QdsNpsGDBigkSNHXnLcokWLFB8fr%2BTkZI9/33333TWa6ZXxtk5JWrVqlQYNGqTu3bsrIyNDe/bsuQYzvHJOp1OTJ09WWlqaevXqpRkzZqiiouKiY9euXasbbrihxv78xz/%2BcY1n7Z0jR47ooYceUmpqqvr27asFCxaourr6omMDdf9J3tcZ6Mfjjh07lJaWppycnEuOq66uVl5envr376%2BePXvqwQcf1OHDh6/RLK%2Bct3U%2B/vjj7r9Fe%2BHfTTfddI1meWWOHDmirKwspaamKi0tTY8//rhKSkouOvadd97R4MGD1a1bNw0bNkwffPDBNZ7t5fO2Tn95byVg%2Bdi6des0adIktW/f3qvxQ4cOlc1m8/jXsmXLqzzLK1eXOrds2aJFixbpueee086dO9W3b1%2BNHz9eZ86cuQYzvTIzZ85UeXm5NmzYoDVr1qiwsFC5ubk/Or5nz5419ueNN954DWfsvUmTJql169bavHmzVq5cqc2bN%2BvVV1%2BtMS6Q95/kfZ1S4B6PL730kubOnevV8fjGG29o/fr1ys/P19atWxUXF6esrCwFwl9Zq0udkjRhwgSPffnJJ59c5RmaMX78eFksFm3ZskVr167V119/rWeffbbGuL1792ratGmaOnWqPvroI2VmZurhhx/WsWPHfDDruvO2Tsk/3lsJWD529uxZWa1WpaSk%2BHoqV1Vd6rRarRo2bJhSUlIUHh6usWPHSpK2bt16tad5Rb777jtt3rxZOTk5iomJUevWrTVx4kStWbNG58%2Bf9/X0rojNZtO%2Bffs0depUNW/eXHFxccrMzJTVaq0xNlD3n1S3OgNZWFiYCgoKvAoeVqtVmZmZ6tixoyIiIpSTk6PCwkLt3r37Gsz0ytSlzkBVUlKipKQkTZkyRc2aNVObNm10zz33XDQcrl69Wunp6UpPT1dYWJiGDBmiLl26aN26dT6Yed3UpU5/QcDysREjRqh169Zej//yyy81evRode/eXXfeeWfAnN6tS512u10JCQnu74ODgxUfHy%2BbzXa1pmfE3r17FRISoq5du7rbEhMTdebMGX3zzTcXXebo0aP6zW9%2Bo549e6p///56%2B%2B23r9V068Rut6tt27aKjIx0tyUmJurAgQMqLS2tMTYQ959UtzqlwD0ex4wZo%2BbNm9c6rqKiQvv37/fYnxEREWrfvn1A7E9v67zgo48%2B0t13361u3bpp%2BPDhAXFp22KxaN68eR5nTo8eParY2NgaY394bEpSQkJCQOzLutR5oc/X760ErADSpk0btWvXTs8%2B%2B6w%2B/PBDjRgxQuPHj//RD%2B9A5XQ6PT7gJCkyMlIOh8NHM/KO0%2BlURESEgoKC3G0X6rjY3GNiYhQXF6fHHntMH374oR599FH94Q9/0K5du67ZnL3ldDplsVg82n6stkDdf1Ld6mwIx%2BOpU6fkcrkCdn/WRbt27dS%2BfXstX75cO3bs0E033aTf/va3AVenzWbT66%2B/rgkTJtToC%2BRj84cuVae/vLcSsK6yt99%2BW127dr3ov7Vr19ZpXSNGjNCLL76o9u3bq0mTJsrMzFR8fLxfnN41Wackv72/41J1HjlypE7z7tOnj15%2B%2BWUlJCSocePGuvPOOzVgwIDL%2BnldC3WpzV/3nze8nbs/H4%2BmBfL%2B9FZWVpaeeeYZtW7dWhEREXrsscfUuHFjbd682ddT89qnn36qBx98UFOmTFFaWtpFx9SHfVlbnf7y3hp6TbfWAA0dOlRDhw69autv27atioqKrtr6vWWyzujoaDmdTo82p9Opzp07G1n/lbhUnR9%2B%2BKFKS0tVVVWlkJAQSXLX0aJFC6/W37ZtW7%2B8LBETE3PRfRIUFKSYmBiPdn/ef7WpS50X4y/HoylRUVEKDg6%2B6M/E29d0oAoJCdF1110XMPtzy5YteuyxxzRz5kzdfffdFx3zY8emN69tf%2BFNnRfji/dWzmAFkP/6r/%2BqcYqzsLBQ7dq189GMro6kpCTZ7Xb391VVVfriiy/8/hcB4uPj5XK5tG/fPnebzWaTxWJRhw4daox/88039c4773i0%2Bev%2BTEpK0tGjR3Xy5El3m81mU6dOndSsWbMaYwNx/0l1q7MhHI9hYWHq3Lmzx/4sKSnRoUOH/Pa3XS%2BHy%2BXSvHnzPI7dc%2BfO6dChQwGxPz/77DNNmzZNf/zjHy8ZOpKSkmqEDJvNFhDHpuR9nf7y3krA8nO33367%2B7cknE6n5syZo2%2B%2B%2BUZnz57VihUrdOjQId1zzz0%2BnuWV%2B/c6MzIy9NZbb%2Bnzzz9XeXm5li5dqsaNG6tPnz6%2BnWQtYmJiNGjQIL3wwgs6efKkjh07piVLlmj48OEKDf3%2BZPGvf/1r94F/7tw5/ed//qdsNpvOnz%2BvDRs26P3339fo0aN9WcZFXXg%2B0MKFC1VaWqrCwkKtXLlSGRkZkurH/pPqVmd9PR6PHz%2Bu22%2B/3f2sq4yMDK1atUqFhYUqLS1Vbm6u%2B/lfgezf6wwKCtK3336rOXPm6Pjx4yorK1Nubq4aNWqk2267zddTvaTKyko98cQTmjp1qnr16lWj/9/fc0aOHKmdO3dq27ZtOnv2rAoKCnTw4EENGTLkWk%2B7zupSp7%2B8t3KJ0McGDRqkf/7zn6qqqlJ1dbX7Tevdd99V27ZtdeDAAffzg6ZMmSJJyszMlNPpVKdOnfTKK6%2BoTZs2Ppu/t%2BpSZ%2B/evfXoo49q8uTJOnHihJKTk5Wfn6/w8HBfluCVp556SrNmzVL//v3VqFEj3XXXXR4PODx8%2BLBOnTol6fvfcCorK9Mjjzyi4uJi/eQnP9GSJUuUlJTkq%2Blf0osvvqiZM2fq1ltvVUREhEaPHq377rtPkurN/pO8rzOQj8cLx19lZaUkue8zuvCBdODAAZ07d06SNHr0aBUXF%2BuBBx5QWVmZUlNTtXjxYt9MvI7qUufTTz%2BtZ599VsOGDVNpaaluvPFGvfrqq2ratKlvJu%2Blzz//XIWFhZo7d67mzp3r0ffuu%2B96vOd06dJFubm5mjdvno4cOaJOnTpp%2BfLlatWqlS%2BmXid1qdNf3luDXPXhjjcAAAA/wiVCAAAAwwhYAAAAhhGwAAAADCNgAQAAGEbAAgAAMIyABQAAYBgBCwAAwDACFgAAgGEELAAAAMMIWAAAAIYRsAAAAAwjYAEAABhGwAIAADDs/wPFLf39fL8TjQAAAABJRU5ErkJggg%3D%3D\"/>\n",
       "        </div>\n",
       "        <div role=\"tabpanel\" class=\"tab-pane col-md-12\" id=\"common-1014860958384059923\">\n",
       "            \n",
       "<table class=\"freq table table-hover\">\n",
       "    <thead>\n",
       "    <tr>\n",
       "        <td class=\"fillremaining\">Value</td>\n",
       "        <td class=\"number\">Count</td>\n",
       "        <td class=\"number\">Frequency (%)</td>\n",
       "        <td style=\"min-width:200px\">&nbsp;</td>\n",
       "    </tr>\n",
       "    </thead>\n",
       "    <tr class=\"\">\n",
       "        <td class=\"fillremaining\">-1.0176073202382292</td>\n",
       "        <td class=\"number\">1</td>\n",
       "        <td class=\"number\">0.0%</td>\n",
       "        <td>\n",
       "            <div class=\"bar\" style=\"width:1%\">&nbsp;</div>\n",
       "        </td>\n",
       "</tr><tr class=\"\">\n",
       "        <td class=\"fillremaining\">1.147602538086614</td>\n",
       "        <td class=\"number\">1</td>\n",
       "        <td class=\"number\">0.0%</td>\n",
       "        <td>\n",
       "            <div class=\"bar\" style=\"width:1%\">&nbsp;</div>\n",
       "        </td>\n",
       "</tr><tr class=\"\">\n",
       "        <td class=\"fillremaining\">-0.7317571783074938</td>\n",
       "        <td class=\"number\">1</td>\n",
       "        <td class=\"number\">0.0%</td>\n",
       "        <td>\n",
       "            <div class=\"bar\" style=\"width:1%\">&nbsp;</div>\n",
       "        </td>\n",
       "</tr><tr class=\"\">\n",
       "        <td class=\"fillremaining\">-1.1935495475066489</td>\n",
       "        <td class=\"number\">1</td>\n",
       "        <td class=\"number\">0.0%</td>\n",
       "        <td>\n",
       "            <div class=\"bar\" style=\"width:1%\">&nbsp;</div>\n",
       "        </td>\n",
       "</tr><tr class=\"\">\n",
       "        <td class=\"fillremaining\">0.7967974656553147</td>\n",
       "        <td class=\"number\">1</td>\n",
       "        <td class=\"number\">0.0%</td>\n",
       "        <td>\n",
       "            <div class=\"bar\" style=\"width:1%\">&nbsp;</div>\n",
       "        </td>\n",
       "</tr><tr class=\"\">\n",
       "        <td class=\"fillremaining\">1.0465712935078115</td>\n",
       "        <td class=\"number\">1</td>\n",
       "        <td class=\"number\">0.0%</td>\n",
       "        <td>\n",
       "            <div class=\"bar\" style=\"width:1%\">&nbsp;</div>\n",
       "        </td>\n",
       "</tr><tr class=\"\">\n",
       "        <td class=\"fillremaining\">1.7035411932284454</td>\n",
       "        <td class=\"number\">1</td>\n",
       "        <td class=\"number\">0.0%</td>\n",
       "        <td>\n",
       "            <div class=\"bar\" style=\"width:1%\">&nbsp;</div>\n",
       "        </td>\n",
       "</tr><tr class=\"\">\n",
       "        <td class=\"fillremaining\">1.1290268167373279</td>\n",
       "        <td class=\"number\">1</td>\n",
       "        <td class=\"number\">0.0%</td>\n",
       "        <td>\n",
       "            <div class=\"bar\" style=\"width:1%\">&nbsp;</div>\n",
       "        </td>\n",
       "</tr><tr class=\"\">\n",
       "        <td class=\"fillremaining\">1.960820719023</td>\n",
       "        <td class=\"number\">1</td>\n",
       "        <td class=\"number\">0.0%</td>\n",
       "        <td>\n",
       "            <div class=\"bar\" style=\"width:1%\">&nbsp;</div>\n",
       "        </td>\n",
       "</tr><tr class=\"\">\n",
       "        <td class=\"fillremaining\">0.9347394102552856</td>\n",
       "        <td class=\"number\">1</td>\n",
       "        <td class=\"number\">0.0%</td>\n",
       "        <td>\n",
       "            <div class=\"bar\" style=\"width:1%\">&nbsp;</div>\n",
       "        </td>\n",
       "</tr><tr class=\"other\">\n",
       "        <td class=\"fillremaining\">Other values (99990)</td>\n",
       "        <td class=\"number\">99990</td>\n",
       "        <td class=\"number\">100.0%</td>\n",
       "        <td>\n",
       "            <div class=\"bar\" style=\"width:100%\">&nbsp;</div>\n",
       "        </td>\n",
       "</tr>\n",
       "</table>\n",
       "        </div>\n",
       "        <div role=\"tabpanel\" class=\"tab-pane col-md-12\"  id=\"extreme-1014860958384059923\">\n",
       "            <p class=\"h4\">Minimum 5 values</p>\n",
       "            \n",
       "<table class=\"freq table table-hover\">\n",
       "    <thead>\n",
       "    <tr>\n",
       "        <td class=\"fillremaining\">Value</td>\n",
       "        <td class=\"number\">Count</td>\n",
       "        <td class=\"number\">Frequency (%)</td>\n",
       "        <td style=\"min-width:200px\">&nbsp;</td>\n",
       "    </tr>\n",
       "    </thead>\n",
       "    <tr class=\"\">\n",
       "        <td class=\"fillremaining\">-1.4086053060269959</td>\n",
       "        <td class=\"number\">1</td>\n",
       "        <td class=\"number\">0.0%</td>\n",
       "        <td>\n",
       "            <div class=\"bar\" style=\"width:100%\">&nbsp;</div>\n",
       "        </td>\n",
       "</tr><tr class=\"\">\n",
       "        <td class=\"fillremaining\">-1.3517729921635937</td>\n",
       "        <td class=\"number\">1</td>\n",
       "        <td class=\"number\">0.0%</td>\n",
       "        <td>\n",
       "            <div class=\"bar\" style=\"width:100%\">&nbsp;</div>\n",
       "        </td>\n",
       "</tr><tr class=\"\">\n",
       "        <td class=\"fillremaining\">-1.3022271112977066</td>\n",
       "        <td class=\"number\">1</td>\n",
       "        <td class=\"number\">0.0%</td>\n",
       "        <td>\n",
       "            <div class=\"bar\" style=\"width:100%\">&nbsp;</div>\n",
       "        </td>\n",
       "</tr><tr class=\"\">\n",
       "        <td class=\"fillremaining\">-1.300230736433031</td>\n",
       "        <td class=\"number\">1</td>\n",
       "        <td class=\"number\">0.0%</td>\n",
       "        <td>\n",
       "            <div class=\"bar\" style=\"width:100%\">&nbsp;</div>\n",
       "        </td>\n",
       "</tr><tr class=\"\">\n",
       "        <td class=\"fillremaining\">-1.2772875991901156</td>\n",
       "        <td class=\"number\">1</td>\n",
       "        <td class=\"number\">0.0%</td>\n",
       "        <td>\n",
       "            <div class=\"bar\" style=\"width:100%\">&nbsp;</div>\n",
       "        </td>\n",
       "</tr>\n",
       "</table>\n",
       "            <p class=\"h4\">Maximum 5 values</p>\n",
       "            \n",
       "<table class=\"freq table table-hover\">\n",
       "    <thead>\n",
       "    <tr>\n",
       "        <td class=\"fillremaining\">Value</td>\n",
       "        <td class=\"number\">Count</td>\n",
       "        <td class=\"number\">Frequency (%)</td>\n",
       "        <td style=\"min-width:200px\">&nbsp;</td>\n",
       "    </tr>\n",
       "    </thead>\n",
       "    <tr class=\"\">\n",
       "        <td class=\"fillremaining\">2.3048213506066184</td>\n",
       "        <td class=\"number\">1</td>\n",
       "        <td class=\"number\">0.0%</td>\n",
       "        <td>\n",
       "            <div class=\"bar\" style=\"width:100%\">&nbsp;</div>\n",
       "        </td>\n",
       "</tr><tr class=\"\">\n",
       "        <td class=\"fillremaining\">2.3089390528967915</td>\n",
       "        <td class=\"number\">1</td>\n",
       "        <td class=\"number\">0.0%</td>\n",
       "        <td>\n",
       "            <div class=\"bar\" style=\"width:100%\">&nbsp;</div>\n",
       "        </td>\n",
       "</tr><tr class=\"\">\n",
       "        <td class=\"fillremaining\">2.3337526924465672</td>\n",
       "        <td class=\"number\">1</td>\n",
       "        <td class=\"number\">0.0%</td>\n",
       "        <td>\n",
       "            <div class=\"bar\" style=\"width:100%\">&nbsp;</div>\n",
       "        </td>\n",
       "</tr><tr class=\"\">\n",
       "        <td class=\"fillremaining\">2.3370795675225464</td>\n",
       "        <td class=\"number\">1</td>\n",
       "        <td class=\"number\">0.0%</td>\n",
       "        <td>\n",
       "            <div class=\"bar\" style=\"width:100%\">&nbsp;</div>\n",
       "        </td>\n",
       "</tr><tr class=\"\">\n",
       "        <td class=\"fillremaining\">2.3623308108542243</td>\n",
       "        <td class=\"number\">1</td>\n",
       "        <td class=\"number\">0.0%</td>\n",
       "        <td>\n",
       "            <div class=\"bar\" style=\"width:100%\">&nbsp;</div>\n",
       "        </td>\n",
       "</tr>\n",
       "</table>\n",
       "        </div>\n",
       "    </div>\n",
       "</div>\n",
       "</div><div class=\"row variablerow\">\n",
       "    <div class=\"col-md-3 namecol\">\n",
       "        <p class=\"h4 pp-anchor\" id=\"pp_var_f1\">f1<br/>\n",
       "            <small>Numeric</small>\n",
       "        </p>\n",
       "    </div><div class=\"col-md-6\">\n",
       "    <div class=\"row\">\n",
       "        <div class=\"col-sm-6\">\n",
       "            <table class=\"stats \">\n",
       "                <tr>\n",
       "                    <th>Distinct count</th>\n",
       "                    <td>100000</td>\n",
       "                </tr>\n",
       "                <tr>\n",
       "                    <th>Unique (%)</th>\n",
       "                    <td>100.0%</td>\n",
       "                </tr>\n",
       "                <tr class=\"ignore\">\n",
       "                    <th>Missing (%)</th>\n",
       "                    <td>0.0%</td>\n",
       "                </tr>\n",
       "                <tr class=\"ignore\">\n",
       "                    <th>Missing (n)</th>\n",
       "                    <td>0</td>\n",
       "                </tr>\n",
       "                <tr class=\"ignore\">\n",
       "                    <th>Infinite (%)</th>\n",
       "                    <td>0.0%</td>\n",
       "                </tr>\n",
       "                <tr class=\"ignore\">\n",
       "                    <th>Infinite (n)</th>\n",
       "                    <td>0</td>\n",
       "                </tr>\n",
       "            </table>\n",
       "\n",
       "        </div>\n",
       "        <div class=\"col-sm-6\">\n",
       "            <table class=\"stats \">\n",
       "\n",
       "                <tr>\n",
       "                    <th>Mean</th>\n",
       "                    <td>0.25014</td>\n",
       "                </tr>\n",
       "                <tr>\n",
       "                    <th>Minimum</th>\n",
       "                    <td>-0.84822</td>\n",
       "                </tr>\n",
       "                <tr>\n",
       "                    <th>Maximum</th>\n",
       "                    <td>1.3438</td>\n",
       "                </tr>\n",
       "                <tr class=\"ignore\">\n",
       "                    <th>Zeros (%)</th>\n",
       "                    <td>0.0%</td>\n",
       "                </tr>\n",
       "            </table>\n",
       "        </div>\n",
       "    </div>\n",
       "</div>\n",
       "<div class=\"col-md-3 collapse in\" id=\"minihistogram8450090846316168584\">\n",
       "    <img src=\"data:image/png;base64,iVBORw0KGgoAAAANSUhEUgAAAMgAAABLCAYAAAA1fMjoAAAAOXRFWHRTb2Z0d2FyZQBNYXRwbG90bGliIHZlcnNpb24zLjUuMSwgaHR0cHM6Ly9tYXRwbG90bGliLm9yZy/YYfK9AAAACXBIWXMAAA9hAAAPYQGoP6dpAAABLUlEQVR4nO3dwWnDQBBAUdm4pBSRnnx2TynCPW2uMZgPCggt3vfughXoMyNddBljjA1463r2AWBmt7MPwKuv%2B8/ua56P7wNOwrYJ5FD/ediZixULwrITZOVVZuV738sEgSAQCAKBIBAIH/GS7nPq8VZ9sTdBIAgEwkesWKuzYh5HIDt4ENdjxYIgEAgCgSAQCAKBIBAIAoEgEAgCgSAQCAKBIBAIAoEgEAgCgSAQCAKBIBAIAoEgEAgCgSAQCAKBIBAIAoEgEAgCgSAQCAKBIBAIAoFwGWOMsw/xl39wrG22/xqaIBAEAmG6FQtmYoJAEAgEgUAQCASBQBAIBIFAEAgEgUAQCASBQBAIBIFAEAgEgUAQCASBQBAIBIFAEAgEgUAQCASBQBAIBIFA%2BAXjFCEwOtyrmgAAAABJRU5ErkJggg%3D%3D\">\n",
       "\n",
       "</div>\n",
       "<div class=\"col-md-12 text-right\">\n",
       "    <a role=\"button\" data-toggle=\"collapse\" data-target=\"#descriptives8450090846316168584,#minihistogram8450090846316168584\"\n",
       "       aria-expanded=\"false\" aria-controls=\"collapseExample\">\n",
       "        Toggle details\n",
       "    </a>\n",
       "</div>\n",
       "<div class=\"row collapse col-md-12\" id=\"descriptives8450090846316168584\">\n",
       "    <ul class=\"nav nav-tabs\" role=\"tablist\">\n",
       "        <li role=\"presentation\" class=\"active\"><a href=\"#quantiles8450090846316168584\"\n",
       "                                                  aria-controls=\"quantiles8450090846316168584\" role=\"tab\"\n",
       "                                                  data-toggle=\"tab\">Statistics</a></li>\n",
       "        <li role=\"presentation\"><a href=\"#histogram8450090846316168584\" aria-controls=\"histogram8450090846316168584\"\n",
       "                                   role=\"tab\" data-toggle=\"tab\">Histogram</a></li>\n",
       "        <li role=\"presentation\"><a href=\"#common8450090846316168584\" aria-controls=\"common8450090846316168584\"\n",
       "                                   role=\"tab\" data-toggle=\"tab\">Common Values</a></li>\n",
       "        <li role=\"presentation\"><a href=\"#extreme8450090846316168584\" aria-controls=\"extreme8450090846316168584\"\n",
       "                                   role=\"tab\" data-toggle=\"tab\">Extreme Values</a></li>\n",
       "\n",
       "    </ul>\n",
       "\n",
       "    <div class=\"tab-content\">\n",
       "        <div role=\"tabpanel\" class=\"tab-pane active row\" id=\"quantiles8450090846316168584\">\n",
       "            <div class=\"col-md-4 col-md-offset-1\">\n",
       "                <p class=\"h4\">Quantile statistics</p>\n",
       "                <table class=\"stats indent\">\n",
       "                    <tr>\n",
       "                        <th>Minimum</th>\n",
       "                        <td>-0.84822</td>\n",
       "                    </tr>\n",
       "                    <tr>\n",
       "                        <th>5-th percentile</th>\n",
       "                        <td>-0.51466</td>\n",
       "                    </tr>\n",
       "                    <tr>\n",
       "                        <th>Q1</th>\n",
       "                        <td>-0.20088</td>\n",
       "                    </tr>\n",
       "                    <tr>\n",
       "                        <th>Median</th>\n",
       "                        <td>0.25025</td>\n",
       "                    </tr>\n",
       "                    <tr>\n",
       "                        <th>Q3</th>\n",
       "                        <td>0.70065</td>\n",
       "                    </tr>\n",
       "                    <tr>\n",
       "                        <th>95-th percentile</th>\n",
       "                        <td>1.0155</td>\n",
       "                    </tr>\n",
       "                    <tr>\n",
       "                        <th>Maximum</th>\n",
       "                        <td>1.3438</td>\n",
       "                    </tr>\n",
       "                    <tr>\n",
       "                        <th>Range</th>\n",
       "                        <td>2.192</td>\n",
       "                    </tr>\n",
       "                    <tr>\n",
       "                        <th>Interquartile range</th>\n",
       "                        <td>0.90153</td>\n",
       "                    </tr>\n",
       "                </table>\n",
       "            </div>\n",
       "            <div class=\"col-md-4 col-md-offset-2\">\n",
       "                <p class=\"h4\">Descriptive statistics</p>\n",
       "                <table class=\"stats indent\">\n",
       "                    <tr>\n",
       "                        <th>Standard deviation</th>\n",
       "                        <td>0.50443</td>\n",
       "                    </tr>\n",
       "                    <tr>\n",
       "                        <th>Coef of variation</th>\n",
       "                        <td>2.0166</td>\n",
       "                    </tr>\n",
       "                    <tr>\n",
       "                        <th>Kurtosis</th>\n",
       "                        <td>-1.1861</td>\n",
       "                    </tr>\n",
       "                    <tr>\n",
       "                        <th>Mean</th>\n",
       "                        <td>0.25014</td>\n",
       "                    </tr>\n",
       "                    <tr>\n",
       "                        <th>MAD</th>\n",
       "                        <td>0.43333</td>\n",
       "                    </tr>\n",
       "                    <tr class=\"\">\n",
       "                        <th>Skewness</th>\n",
       "                        <td>0.00071661</td>\n",
       "                    </tr>\n",
       "                    <tr>\n",
       "                        <th>Sum</th>\n",
       "                        <td>25014</td>\n",
       "                    </tr>\n",
       "                    <tr>\n",
       "                        <th>Variance</th>\n",
       "                        <td>0.25445</td>\n",
       "                    </tr>\n",
       "                    <tr>\n",
       "                        <th>Memory size</th>\n",
       "                        <td>781.4 KiB</td>\n",
       "                    </tr>\n",
       "                </table>\n",
       "            </div>\n",
       "        </div>\n",
       "        <div role=\"tabpanel\" class=\"tab-pane col-md-8 col-md-offset-2\" id=\"histogram8450090846316168584\">\n",
       "            <img src=\"data:image/png;base64,iVBORw0KGgoAAAANSUhEUgAAAlgAAAGQCAYAAAByNR6YAAAAOXRFWHRTb2Z0d2FyZQBNYXRwbG90bGliIHZlcnNpb24zLjUuMSwgaHR0cHM6Ly9tYXRwbG90bGliLm9yZy/YYfK9AAAACXBIWXMAAA9hAAAPYQGoP6dpAAAyy0lEQVR4nO3dfXRU1b3/8U%2BSMYkQ8gQkeCklFBDzZCoWY4NNSFDBB0CRp3gtplcUJBoTwKWICHipTwRDDVwg9oLSsnQuwYtApbAoD0WgXdfeSicDSIl4tSwgI8xAEhIgyfz%2B4Me006AkspOZCe/XWizN3uec/d3ZGebDOSdngtxut1sAAAAwJtjXBQAAAHQ0BCwAAADDCFgAAACGEbAAAAAMI2ABAAAYRsACAAAwjIAFAABgGAELAADAMAIWAACAYQQsAAAAwwhYAAAAhhGwAAAADCNgAQAAGEbAAgAAMIyABQAAYBgBCwAAwDACFgAAgGEELAAAAMMIWAAAAIYRsAAAAAwjYAEAABhGwAIAADCMgAUAAGAYAQsAAMAwAhYAAIBhBCwAAADDCFgAAACGEbAAAAAMI2ABAAAYRsACAAAwjIAFAABgGAELAADAMAIWAACAYQQsAAAAwwhYAAAAhhGwAAAADCNgAQAAGEbAAgAAMIyABQAAYJjF1wVcKxyOal%2BXcE0IDg5SbGxnnTpVq6Ymt6/LueaxHv6DtfAvrEf76d69i0/G5QwWOpTg4CAFBQUpODjI16VArIc/YS38C%2BvR8RGwAAAADCNgAQAAGEbAAgAAMIyABQAAYBgBCwAAwDACFgAAgGF%2BHbB27dqljIwMFRUVfeM2tbW1GjJkiJ5//nlPW1NTk0pKSjR06FANGjRIjz32mL766itPv8vlUmFhoTIyMnTHHXdo1qxZqq%2Bv9/QfOHBAjzzyiG699VbdfffdWrFiRdtMEAAAdEh%2BG7DefvttzZ8/X7179/7W7UpLS1VTU%2BPVtnr1am3YsEFlZWXavn27EhISlJ%2BfL7f74sPcZs%2Berbq6Om3cuFFr165VZWWliouLJUn19fWaPHmybr/9du3atUslJSVavny5tmzZ0jYTBQAAHY7fBqywsDCVl5d/a8A6ePCgNm7cqAcffNCr3Wq1Ki8vT3379lVERISKiopUWVmpffv26euvv9bWrVtVVFSk2NhYxcfHa%2BrUqVq7dq0uXLigHTt26MKFC3ryySfVqVMnJScna%2BzYsbJarW09ZQAA0EH4bcCaOHGiunT55sfbu91uzZ07V0VFRYqMjPS019fX6/Dhw0pKSvK0RUREqHfv3rLZbDpw4IBCQkI0YMAAT39ycrLOnj2rzz//XHa7XQMGDFBISIinPykpSRUVFYZnCAAAOqqA/SxCq9WqoKAgjR49WosXL/a0nz59Wm63W1FRUV7bR0VFyel0Kjo6WhEREQoKCvLqkySn0ymXy%2BUV2CQpOjpaLpdLTU1NCg6%2BciatqqqSw%2BHwarNYOikuLq7V80TrhIQEe/0XvsV6%2BA/Wwr%2BwHh1fQAaskydP6he/%2BIXeeecdr6D0jy7db9Xavm/yTeNcjtVq9Qp9kpSfn6%2BCgoJWj4vvJjLyel%2BXgH/AevgP1sK/sB4dV0AGrNdee00PPPCA12W%2BS6KjoxUcHCyXy%2BXV7nK51LVrV8XGxqqmpkaNjY2ey4CXtr3U/8UXXzTb99JxW2L8%2BPHKycnxarNYOsnprG3ZBPGdhYQEKzLyep05U6fGxiZfl3PNYz38B2vhX1iP9hMT09kn4wZkwFq/fr0iIyP1wQcfSLp431VTU5O2b9%2BuP/7xj%2Brfv7/sdrtuu%2B02SdKZM2f05Zdf6uabb1bPnj3ldrt18OBBJScnS5JsNpsiIyPVp08fpaSk6L333lNDQ4MsFounPy0trcX1xcXFNbsc6HBUq6GBF1F7aWxs4vvtRwJ9Pe5ZtNvXJbTKpsLB39gX6GvR0bAeHVdABqydO3d6fb1y5UodP35cM2fOlCTl5uaqrKxMmZmZio%2BPV3FxsRITE5WamipJGjZsmBYtWqTXX39d58%2Bf15IlSzRmzBhZLBZlZWUpIiJCS5cu1aRJk3To0CGVl5drwYIF7T5PAAAQmPw2YF0KQw0NDZKkrVu3Srp4NqlHjx5e20ZEROj666/3tE%2BYMEEOh0M//elPVVtbq/T0dK97ol5%2B%2BWXNmTNHQ4cO1XXXXaf777/f8zDT0NBQLVu2THPmzFFZWZm6deumoqIiDRkypK2nDFwzAu2MEAC0VpD7u9zxjVZzOKp9XcI1wWIJVkxMZzmdtZx29wPftB4ErLZ1uUuEvDb8C%2BvRfrp3/%2BZHPrUlfj8UAADAMAIWAACAYQQsAAAAwwhYAAAAhhGwAAAADCNgAQAAGEbAAgAAMIyABQAAYBgBCwAAwDACFgAAgGEELAAAAMMIWAAAAIYRsAAAAAwjYAEAABhm8XUBgL%2B6Z9FuX5fQKpsKB/u6BADA/8cZLAAAAMM4gwUA8BnOFKOj4gwWAACAYQQsAAAAwwhYAAAAhhGwAAAADCNgAQAAGEbAAgAAMIyABQAAYBgBCwAAwDACFgAAgGEELAAAAMMIWAAAAIYRsAAAAAwjYAEAABhGwAIAADCMgAUAAGAYAQsAAMAwvw5Yu3btUkZGhoqKipr1bdmyRSNHjtQtt9yiYcOG6b/%2B67%2B8%2BletWqVhw4Zp4MCBys3NVUVFhafv3Llzeumll5SZman09HQVFBTI6XR6%2Bo8ePaonnnhC6enpys7O1oIFC9TU1NR2EwUAAB2K3wast99%2BW/Pnz1fv3r2b9f3lL3/RjBkzVFBQoP/5n//RCy%2B8oJdfflmffPKJJGnbtm0qLS3VG2%2B8oT179ig7O1tTpkzR2bNnJUklJSWy2%2B2yWq3avHmz3G63Zs6c6Tn%2B008/rfj4eG3dulUrV67U1q1b9e6777bPxAEAQMDz24AVFham8vLyywYsl8ulyZMn684775TFYlFWVpZuvPFGT8CyWq0aPXq00tLSFB4erkmTJkmStm/froaGBpWXl2vq1Km64YYbFB0drcLCQu3YsUMnTpyQzWbTwYMHNWPGDHXp0kUJCQnKy8uT1Wpt1/kDAIDAZfF1Ad9k4sSJ39iXmZmpzMxMz9cNDQ1yOByKj4%2BXJNntdt17772e/uDgYCUmJspmsykxMVHV1dVKTk729Pft21fh4eGy2%2B2qqqpSz549FRUV5elPTk7WkSNHVFNTo4iICJPTBAAAHZDfBqzWKC4uVqdOnTyhyuVyeQUkSYqKipLT6ZTL5ZIkRUZGevVHRkZ6%2Bv%2B579KxnE5niwJWVVWVHA6HV5vF0klxcXGtmhdaLyQk2Ou/1xKLxf/mfC2vhy9d7meBtTDD1OuM9ej4Ajpgud1uFRcXa%2BPGjVq1apXCwsK8%2Bq6073fpawmr1arFixd7teXn56ugoOCqjouWi4y83tcltLuYmM6%2BLuEbXYvr4Uvf9rPAWlwd068z1qPjCtiA1dTUpJkzZ%2Bovf/mL3nvvPfXq1cvTFxMT4zlTdYnL5VL//v0VGxvr%2Bbpz57%2B/UE6fPq2uXbuqsbHxsvsGBQV59r2S8ePHKycnx6vNYukkp7O2FTPEdxESEqzIyOt15kydGhuvrd/89Mefr2t5PXzpcj8LrIUZpl5nrEf78dU/PgM2YL3yyiv661//qvfee0/R0dFefSkpKbLb7XrwwQclSY2Njdq/f7/GjBmjXr16KSoqSna7XT179pQkHTp0SOfPn1dKSoqqqqp07NgxnTp1yhOobDab%2BvXr5xXIvk1cXFyzy4EOR7UaGngRtZfGxqZr7vvtz/O9FtfDl77te81aXB3T3zvWo%2BMKyIu/f/rTn7R%2B/XqVlZU1C1eSlJubq3Xr1unTTz9VXV2dli5dqtDQUA0ZMkQhISEaN26cli1bpmPHjsnpdOrNN9/UXXfdpW7duikpKUmpqalauHChampqVFlZqZUrVyo3N7f9JwoAAAKS357BSk1NlXTxNwQlaevWrZIunk1au3atqqurlZ2d7bXPoEGDtGLFCmVmZmratGkqLCzUyZMnlZqaqrKyMoWHh0uSCgoKVFtbq1GjRqmhoUHZ2dmaO3eu5zhvvfWWZs%2BercGDBysiIkITJkzQww8/3A6zBgAAHUGQ%2B2rv6EaLOBzVvi7hmmCxBCsmprOcztqrPu1%2Bz6LdhqpqH5sKB/u6hGa%2BaT0C7XsbaC73s2DytWFSoP0smHqd%2Bet6dETdu3fxybh%2BewYLAAB/c60GQrReQN6DBQAA4M8IWAAAAIYRsAAAAAzjHiy0m0C7dwEAgO%2BKM1gAAACGEbAAAAAMI2ABAAAYRsACAAAwjIAFAABgGAELAADAMAIWAACAYQQsAAAAwwhYAAAAhhGwAAAADCNgAQAAGEbAAgAAMIyABQAAYBgBCwAAwDACFgAAgGEELAAAAMMIWAAAAIYRsAAAAAyz%2BLoAAIBZ9yza7esSgGseZ7AAAAAMI2ABAAAYxiVCoIPgshAA%2BA/OYAEAABhGwAIAADCMgAUAAGAYAQsAAMAwAhYAAIBhBCwAAADD/Dpg7dq1SxkZGSoqKmrW99FHH2nEiBG65ZZbNHr0aH388ceevqamJpWUlGjo0KEaNGiQHnvsMX311VeefpfLpcLCQmVkZOiOO%2B7QrFmzVF9f7%2Bk/cOCAHnnkEd166626%2B%2B67tWLFiradKAAA6FD8NmC9/fbbmj9/vnr37t2s78CBA3ruuec0Y8YM/eEPf1BeXp6eeuopHT9%2BXJK0evVqbdiwQWVlZdq%2BfbsSEhKUn58vt9stSZo9e7bq6uq0ceNGrV27VpWVlSouLpYk1dfXa/Lkybr99tu1a9culZSUaPny5dqyZUv7TR4AAAQ0vw1YYWFhKi8vv2zAWrNmjbKyspSVlaWwsDCNHDlSN954o9avXy9JslqtysvLU9%2B%2BfRUREaGioiJVVlZq3759%2Bvrrr7V161YVFRUpNjZW8fHxmjp1qtauXasLFy5ox44dunDhgp588kl16tRJycnJGjt2rKxWa3t/CwAAQIDy2ye5T5w48Rv77Ha7srKyvNqSkpJks9lUX1%2Bvw4cPKykpydMXERGh3r17y2azqbq6WiEhIRowYICnPzk5WWfPntXnn38uu92uAQMGKCQkxOvYa9asaXHtVVVVcjgcXm0WSyfFxcW1%2BBgAAFwti8Vvz6N0eH4bsL6Ny%2BVSVFSUV1tUVJQOHz6s06dPy%2B12X7bf6XQqOjpaERERCgoK8uqTJKfTKZfLpcjISK99o6Oj5XK51NTUpODgK/%2BwWq1WLV682KstPz9fBQUFrZonAABXIyams69LuGYFZMCS5Lmf6rv0X2nfy/nHQHYl48ePV05OjlebxdJJTmdtq8cFAOC74n3HdyEzIANWTEyMXC6XV5vL5VJsbKyio6MVHBx82f6uXbsqNjZWNTU1amxs9FwGvLTtpf4vvvii2b6XjtsScXFxzS4HOhzVamhoavEcAQC4Wrzv%2BE5AXpxNSUlRRUWFV5vNZlNaWprCwsLUv39/2e12T9%2BZM2f05Zdf6uabb1ZiYqLcbrcOHjzotW9kZKT69OmjlJQUffbZZ2poaGh2bAAAgJYIyIA1btw47dmzRzt27NC5c%2BdUXl6uL774QiNHjpQk5ebmatWqVaqsrFRNTY2Ki4uVmJio1NRUxcbGatiwYVq0aJFOnTql48ePa8mSJRozZowsFouysrIUERGhpUuXqq6uTvv27VN5eblyc3N9PGsAABAogtzf5YakdpCamipJnjNJFsvFq5k2m02StGXLFi1cuFBHjx5Vv379NGvWLA0aNEjSxXusSktL9f7776u2tlbp6el6%2BeWX1aNHD0lSdXW15syZo%2B3bt%2Bu6667T/fffr%2Beff16hoaGSpEOHDmnOnDmqqKhQt27d9Pjjj%2Bvhhx%2B%2Bqvk4HNVXtX9HcM%2Bi3b4uAQCuKZsKB/u6BJ/r3r2LT8b124DV0RCwCFgA0N4IWL4LWAF5iRAAAMCfEbAAAAAMI2ABAAAYRsACAAAwjIAFAABgGAELAADAMAIWAACAYQQsAAAAwwhYAAAAhhGwAAAADCNgAQAAGEbAAgAAMIyABQAAYBgBCwAAwDACFgAAgGEELAAAAMMIWAAAAIYRsAAAAAwjYAEAABhGwAIAADDMeMDKycnR4sWLdezYMdOHBgAACAjGA9ZDDz2kjz76SHfeeacmTZqkLVu2qKGhwfQwAAAAfivI7Xa72%2BLAdrtdGzdu1KZNm3ThwgU98MADGjNmjPr06dMWw/k9h6Pa1yX43D2Ldvu6BAC4pmwqHOzrEnyue/cuPhm3zQLWJW63Wx999JHmzp2rmpoaZWRk6JlnntHNN9/clsP6HQIWAQsA2hsBy3cBq81ucr9w4YI%2B%2BugjPf7443ruuecUHx%2BvmTNnKjExUXl5edqwYUNbDQ0AAOBTFtMHrKysVHl5udatW6fa2loNGzZM7777rm699VbPNoMGDdLcuXM1YsQI08MDAAD4nPGAdd9996lPnz6aPHmyHnjgAUVHRzfbJisrS6dOnTI9NAAAgF8wHrBWrVql22677Yrb7du3z/TQAAAAfsH4PVgDBgzQlClTtHXrVk/bO%2B%2B8o8cff1wul8v0cAAAAH7HeMB69dVXVV1drX79%2BnnahgwZoqamJr322mumhwMAAPA7xi8Rfvzxx9qwYYNiYmI8bQkJCSouLtb9999vejgAAAC/Y/wMVn19vcLCwpoPFBysuro608MBAAD4HeMBa9CgQXrttdd0%2BvRpT9uJEyc0b948r0c1AAAAdFTGA9YLL7ygvXv36sc//rFuu%2B02/ehHP9KQIUNUUVGh%2BfPnGxtn//79mjhxon70ox9p8ODBmjFjhufRD3v37tWYMWM0cOBA3XfffVq/fr3XvqtWrdKwYcM0cOBA5ebmqqKiwtN37tw5vfTSS8rMzFR6eroKCgrkdDqN1Q0AADo%2B4wGrV69e%2Bs1vfqO33npLU6ZM0VNPPaVly5Zp06ZNio%2BPNzJGQ0ODnnjiCf3whz/Unj17tHHjRp06dUpz585VVVWVpk6dqgkTJmjv3r2aNWuWZs%2BeLZvNJknatm2bSktL9cYbb2jPnj3Kzs7WlClTdPbsWUlSSUmJ7Ha7rFarNm/eLLfbrZkzZxqpGwAAXBva5KNyQkNDdeedd%2Brf/u3flJeXp6ysLIWEhBg7vsPhkMPh0KhRoxQaGqqYmBjdddddOnDggDZs2KCEhASNGTNGYWFhysjIUE5OjtasWSNJslqtGj16tNLS0hQeHq5JkyZJkrZv366GhgaVl5dr6tSpuuGGGxQdHa3CwkLt2LFDJ06cMFY/AADo2Iz/FuFXX32lhQsX6q9//avq6%2Bub9f/ud7%2B76jHi4%2BOVmJgoq9WqZ555RvX19dqyZYuGDBkiu92upKQkr%2B2TkpK0adMmSZLdbte9997r6QsODlZiYqJsNpsSExNVXV2t5ORkT3/fvn0VHh4uu93e4jNwVVVVcjgcXm0WSyfFxcV91ykDANBqFkubfeQwrsB4wHrhhRdUVVWlO%2B64Q506dTJ9eEkXQ1Fpaany8vL07rvvSpJuu%2B02TZ8%2BXVOnTm0WhKKjoz33UblcLkVFRXn1R0VFyel0eh6EGhkZ6dUfGRnZqvuwrFarFi9e7NWWn5%2BvgoKCFh8DAICrFRPT2dclXLOMB6yKigr97ne/U2xsrOlDe5w/f15TpkzR8OHDPfdPzZs3TzNmzGjR/m63%2B6r6r2T8%2BPHKycnxarNYOsnprL2q4wIA0Bq87/guZBoPWF27dm2zM1eX7N27V3/72980bdo0hYSEqEuXLiooKNCoUaP0k5/8pNlH8jidTk/gi4mJadbvcrnUv39/zzYul0udO/99QU6fPq2uXbu2uL64uLhmlwMdjmo1NDS1YpYAAFwd3nd8x/jF2cmTJ2vx4sVXfRbo2zQ2NqqpqclrjPPnz0uSMjIyvB67IF08q5aWliZJSklJkd1u9zrW/v37lZaWpl69eikqKsqr/9ChQzp//rxSUlLabD4AAKBjMR6wfv/73%2Bu///u/NXjwYI0bN04TJkzw%2BmPCLbfcok6dOqm0tFR1dXVyOp1aunSpBg0apFGjRuno0aNas2aNzp07p507d2rnzp0aN26cJCk3N1fr1q3Tp59%2Bqrq6Oi1dulShoaEaMmSIQkJCNG7cOC1btkzHjh2T0%2BnUm2%2B%2BqbvuukvdunUzUjsAAOj4jF8ijIiIUGZmpunDeomJidF//ud/6vXXX1dmZqZCQ0N12223ae7cueratauWL1%2Bu%2BfPna968eerZs6cWLFigm266SZKUmZmpadOmqbCwUCdPnlRqaqrKysoUHh4uSSooKFBtba1GjRqlhoYGZWdna%2B7cuW06HwAA0LEEudvyWh48HI5qX5fgc/cs2u3rEgDgmrKpcLCvS/C57t27%2BGTcNnlAxueff67S0lKvJ6D/%2Bc9/bouhAAAA/I7xgLV3716NHDlSW7Zs0caNGyVdfPjoxIkTjTxkFAAAwN8ZD1glJSV69tlntWHDBgUFBUm6%2BPmEr732mpYsWWJ6OAAAAL9jPGAdOnRIubm5kuQJWJI0fPhwVVZWmh4OAADA7xgPWF26dLnsZxBWVVUpNDTU9HAAAAB%2Bx3jAGjhwoF555RXV1NR42o4cOaLnnntOP/7xj00PBwAA4HeMPwdr5syZevTRR5Wenq7GxkYNHDhQdXV16t%2B/v1577TXTwwEAAPgd4wGrR48e2rhxo3bu3KkjR44oPDxcffr00eDBg73uyQIAAOiojAcsSbruuut05513tsWhAQAA/J7xgJWTk/OtZ6p4FhYAAOjojAese%2B%2B91ytgNTY26siRI7LZbHr00UdNDwcAAOB3jAesGTNmXLZ98%2BbN%2BuMf/2h6OAAAAL/TJp9FeDl33nmnfvOb37TXcAAAAD7TbgFr//79crvd7TUcAACAzxi/RDhhwoRmbXV1daqsrNTdd99tejgAAAC/YzxgJSQkNPstwrCwMI0ZM0Zjx441PRwAAIDfMR6weFo7AAC41hkPWOvWrWvxtg888IDp4QEAAHzOeMCaNWuWmpqamt3QHhQU5NUWFBREwAIAAB2S8YD1y1/%2BUitWrNCUKVM0YMAAud1uffbZZ3r77bf1yCOPKD093fSQAAAAfqVN7sEqKytTfHy8p%2B1HP/qRevXqpccee0wbN240PSQAAIBfMf4crC%2B%2B%2BEJRUVHN2iMjI3X06FHTwwEAAPgd4wGrZ8%2Beeu211%2BR0Oj1tZ86c0cKFC/X973/f9HAAAAB%2Bx/glwhdeeEHTp0%2BX1WpV586dFRwcrJqaGoWHh2vJkiWmhwMAAPA7xgPWHXfcoR07dmjnzp06fvy43G634uPj9ZOf/ERdunQxPRwAAIDfMR6wJOn666/X0KFDdfz4cfXq1asthgAAAPBbxu/Bqq%2Bv13PPPadbbrlF99xzj6SL92BNmjRJZ86cMT0cAACA3zEesBYsWKADBw6ouLhYwcF/P3xjY6OKi4tNDwcAAOB3jAeszZs366233tLw4cM9H/ocGRmpV199VVu2bDE9HAAAgN8xHrBqa2uVkJDQrD02NlZnz541PRwAAIDfMR6wvv/97%2BuPf/yjJHl99uBvf/tb/cu//Ivp4QAAAPyO8d8ifPjhh/X000/roYceUlNTk1auXKmKigpt3rxZs2bNMj0cAACA3zEesMaPHy%2BLxaJf//rXCgkJ0bJly9SnTx8VFxdr%2BPDhpocDAADwO8YD1qlTp/TQQw/poYceMn3oZpYuXarVq1erpqZGP/zhDzV//nx973vf0969e7Vw4UJ9/vnnuuGGGzR58mSNHDnSs9%2BqVau0evVqORwODRgwQLNmzVJKSook6dy5c/r5z3%2BuHTt26Ny5c0pPT9e8efMUExPT5vMBAAAdg/F7sIYOHep171VbWb16tdavX69Vq1bp448/Vr9%2B/fTOO%2B%2BoqqpKU6dO1YQJE7R3717NmjVLs2fPls1mkyRt27ZNpaWleuONN7Rnzx5lZ2drypQpnhvwS0pKZLfbZbVatXnzZrndbs2cObPN5wMAADoO4wErPT1dmzZtMn3YZlasWKGioiL94Ac/UEREhF588UW9%2BOKL2rBhgxISEjRmzBiFhYUpIyNDOTk5WrNmjSTJarVq9OjRSktLU3h4uCZNmiRJ2r59uxoaGlReXq6pU6fqhhtuUHR0tAoLC7Vjxw6dOHGizecEAAA6BuOXCG%2B44Qb9/Oc/V1lZmb7//e/ruuuu8%2BpfuHDhVY9x4sQJ/e1vf9Pp06d177336uTJk0pPT9fcuXNlt9uVlJTktX1SUpIn9Nntdt17772evuDgYCUmJspmsykxMVHV1dVKTk729Pft21fh4eGy2%2B2Kj49vUX1VVVVyOBxebRZLJ8XFxX3XKQMA0GoWi/HzKGgh4wHr8OHD%2BsEPfiBJcjqdpg8vSTp%2B/Liki49%2BWLlypdxutwoKCvTiiy%2Bqvr6%2BWRCKjo721OJyuRQVFeXVHxUVJafTKZfLJenig1H/UWRkZKvmYrVatXjxYq%2B2/Px8FRQUtPgYAABcrZiYzr4u4ZplLGAVFRWppKREv/rVrzxtS5YsUX5%2BvqkhPC7d4zVp0iRPmHr66af1%2BOOPKyMjo8X7f9f%2BKxk/frxycnK82iyWTnI6a6/quAAAtAbvO74LmcYC1rZt25q1lZWVtUnA6tatmyTvM009e/aU2%2B3WhQsXPGeiLnE6nYqNjZUkxcTENOt3uVzq37%2B/ZxuXy6XOnf%2B%2BIKdPn1bXrl1bXF9cXFyzy4EOR7UaGppafAwAAK4W7zu%2BY%2Bzi7OXO%2BrTVbxP26NFDEREROnDggKft6NGjuu6665SVlaWKigqv7SsqKpSWliZJSklJkd1u9/Q1NjZq//79SktLU69evRQVFeXVf%2BjQIZ0/f97zGAcAAIArMRawLn2w85XaTLBYLBozZoyWLVum//u//9PJkye1ZMkSjRgxQg8%2B%2BKCOHj2qNWvW6Ny5c9q5c6d27typcePGSZJyc3O1bt06ffrpp6qrq9PSpUsVGhqqIUOGKCQkROPGjdOyZct07NgxOZ1Ovfnmm7rrrrs8Z80AAACuxPhN7u1l%2BvTpOn/%2BvMaOHasLFy5o2LBhevHFF9W5c2ctX75c8%2BfP17x589SzZ08tWLBAN910kyQpMzNT06ZNU2FhoU6ePKnU1FSVlZUpPDxcklRQUKDa2lqNGjVKDQ0Nys7O1ty5c304UwAAEGiC3Iau46WlpWnfvn1XbLtWORzVvi7B5%2B5ZtNvXJQDANWVT4WBfl%2BBz3bt38cm4xs5gXbhwQdOnT79im4nnYAEAAPgzYwHr1ltvVVVV1RXbAAAAOjpjAesfn38FAABwLeMZ%2BgAAAIYRsAAAAAwjYAEAABhGwAIAADCMgAUAAGAYAQsAAMAwAhYAAIBhBCwAAADDCFgAAACGEbAAAAAMI2ABAAAYRsACAAAwjIAFAABgGAELAADAMAIWAACAYQQsAAAAwwhYAAAAhhGwAAAADCNgAQAAGEbAAgAAMIyABQAAYBgBCwAAwDACFgAAgGEELAAAAMMIWAAAAIYRsAAAAAwjYAEAABhGwAIAADCMgAUAAGAYAQsAAMCwDhGwXnnlFQ0YMMDz9d69ezVmzBgNHDhQ9913n9avX%2B%2B1/apVqzRs2DANHDhQubm5qqio8PSdO3dOL730kjIzM5Wenq6CggI5nc52mwsAAAh8AR%2BwDhw4oA8//NDzdVVVlaZOnaoJEyZo7969mjVrlmbPni2bzSZJ2rZtm0pLS/XGG29oz549ys7O1pQpU3T27FlJUklJiex2u6xWqzZv3iy3262ZM2f6ZG4AACAwBXTAampq0pw5c5SXl%2Bdp27BhgxISEjRmzBiFhYUpIyNDOTk5WrNmjSTJarVq9OjRSktLU3h4uCZNmiRJ2r59uxoaGlReXq6pU6fqhhtuUHR0tAoLC7Vjxw6dOHHCF1MEAAAByOLrAq7G%2B%2B%2B/r7CwMI0YMUKLFi2SJNntdiUlJXltl5SUpE2bNnn67733Xk9fcHCwEhMTZbPZlJiYqOrqaiUnJ3v6%2B/btq/DwcNntdsXHx7eorqqqKjkcDq82i6WT4uLivss0AQD4TiyWgD6PEtACNmB9/fXXKi0t1a9%2B9SuvdpfL1SwIRUdHe%2B6jcrlcioqK8uqPioqS0%2BmUy%2BWSJEVGRnr1R0ZGtuo%2BLKvVqsWLF3u15efnq6CgoMXHAADgasXEdPZ1CdesgA1Yr776qkaPHq1%2B/frpb3/7W6v2dbvdV9V/JePHj1dOTo5Xm8XSSU5n7VUdFwCA1uB9x3chMyAD1t69e/XnP/9ZGzdubNYXExPjORN1idPpVGxs7Df2u1wu9e/f37ONy%2BVS585/X5DTp0%2Bra9euLa4vLi6u2eVAh6NaDQ1NLT4GAABXi/cd3wnIi7Pr16/XyZMnlZ2drfT0dI0ePVqSlJ6erhtvvNHrsQuSVFFRobS0NElSSkqK7Ha7p6%2BxsVH79%2B9XWlqaevXqpaioKK/%2BQ4cO6fz580pJSWmHmQEAgI4gIAPW888/r82bN%2BvDDz/Uhx9%2BqLKyMknShx9%2BqBEjRujo0aNas2aNzp07p507d2rnzp0aN26cJCk3N1fr1q3Tp59%2Bqrq6Oi1dulShoaEaMmSIQkJCNG7cOC1btkzHjh2T0%2BnUm2%2B%2BqbvuukvdunXz5ZQBAEAACchLhFFRUV43qjc0NEiSevToIUlavny55s%2Bfr3nz5qlnz55asGCBbrrpJklSZmampk2bpsLCQp08eVKpqakqKytTeHi4JKmgoEC1tbUaNWqUGhoalJ2drblz57bvBAEAQEALcl/tHd1oEYej2tcl%2BNw9i3b7ugQAuKZsKhzs6xJ8rnv3Lj4ZNyAvEQIAAPgzAhYAAIBhBCwAAADDCFgAAACGEbAAAAAMI2ABAAAYRsACAAAwjIAFAABgGAELAADAMAIWAACAYQQsAAAAwwhYAAAAhhGwAAAADCNgAQAAGEbAAgAAMIyABQAAYBgBCwAAwDACFgAAgGEELAAAAMMIWAAAAIYRsAAAAAwjYAEAABhGwAIAADCMgAUAAGAYAQsAAMAwAhYAAIBhBCwAAADDCFgAAACGEbAAAAAMI2ABAAAYRsACAAAwjIAFAABgGAELAADAsIANWEePHlV%2Bfr7S09OVkZGh559/XmfOnJEkHThwQI888ohuvfVW3X333VqxYoXXvh999JFGjBihW265RaNHj9bHH3/s6WtqalJJSYmGDh2qQYMG6bHHHtNXX33VrnMDAACBLWAD1pQpUxQZGalt27bpgw8%2B0F//%2Ble9/vrrqq%2Bv1%2BTJk3X77bdr165dKikp0fLly7VlyxZJF8PXc889pxkzZugPf/iD8vLy9NRTT%2Bn48eOSpNWrV2vDhg0qKyvT9u3blZCQoPz8fLndbl9OFwAABJCADFhnzpxRSkqKpk%2Bfrs6dO6tHjx568MEH9cknn2jHjh26cOGCnnzySXXq1EnJyckaO3asrFarJGnNmjXKyspSVlaWwsLCNHLkSN14441av369JMlqtSovL099%2B/ZVRESEioqKVFlZqX379vlyygAAIIBYfF3AdxEZGalXX33Vq%2B3YsWOKi4uT3W7XgAEDFBIS4ulLSkrSmjVrJEl2u11ZWVle%2ByYlJclms6m%2Bvl6HDx9WUlKSpy8iIkK9e/eWzWbTD3/4wxbVV1VVJYfD4dVmsXRSXFxca6YJAMBVsVgC8jxKhxCQAeuf2Ww2/frXv9bSpUu1adMmRUZGevVHR0fL5XKpqalJLpdLUVFRXv1RUVE6fPiwTp8%2BLbfbfdl%2Bp9PZ4nqsVqsWL17s1Zafn6%2BCgoJWzgwAgO8uJqazr0u4ZgV8wPrTn/6kJ598UtOnT1dGRoY2bdp02e2CgoI8/3%2Bl%2B6mu9n6r8ePHKycnx6vNYukkp7P2qo4LAEBr8L7ju5AZ0AFr27ZtevbZZzV79mw98MADkqTY2Fh98cUXXtu5XC5FR0crODhYMTExcrlczfpjY2M921yuv2vXri2uKy4urtnlQIejWg0NTS0%2BBgAAV4v3Hd8J2Iuz//u//6vnnntOv/jFLzzhSpJSUlL02WefqaGhwdNms9mUlpbm6a%2BoqPA61qX%2BsLAw9e/fX3a73dN35swZffnll7r55pvbdkIAAKDDCMiA1dDQoBdffFEzZszQHXfc4dWXlZWliIgILV26VHV1ddq3b5/Ky8uVm5srSRo3bpz27NmjHTt26Ny5cyovL9cXX3yhkSNHSpJyc3O1atUqVVZWqqamRsXFxUpMTFRqamq7zxMAAASmIHcAPuDpk08%2B0b/%2B678qNDS0Wd9vf/tb1dbWas6cOaqoqFC3bt30%2BOOP6%2BGHH/Zss2XLFi1cuFBHjx5Vv379NGvWLA0aNEjSxfuvSktL9f7776u2tlbp6el6%2BeWX1aNHj6uq2eGovqr9O4J7Fu32dQkAcE3ZVDjY1yX4XPfuXXwybkAGrEBEwCJgAUB7I2D5LmAF5CVCAAAAf0bAAgAAMIyABQAAYBgBCwAAwDACFgAAgGEELAAAAMMIWAAAAIYRsAAAAAwjYAEAABhGwAIAADCMgAUAAGAYAQsAAMAwAhYAAIBhBCwAAADDCFgAAACGEbAAAAAMs/i6AAAA0DbuWbTb1yW02KbCwb4uwSjOYAEAABjGGawAF0j/OgEA4FrBGSwAAADDCFgAAACGEbAAAAAMI2ABAAAYRsACAAAwjIAFAABgGAELAADAMAIWAACAYQQsAAAAwwhYAAAAhhGwAAAADCNgAQAAGEbAAgAAMIyABQAAYBgB6zKOHj2qJ554Qunp6crOztaCBQvU1NTk67IAAECAsPi6AH/09NNPKzk5WVu3btXJkyc1efJkdevWTT/72c98XRoAAAgAnMH6JzabTQcPHtSMGTPUpUsXJSQkKC8vT1ar1delAQCAAMEZrH9it9vVs2dPRUVFedqSk5N15MgR1dTUKCIi4orHqKqqksPh8GqzWDopLi7OeL0AAHQEFkvHOudDwPonLpdLkZGRXm2XwpbT6WxRwLJarVq8eLFX21NPPaWnn37aXKH/3yc/H278mIGsqqpKVqtV48ePJ9D6AdbDf7AW/oX16PgIWJfhdruvav/x48crJyfHq6179%2B5XdUy0jMPh0OLFi5WTk8NfWn6A9fAfrIV/YT06PgLWP4mNjZXL5fJqc7lcCgoKUmxsbIuOERcXxwsGAIBrWMe64GlASkqKjh07plOnTnnabDab%2BvXrp86dO/uwMgAAECgIWP8kKSlJqampWrhwoWpqalRZWamVK1cqNzfX16UBAIAAQcC6jLfeektVVVUaPHiwJk6cqAceeEAPP/ywr8tCC3Tv3l1PPfUU97z5CdbDf7AW/oX16PiC3Fd7RzcAAAC8cAYLAADAMAIWAACAYQQsAAAAwwhYAAAAhhGwAAAADCNgAQAAGEbAAgAAMIyABQAAYBgBCwAAwDACFgKay%2BVSYWGhMjIydMcdd2jWrFmqr6%2B/7LYffPCBbrrpJqWmpnr9%2Bctf/tLOVXcsR48e1RNPPKH09HRlZ2drwYIFampquuy2q1at0rBhwzRw4EDl5uaqoqKinavt2Fq6FqWlpUpMTGz2Wvj66699UHXHtWvXLmVkZKioqOhbt2tqalJJSYmGDh2qQYMG6bHHHtNXX33VTlWirRCwENBmz56turo6bdy4UWvXrlVlZaWKi4u/cftBgwbJZrN5/bn55pvbseKO5%2Bmnn1Z8fLy2bt2qlStXauvWrXr33Xebbbdt2zaVlpbqjTfe0J49e5Sdna0pU6bo7NmzPqi6Y2rpWkjSqFGjmr0WunXr1s4Vd1xvv/225s%2Bfr969e19x29WrV2vDhg0qKyvT9u3blZCQoPz8fPFJdoGNgIWA9fXXX2vr1q0qKipSbGys4uPjNXXqVK1du1YXLlzwdXnXBJvNpoMHD2rGjBnq0qWLEhISlJeXJ6vV2mxbq9Wq0aNHKy0tTeHh4Zo0aZIkafv27e1ddofUmrVA2wsLC1N5eXmLApbValVeXp769u2riIgIFRUVqbKyUvv27WuHStFWCFgIWAcOHFBISIgGDBjgaUtOTtbZs2f1%2BeefX3afY8eO6Wc/%2B5kGDRqkoUOH6sMPP2yvcjsku92unj17KioqytOWnJysI0eOqKamptm2SUlJnq%2BDg4OVmJgom83WbvV2ZK1ZC0n67LPPNGHCBA0cOFD33XefPv744/Yst8ObOHGiunTpcsXt6uvrdfjwYa/XRkREhHr37s1rI8ARsBCwXC6XIiIiFBQU5Gm79ObidDqbbR8bG6uEhAQ9%2B%2Byz2r17t6ZNm6YXXnhBe/fubbeaOxqXy6XIyEivtm9aA5fL5fXmf2nby60VWq81a9GjRw/16tVLr7/%2Bunbv3q2xY8dqypQp3/gPE7Sd06dPy%2B1289rogAhY8GsffvihBgwYcNk/R48ebdU9CkOGDNEvf/lLJSUlKTQ0VPfdd5/uuusuffDBB204g46vNWvAPSVtq6Xf37Fjx%2Bqtt95S7969df311ysvL0%2BJiYlav359G1eIb8Jro%2BOx%2BLoA4NuMGjVKo0aNumzf7t27VVNTo8bGRoWEhEi6%2BK94SeratWuLjt%2BzZ09%2Bk%2B0qxMbGer7nl7hcLgUFBSk2NtarPSYm5rLb9u/fv42rvDa0Zi0up2fPnqqqqmqj6vBNoqOjFRwcfNm1a%2BnfY/BPnMFCwEpMTJTb7dbBgwc9bTabTZGRkerTp0%2Bz7d977z199NFHXm2VlZXq1atXm9faUaWkpOjYsWM6deqUp81ms6lfv37q3Llzs23tdrvn68bGRu3fv19paWntVm9H1pq1%2BI//%2BI9ml8Z5LfhGWFiY%2Bvfv7/XaOHPmjL788kt%2BwznAEbAQsGJjYzVs2DAtWrRIp06d0vHjx7VkyRKNGTNGFsvFk7OPPvqoJ1SdP39e//7v/y6bzaYLFy5o48aN%2Bv3vf68JEyb4choBLSkpSampqVq4cKFqampUWVmplStXKjc3V5I0fPhwffLJJ5Kk3NxcrVu3Tp9%2B%2Bqnq6uq0dOlShYaGasiQIT6cQcfRmrVwuVyaN2%2BePv/8c507d04rVqzQl19%2BqQcffNCXU7hmnDhxQsOHD/c86yo3N1erVq1SZWWlampqVFxc7HlOGQIXlwgR0F5%2B%2BWXNmTNHQ4cO1XXXXaf777/f66F%2BX331lU6fPi3p4m/11NbW6plnnpHD4dD3vvc9LVmyRCkpKb4qv0N46623NHv2bA0ePFgRERGaMGGCHn74YUnSkSNHPM%2B5yszM1LRp01RYWKiTJ08qNTVVZWVlCg8P92X5HUpL12L69OmSpLy8PLlcLvXr10/vvPOOevTo4bPaO5pL4aihoUGStHXrVkny/APvyJEjOn/%2BvCRpwoQJcjgc%2BulPf6ra2lqlp6dr8eLFvikcxgS5ubMOAADAKC4RAgAAGEbAAgAAMIyABQAAYBgBCwAAwDACFgAAgGEELAAAAMMIWAAAAIYRsAAAAAwjYAEAABhGwAIAADCMgAUAAGAYAQsAAMAwAhYAAIBh/w/1EDvKSoCiFgAAAABJRU5ErkJggg%3D%3D\"/>\n",
       "        </div>\n",
       "        <div role=\"tabpanel\" class=\"tab-pane col-md-12\" id=\"common8450090846316168584\">\n",
       "            \n",
       "<table class=\"freq table table-hover\">\n",
       "    <thead>\n",
       "    <tr>\n",
       "        <td class=\"fillremaining\">Value</td>\n",
       "        <td class=\"number\">Count</td>\n",
       "        <td class=\"number\">Frequency (%)</td>\n",
       "        <td style=\"min-width:200px\">&nbsp;</td>\n",
       "    </tr>\n",
       "    </thead>\n",
       "    <tr class=\"\">\n",
       "        <td class=\"fillremaining\">0.6752821422735982</td>\n",
       "        <td class=\"number\">1</td>\n",
       "        <td class=\"number\">0.0%</td>\n",
       "        <td>\n",
       "            <div class=\"bar\" style=\"width:1%\">&nbsp;</div>\n",
       "        </td>\n",
       "</tr><tr class=\"\">\n",
       "        <td class=\"fillremaining\">0.2266508408221408</td>\n",
       "        <td class=\"number\">1</td>\n",
       "        <td class=\"number\">0.0%</td>\n",
       "        <td>\n",
       "            <div class=\"bar\" style=\"width:1%\">&nbsp;</div>\n",
       "        </td>\n",
       "</tr><tr class=\"\">\n",
       "        <td class=\"fillremaining\">0.8247330339002039</td>\n",
       "        <td class=\"number\">1</td>\n",
       "        <td class=\"number\">0.0%</td>\n",
       "        <td>\n",
       "            <div class=\"bar\" style=\"width:1%\">&nbsp;</div>\n",
       "        </td>\n",
       "</tr><tr class=\"\">\n",
       "        <td class=\"fillremaining\">0.1326905750475194</td>\n",
       "        <td class=\"number\">1</td>\n",
       "        <td class=\"number\">0.0%</td>\n",
       "        <td>\n",
       "            <div class=\"bar\" style=\"width:1%\">&nbsp;</div>\n",
       "        </td>\n",
       "</tr><tr class=\"\">\n",
       "        <td class=\"fillremaining\">0.5076650594095943</td>\n",
       "        <td class=\"number\">1</td>\n",
       "        <td class=\"number\">0.0%</td>\n",
       "        <td>\n",
       "            <div class=\"bar\" style=\"width:1%\">&nbsp;</div>\n",
       "        </td>\n",
       "</tr><tr class=\"\">\n",
       "        <td class=\"fillremaining\">0.8895386585760676</td>\n",
       "        <td class=\"number\">1</td>\n",
       "        <td class=\"number\">0.0%</td>\n",
       "        <td>\n",
       "            <div class=\"bar\" style=\"width:1%\">&nbsp;</div>\n",
       "        </td>\n",
       "</tr><tr class=\"\">\n",
       "        <td class=\"fillremaining\">0.046144323890112034</td>\n",
       "        <td class=\"number\">1</td>\n",
       "        <td class=\"number\">0.0%</td>\n",
       "        <td>\n",
       "            <div class=\"bar\" style=\"width:1%\">&nbsp;</div>\n",
       "        </td>\n",
       "</tr><tr class=\"\">\n",
       "        <td class=\"fillremaining\">1.0056691567989189</td>\n",
       "        <td class=\"number\">1</td>\n",
       "        <td class=\"number\">0.0%</td>\n",
       "        <td>\n",
       "            <div class=\"bar\" style=\"width:1%\">&nbsp;</div>\n",
       "        </td>\n",
       "</tr><tr class=\"\">\n",
       "        <td class=\"fillremaining\">0.3224997556652052</td>\n",
       "        <td class=\"number\">1</td>\n",
       "        <td class=\"number\">0.0%</td>\n",
       "        <td>\n",
       "            <div class=\"bar\" style=\"width:1%\">&nbsp;</div>\n",
       "        </td>\n",
       "</tr><tr class=\"\">\n",
       "        <td class=\"fillremaining\">0.6586655730615111</td>\n",
       "        <td class=\"number\">1</td>\n",
       "        <td class=\"number\">0.0%</td>\n",
       "        <td>\n",
       "            <div class=\"bar\" style=\"width:1%\">&nbsp;</div>\n",
       "        </td>\n",
       "</tr><tr class=\"other\">\n",
       "        <td class=\"fillremaining\">Other values (99990)</td>\n",
       "        <td class=\"number\">99990</td>\n",
       "        <td class=\"number\">100.0%</td>\n",
       "        <td>\n",
       "            <div class=\"bar\" style=\"width:100%\">&nbsp;</div>\n",
       "        </td>\n",
       "</tr>\n",
       "</table>\n",
       "        </div>\n",
       "        <div role=\"tabpanel\" class=\"tab-pane col-md-12\"  id=\"extreme8450090846316168584\">\n",
       "            <p class=\"h4\">Minimum 5 values</p>\n",
       "            \n",
       "<table class=\"freq table table-hover\">\n",
       "    <thead>\n",
       "    <tr>\n",
       "        <td class=\"fillremaining\">Value</td>\n",
       "        <td class=\"number\">Count</td>\n",
       "        <td class=\"number\">Frequency (%)</td>\n",
       "        <td style=\"min-width:200px\">&nbsp;</td>\n",
       "    </tr>\n",
       "    </thead>\n",
       "    <tr class=\"\">\n",
       "        <td class=\"fillremaining\">-0.8482184970082173</td>\n",
       "        <td class=\"number\">1</td>\n",
       "        <td class=\"number\">0.0%</td>\n",
       "        <td>\n",
       "            <div class=\"bar\" style=\"width:100%\">&nbsp;</div>\n",
       "        </td>\n",
       "</tr><tr class=\"\">\n",
       "        <td class=\"fillremaining\">-0.8449079224879839</td>\n",
       "        <td class=\"number\">1</td>\n",
       "        <td class=\"number\">0.0%</td>\n",
       "        <td>\n",
       "            <div class=\"bar\" style=\"width:100%\">&nbsp;</div>\n",
       "        </td>\n",
       "</tr><tr class=\"\">\n",
       "        <td class=\"fillremaining\">-0.8205608962625207</td>\n",
       "        <td class=\"number\">1</td>\n",
       "        <td class=\"number\">0.0%</td>\n",
       "        <td>\n",
       "            <div class=\"bar\" style=\"width:100%\">&nbsp;</div>\n",
       "        </td>\n",
       "</tr><tr class=\"\">\n",
       "        <td class=\"fillremaining\">-0.8179510294196833</td>\n",
       "        <td class=\"number\">1</td>\n",
       "        <td class=\"number\">0.0%</td>\n",
       "        <td>\n",
       "            <div class=\"bar\" style=\"width:100%\">&nbsp;</div>\n",
       "        </td>\n",
       "</tr><tr class=\"\">\n",
       "        <td class=\"fillremaining\">-0.8072153312637587</td>\n",
       "        <td class=\"number\">1</td>\n",
       "        <td class=\"number\">0.0%</td>\n",
       "        <td>\n",
       "            <div class=\"bar\" style=\"width:100%\">&nbsp;</div>\n",
       "        </td>\n",
       "</tr>\n",
       "</table>\n",
       "            <p class=\"h4\">Maximum 5 values</p>\n",
       "            \n",
       "<table class=\"freq table table-hover\">\n",
       "    <thead>\n",
       "    <tr>\n",
       "        <td class=\"fillremaining\">Value</td>\n",
       "        <td class=\"number\">Count</td>\n",
       "        <td class=\"number\">Frequency (%)</td>\n",
       "        <td style=\"min-width:200px\">&nbsp;</td>\n",
       "    </tr>\n",
       "    </thead>\n",
       "    <tr class=\"\">\n",
       "        <td class=\"fillremaining\">1.3129433547907046</td>\n",
       "        <td class=\"number\">1</td>\n",
       "        <td class=\"number\">0.0%</td>\n",
       "        <td>\n",
       "            <div class=\"bar\" style=\"width:100%\">&nbsp;</div>\n",
       "        </td>\n",
       "</tr><tr class=\"\">\n",
       "        <td class=\"fillremaining\">1.3312528581155687</td>\n",
       "        <td class=\"number\">1</td>\n",
       "        <td class=\"number\">0.0%</td>\n",
       "        <td>\n",
       "            <div class=\"bar\" style=\"width:100%\">&nbsp;</div>\n",
       "        </td>\n",
       "</tr><tr class=\"\">\n",
       "        <td class=\"fillremaining\">1.3333456053179722</td>\n",
       "        <td class=\"number\">1</td>\n",
       "        <td class=\"number\">0.0%</td>\n",
       "        <td>\n",
       "            <div class=\"bar\" style=\"width:100%\">&nbsp;</div>\n",
       "        </td>\n",
       "</tr><tr class=\"\">\n",
       "        <td class=\"fillremaining\">1.3348276216963582</td>\n",
       "        <td class=\"number\">1</td>\n",
       "        <td class=\"number\">0.0%</td>\n",
       "        <td>\n",
       "            <div class=\"bar\" style=\"width:100%\">&nbsp;</div>\n",
       "        </td>\n",
       "</tr><tr class=\"\">\n",
       "        <td class=\"fillremaining\">1.343769333804496</td>\n",
       "        <td class=\"number\">1</td>\n",
       "        <td class=\"number\">0.0%</td>\n",
       "        <td>\n",
       "            <div class=\"bar\" style=\"width:100%\">&nbsp;</div>\n",
       "        </td>\n",
       "</tr>\n",
       "</table>\n",
       "        </div>\n",
       "    </div>\n",
       "</div>\n",
       "</div><div class=\"row variablerow\">\n",
       "    <div class=\"col-md-3 namecol\">\n",
       "        <p class=\"h4 pp-anchor\" id=\"pp_var_f2\">f2<br/>\n",
       "            <small>Numeric</small>\n",
       "        </p>\n",
       "    </div><div class=\"col-md-6\">\n",
       "    <div class=\"row\">\n",
       "        <div class=\"col-sm-6\">\n",
       "            <table class=\"stats \">\n",
       "                <tr>\n",
       "                    <th>Distinct count</th>\n",
       "                    <td>100000</td>\n",
       "                </tr>\n",
       "                <tr>\n",
       "                    <th>Unique (%)</th>\n",
       "                    <td>100.0%</td>\n",
       "                </tr>\n",
       "                <tr class=\"ignore\">\n",
       "                    <th>Missing (%)</th>\n",
       "                    <td>0.0%</td>\n",
       "                </tr>\n",
       "                <tr class=\"ignore\">\n",
       "                    <th>Missing (n)</th>\n",
       "                    <td>0</td>\n",
       "                </tr>\n",
       "                <tr class=\"ignore\">\n",
       "                    <th>Infinite (%)</th>\n",
       "                    <td>0.0%</td>\n",
       "                </tr>\n",
       "                <tr class=\"ignore\">\n",
       "                    <th>Infinite (n)</th>\n",
       "                    <td>0</td>\n",
       "                </tr>\n",
       "            </table>\n",
       "\n",
       "        </div>\n",
       "        <div class=\"col-sm-6\">\n",
       "            <table class=\"stats \">\n",
       "\n",
       "                <tr>\n",
       "                    <th>Mean</th>\n",
       "                    <td>2.5026</td>\n",
       "                </tr>\n",
       "                <tr>\n",
       "                    <th>Minimum</th>\n",
       "                    <td>-12.088</td>\n",
       "                </tr>\n",
       "                <tr>\n",
       "                    <th>Maximum</th>\n",
       "                    <td>16.004</td>\n",
       "                </tr>\n",
       "                <tr class=\"ignore\">\n",
       "                    <th>Zeros (%)</th>\n",
       "                    <td>0.0%</td>\n",
       "                </tr>\n",
       "            </table>\n",
       "        </div>\n",
       "    </div>\n",
       "</div>\n",
       "<div class=\"col-md-3 collapse in\" id=\"minihistogram1213235696821427224\">\n",
       "    <img src=\"data:image/png;base64,iVBORw0KGgoAAAANSUhEUgAAAMgAAABLCAYAAAA1fMjoAAAAOXRFWHRTb2Z0d2FyZQBNYXRwbG90bGliIHZlcnNpb24zLjUuMSwgaHR0cHM6Ly9tYXRwbG90bGliLm9yZy/YYfK9AAAACXBIWXMAAA9hAAAPYQGoP6dpAAABLElEQVR4nO3dwY2CQBiAUTRb0hZhT57taYvYnsazifkCGgKB9%2B4kc/ny4zDgZYwxJuCt69YLgD372XoBvPq9/y2%2B5v9xW2ElTJMJAkkgEAQCQSAQBALBLtaKPtmRYl9MEAgCgSAQCAKBIBAIAoEgEAgCgSAQCAKBIBAIAoEgEAhO8x7A0lPD3mGfzwSBIBAIAoEgEAgCgSAQCAKBIBAIHhQu4DM%2B52OCQBAIBIFAEAgEgUAQCASBQBAIBIFA8CT9hPzV9HwmCASBQBAIhNP%2BBnEylzlMEAgCgXAZY4ytF/Ett0v7dISt4UMEAmtxiwVBIBAEAkEgEAQCQSAQBAJBIBAEAkEgEAQCQSAQBAJBIBAEAkEgEAQCQSAQBAJBIBAEAkEgEAQCQSAQBALhCT4oHMm8%2BWPzAAAAAElFTkSuQmCC\">\n",
       "\n",
       "</div>\n",
       "<div class=\"col-md-12 text-right\">\n",
       "    <a role=\"button\" data-toggle=\"collapse\" data-target=\"#descriptives1213235696821427224,#minihistogram1213235696821427224\"\n",
       "       aria-expanded=\"false\" aria-controls=\"collapseExample\">\n",
       "        Toggle details\n",
       "    </a>\n",
       "</div>\n",
       "<div class=\"row collapse col-md-12\" id=\"descriptives1213235696821427224\">\n",
       "    <ul class=\"nav nav-tabs\" role=\"tablist\">\n",
       "        <li role=\"presentation\" class=\"active\"><a href=\"#quantiles1213235696821427224\"\n",
       "                                                  aria-controls=\"quantiles1213235696821427224\" role=\"tab\"\n",
       "                                                  data-toggle=\"tab\">Statistics</a></li>\n",
       "        <li role=\"presentation\"><a href=\"#histogram1213235696821427224\" aria-controls=\"histogram1213235696821427224\"\n",
       "                                   role=\"tab\" data-toggle=\"tab\">Histogram</a></li>\n",
       "        <li role=\"presentation\"><a href=\"#common1213235696821427224\" aria-controls=\"common1213235696821427224\"\n",
       "                                   role=\"tab\" data-toggle=\"tab\">Common Values</a></li>\n",
       "        <li role=\"presentation\"><a href=\"#extreme1213235696821427224\" aria-controls=\"extreme1213235696821427224\"\n",
       "                                   role=\"tab\" data-toggle=\"tab\">Extreme Values</a></li>\n",
       "\n",
       "    </ul>\n",
       "\n",
       "    <div class=\"tab-content\">\n",
       "        <div role=\"tabpanel\" class=\"tab-pane active row\" id=\"quantiles1213235696821427224\">\n",
       "            <div class=\"col-md-4 col-md-offset-1\">\n",
       "                <p class=\"h4\">Quantile statistics</p>\n",
       "                <table class=\"stats indent\">\n",
       "                    <tr>\n",
       "                        <th>Minimum</th>\n",
       "                        <td>-12.088</td>\n",
       "                    </tr>\n",
       "                    <tr>\n",
       "                        <th>5-th percentile</th>\n",
       "                        <td>-2.862</td>\n",
       "                    </tr>\n",
       "                    <tr>\n",
       "                        <th>Q1</th>\n",
       "                        <td>0.28775</td>\n",
       "                    </tr>\n",
       "                    <tr>\n",
       "                        <th>Median</th>\n",
       "                        <td>2.516</td>\n",
       "                    </tr>\n",
       "                    <tr>\n",
       "                        <th>Q3</th>\n",
       "                        <td>4.7151</td>\n",
       "                    </tr>\n",
       "                    <tr>\n",
       "                        <th>95-th percentile</th>\n",
       "                        <td>7.8403</td>\n",
       "                    </tr>\n",
       "                    <tr>\n",
       "                        <th>Maximum</th>\n",
       "                        <td>16.004</td>\n",
       "                    </tr>\n",
       "                    <tr>\n",
       "                        <th>Range</th>\n",
       "                        <td>28.092</td>\n",
       "                    </tr>\n",
       "                    <tr>\n",
       "                        <th>Interquartile range</th>\n",
       "                        <td>4.4273</td>\n",
       "                    </tr>\n",
       "                </table>\n",
       "            </div>\n",
       "            <div class=\"col-md-4 col-md-offset-2\">\n",
       "                <p class=\"h4\">Descriptive statistics</p>\n",
       "                <table class=\"stats indent\">\n",
       "                    <tr>\n",
       "                        <th>Standard deviation</th>\n",
       "                        <td>3.2482</td>\n",
       "                    </tr>\n",
       "                    <tr>\n",
       "                        <th>Coef of variation</th>\n",
       "                        <td>1.2979</td>\n",
       "                    </tr>\n",
       "                    <tr>\n",
       "                        <th>Kurtosis</th>\n",
       "                        <td>-0.11128</td>\n",
       "                    </tr>\n",
       "                    <tr>\n",
       "                        <th>Mean</th>\n",
       "                        <td>2.5026</td>\n",
       "                    </tr>\n",
       "                    <tr>\n",
       "                        <th>MAD</th>\n",
       "                        <td>2.6033</td>\n",
       "                    </tr>\n",
       "                    <tr class=\"\">\n",
       "                        <th>Skewness</th>\n",
       "                        <td>-0.0029963</td>\n",
       "                    </tr>\n",
       "                    <tr>\n",
       "                        <th>Sum</th>\n",
       "                        <td>250260</td>\n",
       "                    </tr>\n",
       "                    <tr>\n",
       "                        <th>Variance</th>\n",
       "                        <td>10.551</td>\n",
       "                    </tr>\n",
       "                    <tr>\n",
       "                        <th>Memory size</th>\n",
       "                        <td>781.4 KiB</td>\n",
       "                    </tr>\n",
       "                </table>\n",
       "            </div>\n",
       "        </div>\n",
       "        <div role=\"tabpanel\" class=\"tab-pane col-md-8 col-md-offset-2\" id=\"histogram1213235696821427224\">\n",
       "            <img src=\"data:image/png;base64,iVBORw0KGgoAAAANSUhEUgAAAlgAAAGQCAYAAAByNR6YAAAAOXRFWHRTb2Z0d2FyZQBNYXRwbG90bGliIHZlcnNpb24zLjUuMSwgaHR0cHM6Ly9tYXRwbG90bGliLm9yZy/YYfK9AAAACXBIWXMAAA9hAAAPYQGoP6dpAAAy0klEQVR4nO3dfVyUdb7/8TcwggkMMCjWQRNXjeRGN80o9IQ3lVumqeENnTKqLW9QhDStdV27146YtunDpK1OVo%2BaI1qpaZlr2o22Z2tP7kBaiXr0cDQoZ0IQVGB%2Bf/hzdicscfrqzOjr%2BXjwIL7fua7rc30e14zvruviIsTtdrsFAAAAY0L9XQAAAMD5hoAFAABgGAELAADAMAIWAACAYQQsAAAAwwhYAAAAhhGwAAAADCNgAQAAGEbAAgAAMIyABQAAYBgBCwAAwDACFgAAgGEELAAAAMMIWAAAAIYRsAAAAAwjYAEAABhGwAIAADCMgAUAAGAYAQsAAMAwAhYAAIBhBCwAAADDCFgAAACGEbAAAAAMI2ABAAAYRsACAAAwjIAFAABgGAELAADAMAIWAACAYQQsAAAAwwhYAAAAhhGwAAAADCNgAQAAGEbAAgAAMIyABQAAYBgBCwAAwDACFgAAgGEELAAAAMMIWAAAAIYRsAAAAAyz%2BLuAC0VV1WF/l2BcaGiIbLZIHTpUq6Ymt7/LCRr0zTf07czRM9/QN98Eat/atYv2y3Y5gwWfhYaGKCQkRKGhIf4uJajQN9/QtzNHz3xD33xD37wRsAAAAAwjYAEAABhGwAIAADCMgAUAAGAYAQsAAMAwAhYAAIBhBCwAAADDCFgAAACGEbAAAAAMI2ABAAAYRsACAAAwjIAFAABgGAELAADAMIu/CwCAQHfjok/8XcIZWV/Q198lABc8zmABAAAYRsACAAAwjIAFAABgGAELAADAMAIWAACAYQQsAAAAwwhYAAAAhhGwAAAADCNgAQAAGEbAAgAAMIyABQAAYBgBCwAAwDACFgAAgGEELAAAAMMIWAAAAIYFbMDauXOn7rzzTvXu3VuZmZkqKChQVVWVJGnbtm3Kzs5Wr169NGTIEK1evdpr2eXLl2vw4MHq1auXcnJyVFpa6pk7evSo/vCHP%2Bjaa69VRkaG8vPz5XQ6PfMVFRW67777lJGRoQEDBmj%2B/Plqamo6NzsNAADOCwEZsI4dO6a7775bV111lbZt26a1a9fq%2B%2B%2B/18MPP6zKykpNmjRJY8eO1bZt2zRr1izNnj1bDodDkrRp0yY9%2B%2Byz%2Bvd//3dt3bpVAwYM0IQJE3TkyBFJ0sKFC1VWVia73a733ntPbrdbDz30kGfbU6ZMUfv27bVx40a99NJL2rhxo15%2B%2BWW/9AEAAASngAxYdXV1Kiws1Pjx4xUeHi6bzabrr79e33zzjdasWaOkpCRlZ2crIiJCmZmZGjhwoFasWCFJstvtGjlypHr27KnWrVvrt7/9rSTpgw8%2BUENDg0pKSjRp0iRdcsklio2NVUFBgTZv3qxvv/1WDodDO3fu1PTp0xUdHa2kpCTl5ubKbrf7sx0AACDIBGTAiomJ0ahRo2SxWCRJu3fv1ptvvqkbb7xRZWVlSklJ8Xp9SkqK5zLgj%2BdDQ0PVvXt3ORwO7du3T4cPH1ZqaqpnvkuXLmrdurXKyspUVlamxMRExcTEeOZTU1O1Z88e1dTUnM1dBgAA5xGLvwv4ORUVFRo8eLAaGho0evRo5efn695771X79u29XhcbG%2Bu5j8rlcnkFJOlEYHM6nXK5XJIkq9XqNW%2B1Wj3zP547uS6n06moqKgW1V1ZWem5X%2Bwki6WNEhISWrR8sAgLC/X6jpahb76hby1nsXj3ip6dGfrmG/rmLaADVmJiohwOh/7nf/5Hf/jDHzRjxowWLed2u32eP92yLWG327V48WKvsby8POXn5//idQciq/Uif5cQlOibb%2Bjb6cXFRXr9TM98Q998Q99OCOiAJUkhISFKSkpSYWGhxo4dq6ysLM%2BZqJOcTqdsNpskKS4urtm8y%2BVSt27dPK9xuVyKjPzHB9APP/yg%2BPh4NTY2nnLZkJAQz7ItMWbMGA0cONBrzGJpI6eztsXrCAZhYaGyWi9SdXWdGhv5TcuWom%2B%2BoW8td/Kzhp75hr75JlD79uP/4ThXAjJgbdu2TQ8//LDWr1%2Bv0NATpxpPfu/Ro4fee%2B89r9eXlpaqZ8%2BekqS0tDSVlZVpxIgRkqTGxkZ9%2BeWXys7OVseOHRUTE%2BO510qSvv76ax07dkxpaWmqrKzUgQMHdOjQIU%2Bgcjgc6tq1q1cgO52EhIRmlwOrqg6roSFwDjiTGhubztt9O5vom2/o2%2Bn9uD/0zDf0zTf07YSAvFCalpammpoazZ8/X3V1dTp06JCeffZZXXnllcrJyVFFRYVWrFiho0ePasuWLdqyZYtGjx4tScrJydFbb72lL774QnV1dVq6dKnCw8PVv39/hYWFafTo0Xruued04MABOZ1OPf3007r%2B%2BuvVtm1bpaSkKD09XQsWLFBNTY3Ky8v10ksvKScnx88dAQAAwSQgA1Z0dLRefPFFlZaW6uqrr9aQIUMUHR2tp59%2BWvHx8Vq2bJleffVV9e7dW08%2B%2BaTmz5%2Bvyy%2B/XJJ07bXX6v7771dBQYGuuuoqbd26VcXFxWrdurUkKT8/Xz179tQtt9yiQYMGKTIyUk888YRn23/84x9VWVmpvn37aty4cRo%2BfLhuu%2B02v/QBAAAEpxC3ibu6cVpVVYf9XYJxFkuo4uIi5XTWcjr4DNA33/izbzcu%2BuScbu%2BXWl/QVxLHmq/om28CtW/t2kX7ZbsBeQYLAAAgmBGwAAAADCNgAQAAGEbAAgAAMIyABQAAYBgBCwAAwDACFgAAgGEELAAAAMMIWAAAAIYRsAAAAAwjYAEAABhGwAIAADCMgAUAAGCYxd8FALjw3LjoE3%2BXAABnFWewAAAADCNgAQAAGEbAAgAAMIyABQAAYBgBCwAAwDACFgAAgGEELAAAAMMIWAAAAIYRsAAAAAwjYAEAABhGwAIAADCMgAUAAGAYAQsAAMAwAhYAAIBhBCwAAADDCFgAAACGEbAAAAAMI2ABAAAYRsACAAAwjIAFAABgGAELAADAMAIWAACAYQQsAAAAwwI2YFVUVCgvL08ZGRnKzMzUgw8%2BqOrqav3v//6vkpOTlZ6e7vX1wgsveJZdt26dhg4dqiuuuEIjR47Uxx9/7JlramrSwoULNWjQIPXp00f33HOP9u/f75l3uVwqKChQZmam%2BvXrp1mzZqm%2Bvv6c7jsAAAhuARuwJkyYIKvVqk2bNmnVqlX65ptv9NRTT3nmHQ6H19c999wjSdqxY4dmzpyp6dOn69NPP1Vubq4mT56sgwcPSpJee%2B01rVmzRsXFxfrggw%2BUlJSkvLw8ud1uSdLs2bNVV1entWvXauXKlSovL1dRUdG5bwAAAAhaARmwqqurlZaWpmnTpikyMlIXX3yxRowYoc8%2B%2B%2By0y65YsUJZWVnKyspSRESEhg0bpssuu0yrV6%2BWJNntduXm5qpLly6KiopSYWGhysvLtX37dn333XfauHGjCgsLZbPZ1L59e02aNEkrV67U8ePHz/ZuAwCA84TF3wWcitVq1dy5c73GDhw4oISEBM/PM2bM0NatW9XQ0KBRo0YpPz9frVq1UllZmbKysryWTUlJkcPhUH19vXbt2qWUlBTPXFRUlDp16iSHw6HDhw8rLCxMycnJnvnU1FQdOXJEu3fv9hr/OZWVlaqqqvIas1jaeNV/PggLC/X6jpahbzjbLBbvY4xj7czQN9/QN28BGbB%2BzOFw6NVXX9XSpUsVHh6uK664Qtdff72eeOIJ7dixQ1OmTJHFYtHUqVPlcrkUExPjtXxMTIx27dqlH374QW63%2B5TzTqdTsbGxioqKUkhIiNecJDmdzhbXa7fbtXjxYq%2BxvLw85efnn%2BmuBwWr9SJ/lxCU6BvOlri4SK%2BfOdZ8Q998Q99OCPiA9fnnn2vixImaNm2aMjMzJUlvvPGGZ75Hjx4aP368li1bpqlTp0qS536qn/Jz86dbtiXGjBmjgQMHeo1ZLG3kdNb%2B4nUHkrCwUFmtF6m6uk6NjU3%2BLido0DecbSc/azjWfEPffBOoffvx/3CcKwEdsDZt2qQHHnhAs2fP1vDhw3/ydYmJifruu%2B/kdrsVFxcnl8vlNe9yuWSz2RQbG6vQ0NBTzsfHx8tms6mmpkaNjY0KCwvzzElSfHx8i%2BtOSEhodjmwquqwGhoC54AzqbGx6bzdt7OJvuFs%2BfFxxbHmG/rmG/p2QsBeKP3b3/6mmTNn6plnnvEKV9u2bdPSpUu9Xrt7924lJiYqJCREaWlpKi0t9Zp3OBzq2bOnIiIi1K1bN5WVlXnmqqurtW/fPvXo0UPdu3eX2%2B3Wzp07vZa1Wq3q3Lnz2dlRAABw3gnIgNXQ0KDf//73mj59uvr16%2Bc1Fx0drSVLlujtt9/W8ePH5XA49MILLygnJ0eSNHr0aG3dulWbN2/W0aNHVVJSor1792rYsGGSpJycHC1fvlzl5eWqqalRUVGRunfvrvT0dNlsNg0ePFiLFi3SoUOHdPDgQS1ZskTZ2dmyWAL6ZB8AAAggIW4TNx0Z9tlnn%2Bnf/u3fFB4e3mzu3Xff1ZdffqnFixdr7969io6O1h133KF7771XoaEn8uKGDRu0YMECVVRUqGvXrpo1a5b69Okj6cQ9Vs8%2B%2B6zeeOMN1dbWKiMjQ48%2B%2BqguvvhiSdLhw4c1Z84cffDBB2rVqpVuvvlmPfjgg6es5UxUVR3%2BRcsHIoslVHFxkXI6azkdfAbom3Tjok/8XcJ5bX1BX0kca76ib74J1L61axftl%2B0GZMA6HxGwcBJ9I2CdbQSsX4a%2B%2BSZQ%2B%2BavgBWQlwgBAACCGQELAADAMAIWAACAYQQsAAAAwwhYAAAAhhGwAAAADCNgAQAAGEbAAgAAMIyABQAAYBgBCwAAwDACFgAAgGEELAAAAMMIWAAAAIYRsAAAAAwjYAEAABhGwAIAADCMgAUAAGAYAQsAAMAwAhYAAIBhBCwAAADDCFgAAACGEbAAAAAMI2ABAAAYRsACAAAwjIAFAABgGAELAADAMAIWAACAYQQsAAAAwwhYAAAAhhGwAAAADCNgAQAAGEbAAgAAMIyABQAAYBgBCwAAwDACFgAAgGEELAAAAMMCNmBVVFQoLy9PGRkZyszM1IMPPqjq6mpJ0o4dO3T77berd%2B/euuGGG/Tiiy96Lbtu3ToNHTpUV1xxhUaOHKmPP/7YM9fU1KSFCxdq0KBB6tOnj%2B655x7t37/fM%2B9yuVRQUKDMzEz169dPs2bNUn19/bnZaQAAcF4wHrAGDhyoxYsX68CBA79oPRMmTJDVatWmTZu0atUqffPNN3rqqadUX1%2Bv8ePH6%2Bqrr9ZHH32khQsXatmyZdqwYYOkE%2BFr5syZmj59uj799FPl5uZq8uTJOnjwoCTptdde05o1a1RcXKwPPvhASUlJysvLk9vtliTNnj1bdXV1Wrt2rVauXKny8nIVFRX9sqYAAIALivGAdeutt2rdunW67rrr9Nvf/lYbNmxQQ0PDGa2jurpaaWlpmjZtmiIjI3XxxRdrxIgR%2Buyzz7R582YdP35cEydOVJs2bZSamqpRo0bJbrdLklasWKGsrCxlZWUpIiJCw4YN02WXXabVq1dLkux2u3Jzc9WlSxdFRUWpsLBQ5eXl2r59u7777jtt3LhRhYWFstlsat%2B%2BvSZNmqSVK1fq%2BPHjplsFAADOU8YDVl5entatW6f//M//VLdu3fTkk08qKytL8%2BfP1549e1q0DqvVqrlz56pt27aesQMHDighIUFlZWVKTk5WWFiYZy4lJUWlpaWSpLKyMqWkpHitLyUlRQ6HQ/X19dq1a5fXfFRUlDp16iSHw6EdO3YoLCxMycnJnvnU1FQdOXJEu3fv9qkfAADgwmM5WytOTU1VamqqZsyYoXXr1unhhx/Wiy%2B%2BqMzMTE2dOlU9evRo8bocDodeffVVLV26VOvXr5fVavWaj42NlcvlUlNTk1wul2JiYrzmY2JitGvXLv3www9yu92nnHc6nYqNjVVUVJRCQkK85iTJ6XS2uN7KykpVVVV5jVksbZSQkNDidQSDsLBQr%2B9oGfqGs81i8T7GONbODH3zDX3zdtYC1vHjx/X%2B%2B%2B9r1apV%2BvTTT5WUlKQpU6aosrJSubm5euSRRzR06NDTrufzzz/XxIkTNW3aNGVmZmr9%2BvWnfN0/h6KT91P9lJ%2BbP92yLWG327V48WKvsby8POXn5//idQciq/Uif5cQlOgbzpa4uEivnznWfEPffEPfTjAesMrLy1VSUqK33npLtbW1Gjx4sF5%2B%2BWX17t3b85o%2Bffro4YcfPm3A2rRpkx544AHNnj1bw4cPlyTZbDbt3bvX63Uul0uxsbEKDQ1VXFycXC5Xs3mbzeZ5zanm4%2BPjZbPZVFNTo8bGRs8lyJOvjY%2BPb3EPxowZo4EDB3qNWSxt5HTWtngdwSAsLFRW60Wqrq5TY2OTv8sJGvQNZ9vJzxqONd/QN98Eat9%2B/D8c54rxgDVkyBB17txZ48eP1/DhwxUbG9vsNVlZWTp06NDPrudvf/ubZs6cqWeeeUb9%2BvXzjKelpen1119XQ0ODLJYT5TscDvXs2dMzf/J%2BrJMcDoeGDBmiiIgIdevWTWVlZbrqqqsknbihft%2B%2BferRo4cSExPldru1c%2BdOpaamepa1Wq3q3Llzi3uQkJDQ7HJgVdVhNTQEzgFnUmNj03m7b2cTfcPZ8uPjimPNN/TNN/TtBOMXSpcvX67169crNzf3lOHqpO3bt//kXENDg37/%2B99r%2BvTpXuFKOhHOoqKitHTpUtXV1Wn79u0qKSlRTk6OJGn06NHaunWrNm/erKNHj6qkpER79%2B7VsGHDJEk5OTlavny5ysvLVVNTo6KiInXv3l3p6emy2WwaPHiwFi1apEOHDungwYNasmSJsrOzPWEOAADgdIwHrOTkZE2YMEEbN270jP3Hf/yH7r333maX5n7KF198ofLycj3%2B%2BONKT0/3%2BqqqqtJzzz2nrVu36qqrrlJBQYEKCwvVv39/SdJll12moqIizZ07V71799arr76qZcuWqV27dpKksWPHasSIEbrjjjvUt29fHTx40Ot%2BqUcffVTR0dEaNGiQhg0bph49eqiwsNBYfwAAwPkvxG3iru5/8uCDD2r//v164oknlJSUJEnau3evHnvsMbVr107z5s0zubmgUVV12N8lGGexhCouLlJOZy2ng88AfZNuXPSJv0s4r60v6CuJY81X9M03gdq3du2i/bJd49e9Pv74Y61Zs0ZxcXGesaSkJBUVFenmm282vTkAAICAY/wSYX19vSIiIppvKDRUdXV1pjcHAAAQcIwHrD59%2BmjevHn64YcfPGPffvutHnnkEa9HNQAAAJyvjF8i/N3vfqe7775b11xzjaKiotTU1KTa2lp17NhRr7zyiunNAQAABBzjAatjx45655139OGHH2rfvn0KDQ1V586d1a9fP6%2B/HwgAAHC%2BOisPdwoPD9d11113NlYNAAAQ8IwHrP3792vBggX65ptvVF9f32z%2Bz3/%2Bs%2BlNAgAABJSzcg9WZWWl%2BvXrpzZt2phePQDgNILpOWMnn9kFnG%2BMB6zS0lL9%2Bc9/ls1mM71qAACAoGD8MQ3x8fGcuQIAABc04wFr/PjxWrx4sQz/BR4AAICgYfwS4Ycffqi//e1vWrVqlTp06KDQUO8M98Ybb5jeJAAAQEAxHrCioqJ07bXXml4tAABA0DAesObOnWt6lQAAAEHF%2BD1YkrR79249%2B%2Byzeuihhzxj//3f/302NgUAABBwjAesbdu2adiwYdqwYYPWrl0r6cTDR8eNG8dDRgEAwAXBeMBauHChHnjgAa1Zs0YhISGSTvx9wnnz5mnJkiWmNwcAABBwjAesr7/%2BWjk5OZLkCViS9Jvf/Ebl5eWmNwcAABBwjAes6OjoU/4NwsrKSoWHh5veHAAAQMAxHrB69eqlJ598UjU1NZ6xPXv2aObMmbrmmmtMbw4AACDgGH9Mw0MPPaQ777xTGRkZamxsVK9evVRXV6du3bpp3rx5pjcHAAAQcIwHrIsvvlhr167Vli1btGfPHrVu3VqdO3dW3759ve7JAgAAOF8ZD1iS1KpVK1133XVnY9UAAAABz3jAGjhw4M%2BeqeJZWAAA4HxnPGDddNNNXgGrsbFRe/bskcPh0J133ml6cwAAAAHHeMCaPn36Kcffe%2B89/eUvfzG9OQAAgIBzVv4W4alcd911euedd87V5gAAAPzmnAWsL7/8Um63%2B1xtDgAAwG%2BMXyIcO3Zss7G6ujqVl5frhhtuML05AACAgGM8YCUlJTX7LcKIiAhlZ2dr1KhRpjcHAAAQcIwHLJ7WDgAALnTGA9Zbb73V4tcOHz7c9OYBAAD8znjAmjVrlpqamprd0B4SEuI1FhISQsACAADnJeMB609/%2BpNefPFFTZgwQcnJyXK73frqq6/0/PPP6/bbb1dGRobpTQIAAASUs3IPVnFxsdq3b%2B8Zu/LKK9WxY0fdc889Wrt2relNAgAABBTjz8Hau3evYmJimo1brVZVVFSY3hwAAEDAMR6wEhMTNW/ePDmdTs9YdXW1FixYoEsvvfSM1vXRRx8pMzNThYWFXuOrVq3S5ZdfrvT0dK%2Bvv//975KkpqYmLVy4UIMGDVKfPn10zz33aP/%2B/Z7lXS6XCgoKlJmZqX79%2BmnWrFmqr6/3zO/YsUO33367evfurRtuuEEvvviiL60AAAAXKOOXCH/3u99p2rRpstvtioyMVGhoqGpqatS6dWstWbKkxet5/vnnVVJSok6dOp1yvk%2BfPnrllVdOOffaa69pzZo1ev7559W%2BfXstXLhQeXl5evvttxUSEqLZs2fr2LFjWrt2rY4fP66pU6eqqKhIv//971VfX6/x48dr9OjRKi4u1p49e3T33XerQ4cOPCgVAAC0iPGA1a9fP23evFlbtmzRwYMH5Xa71b59e/3rv/6roqOjW7yeiIgIlZSU6IknntDRo0fPqAa73a7c3Fx16dJFklRYWKiMjAxt375dHTp00MaNG/Xmm2/KZrNJkiZNmqSpU6dq5syZ2rx5s44fP66JEycqLCxMqampGjVqlOx2OwELAAC0iPGAJUkXXXSRBg0apIMHD6pjx44%2BrWPcuHE/O3/gwAHdddddKi0tldVqVX5%2Bvm655RbV19dr165dSklJ8bw2KipKnTp1ksPh0OHDhxUWFqbk5GTPfGpqqo4cOaLdu3errKxMycnJCgsL88ynpKRoxYoVPu0HAAC48BgPWPX19ZozZ47eeecdSVJpaamqq6t1//336%2Bmnn5bVav3F27DZbEpKStL999%2Bvrl276v3339eMGTOUkJCgX/3qV3K73c1utI%2BJiZHT6VRsbKyioqK8/pzPydc6nU65XK5mNcbGxsrlcqmpqUmhoae/ba2yslJVVVVeYxZLGyUkJPi6ywEpLCzU6ztahr4B/2CxBN77gPeob%2BibN%2BMBa/78%2BdqxY4eKioo0Y8YMz3hjY6OKior06KOP/uJt9O/fX/379/f8PGTIEL3//vtatWqVpk%2BfLknNHnT6z35u7qf8%2BO8r/hy73a7Fixd7jeXl5Sk/P/%2BMtxsMrNaL/F1CUKJvgBQXF%2BnvEn4S71Hf0LcTjAes9957T6%2B%2B%2BqqSkpI0c%2BZMSSce0TB37lwNHz7cSMA6lcTERJWWlio2NlahoaFyuVxe8y6XS/Hx8bLZbKqpqVFjY6PnMuDJ156c37t3b7NlT663JcaMGaOBAwd6jVksbeR01vq0b4EqLCxUVutFqq6uU2Njk7/LCRr0DfiHQPxc5D3qm0Dtm79CvPGAVVtbq6SkpGbjNptNR44cMbKN119/XTExMbrppps8Y%2BXl5erYsaMiIiLUrVs3lZWV6aqrrpJ04jER%2B/btU48ePZSYmCi3262dO3cqNTVVkuRwOGS1WtW5c2elpaXp9ddfV0NDgywWi2e%2BZ8%2BeLa4vISGh2eXAqqrDamgInAPOpMbGpvN2384m%2BgYooN8DvEd9Q99OMH6h9NJLL9Vf/vIXSd6X4t599139y7/8i5FtHDt2TI899pgcDoeOHz%2ButWvX6sMPP9TYsWMlSTk5OVq%2BfLnKy8tVU1OjoqIide/eXenp6bLZbBo8eLAWLVqkQ4cO6eDBg1qyZImys7NlsViUlZWlqKgoLV26VHV1ddq%2BfbtKSkqUk5NjpHYAAHD%2BM34G67bbbtOUKVN06623qqmpSS%2B99JJKS0v13nvvadasWS1eT3p6uiSpoaFBkrRx40ZJJ84mjRs3TrW1tZo6daqqqqrUoUMHLVmyRGlpaZKksWPHqqqqSnfccYdqa2uVkZHhdU/Uo48%2Bqjlz5mjQoEFq1aqVbr75Zs/DTMPDw/Xcc89pzpw5Ki4uVtu2bVVYWOh1zxcAAMDPCXH7csf3aaxcuVKvvvqqdu/erdatW6tz587Kzc3Vb37zG9ObChpVVYf9XYJxFkuo4uIi5XTWcjr4DNA36cZFn/i7BASI9QV9/V1CM7xHfROofWvXruXP4DTJ%2BBmsQ4cO6dZbb9Wtt95qetUAAABBwfg9WIMGDfLpMQgAAADnC%2BMBKyMjQ%2BvXrze9WgAAgKBh/BLhJZdcoieeeELFxcW69NJL1apVK6/5BQsWmN4kAABAQDEesHbt2qVf/epXkk786RkAAIALjbGAVVhYqIULF%2BqVV17xjC1ZskR5eXmmNgEAABAUjN2DtWnTpmZjxcXFplYPAAAQNIwFrFP95iC/TQgAAC5ExgJWSEhIi8YAAADOd8Yf0wAAAHChI2ABAAAYZuy3CI8fP65p06addoznYAEAgPOdsYDVu3dvVVZWnnYMAADgfGcsYP3z868AAAAuZNyDBQAAYBgBCwAAwDACFgAAgGEELAAAAMOM3eQOwL9uXPSJv0sAAPx/nMECAAAwjIAFAABgGAELAADAMAIWAACAYQQsAAAAwwhYAAAAhhGwAAAADCNgAQAAGEbAAgAAMIyABQAAYBgBCwAAwDACFgAAgGEELAAAAMMIWAAAAIYRsAAAAAwjYAEAABhGwAIAADCMgAUAAGBYQAesjz76SJmZmSosLGw2t27dOg0dOlRXXHGFRo4cqY8//tgz19TUpIULF2rQoEHq06eP7rnnHu3fv98z73K5VFBQoMzMTPXr10%2BzZs1SfX29Z37Hjh26/fbb1bt3b91www168cUXz%2B6OAgCA80rABqznn39ejz/%2BuDp16tRsbseOHZo5c6amT5%2BuTz/9VLm5uZo8ebIOHjwoSXrttde0Zs0aFRcX64MPPlBSUpLy8vLkdrslSbNnz1ZdXZ3Wrl2rlStXqry8XEVFRZKk%2Bvp6jR8/XldffbU%2B%2BugjLVy4UMuWLdOGDRvO3c4DAICgFrABKyIiQiUlJacMWCtWrFBWVpaysrIUERGhYcOG6bLLLtPq1aslSXa7Xbm5uerSpYuioqJUWFio8vJybd%2B%2BXd999502btyowsJC2Ww2tW/fXpMmTdLKlSt1/Phxbd68WcePH9fEiRPVpk0bpaamatSoUbLb7ee6BQAAIEhZ/F3ATxk3btxPzpWVlSkrK8trLCUlRQ6HQ/X19dq1a5dSUlI8c1FRUerUqZMcDocOHz6ssLAwJScne%2BZTU1N15MgR7d69W2VlZUpOTlZYWJjXulesWNHi2isrK1VVVeU1ZrG0UUJCQovXEQzCwkK9vqNl6BvwDxZL4L0PeI/6hr55C9iA9XNcLpdiYmK8xmJiYrRr1y798MMPcrvdp5x3Op2KjY1VVFSUQkJCvOYkyel0yuVyyWq1ei0bGxsrl8ulpqYmhYae/sCx2%2B1avHix11heXp7y8/PPaD%2BDhdV6kb9LCEr0DZDi4iL9XcJP4j3qG/p2QlAGLEme%2B6l8mT/dsqfyz4HsdMaMGaOBAwd6jVksbeR01p7xdgNZWFiorNaLVF1dp8bGJn%2BXEzToG/APgfi5yHvUN4HaN3%2BF%2BKAMWHFxcXK5XF5jLpdLNptNsbGxCg0NPeV8fHy8bDabampq1NjY6LkMePK1J%2Bf37t3bbNmT622JhISEZpcDq6oOq6EhcA44kxobm87bfTub6BuggH4P8B71DX07ISgvlKalpam0tNRrzOFwqGfPnoqIiFC3bt1UVlbmmauurta%2BffvUo0cPde/eXW63Wzt37vRa1mq1qnPnzkpLS9NXX32lhoaGZusGAABoiaAMWKNHj9bWrVu1efNmHT16VCUlJdq7d6%2BGDRsmScrJydHy5ctVXl6umpoaFRUVqXv37kpPT5fNZtPgwYO1aNEiHTp0SAcPHtSSJUuUnZ0ti8WirKwsRUVFaenSpaqrq9P27dtVUlKinJwcP%2B81AAAIFgF7iTA9PV2SPGeSNm7cKOnE2aTLLrtMRUVFmjt3rioqKtS1a1ctW7ZM7dq1kySNHTtWVVVVuuOOO1RbW6uMjAyvm84fffRRzZkzR4MGDVKrVq108803ex5mGh4erueee05z5sxRcXGx2rZtq8LCQvXv3/8c7j0AAAhmIW5f7vjGGauqOuzvEoyzWEIVFxcpp7OW6%2B1n4Gz17cZFnxhbF3CurC/o6%2B8SmuGzzTeB2rd27aL9st2gvEQIAAAQyAhYAAAAhhGwAAAADCNgAQAAGEbAAgAAMIyABQAAYBgBCwAAwDACFgAAgGEELAAAAMMIWAAAAIYRsAAAAAwjYAEAABhGwAIAADCMgAUAAGAYAQsAAMAwAhYAAIBhBCwAAADDCFgAAACGEbAAAAAMI2ABAAAYRsACAAAwjIAFAABgGAELAADAMAIWAACAYQQsAAAAwwhYAAAAhhGwAAAADCNgAQAAGEbAAgAAMIyABQAAYBgBCwAAwDACFgAAgGEELAAAAMMIWAAAAIYRsAAAAAwjYAEAABgWtAErOTlZaWlpSk9P93w99thjkqRt27YpOztbvXr10pAhQ7R69WqvZZcvX67BgwerV69eysnJUWlpqWfu6NGj%2BsMf/qBrr71WGRkZys/Pl9PpPKf7BgAAgpvF3wX8Eu%2B%2B%2B646dOjgNVZZWalJkyZp1qxZGjp0qD7//HNNnDhRnTt3Vnp6ujZt2qRnn31Wf/rTn5ScnKzly5drwoQJ2rBhg9q0aaOFCxeqrKxMdrtdF110kWbPnq2HHnpIzz33nJ/2EgAABJugDlinsmbNGiUlJSk7O1uSlJmZqYEDB2rFihVKT0%2BX3W7XyJEj1bNnT0nSb3/7Wy1fvlwffPCBBg8erJKSEj311FO65JJLJEkFBQUaMmSIvv32W7Vv395v%2BwUA56MbF33i7xLOyPqCvv4uAUEiaC8RStKCBQvUv39/XXnllZo9e7Zqa2tVVlamlJQUr9elpKR4LgP%2BeD40NFTdu3eXw%2BHQvn37dPjwYaWmpnrmu3TpotatW6usrOzc7BQAAAh6QXsG69e//rUyMzP11FNPaf/%2B/SooKNAjjzwil8vV7ExTbGys5z4ql8ulmJgYr/mYmBg5nU65XC5JktVq9Zq3Wq1ndB9WZWWlqqqqvMYsljZKSEho8TqCQVhYqNd3tAx9A4KXxcL79qfw2eYtaAOW3W73/HeXLl00ffp0TZw4Ub179z7tsm63%2BxfNt6S2xYsXe43l5eUpPz//F603UFmtF/m7hKBE34DgExcX6e8SAh6fbScEbcD6sQ4dOqixsVGhoaGeM1EnOZ1O2Ww2SVJcXFyzeZfLpW7dunle43K5FBn5jzfRDz/8oPj4%2BBbXMmbMGA0cONBrzGJpI6ez9gz2KPCFhYXKar1I1dV1amxs8nc5QYO%2BAcHrfPscNylQP9v8FYqDMmB9%2BeWXWr16tR588EHPWHl5ucLDw5WVlaU333zT6/WlpaWem9rT0tJUVlamESNGSJIaGxv15ZdfKjs7Wx07dlRMTIzKysqUmJgoSfr666917NgxpaWltbi%2BhISEZpcDq6oOq6EhcA44kxobm87bfTub6BsQfHjPnh6fbScE5YXS%2BPh42e12FRcX69ixY9qzZ4%2BeeeYZjRkzRrfccosqKiq0YsUKHT16VFu2bNGWLVs0evRoSVJOTo7eeustffHFF6qrq9PSpUsVHh6u/v37KywsTKNHj9Zzzz2nAwcOyOl06umnn9b111%2Bvtm3b%2BnmvAQBAsAjKM1jt27dXcXGxFixY4AlII0aMUGFhoSIiIrRs2TI9/vjjeuSRR5SYmKj58%2Bfr8ssvlyRde%2B21uv/%2B%2B1VQUKDvv/9e6enpKi4uVuvWrSVJ%2Bfn5qq2t1S233KKGhgYNGDBADz/8sB/3FgAABJsQ9y%2B9oxstUlV12N8lGGexhCouLlJOZy2ng8/A2epbsD1PCAhGPAfrpwXqvwnt2kX7ZbtBeYkQAAAgkBGwAAAADCNgAQAAGEbAAgAAMIyABQAAYBgBCwAAwDACFgAAgGEELAAAAMMIWAAAAIYRsAAAAAwjYAEAABhGwAIAADCMgAUAAGAYAQsAAMAwAhYAAIBhBCwAAADDLP4uAAhUNy76xN8lAACCFGewAAAADCNgAQAAGEbAAgAAMIyABQAAYBgBCwAAwDACFgAAgGEELAAAAMMIWAAAAIYRsAAAAAwjYAEAABhGwAIAADCMgAUAAGAYAQsAAMAwAhYAAIBhBCwAAADDCFgAAACGEbAAAAAMI2ABAAAYZvF3AQAABIsbF33i7xLOyPqCvv4u4YLFGSwAAADDCFinUFFRofvuu08ZGRkaMGCA5s%2Bfr6amJn%2BXBQAAggSXCE9hypQpSk1N1caNG/X9999r/Pjxatu2re666y5/lwYAAIIAAetHHA6Hdu7cqZdeeknR0dGKjo5Wbm6uXn75ZQLWLxRs9y4AAOArAtaPlJWVKTExUTExMZ6x1NRU7dmzRzU1NYqKijrtOiorK1VVVeU1ZrG0UUJCgvF6/SksLNTrOwAgsFgs5%2B7zmX8TvBGwfsTlcslqtXqNnQxbTqezRQHLbrdr8eLFXmOTJ0/WlClTzBUaACorK/Xyy3/SmDFjWhQeP3viN%2BegqsBXWVkpu93e4r7hBPp25uiZb%2Bibb87034TzHTHzFNxu9y9afsyYMVq1apXX15gxYwxVFziqqqq0ePHiZmfr8PPom2/o25mjZ76hb76hb944g/UjNptNLpfLa8zlcikkJEQ2m61F60hISCC9AwBwAeMM1o%2BkpaXpwIEDOnTokGfM4XCoa9euioyM9GNlAAAgWBCwfiQlJUXp6elasGCBampqVF5erpdeekk5OTn%2BLg0AAAQJAtYp/PGPf1RlZaX69u2rcePGafjw4brtttv8XVbAadeunSZPnqx27dr5u5SgQt98Q9/OHD3zDX3zDX3zFuL%2BpXd0AwAAwAtnsAAAAAwjYAEAABhGwAIAADCMgAUAAGAYAQsAAMAwAhYAAIBhBCwAAADDCFgAAACGEbAAAAAMI2DBJw6HQ9dff71Gjx7dbG7btm3Kzs5Wr169NGTIEK1evdoPFQa%2BgQMHKi0tTenp6Z6vCRMm%2BLusgFNRUaH77rtPGRkZGjBggObPn6%2BmpiZ/lxXwkpOTmx1fjz32mL/LCjgfffSRMjMzVVhY2Gxu3bp1Gjp0qK644gqNHDlSH3/8sR8qDEw/1bdVq1bp8ssv9zru0tPT9fe//91PlfqPxd8FIPisXr1aTz/9tLp27arq6mqvucrKSk2aNEmzZs3S0KFD9fnnn2vixInq3Lmz0tPT/VRx4HrhhReUkZHh7zIC2pQpU5SamqqNGzfq%2B%2B%2B/1/jx49W2bVvddddd/i4t4L377rvq0KGDv8sIWM8//7xKSkrUqVOnZnM7duzQzJkztXjxYl199dV67733NHnyZL377ru6%2BOKL/VBt4Pi5vklSnz599Morr5zjqgIPZ7Bwxo4ePSq73a6ePXs2m1uzZo2SkpKUnZ2tiIgIZWZmauDAgVqxYoUfKkWwczgc2rlzp6ZPn67o6GglJSUpNzdXdrvd36XhPBAREfGTQWHFihXKyspSVlaWIiIiNGzYMF122WWckdfP9w3/QMDCGRs1apTat29/yrmysjKlpKR4jaWkpKi0tPRclBZ0li9fruuuu05XXHGF8vPz9f333/u7pIBSVlamxMRExcTEeMZSU1O1Z88e1dTU%2BLGy4LBgwQL1799fV155pWbPnq3a2lp/lxRQxo0bp%2Bjo6FPO/dRnmcPhOBelBbSf65skHThwQHfddZf69OmjQYMG6e233z6H1QUOAhaMcrlcslqtXmOxsbFyOp1%2Bqihwde/eXT169NDbb7%2BtdevWyeVyaerUqf4uK6Cc6ng6GbY4pn7er3/9a2VmZmrDhg2y2%2B364osv9Mgjj/i7rKDhcrm8gr104tjjuPt5NptNSUlJeuCBB/TJJ5/o/vvv1%2B9%2B9ztt27bN36Wdc9yDhWbefvttzZgx45Rzc%2BfO1ciRI89xRcHpdH1csmSJ5%2BfIyEjNmTNHN910k/bt26dLL730XJUZ8Nxut79LCEr/fBm1S5cumj59uiZOnKjHH39c4eHhfqwseHDsnbn%2B/furf//%2Bnp%2BHDBmi999/X6tWrdI111zjv8L8gICFZm655RbdcsstPi0bFxcnl8vlNeZ0OmWz2QxUFlzOtI%2BJiYmSTvyiAAHrBJvN1ux4crlcCgkJuSCPqV%2BiQ4cOamxs1Pfff69LLrnE3%2BUEvFN9lrlcLo47HyQmJl6Qt4lwiRBGpaenN3sjlZaWnvKG%2BAtZRUWF5syZo2PHjnnGysvLJUkdO3b0V1kBJy0tTQcOHNChQ4c8Yw6HQ127dlVkZKQfKwtsX375pebNm%2Bc1Vl5ervDwcCUkJPipquCSlpbW7LPM4XDwWXYar7/%2ButatW%2Bc1Vl5efkF%2BrhGwYNTQoUNVUVGhFStW6OjRo9qyZYu2bNlyyudlXcji4%2BO1adMmzZs3T0eOHNG3336ruXPnasCAAT/5CwQXopSUFKWnp2vBggWqqalReXm5XnrpJeXk5Pi7tIAWHx8vu92u4uJiHTt2THv27NEzzzyjMWPGKCwszN/lBYXRo0dr69at2rx5s44ePaqSkhLt3btXw4YN83dpAe3YsWN67LHH5HA4dPz4ca1du1Yffvihxo4d6%2B/SzrkQNxeZcYYGDx6s//u//1NjY6OamprUqlUrSSeeuZOYmKi//vWvevzxx1VeXq7ExERNmzZNN9xwg5%2BrDjxfffWV5s2b5/mtpOuvv14PPfRQs5u6L3QHDx7U7Nmz9V//9V%2BKiorS2LFjNXnyZIWEhPi7tID217/%2BVQsWLNBXX32l8PBwjRgxQoWFhYqIiPB3aQHj5LP5GhoaJEkWy4m7Zk6%2BJzds2KAFCxaooqJCXbt21axZs9SnTx//FBtAfq5vbrdbS5cuVUlJiaqqqtShQwfNmDFDAwYM8Fu9/kLAAgAAMIxLhAAAAIYRsAAAAAwjYAEAABhGwAIAADCMgAUAAGAYAQsAAMAwAhYAAIBhBCwAAADDCFgAAACGEbAAAAAMI2ABAAAYRsACAAAwjIAFAABg2P8DQBWo2kCNNQEAAAAASUVORK5CYII%3D\"/>\n",
       "        </div>\n",
       "        <div role=\"tabpanel\" class=\"tab-pane col-md-12\" id=\"common1213235696821427224\">\n",
       "            \n",
       "<table class=\"freq table table-hover\">\n",
       "    <thead>\n",
       "    <tr>\n",
       "        <td class=\"fillremaining\">Value</td>\n",
       "        <td class=\"number\">Count</td>\n",
       "        <td class=\"number\">Frequency (%)</td>\n",
       "        <td style=\"min-width:200px\">&nbsp;</td>\n",
       "    </tr>\n",
       "    </thead>\n",
       "    <tr class=\"\">\n",
       "        <td class=\"fillremaining\">2.1637625502762234</td>\n",
       "        <td class=\"number\">1</td>\n",
       "        <td class=\"number\">0.0%</td>\n",
       "        <td>\n",
       "            <div class=\"bar\" style=\"width:1%\">&nbsp;</div>\n",
       "        </td>\n",
       "</tr><tr class=\"\">\n",
       "        <td class=\"fillremaining\">-0.8288189478272892</td>\n",
       "        <td class=\"number\">1</td>\n",
       "        <td class=\"number\">0.0%</td>\n",
       "        <td>\n",
       "            <div class=\"bar\" style=\"width:1%\">&nbsp;</div>\n",
       "        </td>\n",
       "</tr><tr class=\"\">\n",
       "        <td class=\"fillremaining\">4.382418617884884</td>\n",
       "        <td class=\"number\">1</td>\n",
       "        <td class=\"number\">0.0%</td>\n",
       "        <td>\n",
       "            <div class=\"bar\" style=\"width:1%\">&nbsp;</div>\n",
       "        </td>\n",
       "</tr><tr class=\"\">\n",
       "        <td class=\"fillremaining\">7.2473062669152775</td>\n",
       "        <td class=\"number\">1</td>\n",
       "        <td class=\"number\">0.0%</td>\n",
       "        <td>\n",
       "            <div class=\"bar\" style=\"width:1%\">&nbsp;</div>\n",
       "        </td>\n",
       "</tr><tr class=\"\">\n",
       "        <td class=\"fillremaining\">3.8088026546463625</td>\n",
       "        <td class=\"number\">1</td>\n",
       "        <td class=\"number\">0.0%</td>\n",
       "        <td>\n",
       "            <div class=\"bar\" style=\"width:1%\">&nbsp;</div>\n",
       "        </td>\n",
       "</tr><tr class=\"\">\n",
       "        <td class=\"fillremaining\">1.0918139906237956</td>\n",
       "        <td class=\"number\">1</td>\n",
       "        <td class=\"number\">0.0%</td>\n",
       "        <td>\n",
       "            <div class=\"bar\" style=\"width:1%\">&nbsp;</div>\n",
       "        </td>\n",
       "</tr><tr class=\"\">\n",
       "        <td class=\"fillremaining\">-1.4095405491960165</td>\n",
       "        <td class=\"number\">1</td>\n",
       "        <td class=\"number\">0.0%</td>\n",
       "        <td>\n",
       "            <div class=\"bar\" style=\"width:1%\">&nbsp;</div>\n",
       "        </td>\n",
       "</tr><tr class=\"\">\n",
       "        <td class=\"fillremaining\">4.303264289099697</td>\n",
       "        <td class=\"number\">1</td>\n",
       "        <td class=\"number\">0.0%</td>\n",
       "        <td>\n",
       "            <div class=\"bar\" style=\"width:1%\">&nbsp;</div>\n",
       "        </td>\n",
       "</tr><tr class=\"\">\n",
       "        <td class=\"fillremaining\">3.897932184733485</td>\n",
       "        <td class=\"number\">1</td>\n",
       "        <td class=\"number\">0.0%</td>\n",
       "        <td>\n",
       "            <div class=\"bar\" style=\"width:1%\">&nbsp;</div>\n",
       "        </td>\n",
       "</tr><tr class=\"\">\n",
       "        <td class=\"fillremaining\">-0.00741793132122015</td>\n",
       "        <td class=\"number\">1</td>\n",
       "        <td class=\"number\">0.0%</td>\n",
       "        <td>\n",
       "            <div class=\"bar\" style=\"width:1%\">&nbsp;</div>\n",
       "        </td>\n",
       "</tr><tr class=\"other\">\n",
       "        <td class=\"fillremaining\">Other values (99990)</td>\n",
       "        <td class=\"number\">99990</td>\n",
       "        <td class=\"number\">100.0%</td>\n",
       "        <td>\n",
       "            <div class=\"bar\" style=\"width:100%\">&nbsp;</div>\n",
       "        </td>\n",
       "</tr>\n",
       "</table>\n",
       "        </div>\n",
       "        <div role=\"tabpanel\" class=\"tab-pane col-md-12\"  id=\"extreme1213235696821427224\">\n",
       "            <p class=\"h4\">Minimum 5 values</p>\n",
       "            \n",
       "<table class=\"freq table table-hover\">\n",
       "    <thead>\n",
       "    <tr>\n",
       "        <td class=\"fillremaining\">Value</td>\n",
       "        <td class=\"number\">Count</td>\n",
       "        <td class=\"number\">Frequency (%)</td>\n",
       "        <td style=\"min-width:200px\">&nbsp;</td>\n",
       "    </tr>\n",
       "    </thead>\n",
       "    <tr class=\"\">\n",
       "        <td class=\"fillremaining\">-12.088328118063359</td>\n",
       "        <td class=\"number\">1</td>\n",
       "        <td class=\"number\">0.0%</td>\n",
       "        <td>\n",
       "            <div class=\"bar\" style=\"width:100%\">&nbsp;</div>\n",
       "        </td>\n",
       "</tr><tr class=\"\">\n",
       "        <td class=\"fillremaining\">-10.138341352347217</td>\n",
       "        <td class=\"number\">1</td>\n",
       "        <td class=\"number\">0.0%</td>\n",
       "        <td>\n",
       "            <div class=\"bar\" style=\"width:100%\">&nbsp;</div>\n",
       "        </td>\n",
       "</tr><tr class=\"\">\n",
       "        <td class=\"fillremaining\">-10.138171154155293</td>\n",
       "        <td class=\"number\">1</td>\n",
       "        <td class=\"number\">0.0%</td>\n",
       "        <td>\n",
       "            <div class=\"bar\" style=\"width:100%\">&nbsp;</div>\n",
       "        </td>\n",
       "</tr><tr class=\"\">\n",
       "        <td class=\"fillremaining\">-9.78777739806877</td>\n",
       "        <td class=\"number\">1</td>\n",
       "        <td class=\"number\">0.0%</td>\n",
       "        <td>\n",
       "            <div class=\"bar\" style=\"width:100%\">&nbsp;</div>\n",
       "        </td>\n",
       "</tr><tr class=\"\">\n",
       "        <td class=\"fillremaining\">-9.612865270661137</td>\n",
       "        <td class=\"number\">1</td>\n",
       "        <td class=\"number\">0.0%</td>\n",
       "        <td>\n",
       "            <div class=\"bar\" style=\"width:100%\">&nbsp;</div>\n",
       "        </td>\n",
       "</tr>\n",
       "</table>\n",
       "            <p class=\"h4\">Maximum 5 values</p>\n",
       "            \n",
       "<table class=\"freq table table-hover\">\n",
       "    <thead>\n",
       "    <tr>\n",
       "        <td class=\"fillremaining\">Value</td>\n",
       "        <td class=\"number\">Count</td>\n",
       "        <td class=\"number\">Frequency (%)</td>\n",
       "        <td style=\"min-width:200px\">&nbsp;</td>\n",
       "    </tr>\n",
       "    </thead>\n",
       "    <tr class=\"\">\n",
       "        <td class=\"fillremaining\">15.014250063436828</td>\n",
       "        <td class=\"number\">1</td>\n",
       "        <td class=\"number\">0.0%</td>\n",
       "        <td>\n",
       "            <div class=\"bar\" style=\"width:100%\">&nbsp;</div>\n",
       "        </td>\n",
       "</tr><tr class=\"\">\n",
       "        <td class=\"fillremaining\">15.202838385621678</td>\n",
       "        <td class=\"number\">1</td>\n",
       "        <td class=\"number\">0.0%</td>\n",
       "        <td>\n",
       "            <div class=\"bar\" style=\"width:100%\">&nbsp;</div>\n",
       "        </td>\n",
       "</tr><tr class=\"\">\n",
       "        <td class=\"fillremaining\">15.230321587067742</td>\n",
       "        <td class=\"number\">1</td>\n",
       "        <td class=\"number\">0.0%</td>\n",
       "        <td>\n",
       "            <div class=\"bar\" style=\"width:100%\">&nbsp;</div>\n",
       "        </td>\n",
       "</tr><tr class=\"\">\n",
       "        <td class=\"fillremaining\">15.428371873680215</td>\n",
       "        <td class=\"number\">1</td>\n",
       "        <td class=\"number\">0.0%</td>\n",
       "        <td>\n",
       "            <div class=\"bar\" style=\"width:100%\">&nbsp;</div>\n",
       "        </td>\n",
       "</tr><tr class=\"\">\n",
       "        <td class=\"fillremaining\">16.003790007695365</td>\n",
       "        <td class=\"number\">1</td>\n",
       "        <td class=\"number\">0.0%</td>\n",
       "        <td>\n",
       "            <div class=\"bar\" style=\"width:100%\">&nbsp;</div>\n",
       "        </td>\n",
       "</tr>\n",
       "</table>\n",
       "        </div>\n",
       "    </div>\n",
       "</div>\n",
       "</div><div class=\"row variablerow\">\n",
       "    <div class=\"col-md-3 namecol\">\n",
       "        <p class=\"h4 pp-anchor\" id=\"pp_var_product\">product<br/>\n",
       "            <small>Numeric</small>\n",
       "        </p>\n",
       "    </div><div class=\"col-md-6\">\n",
       "    <div class=\"row\">\n",
       "        <div class=\"col-sm-6\">\n",
       "            <table class=\"stats \">\n",
       "                <tr>\n",
       "                    <th>Distinct count</th>\n",
       "                    <td>100000</td>\n",
       "                </tr>\n",
       "                <tr>\n",
       "                    <th>Unique (%)</th>\n",
       "                    <td>100.0%</td>\n",
       "                </tr>\n",
       "                <tr class=\"ignore\">\n",
       "                    <th>Missing (%)</th>\n",
       "                    <td>0.0%</td>\n",
       "                </tr>\n",
       "                <tr class=\"ignore\">\n",
       "                    <th>Missing (n)</th>\n",
       "                    <td>0</td>\n",
       "                </tr>\n",
       "                <tr class=\"ignore\">\n",
       "                    <th>Infinite (%)</th>\n",
       "                    <td>0.0%</td>\n",
       "                </tr>\n",
       "                <tr class=\"ignore\">\n",
       "                    <th>Infinite (n)</th>\n",
       "                    <td>0</td>\n",
       "                </tr>\n",
       "            </table>\n",
       "\n",
       "        </div>\n",
       "        <div class=\"col-sm-6\">\n",
       "            <table class=\"stats \">\n",
       "\n",
       "                <tr>\n",
       "                    <th>Mean</th>\n",
       "                    <td>92.5</td>\n",
       "                </tr>\n",
       "                <tr>\n",
       "                    <th>Minimum</th>\n",
       "                    <td>0</td>\n",
       "                </tr>\n",
       "                <tr>\n",
       "                    <th>Maximum</th>\n",
       "                    <td>185.36</td>\n",
       "                </tr>\n",
       "                <tr class=\"ignore\">\n",
       "                    <th>Zeros (%)</th>\n",
       "                    <td>0.0%</td>\n",
       "                </tr>\n",
       "            </table>\n",
       "        </div>\n",
       "    </div>\n",
       "</div>\n",
       "<div class=\"col-md-3 collapse in\" id=\"minihistogram-742804337656347385\">\n",
       "    <img src=\"data:image/png;base64,iVBORw0KGgoAAAANSUhEUgAAAMgAAABLCAYAAAA1fMjoAAAAOXRFWHRTb2Z0d2FyZQBNYXRwbG90bGliIHZlcnNpb24zLjUuMSwgaHR0cHM6Ly9tYXRwbG90bGliLm9yZy/YYfK9AAAACXBIWXMAAA9hAAAPYQGoP6dpAAABK0lEQVR4nO3dwQnCQBRAQSOWZBH25NmeLMKeYgPyMIJkXWfugb287A9LkmVd1/UAvHTcewEwstPeC5jZ%2BXrffM3jdvnCSviUQAYjqrEYsSDYQTb45O7ObxPIBLaGayR7nxELgkAgLP96UOh5Ypt/HcvsIBAEAkEgEAQCQSAQBAJBIBAEAmGKg0KHfmOa4XDRDgJBIBAEAkEgEAQCQSAQBAJBIBAEAkEgEAQCQSAQBAJBIBAEAkEgEAQCYbivu3s7kJEMFwjzmOFvWUYsCAKBIBAIAoEgEAgCgSAQCAKBIBAIAoEgEAhT/P4AvsUOAkEgEAQCQSAQBAJBIBAEAkEgEAQCQSAQBAJBIBAEAkEgEAQCQSAQBAJBIBAEAkEgEAQCQSAQBAJBIBAEAuEJQjYlXbl4MpAAAAAASUVORK5CYII%3D\">\n",
       "\n",
       "</div>\n",
       "<div class=\"col-md-12 text-right\">\n",
       "    <a role=\"button\" data-toggle=\"collapse\" data-target=\"#descriptives-742804337656347385,#minihistogram-742804337656347385\"\n",
       "       aria-expanded=\"false\" aria-controls=\"collapseExample\">\n",
       "        Toggle details\n",
       "    </a>\n",
       "</div>\n",
       "<div class=\"row collapse col-md-12\" id=\"descriptives-742804337656347385\">\n",
       "    <ul class=\"nav nav-tabs\" role=\"tablist\">\n",
       "        <li role=\"presentation\" class=\"active\"><a href=\"#quantiles-742804337656347385\"\n",
       "                                                  aria-controls=\"quantiles-742804337656347385\" role=\"tab\"\n",
       "                                                  data-toggle=\"tab\">Statistics</a></li>\n",
       "        <li role=\"presentation\"><a href=\"#histogram-742804337656347385\" aria-controls=\"histogram-742804337656347385\"\n",
       "                                   role=\"tab\" data-toggle=\"tab\">Histogram</a></li>\n",
       "        <li role=\"presentation\"><a href=\"#common-742804337656347385\" aria-controls=\"common-742804337656347385\"\n",
       "                                   role=\"tab\" data-toggle=\"tab\">Common Values</a></li>\n",
       "        <li role=\"presentation\"><a href=\"#extreme-742804337656347385\" aria-controls=\"extreme-742804337656347385\"\n",
       "                                   role=\"tab\" data-toggle=\"tab\">Extreme Values</a></li>\n",
       "\n",
       "    </ul>\n",
       "\n",
       "    <div class=\"tab-content\">\n",
       "        <div role=\"tabpanel\" class=\"tab-pane active row\" id=\"quantiles-742804337656347385\">\n",
       "            <div class=\"col-md-4 col-md-offset-1\">\n",
       "                <p class=\"h4\">Quantile statistics</p>\n",
       "                <table class=\"stats indent\">\n",
       "                    <tr>\n",
       "                        <th>Minimum</th>\n",
       "                        <td>0</td>\n",
       "                    </tr>\n",
       "                    <tr>\n",
       "                        <th>5-th percentile</th>\n",
       "                        <td>24.019</td>\n",
       "                    </tr>\n",
       "                    <tr>\n",
       "                        <th>Q1</th>\n",
       "                        <td>56.498</td>\n",
       "                    </tr>\n",
       "                    <tr>\n",
       "                        <th>Median</th>\n",
       "                        <td>91.85</td>\n",
       "                    </tr>\n",
       "                    <tr>\n",
       "                        <th>Q3</th>\n",
       "                        <td>128.56</td>\n",
       "                    </tr>\n",
       "                    <tr>\n",
       "                        <th>95-th percentile</th>\n",
       "                        <td>161.21</td>\n",
       "                    </tr>\n",
       "                    <tr>\n",
       "                        <th>Maximum</th>\n",
       "                        <td>185.36</td>\n",
       "                    </tr>\n",
       "                    <tr>\n",
       "                        <th>Range</th>\n",
       "                        <td>185.36</td>\n",
       "                    </tr>\n",
       "                    <tr>\n",
       "                        <th>Interquartile range</th>\n",
       "                        <td>72.067</td>\n",
       "                    </tr>\n",
       "                </table>\n",
       "            </div>\n",
       "            <div class=\"col-md-4 col-md-offset-2\">\n",
       "                <p class=\"h4\">Descriptive statistics</p>\n",
       "                <table class=\"stats indent\">\n",
       "                    <tr>\n",
       "                        <th>Standard deviation</th>\n",
       "                        <td>44.289</td>\n",
       "                    </tr>\n",
       "                    <tr>\n",
       "                        <th>Coef of variation</th>\n",
       "                        <td>0.4788</td>\n",
       "                    </tr>\n",
       "                    <tr>\n",
       "                        <th>Kurtosis</th>\n",
       "                        <td>-0.95151</td>\n",
       "                    </tr>\n",
       "                    <tr>\n",
       "                        <th>Mean</th>\n",
       "                        <td>92.5</td>\n",
       "                    </tr>\n",
       "                    <tr>\n",
       "                        <th>MAD</th>\n",
       "                        <td>37.709</td>\n",
       "                    </tr>\n",
       "                    <tr class=\"\">\n",
       "                        <th>Skewness</th>\n",
       "                        <td>0.0048162</td>\n",
       "                    </tr>\n",
       "                    <tr>\n",
       "                        <th>Sum</th>\n",
       "                        <td>9250000</td>\n",
       "                    </tr>\n",
       "                    <tr>\n",
       "                        <th>Variance</th>\n",
       "                        <td>1961.5</td>\n",
       "                    </tr>\n",
       "                    <tr>\n",
       "                        <th>Memory size</th>\n",
       "                        <td>781.4 KiB</td>\n",
       "                    </tr>\n",
       "                </table>\n",
       "            </div>\n",
       "        </div>\n",
       "        <div role=\"tabpanel\" class=\"tab-pane col-md-8 col-md-offset-2\" id=\"histogram-742804337656347385\">\n",
       "            <img src=\"data:image/png;base64,iVBORw0KGgoAAAANSUhEUgAAAlgAAAGQCAYAAAByNR6YAAAAOXRFWHRTb2Z0d2FyZQBNYXRwbG90bGliIHZlcnNpb24zLjUuMSwgaHR0cHM6Ly9tYXRwbG90bGliLm9yZy/YYfK9AAAACXBIWXMAAA9hAAAPYQGoP6dpAAA4%2BElEQVR4nO3de1xVVf7/8TdwBFPkpqINOdJ4Sy6RltGgA6KplaOm4YWmHGa0NCkG0sZ7WdNkJmYljUqTTlbfOklNXibTr%2BMlS%2BvbZbLD0aYk/Vp8VUjPESFBLuf3hz/PdMIUcyEceD0fDx/EWvustT5tOPvN3puNj8vlcgkAAADG%2BDb0AgAAAJoaAhYAAIBhBCwAAADDCFgAAACGEbAAAAAMI2ABAAAYRsACAAAwjIAFAABgGAELAADAMAIWAACAYQQsAAAAwwhYAAAAhhGwAAAADCNgAQAAGEbAAgAAMIyABQAAYBgBCwAAwDACFgAAgGEELAAAAMMIWAAAAIYRsAAAAAwjYAEAABhGwAIAADCMgAUAAGAYAQsAAMAwAhYAAIBhBCwAAADDCFgAAACGEbAAAAAMI2ABAAAYRsACAAAwjIAFAABgGAELAADAMAIWAACAYQQsAAAAwwhYAAAAhhGwAAAADGvUAWvHjh1KSEhQVlbWj25TVlam/v37a8aMGe62mpoaLV68WAMHDlSfPn00YcIEff311%2B5%2Bp9OpzMxMJSQkqF%2B/fpo9e7bKy8vd/Xv37tUdd9yha6%2B9VoMHD9aKFSvqp0AAANAkNdqA9dxzz%2BnRRx9V586dz7ndkiVLVFpa6tH28ssva926dcrNzdXWrVsVGRmp9PR0uVwuSdLcuXN18uRJrV%2B/Xq%2B//roKCgqUnZ0tSSovL9ekSZN0ww03aMeOHVq8eLGWL1%2BuTZs21U%2BhAACgybE09AJ%2BTEBAgPLy8vTnP/9ZFRUVZ93m888/1/r16zVy5EidOHHC3W61WpWWlqYuXbpIkrKyshQfH6/du3friiuu0ObNm/X3v/9dYWFhkqQpU6boD3/4g6ZPn65t27apsrJS99xzj/z8/BQdHa3Ro0fLarVq8ODBP7me4uIT59/oAvn6%2BigsrLWOHStTTY3L%2BPiNCbU2Pc2lTolamypq9Q7t27dpkHkb7Rms8ePHq02bH/%2Bf4nK5NG/ePGVlZSkoKMjdXl5ern379ikqKsrdFhgYqM6dO8tms2nv3r3y8/NTjx493P3R0dH67rvv9NVXX8lut6tHjx7y8/Nz90dFRSk/P99whRfP19dHPj4%2B8vX1aeil1DtqbXqaS50StTZV1IpzabRnsM7HarXKx8dHo0aNUk5Ojrv9%2BPHjcrlcCg4O9tg%2BODhYDodDISEhCgwMlI%2BPj0efJDkcDjmdTo/AJkkhISFyOp2qqamRr%2B/5M2lRUZGKi4s92iyWVgoPD7/gOs/Fz8/X42NTRq1NT3OpU6LWpopacS5eGbCOHj2qp59%2BWn/72988gtL3nbnf6kL7fsyPzXM2VqvVI/RJUnp6ujIyMi543roICrqsXsZtjKi16WkudUrU2lRRK87GKwPW448/rltvvdXjMt8ZISEh8vX1ldPp9Gh3Op1q27atwsLCVFpaqurqavdlwDPbnuk/cOBArdeeGbcuxo4dqwEDBni0WSyt5HCU1a3AOvLz81VQ0GUqKTmp6uoao2M3NtTa9DSXOiVqbaqo1TuEhrZukHm9MmCtXbtWQUFBeuONNySdvu%2BqpqZGW7du1QcffKBu3brJbrfr%2BuuvlySVlJTo4MGDuvrqqxURESGXy6XPP/9c0dHRkiSbzaagoCBdeeWViomJ0SuvvKKqqipZLBZ3f1xcXJ3XFx4eXutyYHHxCVVV1c8XZXV1Tb2N3dhQa9PTXOqUqLWpolacjVcGrO3bt3t8vnLlSh0%2BfFgzZ86UJKWmpio3N1eJiYnq0KGDsrOz1bNnT8XGxkqShgwZoqeeekoLFizQqVOn9OyzzyolJUUWi0VJSUkKDAzU0qVLNXHiRH3xxRfKy8vTwoULL3mdAADAOzXagHUmDFVVVUmSNm/eLOn02aSOHTt6bBsYGKjLLrvM3T5u3DgVFxfrzjvvVFlZmeLj4z3uiXrkkUf00EMPaeDAgWrRooV%2B/etfux9m6u/vr2XLlumhhx5Sbm6u2rVrp6ysLPXv37%2B%2BSwYAAE2Ej%2Bun3PGNC1Yfz8GyWHwVGtpaDkdZkz9lS61NT3OpU6LWpopavQPPwQIAAGgiCFgAAACGEbAAAAAMI2ABAAAYRsACAAAwjIAFAABgWKN9DhaApuvmp95r6CVckA2ZfRt6CQC8DGewAAAADCNgAQAAGEbAAgAAMIyABQAAYBgBCwAAwDB%2BixAAzoPfegRwoTiDBQAAYBgBCwAAwDACFgAAgGEELAAAAMMIWAAAAIYRsAAAAAwjYAEAABhGwAIAADCMgAUAAGAYAQsAAMAwAhYAAIBhBCwAAADDCFgAAACGWRp6AQDMuPmp9xp6CQCA/48zWAAAAIYRsAAAAAwjYAEAABjGPVgA0MR40/14GzL7NvQSgHrBGSwAAADDCFgAAACGEbAAAAAMI2ABAAAY1qgD1o4dO5SQkKCsrKxafZs2bdLw4cPVq1cvDRkyRK%2B99ppH/6pVqzRkyBD17t1bqampys/Pd/dVVFTowQcfVGJiouLj45WRkSGHw%2BHuLyws1N133634%2BHglJydr4cKFqqmpqb9CAQBAk9JoA9Zzzz2nRx99VJ07d67V99lnn2natGnKyMjQhx9%2BqFmzZumRRx7RRx99JEnasmWLlixZoieeeEI7d%2B5UcnKyJk%2BerO%2B%2B%2B06StHjxYtntdlmtVm3cuFEul0szZ850j3/fffepQ4cO2rx5s1auXKnNmzfrhRdeuDSFAwAAr9doA1ZAQIDy8vLOGrCcTqcmTZqkG2%2B8URaLRUlJSerevbs7YFmtVo0aNUpxcXFq2bKlJk6cKEnaunWrqqqqlJeXpylTpujyyy9XSEiIMjMztW3bNh05ckQ2m02ff/65pk2bpjZt2igyMlJpaWmyWq2XtH4AAOC9Gu1zsMaPH/%2BjfYmJiUpMTHR/XlVVpeLiYnXo0EGSZLfbdcstt7j7fX191bNnT9lsNvXs2VMnTpxQdHS0u79Lly5q2bKl7Ha7ioqKFBERoeDgYHd/dHS09u/fr9LSUgUGBp537UVFRSouLvZos1haKTw8/PyFXwA/P1%2BPj00ZtQJNk8XivV/nzel7tTnVakqjDVgXIjs7W61atXKHKqfT6RGQJCk4OFgOh0NOp1OSFBQU5NEfFBTk7v9h35mxHA5HnQKW1WpVTk6OR1t6eroyMjIuqK66Cgq6rF7GbYyoFWhaQkNbN/QSLlpz%2Bl5tTrVeLK8OWC6XS9nZ2Vq/fr1WrVqlgIAAj77zvfan9NXF2LFjNWDAAI82i6WVHI6yixr3h/z8fBUUdJlKSk6qurpp34RPrUDTZPp98VJqTt%2Br3lxrQ4V4rw1YNTU1mjlzpj777DO98sor6tSpk7svNDTUfabqDKfTqW7duiksLMz9eevW//mffvz4cbVt21bV1dVnfa2Pj4/7tecTHh5e63JgcfEJVVXVzxdldXVNvY3d2FAr0LQ0ha/x5vS92pxqvVheezH1scce05dfflkrXElSTEyM7Ha7%2B/Pq6mrt2bNHcXFx6tSpk4KDgz36v/jiC506dUoxMTGKiYnRoUOHdOzYMXe/zWZT165dPQIZAADAj/HKgPXxxx9r7dq1ys3NVUhISK3%2B1NRUvfnmm/r000918uRJLV26VP7%2B/urfv7/8/Pw0ZswYLVu2TIcOHZLD4dCTTz6pQYMGqV27doqKilJsbKwWLVqk0tJSFRQUaOXKlUpNTb30hQIAAK/UaC8RxsbGSjr9G4KStHnzZkmnzya9/vrrOnHihJKTkz1e06dPH61YsUKJiYm6//77lZmZqaNHjyo2Nla5ublq2bKlJCkjI0NlZWUaMWKEqqqqlJycrHnz5rnHeeaZZzR37lz17dtXgYGBGjdunG6//fZLUDUAAGgKfFwXe0c36qS4%2BITxMS0WX4WGtpbDUdbkr4lT6/nd/NR79bgqoH5syOzb0Ev4yXhf8g7t27dpkHm98hIhAABAY0bAAgAAMKzR3oMFNDQuuQEAfirOYAEAABjGGSwAQIPxtjPF3nxTPi4tzmABAAAYRsACAAAwjIAFAABgGAELAADAMAIWAACAYQQsAAAAwwhYAAAAhhGwAAAADCNgAQAAGEbAAgAAMIyABQAAYBgBCwAAwDACFgAAgGEELAAAAMMIWAAAAIYRsAAAAAwjYAEAABhGwAIAADCMgAUAAGAYAQsAAMAwAhYAAIBhBCwAAADDCFgAAACGEbAAAAAMI2ABAAAYRsACAAAwjIAFAABgGAELAADAMAIWAACAYY06YO3YsUMJCQnKysqq1ffWW29p2LBh6tWrl0aNGqV3333X3VdTU6PFixdr4MCB6tOnjyZMmKCvv/7a3e90OpWZmamEhAT169dPs2fPVnl5ubt/7969uuOOO3Tttddq8ODBWrFiRf0WCgAAmpRGG7Cee%2B45Pfroo%2BrcuXOtvr1792r69OmaNm2a3n//faWlpenee%2B/V4cOHJUkvv/yy1q1bp9zcXG3dulWRkZFKT0%2BXy%2BWSJM2dO1cnT57U%2BvXr9frrr6ugoEDZ2dmSpPLyck2aNEk33HCDduzYocWLF2v58uXatGnTpSseAAB4tUYbsAICApSXl3fWgLV69WolJSUpKSlJAQEBGj58uLp37661a9dKkqxWq9LS0tSlSxcFBgYqKytLBQUF2r17t7799ltt3rxZWVlZCgsLU4cOHTRlyhS9/vrrqqys1LZt21RZWal77rlHrVq1UnR0tEaPHi2r1Xqp/xcAAAAv1WgD1vjx49WmTZuz9tntdkVFRXm0RUVFyWazqby8XPv27fPoDwwMVOfOnWWz2bR37175%2BfmpR48e7v7o6Gh99913%2Buqrr2S329WjRw/5%2Bfl5jJ2fn2%2B4QgAA0FRZGnoBP4XT6VRwcLBHW3BwsPbt26fjx4/L5XKdtd/hcCgkJESBgYHy8fHx6JMkh8Mhp9OpoKAgj9eGhITI6XSqpqZGvr7nz6RFRUUqLi72aLNYWik8PPyC6jwfPz9fj49NWXOqFUDjZbH85z2oOb0vNadaTfHKgCXJfT/VT%2Bk/32vP5vuB7HysVqtycnI82tLT05WRkXHB89ZFUNBl9TJuY9ScagXQ%2BISGtq7V1pzel5pTrRfLKwNWaGionE6nR5vT6VRYWJhCQkLk6%2Bt71v62bdsqLCxMpaWlqq6udl8GPLPtmf4DBw7Ueu2Zceti7NixGjBggEebxdJKDkdZnWusCz8/XwUFXaaSkpOqrq4xOnZj05xqBdB4ff99vDm9L3lzrWcLxZeCVwasmJiYWvdE2Ww2DR06VAEBAerWrZvsdruuv/56SVJJSYkOHjyoq6%2B%2BWhEREXK5XPr8888VHR3tfm1QUJCuvPJKxcTE6JVXXlFVVZUsFou7Py4urs7rCw8Pr3U5sLj4hKqq6ueLsrq6pt7GbmyaU60AGp%2Bzvf80p/el5lTrxfLKi6ljxozRzp07tW3bNlVUVCgvL08HDhzQ8OHDJUmpqalatWqVCgoKVFpaquzsbPXs2VOxsbEKCwvTkCFD9NRTT%2BnYsWM6fPiwnn32WaWkpMhisSgpKUmBgYFaunSpTp48qd27dysvL0%2BpqakNXDUAAPAWjfYMVmxsrCSpqqpKkrR582ZJp88mde/eXdnZ2Zo/f74KCwvVtWtXLV%2B%2BXO3bt5ckjRs3TsXFxbrzzjtVVlam%2BPh4j3uiHnnkET300EMaOHCgWrRooV//%2Btfuh5n6%2B/tr2bJleuihh5Sbm6t27dopKytL/fv3v4TVAwAAb%2Bbj%2Bil3fOOCFRefMD6mxeKr0NDWcjjKmvwp24ao9ean3rsk8wDwHhsy%2B7r/m/dg79C%2B/dkf%2BVTfvPISIQAAQGNGwAIAADCMgAUAAGAYAQsAAMAwAhYAAIBhBCwAAADDCFgAAACGEbAAAAAMI2ABAAAYRsACAAAwjIAFAABgGAELAADAMAIWAACAYQQsAAAAwwhYAAAAhlkaegFoPm5%2B6r2GXgIAAJcEAQsAgDryth8UN2T2beglNFtcIgQAADCMgAUAAGAYAQsAAMAwAhYAAIBhBCwAAADDCFgAAACGEbAAAAAMI2ABAAAYRsACAAAwjIAFAABgmPGANWDAAOXk5OjQoUOmhwYAAPAKxgPWbbfdprfeeks33nijJk6cqE2bNqmqqsr0NAAAAI2W8YCVnp6ut956S6%2B99pq6deumxx57TElJSVq4cKH2799vejoAAIBGp97uwYqOjtb06dO1detWzZo1S6%2B99ppuueUWTZgwQZ999ll9TQsAANDg6i1gVVZW6q233tJdd92l6dOnq0OHDpo5c6Z69uyptLQ0rVu3rr6mBgAAaFAW0wMWFBQoLy9Pb775psrKyjRkyBC98MILuvbaa93b9OnTR/PmzdOwYcNMTw8AANDgjAesoUOH6sorr9SkSZN06623KiQkpNY2SUlJOnbsmOmpAQAAGgXjlwhXrVqlDRs2KC0t7azh6ozdu3df1Dx79uzR%2BPHjdd1116lv376aNm2aO7Tt2rVLKSkp6t27t4YOHaq1a9fWWuOQIUPUu3dvpaamKj8/391XUVGhBx98UImJiYqPj1dGRoYcDsdFrRUAADQvxgNWjx49NHnyZG3evNnd9re//U133XWXnE6nkTmqqqp0991365prrtHOnTu1fv16HTt2TPPmzVNRUZGmTJmicePGadeuXZo9e7bmzp0rm80mSdqyZYuWLFmiJ554Qjt37lRycrImT56s7777TpK0ePFi2e12Wa1Wbdy4US6XSzNnzjSybgAA0DwYD1jz58/XiRMn1LVrV3db//79VVNTo8cff9zIHMXFxSouLtaIESPk7%2B%2Bv0NBQDRo0SHv37tW6desUGRmplJQUBQQEKCEhQQMGDNDq1aslSVarVaNGjVJcXJxatmypiRMnSpK2bt2qqqoq5eXlacqUKbr88ssVEhKizMxMbdu2TUeOHDGydgAA0PQZD1jvvvuucnJyFBkZ6W6LjIxUdna2duzYYWSODh06qGfPnrJarSorK9PRo0e1adMm9e/fX3a7XVFRUR7bR0VFuS8D/rDf19dXPXv2lM1m08GDB3XixAlFR0e7%2B7t06aKWLVvKbrcbWTsAAGj6jN/kXl5eroCAgFrtvr6%2BOnnypJE5fH19tWTJEqWlpemFF16QJF1//fWaOnWqpkyZog4dOnhsHxIS4r6Pyul0Kjg42KM/ODhYDofDfQkzKCjIoz8oKOiC7sMqKipScXGxR5vF0krh4eF1HqMu/Px8PT4CAPB9FouZ4wPHmwtnPGD16dNHjz/%2BuKZOneoOMkeOHNGCBQs8HtVwMU6dOqXJkyfrpptuct8/9fDDD2vatGl1er3L5bqo/vOxWq3KycnxaEtPT1dGRsZFjftjgoIuq5dxAQDeLTS0tdHxON7UnfGANWvWLP3%2B97/XL3/5SwUGBqqmpkZlZWXq1KmTXnzxRSNz7Nq1S998843uv/9%2B%2Bfn5qU2bNsrIyNCIESP0q1/9qtbN9A6HQ2FhYZKk0NDQWv1Op1PdunVzb%2BN0OtW69X%2B%2BKI8fP662bdvWeX1jx47VgAEDPNosllZyOMouoMrz8/PzVVDQZSopOanq6hqjYwMAvJ%2Bp4443H29Mh8y6Mh6wOnXqpH/84x965513dPDgQfn6%2BurKK69Uv3795OfnZ2SO6upq1dTUeJxpOnXqlCQpISFBf//73z22z8/PV1xcnCQpJiZGdrtdI0eOdI%2B1Z88epaSkqFOnTgoODpbdbldERIQk6YsvvtCpU6cUExNT5/WFh4fXuhxYXHxCVVX180VZXV1Tb2MDALyX6WMDx5u6q5eLqf7%2B/rrxxhv1%2B9//XmlpaUpKSjIWriSpV69eatWqlZYsWaKTJ0/K4XBo6dKl6tOnj0aMGKHCwkKtXr1aFRUV2r59u7Zv364xY8ZIklJTU/Xmm2/q008/1cmTJ7V06VL5%2B/urf//%2B8vPz05gxY7Rs2TIdOnRIDodDTz75pAYNGqR27doZWz8AAGjajJ/B%2Bvrrr7Vo0SJ9%2BeWXKi8vr9X/z3/%2B86LnCA0N1fPPP68FCxYoMTFR/v7%2Buv766zVv3jy1bdtWy5cv16OPPqqHH35YERERWrhwoa666ipJUmJiou6//35lZmbq6NGjio2NVW5urlq2bClJysjIUFlZmUaMGKGqqiolJydr3rx5F71mAADQfPi4LvaO7h%2B48847VVRUpH79%2BqlVq1a1%2BqdOnWpyOq9RXHzC%2BJgWi69CQ1vL4SjzilO2Nz/1XkMvAQCalQ2ZfY2M423Hm%2B9r375Ng8xr/AxWfn6%2B/vnPf7pvGAcAAGhujN%2BD1bZt27OeuQIAAGgujAesSZMmKScn56KfJQUAAOCtjF8ifOedd/TJJ5/ojTfe0BVXXCFfX88M9%2Bqrr5qeEgAAoFExHrACAwOVmJhoelgAAACvYTxgzZ8/3/SQAAAAXqVeHjT61VdfacmSJZo5c6a77V//%2Bld9TAUAANDoGA9Yu3bt0vDhw7Vp0yatX79e0umHj44fP97IQ0YBAAAaO%2BMBa/HixXrggQe0bt06%2Bfj4SDr99wkff/xxPfvss6anAwAAaHSMB6wvvvhCqampkuQOWJJ00003qaCgwPR0AAAAjY7xgNWmTZuz/g3CoqIi%2Bfv7m54OAACg0TEesHr37q3HHntMpaWl7rb9%2B/dr%2BvTp%2BuUvf2l6OgAAgEbH%2BGMaZs6cqd/%2B9reKj49XdXW1evfurZMnT6pbt256/PHHTU8HAADQ6BgPWB07dtT69eu1fft27d%2B/Xy1bttSVV16pvn37etyTBQAA0FQZD1iS1KJFC9144431MTQAAECjZzxgDRgw4JxnqngWFgAAaOqMB6xbbrnFI2BVV1dr//79stls%2Bu1vf2t6OgAAgEbHeMCaNm3aWds3btyoDz74wPR0AAAAjU69/C3Cs7nxxhv1j3/841JNBwAA0GAuWcDas2ePXC7XpZoOAACgwRi/RDhu3LhabSdPnlRBQYEGDx5sejoAAIBGx3jAioyMrPVbhAEBAUpJSdHo0aNNTwcAANDoGA9YPK0dAAA0d8YD1ptvvlnnbW%2B99VbT0wMAADQ44wFr9uzZqqmpqXVDu4%2BPj0ebj48PAQsAADRJxgPWX//6V61YsUKTJ09Wjx495HK59O9//1vPPfec7rjjDsXHx5ueEgAAoFGpl3uwcnNz1aFDB3fbddddp06dOmnChAlav3696SkBAAAaFePPwTpw4ICCg4NrtQcFBamwsND0dAAAAI2O8YAVERGhxx9/XA6Hw91WUlKiRYsW6ec//7np6QAAABod45cIZ82apalTp8pqtap169by9fVVaWmpWrZsqWeffdb0dAAAAI2O8YDVr18/bdu2Tdu3b9fhw4flcrnUoUMH/epXv1KbNm1MTwcAANDoGA9YknTZZZdp4MCBOnz4sDp16lQfUwAAADRaxu/BKi8v1/Tp09WrVy/dfPPNkk7fgzVx4kSVlJSYng4AAKDRMR6wFi5cqL179yo7O1u%2Bvv8Zvrq6WtnZ2aanAwAAaHSMB6yNGzfqmWee0U033eT%2Bo89BQUGaP3%2B%2BNm3aZHo6AACARsd4wCorK1NkZGSt9rCwMH333XdG51q6dKn69euna665Rmlpafrmm28kSbt27VJKSop69%2B6toUOHau3atR6vW7VqlYYMGaLevXsrNTVV%2Bfn57r6Kigo9%2BOCDSkxMVHx8vDIyMjweOQEAAHA%2BxgPWz3/%2Bc33wwQeS5PG3B99%2B%2B2397Gc/MzbPyy%2B/rLVr12rVqlV699131bVrV/3tb39TUVGRpkyZonHjxmnXrl2aPXu25s6dK5vNJknasmWLlixZoieeeEI7d%2B5UcnKyJk%2Be7A5/ixcvlt1ul9Vq1caNG%2BVyuTRz5kxj6wYAAE2f8d8ivP3223XffffptttuU01NjVauXKn8/Hxt3LhRs2fPNjbPihUrNH36dP3iF7%2BQJM2ZM0eS9PzzzysyMlIpKSmSpISEBA0YMECrV69WbGysrFarRo0apbi4OEnSxIkTtWrVKm3dulVDhgxRXl6eFixYoMsvv1ySlJmZqaFDh%2BrIkSMef/4HAADgxxgPWGPHjpXFYtFLL70kPz8/LVu2TFdeeaWys7N10003GZnjyJEj%2Buabb3T8%2BHHdcsstOnr0qOLj4zVv3jzZ7XZFRUV5bB8VFaUNGzZIkux2u2655RZ3n6%2Bvr3r27CmbzaaePXvqxIkTio6Odvd36dJFLVu2lN1ur3PAKioqUnFxsUebxdJK4eHhP7Xks/Lz8/X4CADA91ksZo4PHG8unPGAdezYMd1222267bbbTA/tdvjwYUmnLzuuXLlSLpdLGRkZmjNnjsrLy2sFoZCQEPd9VE6ns9bfSgwODpbD4ZDT6ZR0%2Bqb87wsKCrqg%2B7CsVqtycnI82tLT05WRkVHnMS5EUNBl9TIuAMC7hYa2Njoex5u6Mx6wBg4cqE8%2B%2BcT9G4T14cy9XRMnTnSHqfvuu0933XWXEhIS6vz6n9p/PmPHjtWAAQM82iyWVnI4yi5q3B/y8/NVUNBlKik5qerqGqNjAwC8n6njjjcfb0yHzLoyHrDi4%2BO1YcMGj8twprVr106S55mmiIgIuVwuVVZWus9EneFwOBQWFiZJCg0NrdXvdDrVrVs39zZOp1OtW/9nhxw/flxt27at8/rCw8NrXQ4sLj6hqqr6%2BaKsrq6pt7EBAN7L9LGB403dGQ9Yl19%2Buf785z8rNzdXP//5z9WiRQuP/kWLFl30HB07dlRgYKD27t3rvl%2BqsLBQLVq0UFJSktasWeOxfX5%2Bvvum9piYGNntdo0cOVLS6Qeg7tmzRykpKerUqZOCg4Nlt9sVEREhSfriiy906tQpxcTEXPS6AQBA82D8brV9%2B/bpF7/4hdq0aSOHw6GioiKPfyZYLBalpKRo2bJl%2Bt///V8dPXpUzz77rIYNG6aRI0eqsLBQq1evVkVFhbZv367t27drzJgxkqTU1FS9%2Beab%2BvTTT3Xy5EktXbpU/v7%2B6t%2B/v/z8/DRmzBgtW7ZMhw4dksPh0JNPPqlBgwa5z5oBAACcj7EzWFlZWVq8eLFefPFFd9uzzz6r9PR0U1N4mDp1qk6dOqXRo0ersrJSQ4YM0Zw5c9S6dWstX75cjz76qB5%2B%2BGFFRERo4cKFuuqqqyRJiYmJuv/%2B%2B5WZmamjR48qNjZWubm5atmypSQpIyNDZWVlGjFihKqqqpScnKx58%2BbVSw0AAKBp8nFd7B3d/19cXJx279593rbmqrj4hPExLRZfhYa2lsNR5hXXxG9%2B6r2GXgIANCsbMvsaGcfbjjff1759mwaZ19glwrPlNEPZDQAAwKsYC1hneyxDfT6qAQAAoLHikawAAACGEbAAAAAMM/ZbhJWVlZo6dep520w8BwsAAKAxMxawrr322lrPuTpbGwAAQFNnLGB9//lXAAAAzRn3YAEAABhGwAIAADCMgAUAAGAYAQsAAMAwAhYAAIBhBCwAAADDCFgAAACGEbAAAAAMI2ABAAAYRsACAAAwjIAFAABgGAELAADAMAIWAACAYQQsAAAAwwhYAAAAhhGwAAAADCNgAQAAGEbAAgAAMIyABQAAYBgBCwAAwDACFgAAgGEELAAAAMMIWAAAAIYRsAAAAAwjYAEAABhGwAIAADCMgAUAAGBYkwhYjz32mHr06OH%2BfNeuXUpJSVHv3r01dOhQrV271mP7VatWaciQIerdu7dSU1OVn5/v7quoqNCDDz6oxMRExcfHKyMjQw6H45LVAgAAvJ/XB6y9e/dqzZo17s%2BLioo0ZcoUjRs3Trt27dLs2bM1d%2B5c2Ww2SdKWLVu0ZMkSPfHEE9q5c6eSk5M1efJkfffdd5KkxYsXy263y2q1auPGjXK5XJo5c2aD1AYAALyTVwesmpoaPfTQQ0pLS3O3rVu3TpGRkUpJSVFAQIASEhI0YMAArV69WpJktVo1atQoxcXFqWXLlpo4caIkaevWraqqqlJeXp6mTJmiyy%2B/XCEhIcrMzNS2bdt05MiRhigRAAB4IUtDL%2BBivPrqqwoICNCwYcP01FNPSZLsdruioqI8touKitKGDRvc/bfccou7z9fXVz179pTNZlPPnj114sQJRUdHu/u7dOmili1bym63q0OHDnVaV1FRkYqLiz3aLJZWCg8P/yll/ig/P1%2BPjwAAfJ/FYub4wPHmwnltwPr222%2B1ZMkSvfjiix7tTqezVhAKCQlx30fldDoVHBzs0R8cHCyHwyGn0ylJCgoK8ugPCgq6oPuwrFarcnJyPNrS09OVkZFR5zEuRFDQZfUyLgDAu4WGtjY6HsebuvPagDV//nyNGjVKXbt21TfffHNBr3W5XBfVfz5jx47VgAEDPNosllZyOMouatwf8vPzVVDQZSopOanq6hqjYwMAvJ%2Bp4443H29Mh8y68sqAtWvXLv3rX//S%2BvXra/WFhoa6z0Sd4XA4FBYW9qP9TqdT3bp1c2/jdDrVuvV/dsjx48fVtm3bOq8vPDy81uXA4uITqqqqny/K6uqaehsbAOC9TB8bON7UnVdeTF27dq2OHj2q5ORkxcfHa9SoUZKk%2BPh4de/e3eOxC5KUn5%2BvuLg4SVJMTIzsdru7r7q6Wnv27FFcXJw6deqk4OBgj/4vvvhCp06dUkxMzCWoDAAANAVeGbBmzJihjRs3as2aNVqzZo1yc3MlSWvWrNGwYcNUWFio1atXq6KiQtu3b9f27ds1ZswYSVJqaqrefPNNffrppzp58qSWLl0qf39/9e/fX35%2BfhozZoyWLVumQ4cOyeFw6Mknn9SgQYPUrl27hiwZAAB4Ea%2B8RBgcHOxxo3pVVZUkqWPHjpKk5cuX69FHH9XDDz%2BsiIgILVy4UFdddZUkKTExUffff78yMzN19OhRxcbGKjc3Vy1btpQkZWRkqKysTCNGjFBVVZWSk5M1b968S1sgAADwaj6ui72jG3VSXHzC%2BJgWi69CQ1vL4SjzimviNz/1XkMvAQCalQ2ZfY2M423Hm%2B9r375Ng8zrlZcIAQAAGjMCFgAAgGFeeQ8W/uO62W839BIAAMAPcAYLAADAMM5gAQDQRHnTLxeZuiG/seAMFgAAgGEELAAAAMMIWAAAAIYRsAAAAAwjYAEAABhGwAIAADCMgAUAAGAYAQsAAMAwAhYAAIBhBCwAAADDCFgAAACGEbAAAAAMI2ABAAAYRsACAAAwjIAFAABgGAELAADAMAIWAACAYQQsAAAAwwhYAAAAhhGwAAAADCNgAQAAGEbAAgAAMIyABQAAYBgBCwAAwDACFgAAgGEELAAAAMMIWAAAAIYRsAAAAAwjYAEAABjmtQGrsLBQ6enpio%2BPV0JCgmbMmKGSkhJJ0t69e3XHHXfo2muv1eDBg7VixQqP17711lsaNmyYevXqpVGjRundd99199XU1Gjx4sUaOHCg%2BvTpowkTJujrr7%2B%2BpLUBAADv5rUBa/LkyQoKCtKWLVv0xhtv6Msvv9SCBQtUXl6uSZMm6YYbbtCOHTu0ePFiLV%2B%2BXJs2bZJ0OnxNnz5d06ZN0/vvv6%2B0tDTde%2B%2B9Onz4sCTp5Zdf1rp165Sbm6utW7cqMjJS6enpcrlcDVkuAADwIl4ZsEpKShQTE6OpU6eqdevW6tixo0aOHKmPPvpI27ZtU2Vlpe655x61atVK0dHRGj16tKxWqyRp9erVSkpKUlJSkgICAjR8%2BHB1795da9eulSRZrValpaWpS5cuCgwMVFZWlgoKCrR79%2B6GLBkAAHgRrwxYQUFBmj9/vtq1a%2BduO3TokMLDw2W329WjRw/5%2Bfm5%2B6KiopSfny9JstvtioqK8hgvKipKNptN5eXl2rdvn0d/YGCgOnfuLJvNVs9VAQCApsLS0AswwWaz6aWXXtLSpUu1YcMGBQUFefSHhITI6XSqpqZGTqdTwcHBHv3BwcHat2%2Bfjh8/LpfLddZ%2Bh8NR5/UUFRWpuLjYo81iaaXw8PALrOzc/Py8Mh8DAFCLxdK0jmleH7A%2B/vhj3XPPPZo6daoSEhK0YcOGs27n4%2BPj/u/z3U91sfdbWa1W5eTkeLSlp6crIyPjosYFAKCpCg1t3dBLMMqrA9aWLVv0wAMPaO7cubr11lslSWFhYTpw4IDHdk6nUyEhIfL19VVoaKicTmet/rCwMPc2Z%2Btv27Ztndc1duxYDRgwwKPNYmklh6OszmPUBWewAABNhelj5BkNFdy8NmB98sknmj59up5%2B%2Bmn169fP3R4TE6NXXnlFVVVVslhOl2ez2RQXF%2BfuP3M/1hk2m01Dhw5VQECAunXrJrvdruuvv17S6RvqDx48qKuvvrrOawsPD691ObC4%2BISqqmp%2BUq0AADR1Te0Y6ZWnQKqqqjRnzhxNmzbNI1xJUlJSkgIDA7V06VKdPHlSu3fvVl5enlJTUyVJY8aM0c6dO7Vt2zZVVFQoLy9PBw4c0PDhwyVJqampWrVqlQoKClRaWqrs7Gz17NlTsbGxl7xOAADgnXxcXviAp48%2B%2Bki/%2Bc1v5O/vX6vv7bffVllZmR566CHl5%2BerXbt2uuuuu3T77be7t9m0aZMWLVqkwsJCde3aVbNnz1afPn0knb7/asmSJXr11VdVVlam%2BPh4PfLII%2BrYseNFrbm4%2BMRFvf5sLBZfDcreYXxcAAAutQ2Zfetl3Pbt29TLuOfjlQHLGxGwAAD4cU0tYHnlJUIAAIDGjIAFAABgGAELAADAMAIWAACAYQQsAAAAwwhYAAAAhhGwAAAADCNgAQAAGEbAAgAAMIyABQAAYBgBCwAAwDACFgAAgGEELAAAAMMIWAAAAIYRsAAAAAwjYAEAABhGwAIAADCMgAUAAGAYAQsAAMAwAhYAAIBhBCwAAADDCFgAAACGEbAAAAAMI2ABAAAYRsACAAAwjIAFAABgGAELAADAMAIWAACAYQQsAAAAwwhYAAAAhhGwAAAADCNgAQAAGEbAAgAAMIyABQAAYBgBCwAAwDAC1lkUFhbq7rvvVnx8vJKTk7Vw4ULV1NQ09LIAAICXsDT0Ahqj%2B%2B67T9HR0dq8ebOOHj2qSZMmqV27dvrd737X0EsDAABegDNYP2Cz2fT5559r2rRpatOmjSIjI5WWliar1drQSwMAAF6CM1g/YLfbFRERoeDgYHdbdHS09u/fr9LSUgUGBp53jKKiIhUXF3u0WSytFB4ebnStfn7kYwBA02CxNK1jGgHrB5xOp4KCgjzazoQth8NRp4BltVqVk5Pj0XbvvffqvvvuM7dQnQ5yv%2B34pcaOHWs8vDU2RUVFslqt1NqENJc6JWptqqgV59K04qIhLpfrol4/duxYvfHGGx7/xo4da2h1/1FcXKycnJxaZ8uaImpteppLnRK1NlXUinPhDNYPhIWFyel0erQ5nU75%2BPgoLCysTmOEh4eT8AEAaMY4g/UDMTExOnTokI4dO%2BZus9ls6tq1q1q3bt2AKwMAAN6CgPUDUVFRio2N1aJFi1RaWqqCggKtXLlSqampDb00AADgJQhYZ/HMM8%2BoqKhIffv21fjx43Xrrbfq9ttvb%2Bhl1dK%2BfXvde%2B%2B9at%2B%2BfUMvpd5Ra9PTXOqUqLWpolaci4/rYu/oBgAAgAfOYAEAABhGwAIAADCMgAUAAGAYAQsAAMAwAhYAAIBhBCwAAADDCFgAAACGEbAAAAAMI2ABAAAYRsDyQoWFhbr77rsVHx%2Bv5ORkLVy4UDU1NQ29LGMKCwuVnp6u%2BPh4JSQkaMaMGSopKdE333yjHj16KDY21uPf888/39BL/kl69OihmJgYj1r%2B9Kc/SZJ27dqllJQU9e7dW0OHDtXatWsbeLU/3Ycfflhrn8XExKhHjx764IMPzrpPN2zY0NDLviA7duxQQkKCsrKyavW99dZbGjZsmHr16qVRo0bp3XffdffV1NRo8eLFGjhwoPr06aMJEybo66%2B/vpRLvyDnqnPTpk0aPny4evXqpSFDhui1115z9y1ZskQ9e/astZ%2B//fbbS7n8C/Jjtb7xxhu66qqratXy2WefSfK%2BfSr9eK1z5sypVWdUVJRmzpwpSZoxY4b77/ee%2BXfdddc1RAmNkwteZ%2BTIka45c%2Ba4SkpKXPv373cNHjzYtWLFioZeljG//vWvXTNmzHCVlpa6Dh065Bo1apRr1qxZrq%2B//trVvXv3hl6eMd27d3d9/fXXtdqPHDniuuaaa1yrV692lZeXu9577z3X1Vdf7frss88aYJX1Y%2BnSpa4//OEPrvfff9%2BVnJzc0Mu5KLm5ua7Bgwe7xo0b58rMzPTo27NnjysmJsa1bds2V3l5uWvNmjWuuLg416FDh1wul8u1atUqV3Jysmvfvn2uEydOuB555BHXsGHDXDU1NQ1Ryjmdq87du3e7YmNjXf/93//tqqysdG3bts0VHR3t%2BvDDD10ul8v1zDPPuKZPn94Qy/5JzlXr66%2B/7rrjjjt%2B9LXetE9drnPX%2BkOVlZWuoUOHurZt2%2BZyuVyu6dOnu5555plLsUyvxBksL2Oz2fT5559r2rRpatOmjSIjI5WWliar1drQSzOipKREMTExmjp1qlq3bq2OHTtq5MiR%2Buijjxp6aZfMunXrFBkZqZSUFAUEBCghIUEDBgzQ6tWrG3ppRvzf//2fVq5cqT/%2B8Y8NvRQjAgIClJeXp86dO9fqW716tZKSkpSUlKSAgAANHz5c3bt3d5%2BRtFqtSktLU5cuXRQYGKisrCwVFBRo9%2B7dl7qM8zpXnU6nU5MmTdKNN94oi8WipKQkde/e3Wu/b89V6/l40z6VLqzWF154QT/72c%2BUlJR0CVbm/QhYXsZutysiIkLBwcHutujoaO3fv1%2BlpaUNuDIzgoKCNH/%2BfLVr187ddujQIYWHh7s//%2BMf/6h%2B/frphhtu0KJFi1RZWdkQSzVi0aJF6t%2B/v6677jrNnTtXZWVlstvtioqK8tguKipK%2Bfn5DbRKs55%2B%2Bmnddttt%2BtnPfiZJKisrc18S/tWvfqWVK1fK5UV/g378%2BPFq06bNWft%2BbF/abDaVl5dr3759Hv2BgYHq3LmzbDZbva75pzhXnYmJiUpPT3d/XlVVpeLiYnXo0MHd9u9//1vjxo1zX/b%2B/qXSxuZctUqn35N%2B97vfqU%2BfPho4cKDWrFkjSV63T6Xz13pGSUmJli1bpgceeMCj/f3339ett96qXr16KSUlpcm8T5lAwPIyTqdTQUFBHm1nwpbD4WiIJdUrm82ml156Sffcc4/8/f3Vq1cvDRo0SFu3blVubq7Wrl2rv/zlLw29zJ/kmmuuUUJCgjZt2iSr1apPP/1UDz/88Fn3cUhISJPYv9988402bdqk3/3ud5JOH3y6d%2B%2Bu3/72t9qxY4fmz5%2BvnJwcvf766w28UjOcTqfHD0PS6e9Xh8Oh48ePy%2BVy/Wi/N8vOzlarVq10yy23SJI6duyoTp06acGCBXrvvfc0evRoTZ48WV999VUDr/TChYWFKTIyUg888IDee%2B893X///Zo1a5Z27drVpPfpSy%2B9pD59%2Bqhbt27utk6dOqlz585avny5duzYoeuuu06///3vvb5WUwhYXsibfrq/GB9//LEmTJigqVOnKiEhQeHh4Xr11Vc1aNAgtWjRQldffbUmTZqkN954o6GX%2BpNYrVaNHj1a/v7%2B6tKli6ZNm6b169d79Rm583n55Zc1ePBgtW/fXtLps68vvviirr/%2Bevn7%2B6tfv34aN26c1%2B7Tsznf92tT%2Bn52uVxauHCh1q9fr6VLlyogIECSNHr0aD3zzDPq3LmzLrvsMqWlpalnz55e%2Bcsb/fv311//%2BldFRUXJ399fQ4cO1aBBgzy%2BZpvSPpWk6upqvfzyyxo/frxHe3p6uh577DF16NBBgYGBeuCBB%2BTv76/Nmzc30EobFwKWlwkLC5PT6fRoczqd8vHxUVhYWMMsqh5s2bJFd999t2bNmlXrm/r7IiIi9O233zaJN7QrrrhC1dXV8vX1rbWPHQ5Hk9i/Gzdu1IABA865TUREhIqKii7RiupXaGjoWb9fw8LCFBISctZ97XQ61bZt20u3SENqamo0Y8YMbdmyRa%2B88op%2B8YtfnHP7prSfz9TS1PbpGR9%2B%2BKFOnTp13t8Q9PPz0%2BWXX95k9uvFImB5mZiYGB06dEjHjh1zt9lsNnXt2lWtW7duwJWZ88knn2j69Ol6%2Bumndeutt7rbd%2B3apaVLl3ps%2B9VXXykiIkI%2BPj6XeJUXZ8%2BePXr88cc92goKCuTv76%2BkpKRa9zHk5%2BcrLi7uUi7RuL1796qwsFB9%2B/Z1t23YsEH/9V//5bHdV199pU6dOl3q5dWLmJiYWvvSZrMpLi5OAQEB6tatm%2Bx2u7uvpKREBw8e1NVXX32pl3rRHnvsMX355Zd65ZVXau2/v/zlL9q1a5dHW0FBgVfu51deeUVvvfWWR9uZWpraPj3jn//8p2644QZZLBZ3m8vl0vz58/X555%2B7206dOqWDBw965X6tDwQsL3PmmSOLFi1SaWmpCgoKtHLlSqWmpjb00oyoqqrSnDlzNG3aNPXr18%2Bjr02bNnr22We1Zs0aVVZWymaz6fnnn/fK2tu2bSur1arc3FydOnVK%2B/fv19NPP62xY8dqxIgRKiws1OrVq1VRUaHt27dr%2B/btGjNmTEMv%2B6Ls2bNHISEhCgwMdLe1aNFCCxYs0LvvvqvKykq99957ev31171yn57NmDFjtHPnTm3btk0VFRXKy8vTgQMHNHz4cElSamqqVq1apYKCApWWlio7O9v9vChv8vHHH2vt2rXKzc1VSEhIrX6n06mHH35YX331lSoqKrRixQodPHhQI0eOvPSLvUinTp3Sn/70J9lsNlVWVmr9%2BvV65513NG7cOElNZ59%2B3969e3XFFVd4tPn4%2BOibb77Rww8/rCNHjqisrEzZ2dlq0aKFbrzxxgZaaePi42oK11aamcOHD2vu3Ln6n//5HwUGBmrcuHG69957ve4sztl89NFH%2Bs1vfiN/f/9afW%2B//bb27NmjnJwcHThwQG3atNGdd96pu%2B66S76%2B3vezwocffqhFixbp3//%2Bt/z9/TVy5EhlZWUpICBAH374oR599FEVFBQoIiJCU6dO1eDBgxt6yRdl%2BfLlWrdundavX%2B/RbrVatWLFCh06dEjt2rXTPffco9GjRzfQKi/cmQNnVVWVJLl/yj/zW2ObNm3SokWLVFhYqK5du2r27Nnq06ePpNNnAZYsWaJXX31VZWVlio%2BP1yOPPKKOHTs2QCXndq46Z82apb///e8eZzgkqU%2BfPlqxYoUqKiq0aNEivf3223I6neratavmzp2rXr16Xdoi6uhctbpcLi1dulR5eXkqLi7WFVdcoT/%2B8Y9KTk6W5F37VDr/168kDRkyRGPGjNGECRM8Xut0OrVgwQK98847Ki0t1dVXX6158%2BapS5cul2j1jRsBCwAAwDDv%2B7EfAACgkSNgAQAAGEbAAgAAMIyABQAAYBgBCwAAwDACFgAAgGEELAAAAMMIWAAAAIYRsAAAAAwjYAEAABhGwAIAADCMgAUAAGAYAQsAAMCw/wdDet59xm7%2BDgAAAABJRU5ErkJggg%3D%3D\"/>\n",
       "        </div>\n",
       "        <div role=\"tabpanel\" class=\"tab-pane col-md-12\" id=\"common-742804337656347385\">\n",
       "            \n",
       "<table class=\"freq table table-hover\">\n",
       "    <thead>\n",
       "    <tr>\n",
       "        <td class=\"fillremaining\">Value</td>\n",
       "        <td class=\"number\">Count</td>\n",
       "        <td class=\"number\">Frequency (%)</td>\n",
       "        <td style=\"min-width:200px\">&nbsp;</td>\n",
       "    </tr>\n",
       "    </thead>\n",
       "    <tr class=\"\">\n",
       "        <td class=\"fillremaining\">133.48453167511795</td>\n",
       "        <td class=\"number\">1</td>\n",
       "        <td class=\"number\">0.0%</td>\n",
       "        <td>\n",
       "            <div class=\"bar\" style=\"width:1%\">&nbsp;</div>\n",
       "        </td>\n",
       "</tr><tr class=\"\">\n",
       "        <td class=\"fillremaining\">62.16802116911278</td>\n",
       "        <td class=\"number\">1</td>\n",
       "        <td class=\"number\">0.0%</td>\n",
       "        <td>\n",
       "            <div class=\"bar\" style=\"width:1%\">&nbsp;</div>\n",
       "        </td>\n",
       "</tr><tr class=\"\">\n",
       "        <td class=\"fillremaining\">132.87655820689275</td>\n",
       "        <td class=\"number\">1</td>\n",
       "        <td class=\"number\">0.0%</td>\n",
       "        <td>\n",
       "            <div class=\"bar\" style=\"width:1%\">&nbsp;</div>\n",
       "        </td>\n",
       "</tr><tr class=\"\">\n",
       "        <td class=\"fillremaining\">72.31138470307715</td>\n",
       "        <td class=\"number\">1</td>\n",
       "        <td class=\"number\">0.0%</td>\n",
       "        <td>\n",
       "            <div class=\"bar\" style=\"width:1%\">&nbsp;</div>\n",
       "        </td>\n",
       "</tr><tr class=\"\">\n",
       "        <td class=\"fillremaining\">126.22606210924864</td>\n",
       "        <td class=\"number\">1</td>\n",
       "        <td class=\"number\">0.0%</td>\n",
       "        <td>\n",
       "            <div class=\"bar\" style=\"width:1%\">&nbsp;</div>\n",
       "        </td>\n",
       "</tr><tr class=\"\">\n",
       "        <td class=\"fillremaining\">103.18754553930431</td>\n",
       "        <td class=\"number\">1</td>\n",
       "        <td class=\"number\">0.0%</td>\n",
       "        <td>\n",
       "            <div class=\"bar\" style=\"width:1%\">&nbsp;</div>\n",
       "        </td>\n",
       "</tr><tr class=\"\">\n",
       "        <td class=\"fillremaining\">56.565400967721004</td>\n",
       "        <td class=\"number\">1</td>\n",
       "        <td class=\"number\">0.0%</td>\n",
       "        <td>\n",
       "            <div class=\"bar\" style=\"width:1%\">&nbsp;</div>\n",
       "        </td>\n",
       "</tr><tr class=\"\">\n",
       "        <td class=\"fillremaining\">103.63747754157083</td>\n",
       "        <td class=\"number\">1</td>\n",
       "        <td class=\"number\">0.0%</td>\n",
       "        <td>\n",
       "            <div class=\"bar\" style=\"width:1%\">&nbsp;</div>\n",
       "        </td>\n",
       "</tr><tr class=\"\">\n",
       "        <td class=\"fillremaining\">26.34745673767504</td>\n",
       "        <td class=\"number\">1</td>\n",
       "        <td class=\"number\">0.0%</td>\n",
       "        <td>\n",
       "            <div class=\"bar\" style=\"width:1%\">&nbsp;</div>\n",
       "        </td>\n",
       "</tr><tr class=\"\">\n",
       "        <td class=\"fillremaining\">145.0333887908647</td>\n",
       "        <td class=\"number\">1</td>\n",
       "        <td class=\"number\">0.0%</td>\n",
       "        <td>\n",
       "            <div class=\"bar\" style=\"width:1%\">&nbsp;</div>\n",
       "        </td>\n",
       "</tr><tr class=\"other\">\n",
       "        <td class=\"fillremaining\">Other values (99990)</td>\n",
       "        <td class=\"number\">99990</td>\n",
       "        <td class=\"number\">100.0%</td>\n",
       "        <td>\n",
       "            <div class=\"bar\" style=\"width:100%\">&nbsp;</div>\n",
       "        </td>\n",
       "</tr>\n",
       "</table>\n",
       "        </div>\n",
       "        <div role=\"tabpanel\" class=\"tab-pane col-md-12\"  id=\"extreme-742804337656347385\">\n",
       "            <p class=\"h4\">Minimum 5 values</p>\n",
       "            \n",
       "<table class=\"freq table table-hover\">\n",
       "    <thead>\n",
       "    <tr>\n",
       "        <td class=\"fillremaining\">Value</td>\n",
       "        <td class=\"number\">Count</td>\n",
       "        <td class=\"number\">Frequency (%)</td>\n",
       "        <td style=\"min-width:200px\">&nbsp;</td>\n",
       "    </tr>\n",
       "    </thead>\n",
       "    <tr class=\"\">\n",
       "        <td class=\"fillremaining\">0.0</td>\n",
       "        <td class=\"number\">1</td>\n",
       "        <td class=\"number\">0.0%</td>\n",
       "        <td>\n",
       "            <div class=\"bar\" style=\"width:100%\">&nbsp;</div>\n",
       "        </td>\n",
       "</tr><tr class=\"\">\n",
       "        <td class=\"fillremaining\">0.0040215231561772985</td>\n",
       "        <td class=\"number\">1</td>\n",
       "        <td class=\"number\">0.0%</td>\n",
       "        <td>\n",
       "            <div class=\"bar\" style=\"width:100%\">&nbsp;</div>\n",
       "        </td>\n",
       "</tr><tr class=\"\">\n",
       "        <td class=\"fillremaining\">0.006113636311558738</td>\n",
       "        <td class=\"number\">1</td>\n",
       "        <td class=\"number\">0.0%</td>\n",
       "        <td>\n",
       "            <div class=\"bar\" style=\"width:100%\">&nbsp;</div>\n",
       "        </td>\n",
       "</tr><tr class=\"\">\n",
       "        <td class=\"fillremaining\">0.009428121491751958</td>\n",
       "        <td class=\"number\">1</td>\n",
       "        <td class=\"number\">0.0%</td>\n",
       "        <td>\n",
       "            <div class=\"bar\" style=\"width:100%\">&nbsp;</div>\n",
       "        </td>\n",
       "</tr><tr class=\"\">\n",
       "        <td class=\"fillremaining\">0.021781041742107068</td>\n",
       "        <td class=\"number\">1</td>\n",
       "        <td class=\"number\">0.0%</td>\n",
       "        <td>\n",
       "            <div class=\"bar\" style=\"width:100%\">&nbsp;</div>\n",
       "        </td>\n",
       "</tr>\n",
       "</table>\n",
       "            <p class=\"h4\">Maximum 5 values</p>\n",
       "            \n",
       "<table class=\"freq table table-hover\">\n",
       "    <thead>\n",
       "    <tr>\n",
       "        <td class=\"fillremaining\">Value</td>\n",
       "        <td class=\"number\">Count</td>\n",
       "        <td class=\"number\">Frequency (%)</td>\n",
       "        <td style=\"min-width:200px\">&nbsp;</td>\n",
       "    </tr>\n",
       "    </thead>\n",
       "    <tr class=\"\">\n",
       "        <td class=\"fillremaining\">185.35201486336368</td>\n",
       "        <td class=\"number\">1</td>\n",
       "        <td class=\"number\">0.0%</td>\n",
       "        <td>\n",
       "            <div class=\"bar\" style=\"width:100%\">&nbsp;</div>\n",
       "        </td>\n",
       "</tr><tr class=\"\">\n",
       "        <td class=\"fillremaining\">185.35498029613763</td>\n",
       "        <td class=\"number\">1</td>\n",
       "        <td class=\"number\">0.0%</td>\n",
       "        <td>\n",
       "            <div class=\"bar\" style=\"width:100%\">&nbsp;</div>\n",
       "        </td>\n",
       "</tr><tr class=\"\">\n",
       "        <td class=\"fillremaining\">185.35561503190544</td>\n",
       "        <td class=\"number\">1</td>\n",
       "        <td class=\"number\">0.0%</td>\n",
       "        <td>\n",
       "            <div class=\"bar\" style=\"width:100%\">&nbsp;</div>\n",
       "        </td>\n",
       "</tr><tr class=\"\">\n",
       "        <td class=\"fillremaining\">185.36269025217118</td>\n",
       "        <td class=\"number\">1</td>\n",
       "        <td class=\"number\">0.0%</td>\n",
       "        <td>\n",
       "            <div class=\"bar\" style=\"width:100%\">&nbsp;</div>\n",
       "        </td>\n",
       "</tr><tr class=\"\">\n",
       "        <td class=\"fillremaining\">185.3643474222929</td>\n",
       "        <td class=\"number\">1</td>\n",
       "        <td class=\"number\">0.0%</td>\n",
       "        <td>\n",
       "            <div class=\"bar\" style=\"width:100%\">&nbsp;</div>\n",
       "        </td>\n",
       "</tr>\n",
       "</table>\n",
       "        </div>\n",
       "    </div>\n",
       "</div>\n",
       "</div>\n",
       "    <div class=\"row headerrow highlight\">\n",
       "        <h1>Correlations</h1>\n",
       "    </div>\n",
       "    <div class=\"row variablerow\">\n",
       "    <img src=\"data:image/png;base64,iVBORw0KGgoAAAANSUhEUgAAAl4AAAIUCAYAAADL4iKMAAAAOXRFWHRTb2Z0d2FyZQBNYXRwbG90bGliIHZlcnNpb24zLjUuMSwgaHR0cHM6Ly9tYXRwbG90bGliLm9yZy/YYfK9AAAACXBIWXMAAA9hAAAPYQGoP6dpAABFRElEQVR4nO3de1iUdf7/8deAiCUCooAnTDMPCEpYZqclDxWmFqubeVhNK7eDCkFaux3crGzbLc2%2BqR3MRTGrpZ%2BWmdlq2GE72G6Wh5EVU6RUQkFlTDxxmt8f5qwTo956D3PD%2BHxc11zA5z7Me%2B5J5t3r85nB5nQ6nQIAAECtC7C6AAAAgPMFjRcAAICP0HgBAAD4CI0XAACAj9B4AQAA%2BAiNFwAAgI/QeAEAAPgIjRcAAICP0HgBAAD4CI0XAACAjzSwugAAZ69z586n3BYUFKTw8HDFx8frt7/9rZKTk2Wz2XxYHQDgVGz8rUag/jnReHXv3l2RkZFu244dO6bt27frp59%2BkiT16dNHL774oho2bOjzOgEA7mi8gHroROM1Z84cXX/99R73ycnJ0YMPPqjDhw/rzjvv1B//%2BEdflggA8IA1XoCfuv766zVp0iRJ0ltvvaVjx45ZXBEAgDVegB%2B78cYb9dRTT%2BnIkSP673//q8TERLfta9as0RtvvKH169fL4XAoJCREXbp00e9%2B9zvdfPPNHs/pcDg0f/58ffbZZ/rxxx9VXl6usLAwde/eXXfccYd69epV45i%2BffuqsLBQr732mo4dO6aZM2dq586dWrBggS677DJJ0vfff6/MzEytXbtWe/bsUYMGDRQVFaUrrrhCo0aN8riu7eDBg8rKytLq1av1448/qqKiQs2bN1ePHj00duxYdevWzW3/Xbt2qV%2B/fpKkjRs3Kj8/Xy%2B//LLWrVsnh8OhqKgo9evXTxkZGbrwwgvP6ZoDwOmQeAF%2BLDw83PX9zz//7LZt5syZGjt2rD766COFhISoV69eioiI0Jo1azR58mSlp6erqqrK7ZiSkhINGTJEr7zyirZv366uXbvqyiuvVMOGDfXJJ59ozJgxWrJkySnr2b59uzIyMhQUFKQrr7xSjRo1kiT95z//0e9%2B9zu9%2B%2B67OnbsmC677DIlJiaqrKxMb7/9tm677TatWbPG7VyFhYUaPHiwZs2apW3btqlLly668sor5XQ6tXz5ct12221avHjxKWv57rvvNHLkSOXm5qpLly5q3769CgsLtXDhQqWmphq9xABwdpwA6p1OnTo5O3Xq5Pzoo49Ou19%2Bfr5r340bN7rGV61a5ezUqZOzZ8%2Bezn//%2B99ux/znP/9xXn311c5OnTo558%2Bf77Zt2rRpzk6dOjmTk5Ode/fudY1XVlY6n376aWenTp2cl112mbOsrMztuD59%2Bjg7derk7Nu3r/Pll1%2BuUefQoUOdnTp1cv71r391VlVVuZ135syZzk6dOjkHDRrkdszIkSOdnTp1cg4ZMsS5Z88e13hVVZVz1qxZzk6dOjnj4%2BOd27dvd23buXOn63r07t3bOXfuXGd1dbVr%2B7vvvuvavnnz5tNdWgA4JyRegB9btWqVJCksLEyxsbGu8ZdfflmS9Mc//lFXXHGF2zE9e/bUQw89JEnKyspy2xYVFaWBAwdq4sSJatasmWs8MDBQGRkZCggI0MGDB7V%2B/XqP9VRXV%2Bvuu%2B%2BuMb5582ZJ0pAhQxQQ8L9fS4GBgUpLS1NaWppGjx6t8vJySdKGDRu0du1aSdKzzz6rqKgo1zEBAQGaOHGi4uLiVF5ern/84x8ea%2BnYsaP%2B8Ic/uH3URkpKiiIiIlz3AQDexhovwE999tlnevXVVyVJ48aNU4MGx/%2B579mzR7m5uZKkG264weOx119/vWw2m3766ScVFBSoffv2kqQ//OEPp7y/Cy64QM2aNVNJSYlKSko87nPllVe6NVYnhIaGau/evVqxYoXuv/9%2Bt20BAQGaMGGC29jnn38u6fi7Ozt06HDKx5Cbm1tjivIET2vYbDabYmJitH//fpWWlno8DgDMoPEC6rFXX31V77zzjttYeXm5fvjhB%2B3cuVPS8RRp3Lhxru3ff/%2B96/s//elPpzx3gwYNVFFRoR9%2B%2BMHVeJ04/2effaZNmzapuLhYP//8s5y/fCrNwYMHJR1PtjyJjo72OD5mzBjNmDFDL730kj7//HMNGjRIV1111Sk/KHbbtm2SjqdWp3LxxRdLOr6uzJO2bdt6HA8ODpYkVVRUnPLcAHCuaLyAemzjxo01xgIDA9W0aVP169dPw4YN03XXXee2/cCBA67vV69efcb7ONFMSVJeXp4mTJigXbt2nVO9YWFhHsdPTD%2B%2B%2BuqrstvtstvtkqTIyEj1799fY8aMUUxMTI2aQkNDT3lfTZo0kXS8gTp69KhrIf8JfKAsACvQeAH12Ok%2BQPVUTqxpCgoKkt1uN/znhI4ePar77rtPP/30k9q1a6fx48frqquuUtOmTRUUFCTpfx8bcab79uTuu%2B/W8OHDlZOTo88%2B%2B0xfffWVSkpK9Prrrys7O1vPPvusbrrpJsOP03nSZ0N7mt4EACvQeAHnmRMfMVFRUaHS0lLXYvIz%2Bde//qWffvpJNptNc%2BfO1UUXXVRjn6NHj5qqLTQ0VEOGDNGQIUNUVVWlr776SnPmzNG6dev06KOP6sorr1TTpk1dydmvPyLjZCe2NWrUiHQLQJ3B/wYC55lOnTq5vt%2B6davh43744QdJx9dGeWq6duzYoX379pmu74TAwED95je/0cKFCxUdHa1Dhw65plZPrO06eb3ar53Ydrp1YADgazRewHkmMjJScXFxkqS3337b4z4FBQVKSUlxfeyE9L81U6f600Nz5sxxff/rD149nQ0bNuiRRx5RZmamx%2B0NGzZU8%2BbNJf0vUTuxbu3777/32HxVV1e7PkrjN7/5jeFaAKC20XgB56F7771XkrR8%2BXItWLDAbT3Ujz/%2BqLS0NOXl5amoqMg13qVLF0nS7t27lZOT4xo/cuSIpk2bJrvd7vqTRKd6J6EngYGBWrJkiV588UV9%2BumnNbZ/9NFH2rx5s4KCgtSjRw9JUteuXXXttddKkh555BHt37/ftX9lZaWee%2B455efnq0mTJho%2BfLjhWgCgtrHGCzgP3Xjjjbr77rs1d%2B5cPfPMM1q4cKEuvvhilZaWavPmzaqqqlLXrl01efJk1zGJiYm69tpr9cUXXyg1NVUJCQkKDg7Wpk2b1KBBA82fP18ffPCB1q1bp4ULF2rLli2677771LNnz9PWEh8frzvvvFOZmZm655571Lp1a1100UUKCAjQrl27XFOcjz76qCIjI13H/eUvf9GYMWNkt9vVt29fderUScHBwdq6datKS0vVqFEjzZgx45QfYQEAVqDxAs5TkyZN0tVXX61FixZp/fr1WrNmjYKDgxUfH68BAwZo5MiRNRalv/DCC5o%2BfbpWr16tTZs2KSoqSsnJybr33nvVtm1btWjRQv/973/13XffaevWrYbfMfnHP/5RPXv21NKlS7Vp0yatW7dOlZWVioyM1KBBgzRq1Kgaf%2BA7Ojpaixcv1oIFC/TRRx9p69atqqysVHR0tG688UbdddddHteiAYCVbM6T5xgAAABQa1jjBQAA4CM0XgAAAD5C4wUAAOAjNF4AAKBe%2B/zzz3X11VcrIyPjtPtVV1dr5syZ6tevn3r27Km77rpLO3fudG13OBxKT0/X1VdfrWuvvVaPPvqo6b/I8Ws0XgAAoN567bXXNG3aNEPvYn7jjTf0/vvva%2B7cufrkk0/Url07TZgwwfVZhlOmTNGRI0e0fPlyLVmyRPn5%2BZo%2BfbpX66XxAgAA9VZwcLAWL15sqPHKzs7W2LFj1aFDB4WEhCgjI0P5%2BfnasGGD9u7dq5ycHGVkZCgiIkLR0dEaP368lixZooqKCq/Vy%2Bd4AQAASxUXF6ukpMRtLDIyUlFRUWc89vbbbzd0H0ePHtW2bdvUtWtX11hISIguuugi2e12HTx4UIGBgercubNre1xcnA4fPqzt27e7jZtB43U6Bj/8sd5o317aulXq2FEqKLC6Gq%2BZ%2Bbx/fRRdWJg0dqy0YIF04IDV1XhPerrVFcAI2zbjfzi9XmjQQGrXTvrhB6my0upqvMfKP/5eC6%2BN2S%2B%2BqNmzZ7uNTZw4UampqV67jwMHDsjpdCosLMxtPCwsTKWlpQoPD1dISIjbBz%2Bf2Le0tNRrddB4nU/Cw6XAwONfUWcFB0sBAce/om6z2SQ%2BgrqOCww8/kQFBvpX4%2BVnhg0bpr59%2B7qNnfwnwrzpdJ8b74vPlKfxAgAAxgV4f3l4VFSUoWlFM8LDwxUQECCHw%2BE27nA41KxZM0VERKisrExVVVUKDAx0bZOkZs2aea0OFtcDAAC/FxwcrI4dOyo3N9c19vPPP2vHjh3q3r27YmNj5XQ6lZeX59put9sVGhqq9u3be60OGi8AAGBcQID3b7Vkz5496t%2B/v%2BuzukaMGKGFCxcqPz9fZWVlmj59umJjY9WtWzdFREQoOTlZL7zwgvbv36/du3drzpw5uvXWW9WggfcmCJlqBAAAxtVio3QuunXrJkmq/GUNX05OjqTjaVVFRYUKCgpUXl4uSRo%2BfLhKSko0evRoHTp0SL169XJb1P/kk0/q8ccfV79%2B/RQUFKRBgwad8UNZzxaNFwAAqLfsdvspt7Vp00Zbtmxx/Wyz2ZSWlqa0tDSP%2Bzdp0kTPP/%2B812s8GY0XAAAwro4lXvUNVw8AAMBHSLwAAIBxJF6m0HgBAADjaLxM4eoBAAD4CIkXAAAwjsTLFK4eAACAj5B4AQAA40i8TKHxAgAAxtF4mcLVAwAA8BESLwAAYByJlyk0XgAAwDgaL1O4egAAAD5C4gUAAIwj8TKFqwcAAOAjJF4AAMA4Ei9TaLwAAIBxNF6mcPUAAAB8hMQLAAAYR%2BJlClcPAADAR0i8AACAcSReptB4AQAA42i8TOHqAQAA%2BAiJFwAAMI7EyxSuHgAAgI%2BQeAEAAONIvEyh8QIAAMbReJnC1QMAAPAREi8AAGAciZcpXD0AAAAfIfECAADGkXiZQuMFAACMo/EyhasHAADgIyReAADAOBIvU7h6AAAAPkLiBQAAjCPxMoXGCwAAGEfjZQpXDwAAwEdIvAAAgHEkXqZw9QAAAHyExAsAABhH4mVKvb16X3/9tZKSkjRgwACrSwEA4PwREOD923mk3iZeWVlZuvTSS/XCCy9o8%2BbNevrpp7V582Y1a9ZMw4cP15133ml1iQAAwAcKCwv1xBNPaMOGDbrwwgs1YMAATZo0SQG/auruvPNOffPNN25jlZWVmjBhgiZOnKjRo0fru%2B%2B%2Bczuuffv2WrZsmddqrbeNV1lZmRISElReXq577rlHt912m%2BbOnauCggLdeeedatOmjW688UarywQAwL/UwYQqNTVVcXFxysnJ0b59%2B3TPPfeoefPmuuOOO9z2y8zMdPv5559/1oABA3TDDTe4xp566ikNGTKk1mqte1fPgFGjRumbb75RZmamBg0apIqKCt1333268MILFRcXp6FDhyo7O9vqMgEAQC2z2%2B3Ky8vT5MmT1aRJE7Vr105jx4411Ae88MILuuGGG9S5c2cfVHpcvUy8Fi1apNGjRyshIUE2m012u12BgYGu7V27dtX/%2B3//76zOWVxcrJKSErexyPbtFRUe7o2S64YuXdy/%2BomoKKsr8K6mTd2/Aj4VHGx1Bd4VFOT%2BFebVQuLl8TU4MlJRBn7B5%2BbmqnXr1goLC3ONxcXFqaCgQGVlZQoJCfF43I8//qilS5cqJyfHbXzFihWaN2%2BeioqKlJCQoCeffFJt27Y9h0flWb1svE7mcDgUGhrqNhYeHi6Hw6Hq6uoa87unkp2drdmzZ7uNTbz/fqXef7/Xaq0z3nzT6gq86vdWF1BLeN9I/WCzWV2Bl3nxBaZOadnS6gr8Ry00Xh5fgydOVGpq6hmP9dQHnGjCSktLT9l4zZ07V7/73e8UERHhGuvQoYMuuOACTZ8%2BXdXV1Zo2bZrGjRun5cuXq2HDhmf7sDyq943XqdjO8rfhsGHD1LdvX7exyJtvlrKyvFmWtbp0Od50jRwp5eVZXY3XvDHpO6tL8KqmTY83XStWSKWlVlfjPSNHWl2B99lsktNpdRXeZdu5w%2BoSvCso6HjTVVQkVVRYXY33%2BFmD7PE1ODLS8PHOs/yH6HA49N577%2BnDDz90G586darbz08%2B%2BaR69eqlb7/9VlddddVZ3cep1PvGKyIiQj/88IPbmMPhUHh4uOG0S5KioqJqRpoFBV6osA7Ky5PWrbO6Cq8pLra6gtpRWuq/jw112LFjVldQOyoq/Pex%2BVotJF4eX4MNioiIkMPhcBtzOByy2WxuadbJVq9erfbt2ysmJua05w4JCVFYWJj27NlzTrV5Ui8X158sPj5eW7ZsUWVlpWvMbrcrISHBwqoAAIAvxMfHq6ioSPv373eN2e12XXLJJWrcuLHHY1avXq1rrrnGbaysrExTp051a7L279%2Bv/fv3n7FBOxv1vvG67rrrFBISopdffllHjhzRhg0btHjxYo0YMcLq0gAA8D917ANUu3btqm7dumnGjBkqKytTfn6%2B5s%2Bf7%2BoD%2Bvfvr7Vr17ods3nzZrVp08ZtLCQkRBs2bNC0adPkcDh04MABPfHEE%2BrcubMSExNN1Xiyet94NWzYUK%2B88oq%2B%2BuorXXHFFUpPT1dGRoZ69%2B5tdWkAAPifOtZ4SdKLL76o4uJiXXPNNbr99tv129/%2BViN/WVhaUFCgw4cPu%2B1fUlKi5s2b1zjPnDlz5HQ6lZycrN69e6uiokJz5849q6VLZ1Jv13i9/vrrru87deqkt956y8JqAACAVVq0aKHXXnvN47YtW7bUGNu0aZPHfVu1alXj3ZXeVm8bLwAAYIE6%2BMn19QlXDwAAwEdIvAAAgHEkXqbQeAEAAONovEzh6gEAAPgIiRcAADCOxMsUGi8AAGAcjZcpXD0AAAAfIfECAADGkXiZwtUDAADwERIvAABgHImXKTReAADAOBovU7h6AAAAPkLiBQAAjCPxMoWrBwAA4CMkXgAAwDgSL1NovAAAgHE0XqZw9QAAAHyExAsAABhH4mUKVw8AAMBHSLwAAIBxJF6m0HgBAADjaLxM4eoBAAD4CIkXAAAwjsTLFK4eAACAj5B4AQAA40i8TKHxAgAAxtF4mcLVAwAA8BESLwAAYByJlylcPQAAAB8h8QIAAMaReJlC4wUAAIyj8TKFqwcAAOAjJF4AAMA4Ei9TuHoAAAA%2BQuIFAACMI/EyhcYLAAAYR%2BNlClcPAADAR0i8AACAcSRepnD1AAAAfITECwAAGEfiZQqNFwAAMI7GyxSuHgAAqNcKCwt19913q1evXurTp4%2Bee%2B45VVdX19hv1qxZio2NVbdu3dxue/fulSQdO3ZMf/7zn5WUlKRevXopLS1NpaWlXq2VxgsAABgXEOD9m0mpqamKjo5WTk6O5s%2Bfr5ycHGVlZXncNyUlRXa73e3WvHlzSdLMmTOVm5ur7OxsrVy5Uk6nUw8//LDp%2Bk5G4wUAAOotu92uvLw8TZ48WU2aNFG7du00duxYZWdnn9V5KisrtXjxYo0fP14tW7ZUeHi40tPT9emnn2rPnj1eq5c1XgAAwLhaWONVXFyskpISt7HIyEhFRUWd8djc3Fy1bt1aYWFhrrG4uDgVFBSorKxMISEhbvtv2bJFw4cP1/fff6%2BWLVvq4Ycf1rXXXqsdO3bo4MGDiouLc%2B3boUMHNWrUSLm5uYqOjjb5KI%2Bj8TqNmc87rS7Bq6KipN9LemPSdyoutroa78l4wGZ1Cd6VmCj9/jv9fkYPad06q6vxnvSa6y3qP5ts8q/fE%2BvKOlpdglddUCV1kZR3uK2OHLG6Gu9JtPLOa6Hxys7O1uzZs93GJk6cqNTU1DMe63A4FBoa6jZ2ogkrLS11a7xatGihmJgYTZo0SVFRUcrOzta9996rZcuWyeFwSFKNc4WGhnp1nReNFwAAsNSwYcPUt29ft7HIyEjDxzudxv4HaOjQoRo6dKjr57Fjx%2BqDDz7QsmXLlJSUdFbnOlc0XgAAwLhaSLyioqIMTSt6EhER4UqrTnA4HLLZbIqIiDjj8a1bt1ZxcbFrX4fDocaNG7u2HzhwQM2aNTun2jxhcT0AADCujr2rMT4%2BXkVFRdq/f79rzG6365JLLnFroCTppZde0po1a9zG8vPzFRMTo5iYGIWFhSk3N9e17fvvv1d5ebni4%2BNN1XgyGi8AAFBvde3aVd26ddOMGTNUVlam/Px8zZ8/XyNGjJAk9e/fX2vXrpV0PM164okntH37dh07dkyZmZnasWOHBg8erMDAQN1222165ZVXVFRUpNLSUj3//PO64YYbXB834Q1MNQIAAOPq4CfXv/jii5oyZYquueYahYSEaPjw4Ro5cqQkqaCgQIcPH5YkTZo0SdLxtV0Oh0OXXHKJFixYoBYtWkiS0tLSdOjQIaWkpKiyslJ9%2BvTR1KlTvVorjRcAAKjXWrRooddee83jti1btri%2BDw4O1iOPPKJHHnnE474NGzbU448/rscff7xW6pRovAAAwNmog4lXfULjBQAAjKPxMoWrBwAA4CMkXgAAwDgSL1O4egAAAD5C4gUAAIwj8TKFxgsAABhH42UKVw8AAMBHSLwAAIBxJF6mcPUAAAB8hMQLAAAYR%2BJlCo0XAAAwjsbLFK4eAACAj5B4AQAA40i8TOHqAQAA%2BAiJFwAAMI7EyxQaLwAAYByNlylcPQAAAB8h8QIAAMaReJnC1QMAAPAREi8AAGAciZcpNF4AAMA4Gi9TuHoAAAA%2BQuIFAACMI/EyhasHAADgIyReAADAOBIvU2i8AACAcTRepnD1AAAAfITECwAAGEfiZQpXDwAAwEdIvAAAgHEkXqbQeAEAAONovEzh6gEAAPgIiRcAADCOxMsUrh4AAICPkHgBAADjSLxMofECAADG0XiZwtUDAADwERIvAABgHImXKTReAADAOBovU7h6AAAAPlJvG6%2Bvv/5aSUlJGjBggNWlAABw/ggI8P7tPFJvH21WVpYuvfRSLV%2B%2BXJK0dOlSJSYmavr06RZXBgAAfKmwsFB33323evXqpT59%2Bui5555TdXW1x33feustJScnKzExUSkpKcrJyXFt%2B9Of/qSuXbuqW7durtvll1/u1Vrr7RqvsrIyJSQkKCAgQE888YTsdrtatWpldVkAAPi3OphQpaamKi4uTjk5Odq3b5/uueceNW/eXHfccYfbfitXrtSMGTP06quvqnv37lq6dKnS09P14YcfKiYmRpJ03333KTU1tdZqrXtXz4BRo0bpm2%2B%2BUWZmppKTk9WyZUu9%2BeabioiIsLo0AAD8Wx2barTb7crLy9PkyZPVpEkTtWvXTmPHjlV2dnaNfY8ePaoHHnhAl112mYKCgjR06FA1btxY69evN1XD2aiXideiRYs0evRoJSQkaPLkyV45Z3FxsUpKStzGAgMj1axZlFfOXxc0ber%2B1W8kJlpdgXd16eL%2BFfChCy6wugLvCg52/4q6ydNrcGRkpKKizvwanJubq9atWyssLMw1FhcXp4KCApWVlSkkJMQ1npKS4nbszz//rEOHDik6Oto19vXXX2v16tX68ccf1aFDB02dOlXx8fHn%2BtBqqJeNV23Izs7W7Nmz3cYmTJio3/%2B%2B9uJGq/jd%2BxF%2B/53VFdSON9%2B0ugIYYbNZXYFX%2BWu/37691RX4kVqYavT0Gjxx4kRDU34Oh0OhoaFuYyeasNLSUrfG62ROp1OPPfaYEhISdMUVV0iSYmJiFBAQoPvvv1%2BNGzfW7Nmzdeedd2rlypVq6qXUgsbrF8OGDVPfvn3dxlavjtQbb1hUUC1o2vR407VihVRaanU13vP7GT2sLsG7unQ53nSNHCnl5Vldjfd8%2B63VFXifzSY5nVZX4VV5W/yrkQwOPt50FRRIx45ZXY33%2BFuD7Ok1ODIy0vDxzrP8d1hRUaE//elP2rZtmxYuXOganzBhgtt%2BDz74oJYvX66cnBwNHTr0rO7jVGi8fhEVFVUj0ly1SioutqigWlRa6mePa906qyuoHXl5/vvYUGcdOWJ1BbXj2DH/fWw%2BVwuJl6fXYKMiIiLkcDjcxhwOh2w2m8e130ePHtX48eN15MgRvfHGG6dNsgIDA9WyZUsVe/FFs14urgcAABapY4vr4%2BPjVVRUpP3797vG7Ha7LrnkEjVu3NhtX6fTqYyMDDVo0EALFixwa7qcTqeeeeYZ5Z0001BeXq4dO3a43vHoDTReAACg3jrxuVszZsxQWVmZ8vPzNX/%2BfI0YMUKS1L9/f61du1aS9P7772vbtm36v//7PwX/6h0XNptNu3bt0hNPPKE9e/bo0KFDmj59uoKCgnT99dd7rd56P9VYWFio/v37Szo%2BZ/vtt98qKytLrVq10sqVKy2uDgAAP1MHP8frxRdf1JQpU3TNNdcoJCREw4cP18iRIyVJBQUFOnz4sCRpyZIlKiwsdC2mPyElJUXTpk3T008/rb/97W8aMmSIysrK1L17d2VlZenCCy/0Wq31tvF6/fXXXd/b7XYLKwEAAFZq0aKFXnvtNY/btmzZ4vo%2BKyvrtOcJDw/XM88849Xafq3eNl4AAMACdTDxqk9ovAAAgHE0XqZw9QAAAHyExAsAABhH4mUKVw8AAMBHSLwAAIBxJF6m0HgBAADjaLxM4eoBAAD4CIkXAAAwjsTLFK4eAACAj5B4AQAA40i8TKHxAgAAxtF4mcLVAwAA8BESLwAAYByJlylcPQAAAB8h8QIAAMaReJlC4wUAAIyj8TKFqwcAAOAjJF4AAMA4Ei9TuHoAAAA%2BQuIFAACMI/EyhcYLAAAYR%2BNlClcPAADAR0i8AACAcSRepnD1AAAAfITECwAAGEfiZQqNFwAAMI7GyxSuHgAAgI%2BQeAEAAONIvEyh8QIAAMbReJnC1QMAAPAREi8AAGAciZcpXD0AAAAfIfECAADGkXiZQuMFAACMo/EyhasHAADgIyReAADAOBIvU7h6AAAAPkLiBQAAjCPxMoXGCwAAGEfjZQpXDwAAwEdIvAAAgHEkXqZw9QAAQL1WWFiou%2B%2B%2BW7169VKfPn303HPPqbq62uO%2BCxcuVHJysnr06KERI0Zo06ZNrm3Hjh3Tn//8ZyUlJalXr15KS0tTaWmpV2ul8QIAAMYFBHj/ZlJqaqqio6OVk5Oj%2BfPnKycnR1lZWTX2%2B/jjjzVr1iw9%2B%2Byz%2Buqrr9SnTx/de%2B%2B9Onz4sCRp5syZys3NVXZ2tlauXCmn06mHH37YdH0no/ECAADG1bHGy263Ky8vT5MnT1aTJk3Url07jR07VtnZ2TX2zc7O1pAhQ5SQkKBGjRpp3LhxkqRPPvlElZWVWrx4scaPH6%2BWLVsqPDxc6enp%2BvTTT7Vnzx5TNZ6MNV4AAMBSxcXFKikpcRuLjIxUVFTUGY/Nzc1V69atFRYW5hqLi4tTQUGBysrKFBIS4rbvgAEDXD8HBAQoNjZWdrtdsbGxOnjwoOLi4lzbO3TooEaNGik3N1fR0dFmHqILjddppKdbXUHtGDnS6gq8LN3zPH699%2B23VlfgXf62IDcxUfruO%2Bmyy6R166yuxmsSn3rK6hK8q0ULqcs4dflinrR7t9XVeE/iY5bdtVM2r58zOztbs2fPdhubOHGiUlNTz3isw%2BFQaGio29iJJqy0tNSt8XI4HG4N2ol9S0tL5XA4JKnGuUJDQ726zovGCwAAWGrYsGHq27ev21hkZKTh451Op9f2PZtznQsaLwAAYNgp3ixoSlRUlKFpRU8iIiJcadUJDodDNptNERERbuNNmzb1uG/Hjh1d%2BzocDjVu3Ni1/cCBA2rWrNk51eaJn2X/AACgNlVXe/9mRnx8vIqKirR//37XmN1u1yWXXOLWQJ3YNzc31/VzVVWV/vvf/yohIUExMTEKCwtz2/7999%2BrvLxc8fHx5oo8CY0XAACot7p27apu3bppxowZKisrU35%2BvubPn68RI0ZIkvr376%2B1a9dKkkaMGKGlS5dq/fr1OnLkiF5%2B%2BWU1bNhQvXv3VmBgoG677Ta98sorKioqUmlpqZ5//nndcMMNat68udfqZaoRAAAYVhtTjWa9%2BOKLmjJliq655hqFhIRo%2BPDhGvnLO8kKCgpcn9OVlJSkBx54QOnp6dq3b5%2B6deumuXPnqlGjRpKktLQ0HTp0SCkpKaqsrFSfPn00depUr9Zqc9b2KrJ6zB%2BvjM3mf4/LJj97QJJ/PlH%2B%2Bq7GHj386l2N8sd3NY4bJ83zs3c1PmbduxqPHfP%2BOYODvX/OuorECwAAGFYXE6/6hMYLAAAYRuNljp9l/wAAAHUXiRcAADCMxMscEi8AAAAfIfECAACGkXiZQ%2BMFAAAMo/Eyh6lGAAAAHyHxAgAAhpF4mUPiBQAA4CMkXgAAwDASL3NovAAAgGE0XuYw1QgAAOAjJF4AAMAwEi9zSLwAAAB8hMQLAAAYRuJlDo0XAAAwjMbLHKYaAQAAfITECwAAGEbiZQ6JFwAAgI%2BQeAEAAMNIvMyh8QIAAIbReJnDVCMAAICPkHgBAADDSLzMofECAACG0XiZw1QjAACAj5B4AQAAw0i8zCHxAgAA8BESLwAAYBiJlzk0XgAAwDAaL3OYagQAAPAREi8AAGAYiZc5JF4AAAA%2BQuIFAAAMI/Eyh8YLAAAYRuNlDlONAAAAPkLiBQAADCPxMofECwAAwEdIvAAAgGEkXubQeAEAAMNovMxhqhEAAMBH6m3j9fXXXyspKUkDBgywuhQAAM4b1dXev51P6m3jlZWVpUsvvVTLly9XXl6exo4dq8svv1xJSUl6%2BumnVV5ebnWJAADAYg6HQ%2Bnp6br66qt17bXX6tFHH9XRo0dPuf%2BqVat0yy23KDExUcnJyXr77bdd22bNmqXY2Fh169bN7bZ3717D9dTbxqusrExt27bVkSNHNG7cOCUkJOirr77S/PnztXr1as2bN8/qEgEA8Dv1LfGaMmWKjhw5ouXLl2vJkiXKz8/X9OnTPe67ceNGTZ48WWlpafrmm2/0yCOP6Mknn9TatWtd%2B6SkpMhut7vdmjdvbrieetl4jRo1St98840yMzN1xRVX6De/%2BY1SU1PVsGFDdejQQcnJyW4XCQAAeEd9arz27t2rnJwcZWRkKCIiQtHR0Ro/fryWLFmiioqKGvs7HA7dc889uv7669WgQQNdd9116tSpk1d7inr5rsZFixZp9OjRSkhI0OTJk2tsLyoqUnR09Fmds7i4WCUlJW5jzZtHKioqylStAH6RmGh1Bd7VpYv7V3/RooXVFXhXs2buX1EneXoNjow0/xq8efNmBQYGqnPnzq6xuLg4HT58WNu3b3cbl6SkpCQlJSW5fq6srFRJSYlbT7FlyxYNHz5c33//vVq2bKmHH35Y1157reGa6mXjdTqrV6/WJ598osWLF5/VcdnZ2Zo9e7bb2IQJE5WWlurN8uoEm83qCrzN7x7Qcf72RH33ndUV1I4337S6AhgxeLDVFfiN2kioPL0GT5w4Uamp5l6DHQ6HQkJCZDvp92lYWJgkqbS09IzHT58%2BXRdeeKHrjXwtWrRQTEyMJk2apKioKGVnZ%2Bvee%2B/VsmXLdPHFFxuqya8ar1WrVumPf/yjnn32WXXs2PGsjh02bJj69u3rNta8eaScTm9WaD2bTf73mORnD0jyzyfqssusrsC7unQ53nSNHCnl5VldjfeMH291Bd7VrNnxpuvdd6V9%2B6yuxnvGjbO6Aq/y9BocGRlp6Nj33ntPDz30kMdtGRkZcp7D71Kn06np06dr%2BfLlWrhwoYKDgyVJQ4cO1dChQ137jR07Vh988IGWLVum9PR0Q%2Bf2m8YrOztb06dP16xZs84q8jshKiqqRqTpb697gKXWrbO6gtqRl%2Bdfj233bqsrqB379vnvY/Ox2ki8PL0GG5WSkqKUlBSP27788kuVlZWpqqpKgYGBko6nYJLU7BTTz9XV1Xr44Ye1ceNGvfXWW4qJiTnt/bdu3VrFxcWG662Xi%2Bt/7Z///KdmzpyphQsXnlPTBQAAjKlPi%2BtjY2PldDqVd1IqbbfbFRoaqvbt23s85i9/%2BYu2bt3qsel66aWXtGbNGrex/Pz8MzZnJ6v3jdfBgwc1depUPffcc4qNjbW6HAAAUEdEREQoOTlZL7zwgvbv36/du3drzpw5uvXWW9WgwfFJvzFjxmjFihWSpG%2B//VbLli3T3LlzFR4eXuN8DodDTzzxhLZv365jx44pMzNTO3bs0OCzWENY76caV69erdLSUo33sC7BbrdbUBEAAP6rvn3S/JNPPqnHH39c/fr1U1BQkAYNGqSMjAzX9p07d%2BrAgQOSpCVLlujgwYPq06eP2zl69uypzMxMTZo0SdLxtV0Oh0OXXHKJFixYoBZn8W5gm/NcVp2dJ/zxyvjjmm0W19cTAfU%2BYHeXmHj8nZo9evjXGq%2BnnrK6Au9q0eL4QvR58/xrjddjj1l21ytXev%2BcycneP2ddVe8TLwAA4Dv1LfGqa2i8AACAYTRe5vhZ9g8AAFB3kXgBAADDSLzMIfECAADwERIvAABgGImXOTReAADAMBovc5hqBAAA8BESLwAAYBiJlzkkXgAAAD5C4gUAAAwj8TKHxgsAABhG42UOU40AAAA%2BQuIFAAAMI/Eyh8YLAAAYRuNlDlONAAAAPkLiBQAADCPxMofECwAAwEdIvAAAgGEkXubQeAEAAMNovMxhqhEAAMBHSLwAAIBhJF7mkHgBAAD4CIkXAAAwjMTLHBovAABgGI2XOUw1AgAA%2BAiJFwAAMIzEyxwSLwAAAB8h8QIAAIaReJlD4wUAAAyj8TKHqUYAAAAfIfECAACGkXiZQ%2BIFAADgIyReAADAMBIvc2i8AACAYTRe5jDVCAAA4CMkXgAAwDASL3NIvAAAAHyExAsAABhG4mUOjRcAADCMxsscphoBAAB8hMYLAAAYVl3t/VttcjgcSk9P19VXX61rr71Wjz76qI4ePepx33feeUddunRRt27d3G4bN2785bFXa%2BbMmerXr5969uypu%2B66Szt37jyremi8AACA35oyZYqOHDmi5cuXa8mSJcrPz9f06dNPuX/Pnj1lt9vdbt27d5ckvfHGG3r//fc1d%2B5cffLJJ2rXrp0mTJggp9NpuB4aLwAAYFh9Srz27t2rnJwcZWRkKCIiQtHR0Ro/fryWLFmiioqKsz5fdna2xo4dqw4dOigkJEQZGRnKz8/Xhg0bDJ%2BDxgsAABhWnxqvzZs3KzAwUJ07d3aNxcXF6fDhw9q%2BfbvHY4qKinTHHXeoZ8%2Be6tevn9577z1J0tGjR7Vt2zZ17drVtW9ISIguuugi2e12wzXxrkYAAGCp4uJilZSUuI1FRkYqKirK1HkdDodCQkJks9lcY2FhYZKk0tLSGvtHRESoXbt2euCBB3TJJZfoo48%2B0kMPPaSoqChdfPHFcjqdruNPPp%2Bnc50Kjddp2LZttboE7woOltq2lW3nDunYMaur8Zp1ZR2tLsGrLrhA6tJFytti05EjVlfjPYlPPWV1Cd7VosXxr%2BPHS7t3W1uLN02ZYnUF3pWYKI0bJ730krRundXVeM9jj1l217WRUGVnZ2v27NluYxMnTlRqauoZj33vvff00EMPedyWkZFxVuuvevfurd69e7t%2BHjhwoD766CO98847mjx5siSd1fk8ofECAACWGjZsmPr27es2FhkZaejYlJQUpaSkeNz25ZdfqqysTFVVVQoMDJR0PAWTpGbNmhk6f%2BvWrbVp0yaFh4crICDAdfwJDofD8LkkGi8AAHAWaiPxioqKMj2t6ElsbKycTqfy8vIUFxcnSbLb7QoNDVX79u1r7P/WW28pLCxMAwYMcI3l5%2BcrJiZGwcHB6tixo3Jzc3XFFVdIkn7%2B%2BWft2LHD9a5HI1hcDwAADKtPi%2BsjIiKUnJysF154Qfv379fu3bs1Z84c3XrrrWrQ4Hj2NGbMGK1YsUKSVF5erqeeekp2u10VFRVavny5/vWvf2n48OGSpBEjRmjhwoXKz89XWVmZpk%2BfrtjYWHXr1s1wTSReAADAbz355JN6/PHH1a9fPwUFBWnQoEHKyMhwbd%2B5c6cOHDggSbr99tt16NAh3X///SopKVGbNm00Z84cxcfHS5KGDx%2BukpISjR49WocOHVKvXr1qrE07ExovAABgWH37W41NmjTR888/f8rtH3/8set7m82m8ePHa/z48R73tdlsSktLU1pa2jnXw1QjAACAj5B4AQAAw%2Bpb4lXX0HgBAADDaLzMYaoRAADAR0i8AACAYSRe5tB4AQAAw2i8zGGqEQAAwEdIvAAAgGEkXuaQeAEAAPgIiRcAADCMxMscGi8AAGAYjZc5TDUCAAD4CIkXAAAwjMTLHBIvAAAAHyHxAgAAhpF4mUPjBQAADKPxMoepRgAAAB8h8QIAAIaReJlD4gUAAOAjJF4AAMAwEi9zaLwAAIBhNF7mMNUIAADgIyReAADAMBIvc0i8AAAAfITECwAAGEbiZQ6NFwAAMIzGyxymGgEAAHyExAsAABhG4mUOiRcAAICPkHgBAADDSLzMofECAACG0XiZw1QjAACAj5B4AQAAw0i8zCHxAgAA8BESLwAAYBiJlzk0XgAAwDAaL3OYagQAAPAREi8AAGAYiZc5JF4AAAA%2BQuIFAAAMI/Eyh8YLAAAYRuNlTp2aaszPz1fnzp21a9cuq0sBAADwOr9NvObPn6/Ro0erQQO/fYgAAPhcfUu8HA6Hpk6dqv/85z8KCAjQddddpylTpqhRo0Y19n3sscf03nvvuY1VVVUpJSVFzzzzjP70pz9p2bJlCgwMdG0PDg7W2rVrDddTpxIvb9m/f7/%2B9re/qaqqyupSAACAhaZMmaIjR45o%2BfLlWrJkifLz8zV9%2BnSP%2B06bNk12u911W7dunS6%2B%2BGL179/ftc99993nts/ZNF3SWTZeu3btUufOnbVy5UoNHDhQ3bt316hRo1RSUqJ///vfSkxM1IIFC9SjRw%2BtW7dOkvSPf/xDN910kxISEtS/f3%2BtWLHCdb59%2B/Zp3LhxSkxM1MCBA7Vx48Ya95Wfn%2B8amz59ukaPHu36%2BYsvvtAtt9yiSy%2B9VCkpKVqzZo327t2rpKQkOZ1OXX755XrnnXfO6oIAAIBTq672/q227N27Vzk5OcrIyFBERISio6M1fvx4LVmyRBUVFWc8PisrS61atdJ1113ntZrOKfFatGiRMjMz9fnnn8tms2nq1KmSpIqKCv3444/66quvdOmll%2Brjjz/Wc889p6eeekpr165VWlqaHnzwQW3ZskWS9Je//EXHjh3Tp59%2BqszMzLNqkvbs2aPU1FTde%2B%2B9%2BuabbzRmzBhNmDBBDRo00N///ndJ0tq1azVkyJBzeYgAAMCD%2BtR4bd68WYGBgercubNrLC4uTocPH9b27dtPe%2BzPP/%2BsV155RQ8%2B%2BKDb%2BNdff63f/va3SkxM1K233qpNmzadVU3ntABq5MiRio6OliSNHTtW6enpGjVqlCoqKjRy5EjXvOnixYs1aNAgXX755ZKkAQMGKDMzUytXrlTnzp2Vk5OjmTNnKiwsTGFhYRo1apT%2B85//GKrhww8/VExMjAYMGCBJGjJkiIKDg1V9js9gcXGxSkpK3MYijxxRVFTUOZ2vTgoKcv/qJy7wsxnl4GD3r36jRQurK/CuZs3cv/qLxESrK/CuLl3cv6JO8vgaHBlp%2BjXY4XAoJCRENpvNNRYWFiZJKi0tPe2xixYtUs%2BePdWxY0fXWExMjAICAnT//fercePGmj17tu68806tXLlSTZs2NVTTOTVe7du3d33funVrlZeXy%2BFwSJJatWrl2rZr1y5deeWVbsdedNFFKiwsVGlpqY4ePao2bdq4trVr185wDTt27HA7VpIGDhx4Fo/CXXZ2tmbPnu02NnHCBKWmpZ3zOeusli2trsCr/PXX6Un/zPxDl3FWV1A7Bg%2B2ugLvGuenz9Obb1pdgd%2BojYTK42vwxIlKTU0947HvvfeeHnroIY/bMjIy5HQ6z7qeqqoqvfHGG5oxY4bb%2BIQJE9x%2BfvDBB7V8%2BXLl5ORo6NChhs59To3XyanSiQd0ops8%2BV2E5eXlHo%2B32WyubScvgD/TxTl534CAgHNOtzwZNmyY%2Bvbt6zYWeeSItGOH1%2B7DckFBx5uuoiLJwNx2fZF3uK3VJXhVcPDxpqugQDp2zOpqvKfLF/OsLsG7mjU73nS9%2B660b5/V1XjPSy9ZXYF3delyvOkaOVLKy7O6Gu/57jurK/Aqj6/BkZGGjk1JSVFKSorHbV9%2B%2BaXKyspUVVXleifiiaCo2WnS6m%2B%2B%2BUbl5eWuGbtTCQwMVMuWLVVcXGyoVukcG68dO3aoa9eukqTCwkI1atRI4eHhNfZr27ZtjTnU7du36/rrr1dERISCgoJUVFSk2NhYSdK2bdtc%2BwX/Ms9y9OhR19jOnTtd37dp00aff/6527kXLVp0zgvgoqKiakaaW7f61yvfCRUVfvW4jhyxuoLaceyYnz223butrqB27NvnX4/tlzdG%2BZ28PP99bD5WG4mXx9dgL4iNjZXT6VReXp7i4uIkSXa7XaGhoW6zd7%2B2evVqXXnllW5hktPp1F//%2BlcNHjxYXX6Zui4vL9eOHTsUExNjuKZzWlz/1ltvae/evXI4HMrKytJ1113nNn96QkpKit5//32tX79eFRUVeuedd7R161YNHDhQQUFBuvLKK7Vw4UIdPHhQhYWFeuONN1zHRkREqEmTJlq1apWqqqr0xRdfaP369a7tgwYNUlFRkd5%2B%2B22Vl5frgw8%2B0PPPP6/GjRu71pgVFBTo8OHD5/IQAQCAB/VpcX1ERISSk5P1wgsvaP/%2B/dq9e7fmzJmjW2%2B91dVUjRkzxu0TF6Tji/J/vZzJZrNp165deuKJJ7Rnzx4dOnRI06dPV1BQkK6//nrDNZ1T43XLLbdozJgx%2Bs1vfiNJevzxxz3uN3DgQN1zzz166KGH1KtXL7355pvKzMx0reV6%2BumnJUlJSUn6wx/%2BoDFjxriODQwM1OOPP653331Xl19%2BuZYuXarf//73ru3NmzfX3//%2Bdy1YsEA9e/bU3LlzNWfOHEVERCg2Ntb1boO33nrrXB4iAADwA08%2B%2BaSaNGmifv366ZZbblH37t2VkZHh2r5z504dOHDA7ZiSkhI1b968xrmefvpptWvXTkOGDNHVV1%2BtzZs3KysrSxdeeKHhemzOs1h1tmvXLvXr108rVqxQhw4dDN9JvbV1q9UVeFdwsNS27fF1a3401biurOOZd6pHLrjg%2BLKUvDz/mmpM/GCa1SV4V4sWxxeiz5vnX1ONU6ZYXYF3JSYeXw/Vo4d/TTWew4Jxb7nqKu%2Bfc80a75%2BzruLv6QAAAMPq258Mqmv88k8GAQAA1EVnlXi1adPG9anzAADg/EPiZQ6JFwAAgI%2BwxgsAABhG4mUOjRcAADCMxsscphoBAAB8hMQLAAAYRuJlDokXAACAj5B4AQAAw0i8zKHxAgAAhtF4mcNUIwAAgI%2BQeAEAAMNIvMwh8QIAAPAREi8AAGAYiZc5NF4AAMAwGi9zmGoEAADwERIvAABgGImXOSReAAAAPkLiBQAADCPxMofGCwAAGEbjZQ5TjQAAAD5C4gUAAAwj8TKHxAsAAMBHSLwAAIBhJF7m0HgBAADDaLzMYaoRAADAR0i8AACAYSRe5pB4AQAA%2BAiJFwAAMIzEyxwaLwAAYBiNlzlMNQIAAPgIiRcAADCMxMscEi8AAAAfIfECAACGkXiZQ%2BMFAAAMo/Eyh6lGAAAAHyHxAgAAhpF4mUPiBQAA4CMkXgAAwDASL3NovAAAgGE0XuYw1QgAAOAjNF4AAMCw6mrv32qb3W7XDTfcoNtuu%2B2M%2By5cuFDJycnq0aOHRowYoU2bNrm2HTt2TH/%2B85%2BVlJSkXr16KS0tTaWlpWdVC40XAAAwrL41XsuWLVNqaqouuuiiM%2B778ccfa9asWXr22Wf11VdfqU%2BfPrr33nt1%2BPBhSdLMmTOVm5ur7OxsrVy5Uk6nUw8//PBZ1UPjBQAA/NaxY8eUnZ2thISEM%2B6bnZ2tIUOGKCEhQY0aNdK4ceMkSZ988okqKyu1ePFijR8/Xi1btlR4eLjS09P16aefas%2BePYbrofECAACG1bfEa%2BjQoYqOjja0b25urrp27er6OSAgQLGxsbLb7dqxY4cOHjyouLg41/YOHTqoUaNGys3NNVwP72oEAACWKi4uVklJidtYZGSkoqKifFqHw%2BFQWFiY21hYWJhKS0vlcDgkSaGhoW7bQ0NDz2qdF43X6XTsaHUFXlVcXKzsWbM0bNgwRbVta3U5XpNodQFeVlxcrFmzso8/Tz7%2BpVOrEh%2BzugKvcvv35E/P02N%2B%2Bjz985/%2B9TxZyOn0/jlnzcrW7Nmz3cYmTpyo1NTUMx773nvv6aGHHvK47ZlnntGQIUPOqhbnGR7gmbafCY3XeaSkpESzZ89W3759%2BQVUh/E81Q88T/UDz1P9MGzYMPXt29dtLDIy0tCxKSkpSklJ8UodTZs2dSVbJzgcDnXs2FERERGunxs3buzafuDAATVr1szwfdB4AQAAS0VFRdWJxjg%2BPl65ubkaPHiwJKmqqkr//e9/deuttyomJkZhYWHKzc1V69atJUnff/%2B9ysvLFR8fb/g%2BWFwPAADOW/3799fatWslSSNGjNDSpUu1fv16HTlyRC%2B//LIaNmyo3r17KzAwULfddpteeeUVFRUVqbS0VM8//7xuuOEGNW/e3PD9kXgBAAC/lZycrJ9%2B%2BklVVVWqrq5Wt27dJEn//Oc/1bp1axUUFLg%2BpyspKUkPPPCA0tPTtW/fPnXr1k1z585Vo0aNJElpaWk6dOiQUlJSVFlZqT59%2Bmjq1KlnVY/NaXaVGOqN4uJiZWf74aJtP8PzVD/wPNUPPE%2Boa2i8AAAAfIQ1XgAAAD5C4wUAAOAjNF4AAAA%2BQuMFAADgIzReAAAAPkLjBQAA4CM0XgAAAD5C4wUAAOAjNF4AAAA%2BQuMFAPArS5cu9Th%2B5MgRzZ8/37fFAL/CnwzyUzk5OcrOzpbdbteBAwdks9kUHh6u7t27a%2BTIkUpKSrK6RBhw00036cMPP7S6jPNaZWWl5s2bp2%2B%2B%2BUbR0dG666671KFDB7d9EhIStGHDBosqxAnV1dWqrKxUz549tXbtWv365W379u267bbbtHHjRosqBKQGVhcA75s/f75effVVDR06VEOGDFF4eLgkqbS0VHa7XZMnT9akSZM0bNgwawvFGRUWFlpdwnnv2Wef1erVq3XjjTdq9%2B7duvXWW/Xcc8/p%2Buuvd%2B3D/7/WDQsXLtTf/vY3SVL37t097nPppZf6sCKgJhIvP5ScnKyZM2eqa9euHrdv2LBBGRkZ%2Bvjjj31cGU72/PPPn3GfzMxMbdq0yQfV4FR69%2B6t%2BfPnq3379pKk1atX66GHHtLs2bN11VVXSSLxqkv279%2BvpKQkZWZm1tjWqFEjxcbGKigoyILKgONIvPzQvn37dPHFF59ye%2BfOnbV3714fVgRPFi1apNatW7sSSU%2Bqq6t9VxA8OnTokNq0aeP6uV%2B/fnrmmWeUnp6uhQsXqnPnzhZWh1%2BLiIjQZ599pqCgIFVVValp06aSpF27dqlx48Y0XbAci%2Bv9UGxsrDIzMz1Of1RXV2vevHmKj4%2B3oDKc7M9//rMuuOACZWZm6vXXX/d440XCevHx8XrppZfcmuAbb7xRDzzwgO644w59%2BeWXFlYHT7Zu3aq%2BfftqzZo1rrHPPvtMN9xwg/79739bWBnAVKNf2rx5s%2B69915VVlaqc%2BfOCg0NldPplMPhUF5enkJCQvTqq6/qkksusbrU896TTz6p1q1b66677vK4vXv37iwEtlheXp7GjRun3r17a9q0aW7b/vnPf%2BqJJ56Qw%2BHQ5s2bLaoQvzZ48GDdfvvtGjx4sNv4Bx98oHnz5undd9%2B1qDKAxsvvDBo0SMuXL9fRo0d1880366abbpLD4ZAkNW3aVN26dVNSUpIaNmxobaHnuRPPk3T6dy7%2B9NNPatWqlS9Lw0lOPE%2BHDh1Sr169PK63Kysr0%2BrVq5WSkmJBhfAkMTFRa9euVWBgoNt4RUWFrrjiCq1bt86iygDWePmdgwcPKj09XW3btlVRUZEkudYQOZ1Obdy40ZWgPPDAA1aVed47%2BXnauXPnaRfa8zxZ5%2BTnyel0GnpDBKzXtm1bffTRR%2Brfv7/b%2BNKlS/kfGViOxsvPPPvss8rKytL69etVVVV1yv%2Bzs9lsPq4MJ%2BN5qh9Ofp6qq6t5nuqJBx98UKmpqXrllVfUpk0bVVdXq6CgQEVFRZo3b57V5eE8x1SjHxs9erRef/11q8vAGfA81Q88T/XLnj179OGHH2rnzp2y2WyKiYnRoEGD1KxZM6tLw3mOxgsAAMBHmGoEAPiV0aNHn3b6d%2BHChT6sBnBH4wUA8Cu//rNAVVVV2rlzp9avX69Ro0ZZUxTwCxovAIBfmTRpksfxL774QsuWLfNxNYA71ngBAM4L1dXVuvzyy/Xdd99ZXQrOYyReAAC/UlBQUGPs6NGjWrVqlUJDQy2oCPgfGi8AgF%2B56aabZLPZavy92iZNmmjq1KnWFAX8gqlGAIBfKSwsrDEWHBysiIgIBQQEWFAR8D80XgCAeu%2Bnn34yvC9/NghWovECANR7Xbp0MfynmzZv3lzL1QCnxhovAEC9t2LFCtf3Gzdu1JIlSzR69Gi1a9dO1dXV2rZtm958802NHTvWuiIBkXgBAPzMzTffrL///e%2BKiopyGy8sLNQ999yj5cuXW1QZILHKEADgVwoLC3XhhRfWGA8LC/O48B7wJaYaAQB%2BpUePHho/frzuuusutW7dWpWVldq9e7cWLlyoxMREq8vDeY6pRgCAX9m/f7%2BefvpprV69WkePHpUkNWjQQFdddZWefvrpGlOQgC/ReAEA/JbD4VB5ebkiIiLUoAGTPLAe/xUCAPzO1q1btXLlStearosuukgDBw5UTEyMxZXhfMfiegCAX1mxYoUGDx6szz77TOXl5SovL9eqVas0cOBArV271urycJ5jqhEA4FcGDBigiRMnasCAAW7j77zzjv7xj3/o7bfftqgygMQLAOBnfvrpJyUnJ9cYv%2BWWW7R9%2B3YLKgL%2Bh8YLAOBXWrVqpQ0bNtQYz83NVbNmzSyoCPgfFtcDAPzK7bffrrvvvls333yzOnToIEnavn273n//fd1zzz0WV4fzHWu8AAB%2B5%2BOPP9aSJUu0a9culZeXq23btkpJSamx7gvwNRovAIBf2bBhgxISEqwuA/CINV4AAL9y1113qby83OoyAI9IvAAAfiUrK0s7duzQyJEj1apVKwUGBrptb9iwoUWVATReAAA/k5iYqMrKSlVUVMhms7nGnU6nbDabNm/ebGF1ON/xrkYAgF959dVXJUnV1dVyOByy2WwKDw93a8IAq9B4AQD8SocOHTR16lT961//cq31atSokXr37q0pU6ZYXB3Od0w1AgD8yujRo2Wz2TR27Fi1atVKkrRr1y5lZWUpICBAWVlZFleI8xmNFwDAryQkJOiLL75QkyZN3MYdDoeuu%2B46j59qD/gKHycBAPArMTExOnr0aI3xqqoqxcTEWFAR8D8kXgAAv7Jq1SotWrRIo0aNUrt27VRdXa0dO3borbfe0i233KJLL73UtW/79u2tKxTnJRovAIBf6dKly2m322w2PloClqHxAgD4lcLCQsP7tm7duhYrAWqi8QIAAPARFtcDAAD4CI0XAACAj9B4AQAA%2BAiNFwAAgI/QeAEAAPgIjRcAAICP0HgBAAD4CI0XAACAj/x/lT%2BaMtFaqbsAAAAASUVORK5CYII%3D\" class=\"center-img\">\n",
       "    <img src=\"data:image/png;base64,iVBORw0KGgoAAAANSUhEUgAAAl4AAAIUCAYAAADL4iKMAAAAOXRFWHRTb2Z0d2FyZQBNYXRwbG90bGliIHZlcnNpb24zLjUuMSwgaHR0cHM6Ly9tYXRwbG90bGliLm9yZy/YYfK9AAAACXBIWXMAAA9hAAAPYQGoP6dpAABHuklEQVR4nO3de1yUdf738feAiCUKgoCKmGaBCIhUph2WFGsxtdi8NQ%2B3Jh01FZM013az1DJ/lWV32kkLwyyX/WWbZrUmdtrKWi0PI4maUp4FlTHBA6e5/3CddWLUS69hBsbX8/GYB/K9DvOZa8r5%2BP5%2BZ8Zit9vtAgAAQK3z83YBAAAAFwsaLwAAAA%2Bh8QIAAPAQGi8AAAAPofECAADwEBovAAAAD6HxAgAA8BAaLwAAAA%2Bh8QIAAPAQGi8AAAAPaeDtAgA427Bhg95//32tXbtWu3bt0rFjxxQYGKiIiAglJCSod%2B/eSk1NlcVi8XapAIDzZOG7GoG6wW63a/r06Xr77bclScHBwYqJiVFQUJBKS0u1adMmlZaWSpJ69Oihl156SQ0bNvRmyQCA80TjBdQR77zzjqZNm6ZGjRpp6tSpuu222%2BTv7%2B/Yfvz4cf3tb3/TM888o%2Brqaj3wwAMaP368FysGAJwv1ngBdcSiRYskSXfddZf%2B9Kc/OTVdktSoUSNlZGTo/vvvlyQtXLhQx48f93idAIALR%2BMF1BE7duyQJMXGxp51v4yMDL3xxhtasWKFGjVqJEmaNGmSYmNj9cwzz6isrEwzZsxQamqqEhMT1a1bN40ZM0Zbtmw54zlXrVqlMWPG6MYbb1RCQoK6deumjIwMffjhh2c8xmazadasWfrTn/6k5ORkxcfH6/rrr9fIkSP1/fffuzwmNTVVsbGx%2Buqrr7RixQr17t1biYmJ%2BuGHHyRJs2fPVmxsrCZNmqTy8nLNnj1baWlp6tSpk2666SY9%2BeSTOnr0qCRp69atGjt2rG644QYlJibqtttu09KlS13e77FjxzRv3jzdeeeduuaaa9SxY0d17dpVd999t1asWOHymGHDhik2NlaLFi1SWVmZZs2a5ailS5cuuv/%2B%2B7Vx48YzXh8AcIXGC6gjQkNDJUnr1q07535/%2BMMf1Lx58xrbysrKlJGRoUWLFqlZs2bq0qWLqqqqtGLFCg0YMMBlozBr1ixlZGRoxYoVCgoKUteuXRUaGqpVq1ZpwoQJGjdunKqqqpyOKS4uVr9%2B/fTaa69p%2B/bt6tixo7p166aGDRvq888/1/Dhw7V48eIzPobt27crKytLAQEB6tatm6OBPN0jjzyi7OxsRUVF6corr1RRUZEWLlyoP//5z9qyZYsGDx6sgoICdejQQeHh4dqyZYseeeQRffHFF07nOXbsmIYMGaKZM2cqPz9f7du313XXXafg4GB9%2B%2B23GjNmjGbPnn3GWsvLy5WRkaGcnBy1bNlS8fHxqqqq0ldffaVhw4Y5GmYAMMQOoE7485//bI%2BJibHHxsban3nmGfv%2B/fvP%2B9irrrrK3rdvX6djf/vtN3v//v3tMTEx9v79%2Bzsd9%2Bmnn9pjYmLsXbp0sX///fdO2/7973/br7/%2BentMTIx9/vz5Ttueeuope0xMjD0tLc1%2B4MABx3hlZaV9%2BvTp9piYGPvVV19tLy0tdTquR48e9piYGHtqaqr91VdfrfE4XnrpJXtMTIz9xhtvtN9%2B%2B%2B324uJix7YVK1Y4rk%2BvXr3ss2fPtldXV9vtdru9qqrKPnr0aHtMTIz93nvvdTrn/Pnz7TExMfZu3brZCwsLXW6Li4uz79ixw2nb0KFD7TExMfbu3bvbhwwZYj948KBjW1FRkf2GG26wx8TE2J9%2B%2BukajwMAzoTEC6gjxo0bp5YtW8put%2BvNN99U9%2B7dNXToUL344ov69ttvdezYsXOeo7S0VFOmTFFERIRjrEmTJpo0aZKkkx9V8csvvzi2vfrqq5KkP//5z7r22mudztWlSxdNnDhRkpSTk%2BO0LSIiQn369NGYMWMUFhbmGPf391dWVpb8/Px05MiRM6Z3p94ccCZFRUWaOnWqU6p38803Kzw8XHa7XQ0aNNDo0aMdH6nh5%2BengQMHSpJ%2B%2Buknp3M1btxYt912m0aOHKm2bds6bRs%2BfLjCw8NVVVWlVatWuayluLhYL7zwgiORlKTw8HDddtttkqT169ef8XEAwO/xOV5AHdGiRQv97//%2Br5577jktW7ZMVVVVWr16tVavXq1XX31VAQEB6tq1q26//Xb16dNHDRrU/N83IiJCV199dY3x5ORkNW7cWGVlZVq3bp3atm2r/fv3Kz8/X5J0yy23uKzp5ptvlsVi0Z49e1RYWKh27dpJkmOBvyuXXHKJwsLCVFxcrOLiYpf7dOvWTX5%2BZ/53X3h4uDp37lxjPCoqSsXFxerRo0eNzzGLioqSJB0%2BfNhpfMCAARowYIDL%2B7FYLGrduvVZa7322msVGRlZY7xNmzaSpJKSkjM%2BDgD4PRovoA4JDw/Xs88%2Bq4kTJ2rFihVatWqV1qxZo4MHD6qiokJff/21vv76a82bN0%2BvvPKK48X/lJiYGJfn9fPzU1RUlLZs2aJdu3ZJktNi%2B1OJmCsNGjRQRUWFfvnlF0fjJZ1c%2B/Tll19q48aNKioq0m%2B//Sb7fz6d5siRI5JOJluuuGpkTte6dWuX46c%2Bt%2BxUk%2BVqW2VlZY1t1dXV%2Buabb7R27VoVFRXJZrM5aissLDxrrdHR0S7HAwMDJUkVFRVneygA4ITGC6iDmjdvrsGDB2vw4MGSTi5G//7777VkyRKtXbtWW7du1QMPPKAPP/xQAQEBjuOCg4PPeM4mTZpIOrkAX3JOhlauXHnOmk41U5JUUFCg0aNHO5q483W2OiU5PaYL2X66PXv2aPTo0TWmII3iQ2oBuBONF1APXH755br88ss1ePBg5eTk6Omnn1ZhYaE%2B/vhjpaenO/Y72/TdqUTn1D6npuoCAgJktVoNfwXR8ePH9eCDD2rPnj1q27atRo0apeuuu07NmjVzNESpqanavXv3Gc/hya87Gjt2rH766Sc1b95cmZmZSklJUfPmzR0N1bBhw/Tvf//bY/UAuLjReAH1zPDhw7Vw4ULt2LFDW7duddp26iuFXDm17VTyFRISIunkVFlJSYnT4vGz%2Beqrr7Rnzx5ZLBbNnTtXl112WY196soHu%2Bbn58tqtUqSZs6cqeuuu67GPnWlVgAXB97VCNQBK1as0OOPP665c%2Bca2v/UVN2pdUan/Pzzzy73r6qqciRQp9Ysnb4e7PcN3NmceldkmzZtXDZdO3bs0MGDBw2frzb9%2BuuvkuT4vLDfKysrO%2BsHywKAu9F4AXWA1WpVbm6u5s6dqz179px13/3796ugoECSarzzb%2BfOndq0aVONY3744QfHJ74nJydLOrmQPz4%2BXpL097//3eV9FRYWKj093fGxE9J/E7MTJ064PObll192/Pn3H7zqaUFBQZJOTrO6WgT/5ptvOhIvV4vyAcDdaLyAOuDuu%2B9WeHi4jhw5ouHDh7v8yh273a7vvvtO9913nyoqKtS5c2fdcMMNTvs0adJEjz32mFPiZLPZ9D//8z%2BSTn6MQ6tWrRzbRo4cKUlatmyZ3nrrLce7EqWTadHYsWNVUFCgvXv3OsY7dOggSdq3b5/y8vIc48eOHdNTTz0lq9XqaO62b99%2BwdfEHWJiYuTv76%2Bqqiq9%2B%2B67jvHKykq9/vrrys3NVY8ePST9992NAFCbWOMF1AHNmjVTdna2MjMz9csvv%2Biuu%2B5SeHi4Lr/8cl166aWy2WzatWuX47Omrr76as2ZM6fGYvrU1FTt3LlTPXv2VGJiogICArR%2B/XqVlpYqKChIjz/%2BuNP%2Bf/zjH/XAAw9o7ty5mjFjhhYsWKDLL79cJSUl2rRpk6qqqtSxY0dNmDDBcUxycrJuvPFGff3118rMzFRSUpICAwO1ceNGNWjQQPPnz9dHH32ktWvXasGCBdq8ebMefPBBdenSpfYv5O%2B0aNFC/fv3V25urmbMmKGlS5cqJCREmzZtUllZmebMmaNdu3bp888/1/LlyzVs2DANGTJEt956q8drBXBxoPEC6oiYmBh9%2BOGH%2Buijj/TZZ5%2BpoKBAGzZsUHl5uRo1aqTIyEhdd9116t27t7p37%2B7ynYF%2Bfn7Kzs7WK6%2B8ok8//VR79uxR48aNlZaWpqysLKfP4Tpl/Pjxuv7667Vw4UKtW7dOq1atUmBgoBISEtS7d28NGTKkxkcqvPjii5o5c6ZWrlypjRs3KiIiQmlpaRo5cqTatGmjFi1a6KefftKPP/6orVu3evRdjL/32GOPKTg4WMuWLdOWLVsUFhamrl27asSIEYqLi9Px48f1/fff66uvvtLWrVudUj8AcDeLnb9lgHpv0qRJ%2Bsc//qE77rjDMa0IAKh7WOMFAADgITReAAAAHkLjBQAA4CE0XgAAoF7717/%2Bpeuvv15ZWVln3a%2B6ulqzZs1Sz5491aVLF917773auXOnY7vNZtO4ceN0/fXX68Ybb9Rf//pXt3%2B7BYvrAQBAvTVv3jy99957Cg0NVYsWLTRr1qwz7vv2229r/vz5mjdvniIjIzVr1iytXr1aS5YskcViUWZmpsrLyzVjxgxVVFTooYceUkJCgh577DG31UviBQAA6q3AwEC99957Lr/C7Pdyc3OVkZGh9u3bKygoSFlZWdq2bZvWr1%2BvAwcOKC8vT1lZWQoNDVVkZKRGjRqlxYsXu/zmiwvF53gBAACvKioqcnxA9Cnh4eGKiIg457F33XWXofs4fvy4fv75Z3Xs2NExFhQUpMsuu0xWq1VHjhyRv7%2B/YmNjHdvj4%2BN19OhRbd%2B%2B3WncDBqvs/Hihz7WinbtpK1bpSuvlHzo61FmPO1bs%2BUhIdKIEdLrr0s2m7ercZ9Jk7xdAYyw/OI7fzdIkho0kFq3lnbtknzp%2BzhdfBiyx9TCa2PuSy9pzpw5TmNjxoxRZmam2%2B7j8OHDstvtCg4OdhoPDg5WSUmJQkJCFBQU5PSBz6f2LSkpcVsdNF4Xk5AQyd//5E/UWYGBkp/fyZ%2Bo2ywWiVWydZyf38knyo%2BVNXXZwIEDlZqa6jQWHh5eK/d1tqXtnlj2TuMFAACMq4UmNiIiwtC0ohkhISHy8/OT7XdTCTabTWFhYQoNDVVpaamqqqrk7%2B/v2CZJYWFhbquDfwIAAACfFxgYqCuvvFL5%2BfmOsd9%2B%2B007duxQp06dFBcXJ7vdroKCAsd2q9Wqpk2buvye2wtF4wUAAIzz83P/rZbs379fvXr1cnxW1%2BDBg7VgwQJt27ZNpaWlmjlzpuLi4pSYmKjQ0FClpaXpxRdf1KFDh7Rv3z69/PLL6t%2B/vxo0cN8EIVONAADAuDq2Xi4xMVGSVPmfN0/k5eVJOplWVVRUqLCwUOXl5ZKkQYMGqbi4WMOGDVNZWZm6du3qtKh/2rRpeuKJJ9SzZ08FBASob9%2B%2B5/xQ1vNF4wUAAOotq9V6xm2tW7fW5s2bHb9bLBaNHTtWY8eOdbl/kyZN9MILL7i9xtPReAEAAOPqWOJV33D1AAAAPITECwAAGEfiZQqNFwAAMI7GyxSuHgAAgIeQeAEAAONIvEzh6gEAAHgIiRcAADCOxMsUGi8AAGAcjZcpXD0AAAAPIfECAADGkXiZQuMFAACMo/EyhasHAADgISReAADAOBIvU7h6AAAAHkLiBQAAjCPxMoXGCwAAGEfjZQpXDwAAwENIvAAAgHEkXqZw9QAAADyExAsAABhH4mUKjRcAADCOxssUrh4AAICHkHgBAADjSLxM4eoBAAB4CIkXAAAwjsTLFBovAABgHI2XKVw9AAAADyHxAgAAxpF4mcLVAwAA8BASLwAAYByJlyk0XgAAwDgaL1O4egAAAB5C4gUAAIwj8TKFqwcAAOAhJF4AAMA4Ei9TaLwAAIBxNF6mcPUAAAA8hMQLAAAYR%2BJlClcPAADAQ0i8AACAcSReptTbq/fdd98pJSVFvXv39nYpAABcPPz83H%2B7iNTbxCsnJ0edO3fWiy%2B%2BqE2bNmn69OnatGmTwsLCNGjQIN1zzz3eLhEAAHjA7t27NXXqVK1fv16XXnqpevfurfHjx8vvd03dPffco9WrVzuNVVZWavTo0RozZoyGDRumH3/80em4du3aaenSpW6rtd42XqWlpUpKSlJ5eblGjBihO%2B%2B8U3PnzlVhYaHuuecetW7dWn/84x%2B9XSYAAL6lDiZUmZmZio%2BPV15eng4ePKgRI0aoefPmuvvuu532y87Odvr9t99%2BU%2B/evXXLLbc4xp588kn169ev1mqte1fPgKFDh2r16tXKzs5W3759VVFRoQcffFCXXnqp4uPjNWDAAOXm5nq7TAAAUMusVqsKCgo0YcIENWnSRG3btlVGRoahPuDFF1/ULbfcotjYWA9UelK9TLwWLlyoYcOGKSkpSRaLRVarVf7%2B/o7tHTt21P/%2B7/%2Be1zmLiopUXFzsNBberp0iQkLcUXLd0KGD808fERnp7QrcKyzM%2BSfgUQ0bersC9woIcP4J82oh8XL5GhweroiIiHMem5%2Bfr6ioKAUHBzvG4uPjVVhYqNLSUgUFBbk87tdff9UHH3ygvLw8p/GPP/5Yb7zxhvbu3aukpCRNmzZNbdq0uYBH5Vq9bLxOZ7PZ1LRpU6exkJAQ2Ww2VVdX15jfPZPc3FzNmTPHaWzMQw8p86GH3FZrnfHuu96uwK18dTVferq3K4ARFou3K3CzqChvV1A7DLyAw6BaaLxcvgaPGaPMzMxzHuuqDzjVhJWUlJyx8Zo7d67%2Bz//5PwoNDXWMtW/fXpdccolmzpyp6upqPfXUU7rvvvu0bNkyNXTTP0rqfeN1Jpbz/Ntw4MCBSk1NdRoLv%2B02KSfHnWV5V4cOJ5uuIUOkggJvV%2BM22WN%2B9HYJbhUWdrLpWrJEOnjQ29W4z%2B%2BWWvgEi0Wy271dhXtZ9uz2dgnuFRBwsukqKpIqKrxdjfv4WIPs8jU4PNzw8fbz/B/RZrNpyZIl%2BuSTT5zGp0yZ4vT7tGnT1LVrV/3www%2B67rrrzus%2BzqTeN16hoaH65ZdfnMZsNptCQkIMp12SFBERUTPSLCx0Q4V1UEGBtHatt6twm/37vV1B7Th40HcfG%2Bqw8nJvV1A7Kip897F5Wi0kXi5fgw0KDQ2VzWZzGrPZbLJYLE5p1ulWrlypdu3aKTo6%2BqznDgoKUnBwsPa78S/jerm4/nQJCQnavHmzKisrHWNWq1VJSUlerAoAAHhCQkKC9u7dq0OHDjnGrFarrrjiCjVu3NjlMStXrtQNN9zgNFZaWqopU6Y4NVmHDh3SoUOHztmgnY9633jddNNNCgoK0quvvqpjx45p/fr1eu%2B99zR48GBvlwYAgO%2BpYx%2Bg2rFjRyUmJur5559XaWmptm3bpvnz5zv6gF69emnNmjVOx2zatEmtW7d2GgsKCtL69ev11FNPyWaz6fDhw5o6dapiY2OVnJxsqsbT1fvGq2HDhnrttdf07bff6tprr9W4ceOUlZWl7t27e7s0AAB8Tx1rvCTppZdeUlFRkW644Qbddddd%2BtOf/qQhQ4ZIkgoLC3X06FGn/YuLi9W8efMa53n55Zdlt9uVlpam7t27q6KiQnPnzj2vpUvnUm/XeL399tuOP8fExGjRokVerAYAAHhLixYtNG/ePJfbNm/eXGNs48aNLvdt1apVjXdXulu9bbwAAIAX1MFPrq9PuHoAAAAeQuIFAACMI/EyhcYLAAAYR%2BNlClcPAADAQ0i8AACAcSReptB4AQAA42i8TOHqAQAAeAiJFwAAMI7EyxSuHgAAgIeQeAEAAONIvEyh8QIAAMbReJnC1QMAAPAQEi8AAGAciZcpXD0AAAAPIfECAADGkXiZQuMFAACMo/EyhasHAADgISReAADAOBIvU7h6AAAAHkLiBQAAjCPxMoXGCwAAGEfjZQpXDwAAwENIvAAAgHEkXqZw9QAAADyExAsAABhH4mUKjRcAADCOxssUrh4AAICHkHgBAADjSLxM4eoBAAB4CIkXAAAwjsTLFBovAABgHI2XKVw9AAAADyHxAgAAxpF4mcLVAwAA8BASLwAAYByJlyk0XgAAwDgaL1O4egAAAB5C4gUAAIwj8TKFqwcAAOAhJF4AAMA4Ei9TaLwAAIBxNF6mcPUAAEC9tnv3bj3wwAPq2rWrevTooeeee07V1dU19ps9e7bi4uKUmJjodDtw4IAk6cSJE3r88ceVkpKirl27auzYsSopKXFrrTReAADAOD8/999MyszMVGRkpPLy8jR//nzl5eUpJyfH5b7p6emyWq1Ot%2BbNm0uSZs2apfz8fOXm5mr58uWy2%2B169NFHTdd3OhovAABQb1mtVhUUFGjChAlq0qSJ2rZtq4yMDOXm5p7XeSorK/Xee%2B9p1KhRatmypUJCQjRu3Dh98cUX2r9/v9vqZY0XAAAwrhbWeBUVFam4uNhpLDw8XBEREec8Nj8/X1FRUQoODnaMxcfHq7CwUKWlpQoKCnLaf/PmzRo0aJC2bNmili1b6tFHH9WNN96oHTt26MiRI4qPj3fs2759ezVq1Ej5%2BfmKjIw0%2BShPovE6ixlP271dgltFRkr3SMoe86Pc2Lx73aN/sXi7BPdKTpbu%2BVH3zLlKWrvW29W4z6Sa6y3qP4ss8q2/J9b/1s7bJbjVJZdIMZK2lEXp2DFvV%2BM%2BSd6881povHJzczVnzhynsTFjxigzM/Ocx9psNjVt2tRp7FQTVlJS4tR4tWjRQtHR0Ro/frwiIiKUm5urkSNHaunSpbLZbJJU41xNmzZ16zovGi8AAOBVAwcOVGpqqtNYeHi44ePtdmP/ABowYIAGDBjg%2BD0jI0MfffSRli5dqpSUlPM614Wi8QIAAMbVQuIVERFhaFrRldDQUEdadYrNZpPFYlFoaOg5j4%2BKilJRUZFjX5vNpsaNGzu2Hz58WGFhYRdUmyssrgcAAMbVsXc1JiQkaO/evTp06JBjzGq16oorrnBqoCTplVde0apVq5zGtm3bpujoaEVHRys4OFj5%2BfmObVu2bFF5ebkSEhJM1Xg6Gi8AAFBvdezYUYmJiXr%2B%2BedVWlqqbdu2af78%2BRo8eLAkqVevXlqzZo2kk2nW1KlTtX37dp04cULZ2dnasWOH7rjjDvn7%2B%2BvOO%2B/Ua6%2B9pr1796qkpEQvvPCCbrnlFsfHTbgDU40AAMC4OvjJ9S%2B99JImT56sG264QUFBQRo0aJCGDBkiSSosLNTRo0clSePHj5d0cm2XzWbTFVdcobfeekstWrSQJI0dO1ZlZWVKT09XZWWlevTooSlTpri1VhovAABQr7Vo0ULz5s1zuW3z5s2OPwcGBuovf/mL/vKXv7jct2HDhnriiSf0xBNP1EqdEo0XAAA4H3Uw8apPaLwAAIBxNF6mcPUAAAA8hMQLAAAYR%2BJlClcPAADAQ0i8AACAcSReptB4AQAA42i8TOHqAQAAeAiJFwAAMI7EyxSuHgAAgIeQeAEAAONIvEyh8QIAAMbReJnC1QMAAPAQEi8AAGAciZcpXD0AAAAPIfECAADGkXiZQuMFAACMo/EyhasHAADgISReAADAOBIvU7h6AAAAHkLiBQAAjCPxMoXGCwAAGEfjZQpXDwAAwENIvAAAgHEkXqZw9QAAADyExAsAABhH4mUKjRcAADCOxssUrh4AAICHkHgBAADjSLxM4eoBAAB4CIkXAAAwjsTLFBovAABgHI2XKVw9AAAADyHxAgAAxpF4mcLVAwAA8BASLwAAYByJlyk0XgAAwDgaL1O4egAAAB5C4gUAAIwj8TKFxgsAABhH42UKVw8AAMBD6m3j9d133yklJUW9e/f2dikAAFw8/Pzcf7uI1NtHm5OTo86dO2vZsmWSpA8%2B%2BEDJycmaOXOmlysDAACetHv3bj3wwAPq2rWrevTooeeee07V1dUu9120aJHS0tKUnJys9PR05eXlObZNmjRJHTt2VGJiouN2zTXXuLXWervGq7S0VElJSfLz89PUqVNltVrVqlUrb5cFAIBvq4MJVWZmpuLj45WXl6eDBw9qxIgRat68ue6%2B%2B26n/ZYvX67nn39er7/%2Bujp16qQPPvhA48aN0yeffKLo6GhJ0oMPPqjMzMxaq7XuXT0Dhg4dqtWrVys7O1tpaWlq2bKl3n33XYWGhnq7NAAAfFsdm2q0Wq0qKCjQhAkT1KRJE7Vt21YZGRnKzc2tse/x48f18MMP6%2Bqrr1ZAQIAGDBigxo0ba926daZqOB/1MvFauHChhg0bpqSkJE2YMMEt5ywqKlJxcbHTWEBAuEJDI9xy/rogLMz5p89ITvZ2Be7VoYPzT8CDLrnE2xW4V2Cg80/UTa5eg8PDwxURce7X4Pz8fEVFRSk4ONgxFh8fr8LCQpWWliooKMgxnp6e7nTsb7/9prKyMkVGRjrGvvvuO61cuVK//vqr2rdvrylTpighIeFCH1oN9bLxqg25ubmaM2eO09jo0WN0zz21Fzd6y%2B/%2Bu6v/7vnR2xXUjnff9XYFMMJi8XYFbhUT4%2B0Kasdll3m7Ah9SC1ONrl6Dx4wZY2jKz2azqWnTpk5jp5qwkpISp8brdHa7XY899piSkpJ07bXXSpKio6Pl5%2Benhx56SI0bN9acOXN0zz33aPny5WrWrNmFPLQaaLz%2BY%2BDAgUpNTXUa%2B%2BSTcGVne6mgWhAWdrLpWrJEOnjQ29W4zz1zrvJ2Ce7VocPJpmvIEKmgwNvVuM8PP3i7AvezWCS73dtVuNWWrb7VSAYGnmy6fv1VOnHC29W4j681yK5eg8PDww0fbz/P/w8rKio0adIk/fzzz1qwYIFjfPTo0U77PfLII1q2bJny8vI0YMCA87qPM6Hx%2Bo%2BIiIgakebSpdL%2B/V4qqBYdPOhjj2vtWm9XUDsKCnz3saHOOnbM2xXUjhMnfPexeVwtJF6uXoONCg0Nlc1mcxqz2WyyWCwu134fP35co0aN0rFjx/TOO%2B%2BcNcny9/dXy5YtVVRUdEG1uVIvF9cDAAAvqWOL6xMSErR3714dOnTIMWa1WnXFFVeocePGTvva7XZlZWWpQYMGeuutt5yaLrvdrhkzZqjgtJmG8vJy7dixw/GOR3eg8QIAAPXWqc/dev7551VaWqpt27Zp/vz5Gjx4sCSpV69eWrNmjSTpww8/1M8//6z/9//%2BnwJ/944Li8WiXbt2aerUqdq/f7/Kyso0c%2BZMBQQE6Oabb3ZbvfV%2BqnH37t3q1auXpJNztj/88INycnLUqlUrLV%2B%2B3MvVAQDgY%2Brg53i99NJLmjx5sm644QYFBQVp0KBBGjJkiCSpsLBQR48elSQtXrxYu3fvdiymPyU9PV1PPfWUpk%2BfrmeeeUb9%2BvVTaWmpOnXqpJycHF166aVuq7XeNl5vv/22489Wq9WLlQAAAG9q0aKF5s2b53Lb5s2bHX/Oyck563lCQkI0Y8YMt9b2e/W28QIAAF5QBxOv%2BoTGCwAAGEfjZQpXDwAAwENIvAAAgHEkXqZw9QAAADyExAsAABhH4mUKjRcAADCOxssUrh4AAICHkHgBAADjSLxM4eoBAAB4CIkXAAAwjsTLFBovAABgHI2XKVw9AAAADyHxAgAAxpF4mcLVAwAA8BASLwAAYByJlyk0XgAAwDgaL1O4egAAAB5C4gUAAIwj8TKFqwcAAOAhJF4AAMA4Ei9TaLwAAIBxNF6mcPUAAAA8hMQLAAAYR%2BJlClcPAADAQ0i8AACAcSReptB4AQAA42i8TOHqAQAAeAiJFwAAMI7EyxQaLwAAYByNlylcPQAAAA8h8QIAAMaReJnC1QMAAPAQEi8AAGAciZcpNF4AAMA4Gi9TuHoAAAAeQuIFAACMI/EyhasHAADgISReAADAOBIvU2i8AACAcTRepnD1AAAAPITECwAAGEfiZQpXDwAA1Gu7d%2B/WAw88oK5du6pHjx567rnnVF1d7XLfBQsWKC0tTVdddZUGDx6sjRs3OradOHFCjz/%2BuFJSUtS1a1eNHTtWJSUlbq2VxgsAABjn5%2Bf%2Bm0mZmZmKjIxUXl6e5s%2Bfr7y8POXk5NTY77PPPtPs2bP17LPP6ttvv1WPHj00cuRIHT16VJI0a9Ys5efnKzc3V8uXL5fdbtejjz5qur7T0XgBAADj6ljjZbVaVVBQoAkTJqhJkyZq27atMjIylJubW2Pf3Nxc9evXT0lJSWrUqJHuu%2B8%2BSdLnn3%2BuyspKvffeexo1apRatmypkJAQjRs3Tl988YX2799vqsbTscYLAAB4VVFRkYqLi53GwsPDFRERcc5j8/PzFRUVpeDgYMdYfHy8CgsLVVpaqqCgIKd9e/fu7fjdz89PcXFxslqtiouL05EjRxQfH%2B/Y3r59ezVq1Ej5%2BfmKjIw08xAdaLzOYtIkb1dQO%2B6%2B29sVuNkk1/P49d4PP3i7AvfytQW5ycnSjz9KV18trV3r7WrcJmnaNG%2BX4F4tWkgx9yvmy3nSvn3ersZ9kiZ77a7tsrj9nLm5uZozZ47T2JgxY5SZmXnOY202m5o2beo0dqoJKykpcWq8bDabU4N2at%2BSkhLZbDZJqnGupk2bunWdF40XAADwqoEDByo1NdVpLDw83PDxdrvdbfuez7kuBI0XAAAw7AxvFjQlIiLC0LSiK6GhoY606hSbzSaLxaLQ0FCn8WbNmrnc98orr3Tsa7PZ1LhxY8f2w4cPKyws7IJqc8XHsn8AAFCbqqvdfzMjISFBe/fu1aFDhxxjVqtVV1xxhVMDdWrf/Px8x%2B9VVVX66aeflJSUpOjoaAUHBztt37Jli8rLy5WQkGCuyNPQeAEAgHqrY8eOSkxM1PPPP6/S0lJt27ZN8%2BfP1%2BDBgyVJvXr10po1ayRJgwcP1gcffKB169bp2LFjevXVV9WwYUN1795d/v7%2BuvPOO/Xaa69p7969Kikp0QsvvKBbbrlFzZs3d1u9TDUCAADDamOq0ayXXnpJkydP1g033KCgoCANGjRIQ4YMkSQVFhY6PqcrJSVFDz/8sMaNG6eDBw8qMTFRc%2BfOVaNGjSRJY8eOVVlZmdLT01VZWakePXpoypQpbq3VYq/tVWT1mC9eGYvF9x6XRT72gCTffKJ89V2NV13lU%2B9qlC%2B%2Bq/H%2B%2B6V5Pvauxsnee1fjiRPuP2dgoPvPWVeReAEAAMPqYuJVn9B4AQAAw2i8zPGx7B8AAKDuIvECAACGkXiZQ%2BIFAADgISReAADAMBIvc2i8AACAYTRe5jDVCAAA4CEkXgAAwDASL3NIvAAAADyExAsAABhG4mUOjRcAADCMxsscphoBAAA8hMQLAAAYRuJlDokXAACAh5B4AQAAw0i8zKHxAgAAhtF4mcNUIwAAgIeQeAEAAMNIvMwh8QIAAPAQEi8AAGAYiZc5NF4AAMAwGi9zmGoEAADwEBIvAABgGImXOTReAADAMBovc5hqBAAA8BASLwAAYBiJlzkkXgAAAB5C4gUAAAwj8TKHxgsAABhG42UOU40AAAAeQuIFAAAMI/Eyh8QLAADAQ0i8AACAYSRe5tB4AQAAw2i8zGGqEQAAwENIvAAAgGEkXuaQeAEAAHgIiRcAADCMxMscGi8AAGAYjZc5TDUCAAB4SL1tvL777julpKSod%2B/e3i4FAICLRnW1%2B28Xk3rbeOXk5Khz585atmyZCgoKlJGRoWuuuUYpKSmaPn26ysvLvV0iAADwMpvNpnHjxun666/XjTfeqL/%2B9a86fvz4Gff/9NNPdfvttys5OVlpaWn6%2B9//7tg2e/ZsxcXFKTEx0el24MABw/XU28artLRUbdq00bFjx3TfffcpKSlJ3377rebPn6%2BVK1fqjTfe8HaJAAD4nPqWeE2ePFnHjh3TsmXLtHjxYm3btk0zZ850ue%2BGDRs0YcIEjR07VqtXr9Zf/vIXTZs2TWvWrHHsk56eLqvV6nRr3ry54XrqZeM1dOhQrV69WtnZ2br22mv1hz/8QZmZmWrYsKHat2%2BvtLQ0p4sEAADcoz41XgcOHFBeXp6ysrIUGhqqyMhIjRo1SosXL1ZFRUWN/W02m0aMGKGbb75ZDRo00E033aSYmBi39hT18l2NCxcu1LBhw5SUlKQJEybU2L53715FRkae1zmLiopUXFzsNNa8ebgiIiJM1QrgP5KTvV2Be3Xo4PzTV7Ro4e0K3CsszPkn6iRXr8Hh4eZfgzdt2iR/f3/FxsY6xuLj43X06FFt377daVySUlJSlJKS4vi9srJSxcXFTj3F5s2bNWjQIG3ZskUtW7bUo48%2BqhtvvNFwTfWy8TqblStX6vPPP9d77713Xsfl5uZqzpw5TmOjR4/R2LGZ7iyvTrBYvF2Bu/ncAzrJ156oH3/0dgW14913vV0BjOjXz9sV%2BIzaSKhcvQaPGTNGmZnmXoNtNpuCgoJkOe3v0%2BDgYElSSUnJOY%2BfOXOmLr30Uscb%2BVq0aKHo6GiNHz9eERERys3N1ciRI7V06VJdfvnlhmryqcbr008/1Z///Gc9%2B%2ByzuvLKK8/r2IEDByo1NdVprHnzcNnt7qzQ%2BywW%2Bd5jko89IMk3n6irr/Z2Be7VocPJpmvIEKmgwNvVuM%2BDD3q7AvcKCzvZdL3/vnTwoLercZ/77/d2BW7l6jU4PDzc0LFLlizRxIkTXW7LysqS/QL%2BLrXb7Zo5c6aWLVumBQsWKDAwUJI0YMAADRgwwLFfRkaGPvroIy1dulTjxo0zdG6fabxyc3M1c%2BZMzZ49%2B7wiv1MiIiJqRJq%2B9roHeNXatd6uoHYUFPjWY9u3z9sV1I6DB333sXlYbSRerl6DjUpPT1d6errLbd98841KS0tVVVUlf39/SSdTMEkKO8P0c3V1tR599FFt2LBBixYtUnR09FnvPyoqSkVFRYbrrZeL63/vn//8p2bNmqUFCxZcUNMFAACMqU%2BL6%2BPi4mS321VwWipttVrVtGlTtWvXzuUxTz/9tLZu3eqy6XrllVe0atUqp7Ft27adszk7Xb1vvI4cOaIpU6boueeeU1xcnLfLAQAAdURoaKjS0tL04osv6tChQ9q3b59efvll9e/fXw0anJz0Gz58uD7%2B%2BGNJ0g8//KClS5dq7ty5CgkJqXE%2Bm82mqVOnavv27Tpx4oSys7O1Y8cO3XHHHYZrqvdTjStXrlRJSYlGjRpVY5vVavVCRQAA%2BK769knz06ZN0xNPPKGePXsqICBAffv2VVZWlmP7zp07dfjwYUnS4sWLdeTIEfXo0cPpHF26dFF2drbGjx8v6eTaLpvNpiuuuEJvvfWWWpzHu4Et9gtZdXaR8MUr44trtllcX0/41fuA3Vly8sl3al51lW%2Bt8Zo2zdsVuFeLFicXos%2Bb51trvCZP9tpdL1/u/nOmpbn/nHVVvU%2B8AACA59S3xKuuofECAACG0XiZ42PZPwAAQN1F4gUAAAwj8TKHxAsAAMBDSLwAAIBhJF7m0HgBAADDaLzMYaoRAADAQ0i8AACAYSRe5pB4AQAAeAiJFwAAMIzEyxwaLwAAYBiNlzlMNQIAAHgIiRcAADCMxMscGi8AAGAYjZc5TDUCAAB4CIkXAAAwjMTLHBIvAAAADyHxAgAAhpF4mUPjBQAADKPxMoepRgAAAA8h8QIAAIaReJlD4gUAAOAhJF4AAMAwEi9zaLwAAIBhNF7mMNUIAADgISReAADAMBIvc0i8AAAAPITECwAAGEbiZQ6NFwAAMIzGyxymGgEAADyExAsAABhG4mUOiRcAAICHkHgBAADDSLzMofECAACG0XiZw1QjAACAh5B4AQAAw0i8zCHxAgAA8BASLwAAYBiJlzk0XgAAwDAaL3OYagQAAPAQGi8AAGBYdbX7b7XJZrNp3Lhxuv7663XjjTfqr3/9q44fP%2B5y3/fff18dOnRQYmKi023Dhg3/eezVmjVrlnr27KkuXbro3nvv1c6dO8%2BrHhovAADgsyZPnqxjx45p2bJlWrx4sbZt26aZM2eecf8uXbrIarU63Tp16iRJeuedd/Thhx9q7ty5%2Bvzzz9W2bVuNHj1adrvdcD00XgAAwLD6lHgdOHBAeXl5ysrKUmhoqCIjIzVq1CgtXrxYFRUV532%2B3NxcZWRkqH379goKClJWVpa2bdum9evXGz4HjRcAADCsPjVemzZtkr%2B/v2JjYx1j8fHxOnr0qLZv3%2B7ymL179%2Bruu%2B9Wly5d1LNnTy1ZskSSdPz4cf3888/q2LGjY9%2BgoCBddtllslqthmviXY0AAMCrioqKVFxc7DQWHh6uiIgIU%2Be12WwKCgqSxWJxjAUHB0uSSkpKauwfGhqqtm3b6uGHH9YVV1yhFStWaOLEiYqIiNDll18uu93uOP7087k615nQeJ2F5ZdCb5fgXg0bSlFRsuzZLZWXe7sat1n/Wztvl%2BBWl1wixcRIW7ZadOyYt6txn6Rp07xdgnu1aHHy54MPSvv2ebcWd3r8cW9X4F7JydL990uvviqtXevtatxn8mSv3XVtJFS5ubmaM2eO09iYMWOUmZl5zmOXLFmiiRMnutyWlZV1Xuuvunfvru7duzt%2B79Onj1asWKH3339fEyZMkKTzOp8rNF4AAMCrBg4cqNTUVKex8PBwQ8emp6crPT3d5bZvvvlGpaWlqqqqkr%2B/v6STKZgkhYWFGTp/VFSUNm7cqJCQEPn5%2BTmOP8Vmsxk%2Bl0TjBQAAzkNtJF4RERGmpxVdiYuLk91uV0FBgeLj4yVJVqtVTZs2Vbt2NWdLFi1apODgYPXu3dsxtm3bNkVHRyswMFBXXnml8vPzde2110qSfvvtN%2B3YscPxrkcjWFwPAAAMq0%2BL60NDQ5WWlqYXX3xRhw4d0r59%2B/Tyyy%2Brf//%2BatDgZPY0fPhwffzxx5Kk8vJyPfnkk7JaraqoqNCyZcv01VdfadCgQZKkwYMHa8GCBdq2bZtKS0s1c%2BZMxcXFKTEx0XBNJF4AAMBnTZs2TU888YR69uypgIAA9e3bV1lZWY7tO3fu1OHDhyVJd911l8rKyvTQQw%2BpuLhYrVu31ssvv6yEhARJ0qBBg1RcXKxhw4aprKxMXbt2rbE27VxovAAAgGH17bsamzRpohdeeOGM2z/77DPHny0Wi0aNGqVRo0a53NdisWjs2LEaO3bsBdfDVCMAAICHkHgBAADD6lviVdfQeAEAAMNovMxhqhEAAMBDSLwAAIBhJF7m0HgBAADDaLzMYaoRAADAQ0i8AACAYSRe5pB4AQAAeAiJFwAAMIzEyxwaLwAAYBiNlzlMNQIAAHgIiRcAADCMxMscEi8AAAAPIfECAACGkXiZQ%2BMFAAAMo/Eyh6lGAAAADyHxAgAAhpF4mUPiBQAA4CEkXgAAwDASL3NovAAAgGE0XuYw1QgAAOAhJF4AAMAwEi9zSLwAAAA8hMQLAAAYRuJlDo0XAAAwjMbLHKYaAQAAPITECwAAGEbiZQ6JFwAAgIeQeAEAAMNIvMyh8QIAAIbReJnDVCMAAICHkHgBAADDSLzMIfECAADwEBIvAABgGImXOTReAADAMBovc5hqBAAA8BASLwAAYBiJlzkkXgAAAB5C4gUAAAwj8TKHxgsAABhG42VOnZpq3LZtm2JjY7Vr1y5vlwIAAOB2Ppt4zZ8/X8OGDVODBj77EAEA8Lj6lnjZbDZNmTJF//73v%2BXn56ebbrpJkydPVqNGjWrs%2B9hjj2nJkiVOY1VVVUpPT9eMGTM0adIkLV26VP7%2B/o7tgYGBWrNmjeF66lTi5S6HDh3SM888o6qqKm%2BXAgAAvGjy5Mk6duyYli1bpsWLF2vbtm2aOXOmy32feuopWa1Wx23t2rW6/PLL1atXL8c%2BDz74oNM%2B59N0SefZeO3atUuxsbFavny5%2BvTpo06dOmno0KEqLi7W999/r%2BTkZL311lu66qqrtHbtWknS3/72N916661KSkpSr1699PHHHzvOd/DgQd13331KTk5Wnz59tGHDhhr3tW3bNsfYzJkzNWzYMMfvX3/9tW6//XZ17txZ6enpWrVqlQ4cOKCUlBTZ7XZdc801ev/998/rggAAgDOrrnb/rbYcOHBAeXl5ysrKUmhoqCIjIzVq1CgtXrxYFRUV5zw%2BJydHrVq10k033eS2mi4o8Vq4cKGys7P1r3/9SxaLRVOmTJEkVVRU6Ndff9W3336rzp0767PPPtNzzz2nJ598UmvWrNHYsWP1yCOPaPPmzZKkp59%2BWidOnNAXX3yh7Ozs82qS9u/fr8zMTI0cOVKrV6/W8OHDNXr0aDVo0EBvvvmmJGnNmjXq16/fhTxEAADgQn1qvDZt2iR/f3/FxsY6xuLj43X06FFt3779rMf%2B9ttveu211/TII484jX/33Xf605/%2BpOTkZPXv318bN248r5ouaAHUkCFDFBkZKUnKyMjQuHHjNHToUFVUVGjIkCGOedP33ntPffv21TXXXCNJ6t27t7Kzs7V8%2BXLFxsYqLy9Ps2bNUnBwsIKDgzV06FD9%2B9//NlTDJ598oujoaPXu3VuS1K9fPwUGBqr6Ap/BoqIiFRcXO42FV1QoIjz8gs5XJwUEOP/0EZdc4u0K3Csw0Pmnz2jRwtsVuFdYmPNPX5Gc7O0K3KtDB%2BefqJNcvgaHhysiIsLUeW02m4KCgmSxWBxjwcHBkqSSkpKzHrtw4UJ16dJFV155pWMsOjpafn5%2Beuihh9S4cWPNmTNH99xzj5YvX65mzZoZqumCGq927do5/hwVFaXy8nLZbDZJUqtWrRzbdu3apW7dujkde9lll2n37t0qKSnR8ePH1bp1a8e2tm3bGq5hx44dTsdKUp8%2Bfc7jUTjLzc3VnDlznMbGjB6tzLFjL/icdZbJ/5DrmhhvF1BLLrvM2xW4Wcz93q6gdvhaqn6/jz5P777r7Qp8Rm0kVC5fg8eMUWZm5jmPXbJkiSZOnOhyW1ZWlux2%2B3nXU1VVpXfeeUfPP/%2B80/jo0aOdfn/kkUe0bNky5eXlacCAAYbOfUGN1%2Bmp0qkHdKqbPP1dhOXl5S6Pt1gsjm2nL4A/18U5fV8/P78LTrdcGThwoFJTU53GwisqpN273XYfXhcQcLLpKiqSDMxt1xdbyqK8XYJbBQaebLp%2B/VU6ccLb1bhPzJfzvF2Ce4WFnWy63n9fOnjQ29W4z6uversC9%2BrQ4WTTNWSIVFDg7Wrc58cfvV2BW7l8DTY445Senq709HSX27755huVlpaqqqrK8U7EU0FR2FnS6tWrV6u8vNwxY3cm/v7%2BatmypYqKigzVKl1g47Vjxw517NhRkrR79241atRIISEhNfZr06ZNjTnU7du36%2Babb1ZoaKgCAgK0d%2B9excXFSZJ%2B/vlnx36B/5lnOX78uGNs586djj%2B3bt1a//rXv5zOvXDhwgteABcREVEz0iwslM7QPNZrFRU%2B9biOHfN2BbXjxAkfe2z79nm7gtpx8KBvPbb/vDHK5xQU%2BO5j87DaSLxcvga7QVxcnOx2uwoKChQfHy9Jslqtatq0qdPs3e%2BtXLlS3bp1cwqT7Ha7/ud//kd33HGHOvxn6rq8vFw7duxQdHS04ZouaHH9okWLdODAAdlsNuXk5Oimm25ymj89JT09XR9%2B%2BKHWrVuniooKvf/%2B%2B9q6dav69OmjgIAAdevWTQsWLNCRI0e0e/duvfPOO45jQ0ND1aRJE3366aeqqqrS119/rXXr1jm29%2B3bV3v37tXf//53lZeX66OPPtILL7ygxo0bO9aYFRYW6ujRoxfyEAEAgAv1aXF9aGio0tLS9OKLL%2BrQoUPat2%2BfXn75ZfXv39/RVA0fPtzpExekk4vyf7%2BcyWKxaNeuXZo6dar279%2BvsrIyzZw5UwEBAbr55psN13RBjdftt9%2Bu4cOH6w9/%2BIMk6YknnnC5X58%2BfTRixAhNnDhRXbt21bvvvqvs7GzHWq7p06dLklJSUnT//fdr%2BPDhjmP9/f31xBNP6B//%2BIeuueYaffDBB/q///f/OrY3b95cb775pt566y116dJFc%2BfO1csvv6zQ0FDFxcU53m2waNGiC3mIAADAB0ybNk1NmjRRz549dfvtt6tTp07KyspybN%2B5c6cOHz7sdExxcbGaN29e41zTp09X27Zt1a9fP11//fXatGmTcnJydOmllxqux2I/j1Vnu3btUs%2BePfXxxx%2Brffv2hu%2Bk3ios9HYF7tWwoRQVdXLdmg9NNa7/7cxxcX10ySVSTIy0ZYtvTTUmLX3S2yW4V4sWJxeiz5vnW1ONjz/u7QrcKzn55Hqoq67yranGC1gw7i7XXef%2Bc65a5f5z1lV8nw4AADCsvn1lUF3jk18ZBAAAUBedV%2BLVunVrx6fOAwCAiw%2BJlzkkXgAAAB7CGi8AAGAYiZc5NF4AAMAwGi9zmGoEAADwEBIvAABgGImXOSReAAAAHkLiBQAADCPxMofGCwAAGEbjZQ5TjQAAAB5C4gUAAAwj8TKHxAsAAMBDSLwAAIBhJF7m0HgBAADDaLzMYaoRAADAQ0i8AACAYSRe5pB4AQAAeAiJFwAAMIzEyxwaLwAAYBiNlzlMNQIAAHgIiRcAADCMxMscEi8AAAAPIfECAACGkXiZQ%2BMFAAAMo/Eyh6lGAAAADyHxAgAAhpF4mUPiBQAA4CEkXgAAwDASL3NovAAAgGE0XuYw1QgAAOAhJF4AAMAwEi9zSLwAAAA8hMQLAAAYRuJlDo0XAAAwjMbLHKYaAQAAPITECwAAGEbiZQ6JFwAAgIeQeAEAAMNIvMyh8QIAAIbReJnDVCMAAICH0HgBAADDqqvdf6ttVqtVt9xyi%2B68885z7rtgwQKlpaXpqquu0uDBg7Vx40bHthMnTujxxx9XSkqKunbtqrFjx6qkpOS8aqHxAgAAhtW3xmvp0qXKzMzUZZddds59P/vsM82ePVvPPvusvv32W/Xo0UMjR47U0aNHJUmzZs1Sfn6%2BcnNztXz5ctntdj366KPnVQ%2BNFwAA8FknTpxQbm6ukpKSzrlvbm6u%2BvXrp6SkJDVq1Ej33XefJOnzzz9XZWWl3nvvPY0aNUotW7ZUSEiIxo0bpy%2B%2B%2BEL79%2B83XA%2BNFwAAMKy%2BJV4DBgxQZGSkoX3z8/PVsWNHx%2B9%2Bfn6Ki4uT1WrVjh07dOTIEcXHxzu2t2/fXo0aNVJ%2Bfr7henhXIwAA8KqioiIVFxc7jYWHhysiIsKjddhsNgUHBzuNBQcHq6SkRDabTZLUtGlTp%2B1NmzY9r3VeNF5n066dtytwq6KiIuXOnq2BAwcqIirK2%2BW4zbnD4/qlqKhIs2fnauDAgYqJ8exfOrUqabK3K3Arp/%2BfPPziUKsm%2B%2Bjz9M9/%2Btbz5EV2u/vPOXt2rubMmeM0NmbMGGVmZp7z2CVLlmjixIkut82YMUP9%2BvU7r1rs53iA59p%2BLjReF5Hi4mLNmTNHqamp/AVUh/E81Q88T/UDz1P9MHDgQKWmpjqNhYeHGzo2PT1d6enpbqmjWbNmjmTrFJvNpiuvvFKhoaGO3xs3buzYfvjwYYWFhRm%2BDxovAADgVREREXWiMU5ISFB%2Bfr7uuOMOSVJVVZV%2B%2Bukn9e/fX9HR0QoODlZ%2Bfr6i/jNrtGXLFpWXlyshIcHwfbC4HgAAXLR69eqlNWvWSJIGDx6sDz74QOvWrdOxY8f06quvqmHDhurevbv8/f1155136rXXXtPevXtVUlKiF154QbfccouaN29u%2BP5IvAAAgM9KS0vTnj17VFVVperqaiUmJkqS/vnPfyoqKkqFhYWOz%2BlKSUnRww8/rHHjxungwYNKTEzU3Llz1ahRI0nS2LFjVVZWpvT0dFVWVqpHjx6aMmXKedVjsZtdJYZ6o6ioSLm5ub63GNjH8DzVDzxP9QPPE%2BoaGi8AAAAPYY0XAACAh9B4AQAAeAiNFwAAgIfQeAEAAHgIjRcAAICH0HgBAAB4CI0XAACAh9B4AQAAeAiNFwAAgIfQeAEAfMoHH3zgcvzYsWOaP3%2B%2BZ4sBfoevDPJReXl5ys3NldVq1eHDh2WxWBQSEqJOnTppyJAhSklJ8XaJMODWW2/VJ5984u0yLmqVlZV64403tHr1akVGRuree%2B9V%2B/btnfZJSkrS%2BvXrvVQhTqmurlZlZaW6dOmiNWvW6Pcvb9u3b9edd96pDRs2eKlCQGrg7QLgfvPnz9frr7%2BuAQMGqF%2B/fgoJCZEklZSUyGq1asKECRo/frwGDhzo3UJxTrt37/Z2CRe9Z599VitXrtQf//hH7du3T/3799dzzz2nm2%2B%2B2bEP/36tGxYsWKBnnnlGktSpUyeX%2B3Tu3NmDFQE1kXj5oLS0NM2aNUsdO3Z0uX39%2BvXKysrSZ5995uHKcLoXXnjhnPtkZ2dr48aNHqgGZ9K9e3fNnz9f7dq1kyStXLlSEydO1Jw5c3TddddJIvGqSw4dOqSUlBRlZ2fX2NaoUSPFxcUpICDAC5UBJ5F4%2BaCDBw/q8ssvP%2BP22NhYHThwwIMVwZWFCxcqKirKkUi6Ul1d7bmC4FJZWZlat27t%2BL1nz56aMWOGxo0bpwULFig2NtaL1eH3QkND9eWXXyogIEBVVVVq1qyZJGnXrl1q3LgxTRe8jsX1PiguLk7Z2dkupz%2Bqq6v1xhtvKCEhwQuV4XSPP/64LrnkEmVnZ%2Bvtt992eeNFwvsSEhL0yiuvODXBf/zjH/Xwww/r7rvv1jfffOPF6uDK1q1blZqaqlWrVjnGvvzyS91yyy36/vvvvVgZwFSjT9q0aZNGjhypyspKxcbGqmnTprLb7bLZbCooKFBQUJBef/11XXHFFd4u9aI3bdo0RUVF6d5773W5vVOnTiwE9rKCggLdd9996t69u5566imnbf/85z81depU2Ww2bdq0yUsV4vfuuOMO3XXXXbrjjjucxj/66CO98cYb%2Bsc//uGlygAaL5/Tt29fLVu2TMePH9dtt92mW2%2B9VTabTZLUrFkzJSYmKiUlRQ0bNvRuoRe5U8%2BTdPZ3Lu7Zs0etWrXyZGk4zannqaysTF27dnW53q60tFQrV65Uenq6FyqEK8nJyVqzZo38/f2dxisqKnTttddq7dq1XqoMYI2Xzzly5IjGjRunNm3aaO/evZLkWENkt9u1YcMGR4Ly8MMPe6vMi97pz9POnTvPutCe58l7Tn%2Be7Ha7oTdEwPvatGmjFStWqFevXk7jH3zwAf%2BQgdfRePmYZ599Vjk5OVq3bp2qqqrO%2BC87i8Xi4cpwOp6n%2BuH056m6uprnqZ545JFHlJmZqddee02tW7dWdXW1CgsLtXfvXr3xxhveLg8XOaYafdiwYcP09ttve7sMnAPPU/3A81S/7N%2B/X5988ol27twpi8Wi6Oho9e3bV2FhYd4uDRc5Gi8AAAAPYaoRAOBThg0bdtbp3wULFniwGsAZjRcAwKf8/muBqqqqtHPnTq1bt05Dhw71TlHAf9B4AQB8yvjx412Of/3111q6dKmHqwGcscYLAHBRqK6u1jXXXKMff/zR26XgIkbiBQDwKYWFhTXGjh8/rk8//VRNmzb1QkXAf9F4AQB8yq233iqLxVLj%2B2qbNGmiKVOmeKco4D%2BYagQA%2BJTdu3fXGAsMDFRoaKj8/Py8UBHwXzReAIB6b8%2BePYb35WuD4E00XgCAeq9Dhw6Gv7pp06ZNtVwNcGas8QIA1Hsff/yx488bNmzQ4sWLNWzYMLVt21bV1dX6%2Beef9e677yojI8N7RQIi8QIA%2BJjbbrtNb775piIiIpzGd%2B/erREjRmjZsmVeqgyQWGUIAPApu3fv1qWXXlpjPDg42OXCe8CTmGoEAPiUq666SqNGjdK9996rqKgoVVZWat%2B%2BfVqwYIGSk5O9XR4uckw1AgB8yqFDhzR9%2BnStXLlSx48flyQ1aNBA1113naZPn15jChLwJBovAIDPstlsKi8vV2hoqBo0YJIH3sd/hQAAn7N161YtX77csabrsssuU58%2BfRQdHe3lynCxY3E9AMCnfPzxx7rjjjv05Zdfqry8XOXl5fr000/Vp08frVmzxtvl4SLHVCMAwKf07t1bY8aMUe/evZ3G33//ff3tb3/T3//%2Bdy9VBpB4AQB8zJ49e5SWllZj/Pbbb9f27du9UBHwXzReAACf0qpVK61fv77GeH5%2BvsLCwrxQEfBfLK4HAPiUu%2B66Sw888IBuu%2B02tW/fXpK0fft2ffjhhxoxYoSXq8PFjjVeAACf89lnn2nx4sXatWuXysvL1aZNG6Wnp9dY9wV4Go0XAMCnrF%2B/XklJSd4uA3CJNV4AAJ9y7733qry83NtlAC6ReAEAfEpOTo527NihIUOGqFWrVvL393fa3rBhQy9VBtB4AQB8THJysiorK1VRUSGLxeIYt9vtslgs2rRpkxerw8WOdzUCAHzK66%2B/Lkmqrq6WzWaTxWJRSEiIUxMGeAuNFwDAp7Rv315TpkzRV1995Vjr1ahRI3Xv3l2TJ0/2cnW42DHVCADwKcOGDZPFYlFGRoZatWolSdq1a5dycnLk5%2BennJwcL1eIixmNFwDApyQlJenrr79WkyZNnMZtNptuuukml59qD3gKHycBAPAp0dHROn78eI3xqqoqRUdHe6Ei4L9IvAAAPuXTTz/VwoULNXToULVt21bV1dXasWOHFi1apNtvv12dO3d27NuuXTvvFYqLEo0XAMCndOjQ4azbLRYLHy0Br6HxAgD4lN27dxveNyoqqhYrAWqi8QIAAPAQFtcDAAB4CI0XAACAh9B4AQAAeAiNFwAAgIfQeAEAAHgIjRcAAICH0HgBAAB4CI0XAACAh/x/TDVrpyqAJNEAAAAASUVORK5CYII%3D\" class=\"center-img\">\n",
       "</div>\n",
       "    <div class=\"row headerrow highlight\">\n",
       "        <h1>Sample</h1>\n",
       "    </div>\n",
       "    <div class=\"row variablerow\">\n",
       "    <div class=\"col-md-12\" style=\"overflow:scroll; width: 100%%; overflow-y: hidden;\">\n",
       "        <table border=\"1\" class=\"dataframe sample\">\n",
       "  <thead>\n",
       "    <tr style=\"text-align: right;\">\n",
       "      <th></th>\n",
       "      <th>id</th>\n",
       "      <th>f0</th>\n",
       "      <th>f1</th>\n",
       "      <th>f2</th>\n",
       "      <th>product</th>\n",
       "    </tr>\n",
       "  </thead>\n",
       "  <tbody>\n",
       "    <tr>\n",
       "      <th>0</th>\n",
       "      <td>txEyH</td>\n",
       "      <td>0.705745</td>\n",
       "      <td>-0.497823</td>\n",
       "      <td>1.221170</td>\n",
       "      <td>105.280062</td>\n",
       "    </tr>\n",
       "    <tr>\n",
       "      <th>1</th>\n",
       "      <td>2acmU</td>\n",
       "      <td>1.334711</td>\n",
       "      <td>-0.340164</td>\n",
       "      <td>4.365080</td>\n",
       "      <td>73.037750</td>\n",
       "    </tr>\n",
       "    <tr>\n",
       "      <th>2</th>\n",
       "      <td>409Wp</td>\n",
       "      <td>1.022732</td>\n",
       "      <td>0.151990</td>\n",
       "      <td>1.419926</td>\n",
       "      <td>85.265647</td>\n",
       "    </tr>\n",
       "    <tr>\n",
       "      <th>3</th>\n",
       "      <td>iJLyR</td>\n",
       "      <td>-0.032172</td>\n",
       "      <td>0.139033</td>\n",
       "      <td>2.978566</td>\n",
       "      <td>168.620776</td>\n",
       "    </tr>\n",
       "    <tr>\n",
       "      <th>4</th>\n",
       "      <td>Xdl7t</td>\n",
       "      <td>1.988431</td>\n",
       "      <td>0.155413</td>\n",
       "      <td>4.751769</td>\n",
       "      <td>154.036647</td>\n",
       "    </tr>\n",
       "  </tbody>\n",
       "</table>\n",
       "    </div>\n",
       "</div>\n",
       "</div>"
      ],
      "text/plain": [
       "<pandas_profiling.ProfileReport at 0x7fe85a36df50>"
      ]
     },
     "execution_count": 17,
     "metadata": {},
     "output_type": "execute_result"
    }
   ],
   "source": [
    "import  pandas_profiling\n",
    "pandas_profiling.ProfileReport(data_1)"
   ]
  },
  {
   "cell_type": "markdown",
   "metadata": {},
   "source": [
    "## Обучение и проверка модели"
   ]
  },
  {
   "cell_type": "markdown",
   "metadata": {},
   "source": [
    "### Разбивка на выборки: обучающую и валидационную"
   ]
  },
  {
   "cell_type": "markdown",
   "metadata": {},
   "source": [
    "Разобьем данные на обучающую и валидационную выборки в соотношении 75:25. \n",
    "\n",
    "Чтобы не повторять однотипые действия для каждой таблицы, запишем функцию для получения выборок. "
   ]
  },
  {
   "cell_type": "code",
   "execution_count": 18,
   "metadata": {},
   "outputs": [],
   "source": [
    "#запишем функцию для получения выборок, которая на вход принимает датасет, а на выходе дает обуч. и валид. выборки: \n",
    "def split(data):\n",
    "    features = data[['f0','f1','f2']]\n",
    "    target = data['product']\n",
    "    features_train, features_valid, target_train, target_valid = train_test_split(\n",
    "    features, target, test_size=0.25, random_state=1000000, shuffle=True)\n",
    "    return features_train, features_valid, target_train, target_valid"
   ]
  },
  {
   "cell_type": "code",
   "execution_count": 19,
   "metadata": {},
   "outputs": [
    {
     "data": {
      "text/plain": [
       "'Размер features и target обучающей выборки:'"
      ]
     },
     "metadata": {},
     "output_type": "display_data"
    },
    {
     "data": {
      "text/plain": [
       "(75000, 3)"
      ]
     },
     "metadata": {},
     "output_type": "display_data"
    },
    {
     "data": {
      "text/plain": [
       "(75000,)"
      ]
     },
     "metadata": {},
     "output_type": "display_data"
    },
    {
     "data": {
      "text/plain": [
       "'Размер features и target валидационной выборки:'"
      ]
     },
     "metadata": {},
     "output_type": "display_data"
    },
    {
     "data": {
      "text/plain": [
       "(25000, 3)"
      ]
     },
     "metadata": {},
     "output_type": "display_data"
    },
    {
     "data": {
      "text/plain": [
       "(25000,)"
      ]
     },
     "metadata": {},
     "output_type": "display_data"
    }
   ],
   "source": [
    "#с помощью функции получим обучающие и валидационные выборки для каждой таблицы: \n",
    "features_train_1, features_valid_1, target_train_1, target_valid_1 = split(data_1)\n",
    "features_train_2, features_valid_2, target_train_2, target_valid_2 = split(data_2)\n",
    "features_train_3, features_valid_3, target_train_3, target_valid_3 = split(data_3)\n",
    "#для проверки выведем на экран размеры получившихся выборок из 1 таблицы методом shape: \n",
    "display('Размер features и target обучающей выборки:', features_train_1.shape, target_train_1.shape)\n",
    "display('Размер features и target валидационной выборки:', features_valid_1.shape, target_valid_1.shape)"
   ]
  },
  {
   "cell_type": "markdown",
   "metadata": {},
   "source": [
    "Размеры получившихся выборок говорят о том, что разбивка данных проведена успешно. "
   ]
  },
  {
   "cell_type": "markdown",
   "metadata": {},
   "source": [
    "### Обучение модели, получение предсказаний на валидационной выборке"
   ]
  },
  {
   "cell_type": "markdown",
   "metadata": {},
   "source": [
    "Для дальнейших расчетов нам необходимо обучить модель и получить предсказания на валидационной выборке. \n",
    "\n",
    "Запишем функцию для исключения однотипных действий. "
   ]
  },
  {
   "cell_type": "code",
   "execution_count": 20,
   "metadata": {},
   "outputs": [],
   "source": [
    "#запишем функцию, с помощью которой обучим модель линейной регрессии и получим предсказания модели: \n",
    "def predict_linear_regression(features_train, target_train, features_valid):\n",
    "    model = LinearRegression()\n",
    "    model.fit(features_train, target_train)\n",
    "    predict = model.predict(features_valid)\n",
    "    return predict"
   ]
  },
  {
   "cell_type": "code",
   "execution_count": 21,
   "metadata": {},
   "outputs": [],
   "source": [
    "#с помощью нашей функции получим предсказания для каждого набора данных: \n",
    "predict_valid_1 = predict_linear_regression(features_train_1, target_train_1, features_valid_1)\n",
    "predict_valid_2 = predict_linear_regression(features_train_2, target_train_2, features_valid_2)\n",
    "predict_valid_3 = predict_linear_regression(features_train_3, target_train_3, features_valid_3)"
   ]
  },
  {
   "cell_type": "markdown",
   "metadata": {},
   "source": [
    "### Расчет среднего запаса предсказанного сырья и RMSE модели"
   ]
  },
  {
   "cell_type": "markdown",
   "metadata": {},
   "source": [
    "Теперь для каждого из 3 наборов данных рассчитаем средний запас предсказанного сырья, а также корень из средней квадратичной ошибки. \n",
    "Как и ранее, используем функцию: "
   ]
  },
  {
   "cell_type": "code",
   "execution_count": 22,
   "metadata": {},
   "outputs": [],
   "source": [
    "#запишем функцию,которая на вход принимает предсказания и значения целевого признака, на выходе- средний запас предсказанного сырья и RMSE:\n",
    "def mean_and_rmse(target, predict): \n",
    "    mean = predict.mean()\n",
    "    rmse = mean_squared_error(target, predict) ** 0.5\n",
    "    return display (f'Cредний запас предсказанного сырья - {mean}, RMSE модели - {rmse}')"
   ]
  },
  {
   "cell_type": "code",
   "execution_count": 23,
   "metadata": {},
   "outputs": [
    {
     "data": {
      "text/plain": [
       "'Регион 1:'"
      ]
     },
     "metadata": {},
     "output_type": "display_data"
    },
    {
     "data": {
      "text/plain": [
       "'Cредний запас предсказанного сырья - 92.63659883743223, RMSE модели - 37.71640470180887'"
      ]
     },
     "metadata": {},
     "output_type": "display_data"
    },
    {
     "data": {
      "text/plain": [
       "'Регион 2:'"
      ]
     },
     "metadata": {},
     "output_type": "display_data"
    },
    {
     "data": {
      "text/plain": [
       "'Cредний запас предсказанного сырья - 68.76434676065062, RMSE модели - 0.8858458984188471'"
      ]
     },
     "metadata": {},
     "output_type": "display_data"
    },
    {
     "data": {
      "text/plain": [
       "'Регион 3:'"
      ]
     },
     "metadata": {},
     "output_type": "display_data"
    },
    {
     "data": {
      "text/plain": [
       "'Cредний запас предсказанного сырья - 95.03211087480763, RMSE модели - 40.02824634351358'"
      ]
     },
     "metadata": {},
     "output_type": "display_data"
    }
   ],
   "source": [
    "#выведем на экране средний запас предсказанного сырья и RMSE модели для каждого региона:\n",
    "display('Регион 1:')\n",
    "mean_and_rmse(target_valid_1, predict_valid_1)\n",
    "display('Регион 2:')\n",
    "mean_and_rmse(target_valid_2, predict_valid_2)\n",
    "display('Регион 3:')\n",
    "mean_and_rmse(target_valid_3, predict_valid_3)"
   ]
  },
  {
   "cell_type": "markdown",
   "metadata": {},
   "source": [
    "**Вывод**\n",
    "\n",
    "После обучения моделей и получения предсказаний объема сырья для каждого региона, мы получили следующие результаты: \n",
    "\n",
    "- для первого региона средний запас предсказанного сырья- 92.6 тыс. баррелей, при этом возможны отклонения от среднего на 37.7 тыс. баррелей (rmse); \n",
    "- для второго региона 68.7 и 0.88 тыс. баррелей соответственно; \n",
    "- для третьего- 95 и 40. \n",
    "\n",
    "По этми данным нельзя с уверенностью сказать, какой из регионов следует выбрать с точки зрения прибыльности, так как в первом и третьем случае мы наблюдаем довольно большое значение метрики rmse, во втором же средние запасы предсказанного сырья гораздо ниже, чем в первом и третьем регионе. "
   ]
  },
  {
   "cell_type": "markdown",
   "metadata": {},
   "source": [
    "## Подготовка к расчёту прибыли"
   ]
  },
  {
   "cell_type": "code",
   "execution_count": 24,
   "metadata": {},
   "outputs": [],
   "source": [
    "#сохраним все ключевые значения для расчетов в отдельных переменных: \n",
    "EXPENSES = 10**7 #бюджет на разработку скважин в регионе (тыс. руб.)\n",
    "INCOME_UNIT = 450 #доход с каждой единицы продукта(тыс.руб.)\n",
    "CRITICAL_LOSS_PROBABILITY = 0.025 #критичная вероятность убытков -  2,5 % (в долях)\n",
    "NUMBER_EXPLORATION = 500 #количество скважин для исследования\n",
    "NUMBER_DEVELOPED = 200 #количество скважин для разработки"
   ]
  },
  {
   "cell_type": "code",
   "execution_count": 25,
   "metadata": {},
   "outputs": [
    {
     "data": {
      "text/plain": [
       "'Достаточный объём сырья для безубыточной разработки новой скважины (точка безубыточности)='"
      ]
     },
     "metadata": {},
     "output_type": "display_data"
    },
    {
     "data": {
      "text/plain": [
       "111.11111111111111"
      ]
     },
     "metadata": {},
     "output_type": "display_data"
    }
   ],
   "source": [
    "#рассчитаем достаточный объём сырья для безубыточной разработки новой скважины:\n",
    "break_even = EXPENSES / (INCOME_UNIT * NUMBER_DEVELOPED)\n",
    "display(\"Достаточный объём сырья для безубыточной разработки новой скважины (точка безубыточности)=\", break_even)"
   ]
  },
  {
   "cell_type": "markdown",
   "metadata": {},
   "source": [
    "**Вывод**\n",
    "\n",
    "Мы подготовили данные для расчета прибыли и рассчитали точку безубыточности для разработки новой скважины. \n",
    "Чтобы покрыть затраты на разработку одной скважины, необходимо, чтобы объем запасов в скважине был не менее = 111.11 тыс. баррелей нефти.  Этот показатель выше средних значений предсказанного сырья по всем 3 регионам. \n",
    "\n",
    "Уже на этом этапе мы можем предположить, что регион №2 не выйдет в лидеры, посколько среднее значение гораздо ниже 111 (почти в 2 раза). Для того чтобы сделать обоснованные выводы, произведем расчет прибыли и рисков с использованием техники bootstrap."
   ]
  },
  {
   "cell_type": "markdown",
   "metadata": {},
   "source": [
    "## Расчёт прибыли и рисков "
   ]
  },
  {
   "cell_type": "markdown",
   "metadata": {},
   "source": [
    "Посчитаем прибыль и риски для каждого региона с использованием техники bootstrap.\n",
    "\n",
    "Чтобы не повторять код многократно, запишем функцию, которая на вход принимает предсказания модели, значения целевого признака, а на выходе даст значения средней прибыли, 95% доверительного интервала и риска убытков. "
   ]
  },
  {
   "cell_type": "code",
   "execution_count": 39,
   "metadata": {},
   "outputs": [],
   "source": [
    "def function (target, predict):\n",
    "    state = np.random.RandomState(1000000)\n",
    "    revenue = []\n",
    "    for i in range(1000):\n",
    "        target_subsample = pd.Series(target).reset_index(drop=True).sample(n=NUMBER_EXPLORATION, replace=True, random_state=state)\n",
    "        predict_subsample = pd.Series(predict)[target_subsample.index]\n",
    "        predict_sorted = predict_subsample.sort_values(ascending=False)\n",
    "        selected_target = target_subsample[predict_sorted.index][:NUMBER_DEVELOPED]\n",
    "        profit = ((INCOME_UNIT * selected_target.sum()) - EXPENSES) / 1000\n",
    "        revenue.append(profit)\n",
    "    revenue = pd.Series(revenue)\n",
    "    mean = revenue.mean()#средняя прибыль\n",
    "    lower_quantile = revenue.quantile(0.025)#0.025 квантиль\n",
    "    upper_quantile = revenue.quantile(0.975)#0.975 квантиль\n",
    "    loss_probability = len(revenue[revenue<0]) / len(revenue)\n",
    "    return display('Средняя прибыль =', mean, '2.5% квантиль =', lower_quantile, '97.5% квантиль =', upper_quantile, 'вероятность убытков =', loss_probability)"
   ]
  },
  {
   "cell_type": "markdown",
   "metadata": {},
   "source": [
    "С помощью функции выведем на экран значения средней прибыли, 95% доверительного интервала и риска убытков для каждого региона."
   ]
  },
  {
   "cell_type": "code",
   "execution_count": 40,
   "metadata": {},
   "outputs": [
    {
     "data": {
      "text/plain": [
       "'Регион 1:'"
      ]
     },
     "metadata": {},
     "output_type": "display_data"
    },
    {
     "data": {
      "text/plain": [
       "'Средняя прибыль ='"
      ]
     },
     "metadata": {},
     "output_type": "display_data"
    },
    {
     "data": {
      "text/plain": [
       "409.1481639971147"
      ]
     },
     "metadata": {},
     "output_type": "display_data"
    },
    {
     "data": {
      "text/plain": [
       "'2.5% квантиль ='"
      ]
     },
     "metadata": {},
     "output_type": "display_data"
    },
    {
     "data": {
      "text/plain": [
       "-113.58844677278488"
      ]
     },
     "metadata": {},
     "output_type": "display_data"
    },
    {
     "data": {
      "text/plain": [
       "'97.5% квантиль ='"
      ]
     },
     "metadata": {},
     "output_type": "display_data"
    },
    {
     "data": {
      "text/plain": [
       "934.0609652365779"
      ]
     },
     "metadata": {},
     "output_type": "display_data"
    },
    {
     "data": {
      "text/plain": [
       "'вероятность убытков ='"
      ]
     },
     "metadata": {},
     "output_type": "display_data"
    },
    {
     "data": {
      "text/plain": [
       "0.066"
      ]
     },
     "metadata": {},
     "output_type": "display_data"
    },
    {
     "data": {
      "text/plain": [
       "'Регион 2:'"
      ]
     },
     "metadata": {},
     "output_type": "display_data"
    },
    {
     "data": {
      "text/plain": [
       "'Средняя прибыль ='"
      ]
     },
     "metadata": {},
     "output_type": "display_data"
    },
    {
     "data": {
      "text/plain": [
       "487.88756396965556"
      ]
     },
     "metadata": {},
     "output_type": "display_data"
    },
    {
     "data": {
      "text/plain": [
       "'2.5% квантиль ='"
      ]
     },
     "metadata": {},
     "output_type": "display_data"
    },
    {
     "data": {
      "text/plain": [
       "18.16481139520514"
      ]
     },
     "metadata": {},
     "output_type": "display_data"
    },
    {
     "data": {
      "text/plain": [
       "'97.5% квантиль ='"
      ]
     },
     "metadata": {},
     "output_type": "display_data"
    },
    {
     "data": {
      "text/plain": [
       "930.1356550445518"
      ]
     },
     "metadata": {},
     "output_type": "display_data"
    },
    {
     "data": {
      "text/plain": [
       "'вероятность убытков ='"
      ]
     },
     "metadata": {},
     "output_type": "display_data"
    },
    {
     "data": {
      "text/plain": [
       "0.021"
      ]
     },
     "metadata": {},
     "output_type": "display_data"
    },
    {
     "data": {
      "text/plain": [
       "'Регион 3:'"
      ]
     },
     "metadata": {},
     "output_type": "display_data"
    },
    {
     "data": {
      "text/plain": [
       "'Средняя прибыль ='"
      ]
     },
     "metadata": {},
     "output_type": "display_data"
    },
    {
     "data": {
      "text/plain": [
       "429.4359808354764"
      ]
     },
     "metadata": {},
     "output_type": "display_data"
    },
    {
     "data": {
      "text/plain": [
       "'2.5% квантиль ='"
      ]
     },
     "metadata": {},
     "output_type": "display_data"
    },
    {
     "data": {
      "text/plain": [
       "-69.50290035301158"
      ]
     },
     "metadata": {},
     "output_type": "display_data"
    },
    {
     "data": {
      "text/plain": [
       "'97.5% квантиль ='"
      ]
     },
     "metadata": {},
     "output_type": "display_data"
    },
    {
     "data": {
      "text/plain": [
       "981.5270708742662"
      ]
     },
     "metadata": {},
     "output_type": "display_data"
    },
    {
     "data": {
      "text/plain": [
       "'вероятность убытков ='"
      ]
     },
     "metadata": {},
     "output_type": "display_data"
    },
    {
     "data": {
      "text/plain": [
       "0.057"
      ]
     },
     "metadata": {},
     "output_type": "display_data"
    }
   ],
   "source": [
    "#выведем на экран значения средней прибыли, 95% доверительного интервала и риска убытков для каждого региона:\n",
    "display('Регион 1:')\n",
    "function (target_valid_1, predict_valid_1)\n",
    "display('Регион 2:')\n",
    "function (target_valid_2, predict_valid_2)\n",
    "display('Регион 3:')\n",
    "function (target_valid_3, predict_valid_3)"
   ]
  },
  {
   "cell_type": "markdown",
   "metadata": {},
   "source": [
    " **Вывод**\n",
    " \n",
    "После оценки рисков мы можем оставить лишь те регионы, в которых вероятность убытков меньше 2.5%. А это только один регион - регион 2. Хотелось бы отметить, что средняя прибыль по этому региону получилась выше, чем в остальных - 488 млн. руб. против 409 в первом и 429 млн. в третьем регионе. \n",
    "\n",
    "Таким образом, регион, который принесет наибольшую прибыль с минимальными рисками - это регион номер 2. Наша модель справилась с задачей, и мы можем дать рекомендации заказчику по бурению новых скважин в регионе 2. \n",
    "\n"
   ]
  }
 ],
 "metadata": {
  "ExecuteTimeLog": [
   {
    "duration": 1031,
    "start_time": "2022-02-26T15:08:25.276Z"
   },
   {
    "duration": 476,
    "start_time": "2022-02-26T15:12:15.288Z"
   },
   {
    "duration": 336,
    "start_time": "2022-02-26T15:13:06.343Z"
   },
   {
    "duration": 338,
    "start_time": "2022-02-26T15:13:14.364Z"
   },
   {
    "duration": 27,
    "start_time": "2022-02-26T15:18:43.865Z"
   },
   {
    "duration": 29,
    "start_time": "2022-02-26T15:19:35.813Z"
   },
   {
    "duration": 31,
    "start_time": "2022-02-26T15:24:24.678Z"
   },
   {
    "duration": 3,
    "start_time": "2022-02-26T15:34:13.133Z"
   },
   {
    "duration": 41,
    "start_time": "2022-02-26T16:19:54.432Z"
   },
   {
    "duration": 86,
    "start_time": "2022-02-26T16:27:02.193Z"
   },
   {
    "duration": 350,
    "start_time": "2022-02-26T16:36:21.200Z"
   },
   {
    "duration": 3,
    "start_time": "2022-02-26T16:36:28.708Z"
   },
   {
    "duration": 747,
    "start_time": "2022-02-26T16:36:33.236Z"
   },
   {
    "duration": 2,
    "start_time": "2022-02-26T16:36:47.061Z"
   },
   {
    "duration": 3,
    "start_time": "2022-02-26T16:36:49.490Z"
   },
   {
    "duration": 25,
    "start_time": "2022-02-26T16:36:51.285Z"
   },
   {
    "duration": 3,
    "start_time": "2022-02-26T16:47:05.661Z"
   },
   {
    "duration": 13,
    "start_time": "2022-02-26T16:49:31.358Z"
   },
   {
    "duration": 2,
    "start_time": "2022-02-26T17:07:53.067Z"
   },
   {
    "duration": 4,
    "start_time": "2022-02-26T17:08:00.896Z"
   },
   {
    "duration": 3,
    "start_time": "2022-02-26T17:15:14.976Z"
   },
   {
    "duration": 2,
    "start_time": "2022-02-26T17:19:37.309Z"
   },
   {
    "duration": 4,
    "start_time": "2022-02-26T17:20:32.126Z"
   },
   {
    "duration": 517,
    "start_time": "2022-02-26T20:14:51.451Z"
   },
   {
    "duration": 3,
    "start_time": "2022-02-26T20:14:57.129Z"
   },
   {
    "duration": 4,
    "start_time": "2022-02-26T20:14:59.054Z"
   },
   {
    "duration": 3,
    "start_time": "2022-02-26T21:06:12.487Z"
   },
   {
    "duration": 3,
    "start_time": "2022-02-26T21:33:43.571Z"
   },
   {
    "duration": 87,
    "start_time": "2022-02-26T21:39:43.571Z"
   },
   {
    "duration": 4,
    "start_time": "2022-02-26T21:39:55.024Z"
   },
   {
    "duration": 5,
    "start_time": "2022-02-26T21:46:21.620Z"
   },
   {
    "duration": 514,
    "start_time": "2022-02-26T21:46:25.186Z"
   },
   {
    "duration": 5,
    "start_time": "2022-02-26T21:47:12.487Z"
   },
   {
    "duration": 605,
    "start_time": "2022-02-26T21:47:16.114Z"
   },
   {
    "duration": 5,
    "start_time": "2022-02-26T21:51:12.694Z"
   },
   {
    "duration": 501,
    "start_time": "2022-02-26T21:51:17.570Z"
   },
   {
    "duration": 7,
    "start_time": "2022-02-26T21:54:05.050Z"
   },
   {
    "duration": 3512,
    "start_time": "2022-02-26T21:54:09.102Z"
   },
   {
    "duration": 5,
    "start_time": "2022-02-26T21:57:02.577Z"
   },
   {
    "duration": 9883,
    "start_time": "2022-02-26T21:57:05.268Z"
   },
   {
    "duration": 78,
    "start_time": "2022-02-26T21:58:38.774Z"
   },
   {
    "duration": 4,
    "start_time": "2022-02-26T21:58:54.697Z"
   },
   {
    "duration": 9737,
    "start_time": "2022-02-26T21:58:57.468Z"
   },
   {
    "duration": 5,
    "start_time": "2022-02-26T22:06:55.326Z"
   },
   {
    "duration": 483,
    "start_time": "2022-02-26T22:07:00.399Z"
   },
   {
    "duration": 4,
    "start_time": "2022-02-26T22:07:34.790Z"
   },
   {
    "duration": 783,
    "start_time": "2022-02-26T22:07:36.908Z"
   },
   {
    "duration": 5,
    "start_time": "2022-02-26T22:10:34.704Z"
   },
   {
    "duration": 8831,
    "start_time": "2022-02-26T22:10:36.654Z"
   },
   {
    "duration": 4,
    "start_time": "2022-02-26T22:11:42.242Z"
   },
   {
    "duration": 9718,
    "start_time": "2022-02-26T22:11:44.102Z"
   },
   {
    "duration": 9943,
    "start_time": "2022-02-26T22:27:39.468Z"
   },
   {
    "duration": 2,
    "start_time": "2022-02-26T22:27:54.956Z"
   },
   {
    "duration": 332,
    "start_time": "2022-02-26T22:27:54.960Z"
   },
   {
    "duration": 29,
    "start_time": "2022-02-26T22:27:55.294Z"
   },
   {
    "duration": 2,
    "start_time": "2022-02-26T22:27:55.325Z"
   },
   {
    "duration": 32,
    "start_time": "2022-02-26T22:27:55.329Z"
   },
   {
    "duration": 2,
    "start_time": "2022-02-26T22:27:55.362Z"
   },
   {
    "duration": 137,
    "start_time": "2022-02-26T22:27:55.366Z"
   },
   {
    "duration": 4,
    "start_time": "2022-02-26T22:27:55.506Z"
   },
   {
    "duration": 197,
    "start_time": "2022-02-26T22:27:55.511Z"
   },
   {
    "duration": 3,
    "start_time": "2022-02-26T22:27:55.709Z"
   },
   {
    "duration": 6,
    "start_time": "2022-02-26T22:27:55.714Z"
   },
   {
    "duration": 5,
    "start_time": "2022-02-26T22:27:55.721Z"
   },
   {
    "duration": 8924,
    "start_time": "2022-02-26T22:27:55.728Z"
   },
   {
    "duration": 1288,
    "start_time": "2022-02-26T22:53:46.099Z"
   },
   {
    "duration": 508,
    "start_time": "2022-02-26T22:53:47.390Z"
   },
   {
    "duration": 83,
    "start_time": "2022-02-26T22:53:47.901Z"
   },
   {
    "duration": 5,
    "start_time": "2022-02-26T22:53:47.987Z"
   },
   {
    "duration": 86,
    "start_time": "2022-02-26T22:53:47.994Z"
   },
   {
    "duration": 4,
    "start_time": "2022-02-26T22:53:48.082Z"
   },
   {
    "duration": 287,
    "start_time": "2022-02-26T22:53:48.088Z"
   },
   {
    "duration": 95,
    "start_time": "2022-02-26T22:53:48.380Z"
   },
   {
    "duration": 103,
    "start_time": "2022-02-26T22:53:48.478Z"
   },
   {
    "duration": 4,
    "start_time": "2022-02-26T22:53:48.583Z"
   },
   {
    "duration": 7,
    "start_time": "2022-02-26T22:53:49.597Z"
   },
   {
    "duration": 8,
    "start_time": "2022-02-26T22:53:55.910Z"
   },
   {
    "duration": 6,
    "start_time": "2022-02-26T22:53:59.607Z"
   },
   {
    "duration": 8,
    "start_time": "2022-02-26T22:54:15.612Z"
   },
   {
    "duration": 8,
    "start_time": "2022-02-26T22:54:19.197Z"
   },
   {
    "duration": -95,
    "start_time": "2022-02-27T13:06:41.657Z"
   },
   {
    "duration": -106,
    "start_time": "2022-02-27T13:06:41.669Z"
   },
   {
    "duration": -117,
    "start_time": "2022-02-27T13:06:41.682Z"
   },
   {
    "duration": -124,
    "start_time": "2022-02-27T13:06:41.690Z"
   },
   {
    "duration": -132,
    "start_time": "2022-02-27T13:06:41.699Z"
   },
   {
    "duration": 1866,
    "start_time": "2022-02-27T13:06:53.919Z"
   },
   {
    "duration": 460,
    "start_time": "2022-02-27T13:06:56.792Z"
   },
   {
    "duration": 42,
    "start_time": "2022-02-27T13:07:05.681Z"
   },
   {
    "duration": 12493,
    "start_time": "2022-02-27T13:07:10.770Z"
   },
   {
    "duration": 235,
    "start_time": "2022-02-27T13:07:23.266Z"
   },
   {
    "duration": 1160,
    "start_time": "2022-02-27T13:08:14.594Z"
   },
   {
    "duration": 4962,
    "start_time": "2022-02-27T13:08:21.559Z"
   },
   {
    "duration": 4,
    "start_time": "2022-02-27T13:13:16.051Z"
   },
   {
    "duration": 84,
    "start_time": "2022-02-27T13:15:22.683Z"
   },
   {
    "duration": 4,
    "start_time": "2022-02-27T13:16:19.800Z"
   },
   {
    "duration": 489,
    "start_time": "2022-02-27T13:16:19.807Z"
   },
   {
    "duration": 41,
    "start_time": "2022-02-27T13:16:20.299Z"
   },
   {
    "duration": 12341,
    "start_time": "2022-02-27T13:16:20.343Z"
   },
   {
    "duration": 4624,
    "start_time": "2022-02-27T13:16:32.687Z"
   },
   {
    "duration": 5,
    "start_time": "2022-02-27T13:16:37.313Z"
   },
   {
    "duration": 77,
    "start_time": "2022-02-27T13:16:37.322Z"
   },
   {
    "duration": 4,
    "start_time": "2022-02-27T13:16:37.401Z"
   },
   {
    "duration": 376,
    "start_time": "2022-02-27T13:16:37.408Z"
   },
   {
    "duration": 94,
    "start_time": "2022-02-27T13:16:37.789Z"
   },
   {
    "duration": 22,
    "start_time": "2022-02-27T13:16:37.887Z"
   },
   {
    "duration": 4,
    "start_time": "2022-02-27T13:16:37.911Z"
   },
   {
    "duration": 10,
    "start_time": "2022-02-27T13:16:37.917Z"
   },
   {
    "duration": 54,
    "start_time": "2022-02-27T13:16:37.929Z"
   },
   {
    "duration": 381,
    "start_time": "2022-02-27T13:16:37.985Z"
   },
   {
    "duration": 8,
    "start_time": "2022-02-27T13:18:52.818Z"
   },
   {
    "duration": 7,
    "start_time": "2022-02-27T13:19:39.820Z"
   },
   {
    "duration": 13870,
    "start_time": "2022-02-27T13:19:43.426Z"
   },
   {
    "duration": 8,
    "start_time": "2022-02-27T13:20:55.736Z"
   },
   {
    "duration": 495,
    "start_time": "2022-02-27T13:21:02.427Z"
   },
   {
    "duration": 9,
    "start_time": "2022-02-27T13:22:00.371Z"
   },
   {
    "duration": 14650,
    "start_time": "2022-02-27T13:22:03.280Z"
   },
   {
    "duration": 8,
    "start_time": "2022-02-27T13:24:32.643Z"
   },
   {
    "duration": 438,
    "start_time": "2022-02-27T13:24:35.590Z"
   },
   {
    "duration": 8,
    "start_time": "2022-02-27T13:25:05.171Z"
   },
   {
    "duration": 16109,
    "start_time": "2022-02-27T13:25:36.785Z"
   },
   {
    "duration": 8,
    "start_time": "2022-02-27T13:26:49.258Z"
   },
   {
    "duration": 16249,
    "start_time": "2022-02-27T13:26:53.392Z"
   },
   {
    "duration": 7,
    "start_time": "2022-02-27T13:30:21.815Z"
   },
   {
    "duration": 240,
    "start_time": "2022-02-27T13:30:33.365Z"
   },
   {
    "duration": 5,
    "start_time": "2022-02-27T13:30:50.871Z"
   },
   {
    "duration": 8,
    "start_time": "2022-02-27T13:31:10.547Z"
   },
   {
    "duration": 8,
    "start_time": "2022-02-27T13:31:21.132Z"
   },
   {
    "duration": 7,
    "start_time": "2022-02-27T13:31:47.614Z"
   },
   {
    "duration": 227,
    "start_time": "2022-02-27T13:32:07.775Z"
   },
   {
    "duration": 8,
    "start_time": "2022-02-27T13:32:15.651Z"
   }
  ],
  "kernelspec": {
   "display_name": "Python 3",
   "language": "python",
   "name": "python3"
  },
  "language_info": {
   "codemirror_mode": {
    "name": "ipython",
    "version": 3
   },
   "file_extension": ".py",
   "mimetype": "text/x-python",
   "name": "python",
   "nbconvert_exporter": "python",
   "pygments_lexer": "ipython3",
   "version": "3.8.8"
  },
  "toc": {
   "base_numbering": 1,
   "nav_menu": {},
   "number_sections": true,
   "sideBar": true,
   "skip_h1_title": true,
   "title_cell": "Содержание",
   "title_sidebar": "Contents",
   "toc_cell": true,
   "toc_position": {},
   "toc_section_display": true,
   "toc_window_display": true
  }
 },
 "nbformat": 4,
 "nbformat_minor": 2
}
