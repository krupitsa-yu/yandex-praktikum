{
 "cells": [
  {
   "cell_type": "markdown",
   "metadata": {
    "toc": true
   },
   "source": [
    "<h1>Содержание<span class=\"tocSkip\"></span></h1>\n",
    "<div class=\"toc\"><ul class=\"toc-item\"><li><ul class=\"toc-item\"><li><span><a href=\"#Подготовка-данных\" data-toc-modified-id=\"Подготовка-данных-1\"><span class=\"toc-item-num\">1&nbsp;&nbsp;</span>Подготовка данных</a></span><ul class=\"toc-item\"><li><span><a href=\"#Знакомство-с-данными,-предобработка\" data-toc-modified-id=\"Знакомство-с-данными,-предобработка-1.1\"><span class=\"toc-item-num\">1.1&nbsp;&nbsp;</span>Знакомство с данными, предобработка</a></span></li><li><span><a href=\"#Проверка-расчета-эфективности-обогащения\" data-toc-modified-id=\"Проверка-расчета-эфективности-обогащения-1.2\"><span class=\"toc-item-num\">1.2&nbsp;&nbsp;</span>Проверка расчета эфективности обогащения</a></span></li></ul></li><li><span><a href=\"#Анализ-данных\" data-toc-modified-id=\"Анализ-данных-2\"><span class=\"toc-item-num\">2&nbsp;&nbsp;</span>Анализ данных</a></span><ul class=\"toc-item\"><li><span><a href=\"#Концентрация-металлов-(Au,-Ag,-Pb)-на-различных-этапах-очистки\" data-toc-modified-id=\"Концентрация-металлов-(Au,-Ag,-Pb)-на-различных-этапах-очистки-2.1\"><span class=\"toc-item-num\">2.1&nbsp;&nbsp;</span>Концентрация металлов (Au, Ag, Pb) на различных этапах очистки</a></span></li><li><span><a href=\"#Распределения-размеров-гранул-сырья-на-обучающей-и-тестовой-выборках\" data-toc-modified-id=\"Распределения-размеров-гранул-сырья-на-обучающей-и-тестовой-выборках-2.2\"><span class=\"toc-item-num\">2.2&nbsp;&nbsp;</span>Распределения размеров гранул сырья на обучающей и тестовой выборках</a></span></li><li><span><a href=\"#Суммарная-концентрацию-всех-веществ-на-разных-стадиях\" data-toc-modified-id=\"Суммарная-концентрацию-всех-веществ-на-разных-стадиях-2.3\"><span class=\"toc-item-num\">2.3&nbsp;&nbsp;</span>Суммарная концентрацию всех веществ на разных стадиях</a></span></li></ul></li><li><span><a href=\"#Модель\" data-toc-modified-id=\"Модель-3\"><span class=\"toc-item-num\">3&nbsp;&nbsp;</span>Модель</a></span><ul class=\"toc-item\"><li><span><a href=\"#Подготовка-обучающей-и-тестовой-выборки\" data-toc-modified-id=\"Подготовка-обучающей-и-тестовой-выборки-3.1\"><span class=\"toc-item-num\">3.1&nbsp;&nbsp;</span>Подготовка обучающей и тестовой выборки</a></span></li><li><span><a href=\"#Функция-для-вычисления-итоговой-sMAPE\" data-toc-modified-id=\"Функция-для-вычисления-итоговой-sMAPE-3.2\"><span class=\"toc-item-num\">3.2&nbsp;&nbsp;</span>Функция для вычисления итоговой sMAPE</a></span></li><li><span><a href=\"#Обучение-моделей\" data-toc-modified-id=\"Обучение-моделей-3.3\"><span class=\"toc-item-num\">3.3&nbsp;&nbsp;</span>Обучение моделей</a></span></li><li><span><a href=\"#Проверка-на-тестовой-выборке\" data-toc-modified-id=\"Проверка-на-тестовой-выборке-3.4\"><span class=\"toc-item-num\">3.4&nbsp;&nbsp;</span>Проверка на тестовой выборке</a></span></li></ul></li></ul></div>"
   ]
  },
  {
   "cell_type": "markdown",
   "metadata": {},
   "source": [
    "# Проект \"Восстановление золота из руды\""
   ]
  },
  {
   "cell_type": "markdown",
   "metadata": {},
   "source": [
    "**Задача проекта**\n",
    "\n",
    "Подготовьте прототип модели машинного обучения для «Цифры». Компания разрабатывает решения для эффективной работы промышленных предприятий.\n",
    "\n",
    "Модель должна предсказать коэффициент восстановления золота из золотосодержащей руды. Используйте данные с параметрами добычи и очистки. \n",
    "\n",
    "Модель поможет оптимизировать производство, чтобы не запускать предприятие с убыточными характеристиками.\n",
    "\n",
    "Вам нужно:\n",
    "\n",
    "1. Подготовить данные;\n",
    "2. Провести исследовательский анализ данных;\n",
    "3. Построить и обучить модель.\n",
    "\n",
    "Чтобы выполнить проект, обращайтесь к библиотекам *pandas*, *matplotlib* и *sklearn.* Вам поможет их документация."
   ]
  },
  {
   "cell_type": "markdown",
   "metadata": {},
   "source": [
    "## Подготовка данных"
   ]
  },
  {
   "cell_type": "markdown",
   "metadata": {},
   "source": [
    "### Знакомство с данными, предобработка"
   ]
  },
  {
   "cell_type": "markdown",
   "metadata": {},
   "source": [
    "Для начала импортируем необходимые библиотеки и алгоритмы."
   ]
  },
  {
   "cell_type": "code",
   "execution_count": 48,
   "metadata": {},
   "outputs": [],
   "source": [
    "import pandas as pd\n",
    "import numpy as np\n",
    "import matplotlib.pyplot as plt\n",
    "from sklearn.metrics import mean_absolute_error\n",
    "from sklearn.metrics import make_scorer\n",
    "from sklearn.preprocessing import StandardScaler\n",
    "from sklearn.ensemble import RandomForestRegressor\n",
    "from sklearn.model_selection import cross_val_score\n",
    "from sklearn.model_selection import GridSearchCV\n",
    "from sklearn.linear_model import LinearRegression\n",
    "from sklearn.tree import DecisionTreeRegressor"
   ]
  },
  {
   "cell_type": "code",
   "execution_count": 49,
   "metadata": {},
   "outputs": [
    {
     "data": {
      "text/plain": [
       "'train:'"
      ]
     },
     "metadata": {},
     "output_type": "display_data"
    },
    {
     "data": {
      "text/html": [
       "<div>\n",
       "<style scoped>\n",
       "    .dataframe tbody tr th:only-of-type {\n",
       "        vertical-align: middle;\n",
       "    }\n",
       "\n",
       "    .dataframe tbody tr th {\n",
       "        vertical-align: top;\n",
       "    }\n",
       "\n",
       "    .dataframe thead th {\n",
       "        text-align: right;\n",
       "    }\n",
       "</style>\n",
       "<table border=\"1\" class=\"dataframe\">\n",
       "  <thead>\n",
       "    <tr style=\"text-align: right;\">\n",
       "      <th></th>\n",
       "      <th>date</th>\n",
       "      <th>final.output.concentrate_ag</th>\n",
       "      <th>final.output.concentrate_pb</th>\n",
       "      <th>final.output.concentrate_sol</th>\n",
       "      <th>final.output.concentrate_au</th>\n",
       "      <th>final.output.recovery</th>\n",
       "      <th>final.output.tail_ag</th>\n",
       "      <th>final.output.tail_pb</th>\n",
       "      <th>final.output.tail_sol</th>\n",
       "      <th>final.output.tail_au</th>\n",
       "      <th>primary_cleaner.input.sulfate</th>\n",
       "      <th>primary_cleaner.input.depressant</th>\n",
       "      <th>primary_cleaner.input.feed_size</th>\n",
       "      <th>primary_cleaner.input.xanthate</th>\n",
       "      <th>primary_cleaner.output.concentrate_ag</th>\n",
       "      <th>primary_cleaner.output.concentrate_pb</th>\n",
       "      <th>primary_cleaner.output.concentrate_sol</th>\n",
       "      <th>primary_cleaner.output.concentrate_au</th>\n",
       "      <th>primary_cleaner.output.tail_ag</th>\n",
       "      <th>primary_cleaner.output.tail_pb</th>\n",
       "      <th>primary_cleaner.output.tail_sol</th>\n",
       "      <th>primary_cleaner.output.tail_au</th>\n",
       "      <th>primary_cleaner.state.floatbank8_a_air</th>\n",
       "      <th>primary_cleaner.state.floatbank8_a_level</th>\n",
       "      <th>primary_cleaner.state.floatbank8_b_air</th>\n",
       "      <th>primary_cleaner.state.floatbank8_b_level</th>\n",
       "      <th>primary_cleaner.state.floatbank8_c_air</th>\n",
       "      <th>primary_cleaner.state.floatbank8_c_level</th>\n",
       "      <th>primary_cleaner.state.floatbank8_d_air</th>\n",
       "      <th>primary_cleaner.state.floatbank8_d_level</th>\n",
       "      <th>rougher.calculation.sulfate_to_au_concentrate</th>\n",
       "      <th>rougher.calculation.floatbank10_sulfate_to_au_feed</th>\n",
       "      <th>rougher.calculation.floatbank11_sulfate_to_au_feed</th>\n",
       "      <th>rougher.calculation.au_pb_ratio</th>\n",
       "      <th>rougher.input.feed_ag</th>\n",
       "      <th>rougher.input.feed_pb</th>\n",
       "      <th>rougher.input.feed_rate</th>\n",
       "      <th>rougher.input.feed_size</th>\n",
       "      <th>rougher.input.feed_sol</th>\n",
       "      <th>rougher.input.feed_au</th>\n",
       "      <th>rougher.input.floatbank10_sulfate</th>\n",
       "      <th>rougher.input.floatbank10_xanthate</th>\n",
       "      <th>rougher.input.floatbank11_sulfate</th>\n",
       "      <th>rougher.input.floatbank11_xanthate</th>\n",
       "      <th>rougher.output.concentrate_ag</th>\n",
       "      <th>rougher.output.concentrate_pb</th>\n",
       "      <th>rougher.output.concentrate_sol</th>\n",
       "      <th>rougher.output.concentrate_au</th>\n",
       "      <th>rougher.output.recovery</th>\n",
       "      <th>rougher.output.tail_ag</th>\n",
       "      <th>rougher.output.tail_pb</th>\n",
       "      <th>rougher.output.tail_sol</th>\n",
       "      <th>rougher.output.tail_au</th>\n",
       "      <th>rougher.state.floatbank10_a_air</th>\n",
       "      <th>rougher.state.floatbank10_a_level</th>\n",
       "      <th>rougher.state.floatbank10_b_air</th>\n",
       "      <th>rougher.state.floatbank10_b_level</th>\n",
       "      <th>rougher.state.floatbank10_c_air</th>\n",
       "      <th>rougher.state.floatbank10_c_level</th>\n",
       "      <th>rougher.state.floatbank10_d_air</th>\n",
       "      <th>rougher.state.floatbank10_d_level</th>\n",
       "      <th>rougher.state.floatbank10_e_air</th>\n",
       "      <th>rougher.state.floatbank10_e_level</th>\n",
       "      <th>rougher.state.floatbank10_f_air</th>\n",
       "      <th>rougher.state.floatbank10_f_level</th>\n",
       "      <th>secondary_cleaner.output.tail_ag</th>\n",
       "      <th>secondary_cleaner.output.tail_pb</th>\n",
       "      <th>secondary_cleaner.output.tail_sol</th>\n",
       "      <th>secondary_cleaner.output.tail_au</th>\n",
       "      <th>secondary_cleaner.state.floatbank2_a_air</th>\n",
       "      <th>secondary_cleaner.state.floatbank2_a_level</th>\n",
       "      <th>secondary_cleaner.state.floatbank2_b_air</th>\n",
       "      <th>secondary_cleaner.state.floatbank2_b_level</th>\n",
       "      <th>secondary_cleaner.state.floatbank3_a_air</th>\n",
       "      <th>secondary_cleaner.state.floatbank3_a_level</th>\n",
       "      <th>secondary_cleaner.state.floatbank3_b_air</th>\n",
       "      <th>secondary_cleaner.state.floatbank3_b_level</th>\n",
       "      <th>secondary_cleaner.state.floatbank4_a_air</th>\n",
       "      <th>secondary_cleaner.state.floatbank4_a_level</th>\n",
       "      <th>secondary_cleaner.state.floatbank4_b_air</th>\n",
       "      <th>secondary_cleaner.state.floatbank4_b_level</th>\n",
       "      <th>secondary_cleaner.state.floatbank5_a_air</th>\n",
       "      <th>secondary_cleaner.state.floatbank5_a_level</th>\n",
       "      <th>secondary_cleaner.state.floatbank5_b_air</th>\n",
       "      <th>secondary_cleaner.state.floatbank5_b_level</th>\n",
       "      <th>secondary_cleaner.state.floatbank6_a_air</th>\n",
       "      <th>secondary_cleaner.state.floatbank6_a_level</th>\n",
       "    </tr>\n",
       "  </thead>\n",
       "  <tbody>\n",
       "    <tr>\n",
       "      <td>0</td>\n",
       "      <td>2016-01-15 00:00:00</td>\n",
       "      <td>6.055403</td>\n",
       "      <td>9.889648</td>\n",
       "      <td>5.507324</td>\n",
       "      <td>42.192020</td>\n",
       "      <td>70.541216</td>\n",
       "      <td>10.411962</td>\n",
       "      <td>0.895447</td>\n",
       "      <td>16.904297</td>\n",
       "      <td>2.143149</td>\n",
       "      <td>127.092003</td>\n",
       "      <td>10.128295</td>\n",
       "      <td>7.25</td>\n",
       "      <td>0.988759</td>\n",
       "      <td>8.547551</td>\n",
       "      <td>10.389648</td>\n",
       "      <td>19.529297</td>\n",
       "      <td>34.174427</td>\n",
       "      <td>14.936526</td>\n",
       "      <td>2.534912</td>\n",
       "      <td>7.476074</td>\n",
       "      <td>2.106679</td>\n",
       "      <td>1549.775757</td>\n",
       "      <td>-498.912140</td>\n",
       "      <td>1551.434204</td>\n",
       "      <td>-516.403442</td>\n",
       "      <td>1549.873901</td>\n",
       "      <td>-498.666595</td>\n",
       "      <td>1554.367432</td>\n",
       "      <td>-493.428131</td>\n",
       "      <td>41885.707031</td>\n",
       "      <td>3481.779053</td>\n",
       "      <td>3520.337158</td>\n",
       "      <td>2.838687</td>\n",
       "      <td>6.100378</td>\n",
       "      <td>2.284912</td>\n",
       "      <td>523.546326</td>\n",
       "      <td>55.486599</td>\n",
       "      <td>36.808594</td>\n",
       "      <td>6.486150</td>\n",
       "      <td>11.986616</td>\n",
       "      <td>6.007990</td>\n",
       "      <td>11.836743</td>\n",
       "      <td>6.005818</td>\n",
       "      <td>11.500771</td>\n",
       "      <td>7.101074</td>\n",
       "      <td>28.029297</td>\n",
       "      <td>19.793808</td>\n",
       "      <td>87.107763</td>\n",
       "      <td>5.008018</td>\n",
       "      <td>0.508728</td>\n",
       "      <td>19.154297</td>\n",
       "      <td>1.170244</td>\n",
       "      <td>999.706909</td>\n",
       "      <td>-404.066986</td>\n",
       "      <td>1603.011353</td>\n",
       "      <td>-434.715027</td>\n",
       "      <td>1602.375000</td>\n",
       "      <td>-442.204468</td>\n",
       "      <td>1598.937256</td>\n",
       "      <td>-451.294128</td>\n",
       "      <td>1404.472046</td>\n",
       "      <td>-455.462982</td>\n",
       "      <td>1416.354980</td>\n",
       "      <td>-451.939636</td>\n",
       "      <td>14.500184</td>\n",
       "      <td>4.694824</td>\n",
       "      <td>8.764648</td>\n",
       "      <td>2.606185</td>\n",
       "      <td>25.853109</td>\n",
       "      <td>-498.526489</td>\n",
       "      <td>23.893660</td>\n",
       "      <td>-501.406281</td>\n",
       "      <td>23.961798</td>\n",
       "      <td>-495.262817</td>\n",
       "      <td>21.940409</td>\n",
       "      <td>-499.340973</td>\n",
       "      <td>14.016835</td>\n",
       "      <td>-502.488007</td>\n",
       "      <td>12.099931</td>\n",
       "      <td>-504.715942</td>\n",
       "      <td>9.925633</td>\n",
       "      <td>-498.310211</td>\n",
       "      <td>8.079666</td>\n",
       "      <td>-500.470978</td>\n",
       "      <td>14.151341</td>\n",
       "      <td>-605.841980</td>\n",
       "    </tr>\n",
       "    <tr>\n",
       "      <td>1</td>\n",
       "      <td>2016-01-15 01:00:00</td>\n",
       "      <td>6.029369</td>\n",
       "      <td>9.968944</td>\n",
       "      <td>5.257781</td>\n",
       "      <td>42.701629</td>\n",
       "      <td>69.266198</td>\n",
       "      <td>10.462676</td>\n",
       "      <td>0.927452</td>\n",
       "      <td>16.634514</td>\n",
       "      <td>2.224930</td>\n",
       "      <td>125.629232</td>\n",
       "      <td>10.296251</td>\n",
       "      <td>7.25</td>\n",
       "      <td>1.002663</td>\n",
       "      <td>8.558743</td>\n",
       "      <td>10.497069</td>\n",
       "      <td>19.369147</td>\n",
       "      <td>34.118526</td>\n",
       "      <td>16.250511</td>\n",
       "      <td>3.049646</td>\n",
       "      <td>6.733907</td>\n",
       "      <td>2.353017</td>\n",
       "      <td>1576.166671</td>\n",
       "      <td>-500.904965</td>\n",
       "      <td>1575.950626</td>\n",
       "      <td>-499.865889</td>\n",
       "      <td>1575.994189</td>\n",
       "      <td>-499.315107</td>\n",
       "      <td>1574.479259</td>\n",
       "      <td>-498.931665</td>\n",
       "      <td>42050.861809</td>\n",
       "      <td>3498.370979</td>\n",
       "      <td>3489.981857</td>\n",
       "      <td>2.858998</td>\n",
       "      <td>6.161113</td>\n",
       "      <td>2.266033</td>\n",
       "      <td>525.290581</td>\n",
       "      <td>57.278666</td>\n",
       "      <td>35.753385</td>\n",
       "      <td>6.478583</td>\n",
       "      <td>11.971193</td>\n",
       "      <td>6.005766</td>\n",
       "      <td>11.996163</td>\n",
       "      <td>6.012594</td>\n",
       "      <td>11.615865</td>\n",
       "      <td>7.278807</td>\n",
       "      <td>28.067063</td>\n",
       "      <td>20.050975</td>\n",
       "      <td>86.843261</td>\n",
       "      <td>4.955378</td>\n",
       "      <td>0.536689</td>\n",
       "      <td>18.965234</td>\n",
       "      <td>1.184827</td>\n",
       "      <td>1000.286398</td>\n",
       "      <td>-400.065196</td>\n",
       "      <td>1600.754587</td>\n",
       "      <td>-449.953435</td>\n",
       "      <td>1600.479580</td>\n",
       "      <td>-449.830646</td>\n",
       "      <td>1600.527589</td>\n",
       "      <td>-449.953649</td>\n",
       "      <td>1399.227084</td>\n",
       "      <td>-450.869848</td>\n",
       "      <td>1399.719514</td>\n",
       "      <td>-450.119001</td>\n",
       "      <td>14.265474</td>\n",
       "      <td>4.592547</td>\n",
       "      <td>9.001494</td>\n",
       "      <td>2.488248</td>\n",
       "      <td>25.880539</td>\n",
       "      <td>-499.989656</td>\n",
       "      <td>23.889530</td>\n",
       "      <td>-500.372428</td>\n",
       "      <td>23.970550</td>\n",
       "      <td>-500.085473</td>\n",
       "      <td>22.085714</td>\n",
       "      <td>-499.446897</td>\n",
       "      <td>13.992281</td>\n",
       "      <td>-505.503262</td>\n",
       "      <td>11.950531</td>\n",
       "      <td>-501.331529</td>\n",
       "      <td>10.039245</td>\n",
       "      <td>-500.169983</td>\n",
       "      <td>7.984757</td>\n",
       "      <td>-500.582168</td>\n",
       "      <td>13.998353</td>\n",
       "      <td>-599.787184</td>\n",
       "    </tr>\n",
       "    <tr>\n",
       "      <td>2</td>\n",
       "      <td>2016-01-15 02:00:00</td>\n",
       "      <td>6.055926</td>\n",
       "      <td>10.213995</td>\n",
       "      <td>5.383759</td>\n",
       "      <td>42.657501</td>\n",
       "      <td>68.116445</td>\n",
       "      <td>10.507046</td>\n",
       "      <td>0.953716</td>\n",
       "      <td>16.208849</td>\n",
       "      <td>2.257889</td>\n",
       "      <td>123.819808</td>\n",
       "      <td>11.316280</td>\n",
       "      <td>7.25</td>\n",
       "      <td>0.991265</td>\n",
       "      <td>8.603505</td>\n",
       "      <td>10.354494</td>\n",
       "      <td>19.167579</td>\n",
       "      <td>33.969464</td>\n",
       "      <td>16.491823</td>\n",
       "      <td>3.124664</td>\n",
       "      <td>6.471768</td>\n",
       "      <td>2.416800</td>\n",
       "      <td>1601.556163</td>\n",
       "      <td>-499.997791</td>\n",
       "      <td>1600.386685</td>\n",
       "      <td>-500.607762</td>\n",
       "      <td>1602.003542</td>\n",
       "      <td>-500.870069</td>\n",
       "      <td>1599.541515</td>\n",
       "      <td>-499.827444</td>\n",
       "      <td>42018.101184</td>\n",
       "      <td>3495.348910</td>\n",
       "      <td>3502.359819</td>\n",
       "      <td>2.945989</td>\n",
       "      <td>6.116455</td>\n",
       "      <td>2.159622</td>\n",
       "      <td>530.026610</td>\n",
       "      <td>57.510649</td>\n",
       "      <td>35.971630</td>\n",
       "      <td>6.362222</td>\n",
       "      <td>11.920603</td>\n",
       "      <td>6.197377</td>\n",
       "      <td>11.920305</td>\n",
       "      <td>6.204633</td>\n",
       "      <td>11.695753</td>\n",
       "      <td>7.216833</td>\n",
       "      <td>27.454037</td>\n",
       "      <td>19.737170</td>\n",
       "      <td>86.842308</td>\n",
       "      <td>4.843460</td>\n",
       "      <td>0.546416</td>\n",
       "      <td>18.808533</td>\n",
       "      <td>1.162562</td>\n",
       "      <td>999.719565</td>\n",
       "      <td>-400.074028</td>\n",
       "      <td>1599.337330</td>\n",
       "      <td>-450.008530</td>\n",
       "      <td>1599.672797</td>\n",
       "      <td>-449.954491</td>\n",
       "      <td>1599.849325</td>\n",
       "      <td>-449.954185</td>\n",
       "      <td>1399.180945</td>\n",
       "      <td>-449.937588</td>\n",
       "      <td>1400.316682</td>\n",
       "      <td>-450.527147</td>\n",
       "      <td>14.115662</td>\n",
       "      <td>4.624775</td>\n",
       "      <td>8.842896</td>\n",
       "      <td>2.458187</td>\n",
       "      <td>26.005245</td>\n",
       "      <td>-499.929616</td>\n",
       "      <td>23.886657</td>\n",
       "      <td>-499.951928</td>\n",
       "      <td>23.913535</td>\n",
       "      <td>-499.442343</td>\n",
       "      <td>23.957717</td>\n",
       "      <td>-499.901982</td>\n",
       "      <td>14.015015</td>\n",
       "      <td>-502.520901</td>\n",
       "      <td>11.912783</td>\n",
       "      <td>-501.133383</td>\n",
       "      <td>10.070913</td>\n",
       "      <td>-500.129135</td>\n",
       "      <td>8.013877</td>\n",
       "      <td>-500.517572</td>\n",
       "      <td>14.028663</td>\n",
       "      <td>-601.427363</td>\n",
       "    </tr>\n",
       "    <tr>\n",
       "      <td>3</td>\n",
       "      <td>2016-01-15 03:00:00</td>\n",
       "      <td>6.047977</td>\n",
       "      <td>9.977019</td>\n",
       "      <td>4.858634</td>\n",
       "      <td>42.689819</td>\n",
       "      <td>68.347543</td>\n",
       "      <td>10.422762</td>\n",
       "      <td>0.883763</td>\n",
       "      <td>16.532835</td>\n",
       "      <td>2.146849</td>\n",
       "      <td>122.270188</td>\n",
       "      <td>11.322140</td>\n",
       "      <td>7.25</td>\n",
       "      <td>0.996739</td>\n",
       "      <td>7.221879</td>\n",
       "      <td>8.496563</td>\n",
       "      <td>15.978538</td>\n",
       "      <td>28.260743</td>\n",
       "      <td>16.024359</td>\n",
       "      <td>2.960362</td>\n",
       "      <td>6.843791</td>\n",
       "      <td>2.262051</td>\n",
       "      <td>1599.968720</td>\n",
       "      <td>-500.951778</td>\n",
       "      <td>1600.659236</td>\n",
       "      <td>-499.677094</td>\n",
       "      <td>1600.304144</td>\n",
       "      <td>-500.727997</td>\n",
       "      <td>1600.449520</td>\n",
       "      <td>-500.052575</td>\n",
       "      <td>42029.447991</td>\n",
       "      <td>3498.578313</td>\n",
       "      <td>3499.162912</td>\n",
       "      <td>3.002340</td>\n",
       "      <td>6.043309</td>\n",
       "      <td>2.037807</td>\n",
       "      <td>542.590390</td>\n",
       "      <td>57.792734</td>\n",
       "      <td>36.862241</td>\n",
       "      <td>6.118189</td>\n",
       "      <td>11.630094</td>\n",
       "      <td>6.203177</td>\n",
       "      <td>11.692450</td>\n",
       "      <td>6.196578</td>\n",
       "      <td>11.915047</td>\n",
       "      <td>7.175616</td>\n",
       "      <td>27.341277</td>\n",
       "      <td>19.320810</td>\n",
       "      <td>87.226430</td>\n",
       "      <td>4.655288</td>\n",
       "      <td>0.542525</td>\n",
       "      <td>19.330200</td>\n",
       "      <td>1.079755</td>\n",
       "      <td>999.814770</td>\n",
       "      <td>-400.200179</td>\n",
       "      <td>1600.059442</td>\n",
       "      <td>-450.619948</td>\n",
       "      <td>1600.012842</td>\n",
       "      <td>-449.910497</td>\n",
       "      <td>1597.725177</td>\n",
       "      <td>-450.130127</td>\n",
       "      <td>1400.943157</td>\n",
       "      <td>-450.030142</td>\n",
       "      <td>1400.234743</td>\n",
       "      <td>-449.790835</td>\n",
       "      <td>13.732071</td>\n",
       "      <td>4.482453</td>\n",
       "      <td>9.122857</td>\n",
       "      <td>2.322062</td>\n",
       "      <td>25.942508</td>\n",
       "      <td>-499.176749</td>\n",
       "      <td>23.955516</td>\n",
       "      <td>-499.848796</td>\n",
       "      <td>23.966838</td>\n",
       "      <td>-500.008812</td>\n",
       "      <td>23.954443</td>\n",
       "      <td>-499.944710</td>\n",
       "      <td>14.036510</td>\n",
       "      <td>-500.857308</td>\n",
       "      <td>11.999550</td>\n",
       "      <td>-501.193686</td>\n",
       "      <td>9.970366</td>\n",
       "      <td>-499.201640</td>\n",
       "      <td>7.977324</td>\n",
       "      <td>-500.255908</td>\n",
       "      <td>14.005551</td>\n",
       "      <td>-599.996129</td>\n",
       "    </tr>\n",
       "    <tr>\n",
       "      <td>4</td>\n",
       "      <td>2016-01-15 04:00:00</td>\n",
       "      <td>6.148599</td>\n",
       "      <td>10.142511</td>\n",
       "      <td>4.939416</td>\n",
       "      <td>42.774141</td>\n",
       "      <td>66.927016</td>\n",
       "      <td>10.360302</td>\n",
       "      <td>0.792826</td>\n",
       "      <td>16.525686</td>\n",
       "      <td>2.055292</td>\n",
       "      <td>117.988169</td>\n",
       "      <td>11.913613</td>\n",
       "      <td>7.25</td>\n",
       "      <td>1.009869</td>\n",
       "      <td>9.089428</td>\n",
       "      <td>9.986786</td>\n",
       "      <td>19.199864</td>\n",
       "      <td>33.044932</td>\n",
       "      <td>16.480185</td>\n",
       "      <td>3.112100</td>\n",
       "      <td>6.550154</td>\n",
       "      <td>2.277073</td>\n",
       "      <td>1601.339707</td>\n",
       "      <td>-498.975456</td>\n",
       "      <td>1601.437854</td>\n",
       "      <td>-500.323246</td>\n",
       "      <td>1599.581894</td>\n",
       "      <td>-500.888152</td>\n",
       "      <td>1602.649541</td>\n",
       "      <td>-500.593010</td>\n",
       "      <td>42125.354245</td>\n",
       "      <td>3494.800771</td>\n",
       "      <td>3506.679315</td>\n",
       "      <td>3.169615</td>\n",
       "      <td>6.060915</td>\n",
       "      <td>1.786875</td>\n",
       "      <td>540.531893</td>\n",
       "      <td>56.047189</td>\n",
       "      <td>34.347666</td>\n",
       "      <td>5.663707</td>\n",
       "      <td>10.957755</td>\n",
       "      <td>6.198826</td>\n",
       "      <td>10.960521</td>\n",
       "      <td>6.194897</td>\n",
       "      <td>12.411054</td>\n",
       "      <td>7.240205</td>\n",
       "      <td>27.041023</td>\n",
       "      <td>19.216101</td>\n",
       "      <td>86.688794</td>\n",
       "      <td>4.552800</td>\n",
       "      <td>0.515438</td>\n",
       "      <td>19.267422</td>\n",
       "      <td>1.012642</td>\n",
       "      <td>999.678690</td>\n",
       "      <td>-399.752729</td>\n",
       "      <td>1600.208824</td>\n",
       "      <td>-449.599614</td>\n",
       "      <td>1600.357732</td>\n",
       "      <td>-450.034364</td>\n",
       "      <td>1599.759049</td>\n",
       "      <td>-449.909799</td>\n",
       "      <td>1401.560902</td>\n",
       "      <td>-448.877187</td>\n",
       "      <td>1401.160227</td>\n",
       "      <td>-450.407128</td>\n",
       "      <td>14.079996</td>\n",
       "      <td>4.470737</td>\n",
       "      <td>8.871028</td>\n",
       "      <td>2.330448</td>\n",
       "      <td>26.024787</td>\n",
       "      <td>-500.279091</td>\n",
       "      <td>23.955345</td>\n",
       "      <td>-500.593614</td>\n",
       "      <td>23.985703</td>\n",
       "      <td>-500.083811</td>\n",
       "      <td>23.958945</td>\n",
       "      <td>-499.990309</td>\n",
       "      <td>14.027298</td>\n",
       "      <td>-499.838632</td>\n",
       "      <td>11.953070</td>\n",
       "      <td>-501.053894</td>\n",
       "      <td>9.925709</td>\n",
       "      <td>-501.686727</td>\n",
       "      <td>7.894242</td>\n",
       "      <td>-500.356035</td>\n",
       "      <td>13.996647</td>\n",
       "      <td>-601.496691</td>\n",
       "    </tr>\n",
       "  </tbody>\n",
       "</table>\n",
       "</div>"
      ],
      "text/plain": [
       "                  date  final.output.concentrate_ag  \\\n",
       "0  2016-01-15 00:00:00                     6.055403   \n",
       "1  2016-01-15 01:00:00                     6.029369   \n",
       "2  2016-01-15 02:00:00                     6.055926   \n",
       "3  2016-01-15 03:00:00                     6.047977   \n",
       "4  2016-01-15 04:00:00                     6.148599   \n",
       "\n",
       "   final.output.concentrate_pb  final.output.concentrate_sol  \\\n",
       "0                     9.889648                      5.507324   \n",
       "1                     9.968944                      5.257781   \n",
       "2                    10.213995                      5.383759   \n",
       "3                     9.977019                      4.858634   \n",
       "4                    10.142511                      4.939416   \n",
       "\n",
       "   final.output.concentrate_au  final.output.recovery  final.output.tail_ag  \\\n",
       "0                    42.192020              70.541216             10.411962   \n",
       "1                    42.701629              69.266198             10.462676   \n",
       "2                    42.657501              68.116445             10.507046   \n",
       "3                    42.689819              68.347543             10.422762   \n",
       "4                    42.774141              66.927016             10.360302   \n",
       "\n",
       "   final.output.tail_pb  final.output.tail_sol  final.output.tail_au  \\\n",
       "0              0.895447              16.904297              2.143149   \n",
       "1              0.927452              16.634514              2.224930   \n",
       "2              0.953716              16.208849              2.257889   \n",
       "3              0.883763              16.532835              2.146849   \n",
       "4              0.792826              16.525686              2.055292   \n",
       "\n",
       "   primary_cleaner.input.sulfate  primary_cleaner.input.depressant  \\\n",
       "0                     127.092003                         10.128295   \n",
       "1                     125.629232                         10.296251   \n",
       "2                     123.819808                         11.316280   \n",
       "3                     122.270188                         11.322140   \n",
       "4                     117.988169                         11.913613   \n",
       "\n",
       "   primary_cleaner.input.feed_size  primary_cleaner.input.xanthate  \\\n",
       "0                             7.25                        0.988759   \n",
       "1                             7.25                        1.002663   \n",
       "2                             7.25                        0.991265   \n",
       "3                             7.25                        0.996739   \n",
       "4                             7.25                        1.009869   \n",
       "\n",
       "   primary_cleaner.output.concentrate_ag  \\\n",
       "0                               8.547551   \n",
       "1                               8.558743   \n",
       "2                               8.603505   \n",
       "3                               7.221879   \n",
       "4                               9.089428   \n",
       "\n",
       "   primary_cleaner.output.concentrate_pb  \\\n",
       "0                              10.389648   \n",
       "1                              10.497069   \n",
       "2                              10.354494   \n",
       "3                               8.496563   \n",
       "4                               9.986786   \n",
       "\n",
       "   primary_cleaner.output.concentrate_sol  \\\n",
       "0                               19.529297   \n",
       "1                               19.369147   \n",
       "2                               19.167579   \n",
       "3                               15.978538   \n",
       "4                               19.199864   \n",
       "\n",
       "   primary_cleaner.output.concentrate_au  primary_cleaner.output.tail_ag  \\\n",
       "0                              34.174427                       14.936526   \n",
       "1                              34.118526                       16.250511   \n",
       "2                              33.969464                       16.491823   \n",
       "3                              28.260743                       16.024359   \n",
       "4                              33.044932                       16.480185   \n",
       "\n",
       "   primary_cleaner.output.tail_pb  primary_cleaner.output.tail_sol  \\\n",
       "0                        2.534912                         7.476074   \n",
       "1                        3.049646                         6.733907   \n",
       "2                        3.124664                         6.471768   \n",
       "3                        2.960362                         6.843791   \n",
       "4                        3.112100                         6.550154   \n",
       "\n",
       "   primary_cleaner.output.tail_au  primary_cleaner.state.floatbank8_a_air  \\\n",
       "0                        2.106679                             1549.775757   \n",
       "1                        2.353017                             1576.166671   \n",
       "2                        2.416800                             1601.556163   \n",
       "3                        2.262051                             1599.968720   \n",
       "4                        2.277073                             1601.339707   \n",
       "\n",
       "   primary_cleaner.state.floatbank8_a_level  \\\n",
       "0                               -498.912140   \n",
       "1                               -500.904965   \n",
       "2                               -499.997791   \n",
       "3                               -500.951778   \n",
       "4                               -498.975456   \n",
       "\n",
       "   primary_cleaner.state.floatbank8_b_air  \\\n",
       "0                             1551.434204   \n",
       "1                             1575.950626   \n",
       "2                             1600.386685   \n",
       "3                             1600.659236   \n",
       "4                             1601.437854   \n",
       "\n",
       "   primary_cleaner.state.floatbank8_b_level  \\\n",
       "0                               -516.403442   \n",
       "1                               -499.865889   \n",
       "2                               -500.607762   \n",
       "3                               -499.677094   \n",
       "4                               -500.323246   \n",
       "\n",
       "   primary_cleaner.state.floatbank8_c_air  \\\n",
       "0                             1549.873901   \n",
       "1                             1575.994189   \n",
       "2                             1602.003542   \n",
       "3                             1600.304144   \n",
       "4                             1599.581894   \n",
       "\n",
       "   primary_cleaner.state.floatbank8_c_level  \\\n",
       "0                               -498.666595   \n",
       "1                               -499.315107   \n",
       "2                               -500.870069   \n",
       "3                               -500.727997   \n",
       "4                               -500.888152   \n",
       "\n",
       "   primary_cleaner.state.floatbank8_d_air  \\\n",
       "0                             1554.367432   \n",
       "1                             1574.479259   \n",
       "2                             1599.541515   \n",
       "3                             1600.449520   \n",
       "4                             1602.649541   \n",
       "\n",
       "   primary_cleaner.state.floatbank8_d_level  \\\n",
       "0                               -493.428131   \n",
       "1                               -498.931665   \n",
       "2                               -499.827444   \n",
       "3                               -500.052575   \n",
       "4                               -500.593010   \n",
       "\n",
       "   rougher.calculation.sulfate_to_au_concentrate  \\\n",
       "0                                   41885.707031   \n",
       "1                                   42050.861809   \n",
       "2                                   42018.101184   \n",
       "3                                   42029.447991   \n",
       "4                                   42125.354245   \n",
       "\n",
       "   rougher.calculation.floatbank10_sulfate_to_au_feed  \\\n",
       "0                                        3481.779053    \n",
       "1                                        3498.370979    \n",
       "2                                        3495.348910    \n",
       "3                                        3498.578313    \n",
       "4                                        3494.800771    \n",
       "\n",
       "   rougher.calculation.floatbank11_sulfate_to_au_feed  \\\n",
       "0                                        3520.337158    \n",
       "1                                        3489.981857    \n",
       "2                                        3502.359819    \n",
       "3                                        3499.162912    \n",
       "4                                        3506.679315    \n",
       "\n",
       "   rougher.calculation.au_pb_ratio  rougher.input.feed_ag  \\\n",
       "0                         2.838687               6.100378   \n",
       "1                         2.858998               6.161113   \n",
       "2                         2.945989               6.116455   \n",
       "3                         3.002340               6.043309   \n",
       "4                         3.169615               6.060915   \n",
       "\n",
       "   rougher.input.feed_pb  rougher.input.feed_rate  rougher.input.feed_size  \\\n",
       "0               2.284912               523.546326                55.486599   \n",
       "1               2.266033               525.290581                57.278666   \n",
       "2               2.159622               530.026610                57.510649   \n",
       "3               2.037807               542.590390                57.792734   \n",
       "4               1.786875               540.531893                56.047189   \n",
       "\n",
       "   rougher.input.feed_sol  rougher.input.feed_au  \\\n",
       "0               36.808594               6.486150   \n",
       "1               35.753385               6.478583   \n",
       "2               35.971630               6.362222   \n",
       "3               36.862241               6.118189   \n",
       "4               34.347666               5.663707   \n",
       "\n",
       "   rougher.input.floatbank10_sulfate  rougher.input.floatbank10_xanthate  \\\n",
       "0                          11.986616                            6.007990   \n",
       "1                          11.971193                            6.005766   \n",
       "2                          11.920603                            6.197377   \n",
       "3                          11.630094                            6.203177   \n",
       "4                          10.957755                            6.198826   \n",
       "\n",
       "   rougher.input.floatbank11_sulfate  rougher.input.floatbank11_xanthate  \\\n",
       "0                          11.836743                            6.005818   \n",
       "1                          11.996163                            6.012594   \n",
       "2                          11.920305                            6.204633   \n",
       "3                          11.692450                            6.196578   \n",
       "4                          10.960521                            6.194897   \n",
       "\n",
       "   rougher.output.concentrate_ag  rougher.output.concentrate_pb  \\\n",
       "0                      11.500771                       7.101074   \n",
       "1                      11.615865                       7.278807   \n",
       "2                      11.695753                       7.216833   \n",
       "3                      11.915047                       7.175616   \n",
       "4                      12.411054                       7.240205   \n",
       "\n",
       "   rougher.output.concentrate_sol  rougher.output.concentrate_au  \\\n",
       "0                       28.029297                      19.793808   \n",
       "1                       28.067063                      20.050975   \n",
       "2                       27.454037                      19.737170   \n",
       "3                       27.341277                      19.320810   \n",
       "4                       27.041023                      19.216101   \n",
       "\n",
       "   rougher.output.recovery  rougher.output.tail_ag  rougher.output.tail_pb  \\\n",
       "0                87.107763                5.008018                0.508728   \n",
       "1                86.843261                4.955378                0.536689   \n",
       "2                86.842308                4.843460                0.546416   \n",
       "3                87.226430                4.655288                0.542525   \n",
       "4                86.688794                4.552800                0.515438   \n",
       "\n",
       "   rougher.output.tail_sol  rougher.output.tail_au  \\\n",
       "0                19.154297                1.170244   \n",
       "1                18.965234                1.184827   \n",
       "2                18.808533                1.162562   \n",
       "3                19.330200                1.079755   \n",
       "4                19.267422                1.012642   \n",
       "\n",
       "   rougher.state.floatbank10_a_air  rougher.state.floatbank10_a_level  \\\n",
       "0                       999.706909                        -404.066986   \n",
       "1                      1000.286398                        -400.065196   \n",
       "2                       999.719565                        -400.074028   \n",
       "3                       999.814770                        -400.200179   \n",
       "4                       999.678690                        -399.752729   \n",
       "\n",
       "   rougher.state.floatbank10_b_air  rougher.state.floatbank10_b_level  \\\n",
       "0                      1603.011353                        -434.715027   \n",
       "1                      1600.754587                        -449.953435   \n",
       "2                      1599.337330                        -450.008530   \n",
       "3                      1600.059442                        -450.619948   \n",
       "4                      1600.208824                        -449.599614   \n",
       "\n",
       "   rougher.state.floatbank10_c_air  rougher.state.floatbank10_c_level  \\\n",
       "0                      1602.375000                        -442.204468   \n",
       "1                      1600.479580                        -449.830646   \n",
       "2                      1599.672797                        -449.954491   \n",
       "3                      1600.012842                        -449.910497   \n",
       "4                      1600.357732                        -450.034364   \n",
       "\n",
       "   rougher.state.floatbank10_d_air  rougher.state.floatbank10_d_level  \\\n",
       "0                      1598.937256                        -451.294128   \n",
       "1                      1600.527589                        -449.953649   \n",
       "2                      1599.849325                        -449.954185   \n",
       "3                      1597.725177                        -450.130127   \n",
       "4                      1599.759049                        -449.909799   \n",
       "\n",
       "   rougher.state.floatbank10_e_air  rougher.state.floatbank10_e_level  \\\n",
       "0                      1404.472046                        -455.462982   \n",
       "1                      1399.227084                        -450.869848   \n",
       "2                      1399.180945                        -449.937588   \n",
       "3                      1400.943157                        -450.030142   \n",
       "4                      1401.560902                        -448.877187   \n",
       "\n",
       "   rougher.state.floatbank10_f_air  rougher.state.floatbank10_f_level  \\\n",
       "0                      1416.354980                        -451.939636   \n",
       "1                      1399.719514                        -450.119001   \n",
       "2                      1400.316682                        -450.527147   \n",
       "3                      1400.234743                        -449.790835   \n",
       "4                      1401.160227                        -450.407128   \n",
       "\n",
       "   secondary_cleaner.output.tail_ag  secondary_cleaner.output.tail_pb  \\\n",
       "0                         14.500184                          4.694824   \n",
       "1                         14.265474                          4.592547   \n",
       "2                         14.115662                          4.624775   \n",
       "3                         13.732071                          4.482453   \n",
       "4                         14.079996                          4.470737   \n",
       "\n",
       "   secondary_cleaner.output.tail_sol  secondary_cleaner.output.tail_au  \\\n",
       "0                           8.764648                          2.606185   \n",
       "1                           9.001494                          2.488248   \n",
       "2                           8.842896                          2.458187   \n",
       "3                           9.122857                          2.322062   \n",
       "4                           8.871028                          2.330448   \n",
       "\n",
       "   secondary_cleaner.state.floatbank2_a_air  \\\n",
       "0                                 25.853109   \n",
       "1                                 25.880539   \n",
       "2                                 26.005245   \n",
       "3                                 25.942508   \n",
       "4                                 26.024787   \n",
       "\n",
       "   secondary_cleaner.state.floatbank2_a_level  \\\n",
       "0                                 -498.526489   \n",
       "1                                 -499.989656   \n",
       "2                                 -499.929616   \n",
       "3                                 -499.176749   \n",
       "4                                 -500.279091   \n",
       "\n",
       "   secondary_cleaner.state.floatbank2_b_air  \\\n",
       "0                                 23.893660   \n",
       "1                                 23.889530   \n",
       "2                                 23.886657   \n",
       "3                                 23.955516   \n",
       "4                                 23.955345   \n",
       "\n",
       "   secondary_cleaner.state.floatbank2_b_level  \\\n",
       "0                                 -501.406281   \n",
       "1                                 -500.372428   \n",
       "2                                 -499.951928   \n",
       "3                                 -499.848796   \n",
       "4                                 -500.593614   \n",
       "\n",
       "   secondary_cleaner.state.floatbank3_a_air  \\\n",
       "0                                 23.961798   \n",
       "1                                 23.970550   \n",
       "2                                 23.913535   \n",
       "3                                 23.966838   \n",
       "4                                 23.985703   \n",
       "\n",
       "   secondary_cleaner.state.floatbank3_a_level  \\\n",
       "0                                 -495.262817   \n",
       "1                                 -500.085473   \n",
       "2                                 -499.442343   \n",
       "3                                 -500.008812   \n",
       "4                                 -500.083811   \n",
       "\n",
       "   secondary_cleaner.state.floatbank3_b_air  \\\n",
       "0                                 21.940409   \n",
       "1                                 22.085714   \n",
       "2                                 23.957717   \n",
       "3                                 23.954443   \n",
       "4                                 23.958945   \n",
       "\n",
       "   secondary_cleaner.state.floatbank3_b_level  \\\n",
       "0                                 -499.340973   \n",
       "1                                 -499.446897   \n",
       "2                                 -499.901982   \n",
       "3                                 -499.944710   \n",
       "4                                 -499.990309   \n",
       "\n",
       "   secondary_cleaner.state.floatbank4_a_air  \\\n",
       "0                                 14.016835   \n",
       "1                                 13.992281   \n",
       "2                                 14.015015   \n",
       "3                                 14.036510   \n",
       "4                                 14.027298   \n",
       "\n",
       "   secondary_cleaner.state.floatbank4_a_level  \\\n",
       "0                                 -502.488007   \n",
       "1                                 -505.503262   \n",
       "2                                 -502.520901   \n",
       "3                                 -500.857308   \n",
       "4                                 -499.838632   \n",
       "\n",
       "   secondary_cleaner.state.floatbank4_b_air  \\\n",
       "0                                 12.099931   \n",
       "1                                 11.950531   \n",
       "2                                 11.912783   \n",
       "3                                 11.999550   \n",
       "4                                 11.953070   \n",
       "\n",
       "   secondary_cleaner.state.floatbank4_b_level  \\\n",
       "0                                 -504.715942   \n",
       "1                                 -501.331529   \n",
       "2                                 -501.133383   \n",
       "3                                 -501.193686   \n",
       "4                                 -501.053894   \n",
       "\n",
       "   secondary_cleaner.state.floatbank5_a_air  \\\n",
       "0                                  9.925633   \n",
       "1                                 10.039245   \n",
       "2                                 10.070913   \n",
       "3                                  9.970366   \n",
       "4                                  9.925709   \n",
       "\n",
       "   secondary_cleaner.state.floatbank5_a_level  \\\n",
       "0                                 -498.310211   \n",
       "1                                 -500.169983   \n",
       "2                                 -500.129135   \n",
       "3                                 -499.201640   \n",
       "4                                 -501.686727   \n",
       "\n",
       "   secondary_cleaner.state.floatbank5_b_air  \\\n",
       "0                                  8.079666   \n",
       "1                                  7.984757   \n",
       "2                                  8.013877   \n",
       "3                                  7.977324   \n",
       "4                                  7.894242   \n",
       "\n",
       "   secondary_cleaner.state.floatbank5_b_level  \\\n",
       "0                                 -500.470978   \n",
       "1                                 -500.582168   \n",
       "2                                 -500.517572   \n",
       "3                                 -500.255908   \n",
       "4                                 -500.356035   \n",
       "\n",
       "   secondary_cleaner.state.floatbank6_a_air  \\\n",
       "0                                 14.151341   \n",
       "1                                 13.998353   \n",
       "2                                 14.028663   \n",
       "3                                 14.005551   \n",
       "4                                 13.996647   \n",
       "\n",
       "   secondary_cleaner.state.floatbank6_a_level  \n",
       "0                                 -605.841980  \n",
       "1                                 -599.787184  \n",
       "2                                 -601.427363  \n",
       "3                                 -599.996129  \n",
       "4                                 -601.496691  "
      ]
     },
     "metadata": {},
     "output_type": "display_data"
    },
    {
     "data": {
      "text/plain": [
       "'test:'"
      ]
     },
     "metadata": {},
     "output_type": "display_data"
    },
    {
     "data": {
      "text/html": [
       "<div>\n",
       "<style scoped>\n",
       "    .dataframe tbody tr th:only-of-type {\n",
       "        vertical-align: middle;\n",
       "    }\n",
       "\n",
       "    .dataframe tbody tr th {\n",
       "        vertical-align: top;\n",
       "    }\n",
       "\n",
       "    .dataframe thead th {\n",
       "        text-align: right;\n",
       "    }\n",
       "</style>\n",
       "<table border=\"1\" class=\"dataframe\">\n",
       "  <thead>\n",
       "    <tr style=\"text-align: right;\">\n",
       "      <th></th>\n",
       "      <th>date</th>\n",
       "      <th>primary_cleaner.input.sulfate</th>\n",
       "      <th>primary_cleaner.input.depressant</th>\n",
       "      <th>primary_cleaner.input.feed_size</th>\n",
       "      <th>primary_cleaner.input.xanthate</th>\n",
       "      <th>primary_cleaner.state.floatbank8_a_air</th>\n",
       "      <th>primary_cleaner.state.floatbank8_a_level</th>\n",
       "      <th>primary_cleaner.state.floatbank8_b_air</th>\n",
       "      <th>primary_cleaner.state.floatbank8_b_level</th>\n",
       "      <th>primary_cleaner.state.floatbank8_c_air</th>\n",
       "      <th>primary_cleaner.state.floatbank8_c_level</th>\n",
       "      <th>primary_cleaner.state.floatbank8_d_air</th>\n",
       "      <th>primary_cleaner.state.floatbank8_d_level</th>\n",
       "      <th>rougher.input.feed_ag</th>\n",
       "      <th>rougher.input.feed_pb</th>\n",
       "      <th>rougher.input.feed_rate</th>\n",
       "      <th>rougher.input.feed_size</th>\n",
       "      <th>rougher.input.feed_sol</th>\n",
       "      <th>rougher.input.feed_au</th>\n",
       "      <th>rougher.input.floatbank10_sulfate</th>\n",
       "      <th>rougher.input.floatbank10_xanthate</th>\n",
       "      <th>rougher.input.floatbank11_sulfate</th>\n",
       "      <th>rougher.input.floatbank11_xanthate</th>\n",
       "      <th>rougher.state.floatbank10_a_air</th>\n",
       "      <th>rougher.state.floatbank10_a_level</th>\n",
       "      <th>rougher.state.floatbank10_b_air</th>\n",
       "      <th>rougher.state.floatbank10_b_level</th>\n",
       "      <th>rougher.state.floatbank10_c_air</th>\n",
       "      <th>rougher.state.floatbank10_c_level</th>\n",
       "      <th>rougher.state.floatbank10_d_air</th>\n",
       "      <th>rougher.state.floatbank10_d_level</th>\n",
       "      <th>rougher.state.floatbank10_e_air</th>\n",
       "      <th>rougher.state.floatbank10_e_level</th>\n",
       "      <th>rougher.state.floatbank10_f_air</th>\n",
       "      <th>rougher.state.floatbank10_f_level</th>\n",
       "      <th>secondary_cleaner.state.floatbank2_a_air</th>\n",
       "      <th>secondary_cleaner.state.floatbank2_a_level</th>\n",
       "      <th>secondary_cleaner.state.floatbank2_b_air</th>\n",
       "      <th>secondary_cleaner.state.floatbank2_b_level</th>\n",
       "      <th>secondary_cleaner.state.floatbank3_a_air</th>\n",
       "      <th>secondary_cleaner.state.floatbank3_a_level</th>\n",
       "      <th>secondary_cleaner.state.floatbank3_b_air</th>\n",
       "      <th>secondary_cleaner.state.floatbank3_b_level</th>\n",
       "      <th>secondary_cleaner.state.floatbank4_a_air</th>\n",
       "      <th>secondary_cleaner.state.floatbank4_a_level</th>\n",
       "      <th>secondary_cleaner.state.floatbank4_b_air</th>\n",
       "      <th>secondary_cleaner.state.floatbank4_b_level</th>\n",
       "      <th>secondary_cleaner.state.floatbank5_a_air</th>\n",
       "      <th>secondary_cleaner.state.floatbank5_a_level</th>\n",
       "      <th>secondary_cleaner.state.floatbank5_b_air</th>\n",
       "      <th>secondary_cleaner.state.floatbank5_b_level</th>\n",
       "      <th>secondary_cleaner.state.floatbank6_a_air</th>\n",
       "      <th>secondary_cleaner.state.floatbank6_a_level</th>\n",
       "    </tr>\n",
       "  </thead>\n",
       "  <tbody>\n",
       "    <tr>\n",
       "      <td>0</td>\n",
       "      <td>2016-09-01 00:59:59</td>\n",
       "      <td>210.800909</td>\n",
       "      <td>14.993118</td>\n",
       "      <td>8.080000</td>\n",
       "      <td>1.005021</td>\n",
       "      <td>1398.981301</td>\n",
       "      <td>-500.225577</td>\n",
       "      <td>1399.144926</td>\n",
       "      <td>-499.919735</td>\n",
       "      <td>1400.102998</td>\n",
       "      <td>-500.704369</td>\n",
       "      <td>1399.001695</td>\n",
       "      <td>-499.485144</td>\n",
       "      <td>13.128569</td>\n",
       "      <td>5.636710</td>\n",
       "      <td>489.793655</td>\n",
       "      <td>62.710452</td>\n",
       "      <td>42.022440</td>\n",
       "      <td>12.084103</td>\n",
       "      <td>16.922877</td>\n",
       "      <td>6.153479</td>\n",
       "      <td>16.867518</td>\n",
       "      <td>6.150709</td>\n",
       "      <td>1001.849317</td>\n",
       "      <td>-350.301265</td>\n",
       "      <td>1249.738612</td>\n",
       "      <td>-399.107531</td>\n",
       "      <td>1249.750520</td>\n",
       "      <td>-399.396730</td>\n",
       "      <td>1198.287855</td>\n",
       "      <td>-399.488594</td>\n",
       "      <td>999.472250</td>\n",
       "      <td>-399.530962</td>\n",
       "      <td>949.566189</td>\n",
       "      <td>-398.180807</td>\n",
       "      <td>24.938200</td>\n",
       "      <td>-500.490963</td>\n",
       "      <td>14.947607</td>\n",
       "      <td>-500.013837</td>\n",
       "      <td>20.018166</td>\n",
       "      <td>-450.395995</td>\n",
       "      <td>13.987058</td>\n",
       "      <td>-449.831513</td>\n",
       "      <td>12.023554</td>\n",
       "      <td>-497.795834</td>\n",
       "      <td>8.016656</td>\n",
       "      <td>-501.289139</td>\n",
       "      <td>7.946562</td>\n",
       "      <td>-432.317850</td>\n",
       "      <td>4.872511</td>\n",
       "      <td>-500.037437</td>\n",
       "      <td>26.705889</td>\n",
       "      <td>-499.709414</td>\n",
       "    </tr>\n",
       "    <tr>\n",
       "      <td>1</td>\n",
       "      <td>2016-09-01 01:59:59</td>\n",
       "      <td>215.392455</td>\n",
       "      <td>14.987471</td>\n",
       "      <td>8.080000</td>\n",
       "      <td>0.990469</td>\n",
       "      <td>1398.777912</td>\n",
       "      <td>-500.057435</td>\n",
       "      <td>1398.055362</td>\n",
       "      <td>-499.778182</td>\n",
       "      <td>1396.151033</td>\n",
       "      <td>-499.240168</td>\n",
       "      <td>1399.508091</td>\n",
       "      <td>-500.416324</td>\n",
       "      <td>13.036280</td>\n",
       "      <td>5.526065</td>\n",
       "      <td>490.104534</td>\n",
       "      <td>61.961163</td>\n",
       "      <td>41.187903</td>\n",
       "      <td>11.918977</td>\n",
       "      <td>17.002532</td>\n",
       "      <td>5.999043</td>\n",
       "      <td>16.996063</td>\n",
       "      <td>6.002315</td>\n",
       "      <td>998.690785</td>\n",
       "      <td>-350.425704</td>\n",
       "      <td>1248.395457</td>\n",
       "      <td>-399.946025</td>\n",
       "      <td>1249.514451</td>\n",
       "      <td>-399.630810</td>\n",
       "      <td>1200.506459</td>\n",
       "      <td>-399.942434</td>\n",
       "      <td>1000.002114</td>\n",
       "      <td>-399.491528</td>\n",
       "      <td>950.200009</td>\n",
       "      <td>-405.787514</td>\n",
       "      <td>24.923466</td>\n",
       "      <td>-499.813963</td>\n",
       "      <td>14.930873</td>\n",
       "      <td>-500.764452</td>\n",
       "      <td>19.988503</td>\n",
       "      <td>-450.114024</td>\n",
       "      <td>14.092981</td>\n",
       "      <td>-450.059163</td>\n",
       "      <td>12.058140</td>\n",
       "      <td>-498.695773</td>\n",
       "      <td>8.130979</td>\n",
       "      <td>-499.634209</td>\n",
       "      <td>7.958270</td>\n",
       "      <td>-525.839648</td>\n",
       "      <td>4.878850</td>\n",
       "      <td>-500.162375</td>\n",
       "      <td>25.019940</td>\n",
       "      <td>-499.819438</td>\n",
       "    </tr>\n",
       "    <tr>\n",
       "      <td>2</td>\n",
       "      <td>2016-09-01 02:59:59</td>\n",
       "      <td>215.259946</td>\n",
       "      <td>12.884934</td>\n",
       "      <td>7.786667</td>\n",
       "      <td>0.996043</td>\n",
       "      <td>1398.493666</td>\n",
       "      <td>-500.868360</td>\n",
       "      <td>1398.860436</td>\n",
       "      <td>-499.764529</td>\n",
       "      <td>1398.075709</td>\n",
       "      <td>-502.151509</td>\n",
       "      <td>1399.497088</td>\n",
       "      <td>-499.715479</td>\n",
       "      <td>13.138412</td>\n",
       "      <td>5.426561</td>\n",
       "      <td>489.617969</td>\n",
       "      <td>66.903807</td>\n",
       "      <td>42.546294</td>\n",
       "      <td>12.091332</td>\n",
       "      <td>16.992520</td>\n",
       "      <td>5.850632</td>\n",
       "      <td>16.982096</td>\n",
       "      <td>5.853594</td>\n",
       "      <td>998.516720</td>\n",
       "      <td>-349.783538</td>\n",
       "      <td>1247.440748</td>\n",
       "      <td>-400.264330</td>\n",
       "      <td>1248.207204</td>\n",
       "      <td>-401.074405</td>\n",
       "      <td>1199.770026</td>\n",
       "      <td>-400.790582</td>\n",
       "      <td>999.925519</td>\n",
       "      <td>-399.236999</td>\n",
       "      <td>950.320481</td>\n",
       "      <td>-400.864340</td>\n",
       "      <td>24.908732</td>\n",
       "      <td>-500.304035</td>\n",
       "      <td>14.996511</td>\n",
       "      <td>-500.993821</td>\n",
       "      <td>20.039689</td>\n",
       "      <td>-450.263164</td>\n",
       "      <td>14.077881</td>\n",
       "      <td>-449.660997</td>\n",
       "      <td>11.962366</td>\n",
       "      <td>-498.767484</td>\n",
       "      <td>8.096893</td>\n",
       "      <td>-500.827423</td>\n",
       "      <td>8.071056</td>\n",
       "      <td>-500.801673</td>\n",
       "      <td>4.905125</td>\n",
       "      <td>-499.828510</td>\n",
       "      <td>24.994862</td>\n",
       "      <td>-500.622559</td>\n",
       "    </tr>\n",
       "    <tr>\n",
       "      <td>3</td>\n",
       "      <td>2016-09-01 03:59:59</td>\n",
       "      <td>215.336236</td>\n",
       "      <td>12.006805</td>\n",
       "      <td>7.640000</td>\n",
       "      <td>0.863514</td>\n",
       "      <td>1399.618111</td>\n",
       "      <td>-498.863574</td>\n",
       "      <td>1397.440120</td>\n",
       "      <td>-499.211024</td>\n",
       "      <td>1400.129303</td>\n",
       "      <td>-498.355873</td>\n",
       "      <td>1401.065165</td>\n",
       "      <td>-501.038738</td>\n",
       "      <td>12.400507</td>\n",
       "      <td>5.114758</td>\n",
       "      <td>476.618130</td>\n",
       "      <td>59.865919</td>\n",
       "      <td>41.060195</td>\n",
       "      <td>12.181597</td>\n",
       "      <td>16.532144</td>\n",
       "      <td>5.801935</td>\n",
       "      <td>16.515277</td>\n",
       "      <td>5.803657</td>\n",
       "      <td>1000.276604</td>\n",
       "      <td>-350.172597</td>\n",
       "      <td>1251.322675</td>\n",
       "      <td>-398.655289</td>\n",
       "      <td>1250.493702</td>\n",
       "      <td>-399.746728</td>\n",
       "      <td>1199.398691</td>\n",
       "      <td>-397.503052</td>\n",
       "      <td>1001.930679</td>\n",
       "      <td>-400.437573</td>\n",
       "      <td>950.735324</td>\n",
       "      <td>-399.802986</td>\n",
       "      <td>24.893998</td>\n",
       "      <td>-499.382374</td>\n",
       "      <td>14.916674</td>\n",
       "      <td>-499.862299</td>\n",
       "      <td>20.031100</td>\n",
       "      <td>-449.372570</td>\n",
       "      <td>14.013968</td>\n",
       "      <td>-449.526900</td>\n",
       "      <td>12.033091</td>\n",
       "      <td>-498.350935</td>\n",
       "      <td>8.074946</td>\n",
       "      <td>-499.474407</td>\n",
       "      <td>7.897085</td>\n",
       "      <td>-500.868509</td>\n",
       "      <td>4.931400</td>\n",
       "      <td>-499.963623</td>\n",
       "      <td>24.948919</td>\n",
       "      <td>-498.709987</td>\n",
       "    </tr>\n",
       "    <tr>\n",
       "      <td>4</td>\n",
       "      <td>2016-09-01 04:59:59</td>\n",
       "      <td>199.099327</td>\n",
       "      <td>10.682530</td>\n",
       "      <td>7.530000</td>\n",
       "      <td>0.805575</td>\n",
       "      <td>1401.268123</td>\n",
       "      <td>-500.808305</td>\n",
       "      <td>1398.128818</td>\n",
       "      <td>-499.504543</td>\n",
       "      <td>1402.172226</td>\n",
       "      <td>-500.810606</td>\n",
       "      <td>1399.480508</td>\n",
       "      <td>-499.374053</td>\n",
       "      <td>11.327427</td>\n",
       "      <td>4.767383</td>\n",
       "      <td>488.248117</td>\n",
       "      <td>63.315324</td>\n",
       "      <td>41.269161</td>\n",
       "      <td>11.290425</td>\n",
       "      <td>13.607257</td>\n",
       "      <td>5.738081</td>\n",
       "      <td>13.650053</td>\n",
       "      <td>5.739634</td>\n",
       "      <td>996.541302</td>\n",
       "      <td>-350.562517</td>\n",
       "      <td>1304.658848</td>\n",
       "      <td>-399.511519</td>\n",
       "      <td>1306.455515</td>\n",
       "      <td>-399.050685</td>\n",
       "      <td>1248.699349</td>\n",
       "      <td>-400.876894</td>\n",
       "      <td>1058.839106</td>\n",
       "      <td>-398.988239</td>\n",
       "      <td>949.645313</td>\n",
       "      <td>-399.277632</td>\n",
       "      <td>24.886905</td>\n",
       "      <td>-499.357375</td>\n",
       "      <td>14.979233</td>\n",
       "      <td>-500.186804</td>\n",
       "      <td>19.962364</td>\n",
       "      <td>-450.638828</td>\n",
       "      <td>14.009245</td>\n",
       "      <td>-450.022259</td>\n",
       "      <td>12.025367</td>\n",
       "      <td>-500.786497</td>\n",
       "      <td>8.054678</td>\n",
       "      <td>-500.397500</td>\n",
       "      <td>8.107890</td>\n",
       "      <td>-509.526725</td>\n",
       "      <td>4.957674</td>\n",
       "      <td>-500.360026</td>\n",
       "      <td>25.003331</td>\n",
       "      <td>-500.856333</td>\n",
       "    </tr>\n",
       "  </tbody>\n",
       "</table>\n",
       "</div>"
      ],
      "text/plain": [
       "                  date  primary_cleaner.input.sulfate  \\\n",
       "0  2016-09-01 00:59:59                     210.800909   \n",
       "1  2016-09-01 01:59:59                     215.392455   \n",
       "2  2016-09-01 02:59:59                     215.259946   \n",
       "3  2016-09-01 03:59:59                     215.336236   \n",
       "4  2016-09-01 04:59:59                     199.099327   \n",
       "\n",
       "   primary_cleaner.input.depressant  primary_cleaner.input.feed_size  \\\n",
       "0                         14.993118                         8.080000   \n",
       "1                         14.987471                         8.080000   \n",
       "2                         12.884934                         7.786667   \n",
       "3                         12.006805                         7.640000   \n",
       "4                         10.682530                         7.530000   \n",
       "\n",
       "   primary_cleaner.input.xanthate  primary_cleaner.state.floatbank8_a_air  \\\n",
       "0                        1.005021                             1398.981301   \n",
       "1                        0.990469                             1398.777912   \n",
       "2                        0.996043                             1398.493666   \n",
       "3                        0.863514                             1399.618111   \n",
       "4                        0.805575                             1401.268123   \n",
       "\n",
       "   primary_cleaner.state.floatbank8_a_level  \\\n",
       "0                               -500.225577   \n",
       "1                               -500.057435   \n",
       "2                               -500.868360   \n",
       "3                               -498.863574   \n",
       "4                               -500.808305   \n",
       "\n",
       "   primary_cleaner.state.floatbank8_b_air  \\\n",
       "0                             1399.144926   \n",
       "1                             1398.055362   \n",
       "2                             1398.860436   \n",
       "3                             1397.440120   \n",
       "4                             1398.128818   \n",
       "\n",
       "   primary_cleaner.state.floatbank8_b_level  \\\n",
       "0                               -499.919735   \n",
       "1                               -499.778182   \n",
       "2                               -499.764529   \n",
       "3                               -499.211024   \n",
       "4                               -499.504543   \n",
       "\n",
       "   primary_cleaner.state.floatbank8_c_air  \\\n",
       "0                             1400.102998   \n",
       "1                             1396.151033   \n",
       "2                             1398.075709   \n",
       "3                             1400.129303   \n",
       "4                             1402.172226   \n",
       "\n",
       "   primary_cleaner.state.floatbank8_c_level  \\\n",
       "0                               -500.704369   \n",
       "1                               -499.240168   \n",
       "2                               -502.151509   \n",
       "3                               -498.355873   \n",
       "4                               -500.810606   \n",
       "\n",
       "   primary_cleaner.state.floatbank8_d_air  \\\n",
       "0                             1399.001695   \n",
       "1                             1399.508091   \n",
       "2                             1399.497088   \n",
       "3                             1401.065165   \n",
       "4                             1399.480508   \n",
       "\n",
       "   primary_cleaner.state.floatbank8_d_level  rougher.input.feed_ag  \\\n",
       "0                               -499.485144              13.128569   \n",
       "1                               -500.416324              13.036280   \n",
       "2                               -499.715479              13.138412   \n",
       "3                               -501.038738              12.400507   \n",
       "4                               -499.374053              11.327427   \n",
       "\n",
       "   rougher.input.feed_pb  rougher.input.feed_rate  rougher.input.feed_size  \\\n",
       "0               5.636710               489.793655                62.710452   \n",
       "1               5.526065               490.104534                61.961163   \n",
       "2               5.426561               489.617969                66.903807   \n",
       "3               5.114758               476.618130                59.865919   \n",
       "4               4.767383               488.248117                63.315324   \n",
       "\n",
       "   rougher.input.feed_sol  rougher.input.feed_au  \\\n",
       "0               42.022440              12.084103   \n",
       "1               41.187903              11.918977   \n",
       "2               42.546294              12.091332   \n",
       "3               41.060195              12.181597   \n",
       "4               41.269161              11.290425   \n",
       "\n",
       "   rougher.input.floatbank10_sulfate  rougher.input.floatbank10_xanthate  \\\n",
       "0                          16.922877                            6.153479   \n",
       "1                          17.002532                            5.999043   \n",
       "2                          16.992520                            5.850632   \n",
       "3                          16.532144                            5.801935   \n",
       "4                          13.607257                            5.738081   \n",
       "\n",
       "   rougher.input.floatbank11_sulfate  rougher.input.floatbank11_xanthate  \\\n",
       "0                          16.867518                            6.150709   \n",
       "1                          16.996063                            6.002315   \n",
       "2                          16.982096                            5.853594   \n",
       "3                          16.515277                            5.803657   \n",
       "4                          13.650053                            5.739634   \n",
       "\n",
       "   rougher.state.floatbank10_a_air  rougher.state.floatbank10_a_level  \\\n",
       "0                      1001.849317                        -350.301265   \n",
       "1                       998.690785                        -350.425704   \n",
       "2                       998.516720                        -349.783538   \n",
       "3                      1000.276604                        -350.172597   \n",
       "4                       996.541302                        -350.562517   \n",
       "\n",
       "   rougher.state.floatbank10_b_air  rougher.state.floatbank10_b_level  \\\n",
       "0                      1249.738612                        -399.107531   \n",
       "1                      1248.395457                        -399.946025   \n",
       "2                      1247.440748                        -400.264330   \n",
       "3                      1251.322675                        -398.655289   \n",
       "4                      1304.658848                        -399.511519   \n",
       "\n",
       "   rougher.state.floatbank10_c_air  rougher.state.floatbank10_c_level  \\\n",
       "0                      1249.750520                        -399.396730   \n",
       "1                      1249.514451                        -399.630810   \n",
       "2                      1248.207204                        -401.074405   \n",
       "3                      1250.493702                        -399.746728   \n",
       "4                      1306.455515                        -399.050685   \n",
       "\n",
       "   rougher.state.floatbank10_d_air  rougher.state.floatbank10_d_level  \\\n",
       "0                      1198.287855                        -399.488594   \n",
       "1                      1200.506459                        -399.942434   \n",
       "2                      1199.770026                        -400.790582   \n",
       "3                      1199.398691                        -397.503052   \n",
       "4                      1248.699349                        -400.876894   \n",
       "\n",
       "   rougher.state.floatbank10_e_air  rougher.state.floatbank10_e_level  \\\n",
       "0                       999.472250                        -399.530962   \n",
       "1                      1000.002114                        -399.491528   \n",
       "2                       999.925519                        -399.236999   \n",
       "3                      1001.930679                        -400.437573   \n",
       "4                      1058.839106                        -398.988239   \n",
       "\n",
       "   rougher.state.floatbank10_f_air  rougher.state.floatbank10_f_level  \\\n",
       "0                       949.566189                        -398.180807   \n",
       "1                       950.200009                        -405.787514   \n",
       "2                       950.320481                        -400.864340   \n",
       "3                       950.735324                        -399.802986   \n",
       "4                       949.645313                        -399.277632   \n",
       "\n",
       "   secondary_cleaner.state.floatbank2_a_air  \\\n",
       "0                                 24.938200   \n",
       "1                                 24.923466   \n",
       "2                                 24.908732   \n",
       "3                                 24.893998   \n",
       "4                                 24.886905   \n",
       "\n",
       "   secondary_cleaner.state.floatbank2_a_level  \\\n",
       "0                                 -500.490963   \n",
       "1                                 -499.813963   \n",
       "2                                 -500.304035   \n",
       "3                                 -499.382374   \n",
       "4                                 -499.357375   \n",
       "\n",
       "   secondary_cleaner.state.floatbank2_b_air  \\\n",
       "0                                 14.947607   \n",
       "1                                 14.930873   \n",
       "2                                 14.996511   \n",
       "3                                 14.916674   \n",
       "4                                 14.979233   \n",
       "\n",
       "   secondary_cleaner.state.floatbank2_b_level  \\\n",
       "0                                 -500.013837   \n",
       "1                                 -500.764452   \n",
       "2                                 -500.993821   \n",
       "3                                 -499.862299   \n",
       "4                                 -500.186804   \n",
       "\n",
       "   secondary_cleaner.state.floatbank3_a_air  \\\n",
       "0                                 20.018166   \n",
       "1                                 19.988503   \n",
       "2                                 20.039689   \n",
       "3                                 20.031100   \n",
       "4                                 19.962364   \n",
       "\n",
       "   secondary_cleaner.state.floatbank3_a_level  \\\n",
       "0                                 -450.395995   \n",
       "1                                 -450.114024   \n",
       "2                                 -450.263164   \n",
       "3                                 -449.372570   \n",
       "4                                 -450.638828   \n",
       "\n",
       "   secondary_cleaner.state.floatbank3_b_air  \\\n",
       "0                                 13.987058   \n",
       "1                                 14.092981   \n",
       "2                                 14.077881   \n",
       "3                                 14.013968   \n",
       "4                                 14.009245   \n",
       "\n",
       "   secondary_cleaner.state.floatbank3_b_level  \\\n",
       "0                                 -449.831513   \n",
       "1                                 -450.059163   \n",
       "2                                 -449.660997   \n",
       "3                                 -449.526900   \n",
       "4                                 -450.022259   \n",
       "\n",
       "   secondary_cleaner.state.floatbank4_a_air  \\\n",
       "0                                 12.023554   \n",
       "1                                 12.058140   \n",
       "2                                 11.962366   \n",
       "3                                 12.033091   \n",
       "4                                 12.025367   \n",
       "\n",
       "   secondary_cleaner.state.floatbank4_a_level  \\\n",
       "0                                 -497.795834   \n",
       "1                                 -498.695773   \n",
       "2                                 -498.767484   \n",
       "3                                 -498.350935   \n",
       "4                                 -500.786497   \n",
       "\n",
       "   secondary_cleaner.state.floatbank4_b_air  \\\n",
       "0                                  8.016656   \n",
       "1                                  8.130979   \n",
       "2                                  8.096893   \n",
       "3                                  8.074946   \n",
       "4                                  8.054678   \n",
       "\n",
       "   secondary_cleaner.state.floatbank4_b_level  \\\n",
       "0                                 -501.289139   \n",
       "1                                 -499.634209   \n",
       "2                                 -500.827423   \n",
       "3                                 -499.474407   \n",
       "4                                 -500.397500   \n",
       "\n",
       "   secondary_cleaner.state.floatbank5_a_air  \\\n",
       "0                                  7.946562   \n",
       "1                                  7.958270   \n",
       "2                                  8.071056   \n",
       "3                                  7.897085   \n",
       "4                                  8.107890   \n",
       "\n",
       "   secondary_cleaner.state.floatbank5_a_level  \\\n",
       "0                                 -432.317850   \n",
       "1                                 -525.839648   \n",
       "2                                 -500.801673   \n",
       "3                                 -500.868509   \n",
       "4                                 -509.526725   \n",
       "\n",
       "   secondary_cleaner.state.floatbank5_b_air  \\\n",
       "0                                  4.872511   \n",
       "1                                  4.878850   \n",
       "2                                  4.905125   \n",
       "3                                  4.931400   \n",
       "4                                  4.957674   \n",
       "\n",
       "   secondary_cleaner.state.floatbank5_b_level  \\\n",
       "0                                 -500.037437   \n",
       "1                                 -500.162375   \n",
       "2                                 -499.828510   \n",
       "3                                 -499.963623   \n",
       "4                                 -500.360026   \n",
       "\n",
       "   secondary_cleaner.state.floatbank6_a_air  \\\n",
       "0                                 26.705889   \n",
       "1                                 25.019940   \n",
       "2                                 24.994862   \n",
       "3                                 24.948919   \n",
       "4                                 25.003331   \n",
       "\n",
       "   secondary_cleaner.state.floatbank6_a_level  \n",
       "0                                 -499.709414  \n",
       "1                                 -499.819438  \n",
       "2                                 -500.622559  \n",
       "3                                 -498.709987  \n",
       "4                                 -500.856333  "
      ]
     },
     "metadata": {},
     "output_type": "display_data"
    },
    {
     "data": {
      "text/plain": [
       "'full:'"
      ]
     },
     "metadata": {},
     "output_type": "display_data"
    },
    {
     "data": {
      "text/html": [
       "<div>\n",
       "<style scoped>\n",
       "    .dataframe tbody tr th:only-of-type {\n",
       "        vertical-align: middle;\n",
       "    }\n",
       "\n",
       "    .dataframe tbody tr th {\n",
       "        vertical-align: top;\n",
       "    }\n",
       "\n",
       "    .dataframe thead th {\n",
       "        text-align: right;\n",
       "    }\n",
       "</style>\n",
       "<table border=\"1\" class=\"dataframe\">\n",
       "  <thead>\n",
       "    <tr style=\"text-align: right;\">\n",
       "      <th></th>\n",
       "      <th>date</th>\n",
       "      <th>final.output.concentrate_ag</th>\n",
       "      <th>final.output.concentrate_pb</th>\n",
       "      <th>final.output.concentrate_sol</th>\n",
       "      <th>final.output.concentrate_au</th>\n",
       "      <th>final.output.recovery</th>\n",
       "      <th>final.output.tail_ag</th>\n",
       "      <th>final.output.tail_pb</th>\n",
       "      <th>final.output.tail_sol</th>\n",
       "      <th>final.output.tail_au</th>\n",
       "      <th>primary_cleaner.input.sulfate</th>\n",
       "      <th>primary_cleaner.input.depressant</th>\n",
       "      <th>primary_cleaner.input.feed_size</th>\n",
       "      <th>primary_cleaner.input.xanthate</th>\n",
       "      <th>primary_cleaner.output.concentrate_ag</th>\n",
       "      <th>primary_cleaner.output.concentrate_pb</th>\n",
       "      <th>primary_cleaner.output.concentrate_sol</th>\n",
       "      <th>primary_cleaner.output.concentrate_au</th>\n",
       "      <th>primary_cleaner.output.tail_ag</th>\n",
       "      <th>primary_cleaner.output.tail_pb</th>\n",
       "      <th>primary_cleaner.output.tail_sol</th>\n",
       "      <th>primary_cleaner.output.tail_au</th>\n",
       "      <th>primary_cleaner.state.floatbank8_a_air</th>\n",
       "      <th>primary_cleaner.state.floatbank8_a_level</th>\n",
       "      <th>primary_cleaner.state.floatbank8_b_air</th>\n",
       "      <th>primary_cleaner.state.floatbank8_b_level</th>\n",
       "      <th>primary_cleaner.state.floatbank8_c_air</th>\n",
       "      <th>primary_cleaner.state.floatbank8_c_level</th>\n",
       "      <th>primary_cleaner.state.floatbank8_d_air</th>\n",
       "      <th>primary_cleaner.state.floatbank8_d_level</th>\n",
       "      <th>rougher.calculation.sulfate_to_au_concentrate</th>\n",
       "      <th>rougher.calculation.floatbank10_sulfate_to_au_feed</th>\n",
       "      <th>rougher.calculation.floatbank11_sulfate_to_au_feed</th>\n",
       "      <th>rougher.calculation.au_pb_ratio</th>\n",
       "      <th>rougher.input.feed_ag</th>\n",
       "      <th>rougher.input.feed_pb</th>\n",
       "      <th>rougher.input.feed_rate</th>\n",
       "      <th>rougher.input.feed_size</th>\n",
       "      <th>rougher.input.feed_sol</th>\n",
       "      <th>rougher.input.feed_au</th>\n",
       "      <th>rougher.input.floatbank10_sulfate</th>\n",
       "      <th>rougher.input.floatbank10_xanthate</th>\n",
       "      <th>rougher.input.floatbank11_sulfate</th>\n",
       "      <th>rougher.input.floatbank11_xanthate</th>\n",
       "      <th>rougher.output.concentrate_ag</th>\n",
       "      <th>rougher.output.concentrate_pb</th>\n",
       "      <th>rougher.output.concentrate_sol</th>\n",
       "      <th>rougher.output.concentrate_au</th>\n",
       "      <th>rougher.output.recovery</th>\n",
       "      <th>rougher.output.tail_ag</th>\n",
       "      <th>rougher.output.tail_pb</th>\n",
       "      <th>rougher.output.tail_sol</th>\n",
       "      <th>rougher.output.tail_au</th>\n",
       "      <th>rougher.state.floatbank10_a_air</th>\n",
       "      <th>rougher.state.floatbank10_a_level</th>\n",
       "      <th>rougher.state.floatbank10_b_air</th>\n",
       "      <th>rougher.state.floatbank10_b_level</th>\n",
       "      <th>rougher.state.floatbank10_c_air</th>\n",
       "      <th>rougher.state.floatbank10_c_level</th>\n",
       "      <th>rougher.state.floatbank10_d_air</th>\n",
       "      <th>rougher.state.floatbank10_d_level</th>\n",
       "      <th>rougher.state.floatbank10_e_air</th>\n",
       "      <th>rougher.state.floatbank10_e_level</th>\n",
       "      <th>rougher.state.floatbank10_f_air</th>\n",
       "      <th>rougher.state.floatbank10_f_level</th>\n",
       "      <th>secondary_cleaner.output.tail_ag</th>\n",
       "      <th>secondary_cleaner.output.tail_pb</th>\n",
       "      <th>secondary_cleaner.output.tail_sol</th>\n",
       "      <th>secondary_cleaner.output.tail_au</th>\n",
       "      <th>secondary_cleaner.state.floatbank2_a_air</th>\n",
       "      <th>secondary_cleaner.state.floatbank2_a_level</th>\n",
       "      <th>secondary_cleaner.state.floatbank2_b_air</th>\n",
       "      <th>secondary_cleaner.state.floatbank2_b_level</th>\n",
       "      <th>secondary_cleaner.state.floatbank3_a_air</th>\n",
       "      <th>secondary_cleaner.state.floatbank3_a_level</th>\n",
       "      <th>secondary_cleaner.state.floatbank3_b_air</th>\n",
       "      <th>secondary_cleaner.state.floatbank3_b_level</th>\n",
       "      <th>secondary_cleaner.state.floatbank4_a_air</th>\n",
       "      <th>secondary_cleaner.state.floatbank4_a_level</th>\n",
       "      <th>secondary_cleaner.state.floatbank4_b_air</th>\n",
       "      <th>secondary_cleaner.state.floatbank4_b_level</th>\n",
       "      <th>secondary_cleaner.state.floatbank5_a_air</th>\n",
       "      <th>secondary_cleaner.state.floatbank5_a_level</th>\n",
       "      <th>secondary_cleaner.state.floatbank5_b_air</th>\n",
       "      <th>secondary_cleaner.state.floatbank5_b_level</th>\n",
       "      <th>secondary_cleaner.state.floatbank6_a_air</th>\n",
       "      <th>secondary_cleaner.state.floatbank6_a_level</th>\n",
       "    </tr>\n",
       "  </thead>\n",
       "  <tbody>\n",
       "    <tr>\n",
       "      <td>0</td>\n",
       "      <td>2016-01-15 00:00:00</td>\n",
       "      <td>6.055403</td>\n",
       "      <td>9.889648</td>\n",
       "      <td>5.507324</td>\n",
       "      <td>42.192020</td>\n",
       "      <td>70.541216</td>\n",
       "      <td>10.411962</td>\n",
       "      <td>0.895447</td>\n",
       "      <td>16.904297</td>\n",
       "      <td>2.143149</td>\n",
       "      <td>127.092003</td>\n",
       "      <td>10.128295</td>\n",
       "      <td>7.25</td>\n",
       "      <td>0.988759</td>\n",
       "      <td>8.547551</td>\n",
       "      <td>10.389648</td>\n",
       "      <td>19.529297</td>\n",
       "      <td>34.174427</td>\n",
       "      <td>14.936526</td>\n",
       "      <td>2.534912</td>\n",
       "      <td>7.476074</td>\n",
       "      <td>2.106679</td>\n",
       "      <td>1549.775757</td>\n",
       "      <td>-498.912140</td>\n",
       "      <td>1551.434204</td>\n",
       "      <td>-516.403442</td>\n",
       "      <td>1549.873901</td>\n",
       "      <td>-498.666595</td>\n",
       "      <td>1554.367432</td>\n",
       "      <td>-493.428131</td>\n",
       "      <td>41885.707031</td>\n",
       "      <td>3481.779053</td>\n",
       "      <td>3520.337158</td>\n",
       "      <td>2.838687</td>\n",
       "      <td>6.100378</td>\n",
       "      <td>2.284912</td>\n",
       "      <td>523.546326</td>\n",
       "      <td>55.486599</td>\n",
       "      <td>36.808594</td>\n",
       "      <td>6.486150</td>\n",
       "      <td>11.986616</td>\n",
       "      <td>6.007990</td>\n",
       "      <td>11.836743</td>\n",
       "      <td>6.005818</td>\n",
       "      <td>11.500771</td>\n",
       "      <td>7.101074</td>\n",
       "      <td>28.029297</td>\n",
       "      <td>19.793808</td>\n",
       "      <td>87.107763</td>\n",
       "      <td>5.008018</td>\n",
       "      <td>0.508728</td>\n",
       "      <td>19.154297</td>\n",
       "      <td>1.170244</td>\n",
       "      <td>999.706909</td>\n",
       "      <td>-404.066986</td>\n",
       "      <td>1603.011353</td>\n",
       "      <td>-434.715027</td>\n",
       "      <td>1602.375000</td>\n",
       "      <td>-442.204468</td>\n",
       "      <td>1598.937256</td>\n",
       "      <td>-451.294128</td>\n",
       "      <td>1404.472046</td>\n",
       "      <td>-455.462982</td>\n",
       "      <td>1416.354980</td>\n",
       "      <td>-451.939636</td>\n",
       "      <td>14.500184</td>\n",
       "      <td>4.694824</td>\n",
       "      <td>8.764648</td>\n",
       "      <td>2.606185</td>\n",
       "      <td>25.853109</td>\n",
       "      <td>-498.526489</td>\n",
       "      <td>23.893660</td>\n",
       "      <td>-501.406281</td>\n",
       "      <td>23.961798</td>\n",
       "      <td>-495.262817</td>\n",
       "      <td>21.940409</td>\n",
       "      <td>-499.340973</td>\n",
       "      <td>14.016835</td>\n",
       "      <td>-502.488007</td>\n",
       "      <td>12.099931</td>\n",
       "      <td>-504.715942</td>\n",
       "      <td>9.925633</td>\n",
       "      <td>-498.310211</td>\n",
       "      <td>8.079666</td>\n",
       "      <td>-500.470978</td>\n",
       "      <td>14.151341</td>\n",
       "      <td>-605.841980</td>\n",
       "    </tr>\n",
       "    <tr>\n",
       "      <td>1</td>\n",
       "      <td>2016-01-15 01:00:00</td>\n",
       "      <td>6.029369</td>\n",
       "      <td>9.968944</td>\n",
       "      <td>5.257781</td>\n",
       "      <td>42.701629</td>\n",
       "      <td>69.266198</td>\n",
       "      <td>10.462676</td>\n",
       "      <td>0.927452</td>\n",
       "      <td>16.634514</td>\n",
       "      <td>2.224930</td>\n",
       "      <td>125.629232</td>\n",
       "      <td>10.296251</td>\n",
       "      <td>7.25</td>\n",
       "      <td>1.002663</td>\n",
       "      <td>8.558743</td>\n",
       "      <td>10.497069</td>\n",
       "      <td>19.369147</td>\n",
       "      <td>34.118526</td>\n",
       "      <td>16.250511</td>\n",
       "      <td>3.049646</td>\n",
       "      <td>6.733907</td>\n",
       "      <td>2.353017</td>\n",
       "      <td>1576.166671</td>\n",
       "      <td>-500.904965</td>\n",
       "      <td>1575.950626</td>\n",
       "      <td>-499.865889</td>\n",
       "      <td>1575.994189</td>\n",
       "      <td>-499.315107</td>\n",
       "      <td>1574.479259</td>\n",
       "      <td>-498.931665</td>\n",
       "      <td>42050.861809</td>\n",
       "      <td>3498.370979</td>\n",
       "      <td>3489.981857</td>\n",
       "      <td>2.858998</td>\n",
       "      <td>6.161113</td>\n",
       "      <td>2.266033</td>\n",
       "      <td>525.290581</td>\n",
       "      <td>57.278666</td>\n",
       "      <td>35.753385</td>\n",
       "      <td>6.478583</td>\n",
       "      <td>11.971193</td>\n",
       "      <td>6.005766</td>\n",
       "      <td>11.996163</td>\n",
       "      <td>6.012594</td>\n",
       "      <td>11.615865</td>\n",
       "      <td>7.278807</td>\n",
       "      <td>28.067063</td>\n",
       "      <td>20.050975</td>\n",
       "      <td>86.843261</td>\n",
       "      <td>4.955378</td>\n",
       "      <td>0.536689</td>\n",
       "      <td>18.965234</td>\n",
       "      <td>1.184827</td>\n",
       "      <td>1000.286398</td>\n",
       "      <td>-400.065196</td>\n",
       "      <td>1600.754587</td>\n",
       "      <td>-449.953435</td>\n",
       "      <td>1600.479580</td>\n",
       "      <td>-449.830646</td>\n",
       "      <td>1600.527589</td>\n",
       "      <td>-449.953649</td>\n",
       "      <td>1399.227084</td>\n",
       "      <td>-450.869848</td>\n",
       "      <td>1399.719514</td>\n",
       "      <td>-450.119001</td>\n",
       "      <td>14.265474</td>\n",
       "      <td>4.592547</td>\n",
       "      <td>9.001494</td>\n",
       "      <td>2.488248</td>\n",
       "      <td>25.880539</td>\n",
       "      <td>-499.989656</td>\n",
       "      <td>23.889530</td>\n",
       "      <td>-500.372428</td>\n",
       "      <td>23.970550</td>\n",
       "      <td>-500.085473</td>\n",
       "      <td>22.085714</td>\n",
       "      <td>-499.446897</td>\n",
       "      <td>13.992281</td>\n",
       "      <td>-505.503262</td>\n",
       "      <td>11.950531</td>\n",
       "      <td>-501.331529</td>\n",
       "      <td>10.039245</td>\n",
       "      <td>-500.169983</td>\n",
       "      <td>7.984757</td>\n",
       "      <td>-500.582168</td>\n",
       "      <td>13.998353</td>\n",
       "      <td>-599.787184</td>\n",
       "    </tr>\n",
       "    <tr>\n",
       "      <td>2</td>\n",
       "      <td>2016-01-15 02:00:00</td>\n",
       "      <td>6.055926</td>\n",
       "      <td>10.213995</td>\n",
       "      <td>5.383759</td>\n",
       "      <td>42.657501</td>\n",
       "      <td>68.116445</td>\n",
       "      <td>10.507046</td>\n",
       "      <td>0.953716</td>\n",
       "      <td>16.208849</td>\n",
       "      <td>2.257889</td>\n",
       "      <td>123.819808</td>\n",
       "      <td>11.316280</td>\n",
       "      <td>7.25</td>\n",
       "      <td>0.991265</td>\n",
       "      <td>8.603505</td>\n",
       "      <td>10.354494</td>\n",
       "      <td>19.167579</td>\n",
       "      <td>33.969464</td>\n",
       "      <td>16.491823</td>\n",
       "      <td>3.124664</td>\n",
       "      <td>6.471768</td>\n",
       "      <td>2.416800</td>\n",
       "      <td>1601.556163</td>\n",
       "      <td>-499.997791</td>\n",
       "      <td>1600.386685</td>\n",
       "      <td>-500.607762</td>\n",
       "      <td>1602.003542</td>\n",
       "      <td>-500.870069</td>\n",
       "      <td>1599.541515</td>\n",
       "      <td>-499.827444</td>\n",
       "      <td>42018.101184</td>\n",
       "      <td>3495.348910</td>\n",
       "      <td>3502.359819</td>\n",
       "      <td>2.945989</td>\n",
       "      <td>6.116455</td>\n",
       "      <td>2.159622</td>\n",
       "      <td>530.026610</td>\n",
       "      <td>57.510649</td>\n",
       "      <td>35.971630</td>\n",
       "      <td>6.362222</td>\n",
       "      <td>11.920603</td>\n",
       "      <td>6.197377</td>\n",
       "      <td>11.920305</td>\n",
       "      <td>6.204633</td>\n",
       "      <td>11.695753</td>\n",
       "      <td>7.216833</td>\n",
       "      <td>27.454037</td>\n",
       "      <td>19.737170</td>\n",
       "      <td>86.842308</td>\n",
       "      <td>4.843460</td>\n",
       "      <td>0.546416</td>\n",
       "      <td>18.808533</td>\n",
       "      <td>1.162562</td>\n",
       "      <td>999.719565</td>\n",
       "      <td>-400.074028</td>\n",
       "      <td>1599.337330</td>\n",
       "      <td>-450.008530</td>\n",
       "      <td>1599.672797</td>\n",
       "      <td>-449.954491</td>\n",
       "      <td>1599.849325</td>\n",
       "      <td>-449.954185</td>\n",
       "      <td>1399.180945</td>\n",
       "      <td>-449.937588</td>\n",
       "      <td>1400.316682</td>\n",
       "      <td>-450.527147</td>\n",
       "      <td>14.115662</td>\n",
       "      <td>4.624775</td>\n",
       "      <td>8.842896</td>\n",
       "      <td>2.458187</td>\n",
       "      <td>26.005245</td>\n",
       "      <td>-499.929616</td>\n",
       "      <td>23.886657</td>\n",
       "      <td>-499.951928</td>\n",
       "      <td>23.913535</td>\n",
       "      <td>-499.442343</td>\n",
       "      <td>23.957717</td>\n",
       "      <td>-499.901982</td>\n",
       "      <td>14.015015</td>\n",
       "      <td>-502.520901</td>\n",
       "      <td>11.912783</td>\n",
       "      <td>-501.133383</td>\n",
       "      <td>10.070913</td>\n",
       "      <td>-500.129135</td>\n",
       "      <td>8.013877</td>\n",
       "      <td>-500.517572</td>\n",
       "      <td>14.028663</td>\n",
       "      <td>-601.427363</td>\n",
       "    </tr>\n",
       "    <tr>\n",
       "      <td>3</td>\n",
       "      <td>2016-01-15 03:00:00</td>\n",
       "      <td>6.047977</td>\n",
       "      <td>9.977019</td>\n",
       "      <td>4.858634</td>\n",
       "      <td>42.689819</td>\n",
       "      <td>68.347543</td>\n",
       "      <td>10.422762</td>\n",
       "      <td>0.883763</td>\n",
       "      <td>16.532835</td>\n",
       "      <td>2.146849</td>\n",
       "      <td>122.270188</td>\n",
       "      <td>11.322140</td>\n",
       "      <td>7.25</td>\n",
       "      <td>0.996739</td>\n",
       "      <td>7.221879</td>\n",
       "      <td>8.496563</td>\n",
       "      <td>15.978538</td>\n",
       "      <td>28.260743</td>\n",
       "      <td>16.024359</td>\n",
       "      <td>2.960362</td>\n",
       "      <td>6.843791</td>\n",
       "      <td>2.262051</td>\n",
       "      <td>1599.968720</td>\n",
       "      <td>-500.951778</td>\n",
       "      <td>1600.659236</td>\n",
       "      <td>-499.677094</td>\n",
       "      <td>1600.304144</td>\n",
       "      <td>-500.727997</td>\n",
       "      <td>1600.449520</td>\n",
       "      <td>-500.052575</td>\n",
       "      <td>42029.447991</td>\n",
       "      <td>3498.578313</td>\n",
       "      <td>3499.162912</td>\n",
       "      <td>3.002340</td>\n",
       "      <td>6.043309</td>\n",
       "      <td>2.037807</td>\n",
       "      <td>542.590390</td>\n",
       "      <td>57.792734</td>\n",
       "      <td>36.862241</td>\n",
       "      <td>6.118189</td>\n",
       "      <td>11.630094</td>\n",
       "      <td>6.203177</td>\n",
       "      <td>11.692450</td>\n",
       "      <td>6.196578</td>\n",
       "      <td>11.915047</td>\n",
       "      <td>7.175616</td>\n",
       "      <td>27.341277</td>\n",
       "      <td>19.320810</td>\n",
       "      <td>87.226430</td>\n",
       "      <td>4.655288</td>\n",
       "      <td>0.542525</td>\n",
       "      <td>19.330200</td>\n",
       "      <td>1.079755</td>\n",
       "      <td>999.814770</td>\n",
       "      <td>-400.200179</td>\n",
       "      <td>1600.059442</td>\n",
       "      <td>-450.619948</td>\n",
       "      <td>1600.012842</td>\n",
       "      <td>-449.910497</td>\n",
       "      <td>1597.725177</td>\n",
       "      <td>-450.130127</td>\n",
       "      <td>1400.943157</td>\n",
       "      <td>-450.030142</td>\n",
       "      <td>1400.234743</td>\n",
       "      <td>-449.790835</td>\n",
       "      <td>13.732071</td>\n",
       "      <td>4.482453</td>\n",
       "      <td>9.122857</td>\n",
       "      <td>2.322062</td>\n",
       "      <td>25.942508</td>\n",
       "      <td>-499.176749</td>\n",
       "      <td>23.955516</td>\n",
       "      <td>-499.848796</td>\n",
       "      <td>23.966838</td>\n",
       "      <td>-500.008812</td>\n",
       "      <td>23.954443</td>\n",
       "      <td>-499.944710</td>\n",
       "      <td>14.036510</td>\n",
       "      <td>-500.857308</td>\n",
       "      <td>11.999550</td>\n",
       "      <td>-501.193686</td>\n",
       "      <td>9.970366</td>\n",
       "      <td>-499.201640</td>\n",
       "      <td>7.977324</td>\n",
       "      <td>-500.255908</td>\n",
       "      <td>14.005551</td>\n",
       "      <td>-599.996129</td>\n",
       "    </tr>\n",
       "    <tr>\n",
       "      <td>4</td>\n",
       "      <td>2016-01-15 04:00:00</td>\n",
       "      <td>6.148599</td>\n",
       "      <td>10.142511</td>\n",
       "      <td>4.939416</td>\n",
       "      <td>42.774141</td>\n",
       "      <td>66.927016</td>\n",
       "      <td>10.360302</td>\n",
       "      <td>0.792826</td>\n",
       "      <td>16.525686</td>\n",
       "      <td>2.055292</td>\n",
       "      <td>117.988169</td>\n",
       "      <td>11.913613</td>\n",
       "      <td>7.25</td>\n",
       "      <td>1.009869</td>\n",
       "      <td>9.089428</td>\n",
       "      <td>9.986786</td>\n",
       "      <td>19.199864</td>\n",
       "      <td>33.044932</td>\n",
       "      <td>16.480185</td>\n",
       "      <td>3.112100</td>\n",
       "      <td>6.550154</td>\n",
       "      <td>2.277073</td>\n",
       "      <td>1601.339707</td>\n",
       "      <td>-498.975456</td>\n",
       "      <td>1601.437854</td>\n",
       "      <td>-500.323246</td>\n",
       "      <td>1599.581894</td>\n",
       "      <td>-500.888152</td>\n",
       "      <td>1602.649541</td>\n",
       "      <td>-500.593010</td>\n",
       "      <td>42125.354245</td>\n",
       "      <td>3494.800771</td>\n",
       "      <td>3506.679315</td>\n",
       "      <td>3.169615</td>\n",
       "      <td>6.060915</td>\n",
       "      <td>1.786875</td>\n",
       "      <td>540.531893</td>\n",
       "      <td>56.047189</td>\n",
       "      <td>34.347666</td>\n",
       "      <td>5.663707</td>\n",
       "      <td>10.957755</td>\n",
       "      <td>6.198826</td>\n",
       "      <td>10.960521</td>\n",
       "      <td>6.194897</td>\n",
       "      <td>12.411054</td>\n",
       "      <td>7.240205</td>\n",
       "      <td>27.041023</td>\n",
       "      <td>19.216101</td>\n",
       "      <td>86.688794</td>\n",
       "      <td>4.552800</td>\n",
       "      <td>0.515438</td>\n",
       "      <td>19.267422</td>\n",
       "      <td>1.012642</td>\n",
       "      <td>999.678690</td>\n",
       "      <td>-399.752729</td>\n",
       "      <td>1600.208824</td>\n",
       "      <td>-449.599614</td>\n",
       "      <td>1600.357732</td>\n",
       "      <td>-450.034364</td>\n",
       "      <td>1599.759049</td>\n",
       "      <td>-449.909799</td>\n",
       "      <td>1401.560902</td>\n",
       "      <td>-448.877187</td>\n",
       "      <td>1401.160227</td>\n",
       "      <td>-450.407128</td>\n",
       "      <td>14.079996</td>\n",
       "      <td>4.470737</td>\n",
       "      <td>8.871028</td>\n",
       "      <td>2.330448</td>\n",
       "      <td>26.024787</td>\n",
       "      <td>-500.279091</td>\n",
       "      <td>23.955345</td>\n",
       "      <td>-500.593614</td>\n",
       "      <td>23.985703</td>\n",
       "      <td>-500.083811</td>\n",
       "      <td>23.958945</td>\n",
       "      <td>-499.990309</td>\n",
       "      <td>14.027298</td>\n",
       "      <td>-499.838632</td>\n",
       "      <td>11.953070</td>\n",
       "      <td>-501.053894</td>\n",
       "      <td>9.925709</td>\n",
       "      <td>-501.686727</td>\n",
       "      <td>7.894242</td>\n",
       "      <td>-500.356035</td>\n",
       "      <td>13.996647</td>\n",
       "      <td>-601.496691</td>\n",
       "    </tr>\n",
       "  </tbody>\n",
       "</table>\n",
       "</div>"
      ],
      "text/plain": [
       "                  date  final.output.concentrate_ag  \\\n",
       "0  2016-01-15 00:00:00                     6.055403   \n",
       "1  2016-01-15 01:00:00                     6.029369   \n",
       "2  2016-01-15 02:00:00                     6.055926   \n",
       "3  2016-01-15 03:00:00                     6.047977   \n",
       "4  2016-01-15 04:00:00                     6.148599   \n",
       "\n",
       "   final.output.concentrate_pb  final.output.concentrate_sol  \\\n",
       "0                     9.889648                      5.507324   \n",
       "1                     9.968944                      5.257781   \n",
       "2                    10.213995                      5.383759   \n",
       "3                     9.977019                      4.858634   \n",
       "4                    10.142511                      4.939416   \n",
       "\n",
       "   final.output.concentrate_au  final.output.recovery  final.output.tail_ag  \\\n",
       "0                    42.192020              70.541216             10.411962   \n",
       "1                    42.701629              69.266198             10.462676   \n",
       "2                    42.657501              68.116445             10.507046   \n",
       "3                    42.689819              68.347543             10.422762   \n",
       "4                    42.774141              66.927016             10.360302   \n",
       "\n",
       "   final.output.tail_pb  final.output.tail_sol  final.output.tail_au  \\\n",
       "0              0.895447              16.904297              2.143149   \n",
       "1              0.927452              16.634514              2.224930   \n",
       "2              0.953716              16.208849              2.257889   \n",
       "3              0.883763              16.532835              2.146849   \n",
       "4              0.792826              16.525686              2.055292   \n",
       "\n",
       "   primary_cleaner.input.sulfate  primary_cleaner.input.depressant  \\\n",
       "0                     127.092003                         10.128295   \n",
       "1                     125.629232                         10.296251   \n",
       "2                     123.819808                         11.316280   \n",
       "3                     122.270188                         11.322140   \n",
       "4                     117.988169                         11.913613   \n",
       "\n",
       "   primary_cleaner.input.feed_size  primary_cleaner.input.xanthate  \\\n",
       "0                             7.25                        0.988759   \n",
       "1                             7.25                        1.002663   \n",
       "2                             7.25                        0.991265   \n",
       "3                             7.25                        0.996739   \n",
       "4                             7.25                        1.009869   \n",
       "\n",
       "   primary_cleaner.output.concentrate_ag  \\\n",
       "0                               8.547551   \n",
       "1                               8.558743   \n",
       "2                               8.603505   \n",
       "3                               7.221879   \n",
       "4                               9.089428   \n",
       "\n",
       "   primary_cleaner.output.concentrate_pb  \\\n",
       "0                              10.389648   \n",
       "1                              10.497069   \n",
       "2                              10.354494   \n",
       "3                               8.496563   \n",
       "4                               9.986786   \n",
       "\n",
       "   primary_cleaner.output.concentrate_sol  \\\n",
       "0                               19.529297   \n",
       "1                               19.369147   \n",
       "2                               19.167579   \n",
       "3                               15.978538   \n",
       "4                               19.199864   \n",
       "\n",
       "   primary_cleaner.output.concentrate_au  primary_cleaner.output.tail_ag  \\\n",
       "0                              34.174427                       14.936526   \n",
       "1                              34.118526                       16.250511   \n",
       "2                              33.969464                       16.491823   \n",
       "3                              28.260743                       16.024359   \n",
       "4                              33.044932                       16.480185   \n",
       "\n",
       "   primary_cleaner.output.tail_pb  primary_cleaner.output.tail_sol  \\\n",
       "0                        2.534912                         7.476074   \n",
       "1                        3.049646                         6.733907   \n",
       "2                        3.124664                         6.471768   \n",
       "3                        2.960362                         6.843791   \n",
       "4                        3.112100                         6.550154   \n",
       "\n",
       "   primary_cleaner.output.tail_au  primary_cleaner.state.floatbank8_a_air  \\\n",
       "0                        2.106679                             1549.775757   \n",
       "1                        2.353017                             1576.166671   \n",
       "2                        2.416800                             1601.556163   \n",
       "3                        2.262051                             1599.968720   \n",
       "4                        2.277073                             1601.339707   \n",
       "\n",
       "   primary_cleaner.state.floatbank8_a_level  \\\n",
       "0                               -498.912140   \n",
       "1                               -500.904965   \n",
       "2                               -499.997791   \n",
       "3                               -500.951778   \n",
       "4                               -498.975456   \n",
       "\n",
       "   primary_cleaner.state.floatbank8_b_air  \\\n",
       "0                             1551.434204   \n",
       "1                             1575.950626   \n",
       "2                             1600.386685   \n",
       "3                             1600.659236   \n",
       "4                             1601.437854   \n",
       "\n",
       "   primary_cleaner.state.floatbank8_b_level  \\\n",
       "0                               -516.403442   \n",
       "1                               -499.865889   \n",
       "2                               -500.607762   \n",
       "3                               -499.677094   \n",
       "4                               -500.323246   \n",
       "\n",
       "   primary_cleaner.state.floatbank8_c_air  \\\n",
       "0                             1549.873901   \n",
       "1                             1575.994189   \n",
       "2                             1602.003542   \n",
       "3                             1600.304144   \n",
       "4                             1599.581894   \n",
       "\n",
       "   primary_cleaner.state.floatbank8_c_level  \\\n",
       "0                               -498.666595   \n",
       "1                               -499.315107   \n",
       "2                               -500.870069   \n",
       "3                               -500.727997   \n",
       "4                               -500.888152   \n",
       "\n",
       "   primary_cleaner.state.floatbank8_d_air  \\\n",
       "0                             1554.367432   \n",
       "1                             1574.479259   \n",
       "2                             1599.541515   \n",
       "3                             1600.449520   \n",
       "4                             1602.649541   \n",
       "\n",
       "   primary_cleaner.state.floatbank8_d_level  \\\n",
       "0                               -493.428131   \n",
       "1                               -498.931665   \n",
       "2                               -499.827444   \n",
       "3                               -500.052575   \n",
       "4                               -500.593010   \n",
       "\n",
       "   rougher.calculation.sulfate_to_au_concentrate  \\\n",
       "0                                   41885.707031   \n",
       "1                                   42050.861809   \n",
       "2                                   42018.101184   \n",
       "3                                   42029.447991   \n",
       "4                                   42125.354245   \n",
       "\n",
       "   rougher.calculation.floatbank10_sulfate_to_au_feed  \\\n",
       "0                                        3481.779053    \n",
       "1                                        3498.370979    \n",
       "2                                        3495.348910    \n",
       "3                                        3498.578313    \n",
       "4                                        3494.800771    \n",
       "\n",
       "   rougher.calculation.floatbank11_sulfate_to_au_feed  \\\n",
       "0                                        3520.337158    \n",
       "1                                        3489.981857    \n",
       "2                                        3502.359819    \n",
       "3                                        3499.162912    \n",
       "4                                        3506.679315    \n",
       "\n",
       "   rougher.calculation.au_pb_ratio  rougher.input.feed_ag  \\\n",
       "0                         2.838687               6.100378   \n",
       "1                         2.858998               6.161113   \n",
       "2                         2.945989               6.116455   \n",
       "3                         3.002340               6.043309   \n",
       "4                         3.169615               6.060915   \n",
       "\n",
       "   rougher.input.feed_pb  rougher.input.feed_rate  rougher.input.feed_size  \\\n",
       "0               2.284912               523.546326                55.486599   \n",
       "1               2.266033               525.290581                57.278666   \n",
       "2               2.159622               530.026610                57.510649   \n",
       "3               2.037807               542.590390                57.792734   \n",
       "4               1.786875               540.531893                56.047189   \n",
       "\n",
       "   rougher.input.feed_sol  rougher.input.feed_au  \\\n",
       "0               36.808594               6.486150   \n",
       "1               35.753385               6.478583   \n",
       "2               35.971630               6.362222   \n",
       "3               36.862241               6.118189   \n",
       "4               34.347666               5.663707   \n",
       "\n",
       "   rougher.input.floatbank10_sulfate  rougher.input.floatbank10_xanthate  \\\n",
       "0                          11.986616                            6.007990   \n",
       "1                          11.971193                            6.005766   \n",
       "2                          11.920603                            6.197377   \n",
       "3                          11.630094                            6.203177   \n",
       "4                          10.957755                            6.198826   \n",
       "\n",
       "   rougher.input.floatbank11_sulfate  rougher.input.floatbank11_xanthate  \\\n",
       "0                          11.836743                            6.005818   \n",
       "1                          11.996163                            6.012594   \n",
       "2                          11.920305                            6.204633   \n",
       "3                          11.692450                            6.196578   \n",
       "4                          10.960521                            6.194897   \n",
       "\n",
       "   rougher.output.concentrate_ag  rougher.output.concentrate_pb  \\\n",
       "0                      11.500771                       7.101074   \n",
       "1                      11.615865                       7.278807   \n",
       "2                      11.695753                       7.216833   \n",
       "3                      11.915047                       7.175616   \n",
       "4                      12.411054                       7.240205   \n",
       "\n",
       "   rougher.output.concentrate_sol  rougher.output.concentrate_au  \\\n",
       "0                       28.029297                      19.793808   \n",
       "1                       28.067063                      20.050975   \n",
       "2                       27.454037                      19.737170   \n",
       "3                       27.341277                      19.320810   \n",
       "4                       27.041023                      19.216101   \n",
       "\n",
       "   rougher.output.recovery  rougher.output.tail_ag  rougher.output.tail_pb  \\\n",
       "0                87.107763                5.008018                0.508728   \n",
       "1                86.843261                4.955378                0.536689   \n",
       "2                86.842308                4.843460                0.546416   \n",
       "3                87.226430                4.655288                0.542525   \n",
       "4                86.688794                4.552800                0.515438   \n",
       "\n",
       "   rougher.output.tail_sol  rougher.output.tail_au  \\\n",
       "0                19.154297                1.170244   \n",
       "1                18.965234                1.184827   \n",
       "2                18.808533                1.162562   \n",
       "3                19.330200                1.079755   \n",
       "4                19.267422                1.012642   \n",
       "\n",
       "   rougher.state.floatbank10_a_air  rougher.state.floatbank10_a_level  \\\n",
       "0                       999.706909                        -404.066986   \n",
       "1                      1000.286398                        -400.065196   \n",
       "2                       999.719565                        -400.074028   \n",
       "3                       999.814770                        -400.200179   \n",
       "4                       999.678690                        -399.752729   \n",
       "\n",
       "   rougher.state.floatbank10_b_air  rougher.state.floatbank10_b_level  \\\n",
       "0                      1603.011353                        -434.715027   \n",
       "1                      1600.754587                        -449.953435   \n",
       "2                      1599.337330                        -450.008530   \n",
       "3                      1600.059442                        -450.619948   \n",
       "4                      1600.208824                        -449.599614   \n",
       "\n",
       "   rougher.state.floatbank10_c_air  rougher.state.floatbank10_c_level  \\\n",
       "0                      1602.375000                        -442.204468   \n",
       "1                      1600.479580                        -449.830646   \n",
       "2                      1599.672797                        -449.954491   \n",
       "3                      1600.012842                        -449.910497   \n",
       "4                      1600.357732                        -450.034364   \n",
       "\n",
       "   rougher.state.floatbank10_d_air  rougher.state.floatbank10_d_level  \\\n",
       "0                      1598.937256                        -451.294128   \n",
       "1                      1600.527589                        -449.953649   \n",
       "2                      1599.849325                        -449.954185   \n",
       "3                      1597.725177                        -450.130127   \n",
       "4                      1599.759049                        -449.909799   \n",
       "\n",
       "   rougher.state.floatbank10_e_air  rougher.state.floatbank10_e_level  \\\n",
       "0                      1404.472046                        -455.462982   \n",
       "1                      1399.227084                        -450.869848   \n",
       "2                      1399.180945                        -449.937588   \n",
       "3                      1400.943157                        -450.030142   \n",
       "4                      1401.560902                        -448.877187   \n",
       "\n",
       "   rougher.state.floatbank10_f_air  rougher.state.floatbank10_f_level  \\\n",
       "0                      1416.354980                        -451.939636   \n",
       "1                      1399.719514                        -450.119001   \n",
       "2                      1400.316682                        -450.527147   \n",
       "3                      1400.234743                        -449.790835   \n",
       "4                      1401.160227                        -450.407128   \n",
       "\n",
       "   secondary_cleaner.output.tail_ag  secondary_cleaner.output.tail_pb  \\\n",
       "0                         14.500184                          4.694824   \n",
       "1                         14.265474                          4.592547   \n",
       "2                         14.115662                          4.624775   \n",
       "3                         13.732071                          4.482453   \n",
       "4                         14.079996                          4.470737   \n",
       "\n",
       "   secondary_cleaner.output.tail_sol  secondary_cleaner.output.tail_au  \\\n",
       "0                           8.764648                          2.606185   \n",
       "1                           9.001494                          2.488248   \n",
       "2                           8.842896                          2.458187   \n",
       "3                           9.122857                          2.322062   \n",
       "4                           8.871028                          2.330448   \n",
       "\n",
       "   secondary_cleaner.state.floatbank2_a_air  \\\n",
       "0                                 25.853109   \n",
       "1                                 25.880539   \n",
       "2                                 26.005245   \n",
       "3                                 25.942508   \n",
       "4                                 26.024787   \n",
       "\n",
       "   secondary_cleaner.state.floatbank2_a_level  \\\n",
       "0                                 -498.526489   \n",
       "1                                 -499.989656   \n",
       "2                                 -499.929616   \n",
       "3                                 -499.176749   \n",
       "4                                 -500.279091   \n",
       "\n",
       "   secondary_cleaner.state.floatbank2_b_air  \\\n",
       "0                                 23.893660   \n",
       "1                                 23.889530   \n",
       "2                                 23.886657   \n",
       "3                                 23.955516   \n",
       "4                                 23.955345   \n",
       "\n",
       "   secondary_cleaner.state.floatbank2_b_level  \\\n",
       "0                                 -501.406281   \n",
       "1                                 -500.372428   \n",
       "2                                 -499.951928   \n",
       "3                                 -499.848796   \n",
       "4                                 -500.593614   \n",
       "\n",
       "   secondary_cleaner.state.floatbank3_a_air  \\\n",
       "0                                 23.961798   \n",
       "1                                 23.970550   \n",
       "2                                 23.913535   \n",
       "3                                 23.966838   \n",
       "4                                 23.985703   \n",
       "\n",
       "   secondary_cleaner.state.floatbank3_a_level  \\\n",
       "0                                 -495.262817   \n",
       "1                                 -500.085473   \n",
       "2                                 -499.442343   \n",
       "3                                 -500.008812   \n",
       "4                                 -500.083811   \n",
       "\n",
       "   secondary_cleaner.state.floatbank3_b_air  \\\n",
       "0                                 21.940409   \n",
       "1                                 22.085714   \n",
       "2                                 23.957717   \n",
       "3                                 23.954443   \n",
       "4                                 23.958945   \n",
       "\n",
       "   secondary_cleaner.state.floatbank3_b_level  \\\n",
       "0                                 -499.340973   \n",
       "1                                 -499.446897   \n",
       "2                                 -499.901982   \n",
       "3                                 -499.944710   \n",
       "4                                 -499.990309   \n",
       "\n",
       "   secondary_cleaner.state.floatbank4_a_air  \\\n",
       "0                                 14.016835   \n",
       "1                                 13.992281   \n",
       "2                                 14.015015   \n",
       "3                                 14.036510   \n",
       "4                                 14.027298   \n",
       "\n",
       "   secondary_cleaner.state.floatbank4_a_level  \\\n",
       "0                                 -502.488007   \n",
       "1                                 -505.503262   \n",
       "2                                 -502.520901   \n",
       "3                                 -500.857308   \n",
       "4                                 -499.838632   \n",
       "\n",
       "   secondary_cleaner.state.floatbank4_b_air  \\\n",
       "0                                 12.099931   \n",
       "1                                 11.950531   \n",
       "2                                 11.912783   \n",
       "3                                 11.999550   \n",
       "4                                 11.953070   \n",
       "\n",
       "   secondary_cleaner.state.floatbank4_b_level  \\\n",
       "0                                 -504.715942   \n",
       "1                                 -501.331529   \n",
       "2                                 -501.133383   \n",
       "3                                 -501.193686   \n",
       "4                                 -501.053894   \n",
       "\n",
       "   secondary_cleaner.state.floatbank5_a_air  \\\n",
       "0                                  9.925633   \n",
       "1                                 10.039245   \n",
       "2                                 10.070913   \n",
       "3                                  9.970366   \n",
       "4                                  9.925709   \n",
       "\n",
       "   secondary_cleaner.state.floatbank5_a_level  \\\n",
       "0                                 -498.310211   \n",
       "1                                 -500.169983   \n",
       "2                                 -500.129135   \n",
       "3                                 -499.201640   \n",
       "4                                 -501.686727   \n",
       "\n",
       "   secondary_cleaner.state.floatbank5_b_air  \\\n",
       "0                                  8.079666   \n",
       "1                                  7.984757   \n",
       "2                                  8.013877   \n",
       "3                                  7.977324   \n",
       "4                                  7.894242   \n",
       "\n",
       "   secondary_cleaner.state.floatbank5_b_level  \\\n",
       "0                                 -500.470978   \n",
       "1                                 -500.582168   \n",
       "2                                 -500.517572   \n",
       "3                                 -500.255908   \n",
       "4                                 -500.356035   \n",
       "\n",
       "   secondary_cleaner.state.floatbank6_a_air  \\\n",
       "0                                 14.151341   \n",
       "1                                 13.998353   \n",
       "2                                 14.028663   \n",
       "3                                 14.005551   \n",
       "4                                 13.996647   \n",
       "\n",
       "   secondary_cleaner.state.floatbank6_a_level  \n",
       "0                                 -605.841980  \n",
       "1                                 -599.787184  \n",
       "2                                 -601.427363  \n",
       "3                                 -599.996129  \n",
       "4                                 -601.496691  "
      ]
     },
     "metadata": {},
     "output_type": "display_data"
    }
   ],
   "source": [
    "#прочтем файлы с данными, выведем на экран первые 5 строк каждой таблицы для ознакомления: \n",
    "train = pd.read_csv('/datasets/gold_recovery_train_new.csv')\n",
    "test = pd.read_csv('/datasets/gold_recovery_test_new.csv')\n",
    "full = pd.read_csv('/datasets/gold_recovery_full_new.csv')\n",
    "with pd.option_context('display.max_columns', None):\n",
    "    display('train:', train.head())\n",
    "    display('test:', test.head())\n",
    "    display('full:', full.head())"
   ]
  },
  {
   "cell_type": "markdown",
   "metadata": {},
   "source": [
    "Хочется отметить, что в таблицах разное количество колонок: в  train и full по 87, в  test - 53. \n",
    "\n",
    "Для понимания, какие данные содержатся в таблице приведем **описание данных**. \n",
    "\n",
    "Технологический процесс\n",
    "\n",
    "- Rougher feed — исходное сырье\n",
    "- Rougher additions (или reagent additions) — флотационные реагенты: Xanthate, Sulphate, Depressant\n",
    "    - Xanthate — ксантогенат (промотер, или активатор флотации);\n",
    "    - Sulphate — сульфат (на данном производстве сульфид натрия);\n",
    "    - Depressant — депрессант (силикат натрия).\n",
    "- Rougher process (англ. «грубый процесс») — флотация\n",
    "- Rougher tails — отвальные хвосты\n",
    "- Float banks — флотационная установка\n",
    "- Cleaner process — очистка\n",
    "- Rougher Au — черновой концентрат золота\n",
    "- Final Au — финальный концентрат золота\n",
    "\n",
    "Параметры этапов\n",
    "\n",
    "- air amount — объём воздуха\n",
    "- fluid levels — уровень жидкости\n",
    "- feed size — размер гранул сырья\n",
    "- feed rate — скорость подачи\n",
    "\n",
    "Наименование признаков\n",
    "Наименование признаков строится по типу:\n",
    "\n",
    "[этап].[тип_параметра].[название_параметра]\n",
    "\n",
    "Пример: rougher.input.feed_ag\n",
    "\n",
    "Возможные значения для блока [этап]:\n",
    "- rougher — флотация\n",
    "- primary_cleaner — первичная очистка\n",
    "- secondary_cleaner — вторичная очистка\n",
    "- final — финальные характеристики\n",
    "\n",
    "Возможные значения для блока [тип_параметра]:\n",
    "\n",
    "- input — параметры сырья\n",
    "- output — параметры продукта\n",
    "- state — параметры, характеризующие текущее состояние этапа\n",
    "- calculation — расчётные характеристики"
   ]
  },
  {
   "cell_type": "markdown",
   "metadata": {},
   "source": [
    "**Оценим пропуски**. \n",
    "\n",
    "Выведем на экран общую информацию о таблицах методом info()."
   ]
  },
  {
   "cell_type": "code",
   "execution_count": 50,
   "metadata": {},
   "outputs": [
    {
     "name": "stdout",
     "output_type": "stream",
     "text": [
      "<class 'pandas.core.frame.DataFrame'>\n",
      "RangeIndex: 19439 entries, 0 to 19438\n",
      "Data columns (total 87 columns):\n",
      "date                                                  19439 non-null object\n",
      "final.output.concentrate_ag                           19438 non-null float64\n",
      "final.output.concentrate_pb                           19438 non-null float64\n",
      "final.output.concentrate_sol                          19228 non-null float64\n",
      "final.output.concentrate_au                           19439 non-null float64\n",
      "final.output.recovery                                 19439 non-null float64\n",
      "final.output.tail_ag                                  19438 non-null float64\n",
      "final.output.tail_pb                                  19338 non-null float64\n",
      "final.output.tail_sol                                 19433 non-null float64\n",
      "final.output.tail_au                                  19439 non-null float64\n",
      "primary_cleaner.input.sulfate                         19415 non-null float64\n",
      "primary_cleaner.input.depressant                      19402 non-null float64\n",
      "primary_cleaner.input.feed_size                       19439 non-null float64\n",
      "primary_cleaner.input.xanthate                        19335 non-null float64\n",
      "primary_cleaner.output.concentrate_ag                 19439 non-null float64\n",
      "primary_cleaner.output.concentrate_pb                 19323 non-null float64\n",
      "primary_cleaner.output.concentrate_sol                19069 non-null float64\n",
      "primary_cleaner.output.concentrate_au                 19439 non-null float64\n",
      "primary_cleaner.output.tail_ag                        19435 non-null float64\n",
      "primary_cleaner.output.tail_pb                        19418 non-null float64\n",
      "primary_cleaner.output.tail_sol                       19377 non-null float64\n",
      "primary_cleaner.output.tail_au                        19439 non-null float64\n",
      "primary_cleaner.state.floatbank8_a_air                19435 non-null float64\n",
      "primary_cleaner.state.floatbank8_a_level              19438 non-null float64\n",
      "primary_cleaner.state.floatbank8_b_air                19435 non-null float64\n",
      "primary_cleaner.state.floatbank8_b_level              19438 non-null float64\n",
      "primary_cleaner.state.floatbank8_c_air                19437 non-null float64\n",
      "primary_cleaner.state.floatbank8_c_level              19438 non-null float64\n",
      "primary_cleaner.state.floatbank8_d_air                19436 non-null float64\n",
      "primary_cleaner.state.floatbank8_d_level              19438 non-null float64\n",
      "rougher.calculation.sulfate_to_au_concentrate         19437 non-null float64\n",
      "rougher.calculation.floatbank10_sulfate_to_au_feed    19437 non-null float64\n",
      "rougher.calculation.floatbank11_sulfate_to_au_feed    19437 non-null float64\n",
      "rougher.calculation.au_pb_ratio                       19439 non-null float64\n",
      "rougher.input.feed_ag                                 19439 non-null float64\n",
      "rougher.input.feed_pb                                 19339 non-null float64\n",
      "rougher.input.feed_rate                               19428 non-null float64\n",
      "rougher.input.feed_size                               19294 non-null float64\n",
      "rougher.input.feed_sol                                19340 non-null float64\n",
      "rougher.input.feed_au                                 19439 non-null float64\n",
      "rougher.input.floatbank10_sulfate                     19405 non-null float64\n",
      "rougher.input.floatbank10_xanthate                    19431 non-null float64\n",
      "rougher.input.floatbank11_sulfate                     19395 non-null float64\n",
      "rougher.input.floatbank11_xanthate                    18986 non-null float64\n",
      "rougher.output.concentrate_ag                         19439 non-null float64\n",
      "rougher.output.concentrate_pb                         19439 non-null float64\n",
      "rougher.output.concentrate_sol                        19416 non-null float64\n",
      "rougher.output.concentrate_au                         19439 non-null float64\n",
      "rougher.output.recovery                               19439 non-null float64\n",
      "rougher.output.tail_ag                                19438 non-null float64\n",
      "rougher.output.tail_pb                                19439 non-null float64\n",
      "rougher.output.tail_sol                               19439 non-null float64\n",
      "rougher.output.tail_au                                19439 non-null float64\n",
      "rougher.state.floatbank10_a_air                       19438 non-null float64\n",
      "rougher.state.floatbank10_a_level                     19438 non-null float64\n",
      "rougher.state.floatbank10_b_air                       19438 non-null float64\n",
      "rougher.state.floatbank10_b_level                     19438 non-null float64\n",
      "rougher.state.floatbank10_c_air                       19438 non-null float64\n",
      "rougher.state.floatbank10_c_level                     19438 non-null float64\n",
      "rougher.state.floatbank10_d_air                       19439 non-null float64\n",
      "rougher.state.floatbank10_d_level                     19439 non-null float64\n",
      "rougher.state.floatbank10_e_air                       19003 non-null float64\n",
      "rougher.state.floatbank10_e_level                     19439 non-null float64\n",
      "rougher.state.floatbank10_f_air                       19439 non-null float64\n",
      "rougher.state.floatbank10_f_level                     19439 non-null float64\n",
      "secondary_cleaner.output.tail_ag                      19437 non-null float64\n",
      "secondary_cleaner.output.tail_pb                      19427 non-null float64\n",
      "secondary_cleaner.output.tail_sol                     17691 non-null float64\n",
      "secondary_cleaner.output.tail_au                      19439 non-null float64\n",
      "secondary_cleaner.state.floatbank2_a_air              19219 non-null float64\n",
      "secondary_cleaner.state.floatbank2_a_level            19438 non-null float64\n",
      "secondary_cleaner.state.floatbank2_b_air              19416 non-null float64\n",
      "secondary_cleaner.state.floatbank2_b_level            19438 non-null float64\n",
      "secondary_cleaner.state.floatbank3_a_air              19426 non-null float64\n",
      "secondary_cleaner.state.floatbank3_a_level            19438 non-null float64\n",
      "secondary_cleaner.state.floatbank3_b_air              19438 non-null float64\n",
      "secondary_cleaner.state.floatbank3_b_level            19438 non-null float64\n",
      "secondary_cleaner.state.floatbank4_a_air              19433 non-null float64\n",
      "secondary_cleaner.state.floatbank4_a_level            19438 non-null float64\n",
      "secondary_cleaner.state.floatbank4_b_air              19438 non-null float64\n",
      "secondary_cleaner.state.floatbank4_b_level            19438 non-null float64\n",
      "secondary_cleaner.state.floatbank5_a_air              19438 non-null float64\n",
      "secondary_cleaner.state.floatbank5_a_level            19438 non-null float64\n",
      "secondary_cleaner.state.floatbank5_b_air              19438 non-null float64\n",
      "secondary_cleaner.state.floatbank5_b_level            19438 non-null float64\n",
      "secondary_cleaner.state.floatbank6_a_air              19437 non-null float64\n",
      "secondary_cleaner.state.floatbank6_a_level            19438 non-null float64\n",
      "dtypes: float64(86), object(1)\n",
      "memory usage: 12.9+ MB\n"
     ]
    }
   ],
   "source": [
    "full.info()"
   ]
  },
  {
   "cell_type": "code",
   "execution_count": 51,
   "metadata": {},
   "outputs": [
    {
     "name": "stdout",
     "output_type": "stream",
     "text": [
      "<class 'pandas.core.frame.DataFrame'>\n",
      "RangeIndex: 5290 entries, 0 to 5289\n",
      "Data columns (total 53 columns):\n",
      "date                                          5290 non-null object\n",
      "primary_cleaner.input.sulfate                 5286 non-null float64\n",
      "primary_cleaner.input.depressant              5285 non-null float64\n",
      "primary_cleaner.input.feed_size               5290 non-null float64\n",
      "primary_cleaner.input.xanthate                5286 non-null float64\n",
      "primary_cleaner.state.floatbank8_a_air        5290 non-null float64\n",
      "primary_cleaner.state.floatbank8_a_level      5290 non-null float64\n",
      "primary_cleaner.state.floatbank8_b_air        5290 non-null float64\n",
      "primary_cleaner.state.floatbank8_b_level      5290 non-null float64\n",
      "primary_cleaner.state.floatbank8_c_air        5290 non-null float64\n",
      "primary_cleaner.state.floatbank8_c_level      5290 non-null float64\n",
      "primary_cleaner.state.floatbank8_d_air        5290 non-null float64\n",
      "primary_cleaner.state.floatbank8_d_level      5290 non-null float64\n",
      "rougher.input.feed_ag                         5290 non-null float64\n",
      "rougher.input.feed_pb                         5290 non-null float64\n",
      "rougher.input.feed_rate                       5287 non-null float64\n",
      "rougher.input.feed_size                       5289 non-null float64\n",
      "rougher.input.feed_sol                        5269 non-null float64\n",
      "rougher.input.feed_au                         5290 non-null float64\n",
      "rougher.input.floatbank10_sulfate             5285 non-null float64\n",
      "rougher.input.floatbank10_xanthate            5290 non-null float64\n",
      "rougher.input.floatbank11_sulfate             5282 non-null float64\n",
      "rougher.input.floatbank11_xanthate            5265 non-null float64\n",
      "rougher.state.floatbank10_a_air               5290 non-null float64\n",
      "rougher.state.floatbank10_a_level             5290 non-null float64\n",
      "rougher.state.floatbank10_b_air               5290 non-null float64\n",
      "rougher.state.floatbank10_b_level             5290 non-null float64\n",
      "rougher.state.floatbank10_c_air               5290 non-null float64\n",
      "rougher.state.floatbank10_c_level             5290 non-null float64\n",
      "rougher.state.floatbank10_d_air               5290 non-null float64\n",
      "rougher.state.floatbank10_d_level             5290 non-null float64\n",
      "rougher.state.floatbank10_e_air               5290 non-null float64\n",
      "rougher.state.floatbank10_e_level             5290 non-null float64\n",
      "rougher.state.floatbank10_f_air               5290 non-null float64\n",
      "rougher.state.floatbank10_f_level             5290 non-null float64\n",
      "secondary_cleaner.state.floatbank2_a_air      5287 non-null float64\n",
      "secondary_cleaner.state.floatbank2_a_level    5290 non-null float64\n",
      "secondary_cleaner.state.floatbank2_b_air      5288 non-null float64\n",
      "secondary_cleaner.state.floatbank2_b_level    5290 non-null float64\n",
      "secondary_cleaner.state.floatbank3_a_air      5281 non-null float64\n",
      "secondary_cleaner.state.floatbank3_a_level    5290 non-null float64\n",
      "secondary_cleaner.state.floatbank3_b_air      5290 non-null float64\n",
      "secondary_cleaner.state.floatbank3_b_level    5290 non-null float64\n",
      "secondary_cleaner.state.floatbank4_a_air      5290 non-null float64\n",
      "secondary_cleaner.state.floatbank4_a_level    5290 non-null float64\n",
      "secondary_cleaner.state.floatbank4_b_air      5290 non-null float64\n",
      "secondary_cleaner.state.floatbank4_b_level    5290 non-null float64\n",
      "secondary_cleaner.state.floatbank5_a_air      5290 non-null float64\n",
      "secondary_cleaner.state.floatbank5_a_level    5290 non-null float64\n",
      "secondary_cleaner.state.floatbank5_b_air      5290 non-null float64\n",
      "secondary_cleaner.state.floatbank5_b_level    5290 non-null float64\n",
      "secondary_cleaner.state.floatbank6_a_air      5290 non-null float64\n",
      "secondary_cleaner.state.floatbank6_a_level    5290 non-null float64\n",
      "dtypes: float64(52), object(1)\n",
      "memory usage: 2.1+ MB\n"
     ]
    }
   ],
   "source": [
    "test.info()"
   ]
  },
  {
   "cell_type": "code",
   "execution_count": 52,
   "metadata": {},
   "outputs": [
    {
     "name": "stdout",
     "output_type": "stream",
     "text": [
      "<class 'pandas.core.frame.DataFrame'>\n",
      "RangeIndex: 14149 entries, 0 to 14148\n",
      "Data columns (total 87 columns):\n",
      "date                                                  14149 non-null object\n",
      "final.output.concentrate_ag                           14148 non-null float64\n",
      "final.output.concentrate_pb                           14148 non-null float64\n",
      "final.output.concentrate_sol                          13938 non-null float64\n",
      "final.output.concentrate_au                           14149 non-null float64\n",
      "final.output.recovery                                 14149 non-null float64\n",
      "final.output.tail_ag                                  14149 non-null float64\n",
      "final.output.tail_pb                                  14049 non-null float64\n",
      "final.output.tail_sol                                 14144 non-null float64\n",
      "final.output.tail_au                                  14149 non-null float64\n",
      "primary_cleaner.input.sulfate                         14129 non-null float64\n",
      "primary_cleaner.input.depressant                      14117 non-null float64\n",
      "primary_cleaner.input.feed_size                       14149 non-null float64\n",
      "primary_cleaner.input.xanthate                        14049 non-null float64\n",
      "primary_cleaner.output.concentrate_ag                 14149 non-null float64\n",
      "primary_cleaner.output.concentrate_pb                 14063 non-null float64\n",
      "primary_cleaner.output.concentrate_sol                13863 non-null float64\n",
      "primary_cleaner.output.concentrate_au                 14149 non-null float64\n",
      "primary_cleaner.output.tail_ag                        14148 non-null float64\n",
      "primary_cleaner.output.tail_pb                        14134 non-null float64\n",
      "primary_cleaner.output.tail_sol                       14103 non-null float64\n",
      "primary_cleaner.output.tail_au                        14149 non-null float64\n",
      "primary_cleaner.state.floatbank8_a_air                14145 non-null float64\n",
      "primary_cleaner.state.floatbank8_a_level              14148 non-null float64\n",
      "primary_cleaner.state.floatbank8_b_air                14145 non-null float64\n",
      "primary_cleaner.state.floatbank8_b_level              14148 non-null float64\n",
      "primary_cleaner.state.floatbank8_c_air                14147 non-null float64\n",
      "primary_cleaner.state.floatbank8_c_level              14148 non-null float64\n",
      "primary_cleaner.state.floatbank8_d_air                14146 non-null float64\n",
      "primary_cleaner.state.floatbank8_d_level              14148 non-null float64\n",
      "rougher.calculation.sulfate_to_au_concentrate         14148 non-null float64\n",
      "rougher.calculation.floatbank10_sulfate_to_au_feed    14148 non-null float64\n",
      "rougher.calculation.floatbank11_sulfate_to_au_feed    14148 non-null float64\n",
      "rougher.calculation.au_pb_ratio                       14149 non-null float64\n",
      "rougher.input.feed_ag                                 14149 non-null float64\n",
      "rougher.input.feed_pb                                 14049 non-null float64\n",
      "rougher.input.feed_rate                               14141 non-null float64\n",
      "rougher.input.feed_size                               14005 non-null float64\n",
      "rougher.input.feed_sol                                14071 non-null float64\n",
      "rougher.input.feed_au                                 14149 non-null float64\n",
      "rougher.input.floatbank10_sulfate                     14120 non-null float64\n",
      "rougher.input.floatbank10_xanthate                    14141 non-null float64\n",
      "rougher.input.floatbank11_sulfate                     14113 non-null float64\n",
      "rougher.input.floatbank11_xanthate                    13721 non-null float64\n",
      "rougher.output.concentrate_ag                         14149 non-null float64\n",
      "rougher.output.concentrate_pb                         14149 non-null float64\n",
      "rougher.output.concentrate_sol                        14127 non-null float64\n",
      "rougher.output.concentrate_au                         14149 non-null float64\n",
      "rougher.output.recovery                               14149 non-null float64\n",
      "rougher.output.tail_ag                                14148 non-null float64\n",
      "rougher.output.tail_pb                                14149 non-null float64\n",
      "rougher.output.tail_sol                               14149 non-null float64\n",
      "rougher.output.tail_au                                14149 non-null float64\n",
      "rougher.state.floatbank10_a_air                       14148 non-null float64\n",
      "rougher.state.floatbank10_a_level                     14148 non-null float64\n",
      "rougher.state.floatbank10_b_air                       14148 non-null float64\n",
      "rougher.state.floatbank10_b_level                     14148 non-null float64\n",
      "rougher.state.floatbank10_c_air                       14148 non-null float64\n",
      "rougher.state.floatbank10_c_level                     14148 non-null float64\n",
      "rougher.state.floatbank10_d_air                       14149 non-null float64\n",
      "rougher.state.floatbank10_d_level                     14149 non-null float64\n",
      "rougher.state.floatbank10_e_air                       13713 non-null float64\n",
      "rougher.state.floatbank10_e_level                     14149 non-null float64\n",
      "rougher.state.floatbank10_f_air                       14149 non-null float64\n",
      "rougher.state.floatbank10_f_level                     14149 non-null float64\n",
      "secondary_cleaner.output.tail_ag                      14147 non-null float64\n",
      "secondary_cleaner.output.tail_pb                      14139 non-null float64\n",
      "secondary_cleaner.output.tail_sol                     12544 non-null float64\n",
      "secondary_cleaner.output.tail_au                      14149 non-null float64\n",
      "secondary_cleaner.state.floatbank2_a_air              13932 non-null float64\n",
      "secondary_cleaner.state.floatbank2_a_level            14148 non-null float64\n",
      "secondary_cleaner.state.floatbank2_b_air              14128 non-null float64\n",
      "secondary_cleaner.state.floatbank2_b_level            14148 non-null float64\n",
      "secondary_cleaner.state.floatbank3_a_air              14145 non-null float64\n",
      "secondary_cleaner.state.floatbank3_a_level            14148 non-null float64\n",
      "secondary_cleaner.state.floatbank3_b_air              14148 non-null float64\n",
      "secondary_cleaner.state.floatbank3_b_level            14148 non-null float64\n",
      "secondary_cleaner.state.floatbank4_a_air              14143 non-null float64\n",
      "secondary_cleaner.state.floatbank4_a_level            14148 non-null float64\n",
      "secondary_cleaner.state.floatbank4_b_air              14148 non-null float64\n",
      "secondary_cleaner.state.floatbank4_b_level            14148 non-null float64\n",
      "secondary_cleaner.state.floatbank5_a_air              14148 non-null float64\n",
      "secondary_cleaner.state.floatbank5_a_level            14148 non-null float64\n",
      "secondary_cleaner.state.floatbank5_b_air              14148 non-null float64\n",
      "secondary_cleaner.state.floatbank5_b_level            14148 non-null float64\n",
      "secondary_cleaner.state.floatbank6_a_air              14147 non-null float64\n",
      "secondary_cleaner.state.floatbank6_a_level            14148 non-null float64\n",
      "dtypes: float64(86), object(1)\n",
      "memory usage: 9.4+ MB\n"
     ]
    }
   ],
   "source": [
    "train.info()"
   ]
  },
  {
   "cell_type": "markdown",
   "metadata": {},
   "source": [
    "Для наглядности приведем таблицу, в которой подсчитаем количество значений в каждой колонке по нашим трем исходным таблицам."
   ]
  },
  {
   "cell_type": "code",
   "execution_count": 53,
   "metadata": {},
   "outputs": [
    {
     "data": {
      "text/html": [
       "<div>\n",
       "<style scoped>\n",
       "    .dataframe tbody tr th:only-of-type {\n",
       "        vertical-align: middle;\n",
       "    }\n",
       "\n",
       "    .dataframe tbody tr th {\n",
       "        vertical-align: top;\n",
       "    }\n",
       "\n",
       "    .dataframe thead th {\n",
       "        text-align: right;\n",
       "    }\n",
       "</style>\n",
       "<table border=\"1\" class=\"dataframe\">\n",
       "  <thead>\n",
       "    <tr style=\"text-align: right;\">\n",
       "      <th></th>\n",
       "      <th>test</th>\n",
       "      <th>train</th>\n",
       "      <th>full</th>\n",
       "    </tr>\n",
       "  </thead>\n",
       "  <tbody>\n",
       "    <tr>\n",
       "      <td>date</td>\n",
       "      <td>5290.0</td>\n",
       "      <td>14149</td>\n",
       "      <td>19439</td>\n",
       "    </tr>\n",
       "    <tr>\n",
       "      <td>primary_cleaner.input.sulfate</td>\n",
       "      <td>5286.0</td>\n",
       "      <td>14129</td>\n",
       "      <td>19415</td>\n",
       "    </tr>\n",
       "    <tr>\n",
       "      <td>primary_cleaner.input.depressant</td>\n",
       "      <td>5285.0</td>\n",
       "      <td>14117</td>\n",
       "      <td>19402</td>\n",
       "    </tr>\n",
       "    <tr>\n",
       "      <td>primary_cleaner.input.feed_size</td>\n",
       "      <td>5290.0</td>\n",
       "      <td>14149</td>\n",
       "      <td>19439</td>\n",
       "    </tr>\n",
       "    <tr>\n",
       "      <td>primary_cleaner.input.xanthate</td>\n",
       "      <td>5286.0</td>\n",
       "      <td>14049</td>\n",
       "      <td>19335</td>\n",
       "    </tr>\n",
       "    <tr>\n",
       "      <td>primary_cleaner.state.floatbank8_a_air</td>\n",
       "      <td>5290.0</td>\n",
       "      <td>14145</td>\n",
       "      <td>19435</td>\n",
       "    </tr>\n",
       "    <tr>\n",
       "      <td>primary_cleaner.state.floatbank8_a_level</td>\n",
       "      <td>5290.0</td>\n",
       "      <td>14148</td>\n",
       "      <td>19438</td>\n",
       "    </tr>\n",
       "    <tr>\n",
       "      <td>primary_cleaner.state.floatbank8_b_air</td>\n",
       "      <td>5290.0</td>\n",
       "      <td>14145</td>\n",
       "      <td>19435</td>\n",
       "    </tr>\n",
       "    <tr>\n",
       "      <td>primary_cleaner.state.floatbank8_b_level</td>\n",
       "      <td>5290.0</td>\n",
       "      <td>14148</td>\n",
       "      <td>19438</td>\n",
       "    </tr>\n",
       "    <tr>\n",
       "      <td>primary_cleaner.state.floatbank8_c_air</td>\n",
       "      <td>5290.0</td>\n",
       "      <td>14147</td>\n",
       "      <td>19437</td>\n",
       "    </tr>\n",
       "    <tr>\n",
       "      <td>primary_cleaner.state.floatbank8_c_level</td>\n",
       "      <td>5290.0</td>\n",
       "      <td>14148</td>\n",
       "      <td>19438</td>\n",
       "    </tr>\n",
       "    <tr>\n",
       "      <td>primary_cleaner.state.floatbank8_d_air</td>\n",
       "      <td>5290.0</td>\n",
       "      <td>14146</td>\n",
       "      <td>19436</td>\n",
       "    </tr>\n",
       "    <tr>\n",
       "      <td>primary_cleaner.state.floatbank8_d_level</td>\n",
       "      <td>5290.0</td>\n",
       "      <td>14148</td>\n",
       "      <td>19438</td>\n",
       "    </tr>\n",
       "    <tr>\n",
       "      <td>rougher.input.feed_ag</td>\n",
       "      <td>5290.0</td>\n",
       "      <td>14149</td>\n",
       "      <td>19439</td>\n",
       "    </tr>\n",
       "    <tr>\n",
       "      <td>rougher.input.feed_pb</td>\n",
       "      <td>5290.0</td>\n",
       "      <td>14049</td>\n",
       "      <td>19339</td>\n",
       "    </tr>\n",
       "    <tr>\n",
       "      <td>rougher.input.feed_rate</td>\n",
       "      <td>5287.0</td>\n",
       "      <td>14141</td>\n",
       "      <td>19428</td>\n",
       "    </tr>\n",
       "    <tr>\n",
       "      <td>rougher.input.feed_size</td>\n",
       "      <td>5289.0</td>\n",
       "      <td>14005</td>\n",
       "      <td>19294</td>\n",
       "    </tr>\n",
       "    <tr>\n",
       "      <td>rougher.input.feed_sol</td>\n",
       "      <td>5269.0</td>\n",
       "      <td>14071</td>\n",
       "      <td>19340</td>\n",
       "    </tr>\n",
       "    <tr>\n",
       "      <td>rougher.input.feed_au</td>\n",
       "      <td>5290.0</td>\n",
       "      <td>14149</td>\n",
       "      <td>19439</td>\n",
       "    </tr>\n",
       "    <tr>\n",
       "      <td>rougher.input.floatbank10_sulfate</td>\n",
       "      <td>5285.0</td>\n",
       "      <td>14120</td>\n",
       "      <td>19405</td>\n",
       "    </tr>\n",
       "    <tr>\n",
       "      <td>rougher.input.floatbank10_xanthate</td>\n",
       "      <td>5290.0</td>\n",
       "      <td>14141</td>\n",
       "      <td>19431</td>\n",
       "    </tr>\n",
       "    <tr>\n",
       "      <td>rougher.input.floatbank11_sulfate</td>\n",
       "      <td>5282.0</td>\n",
       "      <td>14113</td>\n",
       "      <td>19395</td>\n",
       "    </tr>\n",
       "    <tr>\n",
       "      <td>rougher.input.floatbank11_xanthate</td>\n",
       "      <td>5265.0</td>\n",
       "      <td>13721</td>\n",
       "      <td>18986</td>\n",
       "    </tr>\n",
       "    <tr>\n",
       "      <td>rougher.state.floatbank10_a_air</td>\n",
       "      <td>5290.0</td>\n",
       "      <td>14148</td>\n",
       "      <td>19438</td>\n",
       "    </tr>\n",
       "    <tr>\n",
       "      <td>rougher.state.floatbank10_a_level</td>\n",
       "      <td>5290.0</td>\n",
       "      <td>14148</td>\n",
       "      <td>19438</td>\n",
       "    </tr>\n",
       "    <tr>\n",
       "      <td>rougher.state.floatbank10_b_air</td>\n",
       "      <td>5290.0</td>\n",
       "      <td>14148</td>\n",
       "      <td>19438</td>\n",
       "    </tr>\n",
       "    <tr>\n",
       "      <td>rougher.state.floatbank10_b_level</td>\n",
       "      <td>5290.0</td>\n",
       "      <td>14148</td>\n",
       "      <td>19438</td>\n",
       "    </tr>\n",
       "    <tr>\n",
       "      <td>rougher.state.floatbank10_c_air</td>\n",
       "      <td>5290.0</td>\n",
       "      <td>14148</td>\n",
       "      <td>19438</td>\n",
       "    </tr>\n",
       "    <tr>\n",
       "      <td>rougher.state.floatbank10_c_level</td>\n",
       "      <td>5290.0</td>\n",
       "      <td>14148</td>\n",
       "      <td>19438</td>\n",
       "    </tr>\n",
       "    <tr>\n",
       "      <td>rougher.state.floatbank10_d_air</td>\n",
       "      <td>5290.0</td>\n",
       "      <td>14149</td>\n",
       "      <td>19439</td>\n",
       "    </tr>\n",
       "    <tr>\n",
       "      <td>rougher.state.floatbank10_d_level</td>\n",
       "      <td>5290.0</td>\n",
       "      <td>14149</td>\n",
       "      <td>19439</td>\n",
       "    </tr>\n",
       "    <tr>\n",
       "      <td>rougher.state.floatbank10_e_air</td>\n",
       "      <td>5290.0</td>\n",
       "      <td>13713</td>\n",
       "      <td>19003</td>\n",
       "    </tr>\n",
       "    <tr>\n",
       "      <td>rougher.state.floatbank10_e_level</td>\n",
       "      <td>5290.0</td>\n",
       "      <td>14149</td>\n",
       "      <td>19439</td>\n",
       "    </tr>\n",
       "    <tr>\n",
       "      <td>rougher.state.floatbank10_f_air</td>\n",
       "      <td>5290.0</td>\n",
       "      <td>14149</td>\n",
       "      <td>19439</td>\n",
       "    </tr>\n",
       "    <tr>\n",
       "      <td>rougher.state.floatbank10_f_level</td>\n",
       "      <td>5290.0</td>\n",
       "      <td>14149</td>\n",
       "      <td>19439</td>\n",
       "    </tr>\n",
       "    <tr>\n",
       "      <td>secondary_cleaner.state.floatbank2_a_air</td>\n",
       "      <td>5287.0</td>\n",
       "      <td>13932</td>\n",
       "      <td>19219</td>\n",
       "    </tr>\n",
       "    <tr>\n",
       "      <td>secondary_cleaner.state.floatbank2_a_level</td>\n",
       "      <td>5290.0</td>\n",
       "      <td>14148</td>\n",
       "      <td>19438</td>\n",
       "    </tr>\n",
       "    <tr>\n",
       "      <td>secondary_cleaner.state.floatbank2_b_air</td>\n",
       "      <td>5288.0</td>\n",
       "      <td>14128</td>\n",
       "      <td>19416</td>\n",
       "    </tr>\n",
       "    <tr>\n",
       "      <td>secondary_cleaner.state.floatbank2_b_level</td>\n",
       "      <td>5290.0</td>\n",
       "      <td>14148</td>\n",
       "      <td>19438</td>\n",
       "    </tr>\n",
       "    <tr>\n",
       "      <td>secondary_cleaner.state.floatbank3_a_air</td>\n",
       "      <td>5281.0</td>\n",
       "      <td>14145</td>\n",
       "      <td>19426</td>\n",
       "    </tr>\n",
       "    <tr>\n",
       "      <td>secondary_cleaner.state.floatbank3_a_level</td>\n",
       "      <td>5290.0</td>\n",
       "      <td>14148</td>\n",
       "      <td>19438</td>\n",
       "    </tr>\n",
       "    <tr>\n",
       "      <td>secondary_cleaner.state.floatbank3_b_air</td>\n",
       "      <td>5290.0</td>\n",
       "      <td>14148</td>\n",
       "      <td>19438</td>\n",
       "    </tr>\n",
       "    <tr>\n",
       "      <td>secondary_cleaner.state.floatbank3_b_level</td>\n",
       "      <td>5290.0</td>\n",
       "      <td>14148</td>\n",
       "      <td>19438</td>\n",
       "    </tr>\n",
       "    <tr>\n",
       "      <td>secondary_cleaner.state.floatbank4_a_air</td>\n",
       "      <td>5290.0</td>\n",
       "      <td>14143</td>\n",
       "      <td>19433</td>\n",
       "    </tr>\n",
       "    <tr>\n",
       "      <td>secondary_cleaner.state.floatbank4_a_level</td>\n",
       "      <td>5290.0</td>\n",
       "      <td>14148</td>\n",
       "      <td>19438</td>\n",
       "    </tr>\n",
       "    <tr>\n",
       "      <td>secondary_cleaner.state.floatbank4_b_air</td>\n",
       "      <td>5290.0</td>\n",
       "      <td>14148</td>\n",
       "      <td>19438</td>\n",
       "    </tr>\n",
       "    <tr>\n",
       "      <td>secondary_cleaner.state.floatbank4_b_level</td>\n",
       "      <td>5290.0</td>\n",
       "      <td>14148</td>\n",
       "      <td>19438</td>\n",
       "    </tr>\n",
       "    <tr>\n",
       "      <td>secondary_cleaner.state.floatbank5_a_air</td>\n",
       "      <td>5290.0</td>\n",
       "      <td>14148</td>\n",
       "      <td>19438</td>\n",
       "    </tr>\n",
       "    <tr>\n",
       "      <td>secondary_cleaner.state.floatbank5_a_level</td>\n",
       "      <td>5290.0</td>\n",
       "      <td>14148</td>\n",
       "      <td>19438</td>\n",
       "    </tr>\n",
       "    <tr>\n",
       "      <td>secondary_cleaner.state.floatbank5_b_air</td>\n",
       "      <td>5290.0</td>\n",
       "      <td>14148</td>\n",
       "      <td>19438</td>\n",
       "    </tr>\n",
       "    <tr>\n",
       "      <td>secondary_cleaner.state.floatbank5_b_level</td>\n",
       "      <td>5290.0</td>\n",
       "      <td>14148</td>\n",
       "      <td>19438</td>\n",
       "    </tr>\n",
       "    <tr>\n",
       "      <td>secondary_cleaner.state.floatbank6_a_air</td>\n",
       "      <td>5290.0</td>\n",
       "      <td>14147</td>\n",
       "      <td>19437</td>\n",
       "    </tr>\n",
       "    <tr>\n",
       "      <td>secondary_cleaner.state.floatbank6_a_level</td>\n",
       "      <td>5290.0</td>\n",
       "      <td>14148</td>\n",
       "      <td>19438</td>\n",
       "    </tr>\n",
       "    <tr>\n",
       "      <td>final.output.concentrate_ag</td>\n",
       "      <td>NaN</td>\n",
       "      <td>14148</td>\n",
       "      <td>19438</td>\n",
       "    </tr>\n",
       "    <tr>\n",
       "      <td>final.output.concentrate_pb</td>\n",
       "      <td>NaN</td>\n",
       "      <td>14148</td>\n",
       "      <td>19438</td>\n",
       "    </tr>\n",
       "    <tr>\n",
       "      <td>final.output.concentrate_sol</td>\n",
       "      <td>NaN</td>\n",
       "      <td>13938</td>\n",
       "      <td>19228</td>\n",
       "    </tr>\n",
       "    <tr>\n",
       "      <td>final.output.concentrate_au</td>\n",
       "      <td>NaN</td>\n",
       "      <td>14149</td>\n",
       "      <td>19439</td>\n",
       "    </tr>\n",
       "    <tr>\n",
       "      <td>final.output.recovery</td>\n",
       "      <td>NaN</td>\n",
       "      <td>14149</td>\n",
       "      <td>19439</td>\n",
       "    </tr>\n",
       "    <tr>\n",
       "      <td>final.output.tail_ag</td>\n",
       "      <td>NaN</td>\n",
       "      <td>14149</td>\n",
       "      <td>19438</td>\n",
       "    </tr>\n",
       "    <tr>\n",
       "      <td>final.output.tail_pb</td>\n",
       "      <td>NaN</td>\n",
       "      <td>14049</td>\n",
       "      <td>19338</td>\n",
       "    </tr>\n",
       "    <tr>\n",
       "      <td>final.output.tail_sol</td>\n",
       "      <td>NaN</td>\n",
       "      <td>14144</td>\n",
       "      <td>19433</td>\n",
       "    </tr>\n",
       "    <tr>\n",
       "      <td>final.output.tail_au</td>\n",
       "      <td>NaN</td>\n",
       "      <td>14149</td>\n",
       "      <td>19439</td>\n",
       "    </tr>\n",
       "    <tr>\n",
       "      <td>primary_cleaner.output.concentrate_ag</td>\n",
       "      <td>NaN</td>\n",
       "      <td>14149</td>\n",
       "      <td>19439</td>\n",
       "    </tr>\n",
       "    <tr>\n",
       "      <td>primary_cleaner.output.concentrate_pb</td>\n",
       "      <td>NaN</td>\n",
       "      <td>14063</td>\n",
       "      <td>19323</td>\n",
       "    </tr>\n",
       "    <tr>\n",
       "      <td>primary_cleaner.output.concentrate_sol</td>\n",
       "      <td>NaN</td>\n",
       "      <td>13863</td>\n",
       "      <td>19069</td>\n",
       "    </tr>\n",
       "    <tr>\n",
       "      <td>primary_cleaner.output.concentrate_au</td>\n",
       "      <td>NaN</td>\n",
       "      <td>14149</td>\n",
       "      <td>19439</td>\n",
       "    </tr>\n",
       "    <tr>\n",
       "      <td>primary_cleaner.output.tail_ag</td>\n",
       "      <td>NaN</td>\n",
       "      <td>14148</td>\n",
       "      <td>19435</td>\n",
       "    </tr>\n",
       "    <tr>\n",
       "      <td>primary_cleaner.output.tail_pb</td>\n",
       "      <td>NaN</td>\n",
       "      <td>14134</td>\n",
       "      <td>19418</td>\n",
       "    </tr>\n",
       "    <tr>\n",
       "      <td>primary_cleaner.output.tail_sol</td>\n",
       "      <td>NaN</td>\n",
       "      <td>14103</td>\n",
       "      <td>19377</td>\n",
       "    </tr>\n",
       "    <tr>\n",
       "      <td>primary_cleaner.output.tail_au</td>\n",
       "      <td>NaN</td>\n",
       "      <td>14149</td>\n",
       "      <td>19439</td>\n",
       "    </tr>\n",
       "    <tr>\n",
       "      <td>rougher.calculation.sulfate_to_au_concentrate</td>\n",
       "      <td>NaN</td>\n",
       "      <td>14148</td>\n",
       "      <td>19437</td>\n",
       "    </tr>\n",
       "    <tr>\n",
       "      <td>rougher.calculation.floatbank10_sulfate_to_au_feed</td>\n",
       "      <td>NaN</td>\n",
       "      <td>14148</td>\n",
       "      <td>19437</td>\n",
       "    </tr>\n",
       "    <tr>\n",
       "      <td>rougher.calculation.floatbank11_sulfate_to_au_feed</td>\n",
       "      <td>NaN</td>\n",
       "      <td>14148</td>\n",
       "      <td>19437</td>\n",
       "    </tr>\n",
       "    <tr>\n",
       "      <td>rougher.calculation.au_pb_ratio</td>\n",
       "      <td>NaN</td>\n",
       "      <td>14149</td>\n",
       "      <td>19439</td>\n",
       "    </tr>\n",
       "    <tr>\n",
       "      <td>rougher.output.concentrate_ag</td>\n",
       "      <td>NaN</td>\n",
       "      <td>14149</td>\n",
       "      <td>19439</td>\n",
       "    </tr>\n",
       "    <tr>\n",
       "      <td>rougher.output.concentrate_pb</td>\n",
       "      <td>NaN</td>\n",
       "      <td>14149</td>\n",
       "      <td>19439</td>\n",
       "    </tr>\n",
       "    <tr>\n",
       "      <td>rougher.output.concentrate_sol</td>\n",
       "      <td>NaN</td>\n",
       "      <td>14127</td>\n",
       "      <td>19416</td>\n",
       "    </tr>\n",
       "    <tr>\n",
       "      <td>rougher.output.concentrate_au</td>\n",
       "      <td>NaN</td>\n",
       "      <td>14149</td>\n",
       "      <td>19439</td>\n",
       "    </tr>\n",
       "    <tr>\n",
       "      <td>rougher.output.recovery</td>\n",
       "      <td>NaN</td>\n",
       "      <td>14149</td>\n",
       "      <td>19439</td>\n",
       "    </tr>\n",
       "    <tr>\n",
       "      <td>rougher.output.tail_ag</td>\n",
       "      <td>NaN</td>\n",
       "      <td>14148</td>\n",
       "      <td>19438</td>\n",
       "    </tr>\n",
       "    <tr>\n",
       "      <td>rougher.output.tail_pb</td>\n",
       "      <td>NaN</td>\n",
       "      <td>14149</td>\n",
       "      <td>19439</td>\n",
       "    </tr>\n",
       "    <tr>\n",
       "      <td>rougher.output.tail_sol</td>\n",
       "      <td>NaN</td>\n",
       "      <td>14149</td>\n",
       "      <td>19439</td>\n",
       "    </tr>\n",
       "    <tr>\n",
       "      <td>rougher.output.tail_au</td>\n",
       "      <td>NaN</td>\n",
       "      <td>14149</td>\n",
       "      <td>19439</td>\n",
       "    </tr>\n",
       "    <tr>\n",
       "      <td>secondary_cleaner.output.tail_ag</td>\n",
       "      <td>NaN</td>\n",
       "      <td>14147</td>\n",
       "      <td>19437</td>\n",
       "    </tr>\n",
       "    <tr>\n",
       "      <td>secondary_cleaner.output.tail_pb</td>\n",
       "      <td>NaN</td>\n",
       "      <td>14139</td>\n",
       "      <td>19427</td>\n",
       "    </tr>\n",
       "    <tr>\n",
       "      <td>secondary_cleaner.output.tail_sol</td>\n",
       "      <td>NaN</td>\n",
       "      <td>12544</td>\n",
       "      <td>17691</td>\n",
       "    </tr>\n",
       "    <tr>\n",
       "      <td>secondary_cleaner.output.tail_au</td>\n",
       "      <td>NaN</td>\n",
       "      <td>14149</td>\n",
       "      <td>19439</td>\n",
       "    </tr>\n",
       "  </tbody>\n",
       "</table>\n",
       "</div>"
      ],
      "text/plain": [
       "                                                      test  train   full\n",
       "date                                                5290.0  14149  19439\n",
       "primary_cleaner.input.sulfate                       5286.0  14129  19415\n",
       "primary_cleaner.input.depressant                    5285.0  14117  19402\n",
       "primary_cleaner.input.feed_size                     5290.0  14149  19439\n",
       "primary_cleaner.input.xanthate                      5286.0  14049  19335\n",
       "primary_cleaner.state.floatbank8_a_air              5290.0  14145  19435\n",
       "primary_cleaner.state.floatbank8_a_level            5290.0  14148  19438\n",
       "primary_cleaner.state.floatbank8_b_air              5290.0  14145  19435\n",
       "primary_cleaner.state.floatbank8_b_level            5290.0  14148  19438\n",
       "primary_cleaner.state.floatbank8_c_air              5290.0  14147  19437\n",
       "primary_cleaner.state.floatbank8_c_level            5290.0  14148  19438\n",
       "primary_cleaner.state.floatbank8_d_air              5290.0  14146  19436\n",
       "primary_cleaner.state.floatbank8_d_level            5290.0  14148  19438\n",
       "rougher.input.feed_ag                               5290.0  14149  19439\n",
       "rougher.input.feed_pb                               5290.0  14049  19339\n",
       "rougher.input.feed_rate                             5287.0  14141  19428\n",
       "rougher.input.feed_size                             5289.0  14005  19294\n",
       "rougher.input.feed_sol                              5269.0  14071  19340\n",
       "rougher.input.feed_au                               5290.0  14149  19439\n",
       "rougher.input.floatbank10_sulfate                   5285.0  14120  19405\n",
       "rougher.input.floatbank10_xanthate                  5290.0  14141  19431\n",
       "rougher.input.floatbank11_sulfate                   5282.0  14113  19395\n",
       "rougher.input.floatbank11_xanthate                  5265.0  13721  18986\n",
       "rougher.state.floatbank10_a_air                     5290.0  14148  19438\n",
       "rougher.state.floatbank10_a_level                   5290.0  14148  19438\n",
       "rougher.state.floatbank10_b_air                     5290.0  14148  19438\n",
       "rougher.state.floatbank10_b_level                   5290.0  14148  19438\n",
       "rougher.state.floatbank10_c_air                     5290.0  14148  19438\n",
       "rougher.state.floatbank10_c_level                   5290.0  14148  19438\n",
       "rougher.state.floatbank10_d_air                     5290.0  14149  19439\n",
       "rougher.state.floatbank10_d_level                   5290.0  14149  19439\n",
       "rougher.state.floatbank10_e_air                     5290.0  13713  19003\n",
       "rougher.state.floatbank10_e_level                   5290.0  14149  19439\n",
       "rougher.state.floatbank10_f_air                     5290.0  14149  19439\n",
       "rougher.state.floatbank10_f_level                   5290.0  14149  19439\n",
       "secondary_cleaner.state.floatbank2_a_air            5287.0  13932  19219\n",
       "secondary_cleaner.state.floatbank2_a_level          5290.0  14148  19438\n",
       "secondary_cleaner.state.floatbank2_b_air            5288.0  14128  19416\n",
       "secondary_cleaner.state.floatbank2_b_level          5290.0  14148  19438\n",
       "secondary_cleaner.state.floatbank3_a_air            5281.0  14145  19426\n",
       "secondary_cleaner.state.floatbank3_a_level          5290.0  14148  19438\n",
       "secondary_cleaner.state.floatbank3_b_air            5290.0  14148  19438\n",
       "secondary_cleaner.state.floatbank3_b_level          5290.0  14148  19438\n",
       "secondary_cleaner.state.floatbank4_a_air            5290.0  14143  19433\n",
       "secondary_cleaner.state.floatbank4_a_level          5290.0  14148  19438\n",
       "secondary_cleaner.state.floatbank4_b_air            5290.0  14148  19438\n",
       "secondary_cleaner.state.floatbank4_b_level          5290.0  14148  19438\n",
       "secondary_cleaner.state.floatbank5_a_air            5290.0  14148  19438\n",
       "secondary_cleaner.state.floatbank5_a_level          5290.0  14148  19438\n",
       "secondary_cleaner.state.floatbank5_b_air            5290.0  14148  19438\n",
       "secondary_cleaner.state.floatbank5_b_level          5290.0  14148  19438\n",
       "secondary_cleaner.state.floatbank6_a_air            5290.0  14147  19437\n",
       "secondary_cleaner.state.floatbank6_a_level          5290.0  14148  19438\n",
       "final.output.concentrate_ag                            NaN  14148  19438\n",
       "final.output.concentrate_pb                            NaN  14148  19438\n",
       "final.output.concentrate_sol                           NaN  13938  19228\n",
       "final.output.concentrate_au                            NaN  14149  19439\n",
       "final.output.recovery                                  NaN  14149  19439\n",
       "final.output.tail_ag                                   NaN  14149  19438\n",
       "final.output.tail_pb                                   NaN  14049  19338\n",
       "final.output.tail_sol                                  NaN  14144  19433\n",
       "final.output.tail_au                                   NaN  14149  19439\n",
       "primary_cleaner.output.concentrate_ag                  NaN  14149  19439\n",
       "primary_cleaner.output.concentrate_pb                  NaN  14063  19323\n",
       "primary_cleaner.output.concentrate_sol                 NaN  13863  19069\n",
       "primary_cleaner.output.concentrate_au                  NaN  14149  19439\n",
       "primary_cleaner.output.tail_ag                         NaN  14148  19435\n",
       "primary_cleaner.output.tail_pb                         NaN  14134  19418\n",
       "primary_cleaner.output.tail_sol                        NaN  14103  19377\n",
       "primary_cleaner.output.tail_au                         NaN  14149  19439\n",
       "rougher.calculation.sulfate_to_au_concentrate          NaN  14148  19437\n",
       "rougher.calculation.floatbank10_sulfate_to_au_feed     NaN  14148  19437\n",
       "rougher.calculation.floatbank11_sulfate_to_au_feed     NaN  14148  19437\n",
       "rougher.calculation.au_pb_ratio                        NaN  14149  19439\n",
       "rougher.output.concentrate_ag                          NaN  14149  19439\n",
       "rougher.output.concentrate_pb                          NaN  14149  19439\n",
       "rougher.output.concentrate_sol                         NaN  14127  19416\n",
       "rougher.output.concentrate_au                          NaN  14149  19439\n",
       "rougher.output.recovery                                NaN  14149  19439\n",
       "rougher.output.tail_ag                                 NaN  14148  19438\n",
       "rougher.output.tail_pb                                 NaN  14149  19439\n",
       "rougher.output.tail_sol                                NaN  14149  19439\n",
       "rougher.output.tail_au                                 NaN  14149  19439\n",
       "secondary_cleaner.output.tail_ag                       NaN  14147  19437\n",
       "secondary_cleaner.output.tail_pb                       NaN  14139  19427\n",
       "secondary_cleaner.output.tail_sol                      NaN  12544  17691\n",
       "secondary_cleaner.output.tail_au                       NaN  14149  19439"
      ]
     },
     "metadata": {},
     "output_type": "display_data"
    }
   ],
   "source": [
    "full_count = pd.DataFrame(full.stack().count(1), columns = ['full'])\n",
    "test_count= pd.DataFrame(test.stack().count(1), columns = ['test'])\n",
    "train_count = pd.DataFrame(train.stack().count(1), columns = ['train'])\n",
    "total_count = test_count.join([train_count, full_count], how = 'outer')\n",
    "with pd.option_context('display.max_rows', None, 'display.max_columns', None):\n",
    "    display(total_count)"
   ]
  },
  {
   "cell_type": "markdown",
   "metadata": {},
   "source": [
    "Из таблицы мы видим, что в тестовой выборке отсутствуют параметры продукта (на выходе), в том числе и  наши целевые признаки: \n",
    "\n",
    "- эффективность обогащения чернового концентрата rougher.output.recovery;\n",
    "- эффективность обогащения финального концентрата final.output.recovery.\n",
    "\n",
    "Нам необходимо \"достать\" эти данные (целевые признаки) из общей таблицы для проверки модели и добавить в тестовую выборку. \n",
    "\n",
    "В дальнейшем для цели обучения моделей мы удалим из обучающей выборки остальные признаки, которые отсутствуют в тестовой выборке, так как если мы обучим модель на этих данных, никакого эффекта при проверке на тестовой выборке это не даст. \n",
    "\n",
    "Пропуски в данных в тестовой выборке мы удалим, так как заменять теми или иными значениями будет некорректно. Это тестовая выборка и мы ее не видим до конца исследования. В обучающей выборке заполним пропуски методом ffill."
   ]
  },
  {
   "cell_type": "markdown",
   "metadata": {},
   "source": [
    "**Добавим целевые признаки в тестовую выборку:**"
   ]
  },
  {
   "cell_type": "code",
   "execution_count": 54,
   "metadata": {},
   "outputs": [],
   "source": [
    "test = test.merge(full[['date', 'rougher.output.recovery', 'final.output.recovery']], on='date', how='left')"
   ]
  },
  {
   "cell_type": "markdown",
   "metadata": {},
   "source": [
    "**Обработаем пропуски в таблицах train и test:**"
   ]
  },
  {
   "cell_type": "code",
   "execution_count": 55,
   "metadata": {},
   "outputs": [
    {
     "data": {
      "text/plain": [
       "(5229, 55)"
      ]
     },
     "execution_count": 55,
     "metadata": {},
     "output_type": "execute_result"
    }
   ],
   "source": [
    "train = train.ffill()\n",
    "test = test.dropna()\n",
    "#для проверки выведем на экран размер таблицы test:\n",
    "test.shape"
   ]
  },
  {
   "cell_type": "markdown",
   "metadata": {},
   "source": [
    "### Проверка расчета эфективности обогащения"
   ]
  },
  {
   "cell_type": "markdown",
   "metadata": {},
   "source": [
    "Проверим расчет эффективности обогащения на обучающей выборке для признака `rougher.output.recovery`. Для этого найдем показатель MAE между рассчитанным значением и значением признака. \n",
    "\n",
    "Напишем функцию для расчета:"
   ]
  },
  {
   "cell_type": "code",
   "execution_count": 56,
   "metadata": {},
   "outputs": [],
   "source": [
    "#функция расчета recovery: \n",
    "def rec(row):\n",
    "    C = row['rougher.output.concentrate_au']\n",
    "    F = row['rougher.input.feed_au']\n",
    "    T = row['rougher.output.tail_au']\n",
    "    recovery = ((C*(F-T))/(F*(C-T)))*100\n",
    "    return recovery"
   ]
  },
  {
   "cell_type": "code",
   "execution_count": 57,
   "metadata": {},
   "outputs": [],
   "source": [
    "#добавим столбец с расчетными значениями в таблицу: \n",
    "train['rougher.output.recovery_estimated'] = train.apply(rec, axis=1)"
   ]
  },
  {
   "cell_type": "code",
   "execution_count": 58,
   "metadata": {},
   "outputs": [
    {
     "data": {
      "text/plain": [
       "9.682896147825551e-15"
      ]
     },
     "execution_count": 58,
     "metadata": {},
     "output_type": "execute_result"
    }
   ],
   "source": [
    "#рассчитаем метрику МАЕ: \n",
    "MAE = mean_absolute_error(train['rougher.output.recovery'], train['rougher.output.recovery_estimated'])\n",
    "MAE"
   ]
  },
  {
   "cell_type": "markdown",
   "metadata": {},
   "source": [
    "Значение среднего абсолютного отклонения между rougher.output.recovery в таблице и rougher.output.recovery рассчетным ничтожно мало. Можем сделать вывод о том, что recovery рассчитан верно. "
   ]
  },
  {
   "cell_type": "markdown",
   "metadata": {},
   "source": [
    "**Вывод**\n",
    "\n",
    "На этапе подготовки данных мы ознакомились с данными и выяснили, что в тестовой выборке отсутствует часть признаков, характеризующих продукт (на выходе), в том числе и целевые признаки (эффективность обогащения чернового концентрата и финального концентрата).  Целевые признаки были добавлены в таблицу, удалены пропуски. \n",
    "\n",
    "А также мы проверили расчет эффективности обогащения (признака `rougher.output.recovery`) и сделали вывод о том, что признак рассчитан верно. \n",
    "\n",
    "Теперь проанализируем данные. "
   ]
  },
  {
   "cell_type": "markdown",
   "metadata": {},
   "source": [
    "## Анализ данных"
   ]
  },
  {
   "cell_type": "markdown",
   "metadata": {},
   "source": [
    "### Концентрация металлов (Au, Ag, Pb) на различных этапах очистки"
   ]
  },
  {
   "cell_type": "markdown",
   "metadata": {},
   "source": [
    "Посмотрим, как меняется концентрация металлов (Au, Ag, Pb) на различных этапах очистки. Для наглядности построим гистораммы и по ним оценим выбросы на том или ином этапе процесса.\n",
    "\n",
    "Напишем функцию, которая на вход принимает список с наименованием столбцов, по которым будем строить гистограммы."
   ]
  },
  {
   "cell_type": "code",
   "execution_count": 59,
   "metadata": {},
   "outputs": [],
   "source": [
    "def graph(list, bins):\n",
    "    plt.figure(figsize=(10, 6))\n",
    "    for i in list:\n",
    "        plt.hist(train[i], bins = bins)\n",
    "    plt.xlabel('концентрация')\n",
    "    plt.ylabel('количество')\n",
    "    plt.legend(list)\n",
    "    return plt.show()"
   ]
  },
  {
   "cell_type": "markdown",
   "metadata": {},
   "source": [
    "Построим графики для этапов очистки золота:"
   ]
  },
  {
   "cell_type": "code",
   "execution_count": 60,
   "metadata": {},
   "outputs": [
    {
     "data": {
      "text/plain": [
       "'Au'"
      ]
     },
     "metadata": {},
     "output_type": "display_data"
    },
    {
     "data": {
      "image/png": "[encoded data removed]",
      "text/plain": [
       "<Figure size 720x432 with 1 Axes>"
      ]
     },
     "metadata": {
      "needs_background": "light"
     },
     "output_type": "display_data"
    }
   ],
   "source": [
    "list_au = ['rougher.output.concentrate_au', 'primary_cleaner.output.concentrate_au', 'final.output.concentrate_au']\n",
    "bins = 20\n",
    "display(\"Au\")\n",
    "graph(list_au, bins)"
   ]
  },
  {
   "cell_type": "markdown",
   "metadata": {},
   "source": [
    "Такой график вполне может соответствовать действительности -  от этапа к этапу конентрация золота увеличивается, за одним исключением: мы наблюдаем часть околонулевых значений на каждом этапе, которые стоят как бы отдельно. Эти выбросы нужно будет удалить из таблицы перед обучением модели. Они могут повлиять на корректность расчетов. "
   ]
  },
  {
   "cell_type": "markdown",
   "metadata": {},
   "source": [
    "Графики для этапов очистки серебра:"
   ]
  },
  {
   "cell_type": "code",
   "execution_count": 61,
   "metadata": {},
   "outputs": [
    {
     "data": {
      "text/plain": [
       "'Ag'"
      ]
     },
     "metadata": {},
     "output_type": "display_data"
    },
    {
     "data": {
      "image/png": "[encoded data removed]",
      "text/plain": [
       "<Figure size 720x432 with 1 Axes>"
      ]
     },
     "metadata": {
      "needs_background": "light"
     },
     "output_type": "display_data"
    }
   ],
   "source": [
    "list_ag = ['rougher.output.concentrate_ag', 'primary_cleaner.output.concentrate_ag', 'final.output.concentrate_ag']\n",
    "bins = 20\n",
    "display(\"Ag\")\n",
    "graph(list_ag, bins)"
   ]
  },
  {
   "cell_type": "markdown",
   "metadata": {},
   "source": [
    "Аналогичная ситуация с выбросами \"в районе\" нуля. "
   ]
  },
  {
   "cell_type": "markdown",
   "metadata": {},
   "source": [
    "Графики для этапов очистки свинца:"
   ]
  },
  {
   "cell_type": "code",
   "execution_count": 62,
   "metadata": {},
   "outputs": [
    {
     "data": {
      "text/plain": [
       "'Pb'"
      ]
     },
     "metadata": {},
     "output_type": "display_data"
    },
    {
     "data": {
      "image/png": "[encoded data removed]",
      "text/plain": [
       "<Figure size 720x432 with 1 Axes>"
      ]
     },
     "metadata": {
      "needs_background": "light"
     },
     "output_type": "display_data"
    }
   ],
   "source": [
    "list_pb = ['rougher.output.concentrate_pb', 'primary_cleaner.output.concentrate_pb', 'final.output.concentrate_pb']\n",
    "bins = 20\n",
    "display(\"Pb\")\n",
    "graph(list_pb, bins)"
   ]
  },
  {
   "cell_type": "markdown",
   "metadata": {},
   "source": [
    "Здесь также наблюдаем выбросы около нуля. А также хочется отметить, что если у золота четко выделяется прямая зависимость от этапа: с каждым последующим этапом концентрация золота увеличивается (как, собственно, и должно быть), то у серебра и свинца такой зависимости нет."
   ]
  },
  {
   "cell_type": "markdown",
   "metadata": {},
   "source": [
    "### Распределения размеров гранул сырья на обучающей и тестовой выборках"
   ]
  },
  {
   "cell_type": "markdown",
   "metadata": {},
   "source": [
    "Сравним распределения размеров гранул сырья на обучающей и тестовой выборках. Для наглядности построим гистограммы и по ним оценим, насколько отличаются распределения. "
   ]
  },
  {
   "cell_type": "code",
   "execution_count": 63,
   "metadata": {},
   "outputs": [
    {
     "data": {
      "image/png": "[encoded data removed]",
      "text/plain": [
       "<Figure size 720x432 with 1 Axes>"
      ]
     },
     "metadata": {
      "needs_background": "light"
     },
     "output_type": "display_data"
    }
   ],
   "source": [
    "plt.figure(figsize=(10, 6))\n",
    "plt.hist(train['rougher.input.feed_size'], bins=20, density=True)\n",
    "plt.hist(test['rougher.input.feed_size'], bins=20, density=True)\n",
    "plt.title('Распределения размеров гранул сырья на обучающей и тестовой выборках', pad=16)\n",
    "plt.xlabel('размеры гранул сырья')\n",
    "plt.ylabel('доля')\n",
    "plt.legend(['train','test'])\n",
    "plt.show()"
   ]
  },
  {
   "cell_type": "markdown",
   "metadata": {},
   "source": [
    "Распределения похожи, однако у распределения обучающей выборки есть \"хвост\", которого нет в тесте. От этих выбросов мы должны избавиться перед обучением модели."
   ]
  },
  {
   "cell_type": "markdown",
   "metadata": {},
   "source": [
    "### Суммарная концентрацию всех веществ на разных стадиях"
   ]
  },
  {
   "cell_type": "markdown",
   "metadata": {},
   "source": [
    "Исследуем суммарную концентрацию всех веществ на разных стадиях: в сырье, в черновом и финальном концентратах.\n",
    "В таблицах представлены данные о концентрациях золота, серебра, свинца и золи. \n",
    "\n",
    "Просуммируем данные по стадиям и построим гистограммы. "
   ]
  },
  {
   "cell_type": "code",
   "execution_count": 64,
   "metadata": {},
   "outputs": [],
   "source": [
    "#добавим столбцы с суммой: \n",
    "train['rougher.input.feed_sum'] = train[[\n",
    "    'rougher.input.feed_ag', 'rougher.input.feed_au', 'rougher.input.feed_pb', 'rougher.input.feed_sol'\n",
    "]].sum(axis=1)\n",
    "train['rougher.output.concentrate_sum'] = train[[\n",
    "    'rougher.output.concentrate_ag', 'rougher.output.concentrate_au', 'rougher.output.concentrate_pb', 'rougher.output.concentrate_sol'\n",
    "]].sum(axis=1)\n",
    "train['final.output.concentrate_sum'] = train[[\n",
    "    'final.output.concentrate_ag','final.output.concentrate_au', 'final.output.concentrate_pb', 'final.output.concentrate_sol'\n",
    "]].sum(axis=1)"
   ]
  },
  {
   "cell_type": "code",
   "execution_count": 66,
   "metadata": {},
   "outputs": [
    {
     "data": {
      "text/plain": [
       "'Sum'"
      ]
     },
     "metadata": {},
     "output_type": "display_data"
    },
    {
     "data": {
      "image/png": "[encoded data removed]",
      "text/plain": [
       "<Figure size 720x432 with 1 Axes>"
      ]
     },
     "metadata": {
      "needs_background": "light"
     },
     "output_type": "display_data"
    }
   ],
   "source": [
    "#выведем графики для суммарной концентрации всех веществ на разных стадиях на экран: \n",
    "list_sum = ['rougher.input.feed_sum', 'rougher.output.concentrate_sum', 'final.output.concentrate_sum']\n",
    "display(\"Sum\")\n",
    "graph(list_sum, bins)"
   ]
  },
  {
   "cell_type": "markdown",
   "metadata": {},
   "source": [
    "Стоит еще раз упомянуть о нулевых значених, которые могут повлиять на качество нашей модели, их следует удалить. А что касается распределения суммарной концентрации веществ, мы не видим здесь прямой зависимости увеличения концентрации в зависимости от стадии. "
   ]
  },
  {
   "cell_type": "markdown",
   "metadata": {},
   "source": [
    "**Вывод**\n",
    "\n",
    "На этапе анализа данных мы посмотрели, как меняется концентрация металлов (Au, Ag, Pb) на различных этапах очистки, сравнили распределения размеров гранул сырья на обучающей и тестовой выборках, исследовали суммарную концентрацию всех веществ на разных стадиях: в сырье, в черновом и финальном концентратах. \n",
    "\n",
    "Выяснили, что если у золота четко выделяется прямая зависимость концентрации от этапа: с каждым последующим этапом концентрация золота увеличивается (как, собственно, и должно быть), то у серебра и свинца такой зависимости нет. \n",
    "\n",
    "Обнаружили \"выбросы\" в данных- нулевые значения концентраций металлов на разных стадиях и этапах очистки, а также размеров гранул. Распределения размеров гранул сырья на обучающей и тестовой выборках похожи, однако у распределения обучающей выборки есть \"хвост\" с 0, которого нет в тесте. \n",
    "\n",
    "Что касается распределения суммарной концентрации веществ, то прямой зависимости увеличения сумарной концентрации в зависимости от стадии мы не увидели. Возможно, стоит рассмотреть этот признак для обучения модели. "
   ]
  },
  {
   "cell_type": "markdown",
   "metadata": {},
   "source": [
    "## Модель"
   ]
  },
  {
   "cell_type": "markdown",
   "metadata": {},
   "source": [
    "### Подготовка обучающей и тестовой выборки"
   ]
  },
  {
   "cell_type": "markdown",
   "metadata": {},
   "source": [
    "Посмотрим еще раз на признаки, содержащиеся в тестовой выборке. "
   ]
  },
  {
   "cell_type": "code",
   "execution_count": 67,
   "metadata": {},
   "outputs": [
    {
     "data": {
      "text/plain": [
       "Index(['date', 'primary_cleaner.input.sulfate',\n",
       "       'primary_cleaner.input.depressant', 'primary_cleaner.input.feed_size',\n",
       "       'primary_cleaner.input.xanthate',\n",
       "       'primary_cleaner.state.floatbank8_a_air',\n",
       "       'primary_cleaner.state.floatbank8_a_level',\n",
       "       'primary_cleaner.state.floatbank8_b_air',\n",
       "       'primary_cleaner.state.floatbank8_b_level',\n",
       "       'primary_cleaner.state.floatbank8_c_air',\n",
       "       'primary_cleaner.state.floatbank8_c_level',\n",
       "       'primary_cleaner.state.floatbank8_d_air',\n",
       "       'primary_cleaner.state.floatbank8_d_level', 'rougher.input.feed_ag',\n",
       "       'rougher.input.feed_pb', 'rougher.input.feed_rate',\n",
       "       'rougher.input.feed_size', 'rougher.input.feed_sol',\n",
       "       'rougher.input.feed_au', 'rougher.input.floatbank10_sulfate',\n",
       "       'rougher.input.floatbank10_xanthate',\n",
       "       'rougher.input.floatbank11_sulfate',\n",
       "       'rougher.input.floatbank11_xanthate', 'rougher.state.floatbank10_a_air',\n",
       "       'rougher.state.floatbank10_a_level', 'rougher.state.floatbank10_b_air',\n",
       "       'rougher.state.floatbank10_b_level', 'rougher.state.floatbank10_c_air',\n",
       "       'rougher.state.floatbank10_c_level', 'rougher.state.floatbank10_d_air',\n",
       "       'rougher.state.floatbank10_d_level', 'rougher.state.floatbank10_e_air',\n",
       "       'rougher.state.floatbank10_e_level', 'rougher.state.floatbank10_f_air',\n",
       "       'rougher.state.floatbank10_f_level',\n",
       "       'secondary_cleaner.state.floatbank2_a_air',\n",
       "       'secondary_cleaner.state.floatbank2_a_level',\n",
       "       'secondary_cleaner.state.floatbank2_b_air',\n",
       "       'secondary_cleaner.state.floatbank2_b_level',\n",
       "       'secondary_cleaner.state.floatbank3_a_air',\n",
       "       'secondary_cleaner.state.floatbank3_a_level',\n",
       "       'secondary_cleaner.state.floatbank3_b_air',\n",
       "       'secondary_cleaner.state.floatbank3_b_level',\n",
       "       'secondary_cleaner.state.floatbank4_a_air',\n",
       "       'secondary_cleaner.state.floatbank4_a_level',\n",
       "       'secondary_cleaner.state.floatbank4_b_air',\n",
       "       'secondary_cleaner.state.floatbank4_b_level',\n",
       "       'secondary_cleaner.state.floatbank5_a_air',\n",
       "       'secondary_cleaner.state.floatbank5_a_level',\n",
       "       'secondary_cleaner.state.floatbank5_b_air',\n",
       "       'secondary_cleaner.state.floatbank5_b_level',\n",
       "       'secondary_cleaner.state.floatbank6_a_air',\n",
       "       'secondary_cleaner.state.floatbank6_a_level', 'rougher.output.recovery',\n",
       "       'final.output.recovery'],\n",
       "      dtype='object')"
      ]
     },
     "execution_count": 67,
     "metadata": {},
     "output_type": "execute_result"
    }
   ],
   "source": [
    "#выведем на экран названия столбцов таблицы test:\n",
    "test.columns"
   ]
  },
  {
   "cell_type": "code",
   "execution_count": 68,
   "metadata": {},
   "outputs": [],
   "source": [
    "#добавим столбцец с расчетом суммарной концентрации веществ:\n",
    "test['rougher.input.feed_sum'] = test[[\n",
    "    'rougher.input.feed_ag', 'rougher.input.feed_au', 'rougher.input.feed_pb', 'rougher.input.feed_sol'\n",
    "]].sum(axis=1)"
   ]
  },
  {
   "cell_type": "code",
   "execution_count": 69,
   "metadata": {},
   "outputs": [],
   "source": [
    "#почистим тестовую выборку от выбросов, которые мы нашли на этапе анализа данных. \n",
    "clean_test = test[test['rougher.input.feed_sum'] > 10]"
   ]
  },
  {
   "cell_type": "markdown",
   "metadata": {},
   "source": [
    "Удалим признаки 'rougher.input.feed_ag', 'rougher.input.feed_au', 'rougher.input.feed_pb', 'rougher.input.feed_sol', так как rougher.input.feed_au используется в формуле расчета rougher.output.recovery -  это целевой признак, а остальные признаки не относятся к золоту. "
   ]
  },
  {
   "cell_type": "code",
   "execution_count": 70,
   "metadata": {},
   "outputs": [],
   "source": [
    "#разделим тестовую выборку на обучающие и целевые признаки: \n",
    "features_test = clean_test.drop([\n",
    "    'rougher.input.feed_ag', 'rougher.input.feed_au', 'rougher.input.feed_pb', 'rougher.input.feed_sol','date','rougher.output.recovery', 'final.output.recovery'\n",
    "], axis=1)\n",
    "target_test_rougher = clean_test['rougher.output.recovery']\n",
    "target_test_final = clean_test['final.output.recovery']"
   ]
  },
  {
   "cell_type": "code",
   "execution_count": 71,
   "metadata": {},
   "outputs": [
    {
     "data": {
      "text/plain": [
       "(14139, 49)"
      ]
     },
     "execution_count": 71,
     "metadata": {},
     "output_type": "execute_result"
    }
   ],
   "source": [
    "#подготовим обучающую выборку: \n",
    "clean_train = train[train['rougher.input.feed_sum'] > 10]\n",
    "features_train = clean_train[features_test.columns]\n",
    "target_train_rougher = clean_train['rougher.output.recovery']\n",
    "target_train_final = clean_train['final.output.recovery']\n",
    "#для проверки выведем размер таблицы features_train на экран:\n",
    "features_train.shape"
   ]
  },
  {
   "cell_type": "markdown",
   "metadata": {},
   "source": [
    "Выборки готовы, теперь нам необходимы функции для вычисления sMAPE. "
   ]
  },
  {
   "cell_type": "markdown",
   "metadata": {},
   "source": [
    "### Функция для вычисления итоговой sMAPE"
   ]
  },
  {
   "cell_type": "markdown",
   "metadata": {},
   "source": [
    "Нам понадобится вычислять значение sMAPE для 2 целевых признаков - это наши метрики качества. \n",
    "Запишем функцию для вычисления sMAPE: "
   ]
  },
  {
   "cell_type": "code",
   "execution_count": 72,
   "metadata": {},
   "outputs": [],
   "source": [
    "def smape_calc(target, predict):\n",
    "    smape = np.mean(abs(target - predict)/((abs(target)+abs(predict))/2))*100\n",
    "    return smape"
   ]
  },
  {
   "cell_type": "markdown",
   "metadata": {},
   "source": [
    "Введем переменную smape_score для дальнейшей передачи аргументу scoring. "
   ]
  },
  {
   "cell_type": "code",
   "execution_count": 73,
   "metadata": {},
   "outputs": [],
   "source": [
    "smape_score = make_scorer(score_func=smape_calc, greater_is_better=False)"
   ]
  },
  {
   "cell_type": "markdown",
   "metadata": {},
   "source": [
    "Теперь мы готовы к обучению моделей. "
   ]
  },
  {
   "cell_type": "markdown",
   "metadata": {},
   "source": [
    "### Обучение моделей"
   ]
  },
  {
   "cell_type": "markdown",
   "metadata": {},
   "source": [
    "Обучим 2 модели: модель решающего дерева и случайного леса, и подберем оптимальные параметры моделей с помощью модуля GridSearchCV. В качестве метрики качества будем использовать метрику sMAPE.  "
   ]
  },
  {
   "cell_type": "markdown",
   "metadata": {},
   "source": [
    "РЕШАЮЩЕЕ ДЕРЕВО"
   ]
  },
  {
   "cell_type": "code",
   "execution_count": 74,
   "metadata": {},
   "outputs": [
    {
     "data": {
      "text/plain": [
       "{'max_depth': 3}"
      ]
     },
     "metadata": {},
     "output_type": "display_data"
    }
   ],
   "source": [
    "#с помощью модуля GridSearchCV подберем оптимальные гиперпараметры модели для вычисления rougher.output.recovery:\n",
    "model_1 = DecisionTreeRegressor(random_state=1000000)\n",
    "parametrs_1 = {'max_depth': range (1,10)}\n",
    "grid_1 = GridSearchCV(model_1, parametrs_1, cv=5, scoring=smape_score)\n",
    "grid_1.fit(features_train,target_train_rougher)\n",
    "display(grid_1.best_params_)"
   ]
  },
  {
   "cell_type": "code",
   "execution_count": 75,
   "metadata": {},
   "outputs": [
    {
     "data": {
      "text/plain": [
       "-11.344055413838484"
      ]
     },
     "execution_count": 75,
     "metadata": {},
     "output_type": "execute_result"
    }
   ],
   "source": [
    "best_score_DTR_rougher = grid_1.best_score_\n",
    "best_score_DTR_rougher"
   ]
  },
  {
   "cell_type": "code",
   "execution_count": 76,
   "metadata": {
    "scrolled": true
   },
   "outputs": [
    {
     "data": {
      "text/plain": [
       "{'max_depth': 1}"
      ]
     },
     "metadata": {},
     "output_type": "display_data"
    }
   ],
   "source": [
    "#теперь оптимальные параметры для вычисления final.output.recovery: \n",
    "grid_1_1 = GridSearchCV(model_1, parametrs_1, cv=5, scoring=smape_score)\n",
    "grid_1_1.fit(features_train,target_train_final)\n",
    "display(grid_1_1.best_params_)"
   ]
  },
  {
   "cell_type": "code",
   "execution_count": 77,
   "metadata": {},
   "outputs": [
    {
     "data": {
      "text/plain": [
       "-11.056135682408737"
      ]
     },
     "execution_count": 77,
     "metadata": {},
     "output_type": "execute_result"
    }
   ],
   "source": [
    "best_score_DTG_final = grid_1_1.best_score_\n",
    "best_score_DTG_final"
   ]
  },
  {
   "cell_type": "markdown",
   "metadata": {},
   "source": [
    "СЛУЧАЙНЫЙ ЛЕС"
   ]
  },
  {
   "cell_type": "code",
   "execution_count": 78,
   "metadata": {
    "scrolled": true
   },
   "outputs": [
    {
     "data": {
      "text/plain": [
       "{'max_depth': 5, 'n_estimators': 40}"
      ]
     },
     "metadata": {},
     "output_type": "display_data"
    }
   ],
   "source": [
    "#с помощью модуля GridSearchCV подберем оптимальные гиперпараметры модели для вычисления rougher.output.recovery:\n",
    "model_2 = RandomForestRegressor(random_state=1000000)\n",
    "parametrs_2 = {'n_estimators': range (10, 51, 10),\n",
    "              'max_depth': range (1,10,2)}\n",
    "grid_2 = GridSearchCV(model_2, parametrs_2, cv=5, scoring=smape_score)\n",
    "grid_2.fit(features_train,target_train_rougher)\n",
    "display(grid_2.best_params_)"
   ]
  },
  {
   "cell_type": "code",
   "execution_count": 79,
   "metadata": {},
   "outputs": [
    {
     "data": {
      "text/plain": [
       "-10.900251188728515"
      ]
     },
     "execution_count": 79,
     "metadata": {},
     "output_type": "execute_result"
    }
   ],
   "source": [
    "best_score_RFR_rougher = grid_2.best_score_\n",
    "best_score_RFR_rougher"
   ]
  },
  {
   "cell_type": "code",
   "execution_count": 80,
   "metadata": {},
   "outputs": [
    {
     "data": {
      "text/plain": [
       "{'max_depth': 1, 'n_estimators': 30}"
      ]
     },
     "metadata": {},
     "output_type": "display_data"
    }
   ],
   "source": [
    "#теперь оптимальные параметры для вычисления final.output.recovery: \n",
    "grid_2_2 = GridSearchCV(model_2, parametrs_2, cv=5, scoring=smape_score)\n",
    "grid_2_2.fit(features_train,target_train_final)\n",
    "display(grid_2_2.best_params_)"
   ]
  },
  {
   "cell_type": "code",
   "execution_count": 81,
   "metadata": {},
   "outputs": [
    {
     "data": {
      "text/plain": [
       "-10.780280352919938"
      ]
     },
     "execution_count": 81,
     "metadata": {},
     "output_type": "execute_result"
    }
   ],
   "source": [
    "best_score_RFR_final = grid_2_2.best_score_\n",
    "best_score_RFR_final"
   ]
  },
  {
   "cell_type": "markdown",
   "metadata": {},
   "source": [
    "Наилучший результат показала модель случайного леса с параметрами 'max_depth'= 5 и  'n_estimators'= 40 для rougher и 'max_depth'=1, 'n_estimators'=30 для final."
   ]
  },
  {
   "cell_type": "markdown",
   "metadata": {},
   "source": [
    "### Проверка на тестовой выборке"
   ]
  },
  {
   "cell_type": "markdown",
   "metadata": {},
   "source": [
    "Проверим, как работает модель на тестовой выборке"
   ]
  },
  {
   "cell_type": "code",
   "execution_count": 83,
   "metadata": {},
   "outputs": [
    {
     "data": {
      "text/plain": [
       "'sMAPE(rougher) = '"
      ]
     },
     "metadata": {},
     "output_type": "display_data"
    },
    {
     "data": {
      "text/plain": [
       "10.873217078769407"
      ]
     },
     "metadata": {},
     "output_type": "display_data"
    },
    {
     "data": {
      "text/plain": [
       "'sMAPE(final) = '"
      ]
     },
     "metadata": {},
     "output_type": "display_data"
    },
    {
     "data": {
      "text/plain": [
       "8.803553114814392"
      ]
     },
     "metadata": {},
     "output_type": "display_data"
    },
    {
     "data": {
      "text/plain": [
       "'Итоговое sMAPE = '"
      ]
     },
     "metadata": {},
     "output_type": "display_data"
    },
    {
     "data": {
      "text/plain": [
       "9.320969105803146"
      ]
     },
     "metadata": {},
     "output_type": "display_data"
    }
   ],
   "source": [
    "#найдем метрики smape на тестовой выборке: \n",
    "model_rougher = RandomForestRegressor(random_state=1000000, max_depth=5, n_estimators=40)\n",
    "model_rougher.fit(features_train, target_train_rougher)\n",
    "predict_test_rougher = model_rougher.predict(features_test)\n",
    "model_final = RandomForestRegressor(random_state=1000000, max_depth=1, n_estimators=30)\n",
    "model_final.fit(features_train, target_train_final)\n",
    "predict_test_final = model_final.predict(features_test)\n",
    "smape_rougher = smape_calc(target_test_rougher, predict_test_rougher)\n",
    "smape_final = smape_calc(target_test_final, predict_test_final)\n",
    "total_smape = (0.25*smape_rougher)  + (0.75*smape_final)\n",
    "display('sMAPE(rougher) = ', smape_rougher,'sMAPE(final) = ', smape_final, 'Итоговое sMAPE = ', total_smape)"
   ]
  },
  {
   "cell_type": "markdown",
   "metadata": {},
   "source": [
    "Итак мы получили модель с симметричным средним процентным отклонением (sMAPE), равным 9,3%."
   ]
  },
  {
   "cell_type": "markdown",
   "metadata": {},
   "source": [
    "**Вывод**\n",
    "\n",
    "Мы обучили и оценили качество с помощью кросс-валидации 2 модели: модель случайного леса и решающего дерева. Наилучший результат показала модель случайного леса с параметрами 'max_depth'= 5 и 'n_estimators'= 40 для rougher и 'max_depth'=1, 'n_estimators'=30 для final.\n",
    "\n",
    "По параметрам модели мы проверили результат на тестовой выборке и вычислили симметричное среднее процентное отклонениее (sMAPE), равное 18%.\n",
    "\n",
    "Таким образом результативность нащей модели- более 80%."
   ]
  }
 ],
 "metadata": {
  "ExecuteTimeLog": [
   {
    "duration": 1139,
    "start_time": "2022-03-02T05:48:35.819Z"
   },
   {
    "duration": 215,
    "start_time": "2022-03-02T05:48:52.029Z"
   },
   {
    "duration": 267639,
    "start_time": "2022-03-02T05:48:55.043Z"
   },
   {
    "duration": 123,
    "start_time": "2022-03-02T05:53:22.684Z"
   },
   {
    "duration": -24,
    "start_time": "2022-03-02T05:53:22.832Z"
   },
   {
    "duration": -25,
    "start_time": "2022-03-02T05:53:22.834Z"
   },
   {
    "duration": 153,
    "start_time": "2022-03-02T05:53:31.892Z"
   },
   {
    "duration": 19285,
    "start_time": "2022-03-02T05:53:56.496Z"
   },
   {
    "duration": 3,
    "start_time": "2022-03-02T05:54:37.555Z"
   },
   {
    "duration": 929,
    "start_time": "2022-03-02T05:54:45.592Z"
   },
   {
    "duration": 782,
    "start_time": "2022-03-02T05:55:08.530Z"
   },
   {
    "duration": 3,
    "start_time": "2022-03-02T05:56:06.085Z"
   },
   {
    "duration": 786,
    "start_time": "2022-03-02T05:56:09.409Z"
   },
   {
    "duration": 899,
    "start_time": "2022-03-02T05:57:17.681Z"
   },
   {
    "duration": 761,
    "start_time": "2022-03-02T05:58:11.532Z"
   },
   {
    "duration": 145,
    "start_time": "2022-03-02T06:50:11.264Z"
   },
   {
    "duration": 1099,
    "start_time": "2022-03-02T06:51:06.328Z"
   },
   {
    "duration": 1058,
    "start_time": "2022-03-02T06:51:08.831Z"
   },
   {
    "duration": 1122,
    "start_time": "2022-03-02T06:51:17.137Z"
   },
   {
    "duration": 1043,
    "start_time": "2022-03-02T06:51:26.544Z"
   },
   {
    "duration": 552,
    "start_time": "2022-03-02T06:54:06.438Z"
   },
   {
    "duration": 390,
    "start_time": "2022-03-02T06:54:10.272Z"
   },
   {
    "duration": 547,
    "start_time": "2022-03-02T06:54:33.720Z"
   },
   {
    "duration": 49,
    "start_time": "2022-03-02T07:02:14.357Z"
   },
   {
    "duration": 174,
    "start_time": "2022-03-02T07:03:55.275Z"
   },
   {
    "duration": 48,
    "start_time": "2022-03-02T07:04:09.309Z"
   },
   {
    "duration": 529,
    "start_time": "2022-03-02T07:05:04.409Z"
   },
   {
    "duration": 588,
    "start_time": "2022-03-02T07:05:15.041Z"
   },
   {
    "duration": 535,
    "start_time": "2022-03-02T07:05:21.830Z"
   },
   {
    "duration": 595,
    "start_time": "2022-03-02T07:05:46.063Z"
   },
   {
    "duration": 733,
    "start_time": "2022-03-02T07:06:53.145Z"
   },
   {
    "duration": 536,
    "start_time": "2022-03-02T07:10:05.241Z"
   },
   {
    "duration": 524,
    "start_time": "2022-03-02T07:10:24.911Z"
   },
   {
    "duration": 701,
    "start_time": "2022-03-02T07:10:43.208Z"
   },
   {
    "duration": 752,
    "start_time": "2022-03-02T18:19:09.628Z"
   },
   {
    "duration": 3,
    "start_time": "2022-03-02T18:19:50.527Z"
   },
   {
    "duration": 689,
    "start_time": "2022-03-02T18:19:50.549Z"
   },
   {
    "duration": 721,
    "start_time": "2022-03-02T18:20:11.952Z"
   },
   {
    "duration": 655,
    "start_time": "2022-03-02T18:23:57.749Z"
   },
   {
    "duration": 687,
    "start_time": "2022-03-02T18:24:06.298Z"
   },
   {
    "duration": 560,
    "start_time": "2022-03-02T18:26:41.429Z"
   },
   {
    "duration": 49,
    "start_time": "2022-03-02T18:27:27.526Z"
   },
   {
    "duration": 595,
    "start_time": "2022-03-02T18:29:39.327Z"
   },
   {
    "duration": 702,
    "start_time": "2022-03-02T18:29:43.416Z"
   },
   {
    "duration": 996,
    "start_time": "2022-03-02T18:33:56.439Z"
   },
   {
    "duration": 911,
    "start_time": "2022-03-02T18:34:18.264Z"
   },
   {
    "duration": 928,
    "start_time": "2022-03-02T18:38:26.478Z"
   },
   {
    "duration": 1080,
    "start_time": "2022-03-02T18:38:37.525Z"
   },
   {
    "duration": 1078,
    "start_time": "2022-03-02T18:38:41.378Z"
   },
   {
    "duration": 915,
    "start_time": "2022-03-02T18:38:47.847Z"
   },
   {
    "duration": 951,
    "start_time": "2022-03-02T18:39:06.435Z"
   },
   {
    "duration": 1034,
    "start_time": "2022-03-02T18:41:56.996Z"
   },
   {
    "duration": 1025,
    "start_time": "2022-03-02T18:42:41.222Z"
   },
   {
    "duration": 1138,
    "start_time": "2022-03-02T18:48:01.381Z"
   },
   {
    "duration": 977,
    "start_time": "2022-03-02T18:49:19.682Z"
   },
   {
    "duration": 1006,
    "start_time": "2022-03-02T18:52:04.443Z"
   },
   {
    "duration": 918,
    "start_time": "2022-03-02T19:12:42.761Z"
   },
   {
    "duration": 20,
    "start_time": "2022-03-02T19:21:36.431Z"
   },
   {
    "duration": 14,
    "start_time": "2022-03-02T19:22:13.822Z"
   },
   {
    "duration": 12,
    "start_time": "2022-03-02T19:22:39.506Z"
   },
   {
    "duration": 21,
    "start_time": "2022-03-02T19:22:59.121Z"
   },
   {
    "duration": 129,
    "start_time": "2022-03-02T19:37:59.774Z"
   },
   {
    "duration": 132,
    "start_time": "2022-03-02T19:39:46.108Z"
   },
   {
    "duration": 39,
    "start_time": "2022-03-02T19:47:41.203Z"
   },
   {
    "duration": 28,
    "start_time": "2022-03-02T19:48:11.390Z"
   },
   {
    "duration": 14,
    "start_time": "2022-03-02T19:50:07.469Z"
   },
   {
    "duration": 22,
    "start_time": "2022-03-02T19:51:24.122Z"
   },
   {
    "duration": 145,
    "start_time": "2022-03-02T19:51:39.958Z"
   },
   {
    "duration": 17,
    "start_time": "2022-03-02T19:51:42.994Z"
   },
   {
    "duration": 33,
    "start_time": "2022-03-02T19:51:52.093Z"
   },
   {
    "duration": 3,
    "start_time": "2022-03-02T19:52:16.323Z"
   },
   {
    "duration": 735,
    "start_time": "2022-03-02T19:52:16.331Z"
   },
   {
    "duration": 15,
    "start_time": "2022-03-02T19:52:17.068Z"
   },
   {
    "duration": 10,
    "start_time": "2022-03-02T19:52:17.085Z"
   },
   {
    "duration": 47,
    "start_time": "2022-03-02T19:52:17.097Z"
   },
   {
    "duration": 969,
    "start_time": "2022-03-02T19:52:17.146Z"
   },
   {
    "duration": 19,
    "start_time": "2022-03-02T19:52:26.945Z"
   },
   {
    "duration": 16,
    "start_time": "2022-03-02T19:52:55.139Z"
   },
   {
    "duration": 34,
    "start_time": "2022-03-02T20:03:18.652Z"
   },
   {
    "duration": 132,
    "start_time": "2022-03-02T20:03:50.705Z"
   },
   {
    "duration": 26,
    "start_time": "2022-03-02T20:04:01.182Z"
   },
   {
    "duration": 22,
    "start_time": "2022-03-02T20:04:59.732Z"
   },
   {
    "duration": 19,
    "start_time": "2022-03-02T20:06:11.738Z"
   },
   {
    "duration": 22,
    "start_time": "2022-03-02T20:06:26.726Z"
   },
   {
    "duration": 24,
    "start_time": "2022-03-02T20:07:04.654Z"
   },
   {
    "duration": 143,
    "start_time": "2022-03-02T20:07:20.845Z"
   },
   {
    "duration": 14,
    "start_time": "2022-03-02T20:07:22.989Z"
   },
   {
    "duration": 13,
    "start_time": "2022-03-02T20:07:28.409Z"
   },
   {
    "duration": 14,
    "start_time": "2022-03-02T20:08:06.781Z"
   },
   {
    "duration": 48,
    "start_time": "2022-03-02T20:11:45.925Z"
   },
   {
    "duration": 1154,
    "start_time": "2022-03-03T06:02:12.427Z"
   },
   {
    "duration": 765,
    "start_time": "2022-03-03T06:02:13.583Z"
   },
   {
    "duration": 17,
    "start_time": "2022-03-03T06:02:14.359Z"
   },
   {
    "duration": 11,
    "start_time": "2022-03-03T06:02:14.378Z"
   },
   {
    "duration": 15,
    "start_time": "2022-03-03T06:02:14.391Z"
   },
   {
    "duration": 949,
    "start_time": "2022-03-03T06:02:14.408Z"
   },
   {
    "duration": 14,
    "start_time": "2022-03-03T06:02:15.358Z"
   },
   {
    "duration": 18,
    "start_time": "2022-03-03T06:02:15.375Z"
   },
   {
    "duration": 69,
    "start_time": "2022-03-03T06:05:36.202Z"
   },
   {
    "duration": 432,
    "start_time": "2022-03-03T06:39:39.886Z"
   },
   {
    "duration": 4,
    "start_time": "2022-03-03T06:40:14.206Z"
   },
   {
    "duration": 6573,
    "start_time": "2022-03-03T06:40:16.984Z"
   },
   {
    "duration": 6542,
    "start_time": "2022-03-03T06:41:18.580Z"
   },
   {
    "duration": 13,
    "start_time": "2022-03-03T06:41:45.246Z"
   },
   {
    "duration": 6519,
    "start_time": "2022-03-03T06:41:54.831Z"
   },
   {
    "duration": 3,
    "start_time": "2022-03-03T06:44:09.236Z"
   },
   {
    "duration": 6657,
    "start_time": "2022-03-03T06:44:12.987Z"
   },
   {
    "duration": 3,
    "start_time": "2022-03-03T06:44:38.997Z"
   },
   {
    "duration": 316,
    "start_time": "2022-03-03T06:44:42.115Z"
   },
   {
    "duration": 3,
    "start_time": "2022-03-03T06:47:05.571Z"
   },
   {
    "duration": 5,
    "start_time": "2022-03-03T06:48:36.472Z"
   },
   {
    "duration": 52,
    "start_time": "2022-03-03T17:49:00.597Z"
   },
   {
    "duration": 181,
    "start_time": "2022-03-03T17:49:12.917Z"
   },
   {
    "duration": 1185,
    "start_time": "2022-03-03T17:50:00.284Z"
   },
   {
    "duration": 810,
    "start_time": "2022-03-03T17:50:01.471Z"
   },
   {
    "duration": 19,
    "start_time": "2022-03-03T17:50:02.283Z"
   },
   {
    "duration": 9,
    "start_time": "2022-03-03T17:50:02.304Z"
   },
   {
    "duration": 18,
    "start_time": "2022-03-03T17:50:02.315Z"
   },
   {
    "duration": 1046,
    "start_time": "2022-03-03T17:50:02.335Z"
   },
   {
    "duration": 13,
    "start_time": "2022-03-03T17:50:03.383Z"
   },
   {
    "duration": 22,
    "start_time": "2022-03-03T17:50:03.398Z"
   },
   {
    "duration": 2,
    "start_time": "2022-03-03T17:50:03.422Z"
   },
   {
    "duration": 337,
    "start_time": "2022-03-03T17:50:03.426Z"
   },
   {
    "duration": 5,
    "start_time": "2022-03-03T17:50:03.764Z"
   },
   {
    "duration": 226,
    "start_time": "2022-03-03T17:50:03.771Z"
   },
   {
    "duration": 382,
    "start_time": "2022-03-03T17:50:19.790Z"
   },
   {
    "duration": 259,
    "start_time": "2022-03-03T17:50:50.806Z"
   },
   {
    "duration": 771,
    "start_time": "2022-03-03T17:53:49.021Z"
   },
   {
    "duration": 857,
    "start_time": "2022-03-03T17:54:12.681Z"
   },
   {
    "duration": 177,
    "start_time": "2022-03-03T17:55:59.040Z"
   },
   {
    "duration": 340,
    "start_time": "2022-03-03T17:56:42.913Z"
   },
   {
    "duration": 450,
    "start_time": "2022-03-03T17:56:59.065Z"
   },
   {
    "duration": 219,
    "start_time": "2022-03-03T17:59:34.616Z"
   },
   {
    "duration": 235,
    "start_time": "2022-03-03T17:59:59.588Z"
   },
   {
    "duration": 300,
    "start_time": "2022-03-03T18:01:24.275Z"
   },
   {
    "duration": 265,
    "start_time": "2022-03-03T18:03:19.705Z"
   },
   {
    "duration": 4144,
    "start_time": "2022-03-03T18:13:34.815Z"
   },
   {
    "duration": 285,
    "start_time": "2022-03-03T18:15:12.786Z"
   },
   {
    "duration": 321,
    "start_time": "2022-03-03T18:21:24.700Z"
   },
   {
    "duration": 288,
    "start_time": "2022-03-03T18:22:16.160Z"
   },
   {
    "duration": 66,
    "start_time": "2022-03-03T18:24:00.858Z"
   },
   {
    "duration": 4,
    "start_time": "2022-03-03T18:24:48.822Z"
   },
   {
    "duration": 294,
    "start_time": "2022-03-03T18:25:08.619Z"
   },
   {
    "duration": 4,
    "start_time": "2022-03-03T18:26:57.892Z"
   },
   {
    "duration": 442,
    "start_time": "2022-03-03T18:27:01.103Z"
   },
   {
    "duration": 4,
    "start_time": "2022-03-03T18:27:07.099Z"
   },
   {
    "duration": 293,
    "start_time": "2022-03-03T18:27:09.015Z"
   },
   {
    "duration": 4,
    "start_time": "2022-03-03T18:27:17.756Z"
   },
   {
    "duration": 475,
    "start_time": "2022-03-03T18:27:19.272Z"
   },
   {
    "duration": 4,
    "start_time": "2022-03-03T18:27:27.490Z"
   },
   {
    "duration": 269,
    "start_time": "2022-03-03T18:27:29.296Z"
   },
   {
    "duration": 432,
    "start_time": "2022-03-03T18:28:33.576Z"
   },
   {
    "duration": 276,
    "start_time": "2022-03-03T18:29:35.916Z"
   },
   {
    "duration": 270,
    "start_time": "2022-03-03T18:33:53.005Z"
   },
   {
    "duration": 291,
    "start_time": "2022-03-03T18:35:25.698Z"
   },
   {
    "duration": 263,
    "start_time": "2022-03-03T18:48:47.765Z"
   },
   {
    "duration": 362,
    "start_time": "2022-03-03T18:50:35.040Z"
   },
   {
    "duration": 162,
    "start_time": "2022-03-03T18:51:06.818Z"
   },
   {
    "duration": 255,
    "start_time": "2022-03-03T18:51:11.899Z"
   },
   {
    "duration": 348,
    "start_time": "2022-03-03T18:52:59.489Z"
   },
   {
    "duration": 3,
    "start_time": "2022-03-03T18:53:39.153Z"
   },
   {
    "duration": 315,
    "start_time": "2022-03-03T18:53:41.355Z"
   },
   {
    "duration": 4,
    "start_time": "2022-03-03T18:54:10.909Z"
   },
   {
    "duration": 575,
    "start_time": "2022-03-03T18:54:12.655Z"
   },
   {
    "duration": 4,
    "start_time": "2022-03-03T18:54:30.632Z"
   },
   {
    "duration": 275,
    "start_time": "2022-03-03T18:54:32.580Z"
   },
   {
    "duration": 277,
    "start_time": "2022-03-03T18:54:40.528Z"
   },
   {
    "duration": 286,
    "start_time": "2022-03-03T18:54:46.353Z"
   },
   {
    "duration": 48,
    "start_time": "2022-03-03T20:25:09.667Z"
   },
   {
    "duration": 280,
    "start_time": "2022-03-03T20:27:36.275Z"
   },
   {
    "duration": 264,
    "start_time": "2022-03-03T20:28:04.038Z"
   },
   {
    "duration": 284,
    "start_time": "2022-03-03T20:28:18.779Z"
   },
   {
    "duration": 284,
    "start_time": "2022-03-03T20:28:28.242Z"
   },
   {
    "duration": 3910,
    "start_time": "2022-03-03T20:40:31.151Z"
   },
   {
    "duration": 6,
    "start_time": "2022-03-03T20:41:04.251Z"
   },
   {
    "duration": 26,
    "start_time": "2022-03-03T20:41:23.070Z"
   },
   {
    "duration": 3,
    "start_time": "2022-03-03T20:46:06.936Z"
   },
   {
    "duration": 262,
    "start_time": "2022-03-03T20:46:08.479Z"
   },
   {
    "duration": 360,
    "start_time": "2022-03-03T20:46:11.414Z"
   },
   {
    "duration": 277,
    "start_time": "2022-03-03T20:46:14.286Z"
   },
   {
    "duration": 15,
    "start_time": "2022-03-03T20:47:17.696Z"
   },
   {
    "duration": 255,
    "start_time": "2022-03-03T20:50:16.582Z"
   },
   {
    "duration": 285,
    "start_time": "2022-03-03T21:00:07.492Z"
   },
   {
    "duration": 288,
    "start_time": "2022-03-03T21:00:19.178Z"
   },
   {
    "duration": 1879,
    "start_time": "2022-03-04T18:52:57.163Z"
   },
   {
    "duration": 1117,
    "start_time": "2022-03-04T18:52:59.045Z"
   },
   {
    "duration": 25,
    "start_time": "2022-03-04T18:53:00.165Z"
   },
   {
    "duration": 15,
    "start_time": "2022-03-04T18:53:00.193Z"
   },
   {
    "duration": 22,
    "start_time": "2022-03-04T18:53:00.234Z"
   },
   {
    "duration": 1154,
    "start_time": "2022-03-04T18:53:00.259Z"
   },
   {
    "duration": 28,
    "start_time": "2022-03-04T18:53:01.415Z"
   },
   {
    "duration": 25,
    "start_time": "2022-03-04T18:53:01.446Z"
   },
   {
    "duration": 4,
    "start_time": "2022-03-04T18:53:01.475Z"
   },
   {
    "duration": 657,
    "start_time": "2022-03-04T18:53:01.482Z"
   },
   {
    "duration": 7,
    "start_time": "2022-03-04T18:53:02.141Z"
   },
   {
    "duration": 367,
    "start_time": "2022-03-04T18:53:02.151Z"
   },
   {
    "duration": 465,
    "start_time": "2022-03-04T18:53:02.521Z"
   },
   {
    "duration": 553,
    "start_time": "2022-03-04T18:53:02.989Z"
   },
   {
    "duration": 471,
    "start_time": "2022-03-04T18:53:03.544Z"
   },
   {
    "duration": 526,
    "start_time": "2022-03-04T18:53:04.017Z"
   },
   {
    "duration": 31,
    "start_time": "2022-03-04T18:53:04.545Z"
   },
   {
    "duration": 472,
    "start_time": "2022-03-04T18:53:04.579Z"
   },
   {
    "duration": 6,
    "start_time": "2022-03-04T18:53:09.106Z"
   },
   {
    "duration": 404,
    "start_time": "2022-03-04T19:03:07.443Z"
   },
   {
    "duration": 6,
    "start_time": "2022-03-04T19:03:17.017Z"
   },
   {
    "duration": 17,
    "start_time": "2022-03-04T19:08:44.324Z"
   },
   {
    "duration": 7,
    "start_time": "2022-03-04T20:01:55.926Z"
   },
   {
    "duration": 3,
    "start_time": "2022-03-04T20:02:29.792Z"
   },
   {
    "duration": 8,
    "start_time": "2022-03-04T20:03:23.696Z"
   },
   {
    "duration": 434,
    "start_time": "2022-03-04T20:09:44.405Z"
   },
   {
    "duration": 13,
    "start_time": "2022-03-04T20:12:15.882Z"
   },
   {
    "duration": 15,
    "start_time": "2022-03-04T20:13:48.300Z"
   },
   {
    "duration": 21,
    "start_time": "2022-03-04T20:15:26.962Z"
   },
   {
    "duration": 21,
    "start_time": "2022-03-04T20:15:32.652Z"
   },
   {
    "duration": 4,
    "start_time": "2022-03-04T20:15:59.396Z"
   },
   {
    "duration": 1111,
    "start_time": "2022-03-04T20:15:59.406Z"
   },
   {
    "duration": 36,
    "start_time": "2022-03-04T20:16:00.521Z"
   },
   {
    "duration": 15,
    "start_time": "2022-03-04T20:16:00.561Z"
   },
   {
    "duration": 64,
    "start_time": "2022-03-04T20:16:00.579Z"
   },
   {
    "duration": 1094,
    "start_time": "2022-03-04T20:16:00.646Z"
   },
   {
    "duration": 19,
    "start_time": "2022-03-04T20:16:01.742Z"
   },
   {
    "duration": 22,
    "start_time": "2022-03-04T20:16:01.764Z"
   },
   {
    "duration": 5,
    "start_time": "2022-03-04T20:16:01.788Z"
   },
   {
    "duration": 621,
    "start_time": "2022-03-04T20:16:01.833Z"
   },
   {
    "duration": 6,
    "start_time": "2022-03-04T20:16:02.457Z"
   },
   {
    "duration": 5,
    "start_time": "2022-03-04T20:16:02.466Z"
   },
   {
    "duration": 489,
    "start_time": "2022-03-04T20:16:02.473Z"
   },
   {
    "duration": 454,
    "start_time": "2022-03-04T20:16:02.965Z"
   },
   {
    "duration": 470,
    "start_time": "2022-03-04T20:16:03.421Z"
   },
   {
    "duration": 518,
    "start_time": "2022-03-04T20:16:03.893Z"
   },
   {
    "duration": 38,
    "start_time": "2022-03-04T20:16:04.413Z"
   },
   {
    "duration": 478,
    "start_time": "2022-03-04T20:16:04.453Z"
   },
   {
    "duration": 6,
    "start_time": "2022-03-04T20:16:04.934Z"
   },
   {
    "duration": 15,
    "start_time": "2022-03-04T20:16:04.942Z"
   },
   {
    "duration": 8,
    "start_time": "2022-03-04T20:16:04.960Z"
   },
   {
    "duration": 6,
    "start_time": "2022-03-04T20:16:09.903Z"
   },
   {
    "duration": 18,
    "start_time": "2022-03-04T20:16:14.571Z"
   },
   {
    "duration": 5,
    "start_time": "2022-03-04T20:20:58.493Z"
   },
   {
    "duration": 32,
    "start_time": "2022-03-04T20:23:31.726Z"
   },
   {
    "duration": 5,
    "start_time": "2022-03-04T20:24:04.111Z"
   },
   {
    "duration": 4,
    "start_time": "2022-03-04T20:28:43.514Z"
   },
   {
    "duration": 291,
    "start_time": "2022-03-04T20:37:17.212Z"
   },
   {
    "duration": 255,
    "start_time": "2022-03-04T20:38:08.056Z"
   },
   {
    "duration": 4,
    "start_time": "2022-03-04T20:38:14.681Z"
   },
   {
    "duration": 3,
    "start_time": "2022-03-04T20:38:16.785Z"
   },
   {
    "duration": 4,
    "start_time": "2022-03-04T20:38:18.371Z"
   },
   {
    "duration": 89,
    "start_time": "2022-03-04T20:43:04.544Z"
   },
   {
    "duration": 19,
    "start_time": "2022-03-04T20:46:11.112Z"
   },
   {
    "duration": 81,
    "start_time": "2022-03-04T20:52:18.995Z"
   },
   {
    "duration": 5,
    "start_time": "2022-03-04T20:54:46.685Z"
   },
   {
    "duration": 1237,
    "start_time": "2022-03-04T20:54:46.702Z"
   },
   {
    "duration": 26,
    "start_time": "2022-03-04T20:54:47.941Z"
   },
   {
    "duration": 18,
    "start_time": "2022-03-04T20:54:47.971Z"
   },
   {
    "duration": 67,
    "start_time": "2022-03-04T20:54:47.992Z"
   },
   {
    "duration": 1121,
    "start_time": "2022-03-04T20:54:48.062Z"
   },
   {
    "duration": 20,
    "start_time": "2022-03-04T20:54:49.185Z"
   },
   {
    "duration": 37,
    "start_time": "2022-03-04T20:54:49.208Z"
   },
   {
    "duration": 5,
    "start_time": "2022-03-04T20:54:49.247Z"
   },
   {
    "duration": 558,
    "start_time": "2022-03-04T20:54:49.258Z"
   },
   {
    "duration": 15,
    "start_time": "2022-03-04T20:54:49.819Z"
   },
   {
    "duration": 7,
    "start_time": "2022-03-04T20:54:49.837Z"
   },
   {
    "duration": 503,
    "start_time": "2022-03-04T20:54:49.847Z"
   },
   {
    "duration": 456,
    "start_time": "2022-03-04T20:54:50.353Z"
   },
   {
    "duration": 520,
    "start_time": "2022-03-04T20:54:50.812Z"
   },
   {
    "duration": 517,
    "start_time": "2022-03-04T20:54:51.335Z"
   },
   {
    "duration": 34,
    "start_time": "2022-03-04T20:54:51.855Z"
   },
   {
    "duration": 616,
    "start_time": "2022-03-04T20:54:51.891Z"
   },
   {
    "duration": 22,
    "start_time": "2022-03-04T20:54:52.510Z"
   },
   {
    "duration": 13,
    "start_time": "2022-03-04T20:54:52.535Z"
   },
   {
    "duration": 7,
    "start_time": "2022-03-04T20:54:52.550Z"
   },
   {
    "duration": 16,
    "start_time": "2022-03-04T20:54:52.560Z"
   },
   {
    "duration": 58,
    "start_time": "2022-03-04T20:54:52.578Z"
   },
   {
    "duration": 4,
    "start_time": "2022-03-04T20:54:52.638Z"
   },
   {
    "duration": 6,
    "start_time": "2022-03-04T20:54:52.644Z"
   },
   {
    "duration": 6,
    "start_time": "2022-03-04T20:54:52.653Z"
   },
   {
    "duration": 2427,
    "start_time": "2022-03-04T20:58:28.009Z"
   },
   {
    "duration": 5,
    "start_time": "2022-03-04T20:59:14.672Z"
   },
   {
    "duration": 4,
    "start_time": "2022-03-04T20:59:16.638Z"
   },
   {
    "duration": 4,
    "start_time": "2022-03-04T20:59:18.509Z"
   },
   {
    "duration": 11950,
    "start_time": "2022-03-04T20:59:23.282Z"
   },
   {
    "duration": 11583,
    "start_time": "2022-03-04T21:02:30.812Z"
   },
   {
    "duration": 3,
    "start_time": "2022-03-04T21:05:29.452Z"
   },
   {
    "duration": 4,
    "start_time": "2022-03-04T21:09:22.957Z"
   },
   {
    "duration": 107,
    "start_time": "2022-03-04T21:20:50.705Z"
   },
   {
    "duration": 85,
    "start_time": "2022-03-04T21:20:58.357Z"
   },
   {
    "duration": 259,
    "start_time": "2022-03-04T21:21:12.542Z"
   },
   {
    "duration": 378,
    "start_time": "2022-03-04T21:21:46.862Z"
   },
   {
    "duration": 4,
    "start_time": "2022-03-04T21:32:12.476Z"
   },
   {
    "duration": 4,
    "start_time": "2022-03-04T21:32:26.727Z"
   },
   {
    "duration": 5,
    "start_time": "2022-03-04T21:33:50.372Z"
   },
   {
    "duration": 362,
    "start_time": "2022-03-04T21:35:11.616Z"
   },
   {
    "duration": 1136,
    "start_time": "2022-03-05T06:35:56.363Z"
   },
   {
    "duration": 845,
    "start_time": "2022-03-05T06:35:57.501Z"
   },
   {
    "duration": 18,
    "start_time": "2022-03-05T06:35:58.359Z"
   },
   {
    "duration": 10,
    "start_time": "2022-03-05T06:35:58.379Z"
   },
   {
    "duration": 21,
    "start_time": "2022-03-05T06:35:58.391Z"
   },
   {
    "duration": 933,
    "start_time": "2022-03-05T06:35:58.414Z"
   },
   {
    "duration": 18,
    "start_time": "2022-03-05T06:35:59.348Z"
   },
   {
    "duration": 20,
    "start_time": "2022-03-05T06:35:59.369Z"
   },
   {
    "duration": 3,
    "start_time": "2022-03-05T06:35:59.391Z"
   },
   {
    "duration": 320,
    "start_time": "2022-03-05T06:35:59.396Z"
   },
   {
    "duration": 5,
    "start_time": "2022-03-05T06:35:59.718Z"
   },
   {
    "duration": 5,
    "start_time": "2022-03-05T06:35:59.724Z"
   },
   {
    "duration": 320,
    "start_time": "2022-03-05T06:35:59.730Z"
   },
   {
    "duration": 301,
    "start_time": "2022-03-05T06:36:00.051Z"
   },
   {
    "duration": 308,
    "start_time": "2022-03-05T06:36:00.354Z"
   },
   {
    "duration": 337,
    "start_time": "2022-03-05T06:36:00.663Z"
   },
   {
    "duration": 26,
    "start_time": "2022-03-05T06:36:01.002Z"
   },
   {
    "duration": 315,
    "start_time": "2022-03-05T06:36:01.030Z"
   },
   {
    "duration": 3,
    "start_time": "2022-03-05T06:36:01.347Z"
   },
   {
    "duration": 15,
    "start_time": "2022-03-05T06:36:01.352Z"
   },
   {
    "duration": 5,
    "start_time": "2022-03-05T06:36:01.368Z"
   },
   {
    "duration": 19,
    "start_time": "2022-03-05T06:36:01.375Z"
   },
   {
    "duration": 15,
    "start_time": "2022-03-05T06:36:01.396Z"
   },
   {
    "duration": 2,
    "start_time": "2022-03-05T06:36:01.413Z"
   },
   {
    "duration": 5,
    "start_time": "2022-03-05T06:36:01.417Z"
   },
   {
    "duration": 9570,
    "start_time": "2022-03-05T06:36:01.424Z"
   },
   {
    "duration": 9289,
    "start_time": "2022-03-05T06:36:10.995Z"
   },
   {
    "duration": 4,
    "start_time": "2022-03-05T06:36:20.285Z"
   },
   {
    "duration": 303,
    "start_time": "2022-03-05T06:36:20.290Z"
   },
   {
    "duration": 467576,
    "start_time": "2022-03-05T06:38:28.888Z"
   },
   {
    "duration": 463009,
    "start_time": "2022-03-05T06:48:42.764Z"
   },
   {
    "duration": 1787,
    "start_time": "2022-03-05T06:58:47.634Z"
   },
   {
    "duration": 378,
    "start_time": "2022-03-05T06:58:59.891Z"
   },
   {
    "duration": 1203,
    "start_time": "2022-03-05T07:35:57.562Z"
   },
   {
    "duration": 1628,
    "start_time": "2022-03-05T07:54:05.852Z"
   },
   {
    "duration": 222,
    "start_time": "2022-03-05T07:58:42.025Z"
   },
   {
    "duration": 245,
    "start_time": "2022-03-05T08:03:38.630Z"
   },
   {
    "duration": 239,
    "start_time": "2022-03-05T08:03:53.414Z"
   },
   {
    "duration": 13,
    "start_time": "2022-03-05T08:26:24.627Z"
   },
   {
    "duration": 23,
    "start_time": "2022-03-05T08:26:41.960Z"
   },
   {
    "duration": 19,
    "start_time": "2022-03-05T08:27:56.239Z"
   },
   {
    "duration": 22,
    "start_time": "2022-03-05T08:28:14.334Z"
   },
   {
    "duration": 17,
    "start_time": "2022-03-05T08:29:07.299Z"
   },
   {
    "duration": 17,
    "start_time": "2022-03-05T08:29:17.340Z"
   },
   {
    "duration": 21,
    "start_time": "2022-03-05T08:30:01.521Z"
   },
   {
    "duration": 3,
    "start_time": "2022-03-05T08:41:43.355Z"
   },
   {
    "duration": 836,
    "start_time": "2022-03-05T08:41:43.362Z"
   },
   {
    "duration": 19,
    "start_time": "2022-03-05T08:41:44.200Z"
   },
   {
    "duration": 10,
    "start_time": "2022-03-05T08:41:44.222Z"
   },
   {
    "duration": 17,
    "start_time": "2022-03-05T08:41:44.260Z"
   },
   {
    "duration": 916,
    "start_time": "2022-03-05T08:41:44.280Z"
   },
   {
    "duration": 14,
    "start_time": "2022-03-05T08:41:45.198Z"
   },
   {
    "duration": 16,
    "start_time": "2022-03-05T08:41:45.214Z"
   },
   {
    "duration": 3,
    "start_time": "2022-03-05T08:41:45.233Z"
   },
   {
    "duration": 338,
    "start_time": "2022-03-05T08:41:45.238Z"
   },
   {
    "duration": 5,
    "start_time": "2022-03-05T08:41:45.578Z"
   },
   {
    "duration": 4,
    "start_time": "2022-03-05T08:41:45.584Z"
   },
   {
    "duration": 333,
    "start_time": "2022-03-05T08:41:45.590Z"
   },
   {
    "duration": 300,
    "start_time": "2022-03-05T08:41:45.924Z"
   },
   {
    "duration": 320,
    "start_time": "2022-03-05T08:41:46.226Z"
   },
   {
    "duration": 348,
    "start_time": "2022-03-05T08:41:46.548Z"
   },
   {
    "duration": 21,
    "start_time": "2022-03-05T08:41:46.898Z"
   },
   {
    "duration": 329,
    "start_time": "2022-03-05T08:41:46.921Z"
   },
   {
    "duration": 9,
    "start_time": "2022-03-05T08:41:47.252Z"
   },
   {
    "duration": 22,
    "start_time": "2022-03-05T08:41:47.262Z"
   },
   {
    "duration": 7,
    "start_time": "2022-03-05T08:41:47.286Z"
   },
   {
    "duration": 17,
    "start_time": "2022-03-05T08:42:11.907Z"
   },
   {
    "duration": 30,
    "start_time": "2022-03-05T08:43:49.106Z"
   },
   {
    "duration": 82,
    "start_time": "2022-03-05T08:44:35.221Z"
   },
   {
    "duration": 26,
    "start_time": "2022-03-05T08:44:49.703Z"
   },
   {
    "duration": 31,
    "start_time": "2022-03-05T08:47:02.667Z"
   },
   {
    "duration": 5,
    "start_time": "2022-03-05T08:47:06.900Z"
   },
   {
    "duration": 16,
    "start_time": "2022-03-05T08:47:11.572Z"
   },
   {
    "duration": 3,
    "start_time": "2022-03-05T08:48:46.742Z"
   },
   {
    "duration": 872,
    "start_time": "2022-03-05T08:48:46.749Z"
   },
   {
    "duration": 17,
    "start_time": "2022-03-05T08:48:47.623Z"
   },
   {
    "duration": 25,
    "start_time": "2022-03-05T08:48:47.642Z"
   },
   {
    "duration": 16,
    "start_time": "2022-03-05T08:48:47.669Z"
   },
   {
    "duration": 898,
    "start_time": "2022-03-05T08:48:47.686Z"
   },
   {
    "duration": 14,
    "start_time": "2022-03-05T08:48:48.586Z"
   },
   {
    "duration": 16,
    "start_time": "2022-03-05T08:48:48.602Z"
   },
   {
    "duration": 4,
    "start_time": "2022-03-05T08:48:48.620Z"
   },
   {
    "duration": 343,
    "start_time": "2022-03-05T08:48:48.626Z"
   },
   {
    "duration": 5,
    "start_time": "2022-03-05T08:48:48.970Z"
   },
   {
    "duration": 4,
    "start_time": "2022-03-05T08:48:48.977Z"
   },
   {
    "duration": 334,
    "start_time": "2022-03-05T08:48:48.982Z"
   },
   {
    "duration": 308,
    "start_time": "2022-03-05T08:48:49.318Z"
   },
   {
    "duration": 321,
    "start_time": "2022-03-05T08:48:49.628Z"
   },
   {
    "duration": 358,
    "start_time": "2022-03-05T08:48:49.951Z"
   },
   {
    "duration": 22,
    "start_time": "2022-03-05T08:48:50.311Z"
   },
   {
    "duration": 397,
    "start_time": "2022-03-05T08:48:50.334Z"
   },
   {
    "duration": 4,
    "start_time": "2022-03-05T08:48:50.733Z"
   },
   {
    "duration": 10,
    "start_time": "2022-03-05T08:48:50.739Z"
   },
   {
    "duration": 14,
    "start_time": "2022-03-05T08:48:50.750Z"
   },
   {
    "duration": 15,
    "start_time": "2022-03-05T08:48:50.766Z"
   },
   {
    "duration": 18,
    "start_time": "2022-03-05T08:48:50.783Z"
   },
   {
    "duration": 3,
    "start_time": "2022-03-05T08:48:50.804Z"
   },
   {
    "duration": 7,
    "start_time": "2022-03-05T08:48:50.809Z"
   },
   {
    "duration": 3,
    "start_time": "2022-03-05T08:49:37.452Z"
   },
   {
    "duration": 872,
    "start_time": "2022-03-05T08:49:37.460Z"
   },
   {
    "duration": 30,
    "start_time": "2022-03-05T08:49:38.335Z"
   },
   {
    "duration": 11,
    "start_time": "2022-03-05T08:49:38.367Z"
   },
   {
    "duration": 27,
    "start_time": "2022-03-05T08:49:38.379Z"
   },
   {
    "duration": 865,
    "start_time": "2022-03-05T08:49:38.408Z"
   },
   {
    "duration": 14,
    "start_time": "2022-03-05T08:49:39.275Z"
   },
   {
    "duration": 19,
    "start_time": "2022-03-05T08:49:39.291Z"
   },
   {
    "duration": 3,
    "start_time": "2022-03-05T08:49:39.313Z"
   },
   {
    "duration": 365,
    "start_time": "2022-03-05T08:49:39.318Z"
   },
   {
    "duration": 6,
    "start_time": "2022-03-05T08:49:39.685Z"
   },
   {
    "duration": 6,
    "start_time": "2022-03-05T08:49:39.693Z"
   },
   {
    "duration": 349,
    "start_time": "2022-03-05T08:49:39.701Z"
   },
   {
    "duration": 326,
    "start_time": "2022-03-05T08:49:40.052Z"
   },
   {
    "duration": 317,
    "start_time": "2022-03-05T08:49:40.380Z"
   },
   {
    "duration": 348,
    "start_time": "2022-03-05T08:49:40.699Z"
   },
   {
    "duration": 24,
    "start_time": "2022-03-05T08:49:41.049Z"
   },
   {
    "duration": 323,
    "start_time": "2022-03-05T08:49:41.074Z"
   },
   {
    "duration": 4,
    "start_time": "2022-03-05T08:49:41.399Z"
   },
   {
    "duration": 6,
    "start_time": "2022-03-05T08:49:41.405Z"
   },
   {
    "duration": 7,
    "start_time": "2022-03-05T08:49:41.413Z"
   },
   {
    "duration": 39,
    "start_time": "2022-03-05T08:49:41.422Z"
   },
   {
    "duration": 15,
    "start_time": "2022-03-05T08:49:41.462Z"
   },
   {
    "duration": 3,
    "start_time": "2022-03-05T08:49:41.479Z"
   },
   {
    "duration": 17,
    "start_time": "2022-03-05T08:49:41.484Z"
   },
   {
    "duration": 1758,
    "start_time": "2022-03-05T08:50:00.202Z"
   },
   {
    "duration": 4,
    "start_time": "2022-03-05T08:53:48.799Z"
   },
   {
    "duration": 858,
    "start_time": "2022-03-05T08:53:48.807Z"
   },
   {
    "duration": 18,
    "start_time": "2022-03-05T08:53:49.667Z"
   },
   {
    "duration": 10,
    "start_time": "2022-03-05T08:53:49.687Z"
   },
   {
    "duration": 17,
    "start_time": "2022-03-05T08:53:49.700Z"
   },
   {
    "duration": 902,
    "start_time": "2022-03-05T08:53:49.719Z"
   },
   {
    "duration": 14,
    "start_time": "2022-03-05T08:53:50.624Z"
   },
   {
    "duration": 32,
    "start_time": "2022-03-05T08:53:50.640Z"
   },
   {
    "duration": 5,
    "start_time": "2022-03-05T08:53:50.675Z"
   },
   {
    "duration": 333,
    "start_time": "2022-03-05T08:53:50.682Z"
   },
   {
    "duration": 7,
    "start_time": "2022-03-05T08:53:51.017Z"
   },
   {
    "duration": 4,
    "start_time": "2022-03-05T08:53:51.026Z"
   },
   {
    "duration": 343,
    "start_time": "2022-03-05T08:53:51.032Z"
   },
   {
    "duration": 321,
    "start_time": "2022-03-05T08:53:51.377Z"
   },
   {
    "duration": 323,
    "start_time": "2022-03-05T08:53:51.700Z"
   },
   {
    "duration": 436,
    "start_time": "2022-03-05T08:53:52.025Z"
   },
   {
    "duration": 21,
    "start_time": "2022-03-05T08:53:52.463Z"
   },
   {
    "duration": 356,
    "start_time": "2022-03-05T08:53:52.486Z"
   },
   {
    "duration": 7,
    "start_time": "2022-03-05T08:53:52.844Z"
   },
   {
    "duration": 5,
    "start_time": "2022-03-05T08:53:52.859Z"
   },
   {
    "duration": 8,
    "start_time": "2022-03-05T08:53:52.866Z"
   },
   {
    "duration": 20,
    "start_time": "2022-03-05T08:53:52.875Z"
   },
   {
    "duration": 15,
    "start_time": "2022-03-05T08:53:52.897Z"
   },
   {
    "duration": 3,
    "start_time": "2022-03-05T08:53:52.916Z"
   },
   {
    "duration": 5,
    "start_time": "2022-03-05T08:53:52.921Z"
   },
   {
    "duration": 10014,
    "start_time": "2022-03-05T08:53:52.928Z"
   },
   {
    "duration": 9643,
    "start_time": "2022-03-05T08:54:02.944Z"
   },
   {
    "duration": 3,
    "start_time": "2022-03-05T08:54:12.589Z"
   },
   {
    "duration": 310,
    "start_time": "2022-03-05T08:54:12.595Z"
   },
   {
    "duration": 485870,
    "start_time": "2022-03-05T08:54:12.907Z"
   },
   {
    "duration": 472044,
    "start_time": "2022-03-05T09:02:18.778Z"
   },
   {
    "duration": 1836,
    "start_time": "2022-03-05T09:10:10.823Z"
   },
   {
    "duration": 709,
    "start_time": "2022-03-05T09:10:12.660Z"
   },
   {
    "duration": 1499,
    "start_time": "2022-03-05T09:10:13.371Z"
   },
   {
    "duration": 2343,
    "start_time": "2022-03-05T09:10:14.873Z"
   },
   {
    "duration": 1320,
    "start_time": "2022-03-05T09:18:04.549Z"
   },
   {
    "duration": 1869,
    "start_time": "2022-03-05T09:22:25.758Z"
   },
   {
    "duration": 1168,
    "start_time": "2022-03-05T09:23:28.313Z"
   },
   {
    "duration": 323,
    "start_time": "2022-03-05T09:23:39.972Z"
   },
   {
    "duration": 1161,
    "start_time": "2022-03-05T09:23:47.511Z"
   },
   {
    "duration": 1837,
    "start_time": "2022-03-05T09:23:54.429Z"
   },
   {
    "duration": 1381,
    "start_time": "2022-03-05T09:24:16.891Z"
   },
   {
    "duration": 3,
    "start_time": "2022-03-05T09:35:15.261Z"
   },
   {
    "duration": 4,
    "start_time": "2022-03-05T09:35:25.844Z"
   },
   {
    "duration": 9933,
    "start_time": "2022-03-05T09:39:01.073Z"
   },
   {
    "duration": 4,
    "start_time": "2022-03-05T09:39:46.471Z"
   },
   {
    "duration": 5,
    "start_time": "2022-03-05T09:39:56.216Z"
   },
   {
    "duration": 4,
    "start_time": "2022-03-05T09:43:33.727Z"
   },
   {
    "duration": 225,
    "start_time": "2022-03-05T09:43:54.514Z"
   },
   {
    "duration": 4,
    "start_time": "2022-03-05T09:44:07.108Z"
   },
   {
    "duration": 472876,
    "start_time": "2022-03-05T09:46:27.911Z"
   },
   {
    "duration": 5,
    "start_time": "2022-03-05T09:56:56.869Z"
   },
   {
    "duration": 1876,
    "start_time": "2022-03-05T10:01:05.709Z"
   },
   {
    "duration": 4,
    "start_time": "2022-03-05T10:13:09.146Z"
   },
   {
    "duration": 8,
    "start_time": "2022-03-05T10:13:16.321Z"
   },
   {
    "duration": 8,
    "start_time": "2022-03-05T10:13:50.573Z"
   },
   {
    "duration": 8,
    "start_time": "2022-03-05T10:14:03.692Z"
   },
   {
    "duration": 9,
    "start_time": "2022-03-05T10:14:12.510Z"
   },
   {
    "duration": 8,
    "start_time": "2022-03-05T10:14:18.226Z"
   },
   {
    "duration": 19,
    "start_time": "2022-03-05T10:17:13.669Z"
   },
   {
    "duration": 20,
    "start_time": "2022-03-05T10:17:57.514Z"
   },
   {
    "duration": 4,
    "start_time": "2022-03-05T10:29:55.000Z"
   },
   {
    "duration": 878,
    "start_time": "2022-03-05T10:29:55.010Z"
   },
   {
    "duration": 17,
    "start_time": "2022-03-05T10:29:55.891Z"
   },
   {
    "duration": 12,
    "start_time": "2022-03-05T10:29:55.911Z"
   },
   {
    "duration": 45,
    "start_time": "2022-03-05T10:29:55.926Z"
   },
   {
    "duration": 928,
    "start_time": "2022-03-05T10:29:55.974Z"
   },
   {
    "duration": 14,
    "start_time": "2022-03-05T10:29:56.903Z"
   },
   {
    "duration": 18,
    "start_time": "2022-03-05T10:29:56.919Z"
   },
   {
    "duration": 20,
    "start_time": "2022-03-05T10:29:56.940Z"
   },
   {
    "duration": 315,
    "start_time": "2022-03-05T10:29:56.962Z"
   },
   {
    "duration": 7,
    "start_time": "2022-03-05T10:29:57.278Z"
   },
   {
    "duration": 4,
    "start_time": "2022-03-05T10:29:57.287Z"
   },
   {
    "duration": 335,
    "start_time": "2022-03-05T10:29:57.293Z"
   },
   {
    "duration": 309,
    "start_time": "2022-03-05T10:29:57.630Z"
   },
   {
    "duration": 322,
    "start_time": "2022-03-05T10:29:57.941Z"
   },
   {
    "duration": 337,
    "start_time": "2022-03-05T10:29:58.265Z"
   },
   {
    "duration": 20,
    "start_time": "2022-03-05T10:29:58.605Z"
   },
   {
    "duration": 327,
    "start_time": "2022-03-05T10:29:58.627Z"
   },
   {
    "duration": 6,
    "start_time": "2022-03-05T10:29:58.956Z"
   },
   {
    "duration": 11,
    "start_time": "2022-03-05T10:29:58.964Z"
   },
   {
    "duration": 6,
    "start_time": "2022-03-05T10:29:58.977Z"
   },
   {
    "duration": 16,
    "start_time": "2022-03-05T10:29:58.985Z"
   },
   {
    "duration": 2,
    "start_time": "2022-03-05T10:29:59.003Z"
   },
   {
    "duration": 9,
    "start_time": "2022-03-05T10:29:59.008Z"
   },
   {
    "duration": 5,
    "start_time": "2022-03-05T10:29:59.019Z"
   },
   {
    "duration": 9948,
    "start_time": "2022-03-05T10:29:59.026Z"
   },
   {
    "duration": 4,
    "start_time": "2022-03-05T10:30:08.977Z"
   },
   {
    "duration": 9535,
    "start_time": "2022-03-05T10:30:08.983Z"
   },
   {
    "duration": 4,
    "start_time": "2022-03-05T10:30:18.519Z"
   },
   {
    "duration": 477801,
    "start_time": "2022-03-05T10:30:18.525Z"
   },
   {
    "duration": 4,
    "start_time": "2022-03-05T10:38:16.327Z"
   },
   {
    "duration": 464967,
    "start_time": "2022-03-05T10:38:16.332Z"
   },
   {
    "duration": 3,
    "start_time": "2022-03-05T10:46:01.301Z"
   },
   {
    "duration": 1839,
    "start_time": "2022-03-05T10:46:01.306Z"
   },
   {
    "duration": 11,
    "start_time": "2022-03-05T10:51:20.557Z"
   },
   {
    "duration": 4,
    "start_time": "2022-03-05T10:58:29.061Z"
   },
   {
    "duration": 852,
    "start_time": "2022-03-05T10:58:29.071Z"
   },
   {
    "duration": 39,
    "start_time": "2022-03-05T10:58:29.925Z"
   },
   {
    "duration": 11,
    "start_time": "2022-03-05T10:58:29.966Z"
   },
   {
    "duration": 15,
    "start_time": "2022-03-05T10:58:29.979Z"
   },
   {
    "duration": 911,
    "start_time": "2022-03-05T10:58:29.996Z"
   },
   {
    "duration": 15,
    "start_time": "2022-03-05T10:58:30.909Z"
   },
   {
    "duration": 35,
    "start_time": "2022-03-05T10:58:30.925Z"
   },
   {
    "duration": 3,
    "start_time": "2022-03-05T10:58:30.962Z"
   },
   {
    "duration": 327,
    "start_time": "2022-03-05T10:58:30.968Z"
   },
   {
    "duration": 5,
    "start_time": "2022-03-05T10:58:31.298Z"
   },
   {
    "duration": 11,
    "start_time": "2022-03-05T10:58:31.305Z"
   },
   {
    "duration": 331,
    "start_time": "2022-03-05T10:58:31.318Z"
   },
   {
    "duration": 317,
    "start_time": "2022-03-05T10:58:31.650Z"
   },
   {
    "duration": 323,
    "start_time": "2022-03-05T10:58:31.969Z"
   },
   {
    "duration": 336,
    "start_time": "2022-03-05T10:58:32.294Z"
   },
   {
    "duration": 31,
    "start_time": "2022-03-05T10:58:32.632Z"
   },
   {
    "duration": 319,
    "start_time": "2022-03-05T10:58:32.664Z"
   },
   {
    "duration": 4,
    "start_time": "2022-03-05T10:58:32.985Z"
   },
   {
    "duration": 6,
    "start_time": "2022-03-05T10:58:32.990Z"
   },
   {
    "duration": 7,
    "start_time": "2022-03-05T10:58:32.998Z"
   },
   {
    "duration": 14,
    "start_time": "2022-03-05T10:58:33.007Z"
   },
   {
    "duration": 3,
    "start_time": "2022-03-05T10:58:33.022Z"
   },
   {
    "duration": 3,
    "start_time": "2022-03-05T10:58:33.059Z"
   },
   {
    "duration": 9,
    "start_time": "2022-03-05T10:58:33.064Z"
   },
   {
    "duration": 10513,
    "start_time": "2022-03-05T10:58:33.075Z"
   },
   {
    "duration": 4,
    "start_time": "2022-03-05T10:58:43.590Z"
   },
   {
    "duration": 10184,
    "start_time": "2022-03-05T10:58:43.599Z"
   },
   {
    "duration": 4,
    "start_time": "2022-03-05T10:58:53.785Z"
   },
   {
    "duration": 520036,
    "start_time": "2022-03-05T10:58:53.791Z"
   },
   {
    "duration": 4,
    "start_time": "2022-03-05T11:07:33.829Z"
   },
   {
    "duration": 507054,
    "start_time": "2022-03-05T11:07:33.834Z"
   },
   {
    "duration": 4,
    "start_time": "2022-03-05T11:16:00.890Z"
   },
   {
    "duration": 1992,
    "start_time": "2022-03-05T11:16:00.895Z"
   },
   {
    "duration": 1985,
    "start_time": "2022-03-05T11:37:56.439Z"
   },
   {
    "duration": 2375,
    "start_time": "2022-03-05T11:51:39.691Z"
   },
   {
    "duration": 1125,
    "start_time": "2022-03-06T19:30:37.138Z"
   },
   {
    "duration": 884,
    "start_time": "2022-03-06T19:30:38.265Z"
   },
   {
    "duration": 16,
    "start_time": "2022-03-06T19:30:39.151Z"
   },
   {
    "duration": 10,
    "start_time": "2022-03-06T19:30:39.169Z"
   },
   {
    "duration": 32,
    "start_time": "2022-03-06T19:30:39.181Z"
   },
   {
    "duration": 1107,
    "start_time": "2022-03-06T19:30:39.215Z"
   },
   {
    "duration": 13,
    "start_time": "2022-03-06T19:30:40.324Z"
   },
   {
    "duration": 20,
    "start_time": "2022-03-06T19:30:40.340Z"
   },
   {
    "duration": 4,
    "start_time": "2022-03-06T19:30:40.361Z"
   },
   {
    "duration": 499,
    "start_time": "2022-03-06T19:30:40.367Z"
   },
   {
    "duration": 6,
    "start_time": "2022-03-06T19:30:40.868Z"
   },
   {
    "duration": 4,
    "start_time": "2022-03-06T19:30:40.875Z"
   },
   {
    "duration": 345,
    "start_time": "2022-03-06T19:30:40.880Z"
   },
   {
    "duration": 274,
    "start_time": "2022-03-06T19:30:41.227Z"
   },
   {
    "duration": 284,
    "start_time": "2022-03-06T19:30:41.504Z"
   },
   {
    "duration": 314,
    "start_time": "2022-03-06T19:30:41.790Z"
   },
   {
    "duration": 25,
    "start_time": "2022-03-06T19:30:42.105Z"
   },
   {
    "duration": 282,
    "start_time": "2022-03-06T19:30:42.132Z"
   },
   {
    "duration": 6,
    "start_time": "2022-03-06T19:30:42.417Z"
   },
   {
    "duration": 5,
    "start_time": "2022-03-06T19:30:42.425Z"
   },
   {
    "duration": 6,
    "start_time": "2022-03-06T19:30:42.431Z"
   },
   {
    "duration": 13,
    "start_time": "2022-03-06T19:30:42.439Z"
   },
   {
    "duration": 2,
    "start_time": "2022-03-06T19:30:42.455Z"
   },
   {
    "duration": 4,
    "start_time": "2022-03-06T19:30:42.459Z"
   },
   {
    "duration": 10745,
    "start_time": "2022-03-06T19:30:42.465Z"
   },
   {
    "duration": 5,
    "start_time": "2022-03-06T19:30:53.212Z"
   },
   {
    "duration": 9954,
    "start_time": "2022-03-06T19:30:53.219Z"
   },
   {
    "duration": 3,
    "start_time": "2022-03-06T19:31:03.174Z"
   },
   {
    "duration": 462167,
    "start_time": "2022-03-06T19:31:03.179Z"
   },
   {
    "duration": 4,
    "start_time": "2022-03-06T19:38:45.348Z"
   },
   {
    "duration": 451063,
    "start_time": "2022-03-06T19:38:45.354Z"
   },
   {
    "duration": 3,
    "start_time": "2022-03-06T19:46:16.419Z"
   },
   {
    "duration": 2063,
    "start_time": "2022-03-06T19:46:16.423Z"
   },
   {
    "duration": 999,
    "start_time": "2022-03-07T07:59:54.265Z"
   },
   {
    "duration": 826,
    "start_time": "2022-03-07T07:59:55.266Z"
   },
   {
    "duration": 16,
    "start_time": "2022-03-07T07:59:56.093Z"
   },
   {
    "duration": 27,
    "start_time": "2022-03-07T07:59:56.110Z"
   },
   {
    "duration": 15,
    "start_time": "2022-03-07T07:59:56.138Z"
   },
   {
    "duration": 917,
    "start_time": "2022-03-07T07:59:56.154Z"
   },
   {
    "duration": 12,
    "start_time": "2022-03-07T07:59:57.073Z"
   },
   {
    "duration": 13,
    "start_time": "2022-03-07T08:00:04.574Z"
   },
   {
    "duration": 22,
    "start_time": "2022-03-07T08:00:25.188Z"
   },
   {
    "duration": 19,
    "start_time": "2022-03-07T08:01:11.619Z"
   },
   {
    "duration": 19,
    "start_time": "2022-03-07T08:01:35.088Z"
   },
   {
    "duration": 62,
    "start_time": "2022-03-07T08:02:26.578Z"
   },
   {
    "duration": 47,
    "start_time": "2022-03-07T08:03:24.841Z"
   },
   {
    "duration": 45,
    "start_time": "2022-03-07T08:03:37.804Z"
   },
   {
    "duration": 41,
    "start_time": "2022-03-07T08:10:01.422Z"
   },
   {
    "duration": 51,
    "start_time": "2022-03-07T08:10:15.044Z"
   },
   {
    "duration": 48,
    "start_time": "2022-03-07T08:10:31.686Z"
   },
   {
    "duration": 49,
    "start_time": "2022-03-07T08:10:38.145Z"
   },
   {
    "duration": 43,
    "start_time": "2022-03-07T08:15:48.843Z"
   },
   {
    "duration": 58,
    "start_time": "2022-03-07T08:15:56.345Z"
   },
   {
    "duration": 61,
    "start_time": "2022-03-07T08:17:23.137Z"
   },
   {
    "duration": 17,
    "start_time": "2022-03-07T08:20:07.992Z"
   },
   {
    "duration": 4,
    "start_time": "2022-03-07T08:20:21.824Z"
   },
   {
    "duration": 779,
    "start_time": "2022-03-07T08:20:21.831Z"
   },
   {
    "duration": 31,
    "start_time": "2022-03-07T08:20:22.612Z"
   },
   {
    "duration": 10,
    "start_time": "2022-03-07T08:20:22.644Z"
   },
   {
    "duration": 12,
    "start_time": "2022-03-07T08:20:22.656Z"
   },
   {
    "duration": 864,
    "start_time": "2022-03-07T08:20:22.670Z"
   },
   {
    "duration": 12,
    "start_time": "2022-03-07T08:20:23.535Z"
   },
   {
    "duration": 14,
    "start_time": "2022-03-07T08:20:23.549Z"
   },
   {
    "duration": 3,
    "start_time": "2022-03-07T08:25:35.824Z"
   },
   {
    "duration": 262,
    "start_time": "2022-03-07T08:26:08.906Z"
   },
   {
    "duration": 346,
    "start_time": "2022-03-07T08:26:17.710Z"
   },
   {
    "duration": 323,
    "start_time": "2022-03-07T08:26:40.420Z"
   },
   {
    "duration": 382,
    "start_time": "2022-03-07T08:26:50.572Z"
   },
   {
    "duration": 42,
    "start_time": "2022-03-07T08:27:21.708Z"
   },
   {
    "duration": 284,
    "start_time": "2022-03-07T08:28:13.688Z"
   },
   {
    "duration": 276,
    "start_time": "2022-03-07T08:28:23.385Z"
   },
   {
    "duration": 40,
    "start_time": "2022-03-07T08:29:12.327Z"
   },
   {
    "duration": 3,
    "start_time": "2022-03-07T08:38:42.462Z"
   },
   {
    "duration": 254,
    "start_time": "2022-03-07T08:39:58.105Z"
   },
   {
    "duration": 1170,
    "start_time": "2022-03-07T08:40:30.017Z"
   },
   {
    "duration": 3349,
    "start_time": "2022-03-07T08:41:33.290Z"
   },
   {
    "duration": 5,
    "start_time": "2022-03-07T08:42:00.504Z"
   },
   {
    "duration": 5,
    "start_time": "2022-03-07T08:42:03.301Z"
   },
   {
    "duration": 5,
    "start_time": "2022-03-07T08:43:28.084Z"
   },
   {
    "duration": 3148,
    "start_time": "2022-03-07T08:43:30.341Z"
   },
   {
    "duration": 3,
    "start_time": "2022-03-07T08:44:26.596Z"
   },
   {
    "duration": 790,
    "start_time": "2022-03-07T08:44:26.603Z"
   },
   {
    "duration": 15,
    "start_time": "2022-03-07T08:44:27.395Z"
   },
   {
    "duration": 25,
    "start_time": "2022-03-07T08:44:27.412Z"
   },
   {
    "duration": 13,
    "start_time": "2022-03-07T08:44:27.439Z"
   },
   {
    "duration": 852,
    "start_time": "2022-03-07T08:44:27.454Z"
   },
   {
    "duration": 26,
    "start_time": "2022-03-07T08:44:28.307Z"
   },
   {
    "duration": 17,
    "start_time": "2022-03-07T08:44:28.335Z"
   },
   {
    "duration": 3,
    "start_time": "2022-03-07T08:44:28.355Z"
   },
   {
    "duration": 393,
    "start_time": "2022-03-07T08:44:28.361Z"
   },
   {
    "duration": 6,
    "start_time": "2022-03-07T08:44:28.756Z"
   },
   {
    "duration": 4,
    "start_time": "2022-03-07T08:44:28.763Z"
   },
   {
    "duration": 331,
    "start_time": "2022-03-07T08:44:28.768Z"
   },
   {
    "duration": 331,
    "start_time": "2022-03-07T08:44:29.101Z"
   },
   {
    "duration": 332,
    "start_time": "2022-03-07T08:44:29.434Z"
   },
   {
    "duration": 296,
    "start_time": "2022-03-07T08:44:29.768Z"
   },
   {
    "duration": 29,
    "start_time": "2022-03-07T08:44:30.066Z"
   },
   {
    "duration": 137,
    "start_time": "2022-03-07T08:44:30.097Z"
   },
   {
    "duration": -4562,
    "start_time": "2022-03-07T08:44:34.799Z"
   },
   {
    "duration": -4569,
    "start_time": "2022-03-07T08:44:34.807Z"
   },
   {
    "duration": -4572,
    "start_time": "2022-03-07T08:44:34.812Z"
   },
   {
    "duration": -4576,
    "start_time": "2022-03-07T08:44:34.817Z"
   },
   {
    "duration": -4578,
    "start_time": "2022-03-07T08:44:34.820Z"
   },
   {
    "duration": -4580,
    "start_time": "2022-03-07T08:44:34.824Z"
   },
   {
    "duration": -4583,
    "start_time": "2022-03-07T08:44:34.828Z"
   },
   {
    "duration": -4586,
    "start_time": "2022-03-07T08:44:34.833Z"
   },
   {
    "duration": -4588,
    "start_time": "2022-03-07T08:44:34.836Z"
   },
   {
    "duration": -4591,
    "start_time": "2022-03-07T08:44:34.840Z"
   },
   {
    "duration": -4593,
    "start_time": "2022-03-07T08:44:34.844Z"
   },
   {
    "duration": -4596,
    "start_time": "2022-03-07T08:44:34.848Z"
   },
   {
    "duration": -4599,
    "start_time": "2022-03-07T08:44:34.852Z"
   },
   {
    "duration": -4601,
    "start_time": "2022-03-07T08:44:34.856Z"
   },
   {
    "duration": -4610,
    "start_time": "2022-03-07T08:44:34.866Z"
   },
   {
    "duration": -4613,
    "start_time": "2022-03-07T08:44:34.870Z"
   },
   {
    "duration": 317,
    "start_time": "2022-03-07T08:45:52.030Z"
   },
   {
    "duration": 5,
    "start_time": "2022-03-07T08:46:17.141Z"
   },
   {
    "duration": 9,
    "start_time": "2022-03-07T08:46:17.147Z"
   },
   {
    "duration": 8,
    "start_time": "2022-03-07T08:46:17.158Z"
   },
   {
    "duration": 6,
    "start_time": "2022-03-07T08:46:17.168Z"
   },
   {
    "duration": 20,
    "start_time": "2022-03-07T08:46:17.175Z"
   },
   {
    "duration": 2,
    "start_time": "2022-03-07T08:46:17.197Z"
   },
   {
    "duration": 5,
    "start_time": "2022-03-07T08:46:17.201Z"
   },
   {
    "duration": 12106,
    "start_time": "2022-03-07T08:46:17.208Z"
   },
   {
    "duration": 4,
    "start_time": "2022-03-07T08:46:29.316Z"
   },
   {
    "duration": 11192,
    "start_time": "2022-03-07T08:46:29.321Z"
   },
   {
    "duration": 3,
    "start_time": "2022-03-07T08:46:40.515Z"
   },
   {
    "duration": 578806,
    "start_time": "2022-03-07T08:46:40.520Z"
   },
   {
    "duration": 6,
    "start_time": "2022-03-07T08:56:19.328Z"
   },
   {
    "duration": 559554,
    "start_time": "2022-03-07T08:56:19.336Z"
   },
   {
    "duration": 3,
    "start_time": "2022-03-07T09:05:38.891Z"
   },
   {
    "duration": 2588,
    "start_time": "2022-03-07T09:05:38.896Z"
   },
   {
    "duration": 9334,
    "start_time": "2022-03-07T09:07:53.986Z"
   },
   {
    "duration": 46,
    "start_time": "2022-03-07T09:13:35.012Z"
   }
  ],
  "kernelspec": {
   "display_name": "Python 3",
   "language": "python",
   "name": "python3"
  },
  "language_info": {
   "codemirror_mode": {
    "name": "ipython",
    "version": 3
   },
   "file_extension": ".py",
   "mimetype": "text/x-python",
   "name": "python",
   "nbconvert_exporter": "python",
   "pygments_lexer": "ipython3",
   "version": "3.8.8"
  },
  "toc": {
   "base_numbering": 1,
   "nav_menu": {},
   "number_sections": true,
   "sideBar": true,
   "skip_h1_title": true,
   "title_cell": "Содержание",
   "title_sidebar": "Contents",
   "toc_cell": true,
   "toc_position": {},
   "toc_section_display": true,
   "toc_window_display": false
  }
 },
 "nbformat": 4,
 "nbformat_minor": 2
}
