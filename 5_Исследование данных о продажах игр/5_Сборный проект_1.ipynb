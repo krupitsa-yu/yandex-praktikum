{
 "cells": [
  {
   "cell_type": "code",
   "execution_count": 1,
   "metadata": {},
   "outputs": [
    {
     "name": "stdout",
     "output_type": "stream",
     "text": [
      "~~~~~~~~~~~~~~~~~~!~~~~~~~~~~~~~~~~~~\n",
      "~~~~~~~~~~~~~~~~~~@~~~~~~~~~~~~~~~~~~\n",
      "~~~~~~~~~~~~~~~~~@ @~~~~~~~~~~~~~~~~~\n",
      "~~~~~~~~~~~~~~~~^ ^ ^~~~~~~~~~~~~~~~~\n",
      "~~~~~~~~~~~~~~~* * * *~~~~~~~~~~~~~~~\n",
      "~~~~~~~~~~~~~~* * * * *~~~~~~~~~~~~~~\n",
      "~~~~~~~~~~~~~* * * * * *~~~~~~~~~~~~~\n",
      "~~~~~~~~~~~~@ @ @ @ @ @ @~~~~~~~~~~~~\n",
      "~~~~~~~~~~~* * * * * * * *~~~~~~~~~~~\n",
      "~~~~~~~~~~* * * * * * * * *~~~~~~~~~~\n",
      "~~~~~~~~~* * * * * * * * * *~~~~~~~~~\n",
      "~~~~~~~~+ + + + + + + + + + +~~~~~~~~\n",
      "~~~~~~~^ ^ ^ ^ ^ ^ ^ ^ ^ ^ ^ ^~~~~~~~\n",
      "~~~~~~* * * * * * * * * * * * *~~~~~~\n",
      "~~~~~@ @ @ @ @ @ @ @ @ @ @ @ @ @~~~~~\n",
      "~~~~^ ^ ^ ^ ^ ^ ^ ^ ^ ^ ^ ^ ^ ^ ^~~~~\n",
      "~~~* * * * * * * * * * * * * * * *~~~\n",
      "~~* * * * * * * * * * * * * * * * *~~\n",
      "~^ ^ ^ ^ ^ ^ ^ ^ ^ ^ ^ ^ ^ ^ ^ ^ ^ ^~\n",
      "+ + + + + + + + + + + + + + + + + + +\n",
      "~~~~~~~~~~~~~~~~~~|~~~~~~~~~~~~~~~~~~\n",
      "~~~~~~~~~~~~~~~~~~|~~~~~~~~~~~~~~~~~~\n",
      "~~~~~~~~~~~~~~~~[___]~~~~~~~~~~~~~~~~\n"
     ]
    }
   ],
   "source": [
    "import random\n",
    "for v in ['!'] + [' '.join(random.choice(['*', '*', '^', '^', '@', '+']) * i) for i in range(1, 20, 1)] \\\n",
    "                                          + ['|', '|', '[___]']:\n",
    "  print('{:~^37}'.format(v))"
   ]
  },
  {
   "cell_type": "markdown",
   "metadata": {
    "toc": true
   },
   "source": [
    "<h1>Содержание<span class=\"tocSkip\"></span></h1>\n",
    "<div class=\"toc\"><ul class=\"toc-item\"><li><span><a href=\"#Знакомство-с-данными,-изучение-общей-информации\" data-toc-modified-id=\"Знакомство-с-данными,-изучение-общей-информации-1\"><span class=\"toc-item-num\">1&nbsp;&nbsp;</span>Знакомство с данными, изучение общей информации</a></span></li><li><span><a href=\"#Предобработка-и-подготовка-данных\" data-toc-modified-id=\"Предобработка-и-подготовка-данных-2\"><span class=\"toc-item-num\">2&nbsp;&nbsp;</span>Предобработка и подготовка данных</a></span><ul class=\"toc-item\"><li><span><a href=\"#Замена-названий-столбцов-(приведение-к-нижнему-регистру)\" data-toc-modified-id=\"Замена-названий-столбцов-(приведение-к-нижнему-регистру)-2.1\"><span class=\"toc-item-num\">2.1&nbsp;&nbsp;</span>Замена названий столбцов (приведение к нижнему регистру)</a></span></li><li><span><a href=\"#Обработка-пропусков\" data-toc-modified-id=\"Обработка-пропусков-2.2\"><span class=\"toc-item-num\">2.2&nbsp;&nbsp;</span>Обработка пропусков</a></span></li><li><span><a href=\"#Преобразование-данных-в-нужные-типы\" data-toc-modified-id=\"Преобразование-данных-в-нужные-типы-2.3\"><span class=\"toc-item-num\">2.3&nbsp;&nbsp;</span>Преобразование данных в нужные типы</a></span></li><li><span><a href=\"#Расчет-суммарных-продаж-во-всех-регионах\" data-toc-modified-id=\"Расчет-суммарных-продаж-во-всех-регионах-2.4\"><span class=\"toc-item-num\">2.4&nbsp;&nbsp;</span>Расчет суммарных продаж во всех регионах</a></span></li></ul></li><li><span><a href=\"#Исследовательский-анализ-данных\" data-toc-modified-id=\"Исследовательский-анализ-данных-3\"><span class=\"toc-item-num\">3&nbsp;&nbsp;</span>Исследовательский анализ данных</a></span><ul class=\"toc-item\"><li><span><a href=\"#Сколько-игр-выпускалось-в-разные-годы.-Важны-ли-данные-за-все-периоды?\" data-toc-modified-id=\"Сколько-игр-выпускалось-в-разные-годы.-Важны-ли-данные-за-все-периоды?-3.1\"><span class=\"toc-item-num\">3.1&nbsp;&nbsp;</span>Сколько игр выпускалось в разные годы. Важны ли данные за все периоды?</a></span></li><li><span><a href=\"#Как-менялись-продажи-по-платформам,-за-какой-характерный-срок-появляются-новые-и-исчезают-старые-платформы?\" data-toc-modified-id=\"Как-менялись-продажи-по-платформам,-за-какой-характерный-срок-появляются-новые-и-исчезают-старые-платформы?-3.2\"><span class=\"toc-item-num\">3.2&nbsp;&nbsp;</span>Как менялись продажи по платформам, за какой характерный срок появляются новые и исчезают старые платформы?</a></span></li><li><span><a href=\"#Определение-актуального-периода-для-дальнейшего-анализа-так,-чтобы-по-этим-данным-можно-было-построить-прогноз-на-2017-год\" data-toc-modified-id=\"Определение-актуального-периода-для-дальнейшего-анализа-так,-чтобы-по-этим-данным-можно-было-построить-прогноз-на-2017-год-3.3\"><span class=\"toc-item-num\">3.3&nbsp;&nbsp;</span>Определение актуального периода для дальнейшего анализа так, чтобы по этим данным можно было построить прогноз на 2017 год</a></span></li><li><span><a href=\"#Определения-платформ,-которые-лидируют-по-продажам,-растут-или-падают?\" data-toc-modified-id=\"Определения-платформ,-которые-лидируют-по-продажам,-растут-или-падают?-3.4\"><span class=\"toc-item-num\">3.4&nbsp;&nbsp;</span>Определения платформ, которые лидируют по продажам, растут или падают?</a></span></li><li><span><a href=\"#Построение-графика-«ящик-с-усами»-по-глобальным-продажам-игр-в-разбивке-по-платформам\" data-toc-modified-id=\"Построение-графика-«ящик-с-усами»-по-глобальным-продажам-игр-в-разбивке-по-платформам-3.5\"><span class=\"toc-item-num\">3.5&nbsp;&nbsp;</span>Построение графика «ящик с усами» по глобальным продажам игр в разбивке по платформам</a></span></li><li><span><a href=\"#Влияние-на-продажи-внутри-одной-популярной-платформы-отзывов-пользователей-и-критиков\" data-toc-modified-id=\"Влияние-на-продажи-внутри-одной-популярной-платформы-отзывов-пользователей-и-критиков-3.6\"><span class=\"toc-item-num\">3.6&nbsp;&nbsp;</span>Влияние на продажи внутри одной популярной платформы отзывов пользователей и критиков</a></span></li><li><span><a href=\"#Соотнесение-выводов-с-продажами-игр-на-других-платформах\" data-toc-modified-id=\"Соотнесение-выводов-с-продажами-игр-на-других-платформах-3.7\"><span class=\"toc-item-num\">3.7&nbsp;&nbsp;</span>Соотнесение выводов с продажами игр на других платформах</a></span></li><li><span><a href=\"#Анализ-общего-распределения-игр-по-жанрам\" data-toc-modified-id=\"Анализ-общего-распределения-игр-по-жанрам-3.8\"><span class=\"toc-item-num\">3.8&nbsp;&nbsp;</span>Анализ общего распределения игр по жанрам</a></span></li></ul></li><li><span><a href=\"#Портрет-пользователя-каждого-региона\" data-toc-modified-id=\"Портрет-пользователя-каждого-региона-4\"><span class=\"toc-item-num\">4&nbsp;&nbsp;</span>Портрет пользователя каждого региона</a></span><ul class=\"toc-item\"><li><span><a href=\"#Определим-для-пользователя-каждого-региона-самые-популярные-платформы-(топ-5)\" data-toc-modified-id=\"Определим-для-пользователя-каждого-региона-самые-популярные-платформы-(топ-5)-4.1\"><span class=\"toc-item-num\">4.1&nbsp;&nbsp;</span>Определим для пользователя каждого региона самые популярные платформы (топ-5)</a></span></li><li><span><a href=\"#Определим-для-пользователя-каждого-региона-самые-популярные-жанры-(топ-5)\" data-toc-modified-id=\"Определим-для-пользователя-каждого-региона-самые-популярные-жанры-(топ-5)-4.2\"><span class=\"toc-item-num\">4.2&nbsp;&nbsp;</span>Определим для пользователя каждого региона самые популярные жанры (топ-5)</a></span></li><li><span><a href=\"#Ответим-на-вопрос,-влияет-ли-рейтинг-ESRB-на-продажи-в-отдельном-регионе?\" data-toc-modified-id=\"Ответим-на-вопрос,-влияет-ли-рейтинг-ESRB-на-продажи-в-отдельном-регионе?-4.3\"><span class=\"toc-item-num\">4.3&nbsp;&nbsp;</span>Ответим на вопрос, влияет ли рейтинг ESRB на продажи в отдельном регионе?</a></span></li></ul></li><li><span><a href=\"#Проверка-гипотез\" data-toc-modified-id=\"Проверка-гипотез-5\"><span class=\"toc-item-num\">5&nbsp;&nbsp;</span>Проверка гипотез</a></span><ul class=\"toc-item\"><li><span><a href=\"#Гипотеза-&quot;Средние-пользовательские-рейтинги-платформ-Xbox-One-и-PC-одинаковые&quot;\" data-toc-modified-id=\"Гипотеза-&quot;Средние-пользовательские-рейтинги-платформ-Xbox-One-и-PC-одинаковые&quot;-5.1\"><span class=\"toc-item-num\">5.1&nbsp;&nbsp;</span>Гипотеза \"Средние пользовательские рейтинги платформ Xbox One и PC одинаковые\"</a></span></li><li><span><a href=\"#Гипотеза-&quot;Средние-пользовательские-рейтинги-жанров-Action-и-Sports-разные&quot;\" data-toc-modified-id=\"Гипотеза-&quot;Средние-пользовательские-рейтинги-жанров-Action-и-Sports-разные&quot;-5.2\"><span class=\"toc-item-num\">5.2&nbsp;&nbsp;</span>Гипотеза \"Средние пользовательские рейтинги жанров Action и Sports разные\"</a></span></li></ul></li><li><span><a href=\"#Общий-вывод\" data-toc-modified-id=\"Общий-вывод-6\"><span class=\"toc-item-num\">6&nbsp;&nbsp;</span>Общий вывод</a></span></li></ul></div>"
   ]
  },
  {
   "cell_type": "markdown",
   "metadata": {},
   "source": [
    "**СБОРНЫЙ ПРОЕКТ**\n",
    "\n",
    "**Задача проекта**\n",
    "\n",
    "Вы работаете в интернет-магазине «Стримчик», который продаёт по всему миру компьютерные игры. Из открытых источников доступны исторические данные о продажах игр, оценки пользователей и экспертов, жанры и платформы (например, Xbox или PlayStation). Вам нужно выявить определяющие успешность игры закономерности. Это позволит сделать ставку на потенциально популярный продукт и спланировать рекламные кампании.\n",
    "\n",
    "Перед вами данные до 2016 года. Представим, что сейчас декабрь 2016 г., и вы планируете кампанию на 2017-й. Нужно отработать принцип работы с данными. Неважно, прогнозируете ли вы продажи на 2017 год по данным 2016-го или же 2027-й — по данным 2026 года.\n",
    "\n",
    "В наборе данных попадается аббревиатура ESRB (Entertainment Software Rating Board) — это ассоциация, определяющая возрастной рейтинг компьютерных игр. ESRB оценивает игровой контент и присваивает ему подходящую возрастную категорию, например, «Для взрослых», «Для детей младшего возраста» или «Для подростков».\n",
    "\n",
    "В рамках проекта мы проведем следующие  **этапы исследования**: \n",
    "\n",
    "1) Знакомство с данными, изучение общей информации\n",
    "\n",
    "2) Предобработка и подготовка данных, включающие:\n",
    "- Замену названий столбцов (приведение к нижнему регистру);\n",
    "- Преобразование данных в нужные типы;\n",
    "- Обработку пропусков;\n",
    "- Расчет суммарных продаж во всех регионах\n",
    "\n",
    "3) Анализ данных, состоящий из: \n",
    "- Ответов на вопросы, сколько игр выпускалось в разные годы, важны ли данные за все периоды?;\n",
    "- Ответов на вопросы, как менялись продажи по платформам, за какой характерный срок появляются новые и исчезают старые платформы?;\n",
    "- Определения актуального периода для дальнейшего анализа так, чтобы по этим данным можно было построить прогноз на 2017 год;\n",
    "- Определения платформ,которые лидируют по продажам, они растут или падают?;\n",
    "- Построения графика «ящик с усами» по глобальным продажам игр в разбивке по платформам;\n",
    "- Ответа на вопрос, как влияют на продажи внутри одной популярной платформы отзывы пользователей и критиков; \n",
    "- Соотнесения выводов с продажами игр на других платформах;\n",
    "- Анализа общего распределения игр по жанрам, в рамках которого ответим на вопросы:\n",
    "Что можно сказать о самых прибыльных жанрах? Выделяются ли жанры с высокими и низкими продажами?\n",
    "\n",
    "4) Составление портрета пользователя каждого региона, в рамках которого: \n",
    "- Определим для пользователя каждого региона самые популярные платформы (топ-5);\n",
    "- Определим для пользователя каждого региона самые популярные жанры (топ-5);\n",
    "- Ответим на вопрос, влияет ли рейтинг ESRB на продажи в отдельном регионе?\n",
    "\n",
    "5) Проверка двух гипотез: \n",
    "- Средние пользовательские рейтинги платформ Xbox One и PC одинаковые;\n",
    "- Средние пользовательские рейтинги жанров Action (англ. «действие», экшен-игры) и Sports (англ. «спортивные соревнования») разные\n",
    "\n",
    "6) Общий вывод"
   ]
  },
  {
   "cell_type": "markdown",
   "metadata": {},
   "source": [
    "## Знакомство с данными, изучение общей информации"
   ]
  },
  {
   "cell_type": "code",
   "execution_count": 19,
   "metadata": {},
   "outputs": [],
   "source": [
    "#импортируем необходимые для проекта библиотеки:\n",
    "import pandas as pd\n",
    "import numpy as np\n",
    "from scipy import stats as st\n",
    "import matplotlib.pyplot as plt\n",
    "from matplotlib import style\n",
    "import seaborn as sns"
   ]
  },
  {
   "cell_type": "code",
   "execution_count": 20,
   "metadata": {},
   "outputs": [
    {
     "data": {
      "text/html": [
       "<div>\n",
       "<style scoped>\n",
       "    .dataframe tbody tr th:only-of-type {\n",
       "        vertical-align: middle;\n",
       "    }\n",
       "\n",
       "    .dataframe tbody tr th {\n",
       "        vertical-align: top;\n",
       "    }\n",
       "\n",
       "    .dataframe thead th {\n",
       "        text-align: right;\n",
       "    }\n",
       "</style>\n",
       "<table border=\"1\" class=\"dataframe\">\n",
       "  <thead>\n",
       "    <tr style=\"text-align: right;\">\n",
       "      <th></th>\n",
       "      <th>Name</th>\n",
       "      <th>Platform</th>\n",
       "      <th>Year_of_Release</th>\n",
       "      <th>Genre</th>\n",
       "      <th>NA_sales</th>\n",
       "      <th>EU_sales</th>\n",
       "      <th>JP_sales</th>\n",
       "      <th>Other_sales</th>\n",
       "      <th>Critic_Score</th>\n",
       "      <th>User_Score</th>\n",
       "      <th>Rating</th>\n",
       "    </tr>\n",
       "  </thead>\n",
       "  <tbody>\n",
       "    <tr>\n",
       "      <td>0</td>\n",
       "      <td>Wii Sports</td>\n",
       "      <td>Wii</td>\n",
       "      <td>2006.0</td>\n",
       "      <td>Sports</td>\n",
       "      <td>41.36</td>\n",
       "      <td>28.96</td>\n",
       "      <td>3.77</td>\n",
       "      <td>8.45</td>\n",
       "      <td>76.0</td>\n",
       "      <td>8</td>\n",
       "      <td>E</td>\n",
       "    </tr>\n",
       "    <tr>\n",
       "      <td>1</td>\n",
       "      <td>Super Mario Bros.</td>\n",
       "      <td>NES</td>\n",
       "      <td>1985.0</td>\n",
       "      <td>Platform</td>\n",
       "      <td>29.08</td>\n",
       "      <td>3.58</td>\n",
       "      <td>6.81</td>\n",
       "      <td>0.77</td>\n",
       "      <td>NaN</td>\n",
       "      <td>NaN</td>\n",
       "      <td>NaN</td>\n",
       "    </tr>\n",
       "    <tr>\n",
       "      <td>2</td>\n",
       "      <td>Mario Kart Wii</td>\n",
       "      <td>Wii</td>\n",
       "      <td>2008.0</td>\n",
       "      <td>Racing</td>\n",
       "      <td>15.68</td>\n",
       "      <td>12.76</td>\n",
       "      <td>3.79</td>\n",
       "      <td>3.29</td>\n",
       "      <td>82.0</td>\n",
       "      <td>8.3</td>\n",
       "      <td>E</td>\n",
       "    </tr>\n",
       "    <tr>\n",
       "      <td>3</td>\n",
       "      <td>Wii Sports Resort</td>\n",
       "      <td>Wii</td>\n",
       "      <td>2009.0</td>\n",
       "      <td>Sports</td>\n",
       "      <td>15.61</td>\n",
       "      <td>10.93</td>\n",
       "      <td>3.28</td>\n",
       "      <td>2.95</td>\n",
       "      <td>80.0</td>\n",
       "      <td>8</td>\n",
       "      <td>E</td>\n",
       "    </tr>\n",
       "    <tr>\n",
       "      <td>4</td>\n",
       "      <td>Pokemon Red/Pokemon Blue</td>\n",
       "      <td>GB</td>\n",
       "      <td>1996.0</td>\n",
       "      <td>Role-Playing</td>\n",
       "      <td>11.27</td>\n",
       "      <td>8.89</td>\n",
       "      <td>10.22</td>\n",
       "      <td>1.00</td>\n",
       "      <td>NaN</td>\n",
       "      <td>NaN</td>\n",
       "      <td>NaN</td>\n",
       "    </tr>\n",
       "    <tr>\n",
       "      <td>5</td>\n",
       "      <td>Tetris</td>\n",
       "      <td>GB</td>\n",
       "      <td>1989.0</td>\n",
       "      <td>Puzzle</td>\n",
       "      <td>23.20</td>\n",
       "      <td>2.26</td>\n",
       "      <td>4.22</td>\n",
       "      <td>0.58</td>\n",
       "      <td>NaN</td>\n",
       "      <td>NaN</td>\n",
       "      <td>NaN</td>\n",
       "    </tr>\n",
       "    <tr>\n",
       "      <td>6</td>\n",
       "      <td>New Super Mario Bros.</td>\n",
       "      <td>DS</td>\n",
       "      <td>2006.0</td>\n",
       "      <td>Platform</td>\n",
       "      <td>11.28</td>\n",
       "      <td>9.14</td>\n",
       "      <td>6.50</td>\n",
       "      <td>2.88</td>\n",
       "      <td>89.0</td>\n",
       "      <td>8.5</td>\n",
       "      <td>E</td>\n",
       "    </tr>\n",
       "    <tr>\n",
       "      <td>7</td>\n",
       "      <td>Wii Play</td>\n",
       "      <td>Wii</td>\n",
       "      <td>2006.0</td>\n",
       "      <td>Misc</td>\n",
       "      <td>13.96</td>\n",
       "      <td>9.18</td>\n",
       "      <td>2.93</td>\n",
       "      <td>2.84</td>\n",
       "      <td>58.0</td>\n",
       "      <td>6.6</td>\n",
       "      <td>E</td>\n",
       "    </tr>\n",
       "    <tr>\n",
       "      <td>8</td>\n",
       "      <td>New Super Mario Bros. Wii</td>\n",
       "      <td>Wii</td>\n",
       "      <td>2009.0</td>\n",
       "      <td>Platform</td>\n",
       "      <td>14.44</td>\n",
       "      <td>6.94</td>\n",
       "      <td>4.70</td>\n",
       "      <td>2.24</td>\n",
       "      <td>87.0</td>\n",
       "      <td>8.4</td>\n",
       "      <td>E</td>\n",
       "    </tr>\n",
       "    <tr>\n",
       "      <td>9</td>\n",
       "      <td>Duck Hunt</td>\n",
       "      <td>NES</td>\n",
       "      <td>1984.0</td>\n",
       "      <td>Shooter</td>\n",
       "      <td>26.93</td>\n",
       "      <td>0.63</td>\n",
       "      <td>0.28</td>\n",
       "      <td>0.47</td>\n",
       "      <td>NaN</td>\n",
       "      <td>NaN</td>\n",
       "      <td>NaN</td>\n",
       "    </tr>\n",
       "  </tbody>\n",
       "</table>\n",
       "</div>"
      ],
      "text/plain": [
       "                        Name Platform  Year_of_Release         Genre  \\\n",
       "0                 Wii Sports      Wii           2006.0        Sports   \n",
       "1          Super Mario Bros.      NES           1985.0      Platform   \n",
       "2             Mario Kart Wii      Wii           2008.0        Racing   \n",
       "3          Wii Sports Resort      Wii           2009.0        Sports   \n",
       "4   Pokemon Red/Pokemon Blue       GB           1996.0  Role-Playing   \n",
       "5                     Tetris       GB           1989.0        Puzzle   \n",
       "6      New Super Mario Bros.       DS           2006.0      Platform   \n",
       "7                   Wii Play      Wii           2006.0          Misc   \n",
       "8  New Super Mario Bros. Wii      Wii           2009.0      Platform   \n",
       "9                  Duck Hunt      NES           1984.0       Shooter   \n",
       "\n",
       "   NA_sales  EU_sales  JP_sales  Other_sales  Critic_Score User_Score Rating  \n",
       "0     41.36     28.96      3.77         8.45          76.0          8      E  \n",
       "1     29.08      3.58      6.81         0.77           NaN        NaN    NaN  \n",
       "2     15.68     12.76      3.79         3.29          82.0        8.3      E  \n",
       "3     15.61     10.93      3.28         2.95          80.0          8      E  \n",
       "4     11.27      8.89     10.22         1.00           NaN        NaN    NaN  \n",
       "5     23.20      2.26      4.22         0.58           NaN        NaN    NaN  \n",
       "6     11.28      9.14      6.50         2.88          89.0        8.5      E  \n",
       "7     13.96      9.18      2.93         2.84          58.0        6.6      E  \n",
       "8     14.44      6.94      4.70         2.24          87.0        8.4      E  \n",
       "9     26.93      0.63      0.28         0.47           NaN        NaN    NaN  "
      ]
     },
     "execution_count": 20,
     "metadata": {},
     "output_type": "execute_result"
    }
   ],
   "source": [
    "#прочтем файл: \n",
    "data = pd.read_csv('/datasets/games.csv')\n",
    "#выведем на экран первые 10 строк таблицы для ознакомления: \n",
    "data.head(10)"
   ]
  },
  {
   "cell_type": "markdown",
   "metadata": {},
   "source": [
    "Поясним, какие данные содержатся в таблице: \n",
    "\n",
    "- Name — название игры\n",
    "- Platform — платформа\n",
    "- Year_of_Release — год выпуска\n",
    "- Genre — жанр игры\n",
    "- NA_sales — продажи в Северной Америке (миллионы проданных копий)\n",
    "- EU_sales — продажи в Европе (миллионы проданных копий)\n",
    "- JP_sales — продажи в Японии (миллионы проданных копий)\n",
    "- Other_sales — продажи в других странах (миллионы проданных копий)\n",
    "- Critic_Score — оценка критиков (максимум 100)\n",
    "- User_Score — оценка пользователей (максимум 10)\n",
    "- Rating — рейтинг от организации ESRB (англ. Entertainment Software Rating Board). Эта ассоциация определяет рейтинг компьютерных игр и присваивает им подходящую возрастную категорию.\n",
    "\n",
    "Названия столбцов таблицы указаны с больших букв, на этапе предобработке данных исправим это. "
   ]
  },
  {
   "cell_type": "code",
   "execution_count": 21,
   "metadata": {},
   "outputs": [
    {
     "name": "stdout",
     "output_type": "stream",
     "text": [
      "<class 'pandas.core.frame.DataFrame'>\n",
      "RangeIndex: 16715 entries, 0 to 16714\n",
      "Data columns (total 11 columns):\n",
      "Name               16713 non-null object\n",
      "Platform           16715 non-null object\n",
      "Year_of_Release    16446 non-null float64\n",
      "Genre              16713 non-null object\n",
      "NA_sales           16715 non-null float64\n",
      "EU_sales           16715 non-null float64\n",
      "JP_sales           16715 non-null float64\n",
      "Other_sales        16715 non-null float64\n",
      "Critic_Score       8137 non-null float64\n",
      "User_Score         10014 non-null object\n",
      "Rating             9949 non-null object\n",
      "dtypes: float64(6), object(5)\n",
      "memory usage: 1.4+ MB\n"
     ]
    }
   ],
   "source": [
    "#выведем на экран общую информацию о данных таблицы: \n",
    "data.info()"
   ]
  },
  {
   "cell_type": "markdown",
   "metadata": {},
   "source": [
    "Просмотрев общую информацию о таблице, видим, что в таблице **много пропущенных значений**: \n",
    "\n",
    "- столбец Name (название игры) - пропущено всего 2 значения, посмотрим на строки таблицы, где эти данные пропущены, и решим, что с ними делать;\n",
    "- столбец Year_of_Release (год выпуска) - пропущено 269 значений. Год релиза -  важный для анализа показатель,  здесь пропуски составляют всего 1,6 %, поэтому мы оставим пропуски как есть, на результатах исследования это сильно не отразится;\n",
    "- столбец Genre (жанр игры) -  так же, как и в столбце Name, пропущено 2 значения. Скорее всего, это одни и те же строки, проверим;\n",
    "- столбцы с оценками и рейтингом Critic_Score, User_Score, Rating - здесь пропуски достигают 50 %. Оценку пользователей мы абсолютно точно не можем проставить по средним или иным значениям, как, собственно, и возрастной рейтинг. Будем работать с теми данными, которые есть. Отсутствие данных в этих столбцах, скорее всего, говорит о том, что для части игр этих оценок просто нет или их недостаточно. \n",
    "\n",
    "Что касается типа данных, **тип данных** в столбце User_Score (оценка пользователей) указан тип данных object, что неверно, так как оценка пользователей - числовой показатель. Заменим на float. "
   ]
  },
  {
   "cell_type": "markdown",
   "metadata": {},
   "source": [
    "**Вывод**:\n",
    "\n",
    "На этапе знакомства с данными и изучения общей информации, было выявлено следующее:\n",
    "- названия столбцов таблицы указаны с больших букв;\n",
    "- пропущены значения в столбцах Name, Year_of_Release, Genre, Critic_Score, User_Score, Rating;\n",
    "- указан неверный тип данных в столбце User_Score.\n",
    "\n",
    "Приступим к предобработке данных и исправим выявленные недочеты, где это возможно. "
   ]
  },
  {
   "cell_type": "markdown",
   "metadata": {},
   "source": [
    "## Предобработка и подготовка данных"
   ]
  },
  {
   "cell_type": "markdown",
   "metadata": {},
   "source": [
    "### Замена названий столбцов (приведение к нижнему регистру)"
   ]
  },
  {
   "cell_type": "code",
   "execution_count": 22,
   "metadata": {},
   "outputs": [
    {
     "data": {
      "text/plain": [
       "Index(['name', 'platform', 'year_of_release', 'genre', 'na_sales', 'eu_sales',\n",
       "       'jp_sales', 'other_sales', 'critic_score', 'user_score', 'rating'],\n",
       "      dtype='object')"
      ]
     },
     "execution_count": 22,
     "metadata": {},
     "output_type": "execute_result"
    }
   ],
   "source": [
    "#приведем названия столбцов к нижнему регистру с помощью метода str.lower():\n",
    "data.columns = data.columns.str.lower()\n",
    "#проверим:\n",
    "data.columns"
   ]
  },
  {
   "cell_type": "markdown",
   "metadata": {},
   "source": [
    "Отлично! Теперь названия выглядят \"по-питоновски\" красиво. "
   ]
  },
  {
   "cell_type": "markdown",
   "metadata": {},
   "source": [
    "### Обработка пропусков"
   ]
  },
  {
   "cell_type": "markdown",
   "metadata": {},
   "source": [
    "Ранее мы выявили, что значения пропущены в столбцах name, year_of_release, genre, critic_score, user_score, rating.\n",
    "\n",
    "**Посмотрим на строки с пропусками в столбце name**, их всего 2:"
   ]
  },
  {
   "cell_type": "code",
   "execution_count": 23,
   "metadata": {},
   "outputs": [
    {
     "data": {
      "text/html": [
       "<div>\n",
       "<style scoped>\n",
       "    .dataframe tbody tr th:only-of-type {\n",
       "        vertical-align: middle;\n",
       "    }\n",
       "\n",
       "    .dataframe tbody tr th {\n",
       "        vertical-align: top;\n",
       "    }\n",
       "\n",
       "    .dataframe thead th {\n",
       "        text-align: right;\n",
       "    }\n",
       "</style>\n",
       "<table border=\"1\" class=\"dataframe\">\n",
       "  <thead>\n",
       "    <tr style=\"text-align: right;\">\n",
       "      <th></th>\n",
       "      <th>name</th>\n",
       "      <th>platform</th>\n",
       "      <th>year_of_release</th>\n",
       "      <th>genre</th>\n",
       "      <th>na_sales</th>\n",
       "      <th>eu_sales</th>\n",
       "      <th>jp_sales</th>\n",
       "      <th>other_sales</th>\n",
       "      <th>critic_score</th>\n",
       "      <th>user_score</th>\n",
       "      <th>rating</th>\n",
       "    </tr>\n",
       "  </thead>\n",
       "  <tbody>\n",
       "    <tr>\n",
       "      <td>659</td>\n",
       "      <td>NaN</td>\n",
       "      <td>GEN</td>\n",
       "      <td>1993.0</td>\n",
       "      <td>NaN</td>\n",
       "      <td>1.78</td>\n",
       "      <td>0.53</td>\n",
       "      <td>0.00</td>\n",
       "      <td>0.08</td>\n",
       "      <td>NaN</td>\n",
       "      <td>NaN</td>\n",
       "      <td>NaN</td>\n",
       "    </tr>\n",
       "    <tr>\n",
       "      <td>14244</td>\n",
       "      <td>NaN</td>\n",
       "      <td>GEN</td>\n",
       "      <td>1993.0</td>\n",
       "      <td>NaN</td>\n",
       "      <td>0.00</td>\n",
       "      <td>0.00</td>\n",
       "      <td>0.03</td>\n",
       "      <td>0.00</td>\n",
       "      <td>NaN</td>\n",
       "      <td>NaN</td>\n",
       "      <td>NaN</td>\n",
       "    </tr>\n",
       "  </tbody>\n",
       "</table>\n",
       "</div>"
      ],
      "text/plain": [
       "      name platform  year_of_release genre  na_sales  eu_sales  jp_sales  \\\n",
       "659    NaN      GEN           1993.0   NaN      1.78      0.53      0.00   \n",
       "14244  NaN      GEN           1993.0   NaN      0.00      0.00      0.03   \n",
       "\n",
       "       other_sales  critic_score user_score rating  \n",
       "659           0.08           NaN        NaN    NaN  \n",
       "14244         0.00           NaN        NaN    NaN  "
      ]
     },
     "execution_count": 23,
     "metadata": {},
     "output_type": "execute_result"
    }
   ],
   "source": [
    "#выведем на экран строки таблицы, где в столбце name  пропущены значения:\n",
    "data[data['name'].isna()]"
   ]
  },
  {
   "cell_type": "markdown",
   "metadata": {},
   "source": [
    "Как мы и предполагали 2 пропуска из столбца genre в этих же строках. Данные об оценках и рейтинге здесь также отсутствуют, в данных о продажах- минимальные значения. Заменим пропуски на \"not defined\", чтобы эти строки \"не терялись\" при подсчетах. "
   ]
  },
  {
   "cell_type": "code",
   "execution_count": 24,
   "metadata": {},
   "outputs": [],
   "source": [
    "#заменим пропуски значений в столбцах name и genre на \"not defined\":\n",
    "data['name'] = data['name'].fillna('not defined')\n",
    "data['genre'] = data['genre'].fillna('not defined')"
   ]
  },
  {
   "cell_type": "markdown",
   "metadata": {},
   "source": [
    "**Посмотрим на пропуски в столбце year_of_release**:"
   ]
  },
  {
   "cell_type": "code",
   "execution_count": 25,
   "metadata": {},
   "outputs": [
    {
     "data": {
      "text/html": [
       "<div>\n",
       "<style scoped>\n",
       "    .dataframe tbody tr th:only-of-type {\n",
       "        vertical-align: middle;\n",
       "    }\n",
       "\n",
       "    .dataframe tbody tr th {\n",
       "        vertical-align: top;\n",
       "    }\n",
       "\n",
       "    .dataframe thead th {\n",
       "        text-align: right;\n",
       "    }\n",
       "</style>\n",
       "<table border=\"1\" class=\"dataframe\">\n",
       "  <thead>\n",
       "    <tr style=\"text-align: right;\">\n",
       "      <th></th>\n",
       "      <th>name</th>\n",
       "      <th>platform</th>\n",
       "      <th>year_of_release</th>\n",
       "      <th>genre</th>\n",
       "      <th>na_sales</th>\n",
       "      <th>eu_sales</th>\n",
       "      <th>jp_sales</th>\n",
       "      <th>other_sales</th>\n",
       "      <th>critic_score</th>\n",
       "      <th>user_score</th>\n",
       "      <th>rating</th>\n",
       "    </tr>\n",
       "  </thead>\n",
       "  <tbody>\n",
       "    <tr>\n",
       "      <td>183</td>\n",
       "      <td>Madden NFL 2004</td>\n",
       "      <td>PS2</td>\n",
       "      <td>NaN</td>\n",
       "      <td>Sports</td>\n",
       "      <td>4.26</td>\n",
       "      <td>0.26</td>\n",
       "      <td>0.01</td>\n",
       "      <td>0.71</td>\n",
       "      <td>94.0</td>\n",
       "      <td>8.5</td>\n",
       "      <td>E</td>\n",
       "    </tr>\n",
       "    <tr>\n",
       "      <td>377</td>\n",
       "      <td>FIFA Soccer 2004</td>\n",
       "      <td>PS2</td>\n",
       "      <td>NaN</td>\n",
       "      <td>Sports</td>\n",
       "      <td>0.59</td>\n",
       "      <td>2.36</td>\n",
       "      <td>0.04</td>\n",
       "      <td>0.51</td>\n",
       "      <td>84.0</td>\n",
       "      <td>6.4</td>\n",
       "      <td>E</td>\n",
       "    </tr>\n",
       "    <tr>\n",
       "      <td>456</td>\n",
       "      <td>LEGO Batman: The Videogame</td>\n",
       "      <td>Wii</td>\n",
       "      <td>NaN</td>\n",
       "      <td>Action</td>\n",
       "      <td>1.80</td>\n",
       "      <td>0.97</td>\n",
       "      <td>0.00</td>\n",
       "      <td>0.29</td>\n",
       "      <td>74.0</td>\n",
       "      <td>7.9</td>\n",
       "      <td>E10+</td>\n",
       "    </tr>\n",
       "    <tr>\n",
       "      <td>475</td>\n",
       "      <td>wwe Smackdown vs. Raw 2006</td>\n",
       "      <td>PS2</td>\n",
       "      <td>NaN</td>\n",
       "      <td>Fighting</td>\n",
       "      <td>1.57</td>\n",
       "      <td>1.02</td>\n",
       "      <td>0.00</td>\n",
       "      <td>0.41</td>\n",
       "      <td>NaN</td>\n",
       "      <td>NaN</td>\n",
       "      <td>NaN</td>\n",
       "    </tr>\n",
       "    <tr>\n",
       "      <td>609</td>\n",
       "      <td>Space Invaders</td>\n",
       "      <td>2600</td>\n",
       "      <td>NaN</td>\n",
       "      <td>Shooter</td>\n",
       "      <td>2.36</td>\n",
       "      <td>0.14</td>\n",
       "      <td>0.00</td>\n",
       "      <td>0.03</td>\n",
       "      <td>NaN</td>\n",
       "      <td>NaN</td>\n",
       "      <td>NaN</td>\n",
       "    </tr>\n",
       "  </tbody>\n",
       "</table>\n",
       "</div>"
      ],
      "text/plain": [
       "                           name platform  year_of_release     genre  na_sales  \\\n",
       "183             Madden NFL 2004      PS2              NaN    Sports      4.26   \n",
       "377            FIFA Soccer 2004      PS2              NaN    Sports      0.59   \n",
       "456  LEGO Batman: The Videogame      Wii              NaN    Action      1.80   \n",
       "475  wwe Smackdown vs. Raw 2006      PS2              NaN  Fighting      1.57   \n",
       "609              Space Invaders     2600              NaN   Shooter      2.36   \n",
       "\n",
       "     eu_sales  jp_sales  other_sales  critic_score user_score rating  \n",
       "183      0.26      0.01         0.71          94.0        8.5      E  \n",
       "377      2.36      0.04         0.51          84.0        6.4      E  \n",
       "456      0.97      0.00         0.29          74.0        7.9   E10+  \n",
       "475      1.02      0.00         0.41           NaN        NaN    NaN  \n",
       "609      0.14      0.00         0.03           NaN        NaN    NaN  "
      ]
     },
     "execution_count": 25,
     "metadata": {},
     "output_type": "execute_result"
    }
   ],
   "source": [
    "#выведем на экран первые 5 строк среза таблицы, где значения столбца year_of_release отсутствуют: \n",
    "data[data['year_of_release'].isna()].head()"
   ]
  },
  {
   "cell_type": "markdown",
   "metadata": {},
   "source": [
    "В некоторых названиях игр указаны годы, но это не обязательно может быть год выпуска. Например, King of fighters 1998 вышла в 2017, \n",
    "Afghanistan 2011 вышла в 2017, Back in 1995 вышла в 2016. **Пропуски в этом столбце составляют всего 1.6 %, поэтому мы оставим пропуски как есть**. "
   ]
  },
  {
   "cell_type": "markdown",
   "metadata": {},
   "source": [
    "**Посмотрим на значения столбца user_score**. \n",
    "\n",
    "Ознакомимся со списком значений этого столбца, возможно, в нем кроется причина, почему столбец имеет тип object, а не float."
   ]
  },
  {
   "cell_type": "code",
   "execution_count": 26,
   "metadata": {},
   "outputs": [
    {
     "data": {
      "text/plain": [
       "tbd    2424\n",
       "7.8     324\n",
       "8       290\n",
       "8.2     282\n",
       "8.3     254\n",
       "       ... \n",
       "1.9       2\n",
       "0.6       2\n",
       "1         2\n",
       "9.7       1\n",
       "0         1\n",
       "Name: user_score, Length: 96, dtype: int64"
      ]
     },
     "execution_count": 26,
     "metadata": {},
     "output_type": "execute_result"
    }
   ],
   "source": [
    "#выведем на экран список значений столбца user_score методом value_counts(): \n",
    "data['user_score'].value_counts()"
   ]
  },
  {
   "cell_type": "markdown",
   "metadata": {},
   "source": [
    "Обнаружено значение 'tbd', которое занимает почти 25 % заполненных значений в столбце. \n",
    "TBD - аббревиатура от английского To Be Determined. Используется, если какая-то информация еще не определена или решение по вопросу не принято. То есть, по этим играм недостаточно оценок для корректного проставления рейтинга. Заменим их на NaN, так как, по сути, это одно и то же. "
   ]
  },
  {
   "cell_type": "code",
   "execution_count": 27,
   "metadata": {},
   "outputs": [
    {
     "data": {
      "text/plain": [
       "7.8    324\n",
       "8      290\n",
       "8.2    282\n",
       "8.3    254\n",
       "8.5    253\n",
       "      ... \n",
       "1.9      2\n",
       "0.6      2\n",
       "1        2\n",
       "9.7      1\n",
       "0        1\n",
       "Name: user_score, Length: 95, dtype: int64"
      ]
     },
     "execution_count": 27,
     "metadata": {},
     "output_type": "execute_result"
    }
   ],
   "source": [
    "#заменим tbd на NaN в столбце user_score:\n",
    "data['user_score'] = data['user_score'].replace('tbd', np.NaN)\n",
    "#проверим, выявав еще раз value_counts() к user_score:\n",
    "data['user_score'].value_counts()"
   ]
  },
  {
   "cell_type": "markdown",
   "metadata": {},
   "source": [
    "Что касается пропусков в столбцах **critic_score, user_score, rating**, где пропуски достигают 50 %, ранее мы оговорили, что их оставляем, как есть. Оценку пользователей мы абсолютно точно не можем проставить по средним или иным значениям, как, собственно, и возрастной рейтинг. Будем работать с теми данными, которые есть. Отсутствие данных в этих столбцах, скорее всего, говорит о том, что для части игр этих оценок просто нет или их недостаточно. "
   ]
  },
  {
   "cell_type": "markdown",
   "metadata": {},
   "source": [
    "### Преобразование данных в нужные типы"
   ]
  },
  {
   "cell_type": "markdown",
   "metadata": {},
   "source": [
    "Нам необходимо заменить тип данных в столбце user_score (оценка пользователей) указан тип данных object, что неверно, так как оценка пользователей - числовой показатель. Заменим на float."
   ]
  },
  {
   "cell_type": "code",
   "execution_count": 28,
   "metadata": {
    "scrolled": true
   },
   "outputs": [
    {
     "name": "stdout",
     "output_type": "stream",
     "text": [
      "<class 'pandas.core.frame.DataFrame'>\n",
      "RangeIndex: 16715 entries, 0 to 16714\n",
      "Data columns (total 11 columns):\n",
      "name               16715 non-null object\n",
      "platform           16715 non-null object\n",
      "year_of_release    16446 non-null float64\n",
      "genre              16715 non-null object\n",
      "na_sales           16715 non-null float64\n",
      "eu_sales           16715 non-null float64\n",
      "jp_sales           16715 non-null float64\n",
      "other_sales        16715 non-null float64\n",
      "critic_score       8137 non-null float64\n",
      "user_score         7590 non-null float64\n",
      "rating             9949 non-null object\n",
      "dtypes: float64(7), object(4)\n",
      "memory usage: 1.4+ MB\n"
     ]
    }
   ],
   "source": [
    "#заменим тип данных в столбце user_score:\n",
    "data['user_score'] = data['user_score'].astype('float')\n",
    "#еще раз выведем на экран общую информацию о данных таблицы для проверки:\n",
    "data.info()"
   ]
  },
  {
   "cell_type": "markdown",
   "metadata": {},
   "source": [
    "### Расчет суммарных продаж во всех регионах"
   ]
  },
  {
   "cell_type": "markdown",
   "metadata": {},
   "source": [
    "Для расчета суммарных продаж во всех регионах добавим в нашу таблицу столбец total_sales:"
   ]
  },
  {
   "cell_type": "code",
   "execution_count": 29,
   "metadata": {},
   "outputs": [
    {
     "data": {
      "text/html": [
       "<div>\n",
       "<style scoped>\n",
       "    .dataframe tbody tr th:only-of-type {\n",
       "        vertical-align: middle;\n",
       "    }\n",
       "\n",
       "    .dataframe tbody tr th {\n",
       "        vertical-align: top;\n",
       "    }\n",
       "\n",
       "    .dataframe thead th {\n",
       "        text-align: right;\n",
       "    }\n",
       "</style>\n",
       "<table border=\"1\" class=\"dataframe\">\n",
       "  <thead>\n",
       "    <tr style=\"text-align: right;\">\n",
       "      <th></th>\n",
       "      <th>name</th>\n",
       "      <th>platform</th>\n",
       "      <th>year_of_release</th>\n",
       "      <th>genre</th>\n",
       "      <th>na_sales</th>\n",
       "      <th>eu_sales</th>\n",
       "      <th>jp_sales</th>\n",
       "      <th>other_sales</th>\n",
       "      <th>critic_score</th>\n",
       "      <th>user_score</th>\n",
       "      <th>rating</th>\n",
       "      <th>total_sales</th>\n",
       "    </tr>\n",
       "  </thead>\n",
       "  <tbody>\n",
       "    <tr>\n",
       "      <td>0</td>\n",
       "      <td>Wii Sports</td>\n",
       "      <td>Wii</td>\n",
       "      <td>2006.0</td>\n",
       "      <td>Sports</td>\n",
       "      <td>41.36</td>\n",
       "      <td>28.96</td>\n",
       "      <td>3.77</td>\n",
       "      <td>8.45</td>\n",
       "      <td>76.0</td>\n",
       "      <td>8.0</td>\n",
       "      <td>E</td>\n",
       "      <td>82.54</td>\n",
       "    </tr>\n",
       "    <tr>\n",
       "      <td>1</td>\n",
       "      <td>Super Mario Bros.</td>\n",
       "      <td>NES</td>\n",
       "      <td>1985.0</td>\n",
       "      <td>Platform</td>\n",
       "      <td>29.08</td>\n",
       "      <td>3.58</td>\n",
       "      <td>6.81</td>\n",
       "      <td>0.77</td>\n",
       "      <td>NaN</td>\n",
       "      <td>NaN</td>\n",
       "      <td>NaN</td>\n",
       "      <td>40.24</td>\n",
       "    </tr>\n",
       "    <tr>\n",
       "      <td>2</td>\n",
       "      <td>Mario Kart Wii</td>\n",
       "      <td>Wii</td>\n",
       "      <td>2008.0</td>\n",
       "      <td>Racing</td>\n",
       "      <td>15.68</td>\n",
       "      <td>12.76</td>\n",
       "      <td>3.79</td>\n",
       "      <td>3.29</td>\n",
       "      <td>82.0</td>\n",
       "      <td>8.3</td>\n",
       "      <td>E</td>\n",
       "      <td>35.52</td>\n",
       "    </tr>\n",
       "    <tr>\n",
       "      <td>3</td>\n",
       "      <td>Wii Sports Resort</td>\n",
       "      <td>Wii</td>\n",
       "      <td>2009.0</td>\n",
       "      <td>Sports</td>\n",
       "      <td>15.61</td>\n",
       "      <td>10.93</td>\n",
       "      <td>3.28</td>\n",
       "      <td>2.95</td>\n",
       "      <td>80.0</td>\n",
       "      <td>8.0</td>\n",
       "      <td>E</td>\n",
       "      <td>32.77</td>\n",
       "    </tr>\n",
       "    <tr>\n",
       "      <td>4</td>\n",
       "      <td>Pokemon Red/Pokemon Blue</td>\n",
       "      <td>GB</td>\n",
       "      <td>1996.0</td>\n",
       "      <td>Role-Playing</td>\n",
       "      <td>11.27</td>\n",
       "      <td>8.89</td>\n",
       "      <td>10.22</td>\n",
       "      <td>1.00</td>\n",
       "      <td>NaN</td>\n",
       "      <td>NaN</td>\n",
       "      <td>NaN</td>\n",
       "      <td>31.38</td>\n",
       "    </tr>\n",
       "  </tbody>\n",
       "</table>\n",
       "</div>"
      ],
      "text/plain": [
       "                       name platform  year_of_release         genre  na_sales  \\\n",
       "0                Wii Sports      Wii           2006.0        Sports     41.36   \n",
       "1         Super Mario Bros.      NES           1985.0      Platform     29.08   \n",
       "2            Mario Kart Wii      Wii           2008.0        Racing     15.68   \n",
       "3         Wii Sports Resort      Wii           2009.0        Sports     15.61   \n",
       "4  Pokemon Red/Pokemon Blue       GB           1996.0  Role-Playing     11.27   \n",
       "\n",
       "   eu_sales  jp_sales  other_sales  critic_score  user_score rating  \\\n",
       "0     28.96      3.77         8.45          76.0         8.0      E   \n",
       "1      3.58      6.81         0.77           NaN         NaN    NaN   \n",
       "2     12.76      3.79         3.29          82.0         8.3      E   \n",
       "3     10.93      3.28         2.95          80.0         8.0      E   \n",
       "4      8.89     10.22         1.00           NaN         NaN    NaN   \n",
       "\n",
       "   total_sales  \n",
       "0        82.54  \n",
       "1        40.24  \n",
       "2        35.52  \n",
       "3        32.77  \n",
       "4        31.38  "
      ]
     },
     "execution_count": 29,
     "metadata": {},
     "output_type": "execute_result"
    }
   ],
   "source": [
    "#добавим столбец total_sales:\n",
    "data['total_sales'] = data[['na_sales', 'eu_sales','jp_sales', 'other_sales']].sum(1)\n",
    "#для проверки выведем на экран первые 5 строк таблицы: \n",
    "data.head()"
   ]
  },
  {
   "cell_type": "markdown",
   "metadata": {},
   "source": [
    "**Вывод**\n",
    "\n",
    "В рамках предобработки и подготовки данных мы переписали названия столбцов в соответствии с правилами синтаксиса Python; привели данные к нужным типам; где это уместно, обработали пропущенные значения и добавили столбец с суммарными продажами по всем регионам для целей дальнейшего анализа. \n",
    "\n",
    "Данные подготовлены к анализу, мы можем приступать. "
   ]
  },
  {
   "cell_type": "markdown",
   "metadata": {},
   "source": [
    "## Исследовательский анализ данных"
   ]
  },
  {
   "cell_type": "markdown",
   "metadata": {},
   "source": [
    "### Сколько игр выпускалось в разные годы. Важны ли данные за все периоды?"
   ]
  },
  {
   "cell_type": "markdown",
   "metadata": {},
   "source": [
    "Для того, чтобы посмотреть распределение выпуска игр по годам, построим столбчатую диаграмму: "
   ]
  },
  {
   "cell_type": "code",
   "execution_count": 30,
   "metadata": {},
   "outputs": [
    {
     "name": "stderr",
     "output_type": "stream",
     "text": [
      "/opt/conda/lib/python3.7/site-packages/pandas/plotting/_matplotlib/core.py:1320: MatplotlibDeprecationWarning: Saw kwargs ['ec', 'edgecolor'] which are all aliases for 'edgecolor'.  Kept value from 'edgecolor'.  Passing multiple aliases for the same property will raise a TypeError in 3.3.\n",
      "  return ax.bar(x, y, w, bottom=start, log=log, **kwds)\n"
     ]
    },
    {
     "data": {
      "image/png": "[encoded data removed]",
      "text/plain": [
       "<Figure size 864x432 with 1 Axes>"
      ]
     },
     "metadata": {},
     "output_type": "display_data"
    }
   ],
   "source": [
    "#построим столбчатую диаграмму, где по оси x будут года выпуска игр, по оси y-  количество выпущенных игр:\n",
    "plt.style.use('seaborn-whitegrid')\n",
    "data.pivot_table(index='year_of_release', values='name', aggfunc='count').plot(\n",
    "    kind='bar', y='name', ec='white', legend=None, color = 'cyan', edgecolor='black', figsize = (12,6))\n",
    "plt.title('Распределение игр по годам')\n",
    "plt.xlabel('год')\n",
    "plt.ylabel('количество выпущенных игр')\n",
    "plt.show()"
   ]
  },
  {
   "cell_type": "markdown",
   "metadata": {},
   "source": [
    "До 1993 года игр выпускалось крайне мало, а вот начиная с 1994, наблюдается стабильный рост числа выпускаемых игр, пик приходится на 2008-2009 года. Далее мы видим заметный спад в выпуске новых игр, возможно, это связано с насыщением рынка, а также с более высокими требованиями покупателя: игры необходимо постоянно дорабатывать, чтобы они не теряли своей актуальности. Сегодняшнего игрока уже не удивишь графикой 2008 года. С 2013 года количество выпускаемых игр в год вновь начинает расти, но уже не такими темпами, как раньше. Данные за 2016 год могут быть неполными, поэтому нельзя с точностью сказать, выросло или упало количество выпущенных игр в 2016 по сравнению с 2015. "
   ]
  },
  {
   "cell_type": "markdown",
   "metadata": {},
   "source": [
    "### Как менялись продажи по платформам, за какой характерный срок появляются новые и исчезают старые платформы?"
   ]
  },
  {
   "cell_type": "markdown",
   "metadata": {},
   "source": [
    "Построим столбчатую диаграмму, чтобы **посмотреть распределение продаж по платформам**: "
   ]
  },
  {
   "cell_type": "code",
   "execution_count": 31,
   "metadata": {},
   "outputs": [
    {
     "data": {
      "image/png": "[encoded data removed]",
      "text/plain": [
       "<Figure size 864x432 with 1 Axes>"
      ]
     },
     "metadata": {},
     "output_type": "display_data"
    }
   ],
   "source": [
    "#построим столбчатую диаграмму, где по оси x будут платформы, по оси y-  сумма продаж:\n",
    "data.pivot_table(index='platform', values='total_sales', aggfunc='sum').sort_values(by='total_sales').plot(\n",
    "kind='bar', y='total_sales', ec='white', legend=None, color = 'cyan', edgecolor='black', figsize = (12,6))\n",
    "plt.title('Распределение суммарных продаж по платформам', pad=16)\n",
    "plt.xlabel('платформа')\n",
    "plt.ylabel('суммарные продажи')\n",
    "plt.show()"
   ]
  },
  {
   "cell_type": "markdown",
   "metadata": {},
   "source": [
    "По графику мы легко можем определить наших \"лидеров продаж\". Это: PS2, X360, PS3, Wii, DS, PS. \n",
    "Чтобы определить \"цикл жизни\" платформ, **построим распределение продаж по годам по лидирующим платформам**. "
   ]
  },
  {
   "cell_type": "code",
   "execution_count": 32,
   "metadata": {},
   "outputs": [
    {
     "data": {
      "image/png": "[encoded data removed]",
      "text/plain": [
       "<Figure size 864x432 with 1 Axes>"
      ]
     },
     "metadata": {},
     "output_type": "display_data"
    }
   ],
   "source": [
    "#построим распределение по годам по платформам PS2, X360, PS3, Wii, DS, PS: \n",
    "leaders = [\"PS2\", \"X360\", \"PS3\", \"Wii\", \"DS\", \"PS\"]#введем новую переменную leaders со списком лидирующих по продажам платформ\n",
    "#с помощью цикла for создалим список с таблицами(распределение продаж по годам по лид.платформам), данные которых необходимо вывести на график\n",
    "list_of_table = []\n",
    "for i in leaders:\n",
    "    data_in_list = data.query('platform==@i').pivot_table(index='year_of_release', values='total_sales', aggfunc='sum')\n",
    "    list_of_table.append(data_in_list)\n",
    "#построим распределение по годам, выведем на одном графике информацию по всем лидирующим платформам:\n",
    "plt.figure(figsize=(12, 6))\n",
    "for table in list_of_table:\n",
    "    plt.plot(table)\n",
    "plt.title('Распределение суммарных продаж по годам по лидирующим платформам', pad=16)\n",
    "plt.xlabel('год')\n",
    "plt.ylabel('суммарные продажи')\n",
    "plt.legend(leaders)\n",
    "plt.show()"
   ]
  },
  {
   "cell_type": "markdown",
   "metadata": {},
   "source": [
    "Согласно графика цикл жизни платформ следующий: \n",
    "- DS - c 1985 по 2013, самый \"долгожитель\", при этом данные до 2004 года по продажам очень низкие- не берем их в расчет. Таким образом, цикл жизни 9 лет. Первый взлет показателей продаж произошел в 2005 году, а падать начали после 2010 года, это означает, что реальная популярность платформы составляла 5 лет.\n",
    "- PS - с 1994 по 2003 - 9 лет; популярность: 1996-2000 - 4 года;\n",
    "- PS2 - цикл жизни 2000-2011 - 11 лет; популярность: 2001-2006 - 5 лет;\n",
    "- Wii - цикл жизни 2006-2016 - 10 лет; популярность: 2006-2010 - 4 года;\n",
    "- X360 - цикл жизни 2005-2016 - 11 лет; популярность: 2008-2013 - 5 лет\n",
    "- PS3 - цикл жизни 2006-2016 - 10 лет; популярность - 2008-2013 - 5 лет.\n",
    "\n",
    "Получается, **характерный срок, за который появляются и исчезают новые платформы, составляет 10 лет. Реальная популярность платформ в среднем составляет 5 лет**. "
   ]
  },
  {
   "cell_type": "markdown",
   "metadata": {},
   "source": [
    "### Определение актуального периода для дальнейшего анализа так, чтобы по этим данным можно было построить прогноз на 2017 год"
   ]
  },
  {
   "cell_type": "markdown",
   "metadata": {},
   "source": [
    "Для целей дальнейшего исследования нам необходимо выбрать актуальный период, по которому мы будем исследовать данные. С 2013 года согласно распределению игр по годам начинается стабильный рост выпускаемых игр, исчезают скачки, а также новое поколение консолей вышло как раз в 2013, поэтому, на наш взгляд, **период 2013-2016 будет самым оптимальным для исследования**. "
   ]
  },
  {
   "cell_type": "code",
   "execution_count": 33,
   "metadata": {
    "scrolled": true
   },
   "outputs": [
    {
     "data": {
      "text/html": [
       "<div>\n",
       "<style scoped>\n",
       "    .dataframe tbody tr th:only-of-type {\n",
       "        vertical-align: middle;\n",
       "    }\n",
       "\n",
       "    .dataframe tbody tr th {\n",
       "        vertical-align: top;\n",
       "    }\n",
       "\n",
       "    .dataframe thead th {\n",
       "        text-align: right;\n",
       "    }\n",
       "</style>\n",
       "<table border=\"1\" class=\"dataframe\">\n",
       "  <thead>\n",
       "    <tr style=\"text-align: right;\">\n",
       "      <th></th>\n",
       "      <th>name</th>\n",
       "      <th>platform</th>\n",
       "      <th>year_of_release</th>\n",
       "      <th>genre</th>\n",
       "      <th>na_sales</th>\n",
       "      <th>eu_sales</th>\n",
       "      <th>jp_sales</th>\n",
       "      <th>other_sales</th>\n",
       "      <th>critic_score</th>\n",
       "      <th>user_score</th>\n",
       "      <th>rating</th>\n",
       "      <th>total_sales</th>\n",
       "    </tr>\n",
       "  </thead>\n",
       "  <tbody>\n",
       "    <tr>\n",
       "      <td>16</td>\n",
       "      <td>Grand Theft Auto V</td>\n",
       "      <td>PS3</td>\n",
       "      <td>2013.0</td>\n",
       "      <td>Action</td>\n",
       "      <td>7.02</td>\n",
       "      <td>9.09</td>\n",
       "      <td>0.98</td>\n",
       "      <td>3.96</td>\n",
       "      <td>97.0</td>\n",
       "      <td>8.2</td>\n",
       "      <td>M</td>\n",
       "      <td>21.05</td>\n",
       "    </tr>\n",
       "    <tr>\n",
       "      <td>23</td>\n",
       "      <td>Grand Theft Auto V</td>\n",
       "      <td>X360</td>\n",
       "      <td>2013.0</td>\n",
       "      <td>Action</td>\n",
       "      <td>9.66</td>\n",
       "      <td>5.14</td>\n",
       "      <td>0.06</td>\n",
       "      <td>1.41</td>\n",
       "      <td>97.0</td>\n",
       "      <td>8.1</td>\n",
       "      <td>M</td>\n",
       "      <td>16.27</td>\n",
       "    </tr>\n",
       "    <tr>\n",
       "      <td>31</td>\n",
       "      <td>Call of Duty: Black Ops 3</td>\n",
       "      <td>PS4</td>\n",
       "      <td>2015.0</td>\n",
       "      <td>Shooter</td>\n",
       "      <td>6.03</td>\n",
       "      <td>5.86</td>\n",
       "      <td>0.36</td>\n",
       "      <td>2.38</td>\n",
       "      <td>NaN</td>\n",
       "      <td>NaN</td>\n",
       "      <td>NaN</td>\n",
       "      <td>14.63</td>\n",
       "    </tr>\n",
       "    <tr>\n",
       "      <td>33</td>\n",
       "      <td>Pokemon X/Pokemon Y</td>\n",
       "      <td>3DS</td>\n",
       "      <td>2013.0</td>\n",
       "      <td>Role-Playing</td>\n",
       "      <td>5.28</td>\n",
       "      <td>4.19</td>\n",
       "      <td>4.35</td>\n",
       "      <td>0.78</td>\n",
       "      <td>NaN</td>\n",
       "      <td>NaN</td>\n",
       "      <td>NaN</td>\n",
       "      <td>14.60</td>\n",
       "    </tr>\n",
       "    <tr>\n",
       "      <td>42</td>\n",
       "      <td>Grand Theft Auto V</td>\n",
       "      <td>PS4</td>\n",
       "      <td>2014.0</td>\n",
       "      <td>Action</td>\n",
       "      <td>3.96</td>\n",
       "      <td>6.31</td>\n",
       "      <td>0.38</td>\n",
       "      <td>1.97</td>\n",
       "      <td>97.0</td>\n",
       "      <td>8.3</td>\n",
       "      <td>M</td>\n",
       "      <td>12.62</td>\n",
       "    </tr>\n",
       "  </tbody>\n",
       "</table>\n",
       "</div>"
      ],
      "text/plain": [
       "                         name platform  year_of_release         genre  \\\n",
       "16         Grand Theft Auto V      PS3           2013.0        Action   \n",
       "23         Grand Theft Auto V     X360           2013.0        Action   \n",
       "31  Call of Duty: Black Ops 3      PS4           2015.0       Shooter   \n",
       "33        Pokemon X/Pokemon Y      3DS           2013.0  Role-Playing   \n",
       "42         Grand Theft Auto V      PS4           2014.0        Action   \n",
       "\n",
       "    na_sales  eu_sales  jp_sales  other_sales  critic_score  user_score  \\\n",
       "16      7.02      9.09      0.98         3.96          97.0         8.2   \n",
       "23      9.66      5.14      0.06         1.41          97.0         8.1   \n",
       "31      6.03      5.86      0.36         2.38           NaN         NaN   \n",
       "33      5.28      4.19      4.35         0.78           NaN         NaN   \n",
       "42      3.96      6.31      0.38         1.97          97.0         8.3   \n",
       "\n",
       "   rating  total_sales  \n",
       "16      M        21.05  \n",
       "23      M        16.27  \n",
       "31    NaN        14.63  \n",
       "33    NaN        14.60  \n",
       "42      M        12.62  "
      ]
     },
     "execution_count": 33,
     "metadata": {},
     "output_type": "execute_result"
    }
   ],
   "source": [
    "#cоздадим новую переменную с данными только за 2013-2016 гг.\n",
    "actual_data = data.query('year_of_release in [2013,2014,2015,2016]')\n",
    "#выведем первые 5 строк новой таблицы на жкран: \n",
    "actual_data.head()"
   ]
  },
  {
   "cell_type": "markdown",
   "metadata": {},
   "source": [
    "### Определения платформ, которые лидируют по продажам, растут или падают?"
   ]
  },
  {
   "cell_type": "markdown",
   "metadata": {},
   "source": [
    "Для начала посмотрим, какие платформы остались после того, как мы отфильтровали данные:"
   ]
  },
  {
   "cell_type": "code",
   "execution_count": 34,
   "metadata": {},
   "outputs": [
    {
     "data": {
      "text/plain": [
       "array(['PS3', 'X360', 'PS4', '3DS', 'XOne', 'WiiU', 'Wii', 'PC', 'PSV',\n",
       "       'DS', 'PSP'], dtype=object)"
      ]
     },
     "execution_count": 34,
     "metadata": {},
     "output_type": "execute_result"
    }
   ],
   "source": [
    "#выведем на экран список уникальных значений столбца platform таблицы actual_data:\n",
    "actual_data['platform'].unique()"
   ]
  },
  {
   "cell_type": "markdown",
   "metadata": {},
   "source": [
    "У нас осталось всего 11 платформ. **Посмотрим, какие из них лидируют по продажам**- построим столбчатую диаграмму, а затем посмотрим распределение продаж по годам. "
   ]
  },
  {
   "cell_type": "code",
   "execution_count": 35,
   "metadata": {},
   "outputs": [
    {
     "data": {
      "image/png": "[encoded data removed]",
      "text/plain": [
       "<Figure size 864x432 with 1 Axes>"
      ]
     },
     "metadata": {},
     "output_type": "display_data"
    }
   ],
   "source": [
    "#построим столбчатую диаграмму, где по оси x будут платформы, по оси y-  сумма продаж:\n",
    "actual_data.pivot_table(index='platform', values='total_sales', aggfunc='sum').sort_values(by='total_sales').plot(\n",
    "kind='bar', y='total_sales', ec='white', legend=None, color = 'cyan', edgecolor='black', figsize = (12,6))\n",
    "plt.title('Распределение суммарных продаж по платформам', pad=16)\n",
    "plt.xlabel('платформа')\n",
    "plt.ylabel('суммарные продажи')\n",
    "plt.show()"
   ]
  },
  {
   "cell_type": "markdown",
   "metadata": {},
   "source": [
    "Лидеры продаж на этот раз немного изменились. Это и логично, ведь некоторые ранее рассмотренные нами платформы уже изжили себя (напрмиер, DS).\n",
    "\n",
    "Согласно актуальным данным лидируют по продажам **топ-5 платформ**: \n",
    "- PS4;\n",
    "- PS3;\n",
    "- XOne;\n",
    "- 3DS;\n",
    "- X360.\n",
    "\n",
    "**Построим распределение продаж по годам по лидирующим платформам**."
   ]
  },
  {
   "cell_type": "code",
   "execution_count": 36,
   "metadata": {},
   "outputs": [
    {
     "data": {
      "image/png": "[encoded data removed]",
      "text/plain": [
       "<Figure size 864x432 with 1 Axes>"
      ]
     },
     "metadata": {},
     "output_type": "display_data"
    }
   ],
   "source": [
    "#построим распределение продаж по годам по платформам PS4, PS3, XOne, 3DS, X360: \n",
    "actual_leaders = [\"PS4\", \"PS3\", \"XOne\", \"3DS\", \"X360\"]#введем новую переменную leaders со списком лидирующих по продажам платформ\n",
    "#с помощью цикла for создалим список с таблицами(распределение продаж по годам по лид.платформам), данные которых необходимо вывести на график\n",
    "list_of_table = []\n",
    "for i in actual_leaders:\n",
    "    data_in_list = actual_data.query('platform==@i').pivot_table(index='year_of_release', values='total_sales', aggfunc='sum')\n",
    "    list_of_table.append(data_in_list)\n",
    "#построим распределение по годам, выведем на одном графике информацию по всем лидирующим платформам:\n",
    "plt.figure(figsize=(12, 6))\n",
    "for table in list_of_table:\n",
    "    plt.plot(table)\n",
    "plt.title('Распределение суммарных продаж по годам по лидирующим платформам', pad=16)\n",
    "plt.xlabel('год')\n",
    "plt.ylabel('суммарные продажи')\n",
    "plt.legend(actual_leaders)\n",
    "plt.show()\n"
   ]
  },
  {
   "cell_type": "markdown",
   "metadata": {},
   "source": [
    "Итак, наши явные лидеры продаж, показатели которых к тому же на протяжении 2013-2015 гг росли, это PS4 и Xone. В 2016 году показатели продаж согласно графика падают, но мы помним о том, что данные за 2016 год могут быть неполными, поэтому не может утверждать наверняка.  \n",
    "\n",
    "По остальным играм показатели падали уже на протяжении 2013-2015 гг, однако у 3DS на 2016 показатели продаж все же выше, чем у PS3 и X360.\n",
    "\n",
    "Для дальнейшего анализа оставим PS4, Xone и 3DS. "
   ]
  },
  {
   "cell_type": "markdown",
   "metadata": {},
   "source": [
    "### Построение графика «ящик с усами» по глобальным продажам игр в разбивке по платформам"
   ]
  },
  {
   "cell_type": "markdown",
   "metadata": {},
   "source": [
    "**Построим диаграммы размаха** по актуальным данным для ранее выбранных потенциально прибыльных платформ (PS4, Xone и 3DS):"
   ]
  },
  {
   "cell_type": "code",
   "execution_count": 37,
   "metadata": {},
   "outputs": [
    {
     "data": {
      "image/png": "[encoded data removed]",
      "text/plain": [
       "<Figure size 720x360 with 1 Axes>"
      ]
     },
     "metadata": {},
     "output_type": "display_data"
    }
   ],
   "source": [
    "#построим диаграммы размаха по столбцу total_sales для платформ PS4, Xone и 3DS методом boxplot()\n",
    "top_3 = [\"PS4\", \"XOne\", \"3DS\"]#введем новую переменную top_3 со списком потенц.приб.платформ\n",
    "plt.figure(figsize=(10,5))\n",
    "plt.ylim(0,2)\n",
    "sns.boxplot(\n",
    "x='platform', y='total_sales', data=actual_data.query('platform in @top_3'), notch=False, color='cyan'\n",
    ")\n",
    "plt.title('График «ящик с усами» по глобальным продажам игр в разбивке по платформам', pad=16)\n",
    "plt.show()"
   ]
  },
  {
   "cell_type": "markdown",
   "metadata": {},
   "source": [
    "В среднем и PS4, и XOne продают 0,2 млн. копий игры (ХOne чуть больше). Однако у PS4 чуть выше граница 3 квартиля(0.75 млн против 0.7), и соответственно, больше размах \"усов\", то есть отдельные игры PS4 подаются гораздо лучше, чем XOne, за счет чего можно выиграть в прибыли. \n",
    "\n",
    "3DS на фоне PS4 и XOne немного теряется. Средние продажи игр- менее 0.1 млн. копий, что в 2 раза ниже, чем у PS4 и XOne."
   ]
  },
  {
   "cell_type": "markdown",
   "metadata": {},
   "source": [
    "### Влияние на продажи внутри одной популярной платформы отзывов пользователей и критиков"
   ]
  },
  {
   "cell_type": "markdown",
   "metadata": {},
   "source": [
    "В целях определения влияния на продажи отзывов пользователей и критиков для примера возьмем одну из топ-3 платформ- **PS4**. \n",
    "*Выделим нужные нам данные из датасета и присвоим новой переменной - PS4*. Далее рассчитаем корреляцию между отзывами и продажами и построим диаграмму рассеяния. "
   ]
  },
  {
   "cell_type": "code",
   "execution_count": 38,
   "metadata": {},
   "outputs": [
    {
     "data": {
      "text/html": [
       "<div>\n",
       "<style scoped>\n",
       "    .dataframe tbody tr th:only-of-type {\n",
       "        vertical-align: middle;\n",
       "    }\n",
       "\n",
       "    .dataframe tbody tr th {\n",
       "        vertical-align: top;\n",
       "    }\n",
       "\n",
       "    .dataframe thead th {\n",
       "        text-align: right;\n",
       "    }\n",
       "</style>\n",
       "<table border=\"1\" class=\"dataframe\">\n",
       "  <thead>\n",
       "    <tr style=\"text-align: right;\">\n",
       "      <th></th>\n",
       "      <th>total_sales</th>\n",
       "      <th>critic_score</th>\n",
       "      <th>user_score</th>\n",
       "    </tr>\n",
       "  </thead>\n",
       "  <tbody>\n",
       "    <tr>\n",
       "      <td>42</td>\n",
       "      <td>12.62</td>\n",
       "      <td>97.0</td>\n",
       "      <td>8.3</td>\n",
       "    </tr>\n",
       "    <tr>\n",
       "      <td>77</td>\n",
       "      <td>8.58</td>\n",
       "      <td>82.0</td>\n",
       "      <td>4.3</td>\n",
       "    </tr>\n",
       "    <tr>\n",
       "      <td>92</td>\n",
       "      <td>7.66</td>\n",
       "      <td>83.0</td>\n",
       "      <td>5.7</td>\n",
       "    </tr>\n",
       "    <tr>\n",
       "      <td>94</td>\n",
       "      <td>7.60</td>\n",
       "      <td>85.0</td>\n",
       "      <td>5.0</td>\n",
       "    </tr>\n",
       "    <tr>\n",
       "      <td>105</td>\n",
       "      <td>7.17</td>\n",
       "      <td>87.0</td>\n",
       "      <td>6.5</td>\n",
       "    </tr>\n",
       "  </tbody>\n",
       "</table>\n",
       "</div>"
      ],
      "text/plain": [
       "     total_sales  critic_score  user_score\n",
       "42         12.62          97.0         8.3\n",
       "77          8.58          82.0         4.3\n",
       "92          7.66          83.0         5.7\n",
       "94          7.60          85.0         5.0\n",
       "105         7.17          87.0         6.5"
      ]
     },
     "execution_count": 38,
     "metadata": {},
     "output_type": "execute_result"
    }
   ],
   "source": [
    "#создадим новую переменную PS4:\n",
    "PS4 = actual_data.query('platform==\"PS4\"')[['total_sales', 'critic_score', 'user_score']].dropna()\n",
    "PS4.head()"
   ]
  },
  {
   "cell_type": "code",
   "execution_count": 39,
   "metadata": {},
   "outputs": [
    {
     "data": {
      "image/png": "[encoded data removed]",
      "text/plain": [
       "<Figure size 432x288 with 2 Axes>"
      ]
     },
     "metadata": {},
     "output_type": "display_data"
    }
   ],
   "source": [
    "#рассчитаем корреляцию между отзывами (столбцы critic_score, user_score) и продажами (total_sales):\n",
    "heatmap = sns.heatmap(PS4.corr()[['total_sales']], vmin=-1, vmax=1,annot=True, cmap='BrBG')\n",
    "heatmap.set_title('Корреляция отзывов с продажами для PS4', pad=16)\n",
    "plt.show()"
   ]
  },
  {
   "cell_type": "markdown",
   "metadata": {},
   "source": [
    "Выявлена слабая прямая зависимость между отзывами критиков и продажами игр PS4, а вот пользовательская оценка на продажи, судя по коэффициенту корреляции, не имеет влияния. По крайней мере, линейная зависимость не выявлена. \n",
    "\n",
    "**Посмотрим на матрицу диаграмм рассеяния**"
   ]
  },
  {
   "cell_type": "code",
   "execution_count": 40,
   "metadata": {},
   "outputs": [
    {
     "data": {
      "image/png": "[encoded data removed]",
      "text/plain": [
       "<Figure size 648x648 with 9 Axes>"
      ]
     },
     "metadata": {},
     "output_type": "display_data"
    }
   ],
   "source": [
    "#построим матрицу диаграмм рассеяния для PS4: \n",
    "pd.plotting.scatter_matrix(PS4, figsize = (9,9))\n",
    "plt.show()"
   ]
  },
  {
   "cell_type": "markdown",
   "metadata": {},
   "source": [
    "Действительно, на графике наглядно видна линейная зависимость между оценкой критиков и продажами, а вот между оценкой пользователй и продажами явно выраженной зависимости нет. \n",
    "По всей видимости, пользовательская оценка очень субъективна, и пользователи при выборе игр для покупки готовы доверять только проверенным критикам. "
   ]
  },
  {
   "cell_type": "markdown",
   "metadata": {},
   "source": [
    "### Соотнесение выводов с продажами игр на других платформах"
   ]
  },
  {
   "cell_type": "markdown",
   "metadata": {},
   "source": [
    "Рассчитаем коэффициенты корреляции между отзывами и продажами для 3DS и XOne и сравним полученные выводы с данными по PS4: "
   ]
  },
  {
   "cell_type": "code",
   "execution_count": 41,
   "metadata": {},
   "outputs": [
    {
     "data": {
      "image/png": "[encoded data removed]",
      "text/plain": [
       "<Figure size 432x288 with 2 Axes>"
      ]
     },
     "metadata": {},
     "output_type": "display_data"
    },
    {
     "data": {
      "image/png": "[encoded data removed]",
      "text/plain": [
       "<Figure size 360x360 with 9 Axes>"
      ]
     },
     "metadata": {},
     "output_type": "display_data"
    },
    {
     "data": {
      "image/png": "[encoded data removed]",
      "text/plain": [
       "<Figure size 432x288 with 2 Axes>"
      ]
     },
     "metadata": {},
     "output_type": "display_data"
    },
    {
     "data": {
      "image/png": "[encoded data removed]",
      "text/plain": [
       "<Figure size 360x360 with 9 Axes>"
      ]
     },
     "metadata": {},
     "output_type": "display_data"
    }
   ],
   "source": [
    "platform_list = [\"3DS\", \"XOne\"]\n",
    "tables=[]\n",
    "for platform in platform_list:\n",
    "    table = actual_data.query('platform==@platform')[['total_sales', 'critic_score', 'user_score']].dropna()\n",
    "    tables.append(table)\n",
    "for index in range(2):\n",
    "    heatmap = sns.heatmap(tables[index].corr()[['total_sales']], vmin=-1, vmax=1,annot=True, cmap='BrBG')\n",
    "    heatmap.set_title(platform_list[index])\n",
    "    plt.show()\n",
    "    pd.plotting.scatter_matrix(tables[index], figsize = (5,5))\n",
    "    plt.show()"
   ]
  },
  {
   "cell_type": "markdown",
   "metadata": {},
   "source": [
    "Что касается зависимости продаж игр от отзывов для платформы XOne - выводы совпадают с выводами по PS4: влияние(слабое) имеют только отзывы критиков. А вот для платформы 3DS выявлена слабая линейная зависимость продажи игр и от отзывов критиков, и от пользовательских оценок. "
   ]
  },
  {
   "cell_type": "markdown",
   "metadata": {},
   "source": [
    "### Анализ общего распределения игр по жанрам"
   ]
  },
  {
   "cell_type": "markdown",
   "metadata": {},
   "source": [
    "Посмотрим **общее распределение игр по жанрам**, для этого построим столбчатую диаграмму:"
   ]
  },
  {
   "cell_type": "code",
   "execution_count": 42,
   "metadata": {},
   "outputs": [
    {
     "name": "stderr",
     "output_type": "stream",
     "text": [
      "/opt/conda/lib/python3.7/site-packages/pandas/plotting/_matplotlib/core.py:1320: MatplotlibDeprecationWarning: Saw kwargs ['ec', 'edgecolor'] which are all aliases for 'edgecolor'.  Kept value from 'edgecolor'.  Passing multiple aliases for the same property will raise a TypeError in 3.3.\n",
      "  return ax.bar(x, y, w, bottom=start, log=log, **kwds)\n"
     ]
    },
    {
     "data": {
      "image/png": "[encoded data removed]",
      "text/plain": [
       "<Figure size 864x432 with 1 Axes>"
      ]
     },
     "metadata": {},
     "output_type": "display_data"
    }
   ],
   "source": [
    "#построим столбчатую диаграмму, где по оси x будут жанры, по оси y-  количество выпущенных игр:\n",
    "actual_data.query('genre!=\"not defined\"').pivot_table(\n",
    "index='genre', values='name', aggfunc='count'\n",
    ").sort_values(by='name').plot(\n",
    "kind='bar', y='name', ec='white', legend=None, color = 'cyan', edgecolor='black', figsize = (12,6))\n",
    "plt.title('Распределение игр по жанрам', pad=16)\n",
    "plt.xlabel('жанр')\n",
    "plt.ylabel('количество выпущенных игр')\n",
    "plt.show()"
   ]
  },
  {
   "cell_type": "markdown",
   "metadata": {},
   "source": [
    "Самым популярным жанром с большим отрывом выпускаемых игр является Action, далее идут ролевые игры и затем приключения. Наименьшей популярностью пользуются компьютерные пазлы.\n",
    "\n",
    "Давайте посмотрим, какие жанры лучше всего продаются. Построим еще одну столбчатую диаграмму, теперь по продажам. "
   ]
  },
  {
   "cell_type": "code",
   "execution_count": 43,
   "metadata": {},
   "outputs": [
    {
     "data": {
      "image/png": "[encoded data removed]",
      "text/plain": [
       "<Figure size 864x432 with 1 Axes>"
      ]
     },
     "metadata": {},
     "output_type": "display_data"
    }
   ],
   "source": [
    "#построим столбчатую диаграмму, где по оси x будут жанры, по оси y-  сумма продаж:\n",
    "actual_data.query('genre!=\"not defined\"').pivot_table(\n",
    "index='genre', values='total_sales', aggfunc='sum').sort_values(by='total_sales').plot(\n",
    "kind='bar', y='total_sales', ec='white', legend=None, color = 'cyan', edgecolor='black', figsize = (12,6))\n",
    "plt.title('Распределение суммарных продаж по жанрам', pad=16)\n",
    "plt.xlabel('жанр')\n",
    "plt.ylabel('суммарные продажи')\n",
    "plt.show()"
   ]
  },
  {
   "cell_type": "markdown",
   "metadata": {},
   "source": [
    "Результаты оказались неожиданными. Тройка лидирующих по выпуску новух игр жанров не является лидирующей в продажах игр. \n",
    "Жанр Action остается на первом месте и по выпуску игр, и по продажам, далее в рейтинге продаж идут стрелялки, а затем спортивные игры. \n",
    "Компьютерные пазлы и здесь пользуются наименьшей популярностью. \n",
    "\n",
    "Таким образом, \"активные\" игры, не требующие вдумчивости, продаются гораздо лучше, чем \"спокойные, размеренные\" жанры игр. "
   ]
  },
  {
   "cell_type": "markdown",
   "metadata": {},
   "source": [
    "**Вывод**\n",
    "\n",
    "В рамках исследовательского анализа данных мы обнаружили следующее:\n",
    "\n",
    "- До 1993 года игр выпускалось крайне мало, а вот начиная с 1994, наблюдался стабильный рост числа выпускаемых игр, пик приходится на 2008-2009 года. С 2013 года количество выпускаемых игр в год вновь начинает расти, но уже не такими темпами, как раньше. Обратили внимание на общий спад в 2016 году, и здесь важно помнить, что данные за 2016 год могут быть неполными, поэтому нельзя с точностью сказать, выросло или упало количество выпущенных игр в 2016.\n",
    "- В общем за весь период с 1993 по 2016 лидерами продаж были следующие платформы: PS2, X360, PS3, Wii, DS, PS. Однако для прогноза на 2017 год необходимо рассматривать более “свежие” данные, для дальнейшего исследования был взят период 2013-2016  гг.\n",
    "- Согласно актуальным данным лидируют по продажам топ-5 платформ: PS4; PS3; XOne; 3DS; X360.\n",
    "- Из этой пятерки наиболее перспективные платформы со стабильными показателями роста продаж (за исключением 2016, помним о неполных данных), это PS4 и Xone. \n",
    "- В среднем и PS4, и XOne продают 0,2 млн. копий игры (ХOne чуть больше). Однако максимальные показатели продаж выше, то есть отдельные игры PS4 подаются гораздо лучше, чем XOne, за счет чего можно выиграть в прибыли. Для сравнения 3DS средние продажи игр 3DS- менее 0.1 млн. копий, что в 2 раза ниже, чем у PS4 и XOne.\n",
    "- Выявлено, что наибольшее влияние на продажи игр и PS4, и XOne имеют отзывы критиков (коэффициент корреляции=0,41), выявлена слабая линейная зависимость.  А вот пользовательская оценка на продажи, судя по коэффициенту корреляции, не имеет влияния на продажи. По всей видимости, пользовательская оценка очень субъективна, и пользователи при выборе игр для покупки готовы доверять только проверенным критикам.\n",
    "- Также мы проанализировали жанры выпускаемых игр и выяснили, что самым популярным жанром является Action, наименьшей популярностью пользуются компьютерные пазлы. По продажам жанр Action также на первом месте, далее в рейтинге продаж идут стрелялки, а затем спортивные игры. Компьютерные пазлы и здесь пользуются наименьшей популярностью. Таким образом, \"активные\" игры, не требующие вдумчивости, продаются гораздо лучше, чем \"спокойные, размеренные\" жанры игр.\n",
    "\n",
    "Теперь мы посмотрим данные о продажах в регионах и составим портрет пользователя каждого региона. \n"
   ]
  },
  {
   "cell_type": "markdown",
   "metadata": {},
   "source": [
    "## Портрет пользователя каждого региона"
   ]
  },
  {
   "cell_type": "markdown",
   "metadata": {},
   "source": [
    "### Определим для пользователя каждого региона самые популярные платформы (топ-5)"
   ]
  },
  {
   "cell_type": "markdown",
   "metadata": {},
   "source": [
    "Сгруппируем данные продаж по платформам для каждого региона и определим **топ-5 для каждого региона (NA, EU, JP)**:"
   ]
  },
  {
   "cell_type": "code",
   "execution_count": 61,
   "metadata": {},
   "outputs": [
    {
     "data": {
      "text/html": [
       "<div>\n",
       "<style scoped>\n",
       "    .dataframe tbody tr th:only-of-type {\n",
       "        vertical-align: middle;\n",
       "    }\n",
       "\n",
       "    .dataframe tbody tr th {\n",
       "        vertical-align: top;\n",
       "    }\n",
       "\n",
       "    .dataframe thead th {\n",
       "        text-align: right;\n",
       "    }\n",
       "</style>\n",
       "<table border=\"1\" class=\"dataframe\">\n",
       "  <thead>\n",
       "    <tr style=\"text-align: right;\">\n",
       "      <th></th>\n",
       "      <th>na_sales</th>\n",
       "      <th>percent</th>\n",
       "    </tr>\n",
       "    <tr>\n",
       "      <th>platform</th>\n",
       "      <th></th>\n",
       "      <th></th>\n",
       "    </tr>\n",
       "  </thead>\n",
       "  <tbody>\n",
       "    <tr>\n",
       "      <td>PS4</td>\n",
       "      <td>108.74</td>\n",
       "      <td>24</td>\n",
       "    </tr>\n",
       "    <tr>\n",
       "      <td>XOne</td>\n",
       "      <td>93.12</td>\n",
       "      <td>21</td>\n",
       "    </tr>\n",
       "    <tr>\n",
       "      <td>X360</td>\n",
       "      <td>81.66</td>\n",
       "      <td>18</td>\n",
       "    </tr>\n",
       "    <tr>\n",
       "      <td>PS3</td>\n",
       "      <td>63.50</td>\n",
       "      <td>14</td>\n",
       "    </tr>\n",
       "    <tr>\n",
       "      <td>3DS</td>\n",
       "      <td>38.20</td>\n",
       "      <td>8</td>\n",
       "    </tr>\n",
       "  </tbody>\n",
       "</table>\n",
       "</div>"
      ],
      "text/plain": [
       "          na_sales  percent\n",
       "platform                   \n",
       "PS4         108.74       24\n",
       "XOne         93.12       21\n",
       "X360         81.66       18\n",
       "PS3          63.50       14\n",
       "3DS          38.20        8"
      ]
     },
     "metadata": {},
     "output_type": "display_data"
    },
    {
     "data": {
      "image/png": "[encoded data removed]",
      "text/plain": [
       "<Figure size 432x288 with 1 Axes>"
      ]
     },
     "metadata": {},
     "output_type": "display_data"
    },
    {
     "data": {
      "text/html": [
       "<div>\n",
       "<style scoped>\n",
       "    .dataframe tbody tr th:only-of-type {\n",
       "        vertical-align: middle;\n",
       "    }\n",
       "\n",
       "    .dataframe tbody tr th {\n",
       "        vertical-align: top;\n",
       "    }\n",
       "\n",
       "    .dataframe thead th {\n",
       "        text-align: right;\n",
       "    }\n",
       "</style>\n",
       "<table border=\"1\" class=\"dataframe\">\n",
       "  <thead>\n",
       "    <tr style=\"text-align: right;\">\n",
       "      <th></th>\n",
       "      <th>eu_sales</th>\n",
       "      <th>percent</th>\n",
       "    </tr>\n",
       "    <tr>\n",
       "      <th>platform</th>\n",
       "      <th></th>\n",
       "      <th></th>\n",
       "    </tr>\n",
       "  </thead>\n",
       "  <tbody>\n",
       "    <tr>\n",
       "      <td>PS4</td>\n",
       "      <td>141.09</td>\n",
       "      <td>35</td>\n",
       "    </tr>\n",
       "    <tr>\n",
       "      <td>PS3</td>\n",
       "      <td>67.81</td>\n",
       "      <td>17</td>\n",
       "    </tr>\n",
       "    <tr>\n",
       "      <td>XOne</td>\n",
       "      <td>51.59</td>\n",
       "      <td>13</td>\n",
       "    </tr>\n",
       "    <tr>\n",
       "      <td>X360</td>\n",
       "      <td>42.52</td>\n",
       "      <td>10</td>\n",
       "    </tr>\n",
       "    <tr>\n",
       "      <td>3DS</td>\n",
       "      <td>30.96</td>\n",
       "      <td>7</td>\n",
       "    </tr>\n",
       "  </tbody>\n",
       "</table>\n",
       "</div>"
      ],
      "text/plain": [
       "          eu_sales  percent\n",
       "platform                   \n",
       "PS4         141.09       35\n",
       "PS3          67.81       17\n",
       "XOne         51.59       13\n",
       "X360         42.52       10\n",
       "3DS          30.96        7"
      ]
     },
     "metadata": {},
     "output_type": "display_data"
    },
    {
     "data": {
      "image/png": "[encoded data removed]",
      "text/plain": [
       "<Figure size 432x288 with 1 Axes>"
      ]
     },
     "metadata": {},
     "output_type": "display_data"
    },
    {
     "data": {
      "text/html": [
       "<div>\n",
       "<style scoped>\n",
       "    .dataframe tbody tr th:only-of-type {\n",
       "        vertical-align: middle;\n",
       "    }\n",
       "\n",
       "    .dataframe tbody tr th {\n",
       "        vertical-align: top;\n",
       "    }\n",
       "\n",
       "    .dataframe thead th {\n",
       "        text-align: right;\n",
       "    }\n",
       "</style>\n",
       "<table border=\"1\" class=\"dataframe\">\n",
       "  <thead>\n",
       "    <tr style=\"text-align: right;\">\n",
       "      <th></th>\n",
       "      <th>jp_sales</th>\n",
       "      <th>percent</th>\n",
       "    </tr>\n",
       "    <tr>\n",
       "      <th>platform</th>\n",
       "      <th></th>\n",
       "      <th></th>\n",
       "    </tr>\n",
       "  </thead>\n",
       "  <tbody>\n",
       "    <tr>\n",
       "      <td>3DS</td>\n",
       "      <td>67.81</td>\n",
       "      <td>48</td>\n",
       "    </tr>\n",
       "    <tr>\n",
       "      <td>PS3</td>\n",
       "      <td>23.35</td>\n",
       "      <td>16</td>\n",
       "    </tr>\n",
       "    <tr>\n",
       "      <td>PSV</td>\n",
       "      <td>18.59</td>\n",
       "      <td>13</td>\n",
       "    </tr>\n",
       "    <tr>\n",
       "      <td>PS4</td>\n",
       "      <td>15.96</td>\n",
       "      <td>11</td>\n",
       "    </tr>\n",
       "    <tr>\n",
       "      <td>WiiU</td>\n",
       "      <td>10.88</td>\n",
       "      <td>7</td>\n",
       "    </tr>\n",
       "  </tbody>\n",
       "</table>\n",
       "</div>"
      ],
      "text/plain": [
       "          jp_sales  percent\n",
       "platform                   \n",
       "3DS          67.81       48\n",
       "PS3          23.35       16\n",
       "PSV          18.59       13\n",
       "PS4          15.96       11\n",
       "WiiU         10.88        7"
      ]
     },
     "metadata": {},
     "output_type": "display_data"
    },
    {
     "data": {
      "image/png": "[encoded data removed]",
      "text/plain": [
       "<Figure size 432x288 with 1 Axes>"
      ]
     },
     "metadata": {},
     "output_type": "display_data"
    }
   ],
   "source": [
    "#сгруппируем данные по столбцу platform со значениями столбцов na_sales, eu_sales, jp_sales с помощью цикла for и метода pivot_table():\n",
    "list_of_columns = ['na_sales', 'eu_sales', 'jp_sales']\n",
    "for column in list_of_columns:\n",
    "    table = actual_data.pivot_table(index='platform',values=column,aggfunc ='sum').sort_values(by=column,ascending=False)\n",
    "    table['percent'] = ((table[column] / table[column].sum())*100).astype(int)\n",
    "    display(table.head())\n",
    "    table[column].head().plot(kind='pie', autopct='%1.1f%%', shadow=True,)\n",
    "    plt.show()"
   ]
  },
  {
   "cell_type": "markdown",
   "metadata": {},
   "source": [
    "**Игроки Северной Америки, как и игроки Европы** свое предпочтение отдали PS4. На втором месте с небольшим отрывом у игроков Северной Америки стоит платформа XOne, а вот игроки Европы более последовательны в предпочтениях- опять же платформа плэйстейшен- PS3, ХOne в Европе занимает лишь третью строчку, В Северной Америке на третьей строчке- Х360. \n",
    "\n",
    "Таким образом, предпочтения схожи, но если в Америке примерно равное количество покупок игр платформ Sony и Microsoft, то Европейские пользователи в 2 раза чаще покупают игры платформ Sony , чем Microsoft. Японская 3DS на пятом месте рейтинга и для покупателей из Северной Америки, и из Европы.\n",
    "\n",
    "**Пользователи же из Японии** (почти половина) отдали предпочтение \"своей\" японской платформе - 3DS, далее идут PS3, PSV и PS4, на последнем месте WiiU. Платформы семейства Microsoft в японский рейтинг топ-5 не вошли. "
   ]
  },
  {
   "cell_type": "markdown",
   "metadata": {},
   "source": [
    "### Определим для пользователя каждого региона самые популярные жанры (топ-5)"
   ]
  },
  {
   "cell_type": "markdown",
   "metadata": {},
   "source": [
    "Сгруппируем данные продаж по жанрам для каждого региона и определим **топ-5 для каждого региона (NA, EU, JP)**:"
   ]
  },
  {
   "cell_type": "code",
   "execution_count": 62,
   "metadata": {},
   "outputs": [
    {
     "data": {
      "text/html": [
       "<div>\n",
       "<style scoped>\n",
       "    .dataframe tbody tr th:only-of-type {\n",
       "        vertical-align: middle;\n",
       "    }\n",
       "\n",
       "    .dataframe tbody tr th {\n",
       "        vertical-align: top;\n",
       "    }\n",
       "\n",
       "    .dataframe thead th {\n",
       "        text-align: right;\n",
       "    }\n",
       "</style>\n",
       "<table border=\"1\" class=\"dataframe\">\n",
       "  <thead>\n",
       "    <tr style=\"text-align: right;\">\n",
       "      <th></th>\n",
       "      <th>na_sales</th>\n",
       "      <th>percent</th>\n",
       "    </tr>\n",
       "    <tr>\n",
       "      <th>genre</th>\n",
       "      <th></th>\n",
       "      <th></th>\n",
       "    </tr>\n",
       "  </thead>\n",
       "  <tbody>\n",
       "    <tr>\n",
       "      <td>Action</td>\n",
       "      <td>126.05</td>\n",
       "      <td>28</td>\n",
       "    </tr>\n",
       "    <tr>\n",
       "      <td>Shooter</td>\n",
       "      <td>109.74</td>\n",
       "      <td>25</td>\n",
       "    </tr>\n",
       "    <tr>\n",
       "      <td>Sports</td>\n",
       "      <td>65.27</td>\n",
       "      <td>14</td>\n",
       "    </tr>\n",
       "    <tr>\n",
       "      <td>Role-Playing</td>\n",
       "      <td>46.40</td>\n",
       "      <td>10</td>\n",
       "    </tr>\n",
       "    <tr>\n",
       "      <td>Misc</td>\n",
       "      <td>27.49</td>\n",
       "      <td>6</td>\n",
       "    </tr>\n",
       "  </tbody>\n",
       "</table>\n",
       "</div>"
      ],
      "text/plain": [
       "              na_sales  percent\n",
       "genre                          \n",
       "Action          126.05       28\n",
       "Shooter         109.74       25\n",
       "Sports           65.27       14\n",
       "Role-Playing     46.40       10\n",
       "Misc             27.49        6"
      ]
     },
     "metadata": {},
     "output_type": "display_data"
    },
    {
     "data": {
      "image/png": "[encoded data removed]",
      "text/plain": [
       "<Figure size 432x288 with 1 Axes>"
      ]
     },
     "metadata": {},
     "output_type": "display_data"
    },
    {
     "data": {
      "text/html": [
       "<div>\n",
       "<style scoped>\n",
       "    .dataframe tbody tr th:only-of-type {\n",
       "        vertical-align: middle;\n",
       "    }\n",
       "\n",
       "    .dataframe tbody tr th {\n",
       "        vertical-align: top;\n",
       "    }\n",
       "\n",
       "    .dataframe thead th {\n",
       "        text-align: right;\n",
       "    }\n",
       "</style>\n",
       "<table border=\"1\" class=\"dataframe\">\n",
       "  <thead>\n",
       "    <tr style=\"text-align: right;\">\n",
       "      <th></th>\n",
       "      <th>eu_sales</th>\n",
       "      <th>percent</th>\n",
       "    </tr>\n",
       "    <tr>\n",
       "      <th>genre</th>\n",
       "      <th></th>\n",
       "      <th></th>\n",
       "    </tr>\n",
       "  </thead>\n",
       "  <tbody>\n",
       "    <tr>\n",
       "      <td>Action</td>\n",
       "      <td>118.13</td>\n",
       "      <td>30</td>\n",
       "    </tr>\n",
       "    <tr>\n",
       "      <td>Shooter</td>\n",
       "      <td>87.86</td>\n",
       "      <td>22</td>\n",
       "    </tr>\n",
       "    <tr>\n",
       "      <td>Sports</td>\n",
       "      <td>60.52</td>\n",
       "      <td>15</td>\n",
       "    </tr>\n",
       "    <tr>\n",
       "      <td>Role-Playing</td>\n",
       "      <td>36.97</td>\n",
       "      <td>9</td>\n",
       "    </tr>\n",
       "    <tr>\n",
       "      <td>Racing</td>\n",
       "      <td>20.19</td>\n",
       "      <td>5</td>\n",
       "    </tr>\n",
       "  </tbody>\n",
       "</table>\n",
       "</div>"
      ],
      "text/plain": [
       "              eu_sales  percent\n",
       "genre                          \n",
       "Action          118.13       30\n",
       "Shooter          87.86       22\n",
       "Sports           60.52       15\n",
       "Role-Playing     36.97        9\n",
       "Racing           20.19        5"
      ]
     },
     "metadata": {},
     "output_type": "display_data"
    },
    {
     "data": {
      "image/png": "[encoded data removed]",
      "text/plain": [
       "<Figure size 432x288 with 1 Axes>"
      ]
     },
     "metadata": {},
     "output_type": "display_data"
    },
    {
     "data": {
      "text/html": [
       "<div>\n",
       "<style scoped>\n",
       "    .dataframe tbody tr th:only-of-type {\n",
       "        vertical-align: middle;\n",
       "    }\n",
       "\n",
       "    .dataframe tbody tr th {\n",
       "        vertical-align: top;\n",
       "    }\n",
       "\n",
       "    .dataframe thead th {\n",
       "        text-align: right;\n",
       "    }\n",
       "</style>\n",
       "<table border=\"1\" class=\"dataframe\">\n",
       "  <thead>\n",
       "    <tr style=\"text-align: right;\">\n",
       "      <th></th>\n",
       "      <th>jp_sales</th>\n",
       "      <th>percent</th>\n",
       "    </tr>\n",
       "    <tr>\n",
       "      <th>genre</th>\n",
       "      <th></th>\n",
       "      <th></th>\n",
       "    </tr>\n",
       "  </thead>\n",
       "  <tbody>\n",
       "    <tr>\n",
       "      <td>Role-Playing</td>\n",
       "      <td>51.04</td>\n",
       "      <td>36</td>\n",
       "    </tr>\n",
       "    <tr>\n",
       "      <td>Action</td>\n",
       "      <td>40.49</td>\n",
       "      <td>28</td>\n",
       "    </tr>\n",
       "    <tr>\n",
       "      <td>Misc</td>\n",
       "      <td>9.20</td>\n",
       "      <td>6</td>\n",
       "    </tr>\n",
       "    <tr>\n",
       "      <td>Fighting</td>\n",
       "      <td>7.65</td>\n",
       "      <td>5</td>\n",
       "    </tr>\n",
       "    <tr>\n",
       "      <td>Shooter</td>\n",
       "      <td>6.61</td>\n",
       "      <td>4</td>\n",
       "    </tr>\n",
       "  </tbody>\n",
       "</table>\n",
       "</div>"
      ],
      "text/plain": [
       "              jp_sales  percent\n",
       "genre                          \n",
       "Role-Playing     51.04       36\n",
       "Action           40.49       28\n",
       "Misc              9.20        6\n",
       "Fighting          7.65        5\n",
       "Shooter           6.61        4"
      ]
     },
     "metadata": {},
     "output_type": "display_data"
    },
    {
     "data": {
      "image/png": "[encoded data removed]",
      "text/plain": [
       "<Figure size 432x288 with 1 Axes>"
      ]
     },
     "metadata": {},
     "output_type": "display_data"
    }
   ],
   "source": [
    "#сгруппируем данные по столбцу genre со значениями столбцов na_sales, eu_sales, jp_sales с помощью цикла for и метода pivot_table():\n",
    "for column in list_of_columns:\n",
    "    table = actual_data.pivot_table(index='genre',values=column,aggfunc ='sum').sort_values(by=column,ascending=False)\n",
    "    table['percent'] = ((table[column] / table[column].sum())*100).astype(int)\n",
    "    display(table.head())\n",
    "    table[column].head().plot(kind='pie', autopct='%1.1f%%', shadow=True,)\n",
    "    plt.show()"
   ]
  },
  {
   "cell_type": "markdown",
   "metadata": {},
   "source": [
    "Популярность жанров игр у **пользователей Северной Америки и Европы** очень схожа, первые 4 поп-жанра - это: Action, Shooter, Sports и Role-Playing. На последнем месте в топ-5 у игроков Северной Америки Misc, у европейский пользователей - Racing. \n",
    "\n",
    "**У японских пользователей** почти все те же жанры, только в другом порядке, топ-5 предпочтений в жанрах игр японскими игроками выглядит следующим образом: Role-Playing, Action, Misk, Fighting, Shooter. Примечательно, что из японского рейтинга \"ушли\" спортивные игры, а вместо них появились \"драки\". "
   ]
  },
  {
   "cell_type": "markdown",
   "metadata": {},
   "source": [
    "### Ответим на вопрос, влияет ли рейтинг ESRB на продажи в отдельном регионе?"
   ]
  },
  {
   "cell_type": "markdown",
   "metadata": {},
   "source": [
    "Для того чтобы ответить на вопрос, влияет ли рейтинг ESRB на продажи, для начала ознакомимся со списком значений рейтинга в таблице:"
   ]
  },
  {
   "cell_type": "code",
   "execution_count": 46,
   "metadata": {},
   "outputs": [
    {
     "data": {
      "text/plain": [
       "array(['M', 'E', 'T', 'E10+'], dtype=object)"
      ]
     },
     "execution_count": 46,
     "metadata": {},
     "output_type": "execute_result"
    }
   ],
   "source": [
    "#создадим новую переменную, где оставим только нужные для анализа столбцы:\n",
    "esrb_and_sales = actual_data.query('rating.isna()==False')[['rating', 'na_sales', 'eu_sales', 'jp_sales']]\n",
    "#выведем на экран уникальные значения столбца rating:\n",
    "esrb_and_sales['rating'].unique()"
   ]
  },
  {
   "cell_type": "markdown",
   "metadata": {},
   "source": [
    "Поясним **значения букв рейтинга ESRB**:\n",
    "- «E» («Everyone») — «Для всех»\n",
    "- «E10+» («Everyone 10 and older») — «Для всех от 10 лет и старше»\n",
    "- «T» («Teen») — «Подросткам»: Игра подходит для лиц от 13 лет\n",
    "- «M» («Mature») — «Для взрослых»\n",
    "\n",
    "Теперь **построим столбчатые диаграммы суммарных продаж в зависимости от рейтинга по регионам**, чтобы определить, есть ли влияние рейтига на продажи:"
   ]
  },
  {
   "cell_type": "code",
   "execution_count": 47,
   "metadata": {
    "scrolled": true
   },
   "outputs": [
    {
     "name": "stderr",
     "output_type": "stream",
     "text": [
      "/opt/conda/lib/python3.7/site-packages/pandas/plotting/_matplotlib/core.py:1320: MatplotlibDeprecationWarning: Saw kwargs ['ec', 'edgecolor'] which are all aliases for 'edgecolor'.  Kept value from 'edgecolor'.  Passing multiple aliases for the same property will raise a TypeError in 3.3.\n",
      "  return ax.bar(x, y, w, bottom=start, log=log, **kwds)\n"
     ]
    },
    {
     "data": {
      "image/png": "[encoded data removed]",
      "text/plain": [
       "<Figure size 360x360 with 1 Axes>"
      ]
     },
     "metadata": {},
     "output_type": "display_data"
    },
    {
     "data": {
      "image/png": "[encoded data removed]",
      "text/plain": [
       "<Figure size 360x360 with 1 Axes>"
      ]
     },
     "metadata": {},
     "output_type": "display_data"
    },
    {
     "data": {
      "image/png": "[encoded data removed]",
      "text/plain": [
       "<Figure size 360x360 with 1 Axes>"
      ]
     },
     "metadata": {},
     "output_type": "display_data"
    }
   ],
   "source": [
    "#построим столбчатые диаграммы для каждого региона, где по оси х будут рейтинги ESRB, по оси у- суммарные продажи по регионам:\n",
    "for column in list_of_columns:\n",
    "    esrb_and_sales.pivot_table(index= 'rating', values = column, aggfunc= 'sum').sort_values(by=column).plot(\n",
    "    kind='bar', y= column, ec='white', legend=None, color = 'cyan', edgecolor='black', figsize = (5,5))\n",
    "    plt.title(column)\n",
    "    plt.xlabel('рейтинг ESRB')\n",
    "    plt.ylabel('суммарные продажи')\n",
    "    plt.show()"
   ]
  },
  {
   "cell_type": "markdown",
   "metadata": {},
   "source": [
    "Игроки **Северной Америки и Европы** больше всего покупают игр с рейтингом М- для взрослых, далее идут игры \"для всех\" и реже всего игры для детей от 10 и подростков от 13 лет. \n",
    "\n",
    "А вот **в японии** дела обстоят иначе: лидируют игры для подростков от 13, далее идут игры для всех и для взрослых- примерно на одном уровне, и завершают рейтинг игры для детей от 10 лет. \n",
    "\n",
    "Таким образом, влияние рейтинга ESRB на продажи есть, и оно различается по регионам. Скорее всего, это связано с тем, что в Северной Америке и Европе играют большей частью взрослые, а в Японии- подростки. По всей видимости, у работающих японцев в отличии от американцев и европейцев не так много времени на игры. "
   ]
  },
  {
   "cell_type": "markdown",
   "metadata": {},
   "source": [
    "**Вывод**\n",
    "\n",
    "Итак, мы определили для пользователя каждого региона топ-5 платформ, топ-5 жанров игр и влияние рейтинга ESRB на продажи. \n",
    "\n",
    "Какой же он, портрет нашего пользователя в каждом регионе? \n",
    "\n",
    "1) Пользователь Северной Америки:\n",
    "- предпочитает топ-5 платформ для игр: PS4(24%), XOne(21%), X360(18%), PS3(14%), 3DS(8%)\n",
    "Характерно примерно равное количество покупок игр платформ Sony и Microsoft.\n",
    "- предпочтения по жанрам игр: Action(28%), Shooter(25%), Sports(14%), Role-Playing(10%), Misc(6%)\n",
    "- влияние рейтинга ESRB на продажи: больше всего покупает игр с рейтингом М- для взрослых, далее идут игры \"для всех\" и реже всего игры для детей от 10 и подростков от 13 лет. \n",
    "\n",
    "2) Пользователь из Европы: \n",
    "- предпочитает топ-5 платформ для игр: PS4(35%), PS3(17%), XOne(13%), X360(10%), 3DS(7%)\n",
    "Характерно то, что европейские пользователи в 2 раза чаще покупают игры платформ Sony , чем Microsoft.\n",
    "- предпочтения по жанрам игр: Action(30%), Shooter(22%), Sports(15%), Role-Playing(9%), Racing(5%). \n",
    "- влияние рейтинга ESRB на продажи: больше всего покупает игр с рейтингом М- для взрослых, далее идут игры \"для всех\" и реже всего игры для детей от 10 и подростков от 13 лет. \n",
    "\n",
    "3) Пользователь из Японии:\n",
    "- топ-5 платформ для игр: 3DS, PS3, PSV, PS4, WiiU\n",
    "Платформы семейства Microsoft в японский рейтинг топ-5 не вошли. \n",
    "- топ-5 жанров игр:  Role-Playing, Action, Misk, Fighting, Shooter.\n",
    "Примечательно, что из японского рейтинга \"ушли\" спортивные игры, а вместо них появились \"драки\" (в сравнении с Северной Америкой и Европой).\n",
    "- влияние рейтинга ESRB на продажи: лидируют игры для подростков от 13, далее идут игры для всех и для взрослых- примерно на одном уровне, и завершают рейтинг игры для детей от 10 лет.\n",
    "\n",
    "Таким образом, предпочтения пользователей Северной Америки и Европы схожи, но имеются и характерные отличия. А игроки из Японии явно выделяются на фоне Северной Америки и Европы. \n",
    "\n",
    "Портреты пользователей составлены, выводы получились довольно интересными,  и теперь мы можем перейти к заключительному этапу нашего проекта - к проверке гипотез. "
   ]
  },
  {
   "cell_type": "markdown",
   "metadata": {},
   "source": [
    "## Проверка гипотез"
   ]
  },
  {
   "cell_type": "markdown",
   "metadata": {},
   "source": [
    "### Гипотеза \"Средние пользовательские рейтинги платформ Xbox One и PC одинаковые\"\n"
   ]
  },
  {
   "cell_type": "markdown",
   "metadata": {},
   "source": [
    "Нам необходимо сформулировать нулевую гипотезу так, чтобы использовать знак равенства. \n",
    "\n",
    "Тогда нулевая гипотеза **Но звучит следующим образом**: \"Средний пользовательский рейтинг платформы Xbox One равен среднему пользовательскому рейтингу платформы PC\".\n",
    "\n",
    "**Альтернативная гипотеза Н1**: \"Средний пользовательский рейтинг платформы Xbox One не равен среднему пользовательскому рейтингу платформы PC\".\n",
    "\n",
    "Пороговое значение альфа зададим равным 0.05. \n",
    "\n",
    "Отфильтруем нужные нам данные для анализа и добавим в новые переменные PS и XOne:"
   ]
  },
  {
   "cell_type": "code",
   "execution_count": 48,
   "metadata": {},
   "outputs": [],
   "source": [
    "#создадим новые переменные PS и XOne с данными для проверки гипотезы:\n",
    "PS = data.query('(user_score.isna()==False) and (platform==\"PS\")')['user_score']\n",
    "XOne = data.query('(user_score.isna()==False) and (platform==\"XOne\")')['user_score']"
   ]
  },
  {
   "cell_type": "code",
   "execution_count": 49,
   "metadata": {},
   "outputs": [
    {
     "name": "stdout",
     "output_type": "stream",
     "text": [
      "р-значение: 4.8107256198405024e-18\n",
      "Отвергаем нулевую гипотезу\n"
     ]
    }
   ],
   "source": [
    "#проверим гипотезу:\n",
    "alpha = 0.05\n",
    "results = st. ttest_ind(PS, XOne)\n",
    "print('р-значение:', results.pvalue)\n",
    "if results.pvalue < alpha:\n",
    "    print('Отвергаем нулевую гипотезу')\n",
    "else:\n",
    "    print('Не получилось отвергнуть нулевую гипотезу')"
   ]
  },
  {
   "cell_type": "markdown",
   "metadata": {},
   "source": [
    "Для выбранного уровня значимости мы отвергаем нулевую гипотезу. р-значение получилось крайне низким, а значит вероятность того, что cредний пользовательский рейтинг платформы Xbox One может быть равен среднему пользовательскому рейтингу платформы PC ничтожно мала. \n",
    "\n",
    "Таким образом, эмпирически полученные данные не противоречат альтернативной гипотезе: \n",
    "\"Средний пользовательский рейтинг платформы Xbox One не равен среднему пользовательскому рейтингу платформы PC\"."
   ]
  },
  {
   "cell_type": "code",
   "execution_count": 50,
   "metadata": {
    "scrolled": true
   },
   "outputs": [
    {
     "name": "stdout",
     "output_type": "stream",
     "text": [
      "Средний пользовательский рейтинг платформы Xbox One: 6.521428571428572\n",
      "Средний пользовательский рейтинг платформы PS: 7.865432098765431\n"
     ]
    }
   ],
   "source": [
    "#сравним средние значения переменных PS и XOne:\n",
    "print('Средний пользовательский рейтинг платформы Xbox One:', XOne.mean())\n",
    "print('Средний пользовательский рейтинг платформы PS:', PS.mean())"
   ]
  },
  {
   "cell_type": "markdown",
   "metadata": {},
   "source": [
    "### Гипотеза \"Средние пользовательские рейтинги жанров Action и Sports разные\""
   ]
  },
  {
   "cell_type": "markdown",
   "metadata": {},
   "source": [
    "Аналогичным образом проверим и 2 гипотезу. \n",
    "\n",
    "**Формулируем Но**: \"Средний пользовательский рейтинг жанра Action равен среднему пользовательскому рейтингу жанра Sports\".\n",
    "\n",
    "**Формулируем Н1**: \"Средний пользовательский рейтинг жанра Action не равен среднему пользовательскому рейтингу жанра Sports\".\n",
    "\n",
    "Пороговое значение альфа также зададим равным 0.05. \n",
    "\n",
    "Отфильтруем нужные нам данные для анализа и добавим в новые переменные Action и Sports:"
   ]
  },
  {
   "cell_type": "code",
   "execution_count": 51,
   "metadata": {},
   "outputs": [],
   "source": [
    "#создадим новые переменные  Action и Sports с данными для проверки гипотезы:\n",
    "Action = data.query('(user_score.isna()==False) and (genre==\"Action\")')['user_score']\n",
    "Sports = data.query('(user_score.isna()==False) and (genre==\"Sports\")')['user_score']"
   ]
  },
  {
   "cell_type": "code",
   "execution_count": 52,
   "metadata": {},
   "outputs": [
    {
     "name": "stdout",
     "output_type": "stream",
     "text": [
      "р-значение: 0.10406951359049141\n",
      "Не получилось отвергнуть нулевую гипотезу\n"
     ]
    }
   ],
   "source": [
    "#проверим гипотезу:\n",
    "alpha = 0.05\n",
    "results = st. ttest_ind(Action, Sports)\n",
    "print('р-значение:', results.pvalue)\n",
    "if results.pvalue < alpha:\n",
    "    print('Отвергаем нулевую гипотезу')\n",
    "else:\n",
    "    print('Не получилось отвергнуть нулевую гипотезу')"
   ]
  },
  {
   "cell_type": "markdown",
   "metadata": {},
   "source": [
    "Полученное значение p-value говорит о том, с вероятностью в 10% cредний пользовательский рейтинг жанра Action равен среднему пользовательскому рейтингу жанра Sports. \n",
    "Эмпирически полученные данные не противоречат нулевой гипотезе."
   ]
  },
  {
   "cell_type": "code",
   "execution_count": 53,
   "metadata": {
    "scrolled": true
   },
   "outputs": [
    {
     "name": "stdout",
     "output_type": "stream",
     "text": [
      "Средний пользовательский рейтинг жанра Action: 7.054043715846995\n",
      "Средний пользовательский рейтинг жанра Sports: 6.961196736174069\n"
     ]
    }
   ],
   "source": [
    "#сравним средние значения переменных Action и Sports:\n",
    "print('Средний пользовательский рейтинг жанра Action:', Action.mean())\n",
    "print('Средний пользовательский рейтинг жанра Sports:', Sports.mean())"
   ]
  },
  {
   "cell_type": "markdown",
   "metadata": {},
   "source": [
    "**Вывод**\n",
    "\n",
    "Мы проверили 2 гипотезы: \n",
    "- Средние пользовательские рейтинги платформ Xbox One и PC одинаковые;\n",
    "- Средние пользовательские рейтинги жанров Action и Sports разные.\n",
    "\n",
    "И выяснили следующее: \n",
    "- вероятность того, что cредний пользовательский рейтинг платформы Xbox One может быть равен среднему пользовательскому рейтингу платформы PC ничтожно мала. Эмпирически полученные данные не противоречат альтернативной гипотезе: \"Средний пользовательский рейтинг платформы Xbox One не равен среднему пользовательскому рейтингу платформы PC\".\n",
    "- с вероятностью в 10% cредний пользовательский рейтинг жанра Action равен среднему пользовательскому рейтингу жанра Sports. \n",
    "\n",
    "Таким образом, мы отвергаем обе гипотезы в том виде, в котором они была даны изначально. "
   ]
  },
  {
   "cell_type": "markdown",
   "metadata": {},
   "source": [
    "## Общий вывод"
   ]
  },
  {
   "cell_type": "markdown",
   "metadata": {},
   "source": [
    "Для того, чтобы подвести итоги, давайте вспомним, какая задача стояла перед нами вначале исследования. \n",
    "\n",
    "**Задача проекта**:\n",
    "\n",
    "Вы работаете в интернет-магазине «Стримчик», который продаёт по всему миру компьютерные игры. Из открытых источников доступны исторические данные о продажах игр, оценки пользователей и экспертов, жанры и платформы (например, Xbox или PlayStation). Вам нужно выявить определяющие успешность игры закономерности. Это позволит сделать ставку на потенциально популярный продукт и спланировать рекламные кампании.\n",
    "\n",
    "Мы проделали большую работу: провели общий исследовательский анализ данных, составили портрет пользователей из разных регионов и даже проверили 2 гипотезы. \n",
    "\n",
    "Давайте подытожим, что у нас получилось. \n",
    "\n",
    "**В рамках исследовательского анализа данных мы обнаружили следующее**:\n",
    "\n",
    "- До 1993 года игр выпускалось крайне мало, а вот начиная с 1994, наблюдался стабильный рост числа выпускаемых игр, пик приходится на 2008-2009 года. С 2013 года количество выпускаемых игр в год вновь начинает расти, но уже не такими темпами, как раньше. Обратили внимание на общий спад в 2016 году, и здесь важно помнить, что данные за 2016 год могут быть неполными, поэтому нельзя с точностью сказать, выросло или упало количество выпущенных игр в 2016.\n",
    "- В общем за весь период с 1993 по 2016 лидерами продаж были следующие платформы: PS2, X360, PS3, Wii, DS, PS. Однако для прогноза на 2017 год необходимо рассматривать более “свежие” данные, для дальнейшего исследования был взят период 2013-2016 гг.\n",
    "- Согласно актуальным данным лидируют по продажам топ-5 платформ: PS4; PS3; XOne; 3DS; X360.\n",
    "- Из этой пятерки наиболее перспективные платформы со стабильными показателями роста продаж (за исключением 2016, помним о неполных данных), это PS4 и Xone.\n",
    "- В среднем и PS4, и XOne продают 0,2 млн. копий игры (ХOne чуть больше). Однако максимальные показатели продаж выше, то есть отдельные игры PS4 подаются гораздо лучше, чем XOne, за счет чего можно выиграть в прибыли. Для сравнения 3DS средние продажи игр 3DS- менее 0.1 млн. копий, что в 2 раза ниже, чем у PS4 и XOne.\n",
    "- Выявлено, что наибольшее влияние на продажи игр и PS4, и XOne имеют отзывы критиков (коэффициент корреляции=0,41), выявлена слабая линейная зависимость. А вот пользовательская оценка на продажи, судя по коэффициенту корреляции, не имеет влияния на продажи. По всей видимости, пользовательская оценка очень субъективна, и пользователи при выборе игр для покупки готовы доверять только проверенным критикам.\n",
    "- Также мы проанализировали жанры выпускаемых игр и выяснили, что самым популярным жанром является Action, наименьшей популярностью пользуются компьютерные пазлы. По продажам жанр Action также на первом месте, далее в рейтинге продаж идут стрелялки, а затем спортивные игры. Компьютерные пазлы и здесь пользуются наименьшей популярностью. Таким образом, \"активные\" игры, не требующие вдумчивости, продаются гораздо лучше, чем \"спокойные, размеренные\" жанры игр.\n",
    "\n",
    "Мы определили для пользователя каждого региона топ-5 платформ, топ-5 жанров игр и влияние рейтинга ESRB на продажи.\n",
    "\n",
    "**Какой же получился портрет нашего пользователя в каждом регионе**?\n",
    "\n",
    "1) Пользователь Северной Америки:\n",
    "\n",
    "предпочитает топ-5 платформ для игр: PS4(24%), XOne(21%), X360(18%), PS3(14%), 3DS(8%) Характерно примерно равное количество покупок игр платформ Sony и Microsoft.\n",
    "предпочтения по жанрам игр: Action(28%), Shooter(25%), Sports(14%), Role-Playing(10%), Misc(6%)\n",
    "влияние рейтинга ESRB на продажи: больше всего покупает игр с рейтингом М- для взрослых, далее идут игры \"для всех\" и реже всего игры для детей от 10 и подростков от 13 лет.\n",
    "2) Пользователь из Европы:\n",
    "\n",
    "предпочитает топ-5 платформ для игр: PS4(35%), PS3(17%), XOne(13%), X360(10%), 3DS(7%) Характерно то, что европейские пользователи в 2 раза чаще покупают игры платформ Sony , чем Microsoft.\n",
    "предпочтения по жанрам игр: Action(30%), Shooter(22%), Sports(15%), Role-Playing(9%), Racing(5%).\n",
    "влияние рейтинга ESRB на продажи: больше всего покупает игр с рейтингом М- для взрослых, далее идут игры \"для всех\" и реже всего игры для детей от 10 и подростков от 13 лет.\n",
    "3) Пользователь из Японии:\n",
    "\n",
    "топ-5 платформ для игр: 3DS, PS3, PSV, PS4, WiiU Платформы семейства Microsoft в японский рейтинг топ-5 не вошли.\n",
    "топ-5 жанров игр: Role-Playing, Action, Misk, Fighting, Shooter. Примечательно, что из японского рейтинга \"ушли\" спортивные игры, а вместо них появились \"драки\" (в сравнении с Северной Америкой и Европой).\n",
    "влияние рейтинга ESRB на продажи: лидируют игры для подростков от 13, далее идут игры для всех и для взрослых- примерно на одном уровне, и завершают рейтинг игры для детей от 10 лет.\n",
    "Таким образом, предпочтения пользователей Северной Америки и Европы схожи, но имеются и характерные отличия. А игроки из Японии явно выделяются на фоне Северной Америки и Европы.\n",
    "\n",
    "И наконец, **мы проверили 2 гипотезы**:\n",
    "- Средние пользовательские рейтинги платформ Xbox One и PC одинаковые;\n",
    "- Средние пользовательские рейтинги жанров Action и Sports разные.\n",
    "\n",
    "И мы отвергли обе гипотезы, то есть эмпирически полученные данные не противоречат как раз противоположным гипотезам: \n",
    "- \"Средний пользовательский рейтинг платформы Xbox One не равен среднему пользовательскому рейтингу платформы PC\"\n",
    "- \"Средний пользовательский рейтинг жанра Action равен среднему пользовательскому рейтингу жанра Sports\".\n",
    "\n",
    "Мы сравнили средние рейтинги платформ Xbox One и PC по тем данным, что у нас есть, и получили следующие значения: \n",
    "- Средний пользовательский рейтинг платформы Xbox One: 6.5\n",
    "- Средний пользовательский рейтинг платформы PS: 7.9\n",
    "\n",
    "Конечно, такая разница впечатляет. И если говорить только о Xbox или PlayStation, то чуть лучше показатели все же у PlayStation, и при выборе между этими 2 платформами мы бы рекомендовали обратить особое внимание именно на PlayStation. \n",
    "\n",
    "Однако для планирования рекламных компаний нужно учитывать все факторы, описанные выше: это и предпочтения пользователей из разных регионов, и популярность жанров, и влияние оценок критиков и т.д."
   ]
  }
 ],
 "metadata": {
  "ExecuteTimeLog": [
   {
    "duration": 404,
    "start_time": "2021-12-27T15:55:16.187Z"
   },
   {
    "duration": 1382,
    "start_time": "2021-12-27T15:55:21.099Z"
   },
   {
    "duration": 79,
    "start_time": "2021-12-27T15:55:23.658Z"
   },
   {
    "duration": 85,
    "start_time": "2021-12-27T18:46:59.395Z"
   },
   {
    "duration": 16,
    "start_time": "2021-12-27T18:47:38.670Z"
   },
   {
    "duration": 6,
    "start_time": "2021-12-27T19:04:25.835Z"
   },
   {
    "duration": 414,
    "start_time": "2021-12-27T19:07:04.584Z"
   },
   {
    "duration": 39,
    "start_time": "2021-12-27T19:07:50.866Z"
   },
   {
    "duration": 7,
    "start_time": "2021-12-27T19:09:26.805Z"
   },
   {
    "duration": 5,
    "start_time": "2021-12-27T19:14:46.554Z"
   },
   {
    "duration": 15,
    "start_time": "2021-12-27T19:23:38.935Z"
   },
   {
    "duration": 13,
    "start_time": "2021-12-27T19:28:33.969Z"
   },
   {
    "duration": 9,
    "start_time": "2021-12-27T19:28:53.537Z"
   },
   {
    "duration": 401,
    "start_time": "2021-12-27T19:43:23.394Z"
   },
   {
    "duration": 118,
    "start_time": "2021-12-27T19:44:08.043Z"
   },
   {
    "duration": 39,
    "start_time": "2021-12-27T19:49:15.204Z"
   },
   {
    "duration": 41,
    "start_time": "2021-12-27T19:56:34.014Z"
   },
   {
    "duration": 21,
    "start_time": "2021-12-27T19:59:42.111Z"
   },
   {
    "duration": 12,
    "start_time": "2021-12-27T20:09:54.222Z"
   },
   {
    "duration": 9212,
    "start_time": "2021-12-27T20:10:08.193Z"
   },
   {
    "duration": 15,
    "start_time": "2021-12-27T20:10:19.597Z"
   },
   {
    "duration": 14,
    "start_time": "2021-12-27T20:10:26.979Z"
   },
   {
    "duration": 13,
    "start_time": "2021-12-27T20:10:32.581Z"
   },
   {
    "duration": 13,
    "start_time": "2021-12-27T20:10:42.308Z"
   },
   {
    "duration": 13,
    "start_time": "2021-12-27T20:10:49.900Z"
   },
   {
    "duration": 35,
    "start_time": "2021-12-27T20:11:02.713Z"
   },
   {
    "duration": 13,
    "start_time": "2021-12-27T20:11:18.495Z"
   },
   {
    "duration": 21,
    "start_time": "2021-12-27T20:15:48.731Z"
   },
   {
    "duration": 17,
    "start_time": "2021-12-27T20:22:01.192Z"
   },
   {
    "duration": 21,
    "start_time": "2021-12-27T20:22:10.003Z"
   },
   {
    "duration": 14,
    "start_time": "2021-12-27T20:24:30.777Z"
   },
   {
    "duration": 24,
    "start_time": "2021-12-27T20:29:08.646Z"
   },
   {
    "duration": 10,
    "start_time": "2021-12-27T20:31:22.893Z"
   },
   {
    "duration": 331,
    "start_time": "2021-12-27T20:32:05.114Z"
   },
   {
    "duration": 22,
    "start_time": "2021-12-27T20:32:21.641Z"
   },
   {
    "duration": 27,
    "start_time": "2021-12-27T20:32:28.079Z"
   },
   {
    "duration": 6,
    "start_time": "2021-12-27T20:32:54.816Z"
   },
   {
    "duration": 9,
    "start_time": "2021-12-27T20:34:20.290Z"
   },
   {
    "duration": 21,
    "start_time": "2021-12-27T20:38:10.215Z"
   },
   {
    "duration": 8,
    "start_time": "2021-12-27T20:40:59.072Z"
   },
   {
    "duration": 23,
    "start_time": "2021-12-27T20:41:25.470Z"
   },
   {
    "duration": 11,
    "start_time": "2021-12-28T06:19:01.236Z"
   },
   {
    "duration": 5,
    "start_time": "2021-12-28T06:19:13.744Z"
   },
   {
    "duration": 61,
    "start_time": "2021-12-28T06:19:13.751Z"
   },
   {
    "duration": 13,
    "start_time": "2021-12-28T06:19:13.814Z"
   },
   {
    "duration": 6,
    "start_time": "2021-12-28T06:19:13.830Z"
   },
   {
    "duration": 19,
    "start_time": "2021-12-28T06:19:13.838Z"
   },
   {
    "duration": 7,
    "start_time": "2021-12-28T06:19:13.893Z"
   },
   {
    "duration": 23,
    "start_time": "2021-12-28T06:19:13.903Z"
   },
   {
    "duration": 12,
    "start_time": "2021-12-28T06:19:13.929Z"
   },
   {
    "duration": 9,
    "start_time": "2021-12-28T06:19:13.944Z"
   },
   {
    "duration": 15,
    "start_time": "2021-12-28T06:19:13.956Z"
   },
   {
    "duration": 54,
    "start_time": "2021-12-28T06:19:13.973Z"
   },
   {
    "duration": 22,
    "start_time": "2021-12-28T06:19:14.030Z"
   },
   {
    "duration": 382,
    "start_time": "2021-12-28T06:23:01.041Z"
   },
   {
    "duration": 574,
    "start_time": "2021-12-28T06:24:19.756Z"
   },
   {
    "duration": 581,
    "start_time": "2021-12-28T06:25:01.700Z"
   },
   {
    "duration": 785,
    "start_time": "2021-12-28T06:26:36.353Z"
   },
   {
    "duration": 554,
    "start_time": "2021-12-28T06:26:51.811Z"
   },
   {
    "duration": 572,
    "start_time": "2021-12-28T06:28:00.379Z"
   },
   {
    "duration": 702,
    "start_time": "2021-12-28T06:28:17.034Z"
   },
   {
    "duration": 627,
    "start_time": "2021-12-28T06:29:14.336Z"
   },
   {
    "duration": 745,
    "start_time": "2021-12-28T06:29:59.862Z"
   },
   {
    "duration": 609,
    "start_time": "2021-12-28T06:31:23.844Z"
   },
   {
    "duration": 571,
    "start_time": "2021-12-28T06:31:31.143Z"
   },
   {
    "duration": 604,
    "start_time": "2021-12-28T06:31:49.711Z"
   },
   {
    "duration": 761,
    "start_time": "2021-12-28T06:31:56.648Z"
   },
   {
    "duration": 581,
    "start_time": "2021-12-28T06:32:09.774Z"
   },
   {
    "duration": 635,
    "start_time": "2021-12-28T06:34:37.712Z"
   },
   {
    "duration": 574,
    "start_time": "2021-12-28T06:34:50.224Z"
   },
   {
    "duration": 587,
    "start_time": "2021-12-28T06:34:58.452Z"
   },
   {
    "duration": 669,
    "start_time": "2021-12-28T06:39:21.034Z"
   },
   {
    "duration": 598,
    "start_time": "2021-12-28T06:39:32.096Z"
   },
   {
    "duration": 562,
    "start_time": "2021-12-28T06:39:54.708Z"
   },
   {
    "duration": 383,
    "start_time": "2021-12-28T06:43:26.581Z"
   },
   {
    "duration": 557,
    "start_time": "2021-12-28T06:43:39.033Z"
   },
   {
    "duration": 561,
    "start_time": "2021-12-28T06:44:10.044Z"
   },
   {
    "duration": 587,
    "start_time": "2021-12-28T06:44:42.132Z"
   },
   {
    "duration": 582,
    "start_time": "2021-12-28T06:47:08.471Z"
   },
   {
    "duration": 652,
    "start_time": "2021-12-28T06:47:14.081Z"
   },
   {
    "duration": 817,
    "start_time": "2021-12-28T06:47:32.488Z"
   },
   {
    "duration": 839,
    "start_time": "2021-12-28T06:47:37.780Z"
   },
   {
    "duration": 569,
    "start_time": "2021-12-28T06:47:58.782Z"
   },
   {
    "duration": 700,
    "start_time": "2021-12-28T06:48:19.079Z"
   },
   {
    "duration": 670,
    "start_time": "2021-12-28T06:48:35.008Z"
   },
   {
    "duration": 629,
    "start_time": "2021-12-28T06:48:43.712Z"
   },
   {
    "duration": 633,
    "start_time": "2021-12-28T06:48:48.818Z"
   },
   {
    "duration": 698,
    "start_time": "2021-12-28T06:49:01.393Z"
   },
   {
    "duration": 606,
    "start_time": "2021-12-28T06:49:43.966Z"
   },
   {
    "duration": 630,
    "start_time": "2021-12-28T06:49:54.883Z"
   },
   {
    "duration": 655,
    "start_time": "2021-12-28T06:51:05.688Z"
   },
   {
    "duration": 643,
    "start_time": "2021-12-28T06:51:17.741Z"
   },
   {
    "duration": 649,
    "start_time": "2021-12-28T06:51:28.207Z"
   },
   {
    "duration": 692,
    "start_time": "2021-12-28T06:52:08.277Z"
   },
   {
    "duration": 661,
    "start_time": "2021-12-28T06:52:18.765Z"
   },
   {
    "duration": 649,
    "start_time": "2021-12-28T06:52:30.428Z"
   },
   {
    "duration": 608,
    "start_time": "2021-12-28T06:58:48.706Z"
   },
   {
    "duration": 647,
    "start_time": "2021-12-28T06:59:01.871Z"
   },
   {
    "duration": 602,
    "start_time": "2021-12-28T06:59:15.276Z"
   },
   {
    "duration": 783,
    "start_time": "2021-12-28T06:59:27.768Z"
   },
   {
    "duration": 567,
    "start_time": "2021-12-28T07:24:30.304Z"
   },
   {
    "duration": 606,
    "start_time": "2021-12-28T07:25:51.611Z"
   },
   {
    "duration": 614,
    "start_time": "2021-12-28T07:25:59.253Z"
   },
   {
    "duration": 685,
    "start_time": "2021-12-28T07:26:06.670Z"
   },
   {
    "duration": 652,
    "start_time": "2021-12-28T07:26:12.626Z"
   },
   {
    "duration": 703,
    "start_time": "2021-12-28T07:26:34.714Z"
   },
   {
    "duration": 647,
    "start_time": "2021-12-28T07:26:45.379Z"
   },
   {
    "duration": 548,
    "start_time": "2021-12-28T07:27:16.153Z"
   },
   {
    "duration": 334,
    "start_time": "2021-12-28T07:37:16.655Z"
   },
   {
    "duration": 414,
    "start_time": "2021-12-28T07:38:38.429Z"
   },
   {
    "duration": 341,
    "start_time": "2021-12-28T07:41:38.231Z"
   },
   {
    "duration": 325,
    "start_time": "2021-12-28T07:41:57.624Z"
   },
   {
    "duration": 346,
    "start_time": "2021-12-28T07:48:52.660Z"
   },
   {
    "duration": 378,
    "start_time": "2021-12-28T07:50:08.863Z"
   },
   {
    "duration": 317,
    "start_time": "2021-12-28T07:50:54.242Z"
   },
   {
    "duration": 1802,
    "start_time": "2021-12-28T07:56:31.007Z"
   },
   {
    "duration": 1741,
    "start_time": "2021-12-28T07:56:45.471Z"
   },
   {
    "duration": 2443,
    "start_time": "2021-12-28T07:59:56.512Z"
   },
   {
    "duration": 1972,
    "start_time": "2021-12-28T08:01:01.201Z"
   },
   {
    "duration": 1858,
    "start_time": "2021-12-28T08:02:38.296Z"
   },
   {
    "duration": 2126,
    "start_time": "2021-12-28T08:10:03.969Z"
   },
   {
    "duration": 2687,
    "start_time": "2021-12-28T08:11:03.205Z"
   },
   {
    "duration": 2079,
    "start_time": "2021-12-28T08:11:15.457Z"
   },
   {
    "duration": 612,
    "start_time": "2021-12-28T08:13:23.996Z"
   },
   {
    "duration": 4,
    "start_time": "2021-12-28T08:14:43.447Z"
   },
   {
    "duration": 4,
    "start_time": "2021-12-28T08:14:46.700Z"
   },
   {
    "duration": 4,
    "start_time": "2021-12-28T08:14:51.592Z"
   },
   {
    "duration": 592,
    "start_time": "2021-12-28T08:15:00.135Z"
   },
   {
    "duration": 610,
    "start_time": "2021-12-28T08:15:07.613Z"
   },
   {
    "duration": 644,
    "start_time": "2021-12-28T19:07:49.684Z"
   },
   {
    "duration": 354,
    "start_time": "2021-12-28T19:09:03.743Z"
   },
   {
    "duration": 1343,
    "start_time": "2021-12-28T19:09:14.064Z"
   },
   {
    "duration": 68,
    "start_time": "2021-12-28T19:09:15.409Z"
   },
   {
    "duration": 15,
    "start_time": "2021-12-28T19:09:15.480Z"
   },
   {
    "duration": 23,
    "start_time": "2021-12-28T19:09:15.498Z"
   },
   {
    "duration": 22,
    "start_time": "2021-12-28T19:09:15.523Z"
   },
   {
    "duration": 9,
    "start_time": "2021-12-28T19:09:15.548Z"
   },
   {
    "duration": 21,
    "start_time": "2021-12-28T19:09:15.559Z"
   },
   {
    "duration": 12,
    "start_time": "2021-12-28T19:09:15.619Z"
   },
   {
    "duration": 10,
    "start_time": "2021-12-28T19:09:15.633Z"
   },
   {
    "duration": 13,
    "start_time": "2021-12-28T19:09:15.645Z"
   },
   {
    "duration": 58,
    "start_time": "2021-12-28T19:09:15.661Z"
   },
   {
    "duration": 22,
    "start_time": "2021-12-28T19:09:15.722Z"
   },
   {
    "duration": 632,
    "start_time": "2021-12-28T19:09:15.746Z"
   },
   {
    "duration": 541,
    "start_time": "2021-12-28T19:09:16.380Z"
   },
   {
    "duration": 550,
    "start_time": "2021-12-28T19:09:28.091Z"
   },
   {
    "duration": 93,
    "start_time": "2021-12-28T19:09:50.256Z"
   },
   {
    "duration": 615,
    "start_time": "2021-12-28T19:16:41.624Z"
   },
   {
    "duration": 699,
    "start_time": "2021-12-28T19:17:44.417Z"
   },
   {
    "duration": 837,
    "start_time": "2021-12-28T19:20:26.585Z"
   },
   {
    "duration": 599,
    "start_time": "2021-12-28T19:21:16.447Z"
   },
   {
    "duration": 680,
    "start_time": "2021-12-28T19:21:31.621Z"
   },
   {
    "duration": 609,
    "start_time": "2021-12-28T19:22:36.891Z"
   },
   {
    "duration": 108,
    "start_time": "2021-12-28T19:23:31.910Z"
   },
   {
    "duration": 8561,
    "start_time": "2021-12-28T19:23:36.681Z"
   },
   {
    "duration": 336,
    "start_time": "2021-12-28T19:26:30.622Z"
   },
   {
    "duration": 4,
    "start_time": "2021-12-28T19:26:53.003Z"
   },
   {
    "duration": 111,
    "start_time": "2021-12-28T19:27:21.197Z"
   },
   {
    "duration": 398,
    "start_time": "2021-12-28T19:27:32.512Z"
   },
   {
    "duration": 820,
    "start_time": "2021-12-28T19:28:40.043Z"
   },
   {
    "duration": 4,
    "start_time": "2021-12-28T19:30:24.309Z"
   },
   {
    "duration": 606,
    "start_time": "2021-12-28T19:31:14.803Z"
   },
   {
    "duration": 577,
    "start_time": "2021-12-28T19:31:30.821Z"
   },
   {
    "duration": 696,
    "start_time": "2021-12-28T19:31:35.999Z"
   },
   {
    "duration": 757,
    "start_time": "2021-12-28T19:31:58.519Z"
   },
   {
    "duration": 722,
    "start_time": "2021-12-28T19:32:11.871Z"
   },
   {
    "duration": 418,
    "start_time": "2021-12-28T19:32:27.146Z"
   },
   {
    "duration": 457,
    "start_time": "2021-12-28T19:32:45.570Z"
   },
   {
    "duration": 516,
    "start_time": "2021-12-28T19:33:25.001Z"
   },
   {
    "duration": 485,
    "start_time": "2021-12-28T19:33:33.298Z"
   },
   {
    "duration": 507,
    "start_time": "2021-12-28T19:34:12.120Z"
   },
   {
    "duration": 526,
    "start_time": "2021-12-28T19:36:38.777Z"
   },
   {
    "duration": 308,
    "start_time": "2021-12-28T19:37:41.269Z"
   },
   {
    "duration": 841,
    "start_time": "2021-12-28T19:38:10.895Z"
   },
   {
    "duration": 835,
    "start_time": "2021-12-28T19:40:52.063Z"
   },
   {
    "duration": 716,
    "start_time": "2021-12-28T19:42:15.539Z"
   },
   {
    "duration": 538,
    "start_time": "2021-12-28T19:42:45.306Z"
   },
   {
    "duration": 507,
    "start_time": "2021-12-28T19:42:53.641Z"
   },
   {
    "duration": 596,
    "start_time": "2021-12-28T19:43:00.274Z"
   },
   {
    "duration": 524,
    "start_time": "2021-12-28T19:43:03.120Z"
   },
   {
    "duration": 1075,
    "start_time": "2021-12-28T19:44:00.247Z"
   },
   {
    "duration": 771,
    "start_time": "2021-12-28T19:44:08.722Z"
   },
   {
    "duration": 802,
    "start_time": "2021-12-28T19:54:52.353Z"
   },
   {
    "duration": 507,
    "start_time": "2021-12-28T19:55:03.656Z"
   },
   {
    "duration": 1085,
    "start_time": "2021-12-28T19:55:57.099Z"
   },
   {
    "duration": 868,
    "start_time": "2021-12-28T19:56:16.515Z"
   },
   {
    "duration": 758,
    "start_time": "2021-12-28T19:56:30.661Z"
   },
   {
    "duration": 770,
    "start_time": "2021-12-28T19:56:40.045Z"
   },
   {
    "duration": 760,
    "start_time": "2021-12-28T19:56:46.450Z"
   },
   {
    "duration": 16,
    "start_time": "2021-12-28T20:18:50.051Z"
   },
   {
    "duration": 23,
    "start_time": "2021-12-28T20:19:39.357Z"
   },
   {
    "duration": 5,
    "start_time": "2021-12-28T20:22:08.380Z"
   },
   {
    "duration": 399,
    "start_time": "2021-12-28T20:28:30.190Z"
   },
   {
    "duration": 505,
    "start_time": "2021-12-28T20:34:09.822Z"
   },
   {
    "duration": 505,
    "start_time": "2021-12-28T20:38:05.892Z"
   },
   {
    "duration": 917,
    "start_time": "2021-12-28T20:39:13.057Z"
   },
   {
    "duration": 512,
    "start_time": "2021-12-28T20:39:37.888Z"
   },
   {
    "duration": 513,
    "start_time": "2021-12-28T20:40:39.132Z"
   },
   {
    "duration": 497,
    "start_time": "2021-12-28T20:41:36.331Z"
   },
   {
    "duration": 492,
    "start_time": "2021-12-28T21:04:52.160Z"
   },
   {
    "duration": 582,
    "start_time": "2021-12-28T21:09:25.551Z"
   },
   {
    "duration": 1098,
    "start_time": "2021-12-28T21:11:01.923Z"
   },
   {
    "duration": 571,
    "start_time": "2021-12-28T21:11:33.151Z"
   },
   {
    "duration": 272,
    "start_time": "2021-12-28T21:12:42.790Z"
   },
   {
    "duration": 493,
    "start_time": "2021-12-28T21:13:06.580Z"
   },
   {
    "duration": 397,
    "start_time": "2021-12-28T21:13:47.632Z"
   },
   {
    "duration": 5,
    "start_time": "2021-12-28T21:14:21.413Z"
   },
   {
    "duration": 404,
    "start_time": "2021-12-28T21:14:50.868Z"
   },
   {
    "duration": 758,
    "start_time": "2021-12-28T21:28:49.076Z"
   },
   {
    "duration": 306,
    "start_time": "2021-12-28T21:29:08.495Z"
   },
   {
    "duration": 301,
    "start_time": "2021-12-28T21:29:33.383Z"
   },
   {
    "duration": 293,
    "start_time": "2021-12-28T21:29:56.096Z"
   },
   {
    "duration": 293,
    "start_time": "2021-12-28T21:30:14.137Z"
   },
   {
    "duration": 372,
    "start_time": "2021-12-28T21:30:53.689Z"
   },
   {
    "duration": 342,
    "start_time": "2021-12-28T21:30:59.590Z"
   },
   {
    "duration": 378,
    "start_time": "2021-12-28T21:31:21.959Z"
   },
   {
    "duration": 465,
    "start_time": "2021-12-28T21:31:33.284Z"
   },
   {
    "duration": 440,
    "start_time": "2021-12-28T21:31:47.701Z"
   },
   {
    "duration": 492,
    "start_time": "2021-12-28T21:39:23.582Z"
   },
   {
    "duration": 408,
    "start_time": "2021-12-28T21:40:04.581Z"
   },
   {
    "duration": 510,
    "start_time": "2021-12-28T21:42:31.738Z"
   },
   {
    "duration": 405,
    "start_time": "2021-12-28T21:42:49.774Z"
   },
   {
    "duration": 381,
    "start_time": "2021-12-28T21:44:39.854Z"
   },
   {
    "duration": 403,
    "start_time": "2021-12-28T21:44:56.432Z"
   },
   {
    "duration": 388,
    "start_time": "2021-12-28T21:45:57.891Z"
   },
   {
    "duration": 401,
    "start_time": "2021-12-28T21:46:08.640Z"
   },
   {
    "duration": 566,
    "start_time": "2021-12-28T21:57:20.449Z"
   },
   {
    "duration": 410,
    "start_time": "2021-12-28T22:06:57.569Z"
   },
   {
    "duration": 401,
    "start_time": "2021-12-28T22:07:28.857Z"
   },
   {
    "duration": 415,
    "start_time": "2021-12-28T22:08:01.153Z"
   },
   {
    "duration": 388,
    "start_time": "2021-12-28T22:10:17.460Z"
   },
   {
    "duration": 1106,
    "start_time": "2021-12-28T22:11:04.960Z"
   },
   {
    "duration": 536,
    "start_time": "2021-12-28T22:11:16.717Z"
   },
   {
    "duration": 383,
    "start_time": "2021-12-28T22:11:46.862Z"
   },
   {
    "duration": 345,
    "start_time": "2021-12-28T22:11:55.588Z"
   },
   {
    "duration": 342,
    "start_time": "2021-12-28T22:12:10.850Z"
   },
   {
    "duration": 863,
    "start_time": "2021-12-28T22:12:25.132Z"
   },
   {
    "duration": 551,
    "start_time": "2021-12-28T22:12:29.516Z"
   },
   {
    "duration": 351,
    "start_time": "2021-12-28T22:12:36.233Z"
   },
   {
    "duration": 354,
    "start_time": "2021-12-28T22:12:45.346Z"
   },
   {
    "duration": 9,
    "start_time": "2021-12-28T22:14:08.933Z"
   },
   {
    "duration": 333,
    "start_time": "2021-12-28T22:20:55.621Z"
   },
   {
    "duration": 7830,
    "start_time": "2021-12-28T22:21:53.929Z"
   },
   {
    "duration": 352,
    "start_time": "2021-12-28T22:22:13.410Z"
   },
   {
    "duration": 383,
    "start_time": "2021-12-28T22:22:43.105Z"
   },
   {
    "duration": 17,
    "start_time": "2021-12-28T22:23:15.856Z"
   },
   {
    "duration": 20,
    "start_time": "2021-12-28T22:24:40.880Z"
   },
   {
    "duration": 382,
    "start_time": "2021-12-28T22:24:47.725Z"
   },
   {
    "duration": 18,
    "start_time": "2021-12-28T22:24:59.069Z"
   },
   {
    "duration": 333,
    "start_time": "2021-12-28T22:25:31.625Z"
   },
   {
    "duration": 617,
    "start_time": "2021-12-28T22:26:24.278Z"
   },
   {
    "duration": 406,
    "start_time": "2021-12-28T22:26:42.371Z"
   },
   {
    "duration": 383,
    "start_time": "2021-12-28T22:27:52.925Z"
   },
   {
    "duration": 529,
    "start_time": "2021-12-28T22:28:16.406Z"
   },
   {
    "duration": 586,
    "start_time": "2021-12-28T22:28:39.714Z"
   },
   {
    "duration": 950,
    "start_time": "2021-12-28T22:28:48.439Z"
   },
   {
    "duration": 873,
    "start_time": "2021-12-28T22:28:56.235Z"
   },
   {
    "duration": 975,
    "start_time": "2021-12-28T22:29:08.692Z"
   },
   {
    "duration": 695,
    "start_time": "2021-12-28T22:29:15.957Z"
   },
   {
    "duration": 372,
    "start_time": "2021-12-28T22:29:39.504Z"
   },
   {
    "duration": 397,
    "start_time": "2021-12-28T22:32:01.211Z"
   },
   {
    "duration": 410,
    "start_time": "2021-12-28T22:32:12.262Z"
   },
   {
    "duration": 2307,
    "start_time": "2021-12-28T22:37:21.950Z"
   },
   {
    "duration": 1978,
    "start_time": "2021-12-28T22:39:25.096Z"
   },
   {
    "duration": 2017,
    "start_time": "2021-12-28T22:41:05.545Z"
   },
   {
    "duration": 2683,
    "start_time": "2021-12-28T22:41:15.322Z"
   },
   {
    "duration": 2805,
    "start_time": "2021-12-28T22:41:29.761Z"
   },
   {
    "duration": 2973,
    "start_time": "2021-12-28T22:41:44.084Z"
   },
   {
    "duration": 1781,
    "start_time": "2021-12-28T22:42:06.914Z"
   },
   {
    "duration": 387,
    "start_time": "2021-12-28T22:48:00.533Z"
   },
   {
    "duration": 348,
    "start_time": "2021-12-28T23:00:45.612Z"
   },
   {
    "duration": -124,
    "start_time": "2021-12-28T23:01:00.939Z"
   },
   {
    "duration": 8485,
    "start_time": "2021-12-28T23:01:18.694Z"
   },
   {
    "duration": 828,
    "start_time": "2021-12-28T23:02:10.556Z"
   },
   {
    "duration": 739,
    "start_time": "2021-12-28T23:02:18.032Z"
   },
   {
    "duration": 4388,
    "start_time": "2021-12-28T23:03:12.981Z"
   },
   {
    "duration": 4389,
    "start_time": "2021-12-28T23:06:00.166Z"
   },
   {
    "duration": 123,
    "start_time": "2021-12-29T07:09:25.875Z"
   },
   {
    "duration": 1819,
    "start_time": "2021-12-29T07:09:43.063Z"
   },
   {
    "duration": 73,
    "start_time": "2021-12-29T07:09:44.886Z"
   },
   {
    "duration": 21,
    "start_time": "2021-12-29T07:09:44.966Z"
   },
   {
    "duration": 9,
    "start_time": "2021-12-29T07:09:44.991Z"
   },
   {
    "duration": 32,
    "start_time": "2021-12-29T07:09:45.004Z"
   },
   {
    "duration": 33,
    "start_time": "2021-12-29T07:09:45.038Z"
   },
   {
    "duration": 23,
    "start_time": "2021-12-29T07:09:45.074Z"
   },
   {
    "duration": 16,
    "start_time": "2021-12-29T07:09:45.102Z"
   },
   {
    "duration": 52,
    "start_time": "2021-12-29T07:09:45.121Z"
   },
   {
    "duration": 18,
    "start_time": "2021-12-29T07:09:45.176Z"
   },
   {
    "duration": 20,
    "start_time": "2021-12-29T07:09:45.200Z"
   },
   {
    "duration": 71,
    "start_time": "2021-12-29T07:09:45.223Z"
   },
   {
    "duration": 800,
    "start_time": "2021-12-29T07:09:45.297Z"
   },
   {
    "duration": 638,
    "start_time": "2021-12-29T07:09:46.100Z"
   },
   {
    "duration": 558,
    "start_time": "2021-12-29T07:09:46.741Z"
   },
   {
    "duration": 25,
    "start_time": "2021-12-29T07:09:47.302Z"
   },
   {
    "duration": 37,
    "start_time": "2021-12-29T07:09:47.330Z"
   },
   {
    "duration": 480,
    "start_time": "2021-12-29T07:09:47.370Z"
   },
   {
    "duration": 654,
    "start_time": "2021-12-29T07:09:47.853Z"
   },
   {
    "duration": 372,
    "start_time": "2021-12-29T07:09:48.510Z"
   },
   {
    "duration": 18,
    "start_time": "2021-12-29T07:09:48.884Z"
   },
   {
    "duration": 511,
    "start_time": "2021-12-29T07:09:48.905Z"
   },
   {
    "duration": 2130,
    "start_time": "2021-12-29T07:09:49.421Z"
   },
   {
    "duration": 4486,
    "start_time": "2021-12-29T07:09:51.554Z"
   },
   {
    "duration": 117,
    "start_time": "2021-12-29T07:09:56.043Z"
   },
   {
    "duration": 129,
    "start_time": "2021-12-29T07:10:12.713Z"
   },
   {
    "duration": 103,
    "start_time": "2021-12-29T07:10:18.364Z"
   },
   {
    "duration": 250,
    "start_time": "2021-12-29T07:10:38.782Z"
   },
   {
    "duration": 607,
    "start_time": "2021-12-29T07:11:07.063Z"
   },
   {
    "duration": 450,
    "start_time": "2021-12-29T07:11:30.339Z"
   },
   {
    "duration": 431,
    "start_time": "2021-12-29T07:12:20.708Z"
   },
   {
    "duration": 440,
    "start_time": "2021-12-29T07:19:35.154Z"
   },
   {
    "duration": 882,
    "start_time": "2021-12-29T12:17:46.595Z"
   },
   {
    "duration": 79,
    "start_time": "2021-12-29T12:18:14.604Z"
   },
   {
    "duration": 53,
    "start_time": "2021-12-29T12:18:27.977Z"
   },
   {
    "duration": 312,
    "start_time": "2021-12-29T12:43:59.490Z"
   },
   {
    "duration": 52,
    "start_time": "2021-12-29T12:44:37.773Z"
   },
   {
    "duration": 10,
    "start_time": "2021-12-29T12:44:40.885Z"
   },
   {
    "duration": 315,
    "start_time": "2021-12-29T12:45:57.567Z"
   },
   {
    "duration": 287,
    "start_time": "2021-12-29T12:46:10.404Z"
   },
   {
    "duration": 154,
    "start_time": "2021-12-29T12:46:16.163Z"
   },
   {
    "duration": 681,
    "start_time": "2021-12-29T12:47:31.434Z"
   },
   {
    "duration": 546,
    "start_time": "2021-12-29T12:47:43.756Z"
   },
   {
    "duration": 642,
    "start_time": "2021-12-29T12:49:33.945Z"
   },
   {
    "duration": 839,
    "start_time": "2021-12-29T12:50:30.798Z"
   },
   {
    "duration": 633,
    "start_time": "2021-12-29T12:52:36.071Z"
   },
   {
    "duration": 70,
    "start_time": "2021-12-29T12:55:00.154Z"
   },
   {
    "duration": 8426,
    "start_time": "2021-12-29T13:02:03.508Z"
   },
   {
    "duration": 118,
    "start_time": "2021-12-29T13:02:29.881Z"
   },
   {
    "duration": 64,
    "start_time": "2021-12-29T13:02:39.470Z"
   },
   {
    "duration": 59,
    "start_time": "2021-12-29T13:03:00.879Z"
   },
   {
    "duration": 58,
    "start_time": "2021-12-29T13:03:19.367Z"
   },
   {
    "duration": 71,
    "start_time": "2021-12-29T13:08:44.805Z"
   },
   {
    "duration": 253,
    "start_time": "2021-12-29T13:09:18.479Z"
   },
   {
    "duration": 607,
    "start_time": "2021-12-29T13:09:56.773Z"
   },
   {
    "duration": 302,
    "start_time": "2021-12-29T13:10:12.359Z"
   },
   {
    "duration": 60,
    "start_time": "2021-12-29T13:12:03.718Z"
   },
   {
    "duration": 345,
    "start_time": "2021-12-29T13:19:39.916Z"
   },
   {
    "duration": 328,
    "start_time": "2021-12-29T13:19:45.752Z"
   },
   {
    "duration": 13,
    "start_time": "2021-12-29T13:19:52.189Z"
   },
   {
    "duration": 27,
    "start_time": "2021-12-29T13:31:10.528Z"
   },
   {
    "duration": 407,
    "start_time": "2021-12-29T13:32:10.252Z"
   },
   {
    "duration": 594,
    "start_time": "2021-12-29T13:36:28.485Z"
   },
   {
    "duration": 408,
    "start_time": "2021-12-29T13:37:10.686Z"
   },
   {
    "duration": 345,
    "start_time": "2021-12-29T13:41:09.537Z"
   },
   {
    "duration": 14,
    "start_time": "2021-12-29T13:44:35.296Z"
   },
   {
    "duration": 60290,
    "start_time": "2021-12-29T13:50:32.448Z"
   },
   {
    "duration": 753,
    "start_time": "2021-12-29T13:52:16.253Z"
   },
   {
    "duration": 845,
    "start_time": "2021-12-29T14:45:25.135Z"
   },
   {
    "duration": 19,
    "start_time": "2021-12-29T15:24:16.081Z"
   },
   {
    "duration": 23,
    "start_time": "2021-12-29T15:24:24.177Z"
   },
   {
    "duration": 22,
    "start_time": "2021-12-29T15:24:38.921Z"
   },
   {
    "duration": 11,
    "start_time": "2021-12-29T15:25:28.571Z"
   },
   {
    "duration": 7,
    "start_time": "2021-12-29T15:29:16.386Z"
   },
   {
    "duration": 562,
    "start_time": "2021-12-29T15:35:38.352Z"
   },
   {
    "duration": 29,
    "start_time": "2021-12-29T15:35:53.252Z"
   },
   {
    "duration": 7,
    "start_time": "2021-12-29T15:36:14.919Z"
   },
   {
    "duration": 6,
    "start_time": "2021-12-29T15:38:46.425Z"
   },
   {
    "duration": 4,
    "start_time": "2021-12-29T16:02:03.793Z"
   },
   {
    "duration": 62,
    "start_time": "2021-12-29T16:02:03.800Z"
   },
   {
    "duration": 25,
    "start_time": "2021-12-29T16:02:03.865Z"
   },
   {
    "duration": 7,
    "start_time": "2021-12-29T16:02:03.893Z"
   },
   {
    "duration": 24,
    "start_time": "2021-12-29T16:02:03.902Z"
   },
   {
    "duration": 52,
    "start_time": "2021-12-29T16:02:03.929Z"
   },
   {
    "duration": 22,
    "start_time": "2021-12-29T16:02:03.986Z"
   },
   {
    "duration": 13,
    "start_time": "2021-12-29T16:02:04.012Z"
   },
   {
    "duration": 51,
    "start_time": "2021-12-29T16:02:04.028Z"
   },
   {
    "duration": 16,
    "start_time": "2021-12-29T16:02:04.082Z"
   },
   {
    "duration": 19,
    "start_time": "2021-12-29T16:02:04.101Z"
   },
   {
    "duration": 68,
    "start_time": "2021-12-29T16:02:04.122Z"
   },
   {
    "duration": 721,
    "start_time": "2021-12-29T16:02:04.193Z"
   },
   {
    "duration": 954,
    "start_time": "2021-12-29T16:02:04.916Z"
   },
   {
    "duration": 570,
    "start_time": "2021-12-29T16:02:05.874Z"
   },
   {
    "duration": 47,
    "start_time": "2021-12-29T16:02:06.447Z"
   },
   {
    "duration": 6,
    "start_time": "2021-12-29T16:02:06.497Z"
   },
   {
    "duration": 477,
    "start_time": "2021-12-29T16:02:06.505Z"
   },
   {
    "duration": 545,
    "start_time": "2021-12-29T16:02:06.988Z"
   },
   {
    "duration": 385,
    "start_time": "2021-12-29T16:02:07.536Z"
   },
   {
    "duration": 19,
    "start_time": "2021-12-29T16:02:07.924Z"
   },
   {
    "duration": 369,
    "start_time": "2021-12-29T16:02:07.946Z"
   },
   {
    "duration": 1423,
    "start_time": "2021-12-29T16:02:08.317Z"
   },
   {
    "duration": 3439,
    "start_time": "2021-12-29T16:02:09.743Z"
   },
   {
    "duration": 517,
    "start_time": "2021-12-29T16:02:13.185Z"
   },
   {
    "duration": 505,
    "start_time": "2021-12-29T16:02:13.705Z"
   },
   {
    "duration": 83,
    "start_time": "2021-12-29T16:02:14.214Z"
   },
   {
    "duration": 93,
    "start_time": "2021-12-29T16:02:14.300Z"
   },
   {
    "duration": 15,
    "start_time": "2021-12-29T16:02:14.395Z"
   },
   {
    "duration": 1070,
    "start_time": "2021-12-29T16:02:14.412Z"
   },
   {
    "duration": 20,
    "start_time": "2021-12-29T16:02:15.484Z"
   },
   {
    "duration": 8,
    "start_time": "2021-12-29T16:02:15.506Z"
   },
   {
    "duration": 10,
    "start_time": "2021-12-29T16:02:15.517Z"
   },
   {
    "duration": 56,
    "start_time": "2021-12-29T16:02:15.530Z"
   },
   {
    "duration": 7,
    "start_time": "2021-12-29T16:02:15.588Z"
   },
   {
    "duration": 14,
    "start_time": "2021-12-29T16:02:15.598Z"
   },
   {
    "duration": 1092,
    "start_time": "2021-12-30T16:14:06.134Z"
   },
   {
    "duration": 54,
    "start_time": "2021-12-30T16:14:07.228Z"
   },
   {
    "duration": 11,
    "start_time": "2021-12-30T16:14:07.284Z"
   },
   {
    "duration": 4,
    "start_time": "2021-12-30T16:14:07.297Z"
   },
   {
    "duration": 14,
    "start_time": "2021-12-30T16:14:07.303Z"
   },
   {
    "duration": 5,
    "start_time": "2021-12-30T16:14:07.319Z"
   },
   {
    "duration": 15,
    "start_time": "2021-12-30T16:14:07.326Z"
   },
   {
    "duration": 10,
    "start_time": "2021-12-30T16:14:07.344Z"
   },
   {
    "duration": 9,
    "start_time": "2021-12-30T16:14:07.391Z"
   },
   {
    "duration": 11,
    "start_time": "2021-12-30T16:14:07.402Z"
   },
   {
    "duration": 15,
    "start_time": "2021-12-30T16:14:07.415Z"
   },
   {
    "duration": 17,
    "start_time": "2021-12-30T16:14:07.432Z"
   },
   {
    "duration": 484,
    "start_time": "2021-12-30T16:14:07.451Z"
   },
   {
    "duration": 388,
    "start_time": "2021-12-30T16:14:07.937Z"
   },
   {
    "duration": 341,
    "start_time": "2021-12-30T16:14:08.327Z"
   },
   {
    "duration": 31,
    "start_time": "2021-12-30T16:14:08.670Z"
   },
   {
    "duration": 4,
    "start_time": "2021-12-30T16:14:08.703Z"
   },
   {
    "duration": 266,
    "start_time": "2021-12-30T16:14:08.709Z"
   },
   {
    "duration": 334,
    "start_time": "2021-12-30T16:14:08.977Z"
   },
   {
    "duration": 233,
    "start_time": "2021-12-30T16:14:09.313Z"
   },
   {
    "duration": 13,
    "start_time": "2021-12-30T16:14:09.548Z"
   },
   {
    "duration": 366,
    "start_time": "2021-12-30T16:14:09.563Z"
   },
   {
    "duration": 897,
    "start_time": "2021-12-30T16:14:09.933Z"
   },
   {
    "duration": 2099,
    "start_time": "2021-12-30T16:14:10.833Z"
   },
   {
    "duration": 297,
    "start_time": "2021-12-30T16:14:12.934Z"
   },
   {
    "duration": 266,
    "start_time": "2021-12-30T16:14:13.233Z"
   },
   {
    "duration": 38,
    "start_time": "2021-12-30T16:14:13.501Z"
   },
   {
    "duration": 60,
    "start_time": "2021-12-30T16:14:13.540Z"
   },
   {
    "duration": 9,
    "start_time": "2021-12-30T16:14:13.602Z"
   },
   {
    "duration": 493,
    "start_time": "2021-12-30T16:14:13.612Z"
   },
   {
    "duration": 13,
    "start_time": "2021-12-30T16:14:14.106Z"
   },
   {
    "duration": 9,
    "start_time": "2021-12-30T16:14:14.120Z"
   },
   {
    "duration": 13,
    "start_time": "2021-12-30T16:14:14.131Z"
   },
   {
    "duration": 17,
    "start_time": "2021-12-30T16:14:14.146Z"
   },
   {
    "duration": 9,
    "start_time": "2021-12-30T16:14:14.164Z"
   },
   {
    "duration": 7,
    "start_time": "2021-12-30T16:14:14.175Z"
   },
   {
    "duration": 131,
    "start_time": "2021-12-31T08:51:59.039Z"
   },
   {
    "duration": 399,
    "start_time": "2021-12-31T09:06:50.008Z"
   },
   {
    "duration": 1495,
    "start_time": "2021-12-31T09:07:08.487Z"
   },
   {
    "duration": 66,
    "start_time": "2021-12-31T09:07:09.984Z"
   },
   {
    "duration": 14,
    "start_time": "2021-12-31T09:07:10.052Z"
   },
   {
    "duration": 9,
    "start_time": "2021-12-31T09:07:10.068Z"
   },
   {
    "duration": 46,
    "start_time": "2021-12-31T09:07:10.079Z"
   },
   {
    "duration": 9,
    "start_time": "2021-12-31T09:07:10.127Z"
   },
   {
    "duration": 22,
    "start_time": "2021-12-31T09:07:10.139Z"
   },
   {
    "duration": 12,
    "start_time": "2021-12-31T09:07:10.166Z"
   },
   {
    "duration": 47,
    "start_time": "2021-12-31T09:07:10.181Z"
   },
   {
    "duration": 478,
    "start_time": "2021-12-31T09:07:10.231Z"
   },
   {
    "duration": -1993,
    "start_time": "2021-12-31T09:07:12.705Z"
   },
   {
    "duration": -2005,
    "start_time": "2021-12-31T09:07:12.719Z"
   },
   {
    "duration": -2012,
    "start_time": "2021-12-31T09:07:12.727Z"
   },
   {
    "duration": -2019,
    "start_time": "2021-12-31T09:07:12.735Z"
   },
   {
    "duration": -2051,
    "start_time": "2021-12-31T09:07:12.769Z"
   },
   {
    "duration": -2056,
    "start_time": "2021-12-31T09:07:12.775Z"
   },
   {
    "duration": -2059,
    "start_time": "2021-12-31T09:07:12.779Z"
   },
   {
    "duration": -2063,
    "start_time": "2021-12-31T09:07:12.786Z"
   },
   {
    "duration": -2071,
    "start_time": "2021-12-31T09:07:12.795Z"
   },
   {
    "duration": -2074,
    "start_time": "2021-12-31T09:07:12.800Z"
   },
   {
    "duration": -2077,
    "start_time": "2021-12-31T09:07:12.805Z"
   },
   {
    "duration": -2081,
    "start_time": "2021-12-31T09:07:12.810Z"
   },
   {
    "duration": -2084,
    "start_time": "2021-12-31T09:07:12.815Z"
   },
   {
    "duration": -2088,
    "start_time": "2021-12-31T09:07:12.820Z"
   },
   {
    "duration": -2092,
    "start_time": "2021-12-31T09:07:12.826Z"
   },
   {
    "duration": -2096,
    "start_time": "2021-12-31T09:07:12.831Z"
   },
   {
    "duration": -2099,
    "start_time": "2021-12-31T09:07:12.836Z"
   },
   {
    "duration": -2103,
    "start_time": "2021-12-31T09:07:12.842Z"
   },
   {
    "duration": -2107,
    "start_time": "2021-12-31T09:07:12.847Z"
   },
   {
    "duration": -2110,
    "start_time": "2021-12-31T09:07:12.852Z"
   },
   {
    "duration": -2115,
    "start_time": "2021-12-31T09:07:12.858Z"
   },
   {
    "duration": -2119,
    "start_time": "2021-12-31T09:07:12.863Z"
   },
   {
    "duration": -2129,
    "start_time": "2021-12-31T09:07:12.875Z"
   },
   {
    "duration": -2132,
    "start_time": "2021-12-31T09:07:12.880Z"
   },
   {
    "duration": -2135,
    "start_time": "2021-12-31T09:07:12.884Z"
   },
   {
    "duration": 359,
    "start_time": "2021-12-31T09:08:07.219Z"
   },
   {
    "duration": 357,
    "start_time": "2021-12-31T09:09:22.883Z"
   },
   {
    "duration": 31,
    "start_time": "2021-12-31T09:09:38.221Z"
   },
   {
    "duration": 15,
    "start_time": "2021-12-31T09:11:49.486Z"
   },
   {
    "duration": 662,
    "start_time": "2021-12-31T09:12:46.870Z"
   },
   {
    "duration": 471,
    "start_time": "2021-12-31T09:12:54.591Z"
   },
   {
    "duration": 4,
    "start_time": "2021-12-31T09:14:35.178Z"
   },
   {
    "duration": 75,
    "start_time": "2021-12-31T09:14:35.187Z"
   },
   {
    "duration": 13,
    "start_time": "2021-12-31T09:14:35.266Z"
   },
   {
    "duration": 6,
    "start_time": "2021-12-31T09:14:35.282Z"
   },
   {
    "duration": 49,
    "start_time": "2021-12-31T09:14:35.291Z"
   },
   {
    "duration": 10,
    "start_time": "2021-12-31T09:14:35.343Z"
   },
   {
    "duration": 23,
    "start_time": "2021-12-31T09:14:35.355Z"
   },
   {
    "duration": 13,
    "start_time": "2021-12-31T09:14:35.424Z"
   },
   {
    "duration": 11,
    "start_time": "2021-12-31T09:14:35.441Z"
   },
   {
    "duration": 22,
    "start_time": "2021-12-31T09:14:35.455Z"
   },
   {
    "duration": 59,
    "start_time": "2021-12-31T09:14:35.479Z"
   },
   {
    "duration": 669,
    "start_time": "2021-12-31T09:14:35.541Z"
   },
   {
    "duration": 586,
    "start_time": "2021-12-31T09:14:36.213Z"
   },
   {
    "duration": 514,
    "start_time": "2021-12-31T09:14:36.802Z"
   },
   {
    "duration": 30,
    "start_time": "2021-12-31T09:14:37.319Z"
   },
   {
    "duration": 6,
    "start_time": "2021-12-31T09:14:37.352Z"
   },
   {
    "duration": 433,
    "start_time": "2021-12-31T09:14:37.360Z"
   },
   {
    "duration": 592,
    "start_time": "2021-12-31T09:14:37.795Z"
   },
   {
    "duration": 366,
    "start_time": "2021-12-31T09:14:38.389Z"
   },
   {
    "duration": 18,
    "start_time": "2021-12-31T09:14:38.758Z"
   },
   {
    "duration": 390,
    "start_time": "2021-12-31T09:14:38.778Z"
   },
   {
    "duration": 1344,
    "start_time": "2021-12-31T09:14:39.170Z"
   },
   {
    "duration": 3250,
    "start_time": "2021-12-31T09:14:40.517Z"
   },
   {
    "duration": 434,
    "start_time": "2021-12-31T09:14:43.772Z"
   },
   {
    "duration": 425,
    "start_time": "2021-12-31T09:14:44.209Z"
   },
   {
    "duration": 292,
    "start_time": "2021-12-31T09:14:44.637Z"
   },
   {
    "duration": 57,
    "start_time": "2021-12-31T09:14:44.932Z"
   },
   {
    "duration": 42,
    "start_time": "2021-12-31T09:14:44.993Z"
   },
   {
    "duration": 788,
    "start_time": "2021-12-31T09:14:45.038Z"
   },
   {
    "duration": 18,
    "start_time": "2021-12-31T09:14:45.828Z"
   },
   {
    "duration": 8,
    "start_time": "2021-12-31T09:14:45.848Z"
   },
   {
    "duration": 13,
    "start_time": "2021-12-31T09:14:45.859Z"
   },
   {
    "duration": 50,
    "start_time": "2021-12-31T09:14:45.874Z"
   },
   {
    "duration": 7,
    "start_time": "2021-12-31T09:14:45.926Z"
   },
   {
    "duration": 7,
    "start_time": "2021-12-31T09:14:45.935Z"
   },
   {
    "duration": 1435,
    "start_time": "2021-12-31T09:20:27.635Z"
   },
   {
    "duration": 536,
    "start_time": "2021-12-31T09:20:49.283Z"
   },
   {
    "duration": 378,
    "start_time": "2021-12-31T09:22:26.786Z"
   },
   {
    "duration": 472,
    "start_time": "2021-12-31T09:25:27.112Z"
   },
   {
    "duration": 463,
    "start_time": "2021-12-31T09:26:50.135Z"
   },
   {
    "duration": 600,
    "start_time": "2021-12-31T09:27:07.524Z"
   },
   {
    "duration": 552,
    "start_time": "2021-12-31T09:27:17.100Z"
   },
   {
    "duration": 590,
    "start_time": "2021-12-31T09:28:29.482Z"
   },
   {
    "duration": 477,
    "start_time": "2021-12-31T09:29:28.155Z"
   },
   {
    "duration": 11,
    "start_time": "2021-12-31T13:59:22.747Z"
   }
  ],
  "kernelspec": {
   "display_name": "Python 3",
   "language": "python",
   "name": "python3"
  },
  "language_info": {
   "codemirror_mode": {
    "name": "ipython",
    "version": 3
   },
   "file_extension": ".py",
   "mimetype": "text/x-python",
   "name": "python",
   "nbconvert_exporter": "python",
   "pygments_lexer": "ipython3",
   "version": "3.8.8"
  },
  "toc": {
   "base_numbering": 1,
   "nav_menu": {},
   "number_sections": true,
   "sideBar": true,
   "skip_h1_title": true,
   "title_cell": "Содержание",
   "title_sidebar": " Cодержание",
   "toc_cell": true,
   "toc_position": {
    "height": "calc(100% - 180px)",
    "left": "10px",
    "top": "150px",
    "width": "254.391px"
   },
   "toc_section_display": true,
   "toc_window_display": true
  }
 },
 "nbformat": 4,
 "nbformat_minor": 2
}
