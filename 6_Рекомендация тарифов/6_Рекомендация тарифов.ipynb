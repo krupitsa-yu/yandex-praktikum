{
 "cells": [
  {
   "cell_type": "markdown",
   "metadata": {
    "toc": true
   },
   "source": [
    "<h1>Содержание<span class=\"tocSkip\"></span></h1>\n",
    "<div class=\"toc\"><ul class=\"toc-item\"><li><span><a href=\"#Знакомство-с-данными\" data-toc-modified-id=\"Знакомство-с-данными-1\"><span class=\"toc-item-num\">1&nbsp;&nbsp;</span>Знакомство с данными</a></span></li><li><span><a href=\"#Выборки:-обучающая,-валидационная-и-тестовая\" data-toc-modified-id=\"Выборки:-обучающая,-валидационная-и-тестовая-2\"><span class=\"toc-item-num\">2&nbsp;&nbsp;</span>Выборки: обучающая, валидационная и тестовая</a></span></li><li><span><a href=\"#Исследование-моделей\" data-toc-modified-id=\"Исследование-моделей-3\"><span class=\"toc-item-num\">3&nbsp;&nbsp;</span>Исследование моделей</a></span><ul class=\"toc-item\"><li><span><a href=\"#Модель-&quot;Решающее-дерево&quot;\" data-toc-modified-id=\"Модель-&quot;Решающее-дерево&quot;-3.1\"><span class=\"toc-item-num\">3.1&nbsp;&nbsp;</span>Модель \"Решающее дерево\"</a></span></li><li><span><a href=\"#Модель-&quot;Случайный-лес&quot;\" data-toc-modified-id=\"Модель-&quot;Случайный-лес&quot;-3.2\"><span class=\"toc-item-num\">3.2&nbsp;&nbsp;</span>Модель \"Случайный лес\"</a></span></li><li><span><a href=\"#Модель-&quot;Логистическая-регрессия&quot;\" data-toc-modified-id=\"Модель-&quot;Логистическая-регрессия&quot;-3.3\"><span class=\"toc-item-num\">3.3&nbsp;&nbsp;</span>Модель \"Логистическая регрессия\"</a></span></li></ul></li><li><span><a href=\"#Проверка-качества-лучшей-модели-на-тестовой-выборке\" data-toc-modified-id=\"Проверка-качества-лучшей-модели-на-тестовой-выборке-4\"><span class=\"toc-item-num\">4&nbsp;&nbsp;</span>Проверка качества лучшей модели на тестовой выборке</a></span></li><li><span><a href=\"#Проверка-модели-на-адекватность\" data-toc-modified-id=\"Проверка-модели-на-адекватность-5\"><span class=\"toc-item-num\">5&nbsp;&nbsp;</span>Проверка модели на адекватность</a></span></li><li><span><a href=\"#Общий-вывод\" data-toc-modified-id=\"Общий-вывод-6\"><span class=\"toc-item-num\">6&nbsp;&nbsp;</span>Общий вывод</a></span></li></ul></div>"
   ]
  },
  {
   "cell_type": "markdown",
   "metadata": {},
   "source": [
    "# Проект: \"Рекомендация тарифов\""
   ]
  },
  {
   "cell_type": "markdown",
   "metadata": {},
   "source": [
    "**Задача проекта:**\n",
    "\n",
    "Оператор мобильной связи «Мегалайн» выяснил: многие клиенты пользуются архивными тарифами. Они хотят построить систему, способную проанализировать поведение клиентов и предложить пользователям новый тариф: «Смарт» или «Ультра».\n",
    "\n",
    "В вашем распоряжении данные о поведении клиентов, которые уже перешли на эти тарифы. Нужно построить модель для задачи классификации, которая выберет подходящий тариф.\n",
    "\n",
    "Постройте модель с максимально большим значением *accuracy*. Чтобы сдать проект успешно, нужно довести долю правильных ответов по крайней мере до 0.75. Проверьте *accuracy* на тестовой выборке самостоятельно.\n",
    "\n",
    "В рамках проекта мы проведем следующие **этапы исследования**: \n",
    "\n",
    "1) Ознакомимся с данными, изучив общую информацию\n",
    "\n",
    "2) Разобьем данные на выборки: обучающую, валидационную и тестовую\n",
    "\n",
    "3) Исследуем качество разных моделей (решающего дерева, случайного леса и логистической регрессии), меняя гиперпараметры\n",
    "\n",
    "4) Проверим качество лучшей модели на тестовой выборке\n",
    "\n",
    "5) Проверим модели на вменяемость\n",
    "\n",
    "6) Подведем итоги исследования (общий вывод)\n",
    "\n",
    "Приступим к исследованию! "
   ]
  },
  {
   "cell_type": "markdown",
   "metadata": {},
   "source": [
    "## Знакомство с данными"
   ]
  },
  {
   "cell_type": "code",
   "execution_count": 30,
   "metadata": {},
   "outputs": [],
   "source": [
    "#импортируем необходимые для проекта библиотеки и алгоритмы:\n",
    "import pandas as pd\n",
    "from sklearn.tree import DecisionTreeClassifier\n",
    "from sklearn.metrics import accuracy_score\n",
    "from sklearn.model_selection import train_test_split\n",
    "from sklearn.ensemble import RandomForestClassifier\n",
    "from sklearn.linear_model import LogisticRegression\n",
    "from sklearn.model_selection import GridSearchCV\n",
    "from random import randint\n",
    "from sklearn.dummy import DummyClassifier"
   ]
  },
  {
   "cell_type": "code",
   "execution_count": 3,
   "metadata": {},
   "outputs": [
    {
     "data": {
      "text/html": [
       "<div>\n",
       "<style scoped>\n",
       "    .dataframe tbody tr th:only-of-type {\n",
       "        vertical-align: middle;\n",
       "    }\n",
       "\n",
       "    .dataframe tbody tr th {\n",
       "        vertical-align: top;\n",
       "    }\n",
       "\n",
       "    .dataframe thead th {\n",
       "        text-align: right;\n",
       "    }\n",
       "</style>\n",
       "<table border=\"1\" class=\"dataframe\">\n",
       "  <thead>\n",
       "    <tr style=\"text-align: right;\">\n",
       "      <th></th>\n",
       "      <th>calls</th>\n",
       "      <th>minutes</th>\n",
       "      <th>messages</th>\n",
       "      <th>mb_used</th>\n",
       "      <th>is_ultra</th>\n",
       "    </tr>\n",
       "  </thead>\n",
       "  <tbody>\n",
       "    <tr>\n",
       "      <td>0</td>\n",
       "      <td>40.0</td>\n",
       "      <td>311.90</td>\n",
       "      <td>83.0</td>\n",
       "      <td>19915.42</td>\n",
       "      <td>0</td>\n",
       "    </tr>\n",
       "    <tr>\n",
       "      <td>1</td>\n",
       "      <td>85.0</td>\n",
       "      <td>516.75</td>\n",
       "      <td>56.0</td>\n",
       "      <td>22696.96</td>\n",
       "      <td>0</td>\n",
       "    </tr>\n",
       "    <tr>\n",
       "      <td>2</td>\n",
       "      <td>77.0</td>\n",
       "      <td>467.66</td>\n",
       "      <td>86.0</td>\n",
       "      <td>21060.45</td>\n",
       "      <td>0</td>\n",
       "    </tr>\n",
       "    <tr>\n",
       "      <td>3</td>\n",
       "      <td>106.0</td>\n",
       "      <td>745.53</td>\n",
       "      <td>81.0</td>\n",
       "      <td>8437.39</td>\n",
       "      <td>1</td>\n",
       "    </tr>\n",
       "    <tr>\n",
       "      <td>4</td>\n",
       "      <td>66.0</td>\n",
       "      <td>418.74</td>\n",
       "      <td>1.0</td>\n",
       "      <td>14502.75</td>\n",
       "      <td>0</td>\n",
       "    </tr>\n",
       "    <tr>\n",
       "      <td>5</td>\n",
       "      <td>58.0</td>\n",
       "      <td>344.56</td>\n",
       "      <td>21.0</td>\n",
       "      <td>15823.37</td>\n",
       "      <td>0</td>\n",
       "    </tr>\n",
       "    <tr>\n",
       "      <td>6</td>\n",
       "      <td>57.0</td>\n",
       "      <td>431.64</td>\n",
       "      <td>20.0</td>\n",
       "      <td>3738.90</td>\n",
       "      <td>1</td>\n",
       "    </tr>\n",
       "    <tr>\n",
       "      <td>7</td>\n",
       "      <td>15.0</td>\n",
       "      <td>132.40</td>\n",
       "      <td>6.0</td>\n",
       "      <td>21911.60</td>\n",
       "      <td>0</td>\n",
       "    </tr>\n",
       "    <tr>\n",
       "      <td>8</td>\n",
       "      <td>7.0</td>\n",
       "      <td>43.39</td>\n",
       "      <td>3.0</td>\n",
       "      <td>2538.67</td>\n",
       "      <td>1</td>\n",
       "    </tr>\n",
       "    <tr>\n",
       "      <td>9</td>\n",
       "      <td>90.0</td>\n",
       "      <td>665.41</td>\n",
       "      <td>38.0</td>\n",
       "      <td>17358.61</td>\n",
       "      <td>0</td>\n",
       "    </tr>\n",
       "  </tbody>\n",
       "</table>\n",
       "</div>"
      ],
      "text/plain": [
       "   calls  minutes  messages   mb_used  is_ultra\n",
       "0   40.0   311.90      83.0  19915.42         0\n",
       "1   85.0   516.75      56.0  22696.96         0\n",
       "2   77.0   467.66      86.0  21060.45         0\n",
       "3  106.0   745.53      81.0   8437.39         1\n",
       "4   66.0   418.74       1.0  14502.75         0\n",
       "5   58.0   344.56      21.0  15823.37         0\n",
       "6   57.0   431.64      20.0   3738.90         1\n",
       "7   15.0   132.40       6.0  21911.60         0\n",
       "8    7.0    43.39       3.0   2538.67         1\n",
       "9   90.0   665.41      38.0  17358.61         0"
      ]
     },
     "execution_count": 3,
     "metadata": {},
     "output_type": "execute_result"
    }
   ],
   "source": [
    "#прочтем файл: \n",
    "df = pd.read_csv('/datasets/users_behavior.csv')\n",
    "#выведем на экран первые 10 строк таблицы для ознакомления: \n",
    "df.head(10)"
   ]
  },
  {
   "cell_type": "markdown",
   "metadata": {},
   "source": [
    "Поясним, какие данные содержатся в таблице: \n",
    "- сalls — количество звонков,\n",
    "- minutes — суммарная длительность звонков в минутах,\n",
    "- messages — количество sms-сообщений,\n",
    "- mb_used — израсходованный интернет-трафик в Мб,\n",
    "- is_ultra — каким тарифом пользовался в течение месяца («Ультра» — 1, «Смарт» — 0)."
   ]
  },
  {
   "cell_type": "code",
   "execution_count": 4,
   "metadata": {},
   "outputs": [
    {
     "name": "stdout",
     "output_type": "stream",
     "text": [
      "<class 'pandas.core.frame.DataFrame'>\n",
      "RangeIndex: 3214 entries, 0 to 3213\n",
      "Data columns (total 5 columns):\n",
      "calls       3214 non-null float64\n",
      "minutes     3214 non-null float64\n",
      "messages    3214 non-null float64\n",
      "mb_used     3214 non-null float64\n",
      "is_ultra    3214 non-null int64\n",
      "dtypes: float64(4), int64(1)\n",
      "memory usage: 125.7 KB\n"
     ]
    }
   ],
   "source": [
    "#выведем на экран общую информацию о данных таблицы: \n",
    "df.info()"
   ]
  },
  {
   "cell_type": "markdown",
   "metadata": {},
   "source": [
    "В таблице нет пропусков, и типы данных соответствуют значениям в таблице. Предобработка нам не потребуется, можем перейти непосредственно к исследованию. "
   ]
  },
  {
   "cell_type": "markdown",
   "metadata": {},
   "source": [
    "**Вывод** \n",
    "\n",
    "На этапе знакомства с данными мы импортировали необходимые для дальнейшей работы библиотеки и алгоритмы, ознакомились с общей информацией о данных в таблице, выявили, что предобработка данных не потребуется, что существенно экономит нам время, и мы можем перейти к исследованию. \n",
    "\n",
    "Теперь нам нужно подготовить выборки из всего массива данных: обучающую, валидационную и тестовую. "
   ]
  },
  {
   "cell_type": "markdown",
   "metadata": {},
   "source": [
    "## Выборки: обучающая, валидационная и тестовая"
   ]
  },
  {
   "cell_type": "markdown",
   "metadata": {},
   "source": [
    "Так как тестовой выборки у нас нет, то нам необходимо **исходные данные разбить на 3 группы**: \n",
    "\n",
    "*60% данных- обучающая выборка, 20% - валидационная, 20% - тестовая*. \n",
    "\n",
    "С помощью функции `train_test_split` мы сначала отделим 20 % для тестовой выборки,  затем от оставшихся данных отделим еще 25% для валидационной выборки, остальное- обучающая. "
   ]
  },
  {
   "cell_type": "code",
   "execution_count": 5,
   "metadata": {
    "scrolled": true
   },
   "outputs": [
    {
     "data": {
      "text/plain": [
       "'Размер features и target обучающей выборки:'"
      ]
     },
     "metadata": {},
     "output_type": "display_data"
    },
    {
     "data": {
      "text/plain": [
       "(1928, 4)"
      ]
     },
     "metadata": {},
     "output_type": "display_data"
    },
    {
     "data": {
      "text/plain": [
       "(1928,)"
      ]
     },
     "metadata": {},
     "output_type": "display_data"
    },
    {
     "data": {
      "text/plain": [
       "'Размер features и target валидационной и тестовой выборок:'"
      ]
     },
     "metadata": {},
     "output_type": "display_data"
    },
    {
     "data": {
      "text/plain": [
       "(643, 4)"
      ]
     },
     "metadata": {},
     "output_type": "display_data"
    },
    {
     "data": {
      "text/plain": [
       "(643,)"
      ]
     },
     "metadata": {},
     "output_type": "display_data"
    },
    {
     "data": {
      "text/plain": [
       "(643, 4)"
      ]
     },
     "metadata": {},
     "output_type": "display_data"
    },
    {
     "data": {
      "text/plain": [
       "(643,)"
      ]
     },
     "metadata": {},
     "output_type": "display_data"
    }
   ],
   "source": [
    "#поделим массив данных на признаки (features_df) и целевой признак (target_df):\n",
    "features_df = df.drop('is_ultra', axis=1)\n",
    "target_df = df['is_ultra']\n",
    "#выделим 20% данных для тестовой выборки(features_test, target_test):\n",
    "features_without_test, features_test, target_without_test, target_test = train_test_split(\n",
    "    features_df, target_df, test_size=0.2, random_state=1000000, shuffle=True, stratify=target_df)\n",
    "#выделим 25% от оставшихся данных для валид-ной выборки(features_valid, target_valid),ост.- обучающая (features_train, target_train):\n",
    "features_train, features_valid, target_train, target_valid = train_test_split(\n",
    "    features_without_test, target_without_test, test_size=0.25, random_state=1000000, shuffle=True, stratify=target_without_test)\n",
    "#для проверки выведем на экран размеры получившихся выборок методом shape: \n",
    "display('Размер features и target обучающей выборки:', features_train.shape, target_train.shape)\n",
    "display('Размер features и target валидационной и тестовой выборок:', features_valid.shape, target_valid.shape, features_test.shape, target_test.shape)\n"
   ]
  },
  {
   "cell_type": "markdown",
   "metadata": {},
   "source": [
    "**Вывод**\n",
    "\n",
    "Итак, у нас есть 3 выборки: обучающая (features_train, target_train), тестовая (features_test, target_test) и валидационная (features_valid, target_valid), выделенные из исходного датасета в соотношении 3/1/1. \n",
    "И мы готовы к обучению моделей. "
   ]
  },
  {
   "cell_type": "markdown",
   "metadata": {},
   "source": [
    "## Исследование моделей"
   ]
  },
  {
   "cell_type": "markdown",
   "metadata": {},
   "source": [
    " В рамках нашего проекта мы будем исследовать **3 модели**: \n",
    "- *модель решающего дерева*; \n",
    "- *модель случайного леса* ;\n",
    "- *модель логистической регрессии*.\n",
    "\n",
    "Меняя гиперпараметры, добьемся наибольшего значения `accuracy` и выберем лучшую модель по этому показателю.\n",
    "\n",
    "Начнем с модели решающего дерева. "
   ]
  },
  {
   "cell_type": "markdown",
   "metadata": {},
   "source": [
    "### Модель \"Решающее дерево\""
   ]
  },
  {
   "cell_type": "code",
   "execution_count": null,
   "metadata": {},
   "outputs": [],
   "source": [
    "#с помощью модуля GridSearchCV подберем оптимальные гиперпараметры для модели решающего дерева (model1):\n",
    "model1 = DecisionTreeClassifier(random_state=1000000)\n",
    "parametrs1 = { 'max_depth': range (1,10),\n",
    "              'min_samples_leaf': range (1,8),\n",
    "              'min_samples_split': range (2,10,2) }\n",
    "grid1 = GridSearchCV(model1, parametrs1, cv=5)\n",
    "grid1.fit(features_train,target_train)\n",
    "display(grid1.best_params_)"
   ]
  },
  {
   "cell_type": "code",
   "execution_count": 7,
   "metadata": {},
   "outputs": [
    {
     "data": {
      "text/plain": [
       "'Accuracy модели решающего дерева на валидационной выборке:'"
      ]
     },
     "metadata": {},
     "output_type": "display_data"
    },
    {
     "data": {
      "text/plain": [
       "0.7854"
      ]
     },
     "metadata": {},
     "output_type": "display_data"
    }
   ],
   "source": [
    "#перезапишем нашу модель(model1) с оптимальными гиперпараметрами и найдем accuracy(accuracy1):\n",
    "model1 = DecisionTreeClassifier(random_state=1000000, max_depth=5, min_samples_leaf=1, min_samples_split=2)\n",
    "model1.fit(features_train,target_train)\n",
    "accuracy1 = model1.score(features_valid, target_valid).round(4)\n",
    "display('Accuracy модели решающего дерева на валидационной выборке:', accuracy1)"
   ]
  },
  {
   "cell_type": "markdown",
   "metadata": {},
   "source": [
    "### Модель \"Случайный лес\""
   ]
  },
  {
   "cell_type": "code",
   "execution_count": 8,
   "metadata": {},
   "outputs": [
    {
     "data": {
      "text/plain": [
       "{'max_depth': 9, 'n_estimators': 30}"
      ]
     },
     "metadata": {},
     "output_type": "display_data"
    }
   ],
   "source": [
    "#с помощью модуля GridSearchCV подберем оптимальные гиперпараметры для модели случайного леса (model2):\n",
    "model2 = RandomForestClassifier(random_state=1000000)\n",
    "parametrs2 = {'n_estimators': range (10, 51, 10),\n",
    "              'max_depth': range (1,11)}\n",
    "grid2 = GridSearchCV(model2, parametrs2, cv=5)\n",
    "grid2.fit(features_train,target_train)\n",
    "display(grid2.best_params_)"
   ]
  },
  {
   "cell_type": "code",
   "execution_count": 9,
   "metadata": {},
   "outputs": [
    {
     "data": {
      "text/plain": [
       "'Accuracy модели случайного леса на валидационной выборке:'"
      ]
     },
     "metadata": {},
     "output_type": "display_data"
    },
    {
     "data": {
      "text/plain": [
       "0.8072"
      ]
     },
     "metadata": {},
     "output_type": "display_data"
    }
   ],
   "source": [
    "#перезапишем нашу модель(model2) с оптимальными гиперпараметрами и найдем accuracy(accuracy2):\n",
    "model2 = RandomForestClassifier(random_state=1000000, n_estimators=30, max_depth=9)\n",
    "model2.fit(features_train,target_train)\n",
    "accuracy2 = model2.score(features_valid, target_valid).round(4)\n",
    "display('Accuracy модели случайного леса на валидационной выборке:', accuracy2)"
   ]
  },
  {
   "cell_type": "markdown",
   "metadata": {},
   "source": [
    "### Модель \"Логистическая регрессия\""
   ]
  },
  {
   "cell_type": "code",
   "execution_count": 10,
   "metadata": {},
   "outputs": [
    {
     "name": "stderr",
     "output_type": "stream",
     "text": [
      "/opt/conda/lib/python3.7/site-packages/sklearn/linear_model/logistic.py:432: FutureWarning: Default solver will be changed to 'lbfgs' in 0.22. Specify a solver to silence this warning.\n",
      "  FutureWarning)\n"
     ]
    },
    {
     "data": {
      "text/plain": [
       "'Accuracy модели логистической регрессии на валидационной выборке:'"
      ]
     },
     "metadata": {},
     "output_type": "display_data"
    },
    {
     "data": {
      "text/plain": [
       "0.7294"
      ]
     },
     "metadata": {},
     "output_type": "display_data"
    }
   ],
   "source": [
    "#обучим модель лог.регрессии ( model3) на обучающей выборке и посчитаем качество(accuracy3) на валидационных данных:\n",
    "model3 = LogisticRegression(random_state=1000000)\n",
    "model3.fit(features_train,target_train)\n",
    "accuracy3 = model3.score(features_valid, target_valid).round(4)\n",
    "display('Accuracy модели логистической регрессии на валидационной выборке:', accuracy3)"
   ]
  },
  {
   "cell_type": "markdown",
   "metadata": {},
   "source": [
    "**Вывод**"
   ]
  },
  {
   "cell_type": "markdown",
   "metadata": {},
   "source": [
    "Представим результаты исследования качества моделей в виде таблицы:"
   ]
  },
  {
   "cell_type": "code",
   "execution_count": null,
   "metadata": {},
   "outputs": [],
   "source": [
    "results = pd.DataFrame({'модель' : ['Решающее дерево', 'Случайный лес', 'Логистическая регрессия'],\n",
    "                       'accuracy' : [accuracy1, accuracy2, accuracy3]})\n",
    "results.sort_values(by='accuracy', ascending=False)"
   ]
  },
  {
   "cell_type": "markdown",
   "metadata": {},
   "source": [
    "Таким образом, модели \"Случайный лес\" и \"Решающее дерево\" по значению `accuracy` на валидационной выборке показали результат гораздо лучше, чем модель \"Логистическая регрессия\". По условию задачи доля правильных ответов не может быть ниже 0,75, поэтому для проверки качества на тестовой выборке мы возьмем модели \"Случайный лес\" и \"Решающее дерево\"(model1 и model2)."
   ]
  },
  {
   "cell_type": "markdown",
   "metadata": {},
   "source": [
    "## Проверка качества лучшей модели на тестовой выборке"
   ]
  },
  {
   "cell_type": "markdown",
   "metadata": {},
   "source": [
    "Проверим модели \"Случайный лес\" и \"Решающее дерево\" на тестовой выборке, найдем значения accuracy. "
   ]
  },
  {
   "cell_type": "code",
   "execution_count": 12,
   "metadata": {},
   "outputs": [
    {
     "data": {
      "text/plain": [
       "'Accuracy модели случайного леса на тестовой выборке:'"
      ]
     },
     "metadata": {},
     "output_type": "display_data"
    },
    {
     "data": {
      "text/plain": [
       "0.8087"
      ]
     },
     "metadata": {},
     "output_type": "display_data"
    },
    {
     "data": {
      "text/plain": [
       "'Accuracy модели решающего дерева на тестовой выборке:'"
      ]
     },
     "metadata": {},
     "output_type": "display_data"
    },
    {
     "data": {
      "text/plain": [
       "0.7947"
      ]
     },
     "metadata": {},
     "output_type": "display_data"
    }
   ],
   "source": [
    "#найдем значение accuracy на тестовой выборке для моделей \"Случайный лес\" и \"Решающее дерево\"(accuracy2_test, accuracy1_test):\n",
    "accuracy2_test = model2.score(features_test, target_test).round(4)\n",
    "display('Accuracy модели случайного леса на тестовой выборке:', accuracy2_test)\n",
    "accuracy1_test = model1.score(features_test, target_test).round(4)\n",
    "display('Accuracy модели решающего дерева на тестовой выборке:', accuracy1_test)"
   ]
  },
  {
   "cell_type": "markdown",
   "metadata": {},
   "source": [
    "**Вывод**\n",
    "\n",
    "Модель \"Случайный лес\" с гиперпараметрами 'max_depth'= 9 и 'n_estimators'= 30 показала наилучший результат. Модель дает верные предсказания в более чем 80% случаев. Это хороший результат. \n",
    "\n",
    "Теперь проверим нашу модель \"на адекватность\". Убедимся, что наша модель работает лучше, чем \"подбрасывание монеты\"."
   ]
  },
  {
   "cell_type": "markdown",
   "metadata": {},
   "source": [
    "Проведем обучение модели на объединенных данных обучающей и валидационной выборок, а затем посчитаем показатель Accuracy на тестовой выборке."
   ]
  },
  {
   "cell_type": "code",
   "execution_count": 35,
   "metadata": {},
   "outputs": [
    {
     "data": {
      "text/plain": [
       "'Accuracy модели случайного леса на тестовой выборке:'"
      ]
     },
     "metadata": {},
     "output_type": "display_data"
    },
    {
     "data": {
      "text/plain": [
       "0.8009"
      ]
     },
     "metadata": {},
     "output_type": "display_data"
    }
   ],
   "source": [
    "#обучим модель слчайного леса (model2) на объединенных данных обучающей и валидационной выборок (features_without_test, target_without_test):\n",
    "model2.fit(features_without_test, target_without_test)\n",
    "#найдем значение accuracy на тестовой выборке для модели \"Случайный лес\":\n",
    "accuracy2_test = model2.score(features_test, target_test).round(4)\n",
    "display('Accuracy модели случайного леса на тестовой выборке:', accuracy2_test)"
   ]
  },
  {
   "cell_type": "markdown",
   "metadata": {},
   "source": [
    "После переобучения модели на объединенных данных качество осталось практически на том же уровне."
   ]
  },
  {
   "cell_type": "markdown",
   "metadata": {},
   "source": [
    "## Проверка модели на адекватность"
   ]
  },
  {
   "cell_type": "markdown",
   "metadata": {},
   "source": [
    "Итак, нам необходимо сравнить результат работы нашей модели с тем, если бы мы проставляли 0 и 1 наугад,например, подбрасывая монету. "
   ]
  },
  {
   "cell_type": "code",
   "execution_count": 13,
   "metadata": {},
   "outputs": [
    {
     "data": {
      "text/plain": [
       "'Accuracy_score по данным target_test и random_predictions'"
      ]
     },
     "metadata": {},
     "output_type": "display_data"
    },
    {
     "data": {
      "text/plain": [
       "0.4946"
      ]
     },
     "metadata": {},
     "output_type": "display_data"
    },
    {
     "data": {
      "text/plain": [
       "'Accuracy_score по данным target_valid и random_predictions'"
      ]
     },
     "metadata": {},
     "output_type": "display_data"
    },
    {
     "data": {
      "text/plain": [
       "0.535"
      ]
     },
     "metadata": {},
     "output_type": "display_data"
    }
   ],
   "source": [
    "#создадим список с рандомными предсказаниями 0 и 1 (random_predictions):\n",
    "random_predictions = []\n",
    "for _ in range(643):\n",
    "    random_predictions.append(randint(0,1))\n",
    "#выведем на экран значение accuracy_score по данным target_test и random_predictions, а также target_valid и random_predictions : \n",
    "display('Accuracy_score по данным target_test и random_predictions', accuracy_score(target_test, random_predictions).round(4))\n",
    "display('Accuracy_score по данным target_valid и random_predictions', accuracy_score(target_valid, random_predictions).round(4))\n"
   ]
  },
  {
   "cell_type": "markdown",
   "metadata": {},
   "source": [
    "**Вывод**"
   ]
  },
  {
   "cell_type": "markdown",
   "metadata": {},
   "source": [
    "Представим результаты полученного значения accuracy в виде таблицы: "
   ]
  },
  {
   "cell_type": "code",
   "execution_count": 14,
   "metadata": {},
   "outputs": [
    {
     "data": {
      "text/html": [
       "<div>\n",
       "<style scoped>\n",
       "    .dataframe tbody tr th:only-of-type {\n",
       "        vertical-align: middle;\n",
       "    }\n",
       "\n",
       "    .dataframe tbody tr th {\n",
       "        vertical-align: top;\n",
       "    }\n",
       "\n",
       "    .dataframe thead th {\n",
       "        text-align: right;\n",
       "    }\n",
       "</style>\n",
       "<table border=\"1\" class=\"dataframe\">\n",
       "  <thead>\n",
       "    <tr style=\"text-align: right;\">\n",
       "      <th></th>\n",
       "      <th>выборки</th>\n",
       "      <th>accuracy модели случайного леса</th>\n",
       "      <th>accuracy c подбрасыванием монеты</th>\n",
       "    </tr>\n",
       "  </thead>\n",
       "  <tbody>\n",
       "    <tr>\n",
       "      <td>0</td>\n",
       "      <td>тестовая</td>\n",
       "      <td>0.8087</td>\n",
       "      <td>0.4946</td>\n",
       "    </tr>\n",
       "    <tr>\n",
       "      <td>1</td>\n",
       "      <td>валидационная</td>\n",
       "      <td>0.8072</td>\n",
       "      <td>0.5350</td>\n",
       "    </tr>\n",
       "  </tbody>\n",
       "</table>\n",
       "</div>"
      ],
      "text/plain": [
       "         выборки  accuracy модели случайного леса  \\\n",
       "0       тестовая                           0.8087   \n",
       "1  валидационная                           0.8072   \n",
       "\n",
       "   accuracy c подбрасыванием монеты  \n",
       "0                            0.4946  \n",
       "1                            0.5350  "
      ]
     },
     "execution_count": 14,
     "metadata": {},
     "output_type": "execute_result"
    }
   ],
   "source": [
    "results1 = pd.DataFrame({'выборки' : ['тестовая', 'валидационная'],\n",
    "                         'accuracy модели случайного леса' : [accuracy2_test, accuracy2],\n",
    "                         'accuracy c подбрасыванием монеты' : [accuracy_score(target_test, random_predictions).round(4), accuracy_score(target_valid, random_predictions).round(4)]})\n",
    "results1"
   ]
  },
  {
   "cell_type": "markdown",
   "metadata": {},
   "source": [
    "Результаты в таблице очень наглядно показывают нам, что в случае проставления тарифа путем \"подбрасывания монеты\" вероятность успеха чуть больше 50%, то есть 50/50 угадаем мы таким образом тариф или нет. Обученная же модель предсказывает верный тариф с вероятностью более 80 %."
   ]
  },
  {
   "cell_type": "markdown",
   "metadata": {},
   "source": [
    "Теперь проверимэффективность предсказаний модели, которая предсказывает всегда только 1 класс ( или 1, или 0), наиболее часто встречающийся в выборке. \n",
    "\n",
    "Проверим, каких значений больше в столбце `is_ultra`:"
   ]
  },
  {
   "cell_type": "code",
   "execution_count": 33,
   "metadata": {},
   "outputs": [
    {
     "data": {
      "text/plain": [
       "0    2229\n",
       "1     985\n",
       "Name: is_ultra, dtype: int64"
      ]
     },
     "execution_count": 33,
     "metadata": {},
     "output_type": "execute_result"
    }
   ],
   "source": [
    "#с помощью метода value_counts() посмотрим на распределение 0 и 1 в столбце is_ultra нашего датасета: \n",
    "df['is_ultra'].value_counts()"
   ]
  },
  {
   "cell_type": "markdown",
   "metadata": {},
   "source": [
    "Так как 0 больше, с помощью инструмента DummyClassifier создадим модель, котора будет предсказывать только 0 и посчитаем значение Accuracy_score:"
   ]
  },
  {
   "cell_type": "code",
   "execution_count": 31,
   "metadata": {},
   "outputs": [
    {
     "data": {
      "text/plain": [
       "'Accuracy_score по данным target_test и dummy_predictions0'"
      ]
     },
     "metadata": {},
     "output_type": "display_data"
    },
    {
     "data": {
      "text/plain": [
       "0.6936"
      ]
     },
     "metadata": {},
     "output_type": "display_data"
    },
    {
     "data": {
      "text/plain": [
       "'Accuracy_score по данным target_valid и dummy_predictions0'"
      ]
     },
     "metadata": {},
     "output_type": "display_data"
    },
    {
     "data": {
      "text/plain": [
       "0.6936"
      ]
     },
     "metadata": {},
     "output_type": "display_data"
    }
   ],
   "source": [
    "dummy_model = DummyClassifier(strategy=\"constant\", random_state=1000000, constant=0)\n",
    "dummy_model.fit(features_train, target_train)\n",
    "dummy_predictions0 = dummy_model.predict(features_valid)\n",
    "#выведем на экран значение accuracy_score по данным target_test и random_predictions, а также target_valid и random_predictions : \n",
    "display('Accuracy_score по данным target_test и dummy_predictions0', accuracy_score(target_test, dummy_predictions).round(4))\n",
    "display('Accuracy_score по данным target_valid и dummy_predictions0', accuracy_score(target_valid, dummy_predictions).round(4))\n"
   ]
  },
  {
   "cell_type": "markdown",
   "metadata": {},
   "source": [
    "Наша фиктивная модель, предсказывающая всегда только 0, показала уровень качества 69% и не может быть использована в качестве рекомендательной модели, так как качество низкое, и оно обучловлено только текущим распределением предпочтений пользоватлей по тарифам в представленной выборке, при изменении предпочтений пользователей эта модель перестанет работать.  \n",
    "\n",
    "Обученная же модель выдает показатели accuracy более 80 %, ее мы можем рекомендовать для дальнейшего использования. "
   ]
  },
  {
   "cell_type": "markdown",
   "metadata": {},
   "source": [
    "## Общий вывод"
   ]
  },
  {
   "cell_type": "markdown",
   "metadata": {},
   "source": [
    "Для подведения итогов исследования давайте еще раз вспомним задачу, которая стояла перед нами в начале исследования: \n",
    "\n",
    "Оператор мобильной связи «Мегалайн» выяснил: многие клиенты пользуются архивными тарифами. Они хотят построить систему, способную проанализировать поведение клиентов и предложить пользователям новый тариф: «Смарт» или «Ультра».\n",
    "\n",
    "В рамках исследовнаия мы взяли данные о поведении клиентов, которые уже перешли на эти тарифы, поделили их на 3 выборки: обучающую, валидационную и тестовую, и обучили по данным обучающей выборки 3 модели, подобрав им оптимальные гиперпараметры. \n",
    "\n",
    "Было выявлено, что модели \"Случайный лес\" и \"Решающее дерево\" по значению accuracy на валидационной выборке показали результат гораздо лучше, чем модель \"Логистическая регрессия\". По условию задачи доля правильных ответов не может быть ниже 0,75, поэтому для проверки качества на тестовой выборке мы взяли модели \"Случайный лес\" и \"Решающее дерево\". \n",
    "\n",
    "При проверке на тестовой выборке были получены почти такие же результаты, поэтому сделан вывод, что модель \"Случайный лес\" с гиперпараметрами 'max_depth'= 9 и 'n_estimators'= 30 показала наилучший результат. \n",
    "Модель дала верные предсказания в более чем 80% случаев. И это хороший результат.\n",
    "\n",
    "С целью проверки модели на адекватность мы сравнили результаты качества нашей модели с тем, если бы мы проставляли 0 и 1 наугад,например, подбрасывая монету. И выявили, что в случае проставления тарифа путем \"подбрасывания монеты\" вероятность успеха чуть больше 50%, то есть 50/50 угадаем мы таким образом тариф или нет. Обученная же модель предсказывает верный тариф с вероятностью более 80 %.\n",
    "\n",
    "Подводя итог всего вышесказанного, оператору мобильной связи \"Мегалайн\" мы бы рекомендовали с целью построения системы автоматического предложения клиентам новых тарифов «Смарт» или «Ультра» использовать модель \"Случайный лес\" из нашего исследования."
   ]
  }
 ],
 "metadata": {
  "ExecuteTimeLog": [
   {
    "duration": 414,
    "start_time": "2022-01-27T12:28:11.119Z"
   },
   {
    "duration": 1323,
    "start_time": "2022-01-27T12:28:17.067Z"
   },
   {
    "duration": 45,
    "start_time": "2022-01-27T12:28:18.676Z"
   },
   {
    "duration": 11,
    "start_time": "2022-01-27T12:31:01.455Z"
   },
   {
    "duration": 13,
    "start_time": "2022-01-27T12:56:28.056Z"
   },
   {
    "duration": 326,
    "start_time": "2022-01-27T12:56:49.642Z"
   },
   {
    "duration": 15,
    "start_time": "2022-01-27T12:56:53.720Z"
   },
   {
    "duration": 15,
    "start_time": "2022-01-27T12:57:16.826Z"
   },
   {
    "duration": 15,
    "start_time": "2022-01-27T12:57:24.468Z"
   },
   {
    "duration": 6,
    "start_time": "2022-01-27T12:57:35.517Z"
   },
   {
    "duration": 19,
    "start_time": "2022-01-27T13:04:08.292Z"
   },
   {
    "duration": 27,
    "start_time": "2022-01-27T13:05:58.905Z"
   },
   {
    "duration": 28,
    "start_time": "2022-01-27T13:06:13.089Z"
   },
   {
    "duration": 30,
    "start_time": "2022-01-27T13:06:21.955Z"
   },
   {
    "duration": 26,
    "start_time": "2022-01-27T13:08:49.721Z"
   },
   {
    "duration": 80,
    "start_time": "2022-01-27T13:09:08.211Z"
   },
   {
    "duration": 35,
    "start_time": "2022-01-27T13:09:19.071Z"
   },
   {
    "duration": 5,
    "start_time": "2022-01-27T13:11:43.122Z"
   },
   {
    "duration": 6862,
    "start_time": "2022-01-27T13:28:49.574Z"
   },
   {
    "duration": 6988,
    "start_time": "2022-01-27T13:29:01.925Z"
   },
   {
    "duration": 9781,
    "start_time": "2022-01-27T13:34:00.002Z"
   },
   {
    "duration": 9827,
    "start_time": "2022-01-27T13:34:31.928Z"
   },
   {
    "duration": 270,
    "start_time": "2022-01-27T13:40:47.226Z"
   },
   {
    "duration": 247,
    "start_time": "2022-01-27T13:40:56.830Z"
   },
   {
    "duration": 17,
    "start_time": "2022-01-27T13:41:06.580Z"
   },
   {
    "duration": 390,
    "start_time": "2022-01-27T13:46:10.406Z"
   },
   {
    "duration": 1826,
    "start_time": "2022-01-27T15:56:12.766Z"
   },
   {
    "duration": 98,
    "start_time": "2022-01-27T15:56:14.595Z"
   },
   {
    "duration": 12,
    "start_time": "2022-01-27T15:56:18.267Z"
   },
   {
    "duration": 35,
    "start_time": "2022-01-27T15:56:21.385Z"
   },
   {
    "duration": 13804,
    "start_time": "2022-01-27T15:56:25.131Z"
   },
   {
    "duration": 22,
    "start_time": "2022-01-27T15:56:42.687Z"
   },
   {
    "duration": 31059,
    "start_time": "2022-01-27T15:56:45.658Z"
   },
   {
    "duration": 201,
    "start_time": "2022-01-27T15:59:52.254Z"
   },
   {
    "duration": 648,
    "start_time": "2022-01-27T16:06:34.717Z"
   },
   {
    "duration": 351,
    "start_time": "2022-01-27T16:08:47.038Z"
   },
   {
    "duration": 27,
    "start_time": "2022-01-27T16:09:04.010Z"
   },
   {
    "duration": 35,
    "start_time": "2022-01-27T16:09:23.741Z"
   },
   {
    "duration": 252,
    "start_time": "2022-01-27T16:12:46.275Z"
   },
   {
    "duration": 27,
    "start_time": "2022-01-27T16:12:56.124Z"
   },
   {
    "duration": 150,
    "start_time": "2022-01-27T16:13:20.802Z"
   },
   {
    "duration": 38,
    "start_time": "2022-01-27T16:13:30.844Z"
   },
   {
    "duration": 34,
    "start_time": "2022-01-27T16:14:50.171Z"
   },
   {
    "duration": 207,
    "start_time": "2022-01-27T16:14:59.116Z"
   },
   {
    "duration": 16,
    "start_time": "2022-01-27T16:15:14.883Z"
   },
   {
    "duration": 35,
    "start_time": "2022-01-27T16:16:45.972Z"
   },
   {
    "duration": 36,
    "start_time": "2022-01-27T16:17:00.262Z"
   },
   {
    "duration": 25,
    "start_time": "2022-01-27T16:17:03.544Z"
   },
   {
    "duration": 352,
    "start_time": "2022-01-27T16:24:24.419Z"
   },
   {
    "duration": 31,
    "start_time": "2022-01-27T16:24:52.092Z"
   },
   {
    "duration": 16,
    "start_time": "2022-01-27T16:25:14.464Z"
   },
   {
    "duration": 22,
    "start_time": "2022-01-27T16:31:37.440Z"
   },
   {
    "duration": 29,
    "start_time": "2022-01-27T16:31:56.457Z"
   },
   {
    "duration": 5,
    "start_time": "2022-01-27T16:32:12.935Z"
   },
   {
    "duration": 17,
    "start_time": "2022-01-27T16:33:02.225Z"
   },
   {
    "duration": 16,
    "start_time": "2022-01-27T16:34:24.633Z"
   },
   {
    "duration": 18,
    "start_time": "2022-01-27T16:34:32.950Z"
   },
   {
    "duration": 21,
    "start_time": "2022-01-27T16:34:42.333Z"
   },
   {
    "duration": 140,
    "start_time": "2022-01-27T16:34:48.977Z"
   },
   {
    "duration": 24,
    "start_time": "2022-01-27T16:34:51.816Z"
   },
   {
    "duration": 16,
    "start_time": "2022-01-27T16:34:54.766Z"
   },
   {
    "duration": 24,
    "start_time": "2022-01-27T16:46:02.194Z"
   },
   {
    "duration": 25,
    "start_time": "2022-01-27T16:46:26.332Z"
   },
   {
    "duration": 142,
    "start_time": "2022-01-27T16:46:43.558Z"
   },
   {
    "duration": 135,
    "start_time": "2022-01-27T16:46:47.086Z"
   },
   {
    "duration": 25,
    "start_time": "2022-01-27T16:47:01.296Z"
   },
   {
    "duration": 22,
    "start_time": "2022-01-27T16:47:22.972Z"
   },
   {
    "duration": 203,
    "start_time": "2022-01-27T16:47:28.702Z"
   },
   {
    "duration": 25,
    "start_time": "2022-01-27T16:47:33.099Z"
   },
   {
    "duration": 13,
    "start_time": "2022-01-27T16:47:35.953Z"
   },
   {
    "duration": 30,
    "start_time": "2022-01-27T16:47:45.270Z"
   },
   {
    "duration": 21,
    "start_time": "2022-01-27T17:08:33.512Z"
   },
   {
    "duration": 9,
    "start_time": "2022-01-27T17:09:53.931Z"
   },
   {
    "duration": 5,
    "start_time": "2022-01-27T17:12:04.295Z"
   },
   {
    "duration": 7,
    "start_time": "2022-01-27T17:12:15.127Z"
   },
   {
    "duration": 5,
    "start_time": "2022-01-27T17:12:16.929Z"
   },
   {
    "duration": 13,
    "start_time": "2022-01-27T17:14:07.480Z"
   },
   {
    "duration": 16,
    "start_time": "2022-01-27T17:20:23.630Z"
   },
   {
    "duration": 15,
    "start_time": "2022-01-27T17:20:39.042Z"
   },
   {
    "duration": 15,
    "start_time": "2022-01-27T17:26:33.259Z"
   },
   {
    "duration": 121,
    "start_time": "2022-01-27T17:28:55.340Z"
   },
   {
    "duration": 14,
    "start_time": "2022-01-27T17:33:30.539Z"
   },
   {
    "duration": 16,
    "start_time": "2022-01-27T17:33:44.459Z"
   },
   {
    "duration": 746,
    "start_time": "2022-01-28T06:40:32.109Z"
   },
   {
    "duration": 609,
    "start_time": "2022-01-28T06:40:42.613Z"
   },
   {
    "duration": 34,
    "start_time": "2022-01-28T06:40:43.224Z"
   },
   {
    "duration": 7,
    "start_time": "2022-01-28T06:40:43.260Z"
   },
   {
    "duration": 21,
    "start_time": "2022-01-28T06:40:43.269Z"
   },
   {
    "duration": 6183,
    "start_time": "2022-01-28T06:40:43.292Z"
   },
   {
    "duration": 10,
    "start_time": "2022-01-28T06:40:49.477Z"
   },
   {
    "duration": 15047,
    "start_time": "2022-01-28T06:40:49.489Z"
   },
   {
    "duration": 96,
    "start_time": "2022-01-28T06:41:04.538Z"
   },
   {
    "duration": 12,
    "start_time": "2022-01-28T06:41:04.636Z"
   },
   {
    "duration": 15,
    "start_time": "2022-01-28T06:41:04.650Z"
   },
   {
    "duration": 15,
    "start_time": "2022-01-28T06:41:04.667Z"
   },
   {
    "duration": 8,
    "start_time": "2022-01-28T06:41:04.684Z"
   },
   {
    "duration": 8,
    "start_time": "2022-01-28T06:41:04.694Z"
   },
   {
    "duration": 239,
    "start_time": "2022-01-28T06:41:04.704Z"
   },
   {
    "duration": 205,
    "start_time": "2022-01-28T06:42:25.597Z"
   },
   {
    "duration": 220,
    "start_time": "2022-01-28T06:43:02.020Z"
   },
   {
    "duration": 232,
    "start_time": "2022-01-28T06:44:02.952Z"
   },
   {
    "duration": 241,
    "start_time": "2022-01-28T06:45:39.072Z"
   },
   {
    "duration": 68,
    "start_time": "2022-01-28T06:46:16.052Z"
   },
   {
    "duration": 202,
    "start_time": "2022-01-28T06:46:28.771Z"
   },
   {
    "duration": 199,
    "start_time": "2022-01-28T06:46:36.159Z"
   },
   {
    "duration": 228,
    "start_time": "2022-01-28T06:46:53.735Z"
   },
   {
    "duration": 7,
    "start_time": "2022-01-28T06:48:29.924Z"
   },
   {
    "duration": 70,
    "start_time": "2022-01-28T06:50:33.673Z"
   },
   {
    "duration": 13,
    "start_time": "2022-01-28T06:51:00.999Z"
   },
   {
    "duration": 14,
    "start_time": "2022-01-28T06:51:14.668Z"
   },
   {
    "duration": 14,
    "start_time": "2022-01-28T06:51:48.257Z"
   },
   {
    "duration": 12,
    "start_time": "2022-01-28T06:52:51.123Z"
   },
   {
    "duration": 4,
    "start_time": "2022-01-28T06:53:10.026Z"
   },
   {
    "duration": 11,
    "start_time": "2022-01-28T06:53:31.011Z"
   },
   {
    "duration": 6,
    "start_time": "2022-01-28T06:55:03.232Z"
   },
   {
    "duration": 6,
    "start_time": "2022-01-28T06:58:54.282Z"
   },
   {
    "duration": 115,
    "start_time": "2022-01-28T07:20:24.558Z"
   },
   {
    "duration": 108,
    "start_time": "2022-01-28T07:22:09.101Z"
   },
   {
    "duration": 18911,
    "start_time": "2022-01-28T07:23:50.430Z"
   },
   {
    "duration": 70,
    "start_time": "2022-01-28T07:25:58.299Z"
   }
  ],
  "kernelspec": {
   "display_name": "Python 3",
   "language": "python",
   "name": "python3"
  },
  "language_info": {
   "codemirror_mode": {
    "name": "ipython",
    "version": 3
   },
   "file_extension": ".py",
   "mimetype": "text/x-python",
   "name": "python",
   "nbconvert_exporter": "python",
   "pygments_lexer": "ipython3",
   "version": "3.8.8"
  },
  "toc": {
   "base_numbering": 1,
   "nav_menu": {
    "height": "143px",
    "width": "333px"
   },
   "number_sections": true,
   "sideBar": true,
   "skip_h1_title": true,
   "title_cell": "Содержание",
   "title_sidebar": "Содержание",
   "toc_cell": true,
   "toc_position": {},
   "toc_section_display": true,
   "toc_window_display": true
  },
  "widgets": {
   "application/vnd.jupyter.widget-state+json": {
    "state": {},
    "version_major": 2,
    "version_minor": 0
   }
  }
 },
 "nbformat": 4,
 "nbformat_minor": 2
}
